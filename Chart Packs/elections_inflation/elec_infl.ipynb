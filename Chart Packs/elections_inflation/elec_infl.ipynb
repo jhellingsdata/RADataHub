{
 "cells": [
  {
   "cell_type": "code",
   "execution_count": 14,
   "metadata": {},
   "outputs": [],
   "source": [
    "import pandas \n",
    "import requests\n",
    "from bs4 import BeautifulSoup\n",
    "import html2text\n",
    "import time"
   ]
  },
  {
   "cell_type": "code",
   "execution_count": 21,
   "metadata": {},
   "outputs": [],
   "source": [
    "import openai\n",
    "from openai import OpenAI\n",
    "import os\n",
    "import json\n",
    "from datetime import datetime\n",
    "\n",
    "with open(\"/Users/finn/Documents/keys/openai\", \"r\") as f:\n",
    "    key = f.read().strip()\n",
    "    openai.api_key = key\n",
    "    # set OPENAI_API_KEY environment variable to the key\n",
    "    os.environ[\"OPENAI_API_KEY\"] = key\n",
    "\n",
    "client = OpenAI()"
   ]
  },
  {
   "cell_type": "code",
   "execution_count": 2,
   "metadata": {},
   "outputs": [],
   "source": [
    "url = \"https://en.wikipedia.org/wiki/List_of_elections_in_2024#Europe\"\n",
    "\n",
    "req = requests.get(url)\n",
    "\n",
    "soup = BeautifulSoup(req.content, 'html.parser')"
   ]
  },
  {
   "cell_type": "code",
   "execution_count": null,
   "metadata": {},
   "outputs": [
    {
     "data": {
      "text/html": [
       "<div>\n",
       "<style scoped>\n",
       "    .dataframe tbody tr th:only-of-type {\n",
       "        vertical-align: middle;\n",
       "    }\n",
       "\n",
       "    .dataframe tbody tr th {\n",
       "        vertical-align: top;\n",
       "    }\n",
       "\n",
       "    .dataframe thead th {\n",
       "        text-align: right;\n",
       "    }\n",
       "</style>\n",
       "<table border=\"1\" class=\"dataframe\">\n",
       "  <thead>\n",
       "    <tr style=\"text-align: right;\">\n",
       "      <th></th>\n",
       "      <th>country</th>\n",
       "      <th>election</th>\n",
       "      <th>url</th>\n",
       "    </tr>\n",
       "  </thead>\n",
       "  <tbody>\n",
       "    <tr>\n",
       "      <th>44</th>\n",
       "      <td>United States</td>\n",
       "      <td>2024 United States elections, 5 November\\n2024...</td>\n",
       "      <td>/wiki/2024_United_States_elections</td>\n",
       "    </tr>\n",
       "    <tr>\n",
       "      <th>45</th>\n",
       "      <td>United States</td>\n",
       "      <td>2024 United States gubernatorial elections</td>\n",
       "      <td>/wiki/2024_United_States_gubernatorial_elections</td>\n",
       "    </tr>\n",
       "    <tr>\n",
       "      <th>46</th>\n",
       "      <td>United States</td>\n",
       "      <td>2024 United States House of Representatives el...</td>\n",
       "      <td>/wiki/2024_United_States_House_of_Representati...</td>\n",
       "    </tr>\n",
       "    <tr>\n",
       "      <th>47</th>\n",
       "      <td>United States</td>\n",
       "      <td>2024 United States presidential election</td>\n",
       "      <td>/wiki/2024_United_States_presidential_election</td>\n",
       "    </tr>\n",
       "    <tr>\n",
       "      <th>48</th>\n",
       "      <td>United States</td>\n",
       "      <td>2024 United States Senate elections</td>\n",
       "      <td>/wiki/2024_United_States_Senate_elections</td>\n",
       "    </tr>\n",
       "    <tr>\n",
       "      <th>49</th>\n",
       "      <td>United States</td>\n",
       "      <td>2024 United States state legislative elections</td>\n",
       "      <td>/wiki/2024_United_States_state_legislative_ele...</td>\n",
       "    </tr>\n",
       "  </tbody>\n",
       "</table>\n",
       "</div>"
      ],
      "text/plain": [
       "          country                                           election  \\\n",
       "44  United States  2024 United States elections, 5 November\\n2024...   \n",
       "45  United States         2024 United States gubernatorial elections   \n",
       "46  United States  2024 United States House of Representatives el...   \n",
       "47  United States           2024 United States presidential election   \n",
       "48  United States                2024 United States Senate elections   \n",
       "49  United States     2024 United States state legislative elections   \n",
       "\n",
       "                                                  url  \n",
       "44                 /wiki/2024_United_States_elections  \n",
       "45   /wiki/2024_United_States_gubernatorial_elections  \n",
       "46  /wiki/2024_United_States_House_of_Representati...  \n",
       "47     /wiki/2024_United_States_presidential_election  \n",
       "48          /wiki/2024_United_States_Senate_elections  \n",
       "49  /wiki/2024_United_States_state_legislative_ele...  "
      ]
     },
     "execution_count": 12,
     "metadata": {},
     "output_type": "execute_result"
    }
   ],
   "source": [
    "# Identify all <li> which have a <span class=\"flagicon\"> child\n",
    "li_elements = soup.find_all('li')\n",
    "li_elements = [li for li in li_elements if li.find('span', class_='flagicon')]\n",
    "li_elements[0]\n",
    "\n",
    "elections = []\n",
    "for li in li_elements:\n",
    "    country_name = li.find('a').text\n",
    "    # find the <ul> which is the elections\n",
    "    ul = li.find('ul')\n",
    "    # find all <li> which are the elections\n",
    "    for li in ul.find_all('li'):\n",
    "        election_name = li.text\n",
    "        link = li.find('a').get('href')\n",
    "        elections.append({\n",
    "            'country': country_name,\n",
    "            'election': election_name,\n",
    "            'url': link\n",
    "        })\n",
    "\n",
    "df = pandas.DataFrame(elections)\n",
    "df.query(\"country == 'United States'\")\n",
    "\n",
    "# TODO: Filter for just OECD elections - try using PyCountry or similar to get the country codes\n",
    "\n",
    "# TODO: Pass this to ChatGPT or the API or the OpenAI playground and get it to identify just the national legislative/head of state/government elections\n"
   ]
  },
  {
   "cell_type": "code",
   "execution_count": 16,
   "metadata": {},
   "outputs": [
    {
     "name": "stdout",
     "output_type": "stream",
     "text": [
      "0/181\n",
      "10/181\n",
      "20/181\n",
      "30/181\n",
      "40/181\n",
      "50/181\n",
      "60/181\n",
      "70/181\n",
      "80/181\n",
      "90/181\n",
      "100/181\n",
      "110/181\n",
      "120/181\n",
      "130/181\n",
      "140/181\n",
      "150/181\n",
      "160/181\n",
      "170/181\n",
      "180/181\n"
     ]
    }
   ],
   "source": [
    "# Dump the files to /election_html_dump\n",
    "\n",
    "for i, election in enumerate(elections):\n",
    "    if i % 10 == 0:\n",
    "        print(f\"{i}/{len(elections)}\")\n",
    "    url = f\"https://en.wikipedia.org{election['url']}\"\n",
    "    req = requests.get(url)\n",
    "    with open(f\"election_html_dump/{election['url'].replace('/wiki/', '')}.html\", 'w') as f:\n",
    "        f.write(req.text)\n",
    "    time.sleep(0.2) "
   ]
  },
  {
   "cell_type": "code",
   "execution_count": 18,
   "metadata": {},
   "outputs": [
    {
     "name": "stdout",
     "output_type": "stream",
     "text": [
      "0/181\n",
      "10/181\n",
      "20/181\n",
      "30/181\n",
      "40/181\n",
      "50/181\n",
      "60/181\n",
      "70/181\n",
      "80/181\n",
      "90/181\n",
      "100/181\n",
      "110/181\n",
      "120/181\n",
      "130/181\n",
      "140/181\n",
      "150/181\n",
      "160/181\n",
      "170/181\n",
      "180/181\n"
     ]
    }
   ],
   "source": [
    "# convert to markdown\n",
    "for i, election in enumerate(elections):\n",
    "    if i % 10 == 0:\n",
    "        print(f\"{i}/{len(elections)}\")\n",
    "    with open(f\"election_html_dump/{election['url'].replace('/wiki/', '')}.html\", 'r') as f:\n",
    "        html = f.read()\n",
    "    h = html2text.HTML2Text()\n",
    "    h.ignore_links = True\n",
    "    markdown = h.handle(html)\n",
    "    with open(f\"election_md_dump/{election['url'].replace('/wiki/', '')}.md\", 'w') as f:\n",
    "        f.write(markdown)"
   ]
  },
  {
   "cell_type": "code",
   "execution_count": 30,
   "metadata": {},
   "outputs": [
    {
     "name": "stdout",
     "output_type": "stream",
     "text": [
      "0/181\n",
      "10/181\n",
      "20/181\n",
      "30/181\n",
      "40/181\n",
      "50/181\n",
      "60/181\n",
      "70/181\n",
      "80/181\n",
      "90/181\n",
      "100/181\n",
      "110/181\n",
      "120/181\n",
      "130/181\n",
      "140/181\n",
      "150/181\n",
      "160/181\n",
      "170/181\n",
      "180/181\n"
     ]
    }
   ],
   "source": [
    "\n",
    "# Send it off to the OpenAI API\n",
    "\n",
    "for i, election in enumerate(elections):\n",
    "\n",
    "    if i % 10 == 0:\n",
    "        print(f\"{i}/{len(elections)}\")\n",
    "\n",
    "    with open(f\"election_md_dump/{election['url'].replace('/wiki/', '')}.md\", 'r') as f:\n",
    "        markdown = f.read()\n",
    "    \n",
    "    prompt = f\"\"\"\n",
    "        Following is markdown text for an election. Identify the swing that the incumbent party faced. Return data as JSON:\n",
    "        {{\n",
    "            \"election\": \"2024 X presidential election\",\n",
    "            \"party\": \"party name\",\n",
    "            \"country\": \"country name\",\n",
    "            \"iso3\" : e.g. \"USA\",\n",
    "            \"democracy\": free | partly free | not free,\n",
    "            \"economy\": \"developed | developing | emerging\",\n",
    "            \"election_type\": national legislative | local | individual head of state | individual head of government | multinational (e.g. EU) | other\",\n",
    "            \"swing\": 0.04,\n",
    "            \"message\": space for possible acknowledgements or notes (e.g. note if there isn't a comparable election)\n",
    "        }}\n",
    "\n",
    "        Page text:\n",
    "        {markdown}\n",
    "    \"\"\"\n",
    "\n",
    "\n",
    "\n",
    "    response = client.chat.completions.create(\n",
    "        model=\"gpt-4o\",\n",
    "        messages=[\n",
    "            {\"role\": \"system\", \"content\": prompt}\n",
    "        ],\n",
    "        temperature=0.2,  # Reduced temperature for deterministic output\n",
    "        max_tokens=4095,\n",
    "        top_p=1,\n",
    "        frequency_penalty=0,\n",
    "        presence_penalty=0,\n",
    "        response_format={\"type\": \"json_object\"}\n",
    "    )\n",
    "\n",
    "    with open(f\"openai_dump/{election['url'].replace('/wiki/', '')}.json\", 'w') as f:\n",
    "        json.dump(response.to_dict(), f)"
   ]
  },
  {
   "cell_type": "code",
   "execution_count": 27,
   "metadata": {},
   "outputs": [
    {
     "data": {
      "text/plain": [
       "{'id': 'chatcmpl-AQzqRRPEIzFdi4ppYZKjy7m418vD4',\n",
       " 'choices': [{'finish_reason': 'stop',\n",
       "   'index': 0,\n",
       "   'logprobs': None,\n",
       "   'message': {'content': '{\\n    \"election\": \"2024 Tuvaluan general election\",\\n    \"party\": \"Independents\",\\n    \"swing\": 0.0,\\n    \"message\": \"There are no political parties in Tuvalu and all candidates run as independents, so there is no comparable swing for a party.\"\\n}',\n",
       "    'refusal': None,\n",
       "    'role': 'assistant'}}],\n",
       " 'created': 1730997623,\n",
       " 'model': 'gpt-4o-2024-08-06',\n",
       " 'object': 'chat.completion',\n",
       " 'system_fingerprint': 'fp_159d8341cc',\n",
       " 'usage': {'completion_tokens': 66,\n",
       "  'prompt_tokens': 7691,\n",
       "  'total_tokens': 7757,\n",
       "  'prompt_tokens_details': {'cached_tokens': 7552, 'audio_tokens': 0},\n",
       "  'completion_tokens_details': {'reasoning_tokens': 0,\n",
       "   'audio_tokens': 0,\n",
       "   'accepted_prediction_tokens': 0,\n",
       "   'rejected_prediction_tokens': 0}}}"
      ]
     },
     "execution_count": 27,
     "metadata": {},
     "output_type": "execute_result"
    }
   ],
   "source": [
    "response.to_dict()"
   ]
  },
  {
   "cell_type": "code",
   "execution_count": 24,
   "metadata": {},
   "outputs": [
    {
     "data": {
      "text/plain": [
       "ChatCompletion(id='chatcmpl-AQznWyL4LWEI9R42TsQ4TAzr0zQXM', choices=[Choice(finish_reason='stop', index=0, logprobs=None, message=ChatCompletionMessage(content='{\\n    \"election\": \"2024 Tuvaluan general election\",\\n    \"party\": \"Independents\",\\n    \"swing\": 0.0,\\n    \"message\": \"There are no political parties in Tuvalu and all candidates run as independents, so there is no comparable swing for an incumbent party.\"\\n}', refusal=None, role='assistant', function_call=None, tool_calls=None))], created=1730997442, model='gpt-4o-2024-08-06', object='chat.completion', service_tier=None, system_fingerprint='fp_159d8341cc', usage=CompletionUsage(completion_tokens=67, prompt_tokens=7691, total_tokens=7758, prompt_tokens_details={'cached_tokens': 0, 'audio_tokens': 0}, completion_tokens_details={'reasoning_tokens': 0, 'audio_tokens': 0, 'accepted_prediction_tokens': 0, 'rejected_prediction_tokens': 0}))"
      ]
     },
     "execution_count": 24,
     "metadata": {},
     "output_type": "execute_result"
    }
   ],
   "source": [
    "response"
   ]
  },
  {
   "cell_type": "code",
   "execution_count": 6,
   "metadata": {},
   "outputs": [
    {
     "data": {
      "text/plain": [
       "<li><span class=\"flagicon\"><span class=\"mw-image-border\" typeof=\"mw:File\"><span><img alt=\"\" class=\"mw-file-element\" data-file-height=\"600\" data-file-width=\"1200\" decoding=\"async\" height=\"12\" src=\"//upload.wikimedia.org/wikipedia/commons/thumb/3/38/Flag_of_Tuvalu.svg/23px-Flag_of_Tuvalu.svg.png\" srcset=\"//upload.wikimedia.org/wikipedia/commons/thumb/3/38/Flag_of_Tuvalu.svg/35px-Flag_of_Tuvalu.svg.png 1.5x, //upload.wikimedia.org/wikipedia/commons/thumb/3/38/Flag_of_Tuvalu.svg/46px-Flag_of_Tuvalu.svg.png 2x\" width=\"23\"/></span></span> </span><a href=\"/wiki/Tuvalu\" title=\"Tuvalu\">Tuvalu</a>\n",
       "<ul><li><a href=\"/wiki/2024_Tuvaluan_general_election\" title=\"2024 Tuvaluan general election\">2024 Tuvaluan general election</a>, 26 January</li></ul></li>"
      ]
     },
     "execution_count": 6,
     "metadata": {},
     "output_type": "execute_result"
    }
   ],
   "source": [
    "li"
   ]
  }
 ],
 "metadata": {
  "kernelspec": {
   "display_name": "base",
   "language": "python",
   "name": "python3"
  },
  "language_info": {
   "codemirror_mode": {
    "name": "ipython",
    "version": 3
   },
   "file_extension": ".py",
   "mimetype": "text/x-python",
   "name": "python",
   "nbconvert_exporter": "python",
   "pygments_lexer": "ipython3",
   "version": "3.11.4"
  }
 },
 "nbformat": 4,
 "nbformat_minor": 2
}
