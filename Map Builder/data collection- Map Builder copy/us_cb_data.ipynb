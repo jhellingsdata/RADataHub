{
 "cells": [
  {
   "cell_type": "code",
   "execution_count": 1,
   "metadata": {},
   "outputs": [
    {
     "name": "stderr",
     "output_type": "stream",
     "text": [
      "/Users/gabrielmelmed/Library/Python/3.9/lib/python/site-packages/urllib3/__init__.py:34: NotOpenSSLWarning: urllib3 v2.0 only supports OpenSSL 1.1.1+, currently the 'ssl' module is compiled with 'LibreSSL 2.8.3'. See: https://github.com/urllib3/urllib3/issues/3020\n",
      "  warnings.warn(\n"
     ]
    }
   ],
   "source": [
    "import requests, csv \n",
    "import us\n",
    "import pandas as pd\n",
    "import time\n",
    "from easymoney.money import EasyPeasy\n",
    "import json"
   ]
  },
  {
   "cell_type": "markdown",
   "metadata": {},
   "source": [
    "# I. Downloading the variables table\n",
    "\n",
    "i. The first step is to the dictionary table for the ACS's variables and save it to a csv.The aim is to create a 'relational database' with a separate tables for values."
   ]
  },
  {
   "cell_type": "code",
   "execution_count": 3,
   "metadata": {},
   "outputs": [],
   "source": [
    "# change !! into a space in the label col\n",
    "vars_df['label'] = vars_df['label'].str.replace('!!', ' ')"
   ]
  },
  {
   "cell_type": "code",
   "execution_count": 4,
   "metadata": {},
   "outputs": [
    {
     "data": {
      "text/html": [
       "<div>\n",
       "<style scoped>\n",
       "    .dataframe tbody tr th:only-of-type {\n",
       "        vertical-align: middle;\n",
       "    }\n",
       "\n",
       "    .dataframe tbody tr th {\n",
       "        vertical-align: top;\n",
       "    }\n",
       "\n",
       "    .dataframe thead th {\n",
       "        text-align: right;\n",
       "    }\n",
       "</style>\n",
       "<table border=\"1\" class=\"dataframe\">\n",
       "  <thead>\n",
       "    <tr style=\"text-align: right;\">\n",
       "      <th></th>\n",
       "      <th>index</th>\n",
       "      <th>label</th>\n",
       "    </tr>\n",
       "  </thead>\n",
       "  <tbody>\n",
       "    <tr>\n",
       "      <th>0</th>\n",
       "      <td>for</td>\n",
       "      <td>Census API FIPS 'for' clause</td>\n",
       "    </tr>\n",
       "    <tr>\n",
       "      <th>1</th>\n",
       "      <td>in</td>\n",
       "      <td>Census API FIPS 'in' clause</td>\n",
       "    </tr>\n",
       "    <tr>\n",
       "      <th>2</th>\n",
       "      <td>ucgid</td>\n",
       "      <td>Uniform Census Geography Identifier clause</td>\n",
       "    </tr>\n",
       "    <tr>\n",
       "      <th>3</th>\n",
       "      <td>S0804_C04_068E</td>\n",
       "      <td>Estimate Public transportation (excluding taxi...</td>\n",
       "    </tr>\n",
       "    <tr>\n",
       "      <th>4</th>\n",
       "      <td>S0503_C02_078E</td>\n",
       "      <td>Estimate Foreign born; Born in Europe Civilian...</td>\n",
       "    </tr>\n",
       "    <tr>\n",
       "      <th>...</th>\n",
       "      <td>...</td>\n",
       "      <td>...</td>\n",
       "    </tr>\n",
       "    <tr>\n",
       "      <th>18822</th>\n",
       "      <td>S2402_C02_035E</td>\n",
       "      <td>Estimate Male Full-time, year-round civilian e...</td>\n",
       "    </tr>\n",
       "    <tr>\n",
       "      <th>18823</th>\n",
       "      <td>S1002_C04_004E</td>\n",
       "      <td>Estimate 60 years and over Percent distributio...</td>\n",
       "    </tr>\n",
       "    <tr>\n",
       "      <th>18824</th>\n",
       "      <td>S0601_C02_009E</td>\n",
       "      <td>Estimate Native; born in state of residence To...</td>\n",
       "    </tr>\n",
       "    <tr>\n",
       "      <th>18825</th>\n",
       "      <td>S2411_C01_012E</td>\n",
       "      <td>Estimate Median earnings (dollars) Civilian em...</td>\n",
       "    </tr>\n",
       "    <tr>\n",
       "      <th>18826</th>\n",
       "      <td>S2302_C04_014E</td>\n",
       "      <td>Estimate Percent Families with own children un...</td>\n",
       "    </tr>\n",
       "  </tbody>\n",
       "</table>\n",
       "<p>18827 rows × 2 columns</p>\n",
       "</div>"
      ],
      "text/plain": [
       "                index                                              label\n",
       "0                 for                       Census API FIPS 'for' clause\n",
       "1                  in                        Census API FIPS 'in' clause\n",
       "2               ucgid         Uniform Census Geography Identifier clause\n",
       "3      S0804_C04_068E  Estimate Public transportation (excluding taxi...\n",
       "4      S0503_C02_078E  Estimate Foreign born; Born in Europe Civilian...\n",
       "...               ...                                                ...\n",
       "18822  S2402_C02_035E  Estimate Male Full-time, year-round civilian e...\n",
       "18823  S1002_C04_004E  Estimate 60 years and over Percent distributio...\n",
       "18824  S0601_C02_009E  Estimate Native; born in state of residence To...\n",
       "18825  S2411_C01_012E  Estimate Median earnings (dollars) Civilian em...\n",
       "18826  S2302_C04_014E  Estimate Percent Families with own children un...\n",
       "\n",
       "[18827 rows x 2 columns]"
      ]
     },
     "execution_count": 4,
     "metadata": {},
     "output_type": "execute_result"
    }
   ],
   "source": [
    "vars_df = vars_df[['index', 'label']]\n",
    "vars_df"
   ]
  },
  {
   "cell_type": "code",
   "execution_count": 5,
   "metadata": {},
   "outputs": [],
   "source": [
    "# save as a csv\n",
    "vars_df.to_csv(\"census_vars.csv\", index=False)"
   ]
  },
  {
   "cell_type": "code",
   "execution_count": null,
   "metadata": {},
   "outputs": [],
   "source": [
    "# find the variables that contain the word \"rent\"\n",
    "rent_vars = vars_df[vars_df['label'].str.contains('rent', case=False)]\n",
    "\n",
    "rent_vars"
   ]
  },
  {
   "cell_type": "code",
   "execution_count": null,
   "metadata": {},
   "outputs": [
    {
     "data": {
      "text/html": [
       "<div>\n",
       "<style scoped>\n",
       "    .dataframe tbody tr th:only-of-type {\n",
       "        vertical-align: middle;\n",
       "    }\n",
       "\n",
       "    .dataframe tbody tr th {\n",
       "        vertical-align: top;\n",
       "    }\n",
       "\n",
       "    .dataframe thead th {\n",
       "        text-align: right;\n",
       "    }\n",
       "</style>\n",
       "<table border=\"1\" class=\"dataframe\">\n",
       "  <thead>\n",
       "    <tr style=\"text-align: right;\">\n",
       "      <th></th>\n",
       "      <th>index</th>\n",
       "      <th>label</th>\n",
       "    </tr>\n",
       "  </thead>\n",
       "  <tbody>\n",
       "    <tr>\n",
       "      <th>285</th>\n",
       "      <td>S0506_C01_103E</td>\n",
       "      <td>Estimate Total INCOME IN THE PAST 12 MONTHS (I...</td>\n",
       "    </tr>\n",
       "    <tr>\n",
       "      <th>295</th>\n",
       "      <td>S0506_C01_105E</td>\n",
       "      <td>Estimate Total INCOME IN THE PAST 12 MONTHS (I...</td>\n",
       "    </tr>\n",
       "    <tr>\n",
       "      <th>302</th>\n",
       "      <td>S0506_C01_107E</td>\n",
       "      <td>Estimate Total INCOME IN THE PAST 12 MONTHS (I...</td>\n",
       "    </tr>\n",
       "    <tr>\n",
       "      <th>419</th>\n",
       "      <td>S0502_C01_108E</td>\n",
       "      <td>Estimate Total INCOME IN THE PAST 12 MONTHS (I...</td>\n",
       "    </tr>\n",
       "    <tr>\n",
       "      <th>435</th>\n",
       "      <td>S0502_C01_106E</td>\n",
       "      <td>Estimate Total INCOME IN THE PAST 12 MONTHS (I...</td>\n",
       "    </tr>\n",
       "    <tr>\n",
       "      <th>...</th>\n",
       "      <td>...</td>\n",
       "      <td>...</td>\n",
       "    </tr>\n",
       "    <tr>\n",
       "      <th>17800</th>\n",
       "      <td>S0503_C03_099E</td>\n",
       "      <td>Estimate Foreign born; Born in Northern and We...</td>\n",
       "    </tr>\n",
       "    <tr>\n",
       "      <th>18316</th>\n",
       "      <td>S2601A_C04_102E</td>\n",
       "      <td>Estimate Noninstitutionalized group quarters p...</td>\n",
       "    </tr>\n",
       "    <tr>\n",
       "      <th>18332</th>\n",
       "      <td>S2601A_C04_101E</td>\n",
       "      <td>Estimate Noninstitutionalized group quarters p...</td>\n",
       "    </tr>\n",
       "    <tr>\n",
       "      <th>18739</th>\n",
       "      <td>S0506_C05_099E</td>\n",
       "      <td>Estimate Foreign born; Born in Caribbean INCOM...</td>\n",
       "    </tr>\n",
       "    <tr>\n",
       "      <th>18763</th>\n",
       "      <td>S1901_C02_013E</td>\n",
       "      <td>Estimate Families Mean income (dollars)</td>\n",
       "    </tr>\n",
       "  </tbody>\n",
       "</table>\n",
       "<p>276 rows × 2 columns</p>\n",
       "</div>"
      ],
      "text/plain": [
       "                 index                                              label\n",
       "285     S0506_C01_103E  Estimate Total INCOME IN THE PAST 12 MONTHS (I...\n",
       "295     S0506_C01_105E  Estimate Total INCOME IN THE PAST 12 MONTHS (I...\n",
       "302     S0506_C01_107E  Estimate Total INCOME IN THE PAST 12 MONTHS (I...\n",
       "419     S0502_C01_108E  Estimate Total INCOME IN THE PAST 12 MONTHS (I...\n",
       "435     S0502_C01_106E  Estimate Total INCOME IN THE PAST 12 MONTHS (I...\n",
       "...                ...                                                ...\n",
       "17800   S0503_C03_099E  Estimate Foreign born; Born in Northern and We...\n",
       "18316  S2601A_C04_102E  Estimate Noninstitutionalized group quarters p...\n",
       "18332  S2601A_C04_101E  Estimate Noninstitutionalized group quarters p...\n",
       "18739   S0506_C05_099E  Estimate Foreign born; Born in Caribbean INCOM...\n",
       "18763   S1901_C02_013E            Estimate Families Mean income (dollars)\n",
       "\n",
       "[276 rows x 2 columns]"
      ]
     },
     "execution_count": 18,
     "metadata": {},
     "output_type": "execute_result"
    }
   ],
   "source": [
    "income_vars = vars_df[vars_df['label'].str.contains('income', case=False) & vars_df['label'].str.contains('mean', case=False)]\n",
    "income_vars"
   ]
  },
  {
   "cell_type": "code",
   "execution_count": 15,
   "metadata": {},
   "outputs": [
    {
     "data": {
      "text/html": [
       "<div>\n",
       "<style scoped>\n",
       "    .dataframe tbody tr th:only-of-type {\n",
       "        vertical-align: middle;\n",
       "    }\n",
       "\n",
       "    .dataframe tbody tr th {\n",
       "        vertical-align: top;\n",
       "    }\n",
       "\n",
       "    .dataframe thead th {\n",
       "        text-align: right;\n",
       "    }\n",
       "</style>\n",
       "<table border=\"1\" class=\"dataframe\">\n",
       "  <thead>\n",
       "    <tr style=\"text-align: right;\">\n",
       "      <th></th>\n",
       "      <th>index</th>\n",
       "      <th>label</th>\n",
       "    </tr>\n",
       "  </thead>\n",
       "  <tbody>\n",
       "    <tr>\n",
       "      <th>3253</th>\n",
       "      <td>S1903_C03_015E</td>\n",
       "      <td>Estimate Median income (dollars) FAMILIES Fami...</td>\n",
       "    </tr>\n",
       "  </tbody>\n",
       "</table>\n",
       "</div>"
      ],
      "text/plain": [
       "               index                                              label\n",
       "3253  S1903_C03_015E  Estimate Median income (dollars) FAMILIES Fami..."
      ]
     },
     "execution_count": 15,
     "metadata": {},
     "output_type": "execute_result"
    }
   ],
   "source": [
    "# find the lablel for index B21004_001E\n",
    "vars_df[vars_df['index'] == 'S1903_C03_015E']"
   ]
  },
  {
   "cell_type": "code",
   "execution_count": null,
   "metadata": {},
   "outputs": [],
   "source": [
    "api_key  = \"9330018ae4a2bd20da22ced1281145d9405dc349\" # replace with your API key"
   ]
  },
  {
   "cell_type": "markdown",
   "metadata": {},
   "source": [
    "ii. Store the values we want in a list"
   ]
  },
  {
   "cell_type": "code",
   "execution_count": null,
   "metadata": {},
   "outputs": [],
   "source": [
    "vars_of_interest = [\n",
    "    \"S1903_C03_015E\", # 'Estimate Median income (dollars) FAMILIES Families'\n",
    "    \"S1903_C03_001E\", # 'Estimate Mean income (dollars) HOUSEHOLD INCOME All households'\n",
    "    \n",
    "]"
   ]
  },
  {
   "cell_type": "code",
   "execution_count": 21,
   "metadata": {},
   "outputs": [
    {
     "name": "stdout",
     "output_type": "stream",
     "text": [
      "2010: https://api.census.gov/data/2010/acs/acs5?get=NAME,B21004_001E&for=county:*&in=state:*&key=9330018ae4a2bd20da22ced1281145d9405dc349\n",
      "2011: https://api.census.gov/data/2011/acs/acs5?get=NAME,B21004_001E&for=county:*&in=state:*&key=9330018ae4a2bd20da22ced1281145d9405dc349\n",
      "2012: https://api.census.gov/data/2012/acs/acs5?get=NAME,B21004_001E&for=county:*&in=state:*&key=9330018ae4a2bd20da22ced1281145d9405dc349\n",
      "2013: https://api.census.gov/data/2013/acs/acs5?get=NAME,B21004_001E&for=county:*&in=state:*&key=9330018ae4a2bd20da22ced1281145d9405dc349\n",
      "2014: https://api.census.gov/data/2014/acs/acs5?get=NAME,B21004_001E&for=county:*&in=state:*&key=9330018ae4a2bd20da22ced1281145d9405dc349\n",
      "2015: https://api.census.gov/data/2015/acs/acs5?get=NAME,B21004_001E&for=county:*&in=state:*&key=9330018ae4a2bd20da22ced1281145d9405dc349\n",
      "2016: https://api.census.gov/data/2016/acs/acs5?get=NAME,B21004_001E&for=county:*&in=state:*&key=9330018ae4a2bd20da22ced1281145d9405dc349\n",
      "2017: https://api.census.gov/data/2017/acs/acs5?get=NAME,B21004_001E&for=county:*&in=state:*&key=9330018ae4a2bd20da22ced1281145d9405dc349\n",
      "2018: https://api.census.gov/data/2018/acs/acs5?get=NAME,B21004_001E&for=county:*&in=state:*&key=9330018ae4a2bd20da22ced1281145d9405dc349\n",
      "2019: https://api.census.gov/data/2019/acs/acs5?get=NAME,B21004_001E&for=county:*&in=state:*&key=9330018ae4a2bd20da22ced1281145d9405dc349\n",
      "2022: https://api.census.gov/data/2022/acs/acs5?get=NAME,B21004_001E&for=county:*&in=state:*&key=9330018ae4a2bd20da22ced1281145d9405dc349\n"
     ]
    }
   ],
   "source": [
    "dataset = 'acs/acs5' # American Community Survey 5-year data\n",
    "series = \"B21004_001E\" # Median Income\n",
    "\n",
    "\n",
    "responses = [] \n",
    "for year in list(range(2010, 2020))+[2022]: # Loop through years, there's no data for 2020\n",
    "    data_url = f'https://api.census.gov/data/{year}/{dataset}?get=NAME,{series}&for=county:*&in=state:*&key={api_key}'\n",
    "    print(f'{year}: {data_url}')\n",
    "    df = pd.read_json(data_url) # Read data from API into a pandas dataframe\n",
    "    df.columns = df.iloc[0] # Set first row as column names\n",
    "    df = df[1:] # Remove first row\n",
    "    df[\"Year\"] = year\n",
    "    time.sleep(1) # Sleep for 1 second to avoid hitting the API too fast\n",
    "    responses.append(df)"
   ]
  },
  {
   "cell_type": "code",
   "execution_count": 17,
   "metadata": {},
   "outputs": [],
   "source": [
    "url=f\"https://api.census.gov/data/2022/acs/acs5?get=NAME,B21004_001E&for=county:*&in=state:*&key={api_key}\"\n",
    "\n",
    "response = requests.get(url)\n",
    "\n",
    "d = response.json()"
   ]
  },
  {
   "cell_type": "code",
   "execution_count": 20,
   "metadata": {},
   "outputs": [
    {
     "data": {
      "text/plain": [
       "'https://api.census.gov/data/2022/acs/acs5?get=NAME,B21004_001E&for=county:*&in=state:*&key=9330018ae4a2bd20da22ced1281145d9405dc349'"
      ]
     },
     "execution_count": 20,
     "metadata": {},
     "output_type": "execute_result"
    }
   ],
   "source": [
    "url"
   ]
  },
  {
   "cell_type": "code",
   "execution_count": null,
   "metadata": {},
   "outputs": [],
   "source": [
    "https://api.census.gov/data/2010/acs/acs5?get=NAME,B21004_001E&for=country:*&in=state:*&key=9330018ae4a2bd20da22ced1281145d9405dc349"
   ]
  },
  {
   "cell_type": "markdown",
   "metadata": {},
   "source": [
    "### Population\n",
    "\n",
    "Population is easier. We can just use static download links "
   ]
  },
  {
   "cell_type": "code",
   "execution_count": null,
   "metadata": {},
   "outputs": [],
   "source": [
    "county_pop_url = \"//www2.census.gov/programs-surveys/popest/tables/2020-2023/counties/totals/co-est2023-pop.xlsx\"\n",
    "\n"
   ]
  },
  {
   "cell_type": "markdown",
   "metadata": {},
   "source": []
  }
 ],
 "metadata": {
  "kernelspec": {
   "display_name": "Python 3",
   "language": "python",
   "name": "python3"
  },
  "language_info": {
   "codemirror_mode": {
    "name": "ipython",
    "version": 3
   },
   "file_extension": ".py",
   "mimetype": "text/x-python",
   "name": "python",
   "nbconvert_exporter": "python",
   "pygments_lexer": "ipython3",
   "version": "3.9.6"
  },
  "orig_nbformat": 4
 },
 "nbformat": 4,
 "nbformat_minor": 2
}
