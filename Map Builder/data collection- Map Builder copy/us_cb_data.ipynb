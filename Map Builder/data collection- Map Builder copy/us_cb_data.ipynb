{
 "cells": [
  {
   "cell_type": "code",
   "execution_count": 2,
   "metadata": {},
   "outputs": [
    {
     "name": "stderr",
     "output_type": "stream",
     "text": [
      "/Users/gabrielmelmed/Library/Python/3.9/lib/python/site-packages/urllib3/__init__.py:34: NotOpenSSLWarning: urllib3 v2.0 only supports OpenSSL 1.1.1+, currently the 'ssl' module is compiled with 'LibreSSL 2.8.3'. See: https://github.com/urllib3/urllib3/issues/3020\n",
      "  warnings.warn(\n"
     ]
    }
   ],
   "source": [
    "import requests, csv \n",
    "import us\n",
    "import pandas as pd\n",
    "import time\n",
    "from easymoney.money import EasyPeasy\n",
    "import json"
   ]
  },
  {
   "cell_type": "markdown",
   "metadata": {},
   "source": [
    "# I. Downloading the variables table\n",
    "\n",
    "i. The first step is to the dictionary table for the ACS's variables and save it to a csv. The aim is to create a 'relational database' with a separate tables for values."
   ]
  },
  {
   "cell_type": "code",
   "execution_count": 5,
   "metadata": {},
   "outputs": [],
   "source": [
    "vars_df = pd.read_csv('census_vars.csv')"
   ]
  },
  {
   "cell_type": "code",
   "execution_count": 6,
   "metadata": {},
   "outputs": [],
   "source": [
    "# change !! into a space in the label col\n",
    "vars_df['label'] = vars_df['label'].str.replace('!!', ' ')"
   ]
  },
  {
   "cell_type": "code",
   "execution_count": 7,
   "metadata": {},
   "outputs": [
    {
     "data": {
      "text/html": [
       "<div>\n",
       "<style scoped>\n",
       "    .dataframe tbody tr th:only-of-type {\n",
       "        vertical-align: middle;\n",
       "    }\n",
       "\n",
       "    .dataframe tbody tr th {\n",
       "        vertical-align: top;\n",
       "    }\n",
       "\n",
       "    .dataframe thead th {\n",
       "        text-align: right;\n",
       "    }\n",
       "</style>\n",
       "<table border=\"1\" class=\"dataframe\">\n",
       "  <thead>\n",
       "    <tr style=\"text-align: right;\">\n",
       "      <th></th>\n",
       "      <th>index</th>\n",
       "      <th>label</th>\n",
       "    </tr>\n",
       "  </thead>\n",
       "  <tbody>\n",
       "    <tr>\n",
       "      <th>0</th>\n",
       "      <td>for</td>\n",
       "      <td>Census API FIPS 'for' clause</td>\n",
       "    </tr>\n",
       "    <tr>\n",
       "      <th>1</th>\n",
       "      <td>in</td>\n",
       "      <td>Census API FIPS 'in' clause</td>\n",
       "    </tr>\n",
       "    <tr>\n",
       "      <th>2</th>\n",
       "      <td>ucgid</td>\n",
       "      <td>Uniform Census Geography Identifier clause</td>\n",
       "    </tr>\n",
       "    <tr>\n",
       "      <th>3</th>\n",
       "      <td>S0804_C04_068E</td>\n",
       "      <td>Estimate Public transportation (excluding taxi...</td>\n",
       "    </tr>\n",
       "    <tr>\n",
       "      <th>4</th>\n",
       "      <td>S0503_C02_078E</td>\n",
       "      <td>Estimate Foreign born; Born in Europe Civilian...</td>\n",
       "    </tr>\n",
       "    <tr>\n",
       "      <th>...</th>\n",
       "      <td>...</td>\n",
       "      <td>...</td>\n",
       "    </tr>\n",
       "    <tr>\n",
       "      <th>18822</th>\n",
       "      <td>S2402_C02_035E</td>\n",
       "      <td>Estimate Male Full-time, year-round civilian e...</td>\n",
       "    </tr>\n",
       "    <tr>\n",
       "      <th>18823</th>\n",
       "      <td>S1002_C04_004E</td>\n",
       "      <td>Estimate 60 years and over Percent distributio...</td>\n",
       "    </tr>\n",
       "    <tr>\n",
       "      <th>18824</th>\n",
       "      <td>S0601_C02_009E</td>\n",
       "      <td>Estimate Native; born in state of residence To...</td>\n",
       "    </tr>\n",
       "    <tr>\n",
       "      <th>18825</th>\n",
       "      <td>S2411_C01_012E</td>\n",
       "      <td>Estimate Median earnings (dollars) Civilian em...</td>\n",
       "    </tr>\n",
       "    <tr>\n",
       "      <th>18826</th>\n",
       "      <td>S2302_C04_014E</td>\n",
       "      <td>Estimate Percent Families with own children un...</td>\n",
       "    </tr>\n",
       "  </tbody>\n",
       "</table>\n",
       "<p>18827 rows × 2 columns</p>\n",
       "</div>"
      ],
      "text/plain": [
       "                index                                              label\n",
       "0                 for                       Census API FIPS 'for' clause\n",
       "1                  in                        Census API FIPS 'in' clause\n",
       "2               ucgid         Uniform Census Geography Identifier clause\n",
       "3      S0804_C04_068E  Estimate Public transportation (excluding taxi...\n",
       "4      S0503_C02_078E  Estimate Foreign born; Born in Europe Civilian...\n",
       "...               ...                                                ...\n",
       "18822  S2402_C02_035E  Estimate Male Full-time, year-round civilian e...\n",
       "18823  S1002_C04_004E  Estimate 60 years and over Percent distributio...\n",
       "18824  S0601_C02_009E  Estimate Native; born in state of residence To...\n",
       "18825  S2411_C01_012E  Estimate Median earnings (dollars) Civilian em...\n",
       "18826  S2302_C04_014E  Estimate Percent Families with own children un...\n",
       "\n",
       "[18827 rows x 2 columns]"
      ]
     },
     "execution_count": 7,
     "metadata": {},
     "output_type": "execute_result"
    }
   ],
   "source": [
    "vars_df = vars_df[['index', 'label']]\n",
    "vars_df"
   ]
  },
  {
   "cell_type": "code",
   "execution_count": null,
   "metadata": {},
   "outputs": [],
   "source": [
    "# save as a csv\n",
    "# vars_df.to_csv(\"census_vars.csv\", index=False)"
   ]
  },
  {
   "cell_type": "code",
   "execution_count": null,
   "metadata": {},
   "outputs": [],
   "source": [
    "# find the variables that contain the word \"rent\"\n",
    "rent_vars = vars_df[vars_df['label'].str.contains('rent', case=False)]\n",
    "\n",
    "rent_vars"
   ]
  },
  {
   "cell_type": "code",
   "execution_count": null,
   "metadata": {},
   "outputs": [
    {
     "data": {
      "text/html": [
       "<div>\n",
       "<style scoped>\n",
       "    .dataframe tbody tr th:only-of-type {\n",
       "        vertical-align: middle;\n",
       "    }\n",
       "\n",
       "    .dataframe tbody tr th {\n",
       "        vertical-align: top;\n",
       "    }\n",
       "\n",
       "    .dataframe thead th {\n",
       "        text-align: right;\n",
       "    }\n",
       "</style>\n",
       "<table border=\"1\" class=\"dataframe\">\n",
       "  <thead>\n",
       "    <tr style=\"text-align: right;\">\n",
       "      <th></th>\n",
       "      <th>index</th>\n",
       "      <th>label</th>\n",
       "    </tr>\n",
       "  </thead>\n",
       "  <tbody>\n",
       "    <tr>\n",
       "      <th>285</th>\n",
       "      <td>S0506_C01_103E</td>\n",
       "      <td>Estimate Total INCOME IN THE PAST 12 MONTHS (I...</td>\n",
       "    </tr>\n",
       "    <tr>\n",
       "      <th>295</th>\n",
       "      <td>S0506_C01_105E</td>\n",
       "      <td>Estimate Total INCOME IN THE PAST 12 MONTHS (I...</td>\n",
       "    </tr>\n",
       "    <tr>\n",
       "      <th>302</th>\n",
       "      <td>S0506_C01_107E</td>\n",
       "      <td>Estimate Total INCOME IN THE PAST 12 MONTHS (I...</td>\n",
       "    </tr>\n",
       "    <tr>\n",
       "      <th>419</th>\n",
       "      <td>S0502_C01_108E</td>\n",
       "      <td>Estimate Total INCOME IN THE PAST 12 MONTHS (I...</td>\n",
       "    </tr>\n",
       "    <tr>\n",
       "      <th>435</th>\n",
       "      <td>S0502_C01_106E</td>\n",
       "      <td>Estimate Total INCOME IN THE PAST 12 MONTHS (I...</td>\n",
       "    </tr>\n",
       "    <tr>\n",
       "      <th>...</th>\n",
       "      <td>...</td>\n",
       "      <td>...</td>\n",
       "    </tr>\n",
       "    <tr>\n",
       "      <th>17800</th>\n",
       "      <td>S0503_C03_099E</td>\n",
       "      <td>Estimate Foreign born; Born in Northern and We...</td>\n",
       "    </tr>\n",
       "    <tr>\n",
       "      <th>18316</th>\n",
       "      <td>S2601A_C04_102E</td>\n",
       "      <td>Estimate Noninstitutionalized group quarters p...</td>\n",
       "    </tr>\n",
       "    <tr>\n",
       "      <th>18332</th>\n",
       "      <td>S2601A_C04_101E</td>\n",
       "      <td>Estimate Noninstitutionalized group quarters p...</td>\n",
       "    </tr>\n",
       "    <tr>\n",
       "      <th>18739</th>\n",
       "      <td>S0506_C05_099E</td>\n",
       "      <td>Estimate Foreign born; Born in Caribbean INCOM...</td>\n",
       "    </tr>\n",
       "    <tr>\n",
       "      <th>18763</th>\n",
       "      <td>S1901_C02_013E</td>\n",
       "      <td>Estimate Families Mean income (dollars)</td>\n",
       "    </tr>\n",
       "  </tbody>\n",
       "</table>\n",
       "<p>276 rows × 2 columns</p>\n",
       "</div>"
      ],
      "text/plain": [
       "                 index                                              label\n",
       "285     S0506_C01_103E  Estimate Total INCOME IN THE PAST 12 MONTHS (I...\n",
       "295     S0506_C01_105E  Estimate Total INCOME IN THE PAST 12 MONTHS (I...\n",
       "302     S0506_C01_107E  Estimate Total INCOME IN THE PAST 12 MONTHS (I...\n",
       "419     S0502_C01_108E  Estimate Total INCOME IN THE PAST 12 MONTHS (I...\n",
       "435     S0502_C01_106E  Estimate Total INCOME IN THE PAST 12 MONTHS (I...\n",
       "...                ...                                                ...\n",
       "17800   S0503_C03_099E  Estimate Foreign born; Born in Northern and We...\n",
       "18316  S2601A_C04_102E  Estimate Noninstitutionalized group quarters p...\n",
       "18332  S2601A_C04_101E  Estimate Noninstitutionalized group quarters p...\n",
       "18739   S0506_C05_099E  Estimate Foreign born; Born in Caribbean INCOM...\n",
       "18763   S1901_C02_013E            Estimate Families Mean income (dollars)\n",
       "\n",
       "[276 rows x 2 columns]"
      ]
     },
     "execution_count": 18,
     "metadata": {},
     "output_type": "execute_result"
    }
   ],
   "source": [
    "income_vars = vars_df[vars_df['label'].str.contains('income', case=False) & vars_df['label'].str.contains('mean', case=False)]\n",
    "income_vars"
   ]
  },
  {
   "cell_type": "code",
   "execution_count": 8,
   "metadata": {},
   "outputs": [
    {
     "data": {
      "text/html": [
       "<div>\n",
       "<style scoped>\n",
       "    .dataframe tbody tr th:only-of-type {\n",
       "        vertical-align: middle;\n",
       "    }\n",
       "\n",
       "    .dataframe tbody tr th {\n",
       "        vertical-align: top;\n",
       "    }\n",
       "\n",
       "    .dataframe thead th {\n",
       "        text-align: right;\n",
       "    }\n",
       "</style>\n",
       "<table border=\"1\" class=\"dataframe\">\n",
       "  <thead>\n",
       "    <tr style=\"text-align: right;\">\n",
       "      <th></th>\n",
       "      <th>index</th>\n",
       "      <th>label</th>\n",
       "    </tr>\n",
       "  </thead>\n",
       "  <tbody>\n",
       "    <tr>\n",
       "      <th>4</th>\n",
       "      <td>S0503_C02_078E</td>\n",
       "      <td>Estimate Foreign born; Born in Europe Civilian...</td>\n",
       "    </tr>\n",
       "    <tr>\n",
       "      <th>5</th>\n",
       "      <td>S2603_C07_076E</td>\n",
       "      <td>Estimate Military quarters/military ships WORL...</td>\n",
       "    </tr>\n",
       "    <tr>\n",
       "      <th>6</th>\n",
       "      <td>S0701PR_C01_028E</td>\n",
       "      <td>Estimate Total MARITAL STATUS Population 15 ye...</td>\n",
       "    </tr>\n",
       "    <tr>\n",
       "      <th>8</th>\n",
       "      <td>S0503_C02_077E</td>\n",
       "      <td>Estimate Foreign born; Born in Europe Civilian...</td>\n",
       "    </tr>\n",
       "    <tr>\n",
       "      <th>9</th>\n",
       "      <td>S2603_C07_075E</td>\n",
       "      <td>Estimate Military quarters/military ships PLAC...</td>\n",
       "    </tr>\n",
       "    <tr>\n",
       "      <th>...</th>\n",
       "      <td>...</td>\n",
       "      <td>...</td>\n",
       "    </tr>\n",
       "    <tr>\n",
       "      <th>18819</th>\n",
       "      <td>S0601_C02_008E</td>\n",
       "      <td>Estimate Native; born in state of residence To...</td>\n",
       "    </tr>\n",
       "    <tr>\n",
       "      <th>18820</th>\n",
       "      <td>S2411_C01_011E</td>\n",
       "      <td>Estimate Median earnings (dollars) Civilian em...</td>\n",
       "    </tr>\n",
       "    <tr>\n",
       "      <th>18822</th>\n",
       "      <td>S2402_C02_035E</td>\n",
       "      <td>Estimate Male Full-time, year-round civilian e...</td>\n",
       "    </tr>\n",
       "    <tr>\n",
       "      <th>18824</th>\n",
       "      <td>S0601_C02_009E</td>\n",
       "      <td>Estimate Native; born in state of residence To...</td>\n",
       "    </tr>\n",
       "    <tr>\n",
       "      <th>18825</th>\n",
       "      <td>S2411_C01_012E</td>\n",
       "      <td>Estimate Median earnings (dollars) Civilian em...</td>\n",
       "    </tr>\n",
       "  </tbody>\n",
       "</table>\n",
       "<p>12393 rows × 2 columns</p>\n",
       "</div>"
      ],
      "text/plain": [
       "                  index                                              label\n",
       "4        S0503_C02_078E  Estimate Foreign born; Born in Europe Civilian...\n",
       "5        S2603_C07_076E  Estimate Military quarters/military ships WORL...\n",
       "6      S0701PR_C01_028E  Estimate Total MARITAL STATUS Population 15 ye...\n",
       "8        S0503_C02_077E  Estimate Foreign born; Born in Europe Civilian...\n",
       "9        S2603_C07_075E  Estimate Military quarters/military ships PLAC...\n",
       "...                 ...                                                ...\n",
       "18819    S0601_C02_008E  Estimate Native; born in state of residence To...\n",
       "18820    S2411_C01_011E  Estimate Median earnings (dollars) Civilian em...\n",
       "18822    S2402_C02_035E  Estimate Male Full-time, year-round civilian e...\n",
       "18824    S0601_C02_009E  Estimate Native; born in state of residence To...\n",
       "18825    S2411_C01_012E  Estimate Median earnings (dollars) Civilian em...\n",
       "\n",
       "[12393 rows x 2 columns]"
      ]
     },
     "execution_count": 8,
     "metadata": {},
     "output_type": "execute_result"
    }
   ],
   "source": [
    "pop_vars = vars_df[vars_df['label'].str.contains('population', case=False)]\n",
    "pop_vars"
   ]
  },
  {
   "cell_type": "code",
   "execution_count": null,
   "metadata": {},
   "outputs": [
    {
     "ename": "SyntaxError",
     "evalue": "invalid syntax (1553123308.py, line 1)",
     "output_type": "error",
     "traceback": [
      "\u001b[0;36m  Cell \u001b[0;32mIn[10], line 1\u001b[0;36m\u001b[0m\n\u001b[0;31m    pip install census\u001b[0m\n\u001b[0m        ^\u001b[0m\n\u001b[0;31mSyntaxError\u001b[0m\u001b[0;31m:\u001b[0m invalid syntax\n"
     ]
    }
   ],
   "source": [
    "pip install census\n"
   ]
  },
  {
   "cell_type": "code",
   "execution_count": 11,
   "metadata": {},
   "outputs": [
    {
     "name": "stdout",
     "output_type": "stream",
     "text": [
      "Defaulting to user installation because normal site-packages is not writeable\n",
      "Requirement already satisfied: us in /Users/gabrielmelmed/Library/Python/3.9/lib/python/site-packages (3.2.0)\n",
      "Requirement already satisfied: jellyfish in /Users/gabrielmelmed/Library/Python/3.9/lib/python/site-packages (from us) (1.1.0)\n",
      "Note: you may need to restart the kernel to use updated packages.\n"
     ]
    }
   ],
   "source": [
    "pip install us"
   ]
  },
  {
   "cell_type": "code",
   "execution_count": null,
   "metadata": {},
   "outputs": [],
   "source": []
  },
  {
   "cell_type": "code",
   "execution_count": 7,
   "metadata": {},
   "outputs": [],
   "source": [
    "api_key  = \"9330018ae4a2bd20da22ced1281145d9405dc349\" # replace with your API key"
   ]
  },
  {
   "cell_type": "markdown",
   "metadata": {},
   "source": [
    "ii. Store the values we want in a list"
   ]
  },
  {
   "cell_type": "code",
   "execution_count": null,
   "metadata": {},
   "outputs": [],
   "source": [
    "vars_of_interest = [\n",
    "    \"S1903_C03_015E\", # 'Estimate Median income (dollars) FAMILIES Families'\n",
    "    \"S1903_C03_001E\", # 'Estimate Mean income (dollars) HOUSEHOLD INCOME All households'\n",
    "    \n",
    "]"
   ]
  },
  {
   "cell_type": "code",
   "execution_count": 21,
   "metadata": {},
   "outputs": [
    {
     "name": "stdout",
     "output_type": "stream",
     "text": [
      "2010: https://api.census.gov/data/2010/acs/acs5?get=NAME,B21004_001E&for=county:*&in=state:*&key=9330018ae4a2bd20da22ced1281145d9405dc349\n",
      "2011: https://api.census.gov/data/2011/acs/acs5?get=NAME,B21004_001E&for=county:*&in=state:*&key=9330018ae4a2bd20da22ced1281145d9405dc349\n",
      "2012: https://api.census.gov/data/2012/acs/acs5?get=NAME,B21004_001E&for=county:*&in=state:*&key=9330018ae4a2bd20da22ced1281145d9405dc349\n",
      "2013: https://api.census.gov/data/2013/acs/acs5?get=NAME,B21004_001E&for=county:*&in=state:*&key=9330018ae4a2bd20da22ced1281145d9405dc349\n",
      "2014: https://api.census.gov/data/2014/acs/acs5?get=NAME,B21004_001E&for=county:*&in=state:*&key=9330018ae4a2bd20da22ced1281145d9405dc349\n",
      "2015: https://api.census.gov/data/2015/acs/acs5?get=NAME,B21004_001E&for=county:*&in=state:*&key=9330018ae4a2bd20da22ced1281145d9405dc349\n",
      "2016: https://api.census.gov/data/2016/acs/acs5?get=NAME,B21004_001E&for=county:*&in=state:*&key=9330018ae4a2bd20da22ced1281145d9405dc349\n",
      "2017: https://api.census.gov/data/2017/acs/acs5?get=NAME,B21004_001E&for=county:*&in=state:*&key=9330018ae4a2bd20da22ced1281145d9405dc349\n",
      "2018: https://api.census.gov/data/2018/acs/acs5?get=NAME,B21004_001E&for=county:*&in=state:*&key=9330018ae4a2bd20da22ced1281145d9405dc349\n",
      "2019: https://api.census.gov/data/2019/acs/acs5?get=NAME,B21004_001E&for=county:*&in=state:*&key=9330018ae4a2bd20da22ced1281145d9405dc349\n",
      "2022: https://api.census.gov/data/2022/acs/acs5?get=NAME,B21004_001E&for=county:*&in=state:*&key=9330018ae4a2bd20da22ced1281145d9405dc349\n"
     ]
    }
   ],
   "source": [
    "dataset = 'acs/acs5' # American Community Survey 5-year data\n",
    "series = \"B21004_001E\" # Median Income\n",
    "\n",
    "\n",
    "responses = [] \n",
    "for year in list(range(2010, 2020))+[2022]: # Loop through years, there's no data for 2020\n",
    "    data_url = f'https://api.census.gov/data/{year}/{dataset}?get=NAME,{series}&for=county:*&in=state:*&key={api_key}'\n",
    "    print(f'{year}: {data_url}')\n",
    "    df = pd.read_json(data_url) # Read data from API into a pandas dataframe\n",
    "    df.columns = df.iloc[0] # Set first row as column names\n",
    "    df = df[1:] # Remove first row\n",
    "    df[\"Year\"] = year\n",
    "    time.sleep(1) # Sleep for 1 second to avoid hitting the API too fast\n",
    "    responses.append(df)"
   ]
  },
  {
   "cell_type": "code",
   "execution_count": 17,
   "metadata": {},
   "outputs": [],
   "source": [
    "url=f\"https://api.census.gov/data/2022/acs/acs5?get=NAME,B21004_001E&for=county:*&in=state:*&key={api_key}\"\n",
    "\n",
    "response = requests.get(url)\n",
    "\n",
    "d = response.json()"
   ]
  },
  {
   "cell_type": "code",
   "execution_count": 20,
   "metadata": {},
   "outputs": [
    {
     "data": {
      "text/plain": [
       "'https://api.census.gov/data/2022/acs/acs5?get=NAME,B21004_001E&for=county:*&in=state:*&key=9330018ae4a2bd20da22ced1281145d9405dc349'"
      ]
     },
     "execution_count": 20,
     "metadata": {},
     "output_type": "execute_result"
    }
   ],
   "source": [
    "url"
   ]
  },
  {
   "cell_type": "code",
   "execution_count": null,
   "metadata": {},
   "outputs": [],
   "source": [
    "https://api.census.gov/data/2010/acs/acs5?get=NAME,B21004_001E&for=country:*&in=state:*&key=9330018ae4a2bd20da22ced1281145d9405dc349"
   ]
  },
  {
   "cell_type": "markdown",
   "metadata": {},
   "source": [
    "### Population\n",
    "\n",
    "Population is easier. We can just use static download links "
   ]
  },
  {
   "cell_type": "code",
   "execution_count": 1,
   "metadata": {},
   "outputs": [],
   "source": [
    "county_pop_url = \"//www2.census.gov/programs-surveys/popest/tables/2020-2023/counties/totals/co-est2023-pop.xlsx\"\n",
    "\n"
   ]
  },
  {
   "cell_type": "code",
   "execution_count": 2,
   "metadata": {},
   "outputs": [],
   "source": [
    "import pandas as pd"
   ]
  },
  {
   "cell_type": "code",
   "execution_count": 3,
   "metadata": {},
   "outputs": [
    {
     "ename": "FileNotFoundError",
     "evalue": "[Errno 2] No such file or directory: '//www2.census.gov/programs-surveys/popest/tables/2020-2023/counties/totals/co-est2023-pop.xlsx'",
     "output_type": "error",
     "traceback": [
      "\u001b[0;31m---------------------------------------------------------------------------\u001b[0m",
      "\u001b[0;31mFileNotFoundError\u001b[0m                         Traceback (most recent call last)",
      "Cell \u001b[0;32mIn[3], line 1\u001b[0m\n\u001b[0;32m----> 1\u001b[0m pops \u001b[38;5;241m=\u001b[39m \u001b[43mpd\u001b[49m\u001b[38;5;241;43m.\u001b[39;49m\u001b[43mread_excel\u001b[49m\u001b[43m(\u001b[49m\u001b[43mcounty_pop_url\u001b[49m\u001b[43m,\u001b[49m\u001b[43m \u001b[49m\u001b[43mskiprows\u001b[49m\u001b[38;5;241;43m=\u001b[39;49m\u001b[38;5;241;43m3\u001b[39;49m\u001b[43m)\u001b[49m\n",
      "File \u001b[0;32m~/Library/Python/3.9/lib/python/site-packages/pandas/util/_decorators.py:211\u001b[0m, in \u001b[0;36mdeprecate_kwarg.<locals>._deprecate_kwarg.<locals>.wrapper\u001b[0;34m(*args, **kwargs)\u001b[0m\n\u001b[1;32m    209\u001b[0m     \u001b[38;5;28;01melse\u001b[39;00m:\n\u001b[1;32m    210\u001b[0m         kwargs[new_arg_name] \u001b[38;5;241m=\u001b[39m new_arg_value\n\u001b[0;32m--> 211\u001b[0m \u001b[38;5;28;01mreturn\u001b[39;00m \u001b[43mfunc\u001b[49m\u001b[43m(\u001b[49m\u001b[38;5;241;43m*\u001b[39;49m\u001b[43margs\u001b[49m\u001b[43m,\u001b[49m\u001b[43m \u001b[49m\u001b[38;5;241;43m*\u001b[39;49m\u001b[38;5;241;43m*\u001b[39;49m\u001b[43mkwargs\u001b[49m\u001b[43m)\u001b[49m\n",
      "File \u001b[0;32m~/Library/Python/3.9/lib/python/site-packages/pandas/util/_decorators.py:331\u001b[0m, in \u001b[0;36mdeprecate_nonkeyword_arguments.<locals>.decorate.<locals>.wrapper\u001b[0;34m(*args, **kwargs)\u001b[0m\n\u001b[1;32m    325\u001b[0m \u001b[38;5;28;01mif\u001b[39;00m \u001b[38;5;28mlen\u001b[39m(args) \u001b[38;5;241m>\u001b[39m num_allow_args:\n\u001b[1;32m    326\u001b[0m     warnings\u001b[38;5;241m.\u001b[39mwarn(\n\u001b[1;32m    327\u001b[0m         msg\u001b[38;5;241m.\u001b[39mformat(arguments\u001b[38;5;241m=\u001b[39m_format_argument_list(allow_args)),\n\u001b[1;32m    328\u001b[0m         \u001b[38;5;167;01mFutureWarning\u001b[39;00m,\n\u001b[1;32m    329\u001b[0m         stacklevel\u001b[38;5;241m=\u001b[39mfind_stack_level(),\n\u001b[1;32m    330\u001b[0m     )\n\u001b[0;32m--> 331\u001b[0m \u001b[38;5;28;01mreturn\u001b[39;00m \u001b[43mfunc\u001b[49m\u001b[43m(\u001b[49m\u001b[38;5;241;43m*\u001b[39;49m\u001b[43margs\u001b[49m\u001b[43m,\u001b[49m\u001b[43m \u001b[49m\u001b[38;5;241;43m*\u001b[39;49m\u001b[38;5;241;43m*\u001b[39;49m\u001b[43mkwargs\u001b[49m\u001b[43m)\u001b[49m\n",
      "File \u001b[0;32m~/Library/Python/3.9/lib/python/site-packages/pandas/io/excel/_base.py:482\u001b[0m, in \u001b[0;36mread_excel\u001b[0;34m(io, sheet_name, header, names, index_col, usecols, squeeze, dtype, engine, converters, true_values, false_values, skiprows, nrows, na_values, keep_default_na, na_filter, verbose, parse_dates, date_parser, thousands, decimal, comment, skipfooter, convert_float, mangle_dupe_cols, storage_options)\u001b[0m\n\u001b[1;32m    480\u001b[0m \u001b[38;5;28;01mif\u001b[39;00m \u001b[38;5;129;01mnot\u001b[39;00m \u001b[38;5;28misinstance\u001b[39m(io, ExcelFile):\n\u001b[1;32m    481\u001b[0m     should_close \u001b[38;5;241m=\u001b[39m \u001b[38;5;28;01mTrue\u001b[39;00m\n\u001b[0;32m--> 482\u001b[0m     io \u001b[38;5;241m=\u001b[39m \u001b[43mExcelFile\u001b[49m\u001b[43m(\u001b[49m\u001b[43mio\u001b[49m\u001b[43m,\u001b[49m\u001b[43m \u001b[49m\u001b[43mstorage_options\u001b[49m\u001b[38;5;241;43m=\u001b[39;49m\u001b[43mstorage_options\u001b[49m\u001b[43m,\u001b[49m\u001b[43m \u001b[49m\u001b[43mengine\u001b[49m\u001b[38;5;241;43m=\u001b[39;49m\u001b[43mengine\u001b[49m\u001b[43m)\u001b[49m\n\u001b[1;32m    483\u001b[0m \u001b[38;5;28;01melif\u001b[39;00m engine \u001b[38;5;129;01mand\u001b[39;00m engine \u001b[38;5;241m!=\u001b[39m io\u001b[38;5;241m.\u001b[39mengine:\n\u001b[1;32m    484\u001b[0m     \u001b[38;5;28;01mraise\u001b[39;00m \u001b[38;5;167;01mValueError\u001b[39;00m(\n\u001b[1;32m    485\u001b[0m         \u001b[38;5;124m\"\u001b[39m\u001b[38;5;124mEngine should not be specified when passing \u001b[39m\u001b[38;5;124m\"\u001b[39m\n\u001b[1;32m    486\u001b[0m         \u001b[38;5;124m\"\u001b[39m\u001b[38;5;124man ExcelFile - ExcelFile already has the engine set\u001b[39m\u001b[38;5;124m\"\u001b[39m\n\u001b[1;32m    487\u001b[0m     )\n",
      "File \u001b[0;32m~/Library/Python/3.9/lib/python/site-packages/pandas/io/excel/_base.py:1652\u001b[0m, in \u001b[0;36mExcelFile.__init__\u001b[0;34m(self, path_or_buffer, engine, storage_options)\u001b[0m\n\u001b[1;32m   1650\u001b[0m     ext \u001b[38;5;241m=\u001b[39m \u001b[38;5;124m\"\u001b[39m\u001b[38;5;124mxls\u001b[39m\u001b[38;5;124m\"\u001b[39m\n\u001b[1;32m   1651\u001b[0m \u001b[38;5;28;01melse\u001b[39;00m:\n\u001b[0;32m-> 1652\u001b[0m     ext \u001b[38;5;241m=\u001b[39m \u001b[43minspect_excel_format\u001b[49m\u001b[43m(\u001b[49m\n\u001b[1;32m   1653\u001b[0m \u001b[43m        \u001b[49m\u001b[43mcontent_or_path\u001b[49m\u001b[38;5;241;43m=\u001b[39;49m\u001b[43mpath_or_buffer\u001b[49m\u001b[43m,\u001b[49m\u001b[43m \u001b[49m\u001b[43mstorage_options\u001b[49m\u001b[38;5;241;43m=\u001b[39;49m\u001b[43mstorage_options\u001b[49m\n\u001b[1;32m   1654\u001b[0m \u001b[43m    \u001b[49m\u001b[43m)\u001b[49m\n\u001b[1;32m   1655\u001b[0m     \u001b[38;5;28;01mif\u001b[39;00m ext \u001b[38;5;129;01mis\u001b[39;00m \u001b[38;5;28;01mNone\u001b[39;00m:\n\u001b[1;32m   1656\u001b[0m         \u001b[38;5;28;01mraise\u001b[39;00m \u001b[38;5;167;01mValueError\u001b[39;00m(\n\u001b[1;32m   1657\u001b[0m             \u001b[38;5;124m\"\u001b[39m\u001b[38;5;124mExcel file format cannot be determined, you must specify \u001b[39m\u001b[38;5;124m\"\u001b[39m\n\u001b[1;32m   1658\u001b[0m             \u001b[38;5;124m\"\u001b[39m\u001b[38;5;124man engine manually.\u001b[39m\u001b[38;5;124m\"\u001b[39m\n\u001b[1;32m   1659\u001b[0m         )\n",
      "File \u001b[0;32m~/Library/Python/3.9/lib/python/site-packages/pandas/io/excel/_base.py:1525\u001b[0m, in \u001b[0;36minspect_excel_format\u001b[0;34m(content_or_path, storage_options)\u001b[0m\n\u001b[1;32m   1522\u001b[0m \u001b[38;5;28;01mif\u001b[39;00m \u001b[38;5;28misinstance\u001b[39m(content_or_path, \u001b[38;5;28mbytes\u001b[39m):\n\u001b[1;32m   1523\u001b[0m     content_or_path \u001b[38;5;241m=\u001b[39m BytesIO(content_or_path)\n\u001b[0;32m-> 1525\u001b[0m \u001b[38;5;28;01mwith\u001b[39;00m \u001b[43mget_handle\u001b[49m\u001b[43m(\u001b[49m\n\u001b[1;32m   1526\u001b[0m \u001b[43m    \u001b[49m\u001b[43mcontent_or_path\u001b[49m\u001b[43m,\u001b[49m\u001b[43m \u001b[49m\u001b[38;5;124;43m\"\u001b[39;49m\u001b[38;5;124;43mrb\u001b[39;49m\u001b[38;5;124;43m\"\u001b[39;49m\u001b[43m,\u001b[49m\u001b[43m \u001b[49m\u001b[43mstorage_options\u001b[49m\u001b[38;5;241;43m=\u001b[39;49m\u001b[43mstorage_options\u001b[49m\u001b[43m,\u001b[49m\u001b[43m \u001b[49m\u001b[43mis_text\u001b[49m\u001b[38;5;241;43m=\u001b[39;49m\u001b[38;5;28;43;01mFalse\u001b[39;49;00m\n\u001b[1;32m   1527\u001b[0m \u001b[43m\u001b[49m\u001b[43m)\u001b[49m \u001b[38;5;28;01mas\u001b[39;00m handle:\n\u001b[1;32m   1528\u001b[0m     stream \u001b[38;5;241m=\u001b[39m handle\u001b[38;5;241m.\u001b[39mhandle\n\u001b[1;32m   1529\u001b[0m     stream\u001b[38;5;241m.\u001b[39mseek(\u001b[38;5;241m0\u001b[39m)\n",
      "File \u001b[0;32m~/Library/Python/3.9/lib/python/site-packages/pandas/io/common.py:865\u001b[0m, in \u001b[0;36mget_handle\u001b[0;34m(path_or_buf, mode, encoding, compression, memory_map, is_text, errors, storage_options)\u001b[0m\n\u001b[1;32m    856\u001b[0m         handle \u001b[38;5;241m=\u001b[39m \u001b[38;5;28mopen\u001b[39m(\n\u001b[1;32m    857\u001b[0m             handle,\n\u001b[1;32m    858\u001b[0m             ioargs\u001b[38;5;241m.\u001b[39mmode,\n\u001b[0;32m   (...)\u001b[0m\n\u001b[1;32m    861\u001b[0m             newline\u001b[38;5;241m=\u001b[39m\u001b[38;5;124m\"\u001b[39m\u001b[38;5;124m\"\u001b[39m,\n\u001b[1;32m    862\u001b[0m         )\n\u001b[1;32m    863\u001b[0m     \u001b[38;5;28;01melse\u001b[39;00m:\n\u001b[1;32m    864\u001b[0m         \u001b[38;5;66;03m# Binary mode\u001b[39;00m\n\u001b[0;32m--> 865\u001b[0m         handle \u001b[38;5;241m=\u001b[39m \u001b[38;5;28;43mopen\u001b[39;49m\u001b[43m(\u001b[49m\u001b[43mhandle\u001b[49m\u001b[43m,\u001b[49m\u001b[43m \u001b[49m\u001b[43mioargs\u001b[49m\u001b[38;5;241;43m.\u001b[39;49m\u001b[43mmode\u001b[49m\u001b[43m)\u001b[49m\n\u001b[1;32m    866\u001b[0m     handles\u001b[38;5;241m.\u001b[39mappend(handle)\n\u001b[1;32m    868\u001b[0m \u001b[38;5;66;03m# Convert BytesIO or file objects passed with an encoding\u001b[39;00m\n",
      "\u001b[0;31mFileNotFoundError\u001b[0m: [Errno 2] No such file or directory: '//www2.census.gov/programs-surveys/popest/tables/2020-2023/counties/totals/co-est2023-pop.xlsx'"
     ]
    }
   ],
   "source": [
    "pops = pd.read_excel(county_pop_url, skiprows=3)"
   ]
  },
  {
   "cell_type": "markdown",
   "metadata": {},
   "source": [
    "## Using Census Package "
   ]
  },
  {
   "cell_type": "code",
   "execution_count": 15,
   "metadata": {},
   "outputs": [],
   "source": [
    "# import necessary libraries\n",
    "import census\n",
    "import us\n",
    "from typing import Dict, List\n",
    "import pandas as pd"
   ]
  },
  {
   "cell_type": "code",
   "execution_count": 16,
   "metadata": {},
   "outputs": [],
   "source": [
    "# Define the API key\n",
    "c = census.Census(api_key)"
   ]
  },
  {
   "cell_type": "code",
   "execution_count": 8,
   "metadata": {},
   "outputs": [
    {
     "name": "stderr",
     "output_type": "stream",
     "text": [
      "/Users/gabrielmelmed/Library/Python/3.9/lib/python/site-packages/urllib3/__init__.py:34: NotOpenSSLWarning: urllib3 v2.0 only supports OpenSSL 1.1.1+, currently the 'ssl' module is compiled with 'LibreSSL 2.8.3'. See: https://github.com/urllib3/urllib3/issues/3020\n",
      "  warnings.warn(\n"
     ]
    },
    {
     "data": {
      "text/plain": [
       "[{'B01003_001E': 5028092.0, 'state': '01'},\n",
       " {'B01003_001E': 734821.0, 'state': '02'},\n",
       " {'B01003_001E': 7172282.0, 'state': '04'},\n",
       " {'B01003_001E': 3018669.0, 'state': '05'},\n",
       " {'B01003_001E': 39356104.0, 'state': '06'},\n",
       " {'B01003_001E': 5770790.0, 'state': '08'},\n",
       " {'B01003_001E': 3611317.0, 'state': '09'},\n",
       " {'B01003_001E': 993635.0, 'state': '10'},\n",
       " {'B01003_001E': 670587.0, 'state': '11'},\n",
       " {'B01003_001E': 21634529.0, 'state': '12'},\n",
       " {'B01003_001E': 10722325.0, 'state': '13'},\n",
       " {'B01003_001E': 1450589.0, 'state': '15'},\n",
       " {'B01003_001E': 1854109.0, 'state': '16'},\n",
       " {'B01003_001E': 12757634.0, 'state': '17'},\n",
       " {'B01003_001E': 6784403.0, 'state': '18'},\n",
       " {'B01003_001E': 3188836.0, 'state': '19'},\n",
       " {'B01003_001E': 2935922.0, 'state': '20'},\n",
       " {'B01003_001E': 4502935.0, 'state': '21'},\n",
       " {'B01003_001E': 4640546.0, 'state': '22'},\n",
       " {'B01003_001E': 1366949.0, 'state': '23'},\n",
       " {'B01003_001E': 6161707.0, 'state': '24'},\n",
       " {'B01003_001E': 6984205.0, 'state': '25'},\n",
       " {'B01003_001E': 10057921.0, 'state': '26'},\n",
       " {'B01003_001E': 5695292.0, 'state': '27'},\n",
       " {'B01003_001E': 2958846.0, 'state': '28'},\n",
       " {'B01003_001E': 6154422.0, 'state': '29'},\n",
       " {'B01003_001E': 1091840.0, 'state': '30'},\n",
       " {'B01003_001E': 1958939.0, 'state': '31'},\n",
       " {'B01003_001E': 3104817.0, 'state': '32'},\n",
       " {'B01003_001E': 1379610.0, 'state': '33'},\n",
       " {'B01003_001E': 9249063.0, 'state': '34'},\n",
       " {'B01003_001E': 2112463.0, 'state': '35'},\n",
       " {'B01003_001E': 19994379.0, 'state': '36'},\n",
       " {'B01003_001E': 10470214.0, 'state': '37'},\n",
       " {'B01003_001E': 776874.0, 'state': '38'},\n",
       " {'B01003_001E': 11774683.0, 'state': '39'},\n",
       " {'B01003_001E': 3970497.0, 'state': '40'},\n",
       " {'B01003_001E': 4229374.0, 'state': '41'},\n",
       " {'B01003_001E': 12989208.0, 'state': '42'},\n",
       " {'B01003_001E': 1094250.0, 'state': '44'},\n",
       " {'B01003_001E': 5142750.0, 'state': '45'},\n",
       " {'B01003_001E': 890342.0, 'state': '46'},\n",
       " {'B01003_001E': 6923772.0, 'state': '47'},\n",
       " {'B01003_001E': 29243342.0, 'state': '48'},\n",
       " {'B01003_001E': 3283809.0, 'state': '49'},\n",
       " {'B01003_001E': 643816.0, 'state': '50'},\n",
       " {'B01003_001E': 8624511.0, 'state': '51'},\n",
       " {'B01003_001E': 7688549.0, 'state': '53'},\n",
       " {'B01003_001E': 1792967.0, 'state': '54'},\n",
       " {'B01003_001E': 5882128.0, 'state': '55'},\n",
       " {'B01003_001E': 577929.0, 'state': '56'},\n",
       " {'B01003_001E': 3272382.0, 'state': '72'}]"
      ]
     },
     "execution_count": 8,
     "metadata": {},
     "output_type": "execute_result"
    }
   ],
   "source": [
    "# Define the API key\n",
    "c = census.Census(api_key)\n",
    "# Get population estimates for all states\n",
    "state_pops = c.acs5.get('B01003_001E', {'for': 'state:*'}, year=2022)\n",
    "state_pops"
   ]
  },
  {
   "cell_type": "code",
   "execution_count": 9,
   "metadata": {},
   "outputs": [],
   "source": [
    "# convert to a dataframe\n",
    "state_pops_df = pd.DataFrame(state_pops)\n",
    "state_pops_df.columns = ['population', 'id']"
   ]
  },
  {
   "cell_type": "code",
   "execution_count": null,
   "metadata": {},
   "outputs": [],
   "source": [
    "state_pops_df"
   ]
  },
  {
   "cell_type": "code",
   "execution_count": 10,
   "metadata": {},
   "outputs": [],
   "source": [
    "# get population for all counties\n",
    "county_pops = c.acs5.get('B01003_001E', {'for': 'county:*'}, year=2022)"
   ]
  },
  {
   "cell_type": "code",
   "execution_count": 45,
   "metadata": {},
   "outputs": [
    {
     "data": {
      "text/plain": [
       "B01003_001E    float64\n",
       "state           object\n",
       "county          object\n",
       "dtype: object"
      ]
     },
     "execution_count": 45,
     "metadata": {},
     "output_type": "execute_result"
    }
   ],
   "source": [
    "county_pops_df.dtypes"
   ]
  },
  {
   "cell_type": "code",
   "execution_count": 11,
   "metadata": {},
   "outputs": [
    {
     "data": {
      "text/html": [
       "<div>\n",
       "<style scoped>\n",
       "    .dataframe tbody tr th:only-of-type {\n",
       "        vertical-align: middle;\n",
       "    }\n",
       "\n",
       "    .dataframe tbody tr th {\n",
       "        vertical-align: top;\n",
       "    }\n",
       "\n",
       "    .dataframe thead th {\n",
       "        text-align: right;\n",
       "    }\n",
       "</style>\n",
       "<table border=\"1\" class=\"dataframe\">\n",
       "  <thead>\n",
       "    <tr style=\"text-align: right;\">\n",
       "      <th></th>\n",
       "      <th>B01003_001E</th>\n",
       "      <th>state</th>\n",
       "      <th>county</th>\n",
       "      <th>fips</th>\n",
       "    </tr>\n",
       "  </thead>\n",
       "  <tbody>\n",
       "    <tr>\n",
       "      <th>0</th>\n",
       "      <td>58761.0</td>\n",
       "      <td>1</td>\n",
       "      <td>1</td>\n",
       "      <td>1001</td>\n",
       "    </tr>\n",
       "    <tr>\n",
       "      <th>1</th>\n",
       "      <td>233420.0</td>\n",
       "      <td>1</td>\n",
       "      <td>3</td>\n",
       "      <td>1003</td>\n",
       "    </tr>\n",
       "    <tr>\n",
       "      <th>2</th>\n",
       "      <td>24877.0</td>\n",
       "      <td>1</td>\n",
       "      <td>5</td>\n",
       "      <td>1005</td>\n",
       "    </tr>\n",
       "    <tr>\n",
       "      <th>3</th>\n",
       "      <td>22251.0</td>\n",
       "      <td>1</td>\n",
       "      <td>7</td>\n",
       "      <td>1007</td>\n",
       "    </tr>\n",
       "    <tr>\n",
       "      <th>4</th>\n",
       "      <td>59077.0</td>\n",
       "      <td>1</td>\n",
       "      <td>9</td>\n",
       "      <td>1009</td>\n",
       "    </tr>\n",
       "    <tr>\n",
       "      <th>...</th>\n",
       "      <td>...</td>\n",
       "      <td>...</td>\n",
       "      <td>...</td>\n",
       "      <td>...</td>\n",
       "    </tr>\n",
       "    <tr>\n",
       "      <th>3217</th>\n",
       "      <td>54182.0</td>\n",
       "      <td>72</td>\n",
       "      <td>145</td>\n",
       "      <td>72145</td>\n",
       "    </tr>\n",
       "    <tr>\n",
       "      <th>3218</th>\n",
       "      <td>8199.0</td>\n",
       "      <td>72</td>\n",
       "      <td>147</td>\n",
       "      <td>72147</td>\n",
       "    </tr>\n",
       "    <tr>\n",
       "      <th>3219</th>\n",
       "      <td>21984.0</td>\n",
       "      <td>72</td>\n",
       "      <td>149</td>\n",
       "      <td>72149</td>\n",
       "    </tr>\n",
       "    <tr>\n",
       "      <th>3220</th>\n",
       "      <td>30313.0</td>\n",
       "      <td>72</td>\n",
       "      <td>151</td>\n",
       "      <td>72151</td>\n",
       "    </tr>\n",
       "    <tr>\n",
       "      <th>3221</th>\n",
       "      <td>33988.0</td>\n",
       "      <td>72</td>\n",
       "      <td>153</td>\n",
       "      <td>72153</td>\n",
       "    </tr>\n",
       "  </tbody>\n",
       "</table>\n",
       "<p>3222 rows × 4 columns</p>\n",
       "</div>"
      ],
      "text/plain": [
       "      B01003_001E  state  county   fips\n",
       "0         58761.0      1       1   1001\n",
       "1        233420.0      1       3   1003\n",
       "2         24877.0      1       5   1005\n",
       "3         22251.0      1       7   1007\n",
       "4         59077.0      1       9   1009\n",
       "...           ...    ...     ...    ...\n",
       "3217      54182.0     72     145  72145\n",
       "3218       8199.0     72     147  72147\n",
       "3219      21984.0     72     149  72149\n",
       "3220      30313.0     72     151  72151\n",
       "3221      33988.0     72     153  72153\n",
       "\n",
       "[3222 rows x 4 columns]"
      ]
     },
     "execution_count": 11,
     "metadata": {},
     "output_type": "execute_result"
    }
   ],
   "source": [
    "# convert to a dataframe\n",
    "county_pops_df = pd.DataFrame(county_pops)\n",
    "# convert state and county to int\n",
    "county_pops_df['state'] = county_pops_df['state'].astype(int)\n",
    "county_pops_df['county'] = county_pops_df['county'].astype(int)\n",
    "# create a fips column\n",
    "county_pops_df['fips'] = county_pops_df['state']*1000 + county_pops_df['county']\n",
    "# county_pops_df = county_pops_df.drop(columns=['state', 'county'])\n",
    "# county_pops_df.columns = ['population', 'fips']\n",
    "county_pops_df"
   ]
  },
  {
   "cell_type": "code",
   "execution_count": 14,
   "metadata": {},
   "outputs": [
    {
     "data": {
      "text/html": [
       "<div>\n",
       "<style scoped>\n",
       "    .dataframe tbody tr th:only-of-type {\n",
       "        vertical-align: middle;\n",
       "    }\n",
       "\n",
       "    .dataframe tbody tr th {\n",
       "        vertical-align: top;\n",
       "    }\n",
       "\n",
       "    .dataframe thead th {\n",
       "        text-align: right;\n",
       "    }\n",
       "</style>\n",
       "<table border=\"1\" class=\"dataframe\">\n",
       "  <thead>\n",
       "    <tr style=\"text-align: right;\">\n",
       "      <th></th>\n",
       "      <th>B01003_001E</th>\n",
       "      <th>state</th>\n",
       "      <th>county</th>\n",
       "      <th>fips</th>\n",
       "    </tr>\n",
       "  </thead>\n",
       "  <tbody>\n",
       "    <tr>\n",
       "      <th>309</th>\n",
       "      <td>977165.0</td>\n",
       "      <td>9</td>\n",
       "      <td>110</td>\n",
       "      <td>9110</td>\n",
       "    </tr>\n",
       "    <tr>\n",
       "      <th>310</th>\n",
       "      <td>326381.0</td>\n",
       "      <td>9</td>\n",
       "      <td>120</td>\n",
       "      <td>9120</td>\n",
       "    </tr>\n",
       "    <tr>\n",
       "      <th>311</th>\n",
       "      <td>175244.0</td>\n",
       "      <td>9</td>\n",
       "      <td>130</td>\n",
       "      <td>9130</td>\n",
       "    </tr>\n",
       "    <tr>\n",
       "      <th>312</th>\n",
       "      <td>451887.0</td>\n",
       "      <td>9</td>\n",
       "      <td>140</td>\n",
       "      <td>9140</td>\n",
       "    </tr>\n",
       "    <tr>\n",
       "      <th>313</th>\n",
       "      <td>95687.0</td>\n",
       "      <td>9</td>\n",
       "      <td>150</td>\n",
       "      <td>9150</td>\n",
       "    </tr>\n",
       "    <tr>\n",
       "      <th>314</th>\n",
       "      <td>112696.0</td>\n",
       "      <td>9</td>\n",
       "      <td>160</td>\n",
       "      <td>9160</td>\n",
       "    </tr>\n",
       "    <tr>\n",
       "      <th>315</th>\n",
       "      <td>571298.0</td>\n",
       "      <td>9</td>\n",
       "      <td>170</td>\n",
       "      <td>9170</td>\n",
       "    </tr>\n",
       "    <tr>\n",
       "      <th>316</th>\n",
       "      <td>280293.0</td>\n",
       "      <td>9</td>\n",
       "      <td>180</td>\n",
       "      <td>9180</td>\n",
       "    </tr>\n",
       "    <tr>\n",
       "      <th>317</th>\n",
       "      <td>620666.0</td>\n",
       "      <td>9</td>\n",
       "      <td>190</td>\n",
       "      <td>9190</td>\n",
       "    </tr>\n",
       "  </tbody>\n",
       "</table>\n",
       "</div>"
      ],
      "text/plain": [
       "     B01003_001E  state  county  fips\n",
       "309     977165.0      9     110  9110\n",
       "310     326381.0      9     120  9120\n",
       "311     175244.0      9     130  9130\n",
       "312     451887.0      9     140  9140\n",
       "313      95687.0      9     150  9150\n",
       "314     112696.0      9     160  9160\n",
       "315     571298.0      9     170  9170\n",
       "316     280293.0      9     180  9180\n",
       "317     620666.0      9     190  9190"
      ]
     },
     "execution_count": 14,
     "metadata": {},
     "output_type": "execute_result"
    }
   ],
   "source": [
    "county_pops_df[county_pops_df['state'] == 9]"
   ]
  },
  {
   "cell_type": "code",
   "execution_count": 42,
   "metadata": {},
   "outputs": [
    {
     "data": {
      "text/html": [
       "<div>\n",
       "<style scoped>\n",
       "    .dataframe tbody tr th:only-of-type {\n",
       "        vertical-align: middle;\n",
       "    }\n",
       "\n",
       "    .dataframe tbody tr th {\n",
       "        vertical-align: top;\n",
       "    }\n",
       "\n",
       "    .dataframe thead th {\n",
       "        text-align: right;\n",
       "    }\n",
       "</style>\n",
       "<table border=\"1\" class=\"dataframe\">\n",
       "  <thead>\n",
       "    <tr style=\"text-align: right;\">\n",
       "      <th></th>\n",
       "      <th>name</th>\n",
       "      <th>description</th>\n",
       "      <th>variables</th>\n",
       "    </tr>\n",
       "  </thead>\n",
       "  <tbody>\n",
       "    <tr>\n",
       "      <th>0</th>\n",
       "      <td>P38B</td>\n",
       "      <td>FAMILY TYPE BY PRESENCE AND AGE OF OWN CHILDRE...</td>\n",
       "      <td>http://api.census.gov/data/2010/dec/sf1/groups...</td>\n",
       "    </tr>\n",
       "    <tr>\n",
       "      <th>1</th>\n",
       "      <td>P38A</td>\n",
       "      <td>FAMILY TYPE BY PRESENCE AND AGE OF OWN CHILDRE...</td>\n",
       "      <td>http://api.census.gov/data/2010/dec/sf1/groups...</td>\n",
       "    </tr>\n",
       "    <tr>\n",
       "      <th>2</th>\n",
       "      <td>P38D</td>\n",
       "      <td>FAMILY TYPE BY PRESENCE AND AGE OF OWN CHILDRE...</td>\n",
       "      <td>http://api.census.gov/data/2010/dec/sf1/groups...</td>\n",
       "    </tr>\n",
       "    <tr>\n",
       "      <th>3</th>\n",
       "      <td>P38C</td>\n",
       "      <td>FAMILY TYPE BY PRESENCE AND AGE OF OWN CHILDRE...</td>\n",
       "      <td>http://api.census.gov/data/2010/dec/sf1/groups...</td>\n",
       "    </tr>\n",
       "    <tr>\n",
       "      <th>4</th>\n",
       "      <td>P38I</td>\n",
       "      <td>FAMILY TYPE BY PRESENCE AND AGE OF OWN CHILDRE...</td>\n",
       "      <td>http://api.census.gov/data/2010/dec/sf1/groups...</td>\n",
       "    </tr>\n",
       "    <tr>\n",
       "      <th>...</th>\n",
       "      <td>...</td>\n",
       "      <td>...</td>\n",
       "      <td>...</td>\n",
       "    </tr>\n",
       "    <tr>\n",
       "      <th>328</th>\n",
       "      <td>PCT22B</td>\n",
       "      <td>GROUP QUARTERS POPULATION BY SEX  BY GROUP QUA...</td>\n",
       "      <td>http://api.census.gov/data/2010/dec/sf1/groups...</td>\n",
       "    </tr>\n",
       "    <tr>\n",
       "      <th>329</th>\n",
       "      <td>PCT22G</td>\n",
       "      <td>GROUP QUARTERS POPULATION BY SEX  BY GROUP QUA...</td>\n",
       "      <td>http://api.census.gov/data/2010/dec/sf1/groups...</td>\n",
       "    </tr>\n",
       "    <tr>\n",
       "      <th>330</th>\n",
       "      <td>PCT22H</td>\n",
       "      <td>GROUP QUARTERS POPULATION BY SEX  BY GROUP QUA...</td>\n",
       "      <td>http://api.census.gov/data/2010/dec/sf1/groups...</td>\n",
       "    </tr>\n",
       "    <tr>\n",
       "      <th>331</th>\n",
       "      <td>PCT22E</td>\n",
       "      <td>GROUP QUARTERS POPULATION BY SEX  BY GROUP QUA...</td>\n",
       "      <td>http://api.census.gov/data/2010/dec/sf1/groups...</td>\n",
       "    </tr>\n",
       "    <tr>\n",
       "      <th>332</th>\n",
       "      <td>PCT22F</td>\n",
       "      <td>GROUP QUARTERS POPULATION BY SEX  BY GROUP QUA...</td>\n",
       "      <td>http://api.census.gov/data/2010/dec/sf1/groups...</td>\n",
       "    </tr>\n",
       "  </tbody>\n",
       "</table>\n",
       "<p>333 rows × 3 columns</p>\n",
       "</div>"
      ],
      "text/plain": [
       "       name                                        description  \\\n",
       "0      P38B  FAMILY TYPE BY PRESENCE AND AGE OF OWN CHILDRE...   \n",
       "1      P38A  FAMILY TYPE BY PRESENCE AND AGE OF OWN CHILDRE...   \n",
       "2      P38D  FAMILY TYPE BY PRESENCE AND AGE OF OWN CHILDRE...   \n",
       "3      P38C  FAMILY TYPE BY PRESENCE AND AGE OF OWN CHILDRE...   \n",
       "4      P38I  FAMILY TYPE BY PRESENCE AND AGE OF OWN CHILDRE...   \n",
       "..      ...                                                ...   \n",
       "328  PCT22B  GROUP QUARTERS POPULATION BY SEX  BY GROUP QUA...   \n",
       "329  PCT22G  GROUP QUARTERS POPULATION BY SEX  BY GROUP QUA...   \n",
       "330  PCT22H  GROUP QUARTERS POPULATION BY SEX  BY GROUP QUA...   \n",
       "331  PCT22E  GROUP QUARTERS POPULATION BY SEX  BY GROUP QUA...   \n",
       "332  PCT22F  GROUP QUARTERS POPULATION BY SEX  BY GROUP QUA...   \n",
       "\n",
       "                                             variables  \n",
       "0    http://api.census.gov/data/2010/dec/sf1/groups...  \n",
       "1    http://api.census.gov/data/2010/dec/sf1/groups...  \n",
       "2    http://api.census.gov/data/2010/dec/sf1/groups...  \n",
       "3    http://api.census.gov/data/2010/dec/sf1/groups...  \n",
       "4    http://api.census.gov/data/2010/dec/sf1/groups...  \n",
       "..                                                 ...  \n",
       "328  http://api.census.gov/data/2010/dec/sf1/groups...  \n",
       "329  http://api.census.gov/data/2010/dec/sf1/groups...  \n",
       "330  http://api.census.gov/data/2010/dec/sf1/groups...  \n",
       "331  http://api.census.gov/data/2010/dec/sf1/groups...  \n",
       "332  http://api.census.gov/data/2010/dec/sf1/groups...  \n",
       "\n",
       "[333 rows x 3 columns]"
      ]
     },
     "execution_count": 42,
     "metadata": {},
     "output_type": "execute_result"
    }
   ],
   "source": [
    "# get tables for sf1\n",
    "c.sf1.tables()\n",
    "# turn it into a dataframe\n",
    "tables = pd.DataFrame(c.sf1.tables())\n",
    "tables"
   ]
  },
  {
   "cell_type": "code",
   "execution_count": null,
   "metadata": {},
   "outputs": [],
   "source": []
  }
 ],
 "metadata": {
  "kernelspec": {
   "display_name": "Python 3",
   "language": "python",
   "name": "python3"
  },
  "language_info": {
   "codemirror_mode": {
    "name": "ipython",
    "version": 3
   },
   "file_extension": ".py",
   "mimetype": "text/x-python",
   "name": "python",
   "nbconvert_exporter": "python",
   "pygments_lexer": "ipython3",
   "version": "3.9.6"
  },
  "orig_nbformat": 4
 },
 "nbformat": 4,
 "nbformat_minor": 2
}
