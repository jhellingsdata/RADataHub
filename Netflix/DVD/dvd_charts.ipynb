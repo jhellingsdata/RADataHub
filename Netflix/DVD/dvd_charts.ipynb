{
 "cells": [
  {
   "cell_type": "markdown",
   "metadata": {},
   "source": [
    "### I. Physical vs. digital media sales"
   ]
  },
  {
   "cell_type": "code",
   "execution_count": 1,
   "metadata": {},
   "outputs": [],
   "source": [
    "import pandas as pd"
   ]
  },
  {
   "cell_type": "code",
   "execution_count": 11,
   "metadata": {},
   "outputs": [],
   "source": [
    "# import statista data on media types\n",
    "\n",
    "media = pd.read_excel(\n",
    "    'media_types.xlsx',\n",
    "    sheet_name = 'Data',\n",
    "    skiprows = 4,\n",
    "    )\n",
    "\n",
    "media.drop(columns = ['Unnamed: 0'], inplace = True)\n",
    "\n",
    "media.rename(columns = {\n",
    "    \"Unnamed: 1\": \"date\",\n",
    "    },\n",
    "    inplace = True\n",
    "    )\n",
    "\n",
    "media = media.melt(\n",
    "    id_vars = 'date',\n",
    "    var_name = 'type',\n",
    "    value_name = 'value'\n",
    "    )\n",
    "\n",
    "media.to_csv('media_types.csv', index = False)"
   ]
  },
  {
   "cell_type": "code",
   "execution_count": null,
   "metadata": {},
   "outputs": [],
   "source": []
  }
 ],
 "metadata": {
  "kernelspec": {
   "display_name": "Python 3",
   "language": "python",
   "name": "python3"
  },
  "language_info": {
   "codemirror_mode": {
    "name": "ipython",
    "version": 3
   },
   "file_extension": ".py",
   "mimetype": "text/x-python",
   "name": "python",
   "nbconvert_exporter": "python",
   "pygments_lexer": "ipython3",
   "version": "3.9.6"
  }
 },
 "nbformat": 4,
 "nbformat_minor": 2
}
