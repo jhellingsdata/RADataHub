{
 "cells": [
  {
   "cell_type": "code",
   "execution_count": 1,
   "id": "7b28c843",
   "metadata": {},
   "outputs": [],
   "source": [
    "import pandas as pd\n",
    "import numpy as np"
   ]
  },
  {
   "cell_type": "markdown",
   "id": "3e8fc12c",
   "metadata": {},
   "source": [
    "#### I. Tariffs"
   ]
  },
  {
   "cell_type": "code",
   "execution_count": 8,
   "id": "4f9a3298",
   "metadata": {},
   "outputs": [
    {
     "data": {
      "application/vnd.microsoft.datawrangler.viewer.v0+json": {
       "columns": [
        {
         "name": "index",
         "rawType": "int64",
         "type": "integer"
        },
        {
         "name": "Date",
         "rawType": "datetime64[ns]",
         "type": "datetime"
        },
        {
         "name": "Chinese exports subject to US tariffs",
         "rawType": "float64",
         "type": "float"
        },
        {
         "name": "US exports subject to Chinese tariffs",
         "rawType": "float64",
         "type": "float"
        }
       ],
       "ref": "a5d2f2f1-5fd2-4429-b59d-da6952b35ec4",
       "rows": [
        [
         "0",
         "2018-01-01 00:00:00",
         "0.0",
         "0.0"
        ],
        [
         "1",
         "2018-02-07 00:00:00",
         "0.2357728",
         "0.0"
        ],
        [
         "2",
         "2018-03-23 00:00:00",
         "0.7947597",
         "0.0"
        ],
        [
         "3",
         "2018-04-02 00:00:00",
         "0.7947597",
         "1.9180930852890015"
        ],
        [
         "4",
         "2018-05-01 00:00:00",
         "0.7947597",
         "1.9180930852890015"
        ],
        [
         "5",
         "2018-06-01 00:00:00",
         "0.7947597",
         "1.9180930852890015"
        ],
        [
         "6",
         "2018-07-01 00:00:00",
         "0.7947597",
         "1.9180930852890015"
        ],
        [
         "7",
         "2018-07-06 00:00:00",
         "7.121444",
         "22.51319694519043"
        ],
        [
         "8",
         "2018-08-13 00:00:00",
         "7.121444",
         "22.51319694519043"
        ],
        [
         "9",
         "2018-08-23 00:00:00",
         "9.754098",
         "31.117557525634766"
        ],
        [
         "10",
         "2018-09-24 00:00:00",
         "46.9275",
         "65.47855377197266"
        ],
        [
         "11",
         "2018-11-01 00:00:00",
         "46.9275",
         "65.47855377197266"
        ],
        [
         "12",
         "2019-01-01 00:00:00",
         "46.9275",
         "56.274932861328125"
        ],
        [
         "13",
         "2019-02-07 00:00:00",
         "46.9275",
         "56.274932861328125"
        ],
        [
         "14",
         "2019-05-20 00:00:00",
         "46.9275",
         "56.274932861328125"
        ],
        [
         "15",
         "2019-05-21 00:00:00",
         "46.9275",
         "56.274932861328125"
        ],
        [
         "16",
         "2019-06-01 00:00:00",
         "46.9275",
         "56.274932861328125"
        ],
        [
         "17",
         "2019-07-01 00:00:00",
         "46.9275",
         "56.274932861328125"
        ],
        [
         "18",
         "2019-09-01 00:00:00",
         "66.63427734375",
         "58.332950592041016"
        ],
        [
         "19",
         "2019-10-18 00:00:00",
         "66.63427734375",
         "58.332950592041016"
        ],
        [
         "20",
         "2020-01-01 00:00:00",
         "66.63427734375",
         "58.332950592041016"
        ],
        [
         "21",
         "2020-02-07 00:00:00",
         "66.63427734375",
         "58.332950592041016"
        ],
        [
         "22",
         "2020-02-08 00:00:00",
         "66.63427734375",
         "58.332950592041016"
        ],
        [
         "23",
         "2020-02-14 00:00:00",
         "66.63427734375",
         "58.332950592041016"
        ],
        [
         "24",
         "2020-03-05 00:00:00",
         "66.63427734375",
         "58.332950592041016"
        ],
        [
         "25",
         "2020-07-01 00:00:00",
         "66.63427734375",
         "58.332950592041016"
        ],
        [
         "26",
         "2020-08-16 00:00:00",
         "66.63427734375",
         "58.332950592041016"
        ],
        [
         "27",
         "2020-09-01 00:00:00",
         "66.63427734375",
         "58.332950592041016"
        ],
        [
         "28",
         "2021-01-01 00:00:00",
         "66.63427734375",
         "58.332950592041016"
        ],
        [
         "29",
         "2021-01-14 00:00:00",
         "66.63427734375",
         "58.332950592041016"
        ],
        [
         "30",
         "2021-02-07 00:00:00",
         "66.63427734375",
         "58.332950592041016"
        ],
        [
         "31",
         "2021-03-11 00:00:00",
         "66.63427734375",
         "58.332950592041016"
        ],
        [
         "32",
         "2021-05-01 00:00:00",
         "66.63427734375",
         "58.332950592041016"
        ],
        [
         "33",
         "2021-07-01 00:00:00",
         "66.63427734375",
         "58.332950592041016"
        ],
        [
         "34",
         "2022-01-01 00:00:00",
         "66.63427734375",
         "58.332950592041016"
        ],
        [
         "35",
         "2022-02-07 00:00:00",
         "66.63427734375",
         "58.332950592041016"
        ],
        [
         "36",
         "2022-04-11 00:00:00",
         "66.63427734375",
         "58.332950592041016"
        ],
        [
         "37",
         "2022-05-01 00:00:00",
         "66.63427734375",
         "58.332950592041016"
        ],
        [
         "38",
         "2022-06-01 00:00:00",
         "66.63427734375",
         "58.332950592041016"
        ],
        [
         "39",
         "2022-07-01 00:00:00",
         "66.63427734375",
         "58.332950592041016"
        ],
        [
         "40",
         "2023-01-01 00:00:00",
         "66.63427734375",
         "58.332950592041016"
        ],
        [
         "41",
         "2023-02-07 00:00:00",
         "66.58168029785156",
         "58.332950592041016"
        ],
        [
         "42",
         "2023-07-01 00:00:00",
         "66.58168029785156",
         "58.332950592041016"
        ],
        [
         "43",
         "2023-12-31 00:00:00",
         "66.58168029785156",
         "58.332950592041016"
        ],
        [
         "44",
         "2024-01-01 00:00:00",
         "66.58168029785156",
         "58.332950592041016"
        ],
        [
         "45",
         "2024-06-26 00:00:00",
         "66.58168029785156",
         "58.332950592041016"
        ],
        [
         "46",
         "2024-09-27 00:00:00",
         "66.64169311523438",
         "58.332950592041016"
        ],
        [
         "47",
         "2025-01-01 00:00:00",
         "66.64842987060547",
         "58.332950592041016"
        ],
        [
         "48",
         "2025-02-04 00:00:00",
         "100.0",
         "58.332950592041016"
        ],
        [
         "49",
         "2025-02-07 00:00:00",
         "100.0",
         "58.332950592041016"
        ]
       ],
       "shape": {
        "columns": 3,
        "rows": 62
       }
      },
      "text/html": [
       "<div>\n",
       "<style scoped>\n",
       "    .dataframe tbody tr th:only-of-type {\n",
       "        vertical-align: middle;\n",
       "    }\n",
       "\n",
       "    .dataframe tbody tr th {\n",
       "        vertical-align: top;\n",
       "    }\n",
       "\n",
       "    .dataframe thead th {\n",
       "        text-align: right;\n",
       "    }\n",
       "</style>\n",
       "<table border=\"1\" class=\"dataframe\">\n",
       "  <thead>\n",
       "    <tr style=\"text-align: right;\">\n",
       "      <th></th>\n",
       "      <th>Date</th>\n",
       "      <th>Chinese exports subject to US tariffs</th>\n",
       "      <th>US exports subject to Chinese tariffs</th>\n",
       "    </tr>\n",
       "  </thead>\n",
       "  <tbody>\n",
       "    <tr>\n",
       "      <th>0</th>\n",
       "      <td>2018-01-01</td>\n",
       "      <td>0.000000</td>\n",
       "      <td>0.000000</td>\n",
       "    </tr>\n",
       "    <tr>\n",
       "      <th>1</th>\n",
       "      <td>2018-02-07</td>\n",
       "      <td>0.235773</td>\n",
       "      <td>0.000000</td>\n",
       "    </tr>\n",
       "    <tr>\n",
       "      <th>2</th>\n",
       "      <td>2018-03-23</td>\n",
       "      <td>0.794760</td>\n",
       "      <td>0.000000</td>\n",
       "    </tr>\n",
       "    <tr>\n",
       "      <th>3</th>\n",
       "      <td>2018-04-02</td>\n",
       "      <td>0.794760</td>\n",
       "      <td>1.918093</td>\n",
       "    </tr>\n",
       "    <tr>\n",
       "      <th>4</th>\n",
       "      <td>2018-05-01</td>\n",
       "      <td>0.794760</td>\n",
       "      <td>1.918093</td>\n",
       "    </tr>\n",
       "    <tr>\n",
       "      <th>...</th>\n",
       "      <td>...</td>\n",
       "      <td>...</td>\n",
       "      <td>...</td>\n",
       "    </tr>\n",
       "    <tr>\n",
       "      <th>57</th>\n",
       "      <td>2025-04-10</td>\n",
       "      <td>100.000000</td>\n",
       "      <td>100.000000</td>\n",
       "    </tr>\n",
       "    <tr>\n",
       "      <th>58</th>\n",
       "      <td>2025-04-11</td>\n",
       "      <td>100.000000</td>\n",
       "      <td>100.000000</td>\n",
       "    </tr>\n",
       "    <tr>\n",
       "      <th>59</th>\n",
       "      <td>2025-04-12</td>\n",
       "      <td>100.000000</td>\n",
       "      <td>100.000000</td>\n",
       "    </tr>\n",
       "    <tr>\n",
       "      <th>60</th>\n",
       "      <td>2025-05-03</td>\n",
       "      <td>100.000000</td>\n",
       "      <td>100.000000</td>\n",
       "    </tr>\n",
       "    <tr>\n",
       "      <th>61</th>\n",
       "      <td>2025-05-14</td>\n",
       "      <td>100.000000</td>\n",
       "      <td>100.000000</td>\n",
       "    </tr>\n",
       "  </tbody>\n",
       "</table>\n",
       "<p>62 rows × 3 columns</p>\n",
       "</div>"
      ],
      "text/plain": [
       "         Date  Chinese exports subject to US tariffs  \\\n",
       "0  2018-01-01                               0.000000   \n",
       "1  2018-02-07                               0.235773   \n",
       "2  2018-03-23                               0.794760   \n",
       "3  2018-04-02                               0.794760   \n",
       "4  2018-05-01                               0.794760   \n",
       "..        ...                                    ...   \n",
       "57 2025-04-10                             100.000000   \n",
       "58 2025-04-11                             100.000000   \n",
       "59 2025-04-12                             100.000000   \n",
       "60 2025-05-03                             100.000000   \n",
       "61 2025-05-14                             100.000000   \n",
       "\n",
       "    US exports subject to Chinese tariffs  \n",
       "0                                0.000000  \n",
       "1                                0.000000  \n",
       "2                                0.000000  \n",
       "3                                1.918093  \n",
       "4                                1.918093  \n",
       "..                                    ...  \n",
       "57                             100.000000  \n",
       "58                             100.000000  \n",
       "59                             100.000000  \n",
       "60                             100.000000  \n",
       "61                             100.000000  \n",
       "\n",
       "[62 rows x 3 columns]"
      ]
     },
     "execution_count": 8,
     "metadata": {},
     "output_type": "execute_result"
    }
   ],
   "source": [
    "tariffs = pd.read_excel('us-china-trade-war-tariffs.xlsx', sheet_name='Panel b')\n",
    "\n",
    "tariffs"
   ]
  },
  {
   "cell_type": "code",
   "execution_count": 9,
   "id": "f851fe14",
   "metadata": {},
   "outputs": [],
   "source": [
    "# melt\n",
    "tariffs = tariffs.melt(id_vars=['Date'], var_name='type', value_name='value')\n",
    "\n",
    "tariffs.columns = ['date', 'type', 'value']\n",
    "\n",
    "tariffs['value'] = tariffs['value'] / 100"
   ]
  },
  {
   "cell_type": "code",
   "execution_count": 10,
   "id": "d2639f92",
   "metadata": {},
   "outputs": [],
   "source": [
    "# save to csv\n",
    "tariffs.to_csv('us_china_tariffs.csv', index=False)"
   ]
  },
  {
   "cell_type": "markdown",
   "id": "90e4a339",
   "metadata": {},
   "source": [
    "### II. Consumption"
   ]
  },
  {
   "cell_type": "code",
   "execution_count": 4,
   "id": "8f4dfc61",
   "metadata": {},
   "outputs": [],
   "source": [
    "# import world bank api\n",
    "from wbdata import get_dataframe\n",
    "import wbdata\n",
    "import datetime\n",
    "import pandas as pd"
   ]
  },
  {
   "cell_type": "code",
   "execution_count": 8,
   "id": "aef14871",
   "metadata": {},
   "outputs": [
    {
     "data": {
      "text/html": [
       "<div>\n",
       "<style scoped>\n",
       "    .dataframe tbody tr th:only-of-type {\n",
       "        vertical-align: middle;\n",
       "    }\n",
       "\n",
       "    .dataframe tbody tr th {\n",
       "        vertical-align: top;\n",
       "    }\n",
       "\n",
       "    .dataframe thead th {\n",
       "        text-align: right;\n",
       "    }\n",
       "</style>\n",
       "<table border=\"1\" class=\"dataframe\">\n",
       "  <thead>\n",
       "    <tr style=\"text-align: right;\">\n",
       "      <th></th>\n",
       "      <th>country</th>\n",
       "      <th>date</th>\n",
       "      <th>value</th>\n",
       "    </tr>\n",
       "  </thead>\n",
       "  <tbody>\n",
       "    <tr>\n",
       "      <th>64</th>\n",
       "      <td>China</td>\n",
       "      <td>1960</td>\n",
       "      <td>62.893192</td>\n",
       "    </tr>\n",
       "    <tr>\n",
       "      <th>63</th>\n",
       "      <td>China</td>\n",
       "      <td>1961</td>\n",
       "      <td>80.572870</td>\n",
       "    </tr>\n",
       "    <tr>\n",
       "      <th>62</th>\n",
       "      <td>China</td>\n",
       "      <td>1962</td>\n",
       "      <td>84.853712</td>\n",
       "    </tr>\n",
       "    <tr>\n",
       "      <th>61</th>\n",
       "      <td>China</td>\n",
       "      <td>1963</td>\n",
       "      <td>81.162909</td>\n",
       "    </tr>\n",
       "    <tr>\n",
       "      <th>60</th>\n",
       "      <td>China</td>\n",
       "      <td>1964</td>\n",
       "      <td>73.205613</td>\n",
       "    </tr>\n",
       "  </tbody>\n",
       "</table>\n",
       "</div>"
      ],
      "text/plain": [
       "   country  date      value\n",
       "64   China  1960  62.893192\n",
       "63   China  1961  80.572870\n",
       "62   China  1962  84.853712\n",
       "61   China  1963  81.162909\n",
       "60   China  1964  73.205613"
      ]
     },
     "execution_count": 8,
     "metadata": {},
     "output_type": "execute_result"
    }
   ],
   "source": [
    "# Define the indicator for final consumption as % of GDP\n",
    "indicators = {'NE.CON.TOTL.ZS': 'value'}\n",
    "\n",
    "# Define the countries (China, US, UK)\n",
    "countries = ['CHN', 'USA', 'GBR']\n",
    "\n",
    "# Fetch the data without date restriction to get the full available time series\n",
    "consumption_df = get_dataframe(indicators, country=countries)\n",
    "\n",
    "# Clean up the dataframe\n",
    "consumption_df = consumption_df.reset_index()\n",
    "\n",
    "# Sort by country and year for better readability\n",
    "consumption_df = consumption_df.sort_values(['country', 'date'])\n",
    "\n",
    "# Display the first few rows\n",
    "consumption_df.head()"
   ]
  },
  {
   "cell_type": "code",
   "execution_count": 10,
   "id": "465c13b1",
   "metadata": {},
   "outputs": [],
   "source": [
    "consumption_df['value'] = consumption_df['value'] / 100"
   ]
  },
  {
   "cell_type": "code",
   "execution_count": null,
   "id": "88f378ef",
   "metadata": {},
   "outputs": [],
   "source": []
  },
  {
   "cell_type": "code",
   "execution_count": 11,
   "id": "f7837e8d",
   "metadata": {},
   "outputs": [],
   "source": [
    "# remove rows with NaN values\n",
    "consumption_df = consumption_df.dropna()\n",
    "\n",
    "# export to csv\n",
    "consumption_df.to_csv('consumption.csv', index=False)"
   ]
  },
  {
   "cell_type": "code",
   "execution_count": null,
   "id": "7fecbe48",
   "metadata": {},
   "outputs": [],
   "source": []
  }
 ],
 "metadata": {
  "kernelspec": {
   "display_name": ".venv",
   "language": "python",
   "name": "python3"
  },
  "language_info": {
   "codemirror_mode": {
    "name": "ipython",
    "version": 3
   },
   "file_extension": ".py",
   "mimetype": "text/x-python",
   "name": "python",
   "nbconvert_exporter": "python",
   "pygments_lexer": "ipython3",
   "version": "3.9.13"
  }
 },
 "nbformat": 4,
 "nbformat_minor": 5
}
