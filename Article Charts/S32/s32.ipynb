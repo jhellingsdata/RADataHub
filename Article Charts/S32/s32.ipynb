{
 "cells": [
  {
   "cell_type": "code",
   "execution_count": 10,
   "metadata": {},
   "outputs": [],
   "source": [
    "import pandas as pd\n",
    "import pycountry"
   ]
  },
  {
   "cell_type": "code",
   "execution_count": 18,
   "metadata": {},
   "outputs": [],
   "source": [
    "df = pd.read_csv(\"international-tourist-trips-per-1000-people.csv\")\n",
    "df.columns = ['name', 'iso3', 'date', 'value']\n",
    "def get_iso_numeric(iso3):\n",
    "    try:\n",
    "        return pycountry.countries.get(alpha_3=iso3).numeric\n",
    "    except:\n",
    "        return None\n",
    "df['iso_numeric'] = df['iso3'].apply(get_iso_numeric)\n",
    "\n",
    "df.to_csv(\"s32.csv\", index=False)"
   ]
  }
 ],
 "metadata": {
  "kernelspec": {
   "display_name": "base",
   "language": "python",
   "name": "python3"
  },
  "language_info": {
   "codemirror_mode": {
    "name": "ipython",
    "version": 3
   },
   "file_extension": ".py",
   "mimetype": "text/x-python",
   "name": "python",
   "nbconvert_exporter": "python",
   "pygments_lexer": "ipython3",
   "version": "3.11.4"
  }
 },
 "nbformat": 4,
 "nbformat_minor": 2
}
