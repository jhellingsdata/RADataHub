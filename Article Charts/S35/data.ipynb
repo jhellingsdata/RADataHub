{
 "cells": [
  {
   "cell_type": "code",
   "execution_count": 1,
   "id": "2008923e",
   "metadata": {},
   "outputs": [],
   "source": [
    "import pandas as pd"
   ]
  },
  {
   "cell_type": "markdown",
   "id": "8ea5dfb3",
   "metadata": {},
   "source": [
    "## Figure 1"
   ]
  },
  {
   "cell_type": "code",
   "execution_count": 2,
   "id": "1937deef",
   "metadata": {},
   "outputs": [
    {
     "data": {
      "application/vnd.microsoft.datawrangler.viewer.v0+json": {
       "columns": [
        {
         "name": "index",
         "rawType": "int64",
         "type": "integer"
        },
        {
         "name": "year",
         "rawType": "int64",
         "type": "integer"
        },
        {
         "name": "country",
         "rawType": "object",
         "type": "string"
        },
        {
         "name": "Instrumenttype",
         "rawType": "object",
         "type": "string"
        },
        {
         "name": "perc_type",
         "rawType": "float64",
         "type": "float"
        }
       ],
       "conversionMethod": "pd.DataFrame",
       "ref": "c42258e0-f43c-48f9-9f5f-7de27f029270",
       "rows": [
        [
         "0",
         "2019",
         "Canada",
         "Grants",
         "0.04400000022724271"
        ],
        [
         "1",
         "2019",
         "Ireland",
         "Grants",
         "0.2250000050989911"
        ],
        [
         "2",
         "2019",
         "Germany",
         "Grants",
         "0.25700000079814345"
        ],
        [
         "3",
         "2019",
         "United Kingdom",
         "Grants",
         "0.28299999923910946"
        ],
        [
         "4",
         "2019",
         "Sweden",
         "Grants",
         "0.30699999968055636"
        ],
        [
         "5",
         "2019",
         "France",
         "Grants",
         "0.46600000467151403"
        ],
        [
         "6",
         "2019",
         "Netherlands",
         "Grants",
         "0.4670000026235357"
        ],
        [
         "7",
         "2019",
         "Israel",
         "Grants",
         "0.5060000065714121"
        ],
        [
         "8",
         "2019",
         "Denmark",
         "Grants",
         "0.5339999991701916"
        ],
        [
         "9",
         "2019",
         "Italy",
         "Grants",
         "0.7470000041648746"
        ],
        [
         "10",
         "2019",
         "Slovenia",
         "Grants",
         "1.4000000094529241"
        ],
        [
         "11",
         "2019",
         "Ireland",
         "Guarantees",
         "0.025000000139698386"
        ],
        [
         "12",
         "2019",
         "Netherlands",
         "Guarantees",
         "0.18200000608339906"
        ],
        [
         "13",
         "2019",
         "United Kingdom",
         "Guarantees",
         "0.20999999530613422"
        ],
        [
         "14",
         "2019",
         "Germany",
         "Guarantees",
         "0.6139999725855887"
        ],
        [
         "15",
         "2019",
         "Denmark",
         "Guarantees",
         "0.820000016130507"
        ],
        [
         "16",
         "2019",
         "France",
         "Guarantees",
         "1.0149999796412885"
        ],
        [
         "17",
         "2019",
         "Sweden",
         "Guarantees",
         "1.1140000000596046"
        ],
        [
         "18",
         "2019",
         "Italy",
         "Guarantees",
         "1.3529999870806932"
        ],
        [
         "19",
         "2019",
         "Israel",
         "Guarantees",
         "1.9280000403523445"
        ],
        [
         "20",
         "2019",
         "Slovenia",
         "Guarantees",
         "2.8610000452026725"
        ],
        [
         "21",
         "2019",
         "Canada",
         "Guarantees",
         "3.4129999643191695"
        ],
        [
         "22",
         "2019",
         "United Kingdom",
         "Loans",
         "0.030000000027939677"
        ],
        [
         "23",
         "2019",
         "Israel",
         "Loans",
         "0.052000000490807"
        ],
        [
         "24",
         "2019",
         "Ireland",
         "Loans",
         "0.08400000003166497"
        ],
        [
         "25",
         "2019",
         "Netherlands",
         "Loans",
         "0.08999999973457307"
        ],
        [
         "26",
         "2019",
         "Denmark",
         "Loans",
         "0.3320000069215894"
        ],
        [
         "27",
         "2019",
         "Italy",
         "Loans",
         "0.4780000102473423"
        ],
        [
         "28",
         "2019",
         "France",
         "Loans",
         "0.7040000022388995"
        ],
        [
         "29",
         "2019",
         "Germany",
         "Loans",
         "0.7509999943431467"
        ],
        [
         "30",
         "2019",
         "Slovenia",
         "Loans",
         "1.0759999975562096"
        ],
        [
         "31",
         "2019",
         "Sweden",
         "Loans",
         "1.1939999770838767"
        ],
        [
         "32",
         "2019",
         "Canada",
         "Loans",
         "1.593000023276545"
        ],
        [
         "33",
         "2019",
         "Germany",
         "Tax expenditures",
         "0.2859999999636784"
        ],
        [
         "34",
         "2019",
         "Sweden",
         "Tax expenditures",
         "0.31200000212993473"
        ],
        [
         "35",
         "2019",
         "Ireland",
         "Tax expenditures",
         "0.5140000059036538"
        ],
        [
         "36",
         "2019",
         "Israel",
         "Tax expenditures",
         "0.6189999975031242"
        ],
        [
         "37",
         "2019",
         "Italy",
         "Tax expenditures",
         "0.6960000046528876"
        ],
        [
         "38",
         "2019",
         "Slovenia",
         "Tax expenditures",
         "0.7010000078007579"
        ],
        [
         "39",
         "2019",
         "Canada",
         "Tax expenditures",
         "0.7200000056764111"
        ],
        [
         "40",
         "2019",
         "Denmark",
         "Tax expenditures",
         "1.1950000131037086"
        ],
        [
         "41",
         "2019",
         "Netherlands",
         "Tax expenditures",
         "1.3909999839961529"
        ],
        [
         "42",
         "2019",
         "France",
         "Tax expenditures",
         "1.5920000041369349"
        ],
        [
         "43",
         "2019",
         "United Kingdom",
         "Tax expenditures",
         "2.140000017825514"
        ]
       ],
       "shape": {
        "columns": 4,
        "rows": 44
       }
      },
      "text/html": [
       "<div>\n",
       "<style scoped>\n",
       "    .dataframe tbody tr th:only-of-type {\n",
       "        vertical-align: middle;\n",
       "    }\n",
       "\n",
       "    .dataframe tbody tr th {\n",
       "        vertical-align: top;\n",
       "    }\n",
       "\n",
       "    .dataframe thead th {\n",
       "        text-align: right;\n",
       "    }\n",
       "</style>\n",
       "<table border=\"1\" class=\"dataframe\">\n",
       "  <thead>\n",
       "    <tr style=\"text-align: right;\">\n",
       "      <th></th>\n",
       "      <th>year</th>\n",
       "      <th>country</th>\n",
       "      <th>Instrumenttype</th>\n",
       "      <th>perc_type</th>\n",
       "    </tr>\n",
       "  </thead>\n",
       "  <tbody>\n",
       "    <tr>\n",
       "      <th>0</th>\n",
       "      <td>2019</td>\n",
       "      <td>Canada</td>\n",
       "      <td>Grants</td>\n",
       "      <td>0.044</td>\n",
       "    </tr>\n",
       "    <tr>\n",
       "      <th>1</th>\n",
       "      <td>2019</td>\n",
       "      <td>Ireland</td>\n",
       "      <td>Grants</td>\n",
       "      <td>0.225</td>\n",
       "    </tr>\n",
       "    <tr>\n",
       "      <th>2</th>\n",
       "      <td>2019</td>\n",
       "      <td>Germany</td>\n",
       "      <td>Grants</td>\n",
       "      <td>0.257</td>\n",
       "    </tr>\n",
       "    <tr>\n",
       "      <th>3</th>\n",
       "      <td>2019</td>\n",
       "      <td>United Kingdom</td>\n",
       "      <td>Grants</td>\n",
       "      <td>0.283</td>\n",
       "    </tr>\n",
       "    <tr>\n",
       "      <th>4</th>\n",
       "      <td>2019</td>\n",
       "      <td>Sweden</td>\n",
       "      <td>Grants</td>\n",
       "      <td>0.307</td>\n",
       "    </tr>\n",
       "    <tr>\n",
       "      <th>5</th>\n",
       "      <td>2019</td>\n",
       "      <td>France</td>\n",
       "      <td>Grants</td>\n",
       "      <td>0.466</td>\n",
       "    </tr>\n",
       "    <tr>\n",
       "      <th>6</th>\n",
       "      <td>2019</td>\n",
       "      <td>Netherlands</td>\n",
       "      <td>Grants</td>\n",
       "      <td>0.467</td>\n",
       "    </tr>\n",
       "    <tr>\n",
       "      <th>7</th>\n",
       "      <td>2019</td>\n",
       "      <td>Israel</td>\n",
       "      <td>Grants</td>\n",
       "      <td>0.506</td>\n",
       "    </tr>\n",
       "    <tr>\n",
       "      <th>8</th>\n",
       "      <td>2019</td>\n",
       "      <td>Denmark</td>\n",
       "      <td>Grants</td>\n",
       "      <td>0.534</td>\n",
       "    </tr>\n",
       "    <tr>\n",
       "      <th>9</th>\n",
       "      <td>2019</td>\n",
       "      <td>Italy</td>\n",
       "      <td>Grants</td>\n",
       "      <td>0.747</td>\n",
       "    </tr>\n",
       "    <tr>\n",
       "      <th>10</th>\n",
       "      <td>2019</td>\n",
       "      <td>Slovenia</td>\n",
       "      <td>Grants</td>\n",
       "      <td>1.400</td>\n",
       "    </tr>\n",
       "    <tr>\n",
       "      <th>11</th>\n",
       "      <td>2019</td>\n",
       "      <td>Ireland</td>\n",
       "      <td>Guarantees</td>\n",
       "      <td>0.025</td>\n",
       "    </tr>\n",
       "    <tr>\n",
       "      <th>12</th>\n",
       "      <td>2019</td>\n",
       "      <td>Netherlands</td>\n",
       "      <td>Guarantees</td>\n",
       "      <td>0.182</td>\n",
       "    </tr>\n",
       "    <tr>\n",
       "      <th>13</th>\n",
       "      <td>2019</td>\n",
       "      <td>United Kingdom</td>\n",
       "      <td>Guarantees</td>\n",
       "      <td>0.210</td>\n",
       "    </tr>\n",
       "    <tr>\n",
       "      <th>14</th>\n",
       "      <td>2019</td>\n",
       "      <td>Germany</td>\n",
       "      <td>Guarantees</td>\n",
       "      <td>0.614</td>\n",
       "    </tr>\n",
       "    <tr>\n",
       "      <th>15</th>\n",
       "      <td>2019</td>\n",
       "      <td>Denmark</td>\n",
       "      <td>Guarantees</td>\n",
       "      <td>0.820</td>\n",
       "    </tr>\n",
       "    <tr>\n",
       "      <th>16</th>\n",
       "      <td>2019</td>\n",
       "      <td>France</td>\n",
       "      <td>Guarantees</td>\n",
       "      <td>1.015</td>\n",
       "    </tr>\n",
       "    <tr>\n",
       "      <th>17</th>\n",
       "      <td>2019</td>\n",
       "      <td>Sweden</td>\n",
       "      <td>Guarantees</td>\n",
       "      <td>1.114</td>\n",
       "    </tr>\n",
       "    <tr>\n",
       "      <th>18</th>\n",
       "      <td>2019</td>\n",
       "      <td>Italy</td>\n",
       "      <td>Guarantees</td>\n",
       "      <td>1.353</td>\n",
       "    </tr>\n",
       "    <tr>\n",
       "      <th>19</th>\n",
       "      <td>2019</td>\n",
       "      <td>Israel</td>\n",
       "      <td>Guarantees</td>\n",
       "      <td>1.928</td>\n",
       "    </tr>\n",
       "    <tr>\n",
       "      <th>20</th>\n",
       "      <td>2019</td>\n",
       "      <td>Slovenia</td>\n",
       "      <td>Guarantees</td>\n",
       "      <td>2.861</td>\n",
       "    </tr>\n",
       "    <tr>\n",
       "      <th>21</th>\n",
       "      <td>2019</td>\n",
       "      <td>Canada</td>\n",
       "      <td>Guarantees</td>\n",
       "      <td>3.413</td>\n",
       "    </tr>\n",
       "    <tr>\n",
       "      <th>22</th>\n",
       "      <td>2019</td>\n",
       "      <td>United Kingdom</td>\n",
       "      <td>Loans</td>\n",
       "      <td>0.030</td>\n",
       "    </tr>\n",
       "    <tr>\n",
       "      <th>23</th>\n",
       "      <td>2019</td>\n",
       "      <td>Israel</td>\n",
       "      <td>Loans</td>\n",
       "      <td>0.052</td>\n",
       "    </tr>\n",
       "    <tr>\n",
       "      <th>24</th>\n",
       "      <td>2019</td>\n",
       "      <td>Ireland</td>\n",
       "      <td>Loans</td>\n",
       "      <td>0.084</td>\n",
       "    </tr>\n",
       "    <tr>\n",
       "      <th>25</th>\n",
       "      <td>2019</td>\n",
       "      <td>Netherlands</td>\n",
       "      <td>Loans</td>\n",
       "      <td>0.090</td>\n",
       "    </tr>\n",
       "    <tr>\n",
       "      <th>26</th>\n",
       "      <td>2019</td>\n",
       "      <td>Denmark</td>\n",
       "      <td>Loans</td>\n",
       "      <td>0.332</td>\n",
       "    </tr>\n",
       "    <tr>\n",
       "      <th>27</th>\n",
       "      <td>2019</td>\n",
       "      <td>Italy</td>\n",
       "      <td>Loans</td>\n",
       "      <td>0.478</td>\n",
       "    </tr>\n",
       "    <tr>\n",
       "      <th>28</th>\n",
       "      <td>2019</td>\n",
       "      <td>France</td>\n",
       "      <td>Loans</td>\n",
       "      <td>0.704</td>\n",
       "    </tr>\n",
       "    <tr>\n",
       "      <th>29</th>\n",
       "      <td>2019</td>\n",
       "      <td>Germany</td>\n",
       "      <td>Loans</td>\n",
       "      <td>0.751</td>\n",
       "    </tr>\n",
       "    <tr>\n",
       "      <th>30</th>\n",
       "      <td>2019</td>\n",
       "      <td>Slovenia</td>\n",
       "      <td>Loans</td>\n",
       "      <td>1.076</td>\n",
       "    </tr>\n",
       "    <tr>\n",
       "      <th>31</th>\n",
       "      <td>2019</td>\n",
       "      <td>Sweden</td>\n",
       "      <td>Loans</td>\n",
       "      <td>1.194</td>\n",
       "    </tr>\n",
       "    <tr>\n",
       "      <th>32</th>\n",
       "      <td>2019</td>\n",
       "      <td>Canada</td>\n",
       "      <td>Loans</td>\n",
       "      <td>1.593</td>\n",
       "    </tr>\n",
       "    <tr>\n",
       "      <th>33</th>\n",
       "      <td>2019</td>\n",
       "      <td>Germany</td>\n",
       "      <td>Tax expenditures</td>\n",
       "      <td>0.286</td>\n",
       "    </tr>\n",
       "    <tr>\n",
       "      <th>34</th>\n",
       "      <td>2019</td>\n",
       "      <td>Sweden</td>\n",
       "      <td>Tax expenditures</td>\n",
       "      <td>0.312</td>\n",
       "    </tr>\n",
       "    <tr>\n",
       "      <th>35</th>\n",
       "      <td>2019</td>\n",
       "      <td>Ireland</td>\n",
       "      <td>Tax expenditures</td>\n",
       "      <td>0.514</td>\n",
       "    </tr>\n",
       "    <tr>\n",
       "      <th>36</th>\n",
       "      <td>2019</td>\n",
       "      <td>Israel</td>\n",
       "      <td>Tax expenditures</td>\n",
       "      <td>0.619</td>\n",
       "    </tr>\n",
       "    <tr>\n",
       "      <th>37</th>\n",
       "      <td>2019</td>\n",
       "      <td>Italy</td>\n",
       "      <td>Tax expenditures</td>\n",
       "      <td>0.696</td>\n",
       "    </tr>\n",
       "    <tr>\n",
       "      <th>38</th>\n",
       "      <td>2019</td>\n",
       "      <td>Slovenia</td>\n",
       "      <td>Tax expenditures</td>\n",
       "      <td>0.701</td>\n",
       "    </tr>\n",
       "    <tr>\n",
       "      <th>39</th>\n",
       "      <td>2019</td>\n",
       "      <td>Canada</td>\n",
       "      <td>Tax expenditures</td>\n",
       "      <td>0.720</td>\n",
       "    </tr>\n",
       "    <tr>\n",
       "      <th>40</th>\n",
       "      <td>2019</td>\n",
       "      <td>Denmark</td>\n",
       "      <td>Tax expenditures</td>\n",
       "      <td>1.195</td>\n",
       "    </tr>\n",
       "    <tr>\n",
       "      <th>41</th>\n",
       "      <td>2019</td>\n",
       "      <td>Netherlands</td>\n",
       "      <td>Tax expenditures</td>\n",
       "      <td>1.391</td>\n",
       "    </tr>\n",
       "    <tr>\n",
       "      <th>42</th>\n",
       "      <td>2019</td>\n",
       "      <td>France</td>\n",
       "      <td>Tax expenditures</td>\n",
       "      <td>1.592</td>\n",
       "    </tr>\n",
       "    <tr>\n",
       "      <th>43</th>\n",
       "      <td>2019</td>\n",
       "      <td>United Kingdom</td>\n",
       "      <td>Tax expenditures</td>\n",
       "      <td>2.140</td>\n",
       "    </tr>\n",
       "  </tbody>\n",
       "</table>\n",
       "</div>"
      ],
      "text/plain": [
       "    year         country    Instrumenttype  perc_type\n",
       "0   2019          Canada            Grants      0.044\n",
       "1   2019         Ireland            Grants      0.225\n",
       "2   2019         Germany            Grants      0.257\n",
       "3   2019  United Kingdom            Grants      0.283\n",
       "4   2019          Sweden            Grants      0.307\n",
       "5   2019          France            Grants      0.466\n",
       "6   2019     Netherlands            Grants      0.467\n",
       "7   2019          Israel            Grants      0.506\n",
       "8   2019         Denmark            Grants      0.534\n",
       "9   2019           Italy            Grants      0.747\n",
       "10  2019        Slovenia            Grants      1.400\n",
       "11  2019         Ireland        Guarantees      0.025\n",
       "12  2019     Netherlands        Guarantees      0.182\n",
       "13  2019  United Kingdom        Guarantees      0.210\n",
       "14  2019         Germany        Guarantees      0.614\n",
       "15  2019         Denmark        Guarantees      0.820\n",
       "16  2019          France        Guarantees      1.015\n",
       "17  2019          Sweden        Guarantees      1.114\n",
       "18  2019           Italy        Guarantees      1.353\n",
       "19  2019          Israel        Guarantees      1.928\n",
       "20  2019        Slovenia        Guarantees      2.861\n",
       "21  2019          Canada        Guarantees      3.413\n",
       "22  2019  United Kingdom             Loans      0.030\n",
       "23  2019          Israel             Loans      0.052\n",
       "24  2019         Ireland             Loans      0.084\n",
       "25  2019     Netherlands             Loans      0.090\n",
       "26  2019         Denmark             Loans      0.332\n",
       "27  2019           Italy             Loans      0.478\n",
       "28  2019          France             Loans      0.704\n",
       "29  2019         Germany             Loans      0.751\n",
       "30  2019        Slovenia             Loans      1.076\n",
       "31  2019          Sweden             Loans      1.194\n",
       "32  2019          Canada             Loans      1.593\n",
       "33  2019         Germany  Tax expenditures      0.286\n",
       "34  2019          Sweden  Tax expenditures      0.312\n",
       "35  2019         Ireland  Tax expenditures      0.514\n",
       "36  2019          Israel  Tax expenditures      0.619\n",
       "37  2019           Italy  Tax expenditures      0.696\n",
       "38  2019        Slovenia  Tax expenditures      0.701\n",
       "39  2019          Canada  Tax expenditures      0.720\n",
       "40  2019         Denmark  Tax expenditures      1.195\n",
       "41  2019     Netherlands  Tax expenditures      1.391\n",
       "42  2019          France  Tax expenditures      1.592\n",
       "43  2019  United Kingdom  Tax expenditures      2.140"
      ]
     },
     "execution_count": 2,
     "metadata": {},
     "output_type": "execute_result"
    }
   ],
   "source": [
    "fig1_data = pd.read_excel(\"Industrial_strategy_figures_data.xlsx\", sheet_name=\"Figure1\")\n",
    "\n",
    "fig1_data"
   ]
  },
  {
   "cell_type": "code",
   "execution_count": 3,
   "id": "530e304f",
   "metadata": {},
   "outputs": [],
   "source": [
    "fig1_data.to_csv(\"fig1_data.csv\", index=False)"
   ]
  },
  {
   "cell_type": "markdown",
   "id": "a989b402",
   "metadata": {},
   "source": [
    "## Figure 2"
   ]
  },
  {
   "cell_type": "code",
   "execution_count": null,
   "id": "b0de6afc",
   "metadata": {},
   "outputs": [
    {
     "data": {
      "application/vnd.microsoft.datawrangler.viewer.v0+json": {
       "columns": [
        {
         "name": "index",
         "rawType": "int64",
         "type": "integer"
        },
        {
         "name": "log(lab prod)",
         "rawType": "object",
         "type": "string"
        },
        {
         "name": "Coefficient",
         "rawType": "float64",
         "type": "float"
        },
        {
         "name": "Lower",
         "rawType": "float64",
         "type": "float"
        },
        {
         "name": "Upper",
         "rawType": "float64",
         "type": "float"
        },
        {
         "name": "Lower.1",
         "rawType": "object",
         "type": "unknown"
        },
        {
         "name": "Upper.1",
         "rawType": "float64",
         "type": "float"
        },
        {
         "name": "Lower.2",
         "rawType": "float64",
         "type": "float"
        },
        {
         "name": "Upper.2",
         "rawType": "float64",
         "type": "float"
        }
       ],
       "conversionMethod": "pd.DataFrame",
       "ref": "6b91663a-be96-495d-a663-1a268a6d5c1b",
       "rows": [
        [
         "0",
         "t-2",
         "-0.3075921",
         "-0.4953526",
         "-0.1198316",
         "-0.4650435",
         "-0.1501407",
         "-0.4301779",
         "-0.1850063"
        ],
        [
         "1",
         "t-1",
         "-0.3462399",
         "-0.6787116",
         "-0.0137682",
         "-0.6251187",
         "-0.0673611",
         "-0.56342",
         "-0.1290597"
        ],
        [
         "2",
         "t",
         "-0.2615326",
         "-0.6782521",
         "0.155187",
         "-0.6111247",
         "0.0880596",
         "-0.5338149",
         "0.0107497"
        ],
        [
         "3",
         "t+1",
         "0.162054",
         "-0.3322652",
         "0.6563731",
         "-0.2525833",
         "0.5766913",
         "-0.1608497",
         "0.4849576"
        ],
        [
         "4",
         "t+2",
         "0.2333228",
         "-0.3932008",
         "0.8598463",
         " -.2920646    .7587101",
         null,
         "-0.1757243",
         "0.6423698"
        ]
       ],
       "shape": {
        "columns": 8,
        "rows": 5
       }
      },
      "text/html": [
       "<div>\n",
       "<style scoped>\n",
       "    .dataframe tbody tr th:only-of-type {\n",
       "        vertical-align: middle;\n",
       "    }\n",
       "\n",
       "    .dataframe tbody tr th {\n",
       "        vertical-align: top;\n",
       "    }\n",
       "\n",
       "    .dataframe thead th {\n",
       "        text-align: right;\n",
       "    }\n",
       "</style>\n",
       "<table border=\"1\" class=\"dataframe\">\n",
       "  <thead>\n",
       "    <tr style=\"text-align: right;\">\n",
       "      <th></th>\n",
       "      <th>log(lab prod)</th>\n",
       "      <th>Coefficient</th>\n",
       "      <th>Lower</th>\n",
       "      <th>Upper</th>\n",
       "      <th>Lower.1</th>\n",
       "      <th>Upper.1</th>\n",
       "      <th>Lower.2</th>\n",
       "      <th>Upper.2</th>\n",
       "    </tr>\n",
       "  </thead>\n",
       "  <tbody>\n",
       "    <tr>\n",
       "      <th>0</th>\n",
       "      <td>t-2</td>\n",
       "      <td>-0.307592</td>\n",
       "      <td>-0.495353</td>\n",
       "      <td>-0.119832</td>\n",
       "      <td>-0.465043</td>\n",
       "      <td>-0.150141</td>\n",
       "      <td>-0.430178</td>\n",
       "      <td>-0.185006</td>\n",
       "    </tr>\n",
       "    <tr>\n",
       "      <th>1</th>\n",
       "      <td>t-1</td>\n",
       "      <td>-0.346240</td>\n",
       "      <td>-0.678712</td>\n",
       "      <td>-0.013768</td>\n",
       "      <td>-0.625119</td>\n",
       "      <td>-0.067361</td>\n",
       "      <td>-0.563420</td>\n",
       "      <td>-0.129060</td>\n",
       "    </tr>\n",
       "    <tr>\n",
       "      <th>2</th>\n",
       "      <td>t</td>\n",
       "      <td>-0.261533</td>\n",
       "      <td>-0.678252</td>\n",
       "      <td>0.155187</td>\n",
       "      <td>-0.611125</td>\n",
       "      <td>0.088060</td>\n",
       "      <td>-0.533815</td>\n",
       "      <td>0.010750</td>\n",
       "    </tr>\n",
       "    <tr>\n",
       "      <th>3</th>\n",
       "      <td>t+1</td>\n",
       "      <td>0.162054</td>\n",
       "      <td>-0.332265</td>\n",
       "      <td>0.656373</td>\n",
       "      <td>-0.252583</td>\n",
       "      <td>0.576691</td>\n",
       "      <td>-0.160850</td>\n",
       "      <td>0.484958</td>\n",
       "    </tr>\n",
       "    <tr>\n",
       "      <th>4</th>\n",
       "      <td>t+2</td>\n",
       "      <td>0.233323</td>\n",
       "      <td>-0.393201</td>\n",
       "      <td>0.859846</td>\n",
       "      <td>-.2920646    .7587101</td>\n",
       "      <td>NaN</td>\n",
       "      <td>-0.175724</td>\n",
       "      <td>0.642370</td>\n",
       "    </tr>\n",
       "  </tbody>\n",
       "</table>\n",
       "</div>"
      ],
      "text/plain": [
       "  log(lab prod)  Coefficient     Lower     Upper                 Lower.1  \\\n",
       "0           t-2    -0.307592 -0.495353 -0.119832               -0.465043   \n",
       "1           t-1    -0.346240 -0.678712 -0.013768               -0.625119   \n",
       "2             t    -0.261533 -0.678252  0.155187               -0.611125   \n",
       "3           t+1     0.162054 -0.332265  0.656373               -0.252583   \n",
       "4           t+2     0.233323 -0.393201  0.859846   -.2920646    .7587101   \n",
       "\n",
       "    Upper.1   Lower.2   Upper.2  \n",
       "0 -0.150141 -0.430178 -0.185006  \n",
       "1 -0.067361 -0.563420 -0.129060  \n",
       "2  0.088060 -0.533815  0.010750  \n",
       "3  0.576691 -0.160850  0.484958  \n",
       "4       NaN -0.175724  0.642370  "
      ]
     },
     "execution_count": 13,
     "metadata": {},
     "output_type": "execute_result"
    }
   ],
   "source": [
    "fig2_data = pd.read_excel(\n",
    "    \"Industrial_strategy_figures_data.xlsx\",\n",
    "    sheet_name=\"Figure2\",\n",
    "    skiprows=1\n",
    "                          )\n",
    "\n",
    "fig2_data"
   ]
  },
  {
   "cell_type": "code",
   "execution_count": 19,
   "id": "4dc1a071",
   "metadata": {},
   "outputs": [],
   "source": [
    "fig2_data.columns = ['log(lab prod)', 'Coefficient', 'Lower (95)', 'Upper (95)', 'Lower (90)', 'Upper (90)',\n",
    "       'Lower (80)', 'Upper (80)']"
   ]
  },
  {
   "cell_type": "code",
   "execution_count": 20,
   "id": "d667501b",
   "metadata": {},
   "outputs": [],
   "source": [
    "fig2_data.to_csv(\"fig2_data.csv\", index=False)"
   ]
  },
  {
   "cell_type": "markdown",
   "id": "d4d5e80e",
   "metadata": {},
   "source": [
    "## Figure 3"
   ]
  },
  {
   "cell_type": "code",
   "execution_count": 15,
   "id": "fdef25b1",
   "metadata": {},
   "outputs": [
    {
     "data": {
      "application/vnd.microsoft.datawrangler.viewer.v0+json": {
       "columns": [
        {
         "name": "index",
         "rawType": "int64",
         "type": "integer"
        },
        {
         "name": "coordinate_x",
         "rawType": "float64",
         "type": "float"
        },
        {
         "name": "coordinate_y",
         "rawType": "float64",
         "type": "float"
        },
        {
         "name": "NUTS_NAME",
         "rawType": "object",
         "type": "string"
        },
        {
         "name": "ITL_ID",
         "rawType": "object",
         "type": "string"
        },
        {
         "name": "LQ",
         "rawType": "float64",
         "type": "float"
        },
        {
         "name": "percentile",
         "rawType": "object",
         "type": "string"
        }
       ],
       "conversionMethod": "pd.DataFrame",
       "ref": "20bed487-eba0-4512-9d21-caa0b83ea9c3",
       "rows": [
        [
         "0",
         "3593456.8361589587",
         "3556013.229686099",
         "Hartlepool and Stockton-on-Tees",
         "TLC11",
         "0.8784136055774208",
         "<75"
        ],
        [
         "1",
         "3608556.629738687",
         "3548660.3565548747",
         "South Teesside",
         "TLC12",
         "0.8465573805292148",
         "<75"
        ],
        [
         "2",
         "3576857.9669929435",
         "3553032.1547003016",
         "Darlington",
         "TLC13",
         "0.9103014018724066",
         "<75"
        ],
        [
         "3",
         "3561450.3516516215",
         "3572082.3748435383",
         "Durham CC",
         "TLC14",
         "0.90451436919486",
         "<75"
        ],
        [
         "4",
         "3557123.945700035",
         "3634652.891754048",
         "Northumberland",
         "TLC21",
         "0.7662069453756395",
         "<75"
        ],
        [
         "5",
         "3581339.8193622855",
         "3601244.5756903198",
         "Tyneside",
         "TLC22",
         "0.8680950771025926",
         "<75"
        ],
        [
         "6",
         "3589563.7358294576",
         "3589022.9719416727",
         "Sunderland",
         "TLC23",
         "0.8441358543921944",
         "<75"
        ],
        [
         "7",
         "3467384.370133351",
         "3577037.5867886744",
         "West Cumbria",
         "TLD11",
         "0.764040106524331",
         "<75"
        ],
        [
         "8",
         "3502795.6006067414",
         "3571144.5327189276",
         "East Cumbria",
         "TLD12",
         "0.5931209453386365",
         "<75"
        ],
        [
         "9",
         "3512427.457744092",
         "3439518.77422213",
         "Manchester",
         "TLD33",
         "1.0092055711630685",
         "75-90"
        ],
        [
         "10",
         "3504130.7226771647",
         "3441863.5599534144",
         "Greater Manchester South West",
         "TLD34",
         "1.0077797166626137",
         "75-90"
        ],
        [
         "11",
         "3521031.5586603982",
         "3436156.553832501",
         "Greater Manchester South East",
         "TLD35",
         "0.9283945819760341",
         "<75"
        ],
        [
         "12",
         "3494865.9490846517",
         "3453945.7622573017",
         "Greater Manchester North West",
         "TLD36",
         "0.8090066911385606",
         "<75"
        ],
        [
         "13",
         "3520297.3843405847",
         "3453811.1930227107",
         "Greater Manchester North East",
         "TLD37",
         "0.9010384849607797",
         "<75"
        ],
        [
         "14",
         "3502029.7316938755",
         "3469302.6714604455",
         "Blackburn with Darwen",
         "TLD41",
         "0.8686441628250221",
         "<75"
        ],
        [
         "15",
         "3467838.167535992",
         "3488945.914508658",
         "Blackpool",
         "TLD42",
         "0.7294153956129458",
         "<75"
        ],
        [
         "16",
         "3490443.81338863",
         "3507375.9053631327",
         "Lancaster and Wyre",
         "TLD44",
         "0.8646108127951874",
         "<75"
        ],
        [
         "17",
         "3497155.9887375385",
         "3488034.3834538786",
         "Mid Lancashire",
         "TLD45",
         "0.8891015795038375",
         "<75"
        ],
        [
         "18",
         "3518097.4381212587",
         "3476211.2024919027",
         "East Lancashire",
         "TLD46",
         "0.9062723841707133",
         "<75"
        ],
        [
         "19",
         "3479507.0710897786",
         "3464787.245107167",
         "Chorley and West Lancashire",
         "TLD47",
         "0.8445866639847788",
         "<75"
        ],
        [
         "20",
         "3490304.3450643932",
         "3437637.1397667048",
         "Warrington",
         "TLD61",
         "0.8898837513696528",
         "<75"
        ],
        [
         "21",
         "3499485.4467921387",
         "3411475.6998646795",
         "Cheshire East",
         "TLD62",
         "0.9948475542301671",
         "75-90"
        ],
        [
         "22",
         "3474898.6800367157",
         "3418125.553977854",
         "Cheshire West and Chester",
         "TLD63",
         "0.9910694047077314",
         "75-90"
        ],
        [
         "23",
         "3477988.6259026364",
         "3442209.3370298664",
         "East Merseyside",
         "TLD71",
         "1.093429950753116",
         "90-95"
        ],
        [
         "24",
         "3467231.470660454",
         "3442859.1432563523",
         "Liverpool",
         "TLD72",
         "0.8641996279190594",
         "<75"
        ],
        [
         "25",
         "3464266.471615752",
         "3458572.1544141057",
         "Sefton",
         "TLD73",
         "0.7833292416539925",
         "<75"
        ],
        [
         "26",
         "3456463.130813629",
         "3439035.0005421587",
         "Wirral",
         "TLD74",
         "0.8571771764497869",
         "<75"
        ],
        [
         "27",
         "3642079.0095035657",
         "3454255.59311504",
         "Kingston upon Hull, City of",
         "TLE11",
         "0.9377602156234806",
         "<75"
        ],
        [
         "28",
         "3632975.1577078826",
         "3469035.25866998",
         "East Riding of Yorkshire",
         "TLE12",
         "0.8687914291690518",
         "<75"
        ],
        [
         "29",
         "3627562.8760310933",
         "3436565.7071358706",
         "North and North East Lincolnshire",
         "TLE13",
         "0.8405490330477842",
         "<75"
        ],
        [
         "30",
         "3598722.251850773",
         "3483043.723838408",
         "York",
         "TLE21",
         "0.752465137769923",
         "<75"
        ],
        [
         "31",
         "3578935.8363363952",
         "3512250.568494443",
         "North Yorkshire CC",
         "TLE22",
         "0.7636312910108235",
         "<75"
        ],
        [
         "32",
         "3576441.4927144744",
         "3436078.896683643",
         "Barnsley, Doncaster and Rotherham",
         "TLE31",
         "0.9065211186398079",
         "<75"
        ],
        [
         "33",
         "3556199.037891548",
         "3427090.7827660805",
         "Sheffield",
         "TLE32",
         "0.9547273806245147",
         "75-90"
        ],
        [
         "34",
         "3544406.145727811",
         "3478672.3173404834",
         "Bradford",
         "TLE41",
         "0.793499515055073",
         "<75"
        ],
        [
         "35",
         "3566265.585369984",
         "3473269.4744224423",
         "Leeds",
         "TLE42",
         "0.9001772744162008",
         "<75"
        ],
        [
         "36",
         "3540912.4409052916",
         "3460123.6540181087",
         "Calderdale and Kirklees",
         "TLE44",
         "0.8777902192000516",
         "<75"
        ],
        [
         "37",
         "3570463.204632209",
         "3454234.107841959",
         "Wakefield",
         "TLE45",
         "0.894943581965778",
         "<75"
        ],
        [
         "38",
         "3553071.104296087",
         "3372101.4585572532",
         "Derby",
         "TLF11",
         "0.917933718096773",
         "<75"
        ],
        [
         "39",
         "3564440.382898953",
         "3406353.526312836",
         "East Derbyshire",
         "TLF12",
         "0.964374252947933",
         "75-90"
        ],
        [
         "40",
         "3543392.4647723557",
         "3398212.9293982447",
         "South and West Derbyshire",
         "TLF13",
         "0.8394603495035516",
         "<75"
        ],
        [
         "41",
         "3573040.6476267986",
         "3374911.2362624127",
         "Nottingham",
         "TLF14",
         "0.9474822402030152",
         "<75"
        ],
        [
         "42",
         "3590705.1622944246",
         "3400439.1824804894",
         "North Nottinghamshire",
         "TLF15",
         "0.8854245939190635",
         "<75"
        ],
        [
         "43",
         "3578800.03875675",
         "3370527.4937542398",
         "South Nottinghamshire",
         "TLF16",
         "0.8768856825902283",
         "<75"
        ],
        [
         "44",
         "3571065.1520698303",
         "3338496.4849366606",
         "Leicester",
         "TLF21",
         "0.8825503989358137",
         "<75"
        ],
        [
         "45",
         "3577215.3260538583",
         "3340923.7047229917",
         "Leicestershire CC and Rutland",
         "TLF22",
         "0.9462357728276071",
         "<75"
        ],
        [
         "46",
         "3569968.485780036",
         "3291935.1152228257",
         "West Northamptonshire",
         "TLF24",
         "0.8557157296769915",
         "<75"
        ],
        [
         "47",
         "3600900.3564522",
         "3309876.6585316923",
         "North Northamptonshire",
         "TLF25",
         "0.853815734061063",
         "<75"
        ],
        [
         "48",
         "3637142.471951971",
         "3382243.7411040245",
         "Lincolnshire",
         "TLF30",
         "0.8235859275418668",
         "<75"
        ],
        [
         "49",
         "3452880.4546362762",
         "3297625.910611469",
         "Herefordshire, County of",
         "TLG11",
         "0.8889684845658417",
         "<75"
        ]
       ],
       "shape": {
        "columns": 6,
        "rows": 179
       }
      },
      "text/html": [
       "<div>\n",
       "<style scoped>\n",
       "    .dataframe tbody tr th:only-of-type {\n",
       "        vertical-align: middle;\n",
       "    }\n",
       "\n",
       "    .dataframe tbody tr th {\n",
       "        vertical-align: top;\n",
       "    }\n",
       "\n",
       "    .dataframe thead th {\n",
       "        text-align: right;\n",
       "    }\n",
       "</style>\n",
       "<table border=\"1\" class=\"dataframe\">\n",
       "  <thead>\n",
       "    <tr style=\"text-align: right;\">\n",
       "      <th></th>\n",
       "      <th>coordinate_x</th>\n",
       "      <th>coordinate_y</th>\n",
       "      <th>NUTS_NAME</th>\n",
       "      <th>ITL_ID</th>\n",
       "      <th>LQ</th>\n",
       "      <th>percentile</th>\n",
       "    </tr>\n",
       "  </thead>\n",
       "  <tbody>\n",
       "    <tr>\n",
       "      <th>0</th>\n",
       "      <td>3.593457e+06</td>\n",
       "      <td>3.556013e+06</td>\n",
       "      <td>Hartlepool and Stockton-on-Tees</td>\n",
       "      <td>TLC11</td>\n",
       "      <td>0.878414</td>\n",
       "      <td>&lt;75</td>\n",
       "    </tr>\n",
       "    <tr>\n",
       "      <th>1</th>\n",
       "      <td>3.608557e+06</td>\n",
       "      <td>3.548660e+06</td>\n",
       "      <td>South Teesside</td>\n",
       "      <td>TLC12</td>\n",
       "      <td>0.846557</td>\n",
       "      <td>&lt;75</td>\n",
       "    </tr>\n",
       "    <tr>\n",
       "      <th>2</th>\n",
       "      <td>3.576858e+06</td>\n",
       "      <td>3.553032e+06</td>\n",
       "      <td>Darlington</td>\n",
       "      <td>TLC13</td>\n",
       "      <td>0.910301</td>\n",
       "      <td>&lt;75</td>\n",
       "    </tr>\n",
       "    <tr>\n",
       "      <th>3</th>\n",
       "      <td>3.561450e+06</td>\n",
       "      <td>3.572082e+06</td>\n",
       "      <td>Durham CC</td>\n",
       "      <td>TLC14</td>\n",
       "      <td>0.904514</td>\n",
       "      <td>&lt;75</td>\n",
       "    </tr>\n",
       "    <tr>\n",
       "      <th>4</th>\n",
       "      <td>3.557124e+06</td>\n",
       "      <td>3.634653e+06</td>\n",
       "      <td>Northumberland</td>\n",
       "      <td>TLC21</td>\n",
       "      <td>0.766207</td>\n",
       "      <td>&lt;75</td>\n",
       "    </tr>\n",
       "    <tr>\n",
       "      <th>...</th>\n",
       "      <td>...</td>\n",
       "      <td>...</td>\n",
       "      <td>...</td>\n",
       "      <td>...</td>\n",
       "      <td>...</td>\n",
       "      <td>...</td>\n",
       "    </tr>\n",
       "    <tr>\n",
       "      <th>174</th>\n",
       "      <td>3.271254e+06</td>\n",
       "      <td>3.672191e+06</td>\n",
       "      <td>Causeway Coast and Glens</td>\n",
       "      <td>TLN0C</td>\n",
       "      <td>0.719683</td>\n",
       "      <td>&lt;75</td>\n",
       "    </tr>\n",
       "    <tr>\n",
       "      <th>175</th>\n",
       "      <td>3.286652e+06</td>\n",
       "      <td>3.626922e+06</td>\n",
       "      <td>Antrim and Newtownabbey</td>\n",
       "      <td>TLN0D</td>\n",
       "      <td>1.088592</td>\n",
       "      <td>90-95</td>\n",
       "    </tr>\n",
       "    <tr>\n",
       "      <th>176</th>\n",
       "      <td>3.291043e+06</td>\n",
       "      <td>3.603804e+06</td>\n",
       "      <td>Lisburn and Castlereagh</td>\n",
       "      <td>TLN0E</td>\n",
       "      <td>1.146753</td>\n",
       "      <td>95-99</td>\n",
       "    </tr>\n",
       "    <tr>\n",
       "      <th>177</th>\n",
       "      <td>3.296231e+06</td>\n",
       "      <td>3.645072e+06</td>\n",
       "      <td>Mid and East Antrim</td>\n",
       "      <td>TLN0F</td>\n",
       "      <td>0.827552</td>\n",
       "      <td>&lt;75</td>\n",
       "    </tr>\n",
       "    <tr>\n",
       "      <th>178</th>\n",
       "      <td>3.197785e+06</td>\n",
       "      <td>3.618549e+06</td>\n",
       "      <td>Fermanagh and Omagh</td>\n",
       "      <td>TLN0G</td>\n",
       "      <td>0.941558</td>\n",
       "      <td>&lt;75</td>\n",
       "    </tr>\n",
       "  </tbody>\n",
       "</table>\n",
       "<p>179 rows × 6 columns</p>\n",
       "</div>"
      ],
      "text/plain": [
       "     coordinate_x  coordinate_y                        NUTS_NAME ITL_ID  \\\n",
       "0    3.593457e+06  3.556013e+06  Hartlepool and Stockton-on-Tees  TLC11   \n",
       "1    3.608557e+06  3.548660e+06                   South Teesside  TLC12   \n",
       "2    3.576858e+06  3.553032e+06                       Darlington  TLC13   \n",
       "3    3.561450e+06  3.572082e+06                        Durham CC  TLC14   \n",
       "4    3.557124e+06  3.634653e+06                   Northumberland  TLC21   \n",
       "..            ...           ...                              ...    ...   \n",
       "174  3.271254e+06  3.672191e+06         Causeway Coast and Glens  TLN0C   \n",
       "175  3.286652e+06  3.626922e+06          Antrim and Newtownabbey  TLN0D   \n",
       "176  3.291043e+06  3.603804e+06          Lisburn and Castlereagh  TLN0E   \n",
       "177  3.296231e+06  3.645072e+06              Mid and East Antrim  TLN0F   \n",
       "178  3.197785e+06  3.618549e+06              Fermanagh and Omagh  TLN0G   \n",
       "\n",
       "           LQ percentile  \n",
       "0    0.878414        <75  \n",
       "1    0.846557        <75  \n",
       "2    0.910301        <75  \n",
       "3    0.904514        <75  \n",
       "4    0.766207        <75  \n",
       "..        ...        ...  \n",
       "174  0.719683        <75  \n",
       "175  1.088592      90-95  \n",
       "176  1.146753      95-99  \n",
       "177  0.827552        <75  \n",
       "178  0.941558        <75  \n",
       "\n",
       "[179 rows x 6 columns]"
      ]
     },
     "execution_count": 15,
     "metadata": {},
     "output_type": "execute_result"
    }
   ],
   "source": [
    "fig3_data = pd.read_excel(\n",
    "    \"Industrial_strategy_figures_data.xlsx\",\n",
    "    sheet_name=\"Figure3\"\n",
    "                          )\n",
    "fig3_data"
   ]
  },
  {
   "cell_type": "code",
   "execution_count": 16,
   "id": "03207616",
   "metadata": {},
   "outputs": [
    {
     "data": {
      "text/plain": [
       "Index(['coordinate_x', 'coordinate_y', 'NUTS_NAME', 'ITL_ID', 'LQ',\n",
       "       'percentile'],\n",
       "      dtype='object')"
      ]
     },
     "execution_count": 16,
     "metadata": {},
     "output_type": "execute_result"
    }
   ],
   "source": [
    "fig3_data.columns"
   ]
  },
  {
   "cell_type": "code",
   "execution_count": 17,
   "id": "9b02bb16",
   "metadata": {},
   "outputs": [],
   "source": [
    "fig3_data = fig3_data[['NUTS_NAME', 'ITL_ID', 'LQ',\n",
    "       'percentile']]\n",
    "\n",
    "fig3_data.to_csv(\"fig3_data.csv\", index=False)"
   ]
  },
  {
   "cell_type": "markdown",
   "id": "b1d87faa",
   "metadata": {},
   "source": [
    "## Figure 4"
   ]
  },
  {
   "cell_type": "code",
   "execution_count": 4,
   "id": "915c768e",
   "metadata": {},
   "outputs": [],
   "source": [
    "fig4_data = pd.read_excel(\"Industrial_strategy_figures_data.xlsx\", sheet_name=\"Figure4\")"
   ]
  },
  {
   "cell_type": "code",
   "execution_count": 5,
   "id": "f6775c4c",
   "metadata": {},
   "outputs": [
    {
     "data": {
      "application/vnd.microsoft.datawrangler.viewer.v0+json": {
       "columns": [
        {
         "name": "index",
         "rawType": "int64",
         "type": "integer"
        },
        {
         "name": "sic",
         "rawType": "object",
         "type": "string"
        },
        {
         "name": "HHI",
         "rawType": "float64",
         "type": "float"
        },
        {
         "name": "C10",
         "rawType": "float64",
         "type": "float"
        },
        {
         "name": "markup",
         "rawType": "float64",
         "type": "float"
        }
       ],
       "conversionMethod": "pd.DataFrame",
       "ref": "b33b44a1-67bc-4c60-9152-38fab0dbccd7",
       "rows": [
        [
         "0",
         "economy",
         "1100.7239990234375",
         "0.5737832188606262",
         "1.1695393323898315"
        ],
        [
         "1",
         "Advanced Manufacturing",
         "1690.555908203125",
         "0.7342131733894348",
         "1.0795897245407104"
        ],
        [
         "2",
         "Clean energy",
         "487.3470153808594",
         "0.4698699116706848",
         "0.8078785538673401"
        ],
        [
         "3",
         "Creative industries",
         "411.9609375",
         "0.3589726686477661",
         "0.8692197203636169"
        ],
        [
         "4",
         "Digital and technologies",
         "1070.163818359375",
         "0.5171666145324707",
         "1.0100269317626953"
        ],
        [
         "5",
         "Life sciences",
         "1089.195556640625",
         "0.5883575677871704",
         "1.0184634923934937"
        ],
        [
         "6",
         "Professional and business services",
         "427.35418701171875",
         "0.31827250123023987",
         "1.3993682861328125"
        ]
       ],
       "shape": {
        "columns": 4,
        "rows": 7
       }
      },
      "text/html": [
       "<div>\n",
       "<style scoped>\n",
       "    .dataframe tbody tr th:only-of-type {\n",
       "        vertical-align: middle;\n",
       "    }\n",
       "\n",
       "    .dataframe tbody tr th {\n",
       "        vertical-align: top;\n",
       "    }\n",
       "\n",
       "    .dataframe thead th {\n",
       "        text-align: right;\n",
       "    }\n",
       "</style>\n",
       "<table border=\"1\" class=\"dataframe\">\n",
       "  <thead>\n",
       "    <tr style=\"text-align: right;\">\n",
       "      <th></th>\n",
       "      <th>sic</th>\n",
       "      <th>HHI</th>\n",
       "      <th>C10</th>\n",
       "      <th>markup</th>\n",
       "    </tr>\n",
       "  </thead>\n",
       "  <tbody>\n",
       "    <tr>\n",
       "      <th>0</th>\n",
       "      <td>economy</td>\n",
       "      <td>1100.723999</td>\n",
       "      <td>0.573783</td>\n",
       "      <td>1.169539</td>\n",
       "    </tr>\n",
       "    <tr>\n",
       "      <th>1</th>\n",
       "      <td>Advanced Manufacturing</td>\n",
       "      <td>1690.555908</td>\n",
       "      <td>0.734213</td>\n",
       "      <td>1.079590</td>\n",
       "    </tr>\n",
       "    <tr>\n",
       "      <th>2</th>\n",
       "      <td>Clean energy</td>\n",
       "      <td>487.347015</td>\n",
       "      <td>0.469870</td>\n",
       "      <td>0.807879</td>\n",
       "    </tr>\n",
       "    <tr>\n",
       "      <th>3</th>\n",
       "      <td>Creative industries</td>\n",
       "      <td>411.960938</td>\n",
       "      <td>0.358973</td>\n",
       "      <td>0.869220</td>\n",
       "    </tr>\n",
       "    <tr>\n",
       "      <th>4</th>\n",
       "      <td>Digital and technologies</td>\n",
       "      <td>1070.163818</td>\n",
       "      <td>0.517167</td>\n",
       "      <td>1.010027</td>\n",
       "    </tr>\n",
       "    <tr>\n",
       "      <th>5</th>\n",
       "      <td>Life sciences</td>\n",
       "      <td>1089.195557</td>\n",
       "      <td>0.588358</td>\n",
       "      <td>1.018463</td>\n",
       "    </tr>\n",
       "    <tr>\n",
       "      <th>6</th>\n",
       "      <td>Professional and business services</td>\n",
       "      <td>427.354187</td>\n",
       "      <td>0.318273</td>\n",
       "      <td>1.399368</td>\n",
       "    </tr>\n",
       "  </tbody>\n",
       "</table>\n",
       "</div>"
      ],
      "text/plain": [
       "                                  sic          HHI       C10    markup\n",
       "0                             economy  1100.723999  0.573783  1.169539\n",
       "1              Advanced Manufacturing  1690.555908  0.734213  1.079590\n",
       "2                        Clean energy   487.347015  0.469870  0.807879\n",
       "3                 Creative industries   411.960938  0.358973  0.869220\n",
       "4            Digital and technologies  1070.163818  0.517167  1.010027\n",
       "5                       Life sciences  1089.195557  0.588358  1.018463\n",
       "6  Professional and business services   427.354187  0.318273  1.399368"
      ]
     },
     "execution_count": 5,
     "metadata": {},
     "output_type": "execute_result"
    }
   ],
   "source": [
    "fig4_data"
   ]
  },
  {
   "cell_type": "code",
   "execution_count": 6,
   "id": "21a7035a",
   "metadata": {},
   "outputs": [
    {
     "data": {
      "text/plain": [
       "Index(['sic', 'HHI', 'C10', 'markup'], dtype='object')"
      ]
     },
     "execution_count": 6,
     "metadata": {},
     "output_type": "execute_result"
    }
   ],
   "source": [
    "fig4_data.columns"
   ]
  },
  {
   "cell_type": "code",
   "execution_count": 8,
   "id": "f71ed856",
   "metadata": {},
   "outputs": [],
   "source": [
    "# melt the data to long format\n",
    "fig4_data_long = fig4_data.melt(id_vars=[\"sic\"], var_name=\"var\", value_name=\"val\")\n",
    "\n",
    "fig4_data_long.rename(columns={\"sic\": \"sector\"}, inplace=True)"
   ]
  },
  {
   "cell_type": "code",
   "execution_count": 11,
   "id": "7c8f63ae",
   "metadata": {},
   "outputs": [],
   "source": [
    "fig4_data_long.to_csv(\"fig4_data.csv\", index=False)"
   ]
  },
  {
   "cell_type": "code",
   "execution_count": null,
   "id": "50be7541",
   "metadata": {},
   "outputs": [],
   "source": []
  }
 ],
 "metadata": {
  "kernelspec": {
   "display_name": "jupyterlab",
   "language": "python",
   "name": "python3"
  },
  "language_info": {
   "codemirror_mode": {
    "name": "ipython",
    "version": 3
   },
   "file_extension": ".py",
   "mimetype": "text/x-python",
   "name": "python",
   "nbconvert_exporter": "python",
   "pygments_lexer": "ipython3",
   "version": "3.13.2"
  }
 },
 "nbformat": 4,
 "nbformat_minor": 5
}
