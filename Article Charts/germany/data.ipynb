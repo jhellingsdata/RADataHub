{
 "cells": [
  {
   "cell_type": "code",
   "execution_count": 2,
   "id": "6fa6ea64",
   "metadata": {},
   "outputs": [],
   "source": [
    "import pandas as pd"
   ]
  },
  {
   "cell_type": "code",
   "execution_count": 5,
   "id": "e2640c9a",
   "metadata": {},
   "outputs": [
    {
     "data": {
      "application/vnd.microsoft.datawrangler.viewer.v0+json": {
       "columns": [
        {
         "name": "index",
         "rawType": "int64",
         "type": "integer"
        },
        {
         "name": "date",
         "rawType": "datetime64[ns]",
         "type": "datetime"
        },
        {
         "name": "value",
         "rawType": "float64",
         "type": "float"
        }
       ],
       "ref": "666a07de-4f54-4c89-9ccc-1d367ebd818f",
       "rows": [
        [
         "0",
         "1991-01-01 00:00:00",
         "0.37"
        ],
        [
         "1",
         "1992-01-01 00:00:00",
         "0.43"
        ],
        [
         "2",
         "1993-01-01 00:00:00",
         "0.5"
        ],
        [
         "3",
         "1994-01-01 00:00:00",
         "0.54"
        ],
        [
         "4",
         "1995-01-01 00:00:00",
         "0.56"
        ],
        [
         "5",
         "1996-01-01 00:00:00",
         "0.57"
        ],
        [
         "6",
         "1997-01-01 00:00:00",
         "0.57"
        ],
        [
         "7",
         "1998-01-01 00:00:00",
         "0.56"
        ],
        [
         "8",
         "1999-01-01 00:00:00",
         "0.56"
        ],
        [
         "9",
         "2000-01-01 00:00:00",
         "0.55"
        ],
        [
         "10",
         "2001-01-01 00:00:00",
         "0.55"
        ],
        [
         "11",
         "2002-01-01 00:00:00",
         "0.56"
        ],
        [
         "12",
         "2003-01-01 00:00:00",
         "0.57"
        ],
        [
         "13",
         "2004-01-01 00:00:00",
         "0.57"
        ],
        [
         "14",
         "2005-01-01 00:00:00",
         "0.57"
        ],
        [
         "15",
         "2006-01-01 00:00:00",
         "0.57"
        ],
        [
         "16",
         "2007-01-01 00:00:00",
         "0.57"
        ],
        [
         "17",
         "2008-01-01 00:00:00",
         "0.58"
        ],
        [
         "18",
         "2009-01-01 00:00:00",
         "0.59"
        ],
        [
         "19",
         "2010-01-01 00:00:00",
         "0.59"
        ],
        [
         "20",
         "2011-01-01 00:00:00",
         "0.59"
        ],
        [
         "21",
         "2012-01-01 00:00:00",
         "0.6"
        ],
        [
         "22",
         "2013-01-01 00:00:00",
         "0.6"
        ],
        [
         "23",
         "2014-01-01 00:00:00",
         "0.61"
        ],
        [
         "24",
         "2015-01-01 00:00:00",
         "0.61"
        ],
        [
         "25",
         "2016-01-01 00:00:00",
         "0.62"
        ],
        [
         "26",
         "2017-01-01 00:00:00",
         "0.62"
        ],
        [
         "27",
         "2018-01-01 00:00:00",
         "0.62"
        ],
        [
         "28",
         "2019-01-01 00:00:00",
         "0.64"
        ],
        [
         "29",
         "2020-01-01 00:00:00",
         "0.65"
        ],
        [
         "30",
         "2021-01-01 00:00:00",
         "0.64"
        ],
        [
         "31",
         "2022-01-01 00:00:00",
         "0.65"
        ],
        [
         "32",
         "2023-01-01 00:00:00",
         "0.66"
        ]
       ],
       "shape": {
        "columns": 2,
        "rows": 33
       }
      },
      "text/html": [
       "<div>\n",
       "<style scoped>\n",
       "    .dataframe tbody tr th:only-of-type {\n",
       "        vertical-align: middle;\n",
       "    }\n",
       "\n",
       "    .dataframe tbody tr th {\n",
       "        vertical-align: top;\n",
       "    }\n",
       "\n",
       "    .dataframe thead th {\n",
       "        text-align: right;\n",
       "    }\n",
       "</style>\n",
       "<table border=\"1\" class=\"dataframe\">\n",
       "  <thead>\n",
       "    <tr style=\"text-align: right;\">\n",
       "      <th></th>\n",
       "      <th>date</th>\n",
       "      <th>value</th>\n",
       "    </tr>\n",
       "  </thead>\n",
       "  <tbody>\n",
       "    <tr>\n",
       "      <th>0</th>\n",
       "      <td>1991-01-01</td>\n",
       "      <td>0.37</td>\n",
       "    </tr>\n",
       "    <tr>\n",
       "      <th>1</th>\n",
       "      <td>1992-01-01</td>\n",
       "      <td>0.43</td>\n",
       "    </tr>\n",
       "    <tr>\n",
       "      <th>2</th>\n",
       "      <td>1993-01-01</td>\n",
       "      <td>0.50</td>\n",
       "    </tr>\n",
       "    <tr>\n",
       "      <th>3</th>\n",
       "      <td>1994-01-01</td>\n",
       "      <td>0.54</td>\n",
       "    </tr>\n",
       "    <tr>\n",
       "      <th>4</th>\n",
       "      <td>1995-01-01</td>\n",
       "      <td>0.56</td>\n",
       "    </tr>\n",
       "    <tr>\n",
       "      <th>5</th>\n",
       "      <td>1996-01-01</td>\n",
       "      <td>0.57</td>\n",
       "    </tr>\n",
       "    <tr>\n",
       "      <th>6</th>\n",
       "      <td>1997-01-01</td>\n",
       "      <td>0.57</td>\n",
       "    </tr>\n",
       "    <tr>\n",
       "      <th>7</th>\n",
       "      <td>1998-01-01</td>\n",
       "      <td>0.56</td>\n",
       "    </tr>\n",
       "    <tr>\n",
       "      <th>8</th>\n",
       "      <td>1999-01-01</td>\n",
       "      <td>0.56</td>\n",
       "    </tr>\n",
       "    <tr>\n",
       "      <th>9</th>\n",
       "      <td>2000-01-01</td>\n",
       "      <td>0.55</td>\n",
       "    </tr>\n",
       "    <tr>\n",
       "      <th>10</th>\n",
       "      <td>2001-01-01</td>\n",
       "      <td>0.55</td>\n",
       "    </tr>\n",
       "    <tr>\n",
       "      <th>11</th>\n",
       "      <td>2002-01-01</td>\n",
       "      <td>0.56</td>\n",
       "    </tr>\n",
       "    <tr>\n",
       "      <th>12</th>\n",
       "      <td>2003-01-01</td>\n",
       "      <td>0.57</td>\n",
       "    </tr>\n",
       "    <tr>\n",
       "      <th>13</th>\n",
       "      <td>2004-01-01</td>\n",
       "      <td>0.57</td>\n",
       "    </tr>\n",
       "    <tr>\n",
       "      <th>14</th>\n",
       "      <td>2005-01-01</td>\n",
       "      <td>0.57</td>\n",
       "    </tr>\n",
       "    <tr>\n",
       "      <th>15</th>\n",
       "      <td>2006-01-01</td>\n",
       "      <td>0.57</td>\n",
       "    </tr>\n",
       "    <tr>\n",
       "      <th>16</th>\n",
       "      <td>2007-01-01</td>\n",
       "      <td>0.57</td>\n",
       "    </tr>\n",
       "    <tr>\n",
       "      <th>17</th>\n",
       "      <td>2008-01-01</td>\n",
       "      <td>0.58</td>\n",
       "    </tr>\n",
       "    <tr>\n",
       "      <th>18</th>\n",
       "      <td>2009-01-01</td>\n",
       "      <td>0.59</td>\n",
       "    </tr>\n",
       "    <tr>\n",
       "      <th>19</th>\n",
       "      <td>2010-01-01</td>\n",
       "      <td>0.59</td>\n",
       "    </tr>\n",
       "    <tr>\n",
       "      <th>20</th>\n",
       "      <td>2011-01-01</td>\n",
       "      <td>0.59</td>\n",
       "    </tr>\n",
       "    <tr>\n",
       "      <th>21</th>\n",
       "      <td>2012-01-01</td>\n",
       "      <td>0.60</td>\n",
       "    </tr>\n",
       "    <tr>\n",
       "      <th>22</th>\n",
       "      <td>2013-01-01</td>\n",
       "      <td>0.60</td>\n",
       "    </tr>\n",
       "    <tr>\n",
       "      <th>23</th>\n",
       "      <td>2014-01-01</td>\n",
       "      <td>0.61</td>\n",
       "    </tr>\n",
       "    <tr>\n",
       "      <th>24</th>\n",
       "      <td>2015-01-01</td>\n",
       "      <td>0.61</td>\n",
       "    </tr>\n",
       "    <tr>\n",
       "      <th>25</th>\n",
       "      <td>2016-01-01</td>\n",
       "      <td>0.62</td>\n",
       "    </tr>\n",
       "    <tr>\n",
       "      <th>26</th>\n",
       "      <td>2017-01-01</td>\n",
       "      <td>0.62</td>\n",
       "    </tr>\n",
       "    <tr>\n",
       "      <th>27</th>\n",
       "      <td>2018-01-01</td>\n",
       "      <td>0.62</td>\n",
       "    </tr>\n",
       "    <tr>\n",
       "      <th>28</th>\n",
       "      <td>2019-01-01</td>\n",
       "      <td>0.64</td>\n",
       "    </tr>\n",
       "    <tr>\n",
       "      <th>29</th>\n",
       "      <td>2020-01-01</td>\n",
       "      <td>0.65</td>\n",
       "    </tr>\n",
       "    <tr>\n",
       "      <th>30</th>\n",
       "      <td>2021-01-01</td>\n",
       "      <td>0.64</td>\n",
       "    </tr>\n",
       "    <tr>\n",
       "      <th>31</th>\n",
       "      <td>2022-01-01</td>\n",
       "      <td>0.65</td>\n",
       "    </tr>\n",
       "    <tr>\n",
       "      <th>32</th>\n",
       "      <td>2023-01-01</td>\n",
       "      <td>0.66</td>\n",
       "    </tr>\n",
       "  </tbody>\n",
       "</table>\n",
       "</div>"
      ],
      "text/plain": [
       "         date  value\n",
       "0  1991-01-01   0.37\n",
       "1  1992-01-01   0.43\n",
       "2  1993-01-01   0.50\n",
       "3  1994-01-01   0.54\n",
       "4  1995-01-01   0.56\n",
       "5  1996-01-01   0.57\n",
       "6  1997-01-01   0.57\n",
       "7  1998-01-01   0.56\n",
       "8  1999-01-01   0.56\n",
       "9  2000-01-01   0.55\n",
       "10 2001-01-01   0.55\n",
       "11 2002-01-01   0.56\n",
       "12 2003-01-01   0.57\n",
       "13 2004-01-01   0.57\n",
       "14 2005-01-01   0.57\n",
       "15 2006-01-01   0.57\n",
       "16 2007-01-01   0.57\n",
       "17 2008-01-01   0.58\n",
       "18 2009-01-01   0.59\n",
       "19 2010-01-01   0.59\n",
       "20 2011-01-01   0.59\n",
       "21 2012-01-01   0.60\n",
       "22 2013-01-01   0.60\n",
       "23 2014-01-01   0.61\n",
       "24 2015-01-01   0.61\n",
       "25 2016-01-01   0.62\n",
       "26 2017-01-01   0.62\n",
       "27 2018-01-01   0.62\n",
       "28 2019-01-01   0.64\n",
       "29 2020-01-01   0.65\n",
       "30 2021-01-01   0.64\n",
       "31 2022-01-01   0.65\n",
       "32 2023-01-01   0.66"
      ]
     },
     "execution_count": 5,
     "metadata": {},
     "output_type": "execute_result"
    }
   ],
   "source": [
    "df = pd.read_csv('germany.csv')\n",
    "\n",
    "df.columns = ['date', 'value']\n",
    "\n",
    "# change date column from yyyy int to datetime\n",
    "df['date'] = pd.to_datetime(df['date'], format='%Y')\n",
    "\n",
    "df"
   ]
  },
  {
   "cell_type": "code",
   "execution_count": 6,
   "id": "4ca7f334",
   "metadata": {},
   "outputs": [],
   "source": [
    "df.to_csv('germany.csv', index=False)"
   ]
  },
  {
   "cell_type": "code",
   "execution_count": null,
   "id": "d90a6bc1",
   "metadata": {},
   "outputs": [],
   "source": [
    "import altair as alt\n",
    "import altair_viewer"
   ]
  },
  {
   "cell_type": "code",
   "execution_count": null,
   "id": "bf87bf6d",
   "metadata": {},
   "outputs": [
    {
     "data": {
      "text/html": [
       "\n",
       "<style>\n",
       "  #altair-viz-451694839b744c20997da7307b39d64f.vega-embed {\n",
       "    width: 100%;\n",
       "    display: flex;\n",
       "  }\n",
       "\n",
       "  #altair-viz-451694839b744c20997da7307b39d64f.vega-embed details,\n",
       "  #altair-viz-451694839b744c20997da7307b39d64f.vega-embed details summary {\n",
       "    position: relative;\n",
       "  }\n",
       "</style>\n",
       "<div id=\"altair-viz-451694839b744c20997da7307b39d64f\"></div>\n",
       "<script type=\"text/javascript\">\n",
       "  var VEGA_DEBUG = (typeof VEGA_DEBUG == \"undefined\") ? {} : VEGA_DEBUG;\n",
       "  (function(spec, embedOpt){\n",
       "    let outputDiv = document.currentScript.previousElementSibling;\n",
       "    if (outputDiv.id !== \"altair-viz-451694839b744c20997da7307b39d64f\") {\n",
       "      outputDiv = document.getElementById(\"altair-viz-451694839b744c20997da7307b39d64f\");\n",
       "    }\n",
       "\n",
       "    const paths = {\n",
       "      \"vega\": \"https://cdn.jsdelivr.net/npm/vega@5?noext\",\n",
       "      \"vega-lib\": \"https://cdn.jsdelivr.net/npm/vega-lib?noext\",\n",
       "      \"vega-lite\": \"https://cdn.jsdelivr.net/npm/vega-lite@5.20.1?noext\",\n",
       "      \"vega-embed\": \"https://cdn.jsdelivr.net/npm/vega-embed@6?noext\",\n",
       "    };\n",
       "\n",
       "    function maybeLoadScript(lib, version) {\n",
       "      var key = `${lib.replace(\"-\", \"\")}_version`;\n",
       "      return (VEGA_DEBUG[key] == version) ?\n",
       "        Promise.resolve(paths[lib]) :\n",
       "        new Promise(function(resolve, reject) {\n",
       "          var s = document.createElement('script');\n",
       "          document.getElementsByTagName(\"head\")[0].appendChild(s);\n",
       "          s.async = true;\n",
       "          s.onload = () => {\n",
       "            VEGA_DEBUG[key] = version;\n",
       "            return resolve(paths[lib]);\n",
       "          };\n",
       "          s.onerror = () => reject(`Error loading script: ${paths[lib]}`);\n",
       "          s.src = paths[lib];\n",
       "        });\n",
       "    }\n",
       "\n",
       "    function showError(err) {\n",
       "      outputDiv.innerHTML = `<div class=\"error\" style=\"color:red;\">${err}</div>`;\n",
       "      throw err;\n",
       "    }\n",
       "\n",
       "    function displayChart(vegaEmbed) {\n",
       "      vegaEmbed(outputDiv, spec, embedOpt)\n",
       "        .catch(err => showError(`Javascript Error: ${err.message}<br>This usually means there's a typo in your chart specification. See the javascript console for the full traceback.`));\n",
       "    }\n",
       "\n",
       "    if(typeof define === \"function\" && define.amd) {\n",
       "      requirejs.config({paths});\n",
       "      let deps = [\"vega-embed\"];\n",
       "      require(deps, displayChart, err => showError(`Error loading script: ${err.message}`));\n",
       "    } else {\n",
       "      maybeLoadScript(\"vega\", \"5\")\n",
       "        .then(() => maybeLoadScript(\"vega-lite\", \"5.20.1\"))\n",
       "        .then(() => maybeLoadScript(\"vega-embed\", \"6\"))\n",
       "        .catch(showError)\n",
       "        .then(() => displayChart(vegaEmbed));\n",
       "    }\n",
       "  })({\"config\": {\"view\": {\"continuousWidth\": 300, \"continuousHeight\": 300}}, \"data\": {\"name\": \"data-6d2b9f78169245f91eb3cd9b73efb09d\"}, \"mark\": {\"type\": \"line\", \"point\": true}, \"encoding\": {\"tooltip\": [{\"field\": \"year\", \"type\": \"temporal\"}, {\"field\": \"value\", \"type\": \"quantitative\"}], \"x\": {\"field\": \"year\", \"title\": \"Year\", \"type\": \"temporal\"}, \"y\": {\"field\": \"value\", \"scale\": {\"domain\": [0.3, 0.7]}, \"title\": \"Value\", \"type\": \"quantitative\"}}, \"height\": 400, \"params\": [{\"name\": \"param_1\", \"select\": {\"type\": \"interval\", \"encodings\": [\"x\", \"y\"]}, \"bind\": \"scales\"}], \"title\": \"Value Over Time\", \"width\": 600, \"$schema\": \"https://vega.github.io/schema/vega-lite/v5.20.1.json\", \"datasets\": {\"data-6d2b9f78169245f91eb3cd9b73efb09d\": [{\"year\": \"1991-01-01T00:00:00\", \"value\": 0.37}, {\"year\": \"1992-01-01T00:00:00\", \"value\": 0.43}, {\"year\": \"1993-01-01T00:00:00\", \"value\": 0.5}, {\"year\": \"1994-01-01T00:00:00\", \"value\": 0.54}, {\"year\": \"1995-01-01T00:00:00\", \"value\": 0.56}, {\"year\": \"1996-01-01T00:00:00\", \"value\": 0.57}, {\"year\": \"1997-01-01T00:00:00\", \"value\": 0.57}, {\"year\": \"1998-01-01T00:00:00\", \"value\": 0.56}, {\"year\": \"1999-01-01T00:00:00\", \"value\": 0.56}, {\"year\": \"2000-01-01T00:00:00\", \"value\": 0.55}, {\"year\": \"2001-01-01T00:00:00\", \"value\": 0.55}, {\"year\": \"2002-01-01T00:00:00\", \"value\": 0.56}, {\"year\": \"2003-01-01T00:00:00\", \"value\": 0.57}, {\"year\": \"2004-01-01T00:00:00\", \"value\": 0.57}, {\"year\": \"2005-01-01T00:00:00\", \"value\": 0.57}, {\"year\": \"2006-01-01T00:00:00\", \"value\": 0.57}, {\"year\": \"2007-01-01T00:00:00\", \"value\": 0.57}, {\"year\": \"2008-01-01T00:00:00\", \"value\": 0.58}, {\"year\": \"2009-01-01T00:00:00\", \"value\": 0.59}, {\"year\": \"2010-01-01T00:00:00\", \"value\": 0.59}, {\"year\": \"2011-01-01T00:00:00\", \"value\": 0.59}, {\"year\": \"2012-01-01T00:00:00\", \"value\": 0.6}, {\"year\": \"2013-01-01T00:00:00\", \"value\": 0.6}, {\"year\": \"2014-01-01T00:00:00\", \"value\": 0.61}, {\"year\": \"2015-01-01T00:00:00\", \"value\": 0.61}, {\"year\": \"2016-01-01T00:00:00\", \"value\": 0.62}, {\"year\": \"2017-01-01T00:00:00\", \"value\": 0.62}, {\"year\": \"2018-01-01T00:00:00\", \"value\": 0.62}, {\"year\": \"2019-01-01T00:00:00\", \"value\": 0.64}, {\"year\": \"2020-01-01T00:00:00\", \"value\": 0.65}, {\"year\": \"2021-01-01T00:00:00\", \"value\": 0.64}, {\"year\": \"2022-01-01T00:00:00\", \"value\": 0.65}, {\"year\": \"2023-01-01T00:00:00\", \"value\": 0.66}]}}, {\"mode\": \"vega-lite\"});\n",
       "</script>"
      ],
      "text/plain": [
       "alt.Chart(...)"
      ]
     },
     "execution_count": 14,
     "metadata": {},
     "output_type": "execute_result"
    }
   ],
   "source": [
    "chart = alt.Chart(df).mark_line(point=True).encode(\n",
    "    x=alt.X('year:T', title='Year'),\n",
    "    y=alt.Y('value:Q', title='Value', scale=alt.Scale(domain=[0.3, 0.7])),\n",
    "    tooltip=['year:T', 'value:Q']\n",
    ").properties(\n",
    "    title='Value Over Time',\n",
    "    width=600,\n",
    "    height=400\n",
    ").interactive()\n",
    "\n",
    "chart"
   ]
  }
 ],
 "metadata": {
  "kernelspec": {
   "display_name": ".venv",
   "language": "python",
   "name": "python3"
  },
  "language_info": {
   "codemirror_mode": {
    "name": "ipython",
    "version": 3
   },
   "file_extension": ".py",
   "mimetype": "text/x-python",
   "name": "python",
   "nbconvert_exporter": "python",
   "pygments_lexer": "ipython3",
   "version": "3.9.13"
  }
 },
 "nbformat": 4,
 "nbformat_minor": 5
}
