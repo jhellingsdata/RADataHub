{
 "cells": [
  {
   "cell_type": "code",
   "execution_count": 2,
   "id": "85d5f05a",
   "metadata": {},
   "outputs": [],
   "source": [
    "import pandas as pd\n",
    "import numpy as np"
   ]
  },
  {
   "cell_type": "code",
   "execution_count": 12,
   "id": "286382e8",
   "metadata": {},
   "outputs": [
    {
     "data": {
      "text/plain": [
       "51"
      ]
     },
     "execution_count": 12,
     "metadata": {},
     "output_type": "execute_result"
    }
   ],
   "source": [
    "df = pd.read_excel('us_states_gdp.xlsx', sheet_name='Table 1', skiprows=5)\n",
    "\n",
    "df = df[['Unnamed: 0', 'Unnamed: 10']]\n",
    "\n",
    "df. columns = ['State', 'GDP']\n",
    "\n",
    "# remove spaces at the end of the State values\n",
    "df['State'] = df['State'].str.strip()\n",
    "\n",
    "# make a list of the state names\n",
    "state_names = ['Alabama', 'Alaska', 'Arizona', 'Arkansas', 'California', 'Colorado',\n",
    "               'Connecticut', 'Delaware', 'District of Columbia', 'Florida',\n",
    "               'Georgia', 'Hawaii', 'Idaho', 'Illinois', 'Indiana', 'Iowa',\n",
    "               'Kansas', 'Kentucky', 'Louisiana', 'Maine', 'Maryland',\n",
    "               'Massachusetts', 'Michigan', 'Minnesota', 'Mississippi',\n",
    "               'Missouri', 'Montana', 'Nebraska', 'Nevada', 'New Hampshire',\n",
    "               'New Jersey', 'New Mexico', 'New York', 'North Carolina',\n",
    "               'North Dakota', 'Ohio', 'Oklahoma', 'Oregon',\n",
    "               'Pennsylvania', 'Rhode Island', 'South Carolina',\n",
    "               'South Dakota', 'Tennessee', 'Texas',\n",
    "               'Utah',\n",
    "               'Vermont', 'Virginia', 'Washington', 'West Virginia',\n",
    "               'Wisconsin', 'Wyoming']\n",
    "\n",
    "# remove the rows that are not in the list of state names\n",
    "df = df[df['State'].isin(state_names)]\n",
    "\n",
    "df.State.nunique()"
   ]
  },
  {
   "cell_type": "code",
   "execution_count": 14,
   "id": "ff1b4196",
   "metadata": {},
   "outputs": [
    {
     "data": {
      "application/vnd.microsoft.datawrangler.viewer.v0+json": {
       "columns": [
        {
         "name": "index",
         "rawType": "int64",
         "type": "integer"
        },
        {
         "name": "State",
         "rawType": "object",
         "type": "string"
        },
        {
         "name": "GDP",
         "rawType": "object",
         "type": "unknown"
        },
        {
         "name": "FIPS",
         "rawType": "object",
         "type": "string"
        }
       ],
       "ref": "57801c52-6d6c-4a94-8ef2-665a698c50d5",
       "rows": [
        [
         "2",
         "Connecticut",
         "294028",
         "09"
        ],
        [
         "3",
         "Maine",
         "77477",
         "23"
        ],
        [
         "4",
         "Massachusetts",
         "633618",
         "25"
        ],
        [
         "5",
         "New Hampshire",
         "96501",
         "33"
        ],
        [
         "6",
         "Rhode Island",
         "65281",
         "44"
        ]
       ],
       "shape": {
        "columns": 3,
        "rows": 5
       }
      },
      "text/html": [
       "<div>\n",
       "<style scoped>\n",
       "    .dataframe tbody tr th:only-of-type {\n",
       "        vertical-align: middle;\n",
       "    }\n",
       "\n",
       "    .dataframe tbody tr th {\n",
       "        vertical-align: top;\n",
       "    }\n",
       "\n",
       "    .dataframe thead th {\n",
       "        text-align: right;\n",
       "    }\n",
       "</style>\n",
       "<table border=\"1\" class=\"dataframe\">\n",
       "  <thead>\n",
       "    <tr style=\"text-align: right;\">\n",
       "      <th></th>\n",
       "      <th>State</th>\n",
       "      <th>GDP</th>\n",
       "      <th>FIPS</th>\n",
       "    </tr>\n",
       "  </thead>\n",
       "  <tbody>\n",
       "    <tr>\n",
       "      <th>2</th>\n",
       "      <td>Connecticut</td>\n",
       "      <td>294028</td>\n",
       "      <td>09</td>\n",
       "    </tr>\n",
       "    <tr>\n",
       "      <th>3</th>\n",
       "      <td>Maine</td>\n",
       "      <td>77477</td>\n",
       "      <td>23</td>\n",
       "    </tr>\n",
       "    <tr>\n",
       "      <th>4</th>\n",
       "      <td>Massachusetts</td>\n",
       "      <td>633618</td>\n",
       "      <td>25</td>\n",
       "    </tr>\n",
       "    <tr>\n",
       "      <th>5</th>\n",
       "      <td>New Hampshire</td>\n",
       "      <td>96501</td>\n",
       "      <td>33</td>\n",
       "    </tr>\n",
       "    <tr>\n",
       "      <th>6</th>\n",
       "      <td>Rhode Island</td>\n",
       "      <td>65281</td>\n",
       "      <td>44</td>\n",
       "    </tr>\n",
       "  </tbody>\n",
       "</table>\n",
       "</div>"
      ],
      "text/plain": [
       "           State     GDP FIPS\n",
       "2    Connecticut  294028   09\n",
       "3          Maine   77477   23\n",
       "4  Massachusetts  633618   25\n",
       "5  New Hampshire   96501   33\n",
       "6   Rhode Island   65281   44"
      ]
     },
     "execution_count": 14,
     "metadata": {},
     "output_type": "execute_result"
    }
   ],
   "source": [
    "# Create a dictionary mapping state names to FIPS codes\n",
    "fips_codes = {\n",
    "    'Alabama': '01', 'Alaska': '02', 'Arizona': '04', 'Arkansas': '05', \n",
    "    'California': '06', 'Colorado': '08', 'Connecticut': '09', 'Delaware': '10', \n",
    "    'District of Columbia': '11', 'Florida': '12', 'Georgia': '13', 'Hawaii': '15', \n",
    "    'Idaho': '16', 'Illinois': '17', 'Indiana': '18', 'Iowa': '19', \n",
    "    'Kansas': '20', 'Kentucky': '21', 'Louisiana': '22', 'Maine': '23', \n",
    "    'Maryland': '24', 'Massachusetts': '25', 'Michigan': '26', 'Minnesota': '27', \n",
    "    'Mississippi': '28', 'Missouri': '29', 'Montana': '30', 'Nebraska': '31', \n",
    "    'Nevada': '32', 'New Hampshire': '33', 'New Jersey': '34', 'New Mexico': '35', \n",
    "    'New York': '36', 'North Carolina': '37', 'North Dakota': '38', 'Ohio': '39', \n",
    "    'Oklahoma': '40', 'Oregon': '41', 'Pennsylvania': '42', 'Rhode Island': '44', \n",
    "    'South Carolina': '45', 'South Dakota': '46', 'Tennessee': '47', 'Texas': '48', \n",
    "    'Utah': '49', 'Vermont': '50', 'Virginia': '51', 'Washington': '53', \n",
    "    'West Virginia': '54', 'Wisconsin': '55', 'Wyoming': '56'\n",
    "}\n",
    "\n",
    "# Add FIPS codes to the dataframe\n",
    "df['FIPS'] = df['State'].map(fips_codes)\n",
    "\n",
    "# Display the first few rows to verify\n",
    "df.head()"
   ]
  },
  {
   "cell_type": "code",
   "execution_count": 16,
   "id": "66c7189c",
   "metadata": {},
   "outputs": [
    {
     "data": {
      "application/vnd.microsoft.datawrangler.viewer.v0+json": {
       "columns": [
        {
         "name": "index",
         "rawType": "int64",
         "type": "integer"
        },
        {
         "name": "State",
         "rawType": "object",
         "type": "string"
        },
        {
         "name": "GDP",
         "rawType": "int64",
         "type": "integer"
        },
        {
         "name": "FIPS",
         "rawType": "int64",
         "type": "integer"
        }
       ],
       "ref": "83e01ce4-9c64-423e-b17d-9ea5e24481f3",
       "rows": [
        [
         "2",
         "Connecticut",
         "294028",
         "9"
        ],
        [
         "3",
         "Maine",
         "77477",
         "23"
        ],
        [
         "4",
         "Massachusetts",
         "633618",
         "25"
        ],
        [
         "5",
         "New Hampshire",
         "96501",
         "33"
        ],
        [
         "6",
         "Rhode Island",
         "65281",
         "44"
        ],
        [
         "7",
         "Vermont",
         "36041",
         "50"
        ],
        [
         "9",
         "Delaware",
         "79653",
         "10"
        ],
        [
         "10",
         "District of Columbia",
         "148020",
         "11"
        ],
        [
         "11",
         "Maryland",
         "432193",
         "24"
        ],
        [
         "12",
         "New Jersey",
         "678968",
         "34"
        ],
        [
         "13",
         "New York",
         "1834561",
         "36"
        ],
        [
         "14",
         "Pennsylvania",
         "818529",
         "42"
        ],
        [
         "16",
         "Illinois",
         "895343",
         "17"
        ],
        [
         "17",
         "Indiana",
         "419473",
         "18"
        ],
        [
         "18",
         "Michigan",
         "566033",
         "26"
        ],
        [
         "19",
         "Ohio",
         "727262",
         "39"
        ],
        [
         "20",
         "Wisconsin",
         "354076",
         "55"
        ],
        [
         "22",
         "Iowa",
         "201097",
         "19"
        ],
        [
         "23",
         "Kansas",
         "185721",
         "20"
        ],
        [
         "24",
         "Minnesota",
         "395307",
         "27"
        ],
        [
         "25",
         "Missouri",
         "356653",
         "29"
        ],
        [
         "26",
         "Nebraska",
         "145909",
         "31"
        ],
        [
         "27",
         "North Dakota",
         "59916",
         "38"
        ],
        [
         "28",
         "South Dakota",
         "57498",
         "46"
        ],
        [
         "30",
         "Alabama",
         "252665",
         "1"
        ],
        [
         "31",
         "Arkansas",
         "148208",
         "5"
        ],
        [
         "32",
         "Florida",
         "1339619",
         "12"
        ],
        [
         "33",
         "Georgia",
         "701073",
         "13"
        ],
        [
         "34",
         "Kentucky",
         "229885",
         "21"
        ],
        [
         "35",
         "Louisiana",
         "256422",
         "22"
        ],
        [
         "36",
         "Mississippi",
         "122438",
         "28"
        ],
        [
         "37",
         "North Carolina",
         "661948",
         "37"
        ],
        [
         "38",
         "South Carolina",
         "273325",
         "45"
        ],
        [
         "39",
         "Tennessee",
         "432266",
         "47"
        ],
        [
         "40",
         "Virginia",
         "616058",
         "51"
        ],
        [
         "41",
         "West Virginia",
         "83654",
         "54"
        ],
        [
         "43",
         "Arizona",
         "433763",
         "4"
        ],
        [
         "44",
         "New Mexico",
         "112801",
         "35"
        ],
        [
         "45",
         "Oklahoma",
         "212784",
         "40"
        ],
        [
         "46",
         "Texas",
         "2172369",
         "48"
        ],
        [
         "48",
         "Colorado",
         "445302",
         "8"
        ],
        [
         "49",
         "Idaho",
         "99603",
         "16"
        ],
        [
         "50",
         "Montana",
         "58520",
         "30"
        ],
        [
         "51",
         "Utah",
         "235716",
         "49"
        ],
        [
         "52",
         "Wyoming",
         "40516",
         "56"
        ],
        [
         "54",
         "Alaska",
         "54881",
         "2"
        ],
        [
         "55",
         "California",
         "3365083",
         "6"
        ],
        [
         "56",
         "Hawaii",
         "90280",
         "15"
        ],
        [
         "57",
         "Nevada",
         "200921",
         "32"
        ],
        [
         "58",
         "Oregon",
         "265147",
         "41"
        ]
       ],
       "shape": {
        "columns": 3,
        "rows": 51
       }
      },
      "text/html": [
       "<div>\n",
       "<style scoped>\n",
       "    .dataframe tbody tr th:only-of-type {\n",
       "        vertical-align: middle;\n",
       "    }\n",
       "\n",
       "    .dataframe tbody tr th {\n",
       "        vertical-align: top;\n",
       "    }\n",
       "\n",
       "    .dataframe thead th {\n",
       "        text-align: right;\n",
       "    }\n",
       "</style>\n",
       "<table border=\"1\" class=\"dataframe\">\n",
       "  <thead>\n",
       "    <tr style=\"text-align: right;\">\n",
       "      <th></th>\n",
       "      <th>State</th>\n",
       "      <th>GDP</th>\n",
       "      <th>FIPS</th>\n",
       "    </tr>\n",
       "  </thead>\n",
       "  <tbody>\n",
       "    <tr>\n",
       "      <th>2</th>\n",
       "      <td>Connecticut</td>\n",
       "      <td>294028</td>\n",
       "      <td>9</td>\n",
       "    </tr>\n",
       "    <tr>\n",
       "      <th>3</th>\n",
       "      <td>Maine</td>\n",
       "      <td>77477</td>\n",
       "      <td>23</td>\n",
       "    </tr>\n",
       "    <tr>\n",
       "      <th>4</th>\n",
       "      <td>Massachusetts</td>\n",
       "      <td>633618</td>\n",
       "      <td>25</td>\n",
       "    </tr>\n",
       "    <tr>\n",
       "      <th>5</th>\n",
       "      <td>New Hampshire</td>\n",
       "      <td>96501</td>\n",
       "      <td>33</td>\n",
       "    </tr>\n",
       "    <tr>\n",
       "      <th>6</th>\n",
       "      <td>Rhode Island</td>\n",
       "      <td>65281</td>\n",
       "      <td>44</td>\n",
       "    </tr>\n",
       "    <tr>\n",
       "      <th>7</th>\n",
       "      <td>Vermont</td>\n",
       "      <td>36041</td>\n",
       "      <td>50</td>\n",
       "    </tr>\n",
       "    <tr>\n",
       "      <th>9</th>\n",
       "      <td>Delaware</td>\n",
       "      <td>79653</td>\n",
       "      <td>10</td>\n",
       "    </tr>\n",
       "    <tr>\n",
       "      <th>10</th>\n",
       "      <td>District of Columbia</td>\n",
       "      <td>148020</td>\n",
       "      <td>11</td>\n",
       "    </tr>\n",
       "    <tr>\n",
       "      <th>11</th>\n",
       "      <td>Maryland</td>\n",
       "      <td>432193</td>\n",
       "      <td>24</td>\n",
       "    </tr>\n",
       "    <tr>\n",
       "      <th>12</th>\n",
       "      <td>New Jersey</td>\n",
       "      <td>678968</td>\n",
       "      <td>34</td>\n",
       "    </tr>\n",
       "    <tr>\n",
       "      <th>13</th>\n",
       "      <td>New York</td>\n",
       "      <td>1834561</td>\n",
       "      <td>36</td>\n",
       "    </tr>\n",
       "    <tr>\n",
       "      <th>14</th>\n",
       "      <td>Pennsylvania</td>\n",
       "      <td>818529</td>\n",
       "      <td>42</td>\n",
       "    </tr>\n",
       "    <tr>\n",
       "      <th>16</th>\n",
       "      <td>Illinois</td>\n",
       "      <td>895343</td>\n",
       "      <td>17</td>\n",
       "    </tr>\n",
       "    <tr>\n",
       "      <th>17</th>\n",
       "      <td>Indiana</td>\n",
       "      <td>419473</td>\n",
       "      <td>18</td>\n",
       "    </tr>\n",
       "    <tr>\n",
       "      <th>18</th>\n",
       "      <td>Michigan</td>\n",
       "      <td>566033</td>\n",
       "      <td>26</td>\n",
       "    </tr>\n",
       "    <tr>\n",
       "      <th>19</th>\n",
       "      <td>Ohio</td>\n",
       "      <td>727262</td>\n",
       "      <td>39</td>\n",
       "    </tr>\n",
       "    <tr>\n",
       "      <th>20</th>\n",
       "      <td>Wisconsin</td>\n",
       "      <td>354076</td>\n",
       "      <td>55</td>\n",
       "    </tr>\n",
       "    <tr>\n",
       "      <th>22</th>\n",
       "      <td>Iowa</td>\n",
       "      <td>201097</td>\n",
       "      <td>19</td>\n",
       "    </tr>\n",
       "    <tr>\n",
       "      <th>23</th>\n",
       "      <td>Kansas</td>\n",
       "      <td>185721</td>\n",
       "      <td>20</td>\n",
       "    </tr>\n",
       "    <tr>\n",
       "      <th>24</th>\n",
       "      <td>Minnesota</td>\n",
       "      <td>395307</td>\n",
       "      <td>27</td>\n",
       "    </tr>\n",
       "    <tr>\n",
       "      <th>25</th>\n",
       "      <td>Missouri</td>\n",
       "      <td>356653</td>\n",
       "      <td>29</td>\n",
       "    </tr>\n",
       "    <tr>\n",
       "      <th>26</th>\n",
       "      <td>Nebraska</td>\n",
       "      <td>145909</td>\n",
       "      <td>31</td>\n",
       "    </tr>\n",
       "    <tr>\n",
       "      <th>27</th>\n",
       "      <td>North Dakota</td>\n",
       "      <td>59916</td>\n",
       "      <td>38</td>\n",
       "    </tr>\n",
       "    <tr>\n",
       "      <th>28</th>\n",
       "      <td>South Dakota</td>\n",
       "      <td>57498</td>\n",
       "      <td>46</td>\n",
       "    </tr>\n",
       "    <tr>\n",
       "      <th>30</th>\n",
       "      <td>Alabama</td>\n",
       "      <td>252665</td>\n",
       "      <td>1</td>\n",
       "    </tr>\n",
       "    <tr>\n",
       "      <th>31</th>\n",
       "      <td>Arkansas</td>\n",
       "      <td>148208</td>\n",
       "      <td>5</td>\n",
       "    </tr>\n",
       "    <tr>\n",
       "      <th>32</th>\n",
       "      <td>Florida</td>\n",
       "      <td>1339619</td>\n",
       "      <td>12</td>\n",
       "    </tr>\n",
       "    <tr>\n",
       "      <th>33</th>\n",
       "      <td>Georgia</td>\n",
       "      <td>701073</td>\n",
       "      <td>13</td>\n",
       "    </tr>\n",
       "    <tr>\n",
       "      <th>34</th>\n",
       "      <td>Kentucky</td>\n",
       "      <td>229885</td>\n",
       "      <td>21</td>\n",
       "    </tr>\n",
       "    <tr>\n",
       "      <th>35</th>\n",
       "      <td>Louisiana</td>\n",
       "      <td>256422</td>\n",
       "      <td>22</td>\n",
       "    </tr>\n",
       "    <tr>\n",
       "      <th>36</th>\n",
       "      <td>Mississippi</td>\n",
       "      <td>122438</td>\n",
       "      <td>28</td>\n",
       "    </tr>\n",
       "    <tr>\n",
       "      <th>37</th>\n",
       "      <td>North Carolina</td>\n",
       "      <td>661948</td>\n",
       "      <td>37</td>\n",
       "    </tr>\n",
       "    <tr>\n",
       "      <th>38</th>\n",
       "      <td>South Carolina</td>\n",
       "      <td>273325</td>\n",
       "      <td>45</td>\n",
       "    </tr>\n",
       "    <tr>\n",
       "      <th>39</th>\n",
       "      <td>Tennessee</td>\n",
       "      <td>432266</td>\n",
       "      <td>47</td>\n",
       "    </tr>\n",
       "    <tr>\n",
       "      <th>40</th>\n",
       "      <td>Virginia</td>\n",
       "      <td>616058</td>\n",
       "      <td>51</td>\n",
       "    </tr>\n",
       "    <tr>\n",
       "      <th>41</th>\n",
       "      <td>West Virginia</td>\n",
       "      <td>83654</td>\n",
       "      <td>54</td>\n",
       "    </tr>\n",
       "    <tr>\n",
       "      <th>43</th>\n",
       "      <td>Arizona</td>\n",
       "      <td>433763</td>\n",
       "      <td>4</td>\n",
       "    </tr>\n",
       "    <tr>\n",
       "      <th>44</th>\n",
       "      <td>New Mexico</td>\n",
       "      <td>112801</td>\n",
       "      <td>35</td>\n",
       "    </tr>\n",
       "    <tr>\n",
       "      <th>45</th>\n",
       "      <td>Oklahoma</td>\n",
       "      <td>212784</td>\n",
       "      <td>40</td>\n",
       "    </tr>\n",
       "    <tr>\n",
       "      <th>46</th>\n",
       "      <td>Texas</td>\n",
       "      <td>2172369</td>\n",
       "      <td>48</td>\n",
       "    </tr>\n",
       "    <tr>\n",
       "      <th>48</th>\n",
       "      <td>Colorado</td>\n",
       "      <td>445302</td>\n",
       "      <td>8</td>\n",
       "    </tr>\n",
       "    <tr>\n",
       "      <th>49</th>\n",
       "      <td>Idaho</td>\n",
       "      <td>99603</td>\n",
       "      <td>16</td>\n",
       "    </tr>\n",
       "    <tr>\n",
       "      <th>50</th>\n",
       "      <td>Montana</td>\n",
       "      <td>58520</td>\n",
       "      <td>30</td>\n",
       "    </tr>\n",
       "    <tr>\n",
       "      <th>51</th>\n",
       "      <td>Utah</td>\n",
       "      <td>235716</td>\n",
       "      <td>49</td>\n",
       "    </tr>\n",
       "    <tr>\n",
       "      <th>52</th>\n",
       "      <td>Wyoming</td>\n",
       "      <td>40516</td>\n",
       "      <td>56</td>\n",
       "    </tr>\n",
       "    <tr>\n",
       "      <th>54</th>\n",
       "      <td>Alaska</td>\n",
       "      <td>54881</td>\n",
       "      <td>2</td>\n",
       "    </tr>\n",
       "    <tr>\n",
       "      <th>55</th>\n",
       "      <td>California</td>\n",
       "      <td>3365083</td>\n",
       "      <td>6</td>\n",
       "    </tr>\n",
       "    <tr>\n",
       "      <th>56</th>\n",
       "      <td>Hawaii</td>\n",
       "      <td>90280</td>\n",
       "      <td>15</td>\n",
       "    </tr>\n",
       "    <tr>\n",
       "      <th>57</th>\n",
       "      <td>Nevada</td>\n",
       "      <td>200921</td>\n",
       "      <td>32</td>\n",
       "    </tr>\n",
       "    <tr>\n",
       "      <th>58</th>\n",
       "      <td>Oregon</td>\n",
       "      <td>265147</td>\n",
       "      <td>41</td>\n",
       "    </tr>\n",
       "    <tr>\n",
       "      <th>59</th>\n",
       "      <td>Washington</td>\n",
       "      <td>702034</td>\n",
       "      <td>53</td>\n",
       "    </tr>\n",
       "  </tbody>\n",
       "</table>\n",
       "</div>"
      ],
      "text/plain": [
       "                   State      GDP  FIPS\n",
       "2            Connecticut   294028     9\n",
       "3                  Maine    77477    23\n",
       "4          Massachusetts   633618    25\n",
       "5          New Hampshire    96501    33\n",
       "6           Rhode Island    65281    44\n",
       "7                Vermont    36041    50\n",
       "9               Delaware    79653    10\n",
       "10  District of Columbia   148020    11\n",
       "11              Maryland   432193    24\n",
       "12            New Jersey   678968    34\n",
       "13              New York  1834561    36\n",
       "14          Pennsylvania   818529    42\n",
       "16              Illinois   895343    17\n",
       "17               Indiana   419473    18\n",
       "18              Michigan   566033    26\n",
       "19                  Ohio   727262    39\n",
       "20             Wisconsin   354076    55\n",
       "22                  Iowa   201097    19\n",
       "23                Kansas   185721    20\n",
       "24             Minnesota   395307    27\n",
       "25              Missouri   356653    29\n",
       "26              Nebraska   145909    31\n",
       "27          North Dakota    59916    38\n",
       "28          South Dakota    57498    46\n",
       "30               Alabama   252665     1\n",
       "31              Arkansas   148208     5\n",
       "32               Florida  1339619    12\n",
       "33               Georgia   701073    13\n",
       "34              Kentucky   229885    21\n",
       "35             Louisiana   256422    22\n",
       "36           Mississippi   122438    28\n",
       "37        North Carolina   661948    37\n",
       "38        South Carolina   273325    45\n",
       "39             Tennessee   432266    47\n",
       "40              Virginia   616058    51\n",
       "41         West Virginia    83654    54\n",
       "43               Arizona   433763     4\n",
       "44            New Mexico   112801    35\n",
       "45              Oklahoma   212784    40\n",
       "46                 Texas  2172369    48\n",
       "48              Colorado   445302     8\n",
       "49                 Idaho    99603    16\n",
       "50               Montana    58520    30\n",
       "51                  Utah   235716    49\n",
       "52               Wyoming    40516    56\n",
       "54                Alaska    54881     2\n",
       "55            California  3365083     6\n",
       "56                Hawaii    90280    15\n",
       "57                Nevada   200921    32\n",
       "58                Oregon   265147    41\n",
       "59            Washington   702034    53"
      ]
     },
     "execution_count": 16,
     "metadata": {},
     "output_type": "execute_result"
    }
   ],
   "source": [
    "# make GDP and fips columns numeric\n",
    "df['GDP'] = pd.to_numeric(df['GDP'], errors='coerce')\n",
    "df['FIPS'] = pd.to_numeric(df['FIPS'], errors='coerce')\n",
    "\n",
    "df"
   ]
  },
  {
   "cell_type": "code",
   "execution_count": 18,
   "id": "03c9cca6",
   "metadata": {},
   "outputs": [],
   "source": [
    "df.columns = ['name', 'gdp', 'id']"
   ]
  },
  {
   "cell_type": "code",
   "execution_count": 19,
   "id": "49aab31a",
   "metadata": {},
   "outputs": [],
   "source": [
    "df.to_csv('us_states_gdp.csv', index=False)"
   ]
  },
  {
   "cell_type": "code",
   "execution_count": null,
   "id": "2588eb0c",
   "metadata": {},
   "outputs": [],
   "source": []
  }
 ],
 "metadata": {
  "kernelspec": {
   "display_name": ".venv",
   "language": "python",
   "name": "python3"
  },
  "language_info": {
   "codemirror_mode": {
    "name": "ipython",
    "version": 3
   },
   "file_extension": ".py",
   "mimetype": "text/x-python",
   "name": "python",
   "nbconvert_exporter": "python",
   "pygments_lexer": "ipython3",
   "version": "3.9.13"
  }
 },
 "nbformat": 4,
 "nbformat_minor": 5
}
