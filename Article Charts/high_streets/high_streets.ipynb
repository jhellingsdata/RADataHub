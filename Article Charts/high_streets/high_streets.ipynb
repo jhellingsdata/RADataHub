{
 "cells": [
  {
   "cell_type": "code",
   "execution_count": null,
   "id": "2a7de1c9",
   "metadata": {},
   "outputs": [
    {
     "data": {
      "text/plain": [
       "ThemeRegistry.enable('light')"
      ]
     },
     "execution_count": 2,
     "metadata": {},
     "output_type": "execute_result"
    }
   ],
   "source": [
    "import pandas as pd\n",
    "import numpy as np\n",
    "import os\n",
    "import altair as alt\n",
    "import eco_style\n",
    "alt.themes.enable(\"light\")"
   ]
  },
  {
   "cell_type": "code",
   "execution_count": null,
   "id": "e6015cff",
   "metadata": {},
   "outputs": [],
   "source": [
    "# dfs = pd.read_html(\"https://www.retailresearch.org/whos-gone-bust-retail.html\")\n",
    "# df = dfs[0]\n",
    "# df.columns = df.iloc[0]\n",
    "# df = df.iloc[2:, [0,2]]\n",
    "# df.columns = ['date', 'value']\n",
    "# df['date'] = df.date.str[:4]\n",
    "# df.to_csv('retail_busts.csv', index=False)"
   ]
  },
  {
   "cell_type": "code",
   "execution_count": 38,
   "id": "56982ce4",
   "metadata": {},
   "outputs": [],
   "source": [
    "df = pd.read_csv(\"retail_busts.csv\")\n",
    "df['date'] = pd.to_datetime(df['date'], format='%Y')\n",
    "chart = alt.Chart(df).mark_bar(\n",
    "color=\"#36B7B4\"\n",
    ").encode(\n",
    "    x=alt.X('year(date):T', title=''),\n",
    "    y=alt.Y('value:Q', title='', axis=alt.Axis(labelExpr=\"datum.label + (datum.value == 8000 ? ' stores' : '')\")),\n",
    "    tooltip=[\n",
    "        {\n",
    "            \"title\": \"Year\",\n",
    "            \"type\": \"temporal\",\n",
    "            \"field\": \"date\",\n",
    "            \"format\": \"%Y\"\n",
    "        },\n",
    "        {\n",
    "            \"title\": \"Stores\",\n",
    "            \"field\": \"value\",\n",
    "            \"format\": \",\"\n",
    "        }\n",
    "    ]\n",
    ")\n",
    "chart = chart.properties(\n",
    "    width=500,\n",
    "    height=280\n",
    ")\n",
    "\n",
    "chart.save('retail_busts.png', scale_factor=3)\n",
    "chart.save('retail_busts.json', format='json')"
   ]
  }
 ],
 "metadata": {
  "kernelspec": {
   "display_name": "base",
   "language": "python",
   "name": "python3"
  },
  "language_info": {
   "codemirror_mode": {
    "name": "ipython",
    "version": 3
   },
   "file_extension": ".py",
   "mimetype": "text/x-python",
   "name": "python",
   "nbconvert_exporter": "python",
   "pygments_lexer": "ipython3",
   "version": "3.11.4"
  }
 },
 "nbformat": 4,
 "nbformat_minor": 5
}
