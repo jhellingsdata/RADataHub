{
 "cells": [
  {
   "cell_type": "code",
   "execution_count": 1,
   "metadata": {},
   "outputs": [],
   "source": [
    "from PIL import Image, ImageDraw, ImageFont\n"
   ]
  },
  {
   "cell_type": "code",
   "execution_count": 4,
   "metadata": {},
   "outputs": [
    {
     "name": "stdout",
     "output_type": "stream",
     "text": [
      "Collecting cairosvg\n",
      "  Obtaining dependency information for cairosvg from https://files.pythonhosted.org/packages/01/a5/1866b42151f50453f1a0d28fc4c39f5be5f412a2e914f33449c42daafdf1/CairoSVG-2.7.1-py3-none-any.whl.metadata\n",
      "  Downloading CairoSVG-2.7.1-py3-none-any.whl.metadata (2.7 kB)\n",
      "Collecting cairocffi (from cairosvg)\n",
      "  Obtaining dependency information for cairocffi from https://files.pythonhosted.org/packages/93/d8/ba13451aa6b745c49536e87b6bf8f629b950e84bd0e8308f7dc6883b67e2/cairocffi-1.7.1-py3-none-any.whl.metadata\n",
      "  Downloading cairocffi-1.7.1-py3-none-any.whl.metadata (3.3 kB)\n",
      "Requirement already satisfied: cssselect2 in /Users/finn/anaconda3/lib/python3.11/site-packages (from cairosvg) (0.7.0)\n",
      "Requirement already satisfied: defusedxml in /Users/finn/anaconda3/lib/python3.11/site-packages (from cairosvg) (0.7.1)\n",
      "Requirement already satisfied: pillow in /Users/finn/anaconda3/lib/python3.11/site-packages (from cairosvg) (10.4.0)\n",
      "Requirement already satisfied: tinycss2 in /Users/finn/anaconda3/lib/python3.11/site-packages (from cairosvg) (1.2.1)\n",
      "Requirement already satisfied: cffi>=1.1.0 in /Users/finn/anaconda3/lib/python3.11/site-packages (from cairocffi->cairosvg) (1.15.1)\n",
      "Requirement already satisfied: webencodings in /Users/finn/anaconda3/lib/python3.11/site-packages (from cssselect2->cairosvg) (0.5.1)\n",
      "Requirement already satisfied: pycparser in /Users/finn/anaconda3/lib/python3.11/site-packages (from cffi>=1.1.0->cairocffi->cairosvg) (2.21)\n",
      "Downloading CairoSVG-2.7.1-py3-none-any.whl (43 kB)\n",
      "\u001b[2K   \u001b[90m━━━━━━━━━━━━━━━━━━━━━━━━━━━━━━━━━━━━━━━━\u001b[0m \u001b[32m43.2/43.2 kB\u001b[0m \u001b[31m5.9 MB/s\u001b[0m eta \u001b[36m0:00:00\u001b[0m\n",
      "\u001b[?25hDownloading cairocffi-1.7.1-py3-none-any.whl (75 kB)\n",
      "\u001b[2K   \u001b[90m━━━━━━━━━━━━━━━━━━━━━━━━━━━━━━━━━━━━━━━━\u001b[0m \u001b[32m75.6/75.6 kB\u001b[0m \u001b[31m10.1 MB/s\u001b[0m eta \u001b[36m0:00:00\u001b[0m\n",
      "\u001b[?25hInstalling collected packages: cairocffi, cairosvg\n",
      "Successfully installed cairocffi-1.7.1 cairosvg-2.7.1\n",
      "Note: you may need to restart the kernel to use updated packages.\n"
     ]
    }
   ],
   "source": [
    "pip install cairosvg"
   ]
  },
  {
   "cell_type": "code",
   "execution_count": 5,
   "metadata": {},
   "outputs": [
    {
     "ename": "OSError",
     "evalue": "no library called \"cairo-2\" was found\nno library called \"cairo\" was found\nno library called \"libcairo-2\" was found\ncannot load library 'libcairo.so.2': dlopen(libcairo.so.2, 0x0002): tried: 'libcairo.so.2' (no such file), '/System/Volumes/Preboot/Cryptexes/OSlibcairo.so.2' (no such file), '/Users/finn/anaconda3/lib/python3.11/site-packages/../../libcairo.so.2' (no such file), '/Users/finn/anaconda3/bin/../lib/libcairo.so.2' (no such file), '/usr/lib/libcairo.so.2' (no such file, not in dyld cache), 'libcairo.so.2' (no such file), '/usr/local/lib/libcairo.so.2' (no such file), '/usr/lib/libcairo.so.2' (no such file, not in dyld cache).  Additionally, ctypes.util.find_library() did not manage to locate a library called 'libcairo.so.2'\ncannot load library 'libcairo.2.dylib': dlopen(libcairo.2.dylib, 0x0002): tried: 'libcairo.2.dylib' (no such file), '/System/Volumes/Preboot/Cryptexes/OSlibcairo.2.dylib' (no such file), '/Users/finn/anaconda3/lib/python3.11/site-packages/../../libcairo.2.dylib' (no such file), '/Users/finn/anaconda3/bin/../lib/libcairo.2.dylib' (no such file), '/usr/lib/libcairo.2.dylib' (no such file, not in dyld cache), 'libcairo.2.dylib' (no such file), '/usr/local/lib/libcairo.2.dylib' (no such file), '/usr/lib/libcairo.2.dylib' (no such file, not in dyld cache).  Additionally, ctypes.util.find_library() did not manage to locate a library called 'libcairo.2.dylib'\ncannot load library 'libcairo-2.dll': dlopen(libcairo-2.dll, 0x0002): tried: 'libcairo-2.dll' (no such file), '/System/Volumes/Preboot/Cryptexes/OSlibcairo-2.dll' (no such file), '/Users/finn/anaconda3/lib/python3.11/site-packages/../../libcairo-2.dll' (no such file), '/Users/finn/anaconda3/bin/../lib/libcairo-2.dll' (no such file), '/usr/lib/libcairo-2.dll' (no such file, not in dyld cache), 'libcairo-2.dll' (no such file), '/usr/local/lib/libcairo-2.dll' (no such file), '/usr/lib/libcairo-2.dll' (no such file, not in dyld cache).  Additionally, ctypes.util.find_library() did not manage to locate a library called 'libcairo-2.dll'",
     "output_type": "error",
     "traceback": [
      "\u001b[0;31m---------------------------------------------------------------------------\u001b[0m",
      "\u001b[0;31mOSError\u001b[0m                                   Traceback (most recent call last)",
      "\u001b[0;32m/var/folders/07/g_yq2xsn0mvb4xnyvr18jjmw0000gn/T/ipykernel_7594/886792622.py\u001b[0m in \u001b[0;36m<cell line: 0>\u001b[0;34m()\u001b[0m\n\u001b[1;32m      1\u001b[0m \u001b[0;32mfrom\u001b[0m \u001b[0mPIL\u001b[0m \u001b[0;32mimport\u001b[0m \u001b[0mImage\u001b[0m\u001b[0;34m,\u001b[0m \u001b[0mImageDraw\u001b[0m\u001b[0;34m,\u001b[0m \u001b[0mImageFont\u001b[0m\u001b[0;34m\u001b[0m\u001b[0;34m\u001b[0m\u001b[0m\n\u001b[0;32m----> 2\u001b[0;31m \u001b[0;32mimport\u001b[0m \u001b[0mcairosvg\u001b[0m\u001b[0;34m\u001b[0m\u001b[0;34m\u001b[0m\u001b[0m\n\u001b[0m\u001b[1;32m      3\u001b[0m \u001b[0;34m\u001b[0m\u001b[0m\n\u001b[1;32m      4\u001b[0m \u001b[0;31m# Load and convert the SVG to a PNG\u001b[0m\u001b[0;34m\u001b[0m\u001b[0;34m\u001b[0m\u001b[0m\n\u001b[1;32m      5\u001b[0m \u001b[0msvg_path\u001b[0m \u001b[0;34m=\u001b[0m \u001b[0;34m\"chart.svg\"\u001b[0m\u001b[0;34m\u001b[0m\u001b[0;34m\u001b[0m\u001b[0m\n",
      "\u001b[0;32m~/anaconda3/lib/python3.11/site-packages/cairosvg/__init__.py\u001b[0m in \u001b[0;36m<module>\u001b[0;34m\u001b[0m\n\u001b[1;32m     24\u001b[0m \u001b[0;34m\u001b[0m\u001b[0m\n\u001b[1;32m     25\u001b[0m \u001b[0;31m# VERSION is used in the \"url\" module imported by \"surface\"\u001b[0m\u001b[0;34m\u001b[0m\u001b[0;34m\u001b[0m\u001b[0m\n\u001b[0;32m---> 26\u001b[0;31m \u001b[0;32mfrom\u001b[0m \u001b[0;34m.\u001b[0m \u001b[0;32mimport\u001b[0m \u001b[0msurface\u001b[0m  \u001b[0;31m# noqa isort:skip\u001b[0m\u001b[0;34m\u001b[0m\u001b[0;34m\u001b[0m\u001b[0m\n\u001b[0m\u001b[1;32m     27\u001b[0m \u001b[0;34m\u001b[0m\u001b[0m\n\u001b[1;32m     28\u001b[0m \u001b[0;34m\u001b[0m\u001b[0m\n",
      "\u001b[0;32m~/anaconda3/lib/python3.11/site-packages/cairosvg/surface.py\u001b[0m in \u001b[0;36m<module>\u001b[0;34m\u001b[0m\n\u001b[1;32m      7\u001b[0m \u001b[0;32mimport\u001b[0m \u001b[0mio\u001b[0m\u001b[0;34m\u001b[0m\u001b[0;34m\u001b[0m\u001b[0m\n\u001b[1;32m      8\u001b[0m \u001b[0;34m\u001b[0m\u001b[0m\n\u001b[0;32m----> 9\u001b[0;31m \u001b[0;32mimport\u001b[0m \u001b[0mcairocffi\u001b[0m \u001b[0;32mas\u001b[0m \u001b[0mcairo\u001b[0m\u001b[0;34m\u001b[0m\u001b[0;34m\u001b[0m\u001b[0m\n\u001b[0m\u001b[1;32m     10\u001b[0m \u001b[0;34m\u001b[0m\u001b[0m\n\u001b[1;32m     11\u001b[0m \u001b[0;32mfrom\u001b[0m \u001b[0;34m.\u001b[0m\u001b[0mcolors\u001b[0m \u001b[0;32mimport\u001b[0m \u001b[0mcolor\u001b[0m\u001b[0;34m,\u001b[0m \u001b[0mnegate_color\u001b[0m\u001b[0;34m\u001b[0m\u001b[0;34m\u001b[0m\u001b[0m\n",
      "\u001b[0;32m~/anaconda3/lib/python3.11/site-packages/cairocffi/__init__.py\u001b[0m in \u001b[0;36m<module>\u001b[0;34m\u001b[0m\n\u001b[1;32m     58\u001b[0m \u001b[0;34m\u001b[0m\u001b[0m\n\u001b[1;32m     59\u001b[0m \u001b[0;34m\u001b[0m\u001b[0m\n\u001b[0;32m---> 60\u001b[0;31m cairo = dlopen(\n\u001b[0m\u001b[1;32m     61\u001b[0m     \u001b[0mffi\u001b[0m\u001b[0;34m,\u001b[0m \u001b[0;34m(\u001b[0m\u001b[0;34m'cairo-2'\u001b[0m\u001b[0;34m,\u001b[0m \u001b[0;34m'cairo'\u001b[0m\u001b[0;34m,\u001b[0m \u001b[0;34m'libcairo-2'\u001b[0m\u001b[0;34m)\u001b[0m\u001b[0;34m,\u001b[0m\u001b[0;34m\u001b[0m\u001b[0;34m\u001b[0m\u001b[0m\n\u001b[1;32m     62\u001b[0m     ('libcairo.so.2', 'libcairo.2.dylib', 'libcairo-2.dll'))\n",
      "\u001b[0;32m~/anaconda3/lib/python3.11/site-packages/cairocffi/__init__.py\u001b[0m in \u001b[0;36mdlopen\u001b[0;34m(ffi, library_names, filenames)\u001b[0m\n\u001b[1;32m     55\u001b[0m     error_message = '\\n'.join(  # pragma: no cover\n\u001b[1;32m     56\u001b[0m         str(exception) for exception in exceptions)\n\u001b[0;32m---> 57\u001b[0;31m     \u001b[0;32mraise\u001b[0m \u001b[0mOSError\u001b[0m\u001b[0;34m(\u001b[0m\u001b[0merror_message\u001b[0m\u001b[0;34m)\u001b[0m  \u001b[0;31m# pragma: no cover\u001b[0m\u001b[0;34m\u001b[0m\u001b[0;34m\u001b[0m\u001b[0m\n\u001b[0m\u001b[1;32m     58\u001b[0m \u001b[0;34m\u001b[0m\u001b[0m\n\u001b[1;32m     59\u001b[0m \u001b[0;34m\u001b[0m\u001b[0m\n",
      "\u001b[0;31mOSError\u001b[0m: no library called \"cairo-2\" was found\nno library called \"cairo\" was found\nno library called \"libcairo-2\" was found\ncannot load library 'libcairo.so.2': dlopen(libcairo.so.2, 0x0002): tried: 'libcairo.so.2' (no such file), '/System/Volumes/Preboot/Cryptexes/OSlibcairo.so.2' (no such file), '/Users/finn/anaconda3/lib/python3.11/site-packages/../../libcairo.so.2' (no such file), '/Users/finn/anaconda3/bin/../lib/libcairo.so.2' (no such file), '/usr/lib/libcairo.so.2' (no such file, not in dyld cache), 'libcairo.so.2' (no such file), '/usr/local/lib/libcairo.so.2' (no such file), '/usr/lib/libcairo.so.2' (no such file, not in dyld cache).  Additionally, ctypes.util.find_library() did not manage to locate a library called 'libcairo.so.2'\ncannot load library 'libcairo.2.dylib': dlopen(libcairo.2.dylib, 0x0002): tried: 'libcairo.2.dylib' (no such file), '/System/Volumes/Preboot/Cryptexes/OSlibcairo.2.dylib' (no such file), '/Users/finn/anaconda3/lib/python3.11/site-packages/../../libcairo.2.dylib' (no such file), '/Users/finn/anaconda3/bin/../lib/libcairo.2.dylib' (no such file), '/usr/lib/libcairo.2.dylib' (no such file, not in dyld cache), 'libcairo.2.dylib' (no such file), '/usr/local/lib/libcairo.2.dylib' (no such file), '/usr/lib/libcairo.2.dylib' (no such file, not in dyld cache).  Additionally, ctypes.util.find_library() did not manage to locate a library called 'libcairo.2.dylib'\ncannot load library 'libcairo-2.dll': dlopen(libcairo-2.dll, 0x0002): tried: 'libcairo-2.dll' (no such file), '/System/Volumes/Preboot/Cryptexes/OSlibcairo-2.dll' (no such file), '/Users/finn/anaconda3/lib/python3.11/site-packages/../../libcairo-2.dll' (no such file), '/Users/finn/anaconda3/bin/../lib/libcairo-2.dll' (no such file), '/usr/lib/libcairo-2.dll' (no such file, not in dyld cache), 'libcairo-2.dll' (no such file), '/usr/local/lib/libcairo-2.dll' (no such file), '/usr/lib/libcairo-2.dll' (no such file, not in dyld cache).  Additionally, ctypes.util.find_library() did not manage to locate a library called 'libcairo-2.dll'"
     ]
    }
   ],
   "source": [
    "from PIL import Image, ImageDraw, ImageFont\n",
    "import cairosvg\n",
    "\n",
    "# Load and convert the SVG to a PNG\n",
    "svg_path = \"chart.svg\"\n",
    "intermediate_png_path = \"chart_temp.png\"\n",
    "cairosvg.svg2png(url=svg_path, write_to=intermediate_png_path)\n",
    "\n",
    "# Open the converted PNG as a base image\n",
    "image = Image.open(intermediate_png_path)\n",
    "draw = ImageDraw.Draw(image)\n",
    "\n",
    "# Load the custom font\n",
    "font_path = \"font.ttf\"  # Replace with your font file path\n",
    "font_size = 36\n",
    "font = ImageFont.truetype(font_path, font_size)\n",
    "\n",
    "# Add text to the image\n",
    "text = \"Hello, this is custom font rendering!\"\n",
    "text_position = (50, 50)  # Adjust position as needed\n",
    "text_color = \"black\"\n",
    "draw.text(text_position, text, font=font, fill=text_color)\n",
    "\n",
    "# Save the final image as a PNG\n",
    "output_path = \"customized_chart.png\"\n",
    "image.save(output_path)\n",
    "\n",
    "# Optional: Display the image\n",
    "image.show()"
   ]
  },
  {
   "cell_type": "code",
   "execution_count": 6,
   "metadata": {},
   "outputs": [
    {
     "name": "stdout",
     "output_type": "stream",
     "text": [
      "Requirement already satisfied: vl-convert-python in /Users/finn/anaconda3/lib/python3.11/site-packages (0.13.1)\n",
      "Note: you may need to restart the kernel to use updated packages.\n"
     ]
    }
   ],
   "source": [
    "pip install vl-convert-python"
   ]
  },
  {
   "cell_type": "code",
   "execution_count": 9,
   "metadata": {},
   "outputs": [],
   "source": [
    "import vl_convert\n",
    "import os\n",
    "import altair as alt\n",
    "import pandas as pd"
   ]
  },
  {
   "cell_type": "code",
   "execution_count": 15,
   "metadata": {},
   "outputs": [
    {
     "name": "stderr",
     "output_type": "stream",
     "text": [
      "/Users/finn/anaconda3/lib/python3.11/site-packages/altair/utils/core.py:395: FutureWarning: the convert_dtype parameter is deprecated and will be removed in a future version.  Do ``ser.astype(object).apply()`` instead if you want ``convert_dtype=False``.\n",
      "  col = df[col_name].apply(to_list_if_array, convert_dtype=False)\n",
      "/Users/finn/anaconda3/lib/python3.11/site-packages/altair/utils/core.py:395: FutureWarning: the convert_dtype parameter is deprecated and will be removed in a future version.  Do ``ser.astype(object).apply()`` instead if you want ``convert_dtype=False``.\n",
      "  col = df[col_name].apply(to_list_if_array, convert_dtype=False)\n",
      "/Users/finn/anaconda3/lib/python3.11/site-packages/altair/utils/core.py:395: FutureWarning: the convert_dtype parameter is deprecated and will be removed in a future version.  Do ``ser.astype(object).apply()`` instead if you want ``convert_dtype=False``.\n",
      "  col = df[col_name].apply(to_list_if_array, convert_dtype=False)\n"
     ]
    },
    {
     "data": {
      "text/html": [
       "\n",
       "<style>\n",
       "  #altair-viz-10c202616cdf4630b495158c033ea02c.vega-embed {\n",
       "    width: 100%;\n",
       "    display: flex;\n",
       "  }\n",
       "\n",
       "  #altair-viz-10c202616cdf4630b495158c033ea02c.vega-embed details,\n",
       "  #altair-viz-10c202616cdf4630b495158c033ea02c.vega-embed details summary {\n",
       "    position: relative;\n",
       "  }\n",
       "</style>\n",
       "<div id=\"altair-viz-10c202616cdf4630b495158c033ea02c\"></div>\n",
       "<script type=\"text/javascript\">\n",
       "  var VEGA_DEBUG = (typeof VEGA_DEBUG == \"undefined\") ? {} : VEGA_DEBUG;\n",
       "  (function(spec, embedOpt){\n",
       "    let outputDiv = document.currentScript.previousElementSibling;\n",
       "    if (outputDiv.id !== \"altair-viz-10c202616cdf4630b495158c033ea02c\") {\n",
       "      outputDiv = document.getElementById(\"altair-viz-10c202616cdf4630b495158c033ea02c\");\n",
       "    }\n",
       "    const paths = {\n",
       "      \"vega\": \"https://cdn.jsdelivr.net/npm/vega@5?noext\",\n",
       "      \"vega-lib\": \"https://cdn.jsdelivr.net/npm/vega-lib?noext\",\n",
       "      \"vega-lite\": \"https://cdn.jsdelivr.net/npm/vega-lite@5.8.0?noext\",\n",
       "      \"vega-embed\": \"https://cdn.jsdelivr.net/npm/vega-embed@6?noext\",\n",
       "    };\n",
       "\n",
       "    function maybeLoadScript(lib, version) {\n",
       "      var key = `${lib.replace(\"-\", \"\")}_version`;\n",
       "      return (VEGA_DEBUG[key] == version) ?\n",
       "        Promise.resolve(paths[lib]) :\n",
       "        new Promise(function(resolve, reject) {\n",
       "          var s = document.createElement('script');\n",
       "          document.getElementsByTagName(\"head\")[0].appendChild(s);\n",
       "          s.async = true;\n",
       "          s.onload = () => {\n",
       "            VEGA_DEBUG[key] = version;\n",
       "            return resolve(paths[lib]);\n",
       "          };\n",
       "          s.onerror = () => reject(`Error loading script: ${paths[lib]}`);\n",
       "          s.src = paths[lib];\n",
       "        });\n",
       "    }\n",
       "\n",
       "    function showError(err) {\n",
       "      outputDiv.innerHTML = `<div class=\"error\" style=\"color:red;\">${err}</div>`;\n",
       "      throw err;\n",
       "    }\n",
       "\n",
       "    function displayChart(vegaEmbed) {\n",
       "      vegaEmbed(outputDiv, spec, embedOpt)\n",
       "        .catch(err => showError(`Javascript Error: ${err.message}<br>This usually means there's a typo in your chart specification. See the javascript console for the full traceback.`));\n",
       "    }\n",
       "\n",
       "    if(typeof define === \"function\" && define.amd) {\n",
       "      requirejs.config({paths});\n",
       "      require([\"vega-embed\"], displayChart, err => showError(`Error loading script: ${err.message}`));\n",
       "    } else {\n",
       "      maybeLoadScript(\"vega\", \"5\")\n",
       "        .then(() => maybeLoadScript(\"vega-lite\", \"5.8.0\"))\n",
       "        .then(() => maybeLoadScript(\"vega-embed\", \"6\"))\n",
       "        .catch(showError)\n",
       "        .then(() => displayChart(vegaEmbed));\n",
       "    }\n",
       "  })({\"config\": {\"view\": {\"continuousWidth\": 300, \"continuousHeight\": 300}, \"font\": \"Rubik Vinyl\"}, \"data\": {\"name\": \"data-5053939c4ec6c3e41ef02c4274c8aa74\"}, \"mark\": {\"type\": \"line\", \"interpolate\": \"basis\"}, \"encoding\": {\"color\": {\"field\": \"date\", \"legend\": {\"legendY\": -30, \"orient\": \"top\", \"title\": null}, \"title\": \"Date\", \"type\": \"nominal\"}, \"x\": {\"field\": \"management_score\", \"title\": \"Management score\", \"type\": \"quantitative\"}, \"y\": {\"axis\": {\"format\": \".1f\", \"titleY\": 0}, \"field\": \"density\", \"title\": \"Density\", \"type\": \"quantitative\"}}, \"$schema\": \"https://vega.github.io/schema/vega-lite/v5.8.0.json\", \"datasets\": {\"data-5053939c4ec6c3e41ef02c4274c8aa74\": [{\"density\": 0.1378867244082323, \"management_score\": -0.03684210516512394, \"date\": \"2016\"}, {\"density\": 0.23998235611594482, \"management_score\": -0.015109200988497055, \"date\": \"2016\"}, {\"density\": 0.35579458557909033, \"management_score\": 0.006623703188129833, \"date\": \"2016\"}, {\"density\": 0.4644930648767702, \"management_score\": 0.028356607364756717, \"date\": \"2016\"}, {\"density\": 0.5536304301931126, \"management_score\": 0.05008951154138361, \"date\": \"2016\"}, {\"density\": 0.6328286521164916, \"management_score\": 0.0718224157180105, \"date\": \"2016\"}, {\"density\": 0.680824344190859, \"management_score\": 0.09355531989463738, \"date\": \"2016\"}, {\"density\": 0.6929274825511987, \"management_score\": 0.11528822407126428, \"date\": \"2016\"}, {\"density\": 0.680970947809943, \"management_score\": 0.13702112824789114, \"date\": \"2016\"}, {\"density\": 0.6641855345547859, \"management_score\": 0.15875403242451802, \"date\": \"2016\"}, {\"density\": 0.6540577132056745, \"management_score\": 0.18048693660114495, \"date\": \"2016\"}, {\"density\": 0.6610224180354811, \"management_score\": 0.20221984077777183, \"date\": \"2016\"}, {\"density\": 0.6952968092057789, \"management_score\": 0.2239527449543987, \"date\": \"2016\"}, {\"density\": 0.7451300334052775, \"management_score\": 0.24568564913102559, \"date\": \"2016\"}, {\"density\": 0.7803495422720494, \"management_score\": 0.2674185533076525, \"date\": \"2016\"}, {\"density\": 0.8268575123373959, \"management_score\": 0.2891514574842794, \"date\": \"2016\"}, {\"density\": 0.883265915322307, \"management_score\": 0.31088436166090627, \"date\": \"2016\"}, {\"density\": 0.9367600651255535, \"management_score\": 0.33261726583753315, \"date\": \"2016\"}, {\"density\": 1.002012533325443, \"management_score\": 0.35435017001416, \"date\": \"2016\"}, {\"density\": 1.0871131815342487, \"management_score\": 0.37608307419078696, \"date\": \"2016\"}, {\"density\": 1.1699620630192604, \"management_score\": 0.39781597836741384, \"date\": \"2016\"}, {\"density\": 1.2497400399781138, \"management_score\": 0.4195488825440407, \"date\": \"2016\"}, {\"density\": 1.3183486325512719, \"management_score\": 0.4412817867206676, \"date\": \"2016\"}, {\"density\": 1.416507181769803, \"management_score\": 0.46301469089729447, \"date\": \"2016\"}, {\"density\": 1.507409137077165, \"management_score\": 0.48474759507392134, \"date\": \"2016\"}, {\"density\": 1.5839221630265363, \"management_score\": 0.5064804992505482, \"date\": \"2016\"}, {\"density\": 1.6735407287377257, \"management_score\": 0.528213403427175, \"date\": \"2016\"}, {\"density\": 1.760619933393651, \"management_score\": 0.549946307603802, \"date\": \"2016\"}, {\"density\": 1.818354171018808, \"management_score\": 0.5716792117804289, \"date\": \"2016\"}, {\"density\": 1.8678282371830208, \"management_score\": 0.5934121159570558, \"date\": \"2016\"}, {\"density\": 1.902083834712099, \"management_score\": 0.6151450201336827, \"date\": \"2016\"}, {\"density\": 1.9188685107369374, \"management_score\": 0.6368779243103095, \"date\": \"2016\"}, {\"density\": 1.887886629957553, \"management_score\": 0.6586108284869364, \"date\": \"2016\"}, {\"density\": 1.8132408514013707, \"management_score\": 0.6803437326635633, \"date\": \"2016\"}, {\"density\": 1.7151408638007333, \"management_score\": 0.7020766368401902, \"date\": \"2016\"}, {\"density\": 1.572474219745681, \"management_score\": 0.723809541016817, \"date\": \"2016\"}, {\"density\": 1.3978470872753341, \"management_score\": 0.7455424451934439, \"date\": \"2016\"}, {\"density\": 1.2227501873022695, \"management_score\": 0.7672753493700708, \"date\": \"2016\"}, {\"density\": 1.0319812330825995, \"management_score\": 0.7890082535466978, \"date\": \"2016\"}, {\"density\": 0.8302109788038589, \"management_score\": 0.8107411577233247, \"date\": \"2016\"}, {\"density\": 0.6304858626790781, \"management_score\": 0.8324740618999515, \"date\": \"2016\"}, {\"density\": 0.4609916515023384, \"management_score\": 0.8542069660765784, \"date\": \"2016\"}, {\"density\": 0.32411277442665615, \"management_score\": 0.8759398702532053, \"date\": \"2016\"}, {\"density\": 0.21512573704073876, \"management_score\": 0.8976727744298322, \"date\": \"2016\"}, {\"density\": 0.13307154616113842, \"management_score\": 0.919405678606459, \"date\": \"2016\"}, {\"density\": 0.07705546333815336, \"management_score\": 0.9411385827830859, \"date\": \"2016\"}, {\"density\": 0.03832070737671252, \"management_score\": 0.9628714869597128, \"date\": \"2016\"}, {\"density\": 0.014460171926597544, \"management_score\": 0.9846043911363398, \"date\": \"2016\"}, {\"density\": 0.004932241228720477, \"management_score\": 1.0063372953129666, \"date\": \"2016\"}, {\"density\": 0.002047336040999187, \"management_score\": 1.0280701994895936, \"date\": \"2016\"}, {\"density\": 0.09568941099816242, \"management_score\": -0.05, \"date\": \"2019\"}, {\"density\": 0.14724706587575462, \"management_score\": -0.028231293084670088, \"date\": \"2019\"}, {\"density\": 0.20272204266300708, \"management_score\": -0.006462586169340173, \"date\": \"2019\"}, {\"density\": 0.25766327399075784, \"management_score\": 0.015306120745989735, \"date\": \"2019\"}, {\"density\": 0.31995712519199315, \"management_score\": 0.037074827661319656, \"date\": \"2019\"}, {\"density\": 0.38743536297480446, \"management_score\": 0.05884353457664958, \"date\": \"2019\"}, {\"density\": 0.4464275551326698, \"management_score\": 0.08061224149197947, \"date\": \"2019\"}, {\"density\": 0.5116036831115517, \"management_score\": 0.1023809484073094, \"date\": \"2019\"}, {\"density\": 0.5773140449234714, \"management_score\": 0.12414965532263932, \"date\": \"2019\"}, {\"density\": 0.6459401967901935, \"management_score\": 0.14591836223796922, \"date\": \"2019\"}, {\"density\": 0.6991803273689184, \"management_score\": 0.16768706915329917, \"date\": \"2019\"}, {\"density\": 0.7361485292703072, \"management_score\": 0.18945577606862907, \"date\": \"2019\"}, {\"density\": 0.7607776275500959, \"management_score\": 0.21122448298395896, \"date\": \"2019\"}, {\"density\": 0.768743398489678, \"management_score\": 0.2329931898992889, \"date\": \"2019\"}, {\"density\": 0.7800781969956186, \"management_score\": 0.2547618968146188, \"date\": \"2019\"}, {\"density\": 0.8079193675117375, \"management_score\": 0.27653060372994875, \"date\": \"2019\"}, {\"density\": 0.843463157116506, \"management_score\": 0.29829931064527865, \"date\": \"2019\"}, {\"density\": 0.9414963410813385, \"management_score\": 0.32006801756060854, \"date\": \"2019\"}, {\"density\": 1.063792391983152, \"management_score\": 0.3418367244759385, \"date\": \"2019\"}, {\"density\": 1.1942992889300512, \"management_score\": 0.3636054313912684, \"date\": \"2019\"}, {\"density\": 1.3369634080440984, \"management_score\": 0.38537413830659834, \"date\": \"2019\"}, {\"density\": 1.4584326094536835, \"management_score\": 0.40714284522192823, \"date\": \"2019\"}, {\"density\": 1.5795747725375928, \"management_score\": 0.4289115521372581, \"date\": \"2019\"}, {\"density\": 1.6763333197947985, \"management_score\": 0.4506802590525881, \"date\": \"2019\"}, {\"density\": 1.7558581240905418, \"management_score\": 0.4724489659679179, \"date\": \"2019\"}, {\"density\": 1.807818306191375, \"management_score\": 0.49421767288324786, \"date\": \"2019\"}, {\"density\": 1.8408367331112154, \"management_score\": 0.5159863797985778, \"date\": \"2019\"}, {\"density\": 1.893791753248767, \"management_score\": 0.5377550867139077, \"date\": \"2019\"}, {\"density\": 1.9445109816264294, \"management_score\": 0.5595237936292375, \"date\": \"2019\"}, {\"density\": 1.9653857798980112, \"management_score\": 0.5812925005445675, \"date\": \"2019\"}, {\"density\": 1.9666993784399152, \"management_score\": 0.6030612074598974, \"date\": \"2019\"}, {\"density\": 1.9186775204354094, \"management_score\": 0.6248299143752273, \"date\": \"2019\"}, {\"density\": 1.849872542028532, \"management_score\": 0.6465986212905572, \"date\": \"2019\"}, {\"density\": 1.7592126235428651, \"management_score\": 0.6683673282058872, \"date\": \"2019\"}, {\"density\": 1.6325084920447204, \"management_score\": 0.690136035121217, \"date\": \"2019\"}, {\"density\": 1.4690660901725157, \"management_score\": 0.711904742036547, \"date\": \"2019\"}, {\"density\": 1.2851022128252532, \"management_score\": 0.7336734489518769, \"date\": \"2019\"}, {\"density\": 1.1049969939574231, \"management_score\": 0.7554421558672068, \"date\": \"2019\"}, {\"density\": 0.9302228374656933, \"management_score\": 0.7772108627825367, \"date\": \"2019\"}, {\"density\": 0.7500953321796212, \"management_score\": 0.7989795696978667, \"date\": \"2019\"}, {\"density\": 0.5816943570003796, \"management_score\": 0.8207482766131966, \"date\": \"2019\"}, {\"density\": 0.42958001587721867, \"management_score\": 0.8425169835285264, \"date\": \"2019\"}, {\"density\": 0.29630076059355637, \"management_score\": 0.8642856904438564, \"date\": \"2019\"}, {\"density\": 0.1993760402249516, \"management_score\": 0.8860543973591863, \"date\": \"2019\"}, {\"density\": 0.1251251831681136, \"management_score\": 0.9078231042745162, \"date\": \"2019\"}, {\"density\": 0.0664800672983956, \"management_score\": 0.9295918111898461, \"date\": \"2019\"}, {\"density\": 0.026744326768680486, \"management_score\": 0.9513605181051761, \"date\": \"2019\"}, {\"density\": 0.011277697651561704, \"management_score\": 0.9731292250205059, \"date\": \"2019\"}, {\"density\": 0.0037859181488432603, \"management_score\": 0.9948979319358358, \"date\": \"2019\"}, {\"density\": 0.0008230718935201287, \"management_score\": 1.0166666388511658, \"date\": \"2019\"}, {\"density\": 0.0608469085108719, \"management_score\": -0.05, \"date\": \"2020\"}, {\"density\": 0.10185688648823123, \"management_score\": -0.027976190070716705, \"date\": \"2020\"}, {\"density\": 0.1490372402457954, \"management_score\": -0.005952380141433407, \"date\": \"2020\"}, {\"density\": 0.20161805737874464, \"management_score\": 0.016071429787849895, \"date\": \"2020\"}, {\"density\": 0.2627029589866014, \"management_score\": 0.03809523971713319, \"date\": \"2020\"}, {\"density\": 0.3291180303734, \"management_score\": 0.060119049646416484, \"date\": \"2020\"}, {\"density\": 0.39057729118145934, \"management_score\": 0.08214285957569979, \"date\": \"2020\"}, {\"density\": 0.45209615807499365, \"management_score\": 0.10416666950498309, \"date\": \"2020\"}, {\"density\": 0.5067396603472802, \"management_score\": 0.12619047943426637, \"date\": \"2020\"}, {\"density\": 0.5567285007013167, \"management_score\": 0.1482142893635497, \"date\": \"2020\"}, {\"density\": 0.5889068751438724, \"management_score\": 0.17023809929283296, \"date\": \"2020\"}, {\"density\": 0.6136217852648586, \"management_score\": 0.19226190922211628, \"date\": \"2020\"}, {\"density\": 0.6360578518095644, \"management_score\": 0.2142857191513996, \"date\": \"2020\"}, {\"density\": 0.6627866092381682, \"management_score\": 0.23630952908068287, \"date\": \"2020\"}, {\"density\": 0.7195958361190333, \"management_score\": 0.2583333390099662, \"date\": \"2020\"}, {\"density\": 0.7905926489749079, \"management_score\": 0.28035714893924946, \"date\": \"2020\"}, {\"density\": 0.8679302172262294, \"management_score\": 0.3023809588685328, \"date\": \"2020\"}, {\"density\": 0.9573372254766407, \"management_score\": 0.3244047687978161, \"date\": \"2020\"}, {\"density\": 1.0686531054380781, \"management_score\": 0.34642857872709937, \"date\": \"2020\"}, {\"density\": 1.2012755308205914, \"management_score\": 0.3684523886563827, \"date\": \"2020\"}, {\"density\": 1.3348992707505154, \"management_score\": 0.39047619858566596, \"date\": \"2020\"}, {\"density\": 1.4543468978256058, \"management_score\": 0.4125000085149493, \"date\": \"2020\"}, {\"density\": 1.5823397348584611, \"management_score\": 0.43452381844423255, \"date\": \"2020\"}, {\"density\": 1.6823947283941045, \"management_score\": 0.45654762837351587, \"date\": \"2020\"}, {\"density\": 1.7827304348784019, \"management_score\": 0.4785714383027992, \"date\": \"2020\"}, {\"density\": 1.8697930471422437, \"management_score\": 0.5005952482320825, \"date\": \"2020\"}, {\"density\": 1.9337994698931127, \"management_score\": 0.5226190581613657, \"date\": \"2020\"}, {\"density\": 1.9730510625823527, \"management_score\": 0.544642868090649, \"date\": \"2020\"}, {\"density\": 1.9984138116155166, \"management_score\": 0.5666666780199323, \"date\": \"2020\"}, {\"density\": 2.010363794754365, \"management_score\": 0.5886904879492156, \"date\": \"2020\"}, {\"density\": 1.9986515793326274, \"management_score\": 0.6107142978784988, \"date\": \"2020\"}, {\"density\": 1.9589023013688855, \"management_score\": 0.6327381078077822, \"date\": \"2020\"}, {\"density\": 1.9171629307390876, \"management_score\": 0.6547619177370655, \"date\": \"2020\"}, {\"density\": 1.8384396605434867, \"management_score\": 0.6767857276663488, \"date\": \"2020\"}, {\"density\": 1.7151066375455462, \"management_score\": 0.6988095375956321, \"date\": \"2020\"}, {\"density\": 1.5499363806155775, \"management_score\": 0.7208333475249153, \"date\": \"2020\"}, {\"density\": 1.3529058816584678, \"management_score\": 0.7428571574541987, \"date\": \"2020\"}, {\"density\": 1.1397131099579374, \"management_score\": 0.764880967383482, \"date\": \"2020\"}, {\"density\": 0.9283859034537497, \"management_score\": 0.7869047773127653, \"date\": \"2020\"}, {\"density\": 0.7264446273078727, \"management_score\": 0.8089285872420485, \"date\": \"2020\"}, {\"density\": 0.5354008451339786, \"management_score\": 0.8309523971713318, \"date\": \"2020\"}, {\"density\": 0.3700074533339534, \"management_score\": 0.8529762071006152, \"date\": \"2020\"}, {\"density\": 0.24467742872789877, \"management_score\": 0.8750000170298985, \"date\": \"2020\"}, {\"density\": 0.1554495951203681, \"management_score\": 0.8970238269591818, \"date\": \"2020\"}, {\"density\": 0.0950093016657829, \"management_score\": 0.919047636888465, \"date\": \"2020\"}, {\"density\": 0.05335483073483061, \"management_score\": 0.9410714468177483, \"date\": \"2020\"}, {\"density\": 0.026226131917102335, \"management_score\": 0.9630952567470317, \"date\": \"2020\"}, {\"density\": 0.010085792043002808, \"management_score\": 0.985119066676315, \"date\": \"2020\"}, {\"density\": 0.0029770944956697717, \"management_score\": 1.0071428766055983, \"date\": \"2020\"}, {\"density\": 0.0006038771411073716, \"management_score\": 1.0291666865348816, \"date\": \"2020\"}, {\"density\": 0.04261551319202248, \"management_score\": -0.05, \"date\": \"2023\"}, {\"density\": 0.07693526289117698, \"management_score\": -0.027976190070716705, \"date\": \"2023\"}, {\"density\": 0.1123154163741602, \"management_score\": -0.005952380141433407, \"date\": \"2023\"}, {\"density\": 0.14747439637400253, \"management_score\": 0.016071429787849895, \"date\": \"2023\"}, {\"density\": 0.18019864187051982, \"management_score\": 0.03809523971713319, \"date\": \"2023\"}, {\"density\": 0.20457932113031418, \"management_score\": 0.060119049646416484, \"date\": \"2023\"}, {\"density\": 0.22576291006999963, \"management_score\": 0.08214285957569979, \"date\": \"2023\"}, {\"density\": 0.2404764788262944, \"management_score\": 0.10416666950498309, \"date\": \"2023\"}, {\"density\": 0.25507345447822166, \"management_score\": 0.12619047943426637, \"date\": \"2023\"}, {\"density\": 0.27778313032464214, \"management_score\": 0.1482142893635497, \"date\": \"2023\"}, {\"density\": 0.2987478254588317, \"management_score\": 0.17023809929283296, \"date\": \"2023\"}, {\"density\": 0.32427242486327906, \"management_score\": 0.19226190922211628, \"date\": \"2023\"}, {\"density\": 0.3523483393056046, \"management_score\": 0.2142857191513996, \"date\": \"2023\"}, {\"density\": 0.3969267394620351, \"management_score\": 0.23630952908068287, \"date\": \"2023\"}, {\"density\": 0.4470138516019107, \"management_score\": 0.2583333390099662, \"date\": \"2023\"}, {\"density\": 0.5020568993800228, \"management_score\": 0.28035714893924946, \"date\": \"2023\"}, {\"density\": 0.5495059153692358, \"management_score\": 0.3023809588685328, \"date\": \"2023\"}, {\"density\": 0.6043694457504257, \"management_score\": 0.3244047687978161, \"date\": \"2023\"}, {\"density\": 0.6750165063362262, \"management_score\": 0.34642857872709937, \"date\": \"2023\"}, {\"density\": 0.7624635927793189, \"management_score\": 0.3684523886563827, \"date\": \"2023\"}, {\"density\": 0.8769240600307748, \"management_score\": 0.39047619858566596, \"date\": \"2023\"}, {\"density\": 0.9980393042607654, \"management_score\": 0.4125000085149493, \"date\": \"2023\"}, {\"density\": 1.133425563682391, \"management_score\": 0.43452381844423255, \"date\": \"2023\"}, {\"density\": 1.2847703268180275, \"management_score\": 0.45654762837351587, \"date\": \"2023\"}, {\"density\": 1.45189502976625, \"management_score\": 0.4785714383027992, \"date\": \"2023\"}, {\"density\": 1.6288381985838456, \"management_score\": 0.5005952482320825, \"date\": \"2023\"}, {\"density\": 1.8022041880968755, \"management_score\": 0.5226190581613657, \"date\": \"2023\"}, {\"density\": 1.9812412361863114, \"management_score\": 0.544642868090649, \"date\": \"2023\"}, {\"density\": 2.1646943544231725, \"management_score\": 0.5666666780199323, \"date\": \"2023\"}, {\"density\": 2.3178188463191605, \"management_score\": 0.5886904879492156, \"date\": \"2023\"}, {\"density\": 2.438872001047744, \"management_score\": 0.6107142978784988, \"date\": \"2023\"}, {\"density\": 2.5215155120348216, \"management_score\": 0.6327381078077822, \"date\": \"2023\"}, {\"density\": 2.5511098448975322, \"management_score\": 0.6547619177370655, \"date\": \"2023\"}, {\"density\": 2.503670290603123, \"management_score\": 0.6767857276663488, \"date\": \"2023\"}, {\"density\": 2.389730849234787, \"management_score\": 0.6988095375956321, \"date\": \"2023\"}, {\"density\": 2.2045348764129384, \"management_score\": 0.7208333475249153, \"date\": \"2023\"}, {\"density\": 1.9585797584866866, \"management_score\": 0.7428571574541987, \"date\": \"2023\"}, {\"density\": 1.680079952237114, \"management_score\": 0.764880967383482, \"date\": \"2023\"}, {\"density\": 1.392219807519166, \"management_score\": 0.7869047773127653, \"date\": \"2023\"}, {\"density\": 1.0980528210914755, \"management_score\": 0.8089285872420485, \"date\": \"2023\"}, {\"density\": 0.8260050658214374, \"management_score\": 0.8309523971713318, \"date\": \"2023\"}, {\"density\": 0.5876521630674315, \"management_score\": 0.8529762071006152, \"date\": \"2023\"}, {\"density\": 0.39601213265015817, \"management_score\": 0.8750000170298985, \"date\": \"2023\"}, {\"density\": 0.24541406705386629, \"management_score\": 0.8970238269591818, \"date\": \"2023\"}, {\"density\": 0.1371798672297379, \"management_score\": 0.919047636888465, \"date\": \"2023\"}, {\"density\": 0.06824598845282928, \"management_score\": 0.9410714468177483, \"date\": \"2023\"}, {\"density\": 0.03274951941122673, \"management_score\": 0.9630952567470317, \"date\": \"2023\"}, {\"density\": 0.013789192786375073, \"management_score\": 0.985119066676315, \"date\": \"2023\"}, {\"density\": 0.004418436091603066, \"management_score\": 1.0071428766055983, \"date\": \"2023\"}, {\"density\": 0.001739832758549657, \"management_score\": 1.0291666865348816, \"date\": \"2023\"}]}}, {\"mode\": \"vega-lite\"});\n",
       "</script>"
      ],
      "text/plain": [
       "alt.Chart(...)"
      ]
     },
     "execution_count": 15,
     "metadata": {},
     "output_type": "execute_result"
    }
   ],
   "source": [
    "vl_convert.register_font_directory(\"fonts\")\n",
    "\n",
    "df = pd.read_excel(\"fig1.xlsx\", sheet_name=\"cleaned\")\n",
    "df['date'] = pd.to_datetime(df['date']).dt.strftime('%Y')\n",
    "\n",
    "base = alt.Chart(df).encode(\n",
    "    x=alt.X(\"management_score:Q\", title=\"Management score\"),\n",
    "    y=alt.Y(\"density:Q\", \n",
    "            title=\"Density\",\n",
    "            axis=alt.Axis(\n",
    "                titleY=0,\n",
    "                format=\".1f\")),\n",
    "        \n",
    "    color=alt.Color(\"date:N\", title=\"Date\", legend=alt.Legend(\n",
    "        title=None,\n",
    "        orient=\"top\",\n",
    "        legendY=-30\n",
    "    )),\n",
    ").configure(\n",
    "    font=\"Rubik Vinyl\"\n",
    ")\n",
    "\n",
    "lines = base.mark_line(interpolate=\"basis\")\n",
    "\n",
    "chart = lines\n",
    "\n",
    "chart.save(\"test.json\")\n",
    "chart.save(\"test.png\", scale_factor=3.0, engine=\"vl-convert\")\n",
    "\n",
    "chart"
   ]
  }
 ],
 "metadata": {
  "kernelspec": {
   "display_name": "base",
   "language": "python",
   "name": "python3"
  },
  "language_info": {
   "codemirror_mode": {
    "name": "ipython",
    "version": 3
   },
   "file_extension": ".py",
   "mimetype": "text/x-python",
   "name": "python",
   "nbconvert_exporter": "python",
   "pygments_lexer": "ipython3",
   "version": "3.11.4"
  }
 },
 "nbformat": 4,
 "nbformat_minor": 2
}
