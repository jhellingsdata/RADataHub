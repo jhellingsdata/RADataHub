{
 "cells": [
  {
   "cell_type": "code",
   "execution_count": null,
   "id": "cf8e689a",
   "metadata": {},
   "outputs": [],
   "source": [
    "import json\n",
    "\n",
    "# Load the JSON file\n",
    "with open('dah_map.json', 'r') as file:\n",
    "    data = json.load(file)\n",
    "\n",
    "# Check if the data is structured with a \"data\" key\n",
    "if \"data\" in data:\n",
    "    # Replace dah_22 values of 999.0 with 0\n",
    "    for item in data[\"data\"]:\n",
    "        if \"dah_22\" in item and item[\"dah_22\"] == 999.0:\n",
    "            item[\"dah_22\"] = 0.0\n",
    "else:\n",
    "    # If there's no \"data\" key, assume it's a list or other structure\n",
    "    # Iterate through the entries (assuming it's a list)\n",
    "    for item in data:\n",
    "        if \"dah_22\" in item and item[\"dah_22\"] == 999.0:\n",
    "            item[\"dah_22\"] = 0.0\n",
    "\n",
    "# Save the modified JSON back to file\n",
    "with open('dah_map.json', 'w') as file:\n",
    "    json.dump(data, file, indent=4)"
   ]
  },
  {
   "cell_type": "code",
   "execution_count": 2,
   "id": "8c89802c",
   "metadata": {},
   "outputs": [],
   "source": [
    "# Load the JSON file\n",
    "with open('dah_map.json', 'r') as file:\n",
    "    data = json.load(file)\n",
    "\n",
    "# Check if the data is structured with a \"data\" key\n",
    "if \"data\" in data:\n",
    "    # Replace null recipient_country with name values\n",
    "    for item in data[\"data\"]:\n",
    "        if \"recipient_country\" in item and item[\"recipient_country\"] is None and \"name\" in item:\n",
    "            item[\"recipient_country\"] = item[\"name\"]\n",
    "else:\n",
    "    # If there's no \"data\" key, assume it's a list or other structure\n",
    "    for item in data:\n",
    "        if \"recipient_country\" in item and item[\"recipient_country\"] is None and \"name\" in item:\n",
    "            item[\"recipient_country\"] = item[\"name\"]\n",
    "\n",
    "# Save the modified JSON back to file\n",
    "with open('dah_map.json', 'w') as file:\n",
    "    json.dump(data, file, indent=4)"
   ]
  },
  {
   "cell_type": "code",
   "execution_count": null,
   "id": "c6f1101f",
   "metadata": {},
   "outputs": [],
   "source": []
  }
 ],
 "metadata": {
  "kernelspec": {
   "display_name": "jupyterlab",
   "language": "python",
   "name": "python3"
  },
  "language_info": {
   "codemirror_mode": {
    "name": "ipython",
    "version": 3
   },
   "file_extension": ".py",
   "mimetype": "text/x-python",
   "name": "python",
   "nbconvert_exporter": "python",
   "pygments_lexer": "ipython3",
   "version": "3.13.2"
  }
 },
 "nbformat": 4,
 "nbformat_minor": 5
}
