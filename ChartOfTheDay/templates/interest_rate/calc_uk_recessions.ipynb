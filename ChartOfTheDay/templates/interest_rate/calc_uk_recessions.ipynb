{
 "cells": [
  {
   "cell_type": "markdown",
   "metadata": {},
   "source": [
    "Create json file of UK recessionary periods\n",
    "1. open `GDP` sheet of `datadownload.xlsx`\n",
    "2. create column with 1 if UK in recession, 0 if not\n",
    "    - use `quarterly change (%)` column, recession is defined as two consecutive quarters of negative growth\n",
    "3. find start & end timestamps of each recession"
   ]
  },
  {
   "cell_type": "code",
   "execution_count": null,
   "metadata": {},
   "outputs": [],
   "source": [
    "import pandas as pd"
   ]
  },
  {
   "cell_type": "code",
   "execution_count": null,
   "metadata": {},
   "outputs": [],
   "source": [
    "df = pd.read_excel('../altair_wrapper/data/datadownload.xlsx', sheet_name='GDP')\n",
    "\n",
    "# Add column if UK is in recession, defined as two consecutive quarters of negative growth\n",
    "df['recession'] = ((df['quarterly change (%)'] < 0) & (df['quarterly change (%)'].shift(1) < 0)) | ((df['quarterly change (%)'] < 0) & (df['quarterly change (%)'].shift(-1) < 0))"
   ]
  },
  {
   "cell_type": "code",
   "execution_count": null,
   "metadata": {},
   "outputs": [],
   "source": [
    "# Convert `date` column from 'yyyy qq' format to datetime (yyyy-mm-dd)\n",
    "quarters = {\n",
    "    'Q1': '-01-01',\n",
    "    'Q2': '-04-01',\n",
    "    'Q3': '-07-01',\n",
    "    'Q4': '-10-01'\n",
    "}\n",
    "\n",
    "df.columns = ['quarter', 'growth', 'recession']\n",
    "# replace `date` column according to quarters dict\n",
    "\n",
    "df['date'] = df['quarter'].str.replace(' ', '').replace(quarters, regex=True)"
   ]
  },
  {
   "cell_type": "code",
   "execution_count": null,
   "metadata": {},
   "outputs": [],
   "source": [
    "df.to_csv('recessions_uk.csv', index=False)"
   ]
  },
  {
   "cell_type": "code",
   "execution_count": null,
   "metadata": {},
   "outputs": [],
   "source": [
    "# Function to find start and end of recessions\n",
    "def find_recession_periods(df):\n",
    "    recession_periods = []\n",
    "    in_recession = False\n",
    "    start_date = None\n",
    "\n",
    "    for index, row in df.iterrows():\n",
    "        # Start of a recession\n",
    "        if row['recession'] and not in_recession:\n",
    "            start_date = row['date']\n",
    "            in_recession = True\n",
    "        # End of a recession\n",
    "        elif not row['recession'] and in_recession:\n",
    "            end_date = df.iloc[index - 1]['date']  # previous row's date\n",
    "            recession_periods.append({'Start': start_date, 'End': end_date})\n",
    "            in_recession = False\n",
    "            start_date = None\n",
    "        # If in recession and it's the last row, end the recession on the last date\n",
    "        elif in_recession and index == len(df) - 1:\n",
    "            recession_periods.append({'Start': start_date, 'End': row['date']})\n",
    "\n",
    "    return recession_periods\n",
    "\n",
    "# Find the recession periods in the DataFrame\n",
    "recession_periods = find_recession_periods(df)\n",
    "\n",
    "# Convert to JSON\n",
    "recession_json = pd.DataFrame(recession_periods).to_json(orient='records', date_format='iso')\n",
    "\n",
    "# Output JSON string\n",
    "recession_json"
   ]
  },
  {
   "cell_type": "code",
   "execution_count": null,
   "metadata": {},
   "outputs": [],
   "source": [
    "# Define the path for the JSON file\n",
    "json_file_path = '../altair_wrapper/data/recessions_uk.json'\n",
    "\n",
    "# Save the JSON string to a file\n",
    "with open(json_file_path, 'w') as file:\n",
    "    file.write(recession_json)"
   ]
  }
 ],
 "metadata": {
  "kernelspec": {
   "display_name": "eco_charts",
   "language": "python",
   "name": "python3"
  },
  "language_info": {
   "name": "python",
   "version": "3.11.9"
  }
 },
 "nbformat": 4,
 "nbformat_minor": 2
}
