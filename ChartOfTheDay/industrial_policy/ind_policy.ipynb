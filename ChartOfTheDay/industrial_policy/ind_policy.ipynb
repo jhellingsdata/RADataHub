{
 "cells": [
  {
   "cell_type": "code",
   "execution_count": 1,
   "id": "f406e8aa",
   "metadata": {},
   "outputs": [],
   "source": [
    "import pandas as pd\n",
    "import altair as alt"
   ]
  },
  {
   "cell_type": "code",
   "execution_count": 5,
   "id": "e4346c1e",
   "metadata": {},
   "outputs": [],
   "source": [
    "from ecostyles import EcoStyles\n",
    "# Create styles instance\n",
    "styles = EcoStyles()\n",
    "# Register and enable a theme\n",
    "styles.register_and_enable_theme(theme_name=\"article\")  # or \"article\""
   ]
  },
  {
   "cell_type": "code",
   "execution_count": 22,
   "id": "a85c6789",
   "metadata": {},
   "outputs": [],
   "source": [
    "ind_policy_df = pd.DataFrame({\n",
    "    'year': [2010, 2011, 2012, 2013, 2014, 2015, 2016, 2017, 2017, 2018, 2019, 2020, 2021, 2022, 2023],\n",
    "    'measure': [34, 20, 56, 144, 136, 242, 260, 228, 228, 705, 632, 852, 1594, 1568, 2049],\n",
    "    'act/proj': ['Actual', 'Actual', 'Actual', 'Actual', 'Actual', 'Actual', 'Actual', 'Actual', 'Projected', 'Projected', 'Projected', 'Projected', 'Projected', 'Projected', 'Projected']  \n",
    "})"
   ]
  },
  {
   "cell_type": "code",
   "execution_count": 37,
   "id": "7e247672",
   "metadata": {},
   "outputs": [
    {
     "data": {
      "text/html": [
       "\n",
       "<style>\n",
       "  #altair-viz-db26af72e21e4bc18a57c1f873556d89.vega-embed {\n",
       "    width: 100%;\n",
       "    display: flex;\n",
       "  }\n",
       "\n",
       "  #altair-viz-db26af72e21e4bc18a57c1f873556d89.vega-embed details,\n",
       "  #altair-viz-db26af72e21e4bc18a57c1f873556d89.vega-embed details summary {\n",
       "    position: relative;\n",
       "  }\n",
       "</style>\n",
       "<div id=\"altair-viz-db26af72e21e4bc18a57c1f873556d89\"></div>\n",
       "<script type=\"text/javascript\">\n",
       "  var VEGA_DEBUG = (typeof VEGA_DEBUG == \"undefined\") ? {} : VEGA_DEBUG;\n",
       "  (function(spec, embedOpt){\n",
       "    let outputDiv = document.currentScript.previousElementSibling;\n",
       "    if (outputDiv.id !== \"altair-viz-db26af72e21e4bc18a57c1f873556d89\") {\n",
       "      outputDiv = document.getElementById(\"altair-viz-db26af72e21e4bc18a57c1f873556d89\");\n",
       "    }\n",
       "\n",
       "    const paths = {\n",
       "      \"vega\": \"https://cdn.jsdelivr.net/npm/vega@5?noext\",\n",
       "      \"vega-lib\": \"https://cdn.jsdelivr.net/npm/vega-lib?noext\",\n",
       "      \"vega-lite\": \"https://cdn.jsdelivr.net/npm/vega-lite@5.20.1?noext\",\n",
       "      \"vega-embed\": \"https://cdn.jsdelivr.net/npm/vega-embed@6?noext\",\n",
       "    };\n",
       "\n",
       "    function maybeLoadScript(lib, version) {\n",
       "      var key = `${lib.replace(\"-\", \"\")}_version`;\n",
       "      return (VEGA_DEBUG[key] == version) ?\n",
       "        Promise.resolve(paths[lib]) :\n",
       "        new Promise(function(resolve, reject) {\n",
       "          var s = document.createElement('script');\n",
       "          document.getElementsByTagName(\"head\")[0].appendChild(s);\n",
       "          s.async = true;\n",
       "          s.onload = () => {\n",
       "            VEGA_DEBUG[key] = version;\n",
       "            return resolve(paths[lib]);\n",
       "          };\n",
       "          s.onerror = () => reject(`Error loading script: ${paths[lib]}`);\n",
       "          s.src = paths[lib];\n",
       "        });\n",
       "    }\n",
       "\n",
       "    function showError(err) {\n",
       "      outputDiv.innerHTML = `<div class=\"error\" style=\"color:red;\">${err}</div>`;\n",
       "      throw err;\n",
       "    }\n",
       "\n",
       "    function displayChart(vegaEmbed) {\n",
       "      vegaEmbed(outputDiv, spec, embedOpt)\n",
       "        .catch(err => showError(`Javascript Error: ${err.message}<br>This usually means there's a typo in your chart specification. See the javascript console for the full traceback.`));\n",
       "    }\n",
       "\n",
       "    if(typeof define === \"function\" && define.amd) {\n",
       "      requirejs.config({paths});\n",
       "      let deps = [\"vega-embed\"];\n",
       "      require(deps, displayChart, err => showError(`Error loading script: ${err.message}`));\n",
       "    } else {\n",
       "      maybeLoadScript(\"vega\", \"5\")\n",
       "        .then(() => maybeLoadScript(\"vega-lite\", \"5.20.1\"))\n",
       "        .then(() => maybeLoadScript(\"vega-embed\", \"6\"))\n",
       "        .catch(showError)\n",
       "        .then(() => displayChart(vegaEmbed));\n",
       "    }\n",
       "  })({\"config\": {\"font\": \"Circular Std\", \"text\": {\"color\": \"#676A86\", \"align\": \"left\", \"baseline\": \"middle\", \"dx\": 7, \"dy\": 0, \"fontSize\": 11}, \"view\": {\"stroke\": null, \"continuousWidth\": 400, \"continuousHeight\": 300, \"discreteWidth\": 400, \"discreteHeight\": 300}, \"range\": {\"category\": [\"#36B7B4\", \"#E6224B\", \"#F4C245\", \"#0063AF\", \"#00A767\", \"#179FDB\", \"#EB5C2E\"], \"diverging\": [\"#E6224B\", \"#E54753\", \"#C9C9C9\", \"#179FDB\", \"#122B39\"], \"heatmap\": [\"#C9C9C9\", \"#179FDB\", \"#0063AF\", \"#122B39\"], \"ordinal\": [\"#00A767\", \"#36B7B4\", \"#179FDB\", \"#0063AF\", \"#243B5A\"]}, \"bar\": {\"color\": \"#179fdb\"}, \"line\": {\"color\": \"#e6224b\"}, \"rule\": {\"color\": \"#676A86\"}, \"area\": {\"opacity\": 0.3}, \"point\": {\"filled\": true, \"size\": 80, \"color\": \"#e6224b\", \"opacity\": 0.95}, \"geoshape\": {\"stroke\": \"white\", \"strokeWidth\": 0.3}, \"rect\": {\"fill\": \"#d6d4d4\", \"opacity\": 0.3}, \"axis\": {\"labelColor\": \"#676A86\", \"labelFontSize\": 11, \"labelFont\": \"Circular Std\", \"labelOpacity\": 0.7, \"tickColor\": \"#676A86\", \"tickOpacity\": 0.5, \"domainColor\": \"#676A86\", \"domainOpacity\": 0.5, \"gridColor\": \"#676A86\", \"gridDash\": [2, 2], \"gridOpacity\": 0.5, \"title\": null, \"titleColor\": \"#676A86\", \"titleOpacity\": 0.8, \"tickSize\": 4, \"titleFontSize\": 16}, \"axisXDiscrete\": {\"grid\": false, \"labelAngle\": 0, \"tickCount\": 10, \"tickOpacity\": 0.5, \"title\": null}, \"axisYDiscrete\": {\"ticks\": false, \"labelPadding\": 5}, \"axisXTemporal\": {\"grid\": false, \"ticks\": true}, \"axisXQuantitative\": {\"grid\": true}, \"axisYQuantitative\": {\"gridColor\": \"#676A86\", \"gridDash\": [1, 5], \"gridOpacity\": 0.5, \"ticks\": false, \"labelPadding\": 5, \"tickCount\": 8, \"titleAngle\": 0, \"titleAlign\": \"left\", \"titleBaseline\": \"bottom\", \"titleX\": 0, \"titleY\": -5}, \"title\": {\"color\": \"#676A86E6\", \"subtitleColor\": \"#676A86\", \"font\": \"Circular Std\", \"subtitleFont\": \"Circular Std\", \"anchor\": \"start\", \"fontSize\": 14, \"subtitleFontSize\": 12, \"subtitlePadding\": 4, \"offset\": 0, \"frame\": \"group\"}, \"legend\": {\"titleColor\": \"#122b39\", \"title\": null, \"labelColor\": \"#122b39\", \"labelFontSize\": 11}}, \"data\": {\"name\": \"data-2c42b7f0897bb040b90b446a86cfb419\"}, \"mark\": {\"type\": \"line\", \"point\": true}, \"encoding\": {\"color\": {\"field\": \"act/proj\", \"type\": \"nominal\"}, \"tooltip\": [{\"field\": \"act/proj\", \"title\": \"Actual/Projected\", \"type\": \"nominal\"}, {\"field\": \"year\", \"title\": \"Year\", \"type\": \"ordinal\"}, {\"field\": \"measure\", \"format\": \",.0f\", \"title\": \"Industrial Policies\", \"type\": \"quantitative\"}], \"x\": {\"field\": \"year\", \"type\": \"ordinal\"}, \"y\": {\"field\": \"measure\", \"title\": \"Trend of new industrial policy measures, 2010\\u201323\", \"type\": \"quantitative\"}}, \"$schema\": \"https://vega.github.io/schema/vega-lite/v5.20.1.json\", \"datasets\": {\"data-2c42b7f0897bb040b90b446a86cfb419\": [{\"year\": 2010, \"measure\": 34, \"act/proj\": \"Actual\"}, {\"year\": 2011, \"measure\": 20, \"act/proj\": \"Actual\"}, {\"year\": 2012, \"measure\": 56, \"act/proj\": \"Actual\"}, {\"year\": 2013, \"measure\": 144, \"act/proj\": \"Actual\"}, {\"year\": 2014, \"measure\": 136, \"act/proj\": \"Actual\"}, {\"year\": 2015, \"measure\": 242, \"act/proj\": \"Actual\"}, {\"year\": 2016, \"measure\": 260, \"act/proj\": \"Actual\"}, {\"year\": 2017, \"measure\": 228, \"act/proj\": \"Actual\"}, {\"year\": 2017, \"measure\": 228, \"act/proj\": \"Projected\"}, {\"year\": 2018, \"measure\": 705, \"act/proj\": \"Projected\"}, {\"year\": 2019, \"measure\": 632, \"act/proj\": \"Projected\"}, {\"year\": 2020, \"measure\": 852, \"act/proj\": \"Projected\"}, {\"year\": 2021, \"measure\": 1594, \"act/proj\": \"Projected\"}, {\"year\": 2022, \"measure\": 1568, \"act/proj\": \"Projected\"}, {\"year\": 2023, \"measure\": 2049, \"act/proj\": \"Projected\"}]}}, {\"mode\": \"vega-lite\"});\n",
       "</script>"
      ],
      "text/plain": [
       "alt.Chart(...)"
      ]
     },
     "execution_count": 37,
     "metadata": {},
     "output_type": "execute_result"
    }
   ],
   "source": [
    "ind_policy_chart = alt.Chart(ind_policy_df).encode(\n",
    "    x='year:O',\n",
    "    y=alt.Y('measure:Q',title='Trend of new industrial policy measures, 2010–23'),\n",
    "    color=alt.Color('act/proj:N'),\n",
    "    tooltip=[\n",
    "    alt.Tooltip('act/proj:N', title='Actual/Projected'),\n",
    "    alt.Tooltip('year:O', title='Year'),\n",
    "    alt.Tooltip('measure:Q', title='Industrial Policies', format=',.0f')\n",
    "]\n",
    ").mark_line(point=True).configure_axis(\n",
    "    titleFontSize=16\n",
    ")\n",
    "\n",
    "ind_policy_chart"
   ]
  },
  {
   "cell_type": "code",
   "execution_count": 38,
   "id": "0a464670",
   "metadata": {},
   "outputs": [
    {
     "data": {
      "text/html": [
       "\n",
       "<style>\n",
       "  #altair-viz-ceef960dceb640c9ba8e830c97b52bca.vega-embed {\n",
       "    width: 100%;\n",
       "    display: flex;\n",
       "  }\n",
       "\n",
       "  #altair-viz-ceef960dceb640c9ba8e830c97b52bca.vega-embed details,\n",
       "  #altair-viz-ceef960dceb640c9ba8e830c97b52bca.vega-embed details summary {\n",
       "    position: relative;\n",
       "  }\n",
       "</style>\n",
       "<div id=\"altair-viz-ceef960dceb640c9ba8e830c97b52bca\"></div>\n",
       "<script type=\"text/javascript\">\n",
       "  var VEGA_DEBUG = (typeof VEGA_DEBUG == \"undefined\") ? {} : VEGA_DEBUG;\n",
       "  (function(spec, embedOpt){\n",
       "    let outputDiv = document.currentScript.previousElementSibling;\n",
       "    if (outputDiv.id !== \"altair-viz-ceef960dceb640c9ba8e830c97b52bca\") {\n",
       "      outputDiv = document.getElementById(\"altair-viz-ceef960dceb640c9ba8e830c97b52bca\");\n",
       "    }\n",
       "\n",
       "    const paths = {\n",
       "      \"vega\": \"https://cdn.jsdelivr.net/npm/vega@5?noext\",\n",
       "      \"vega-lib\": \"https://cdn.jsdelivr.net/npm/vega-lib?noext\",\n",
       "      \"vega-lite\": \"https://cdn.jsdelivr.net/npm/vega-lite@5.20.1?noext\",\n",
       "      \"vega-embed\": \"https://cdn.jsdelivr.net/npm/vega-embed@6?noext\",\n",
       "    };\n",
       "\n",
       "    function maybeLoadScript(lib, version) {\n",
       "      var key = `${lib.replace(\"-\", \"\")}_version`;\n",
       "      return (VEGA_DEBUG[key] == version) ?\n",
       "        Promise.resolve(paths[lib]) :\n",
       "        new Promise(function(resolve, reject) {\n",
       "          var s = document.createElement('script');\n",
       "          document.getElementsByTagName(\"head\")[0].appendChild(s);\n",
       "          s.async = true;\n",
       "          s.onload = () => {\n",
       "            VEGA_DEBUG[key] = version;\n",
       "            return resolve(paths[lib]);\n",
       "          };\n",
       "          s.onerror = () => reject(`Error loading script: ${paths[lib]}`);\n",
       "          s.src = paths[lib];\n",
       "        });\n",
       "    }\n",
       "\n",
       "    function showError(err) {\n",
       "      outputDiv.innerHTML = `<div class=\"error\" style=\"color:red;\">${err}</div>`;\n",
       "      throw err;\n",
       "    }\n",
       "\n",
       "    function displayChart(vegaEmbed) {\n",
       "      vegaEmbed(outputDiv, spec, embedOpt)\n",
       "        .catch(err => showError(`Javascript Error: ${err.message}<br>This usually means there's a typo in your chart specification. See the javascript console for the full traceback.`));\n",
       "    }\n",
       "\n",
       "    if(typeof define === \"function\" && define.amd) {\n",
       "      requirejs.config({paths});\n",
       "      let deps = [\"vega-embed\"];\n",
       "      require(deps, displayChart, err => showError(`Error loading script: ${err.message}`));\n",
       "    } else {\n",
       "      maybeLoadScript(\"vega\", \"5\")\n",
       "        .then(() => maybeLoadScript(\"vega-lite\", \"5.20.1\"))\n",
       "        .then(() => maybeLoadScript(\"vega-embed\", \"6\"))\n",
       "        .catch(showError)\n",
       "        .then(() => displayChart(vegaEmbed));\n",
       "    }\n",
       "  })({\"config\": {\"font\": \"Circular Std\", \"text\": {\"color\": \"#676A86\", \"align\": \"left\", \"baseline\": \"middle\", \"dx\": 7, \"dy\": 0, \"fontSize\": 11}, \"view\": {\"stroke\": null, \"continuousWidth\": 400, \"continuousHeight\": 300, \"discreteWidth\": 400, \"discreteHeight\": 300}, \"range\": {\"category\": [\"#36B7B4\", \"#E6224B\", \"#F4C245\", \"#0063AF\", \"#00A767\", \"#179FDB\", \"#EB5C2E\"], \"diverging\": [\"#E6224B\", \"#E54753\", \"#C9C9C9\", \"#179FDB\", \"#122B39\"], \"heatmap\": [\"#C9C9C9\", \"#179FDB\", \"#0063AF\", \"#122B39\"], \"ordinal\": [\"#00A767\", \"#36B7B4\", \"#179FDB\", \"#0063AF\", \"#243B5A\"]}, \"bar\": {\"color\": \"#179fdb\"}, \"line\": {\"color\": \"#e6224b\"}, \"rule\": {\"color\": \"#676A86\"}, \"area\": {\"opacity\": 0.3}, \"point\": {\"filled\": true, \"size\": 80, \"color\": \"#e6224b\", \"opacity\": 0.95}, \"geoshape\": {\"stroke\": \"white\", \"strokeWidth\": 0.3}, \"rect\": {\"fill\": \"#d6d4d4\", \"opacity\": 0.3}, \"axis\": {\"labelColor\": \"#676A86\", \"labelFontSize\": 11, \"labelFont\": \"Circular Std\", \"labelOpacity\": 0.7, \"tickColor\": \"#676A86\", \"tickOpacity\": 0.5, \"domainColor\": \"#676A86\", \"domainOpacity\": 0.5, \"gridColor\": \"#676A86\", \"gridDash\": [2, 2], \"gridOpacity\": 0.5, \"title\": null, \"titleColor\": \"#676A86\", \"titleOpacity\": 0.8, \"tickSize\": 4, \"titleFontSize\": 16}, \"axisXDiscrete\": {\"grid\": false, \"labelAngle\": 0, \"tickCount\": 10, \"tickOpacity\": 0.5, \"title\": null}, \"axisYDiscrete\": {\"ticks\": false, \"labelPadding\": 5}, \"axisXTemporal\": {\"grid\": false, \"ticks\": true}, \"axisXQuantitative\": {\"grid\": true}, \"axisYQuantitative\": {\"gridColor\": \"#676A86\", \"gridDash\": [1, 5], \"gridOpacity\": 0.5, \"ticks\": false, \"labelPadding\": 5, \"tickCount\": 8, \"titleAngle\": 0, \"titleAlign\": \"left\", \"titleBaseline\": \"bottom\", \"titleX\": 0, \"titleY\": -5}, \"title\": {\"color\": \"#676A86E6\", \"subtitleColor\": \"#676A86\", \"font\": \"Circular Std\", \"subtitleFont\": \"Circular Std\", \"anchor\": \"start\", \"fontSize\": 14, \"subtitleFontSize\": 12, \"subtitlePadding\": 4, \"offset\": 0, \"frame\": \"group\"}, \"legend\": {\"titleColor\": \"#122b39\", \"title\": null, \"labelColor\": \"#122b39\", \"labelFontSize\": 11}}, \"data\": {\"name\": \"data-2c42b7f0897bb040b90b446a86cfb419\"}, \"mark\": {\"type\": \"line\", \"point\": true}, \"encoding\": {\"color\": {\"field\": \"act/proj\", \"type\": \"nominal\"}, \"tooltip\": [{\"field\": \"act/proj\", \"title\": \"Actual/Projected\", \"type\": \"nominal\"}, {\"field\": \"year\", \"title\": \"Year\", \"type\": \"ordinal\"}, {\"field\": \"measure\", \"format\": \",.0f\", \"title\": \"Industrial Policies\", \"type\": \"quantitative\"}], \"x\": {\"field\": \"year\", \"type\": \"ordinal\"}, \"y\": {\"field\": \"measure\", \"title\": \"Trend of new industrial policy measures, 2010\\u201323\", \"type\": \"quantitative\"}}, \"title\": {\"text\": \"Source: World Bank Blogs\", \"color\": \"#676A8680\", \"dx\": 0, \"fontSize\": 10, \"fontStyle\": \"italic\", \"fontWeight\": \"normal\", \"frame\": \"group\", \"offset\": 7, \"orient\": \"bottom\"}, \"$schema\": \"https://vega.github.io/schema/vega-lite/v5.20.1.json\", \"datasets\": {\"data-2c42b7f0897bb040b90b446a86cfb419\": [{\"year\": 2010, \"measure\": 34, \"act/proj\": \"Actual\"}, {\"year\": 2011, \"measure\": 20, \"act/proj\": \"Actual\"}, {\"year\": 2012, \"measure\": 56, \"act/proj\": \"Actual\"}, {\"year\": 2013, \"measure\": 144, \"act/proj\": \"Actual\"}, {\"year\": 2014, \"measure\": 136, \"act/proj\": \"Actual\"}, {\"year\": 2015, \"measure\": 242, \"act/proj\": \"Actual\"}, {\"year\": 2016, \"measure\": 260, \"act/proj\": \"Actual\"}, {\"year\": 2017, \"measure\": 228, \"act/proj\": \"Actual\"}, {\"year\": 2017, \"measure\": 228, \"act/proj\": \"Projected\"}, {\"year\": 2018, \"measure\": 705, \"act/proj\": \"Projected\"}, {\"year\": 2019, \"measure\": 632, \"act/proj\": \"Projected\"}, {\"year\": 2020, \"measure\": 852, \"act/proj\": \"Projected\"}, {\"year\": 2021, \"measure\": 1594, \"act/proj\": \"Projected\"}, {\"year\": 2022, \"measure\": 1568, \"act/proj\": \"Projected\"}, {\"year\": 2023, \"measure\": 2049, \"act/proj\": \"Projected\"}]}}, {\"mode\": \"vega-lite\"});\n",
       "</script>"
      ],
      "text/plain": [
       "alt.Chart(...)"
      ]
     },
     "execution_count": 38,
     "metadata": {},
     "output_type": "execute_result"
    }
   ],
   "source": [
    "# Use helper methods\n",
    "styles.add_source(ind_policy_chart, 'World Bank Blogs')\n",
    "# styles.save(layers, '/Users/sambickel-barlow/Desktop/Github/RADataHub/ChartOfTheDay/sports/charts', 'football_finances_1')"
   ]
  },
  {
   "cell_type": "code",
   "execution_count": 39,
   "id": "3090cad2",
   "metadata": {},
   "outputs": [],
   "source": [
    "# Save to png\n",
    "ind_policy_chart.save('IPM_chart.png', scale_factor=2)\n",
    "# Save to json\n",
    "ind_policy_chart.save('IPM_chart.json', scale_factor=2)"
   ]
  }
 ],
 "metadata": {
  "kernelspec": {
   "display_name": "charts",
   "language": "python",
   "name": "python3"
  },
  "language_info": {
   "codemirror_mode": {
    "name": "ipython",
    "version": 3
   },
   "file_extension": ".py",
   "mimetype": "text/x-python",
   "name": "python",
   "nbconvert_exporter": "python",
   "pygments_lexer": "ipython3",
   "version": "3.12.11"
  }
 },
 "nbformat": 4,
 "nbformat_minor": 5
}
