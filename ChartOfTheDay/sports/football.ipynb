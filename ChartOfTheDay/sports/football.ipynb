{
 "cells": [
  {
   "cell_type": "code",
   "execution_count": 89,
   "metadata": {},
   "outputs": [],
   "source": [
    "# imports\n",
    "import altair as alt\n",
    "import pandas as pd\n",
    "import requests\n",
    "# source: Deloitte Consulting - Annual review of football finance 2025\n",
    "# https://www.deloitte.com/content/dam/assets-zone2/uk/en/docs/services/consulting/2025/deloitte-annual-review-of-football-finance-2025.pdf"
   ]
  },
  {
   "cell_type": "code",
   "execution_count": 90,
   "metadata": {},
   "outputs": [
    {
     "data": {
      "text/plain": [
       "RendererRegistry.enable('default')"
      ]
     },
     "execution_count": 90,
     "metadata": {},
     "output_type": "execute_result"
    }
   ],
   "source": [
    "# Import pound currency formatting\n",
    "gb_format = 'https://raw.githubusercontent.com/d3/d3-format/refs/heads/main/locale/en-GB.json'\n",
    "\n",
    "response = requests.get(gb_format)\n",
    "gb_format = response.json()\n",
    "\n",
    "alt.renderers.set_embed_options(formatLocale=gb_format)"
   ]
  },
  {
   "cell_type": "code",
   "execution_count": 65,
   "metadata": {},
   "outputs": [],
   "source": [
    "# Creating Premier League revenue and wage cost table based on Chart 8\n",
    "prem_teams =  pd.DataFrame({\n",
    "    'club': ['ManC', 'ManU', 'Liverpool', 'Arsenal', 'TotHot', 'Chelsea', 'Newcastle', 'AstonVilla', 'WestHam', 'B&HA', 'CrystalPalace', 'Everton', 'Fulham', 'WW', 'Nottingham', 'Brentford', 'Bournmouth', 'Sheffield', 'Burnley', 'Luton'],\n",
    "    'total': [719, 662, 614, 613, 518, 468, 320, 272, 271, 223, 189, 187, 181, 178, 174, 169, 161, 138, 134, 132],\n",
    "    'Wage Cost': [413 , 365 , 386 , 328 , 222 , 338 , 219 , 252 , 161 , 146 , 134 , 157 , 157 , 142 , 167 , 114 , 136 , 65 , 92 , 57]\n",
    "    \n",
    "})"
   ]
  },
  {
   "cell_type": "code",
   "execution_count": 66,
   "metadata": {},
   "outputs": [],
   "source": [
    "# Add column to calculate revenue\n",
    "prem_teams['Revenue'] = prem_teams['total'] - prem_teams['Wage Cost']"
   ]
  },
  {
   "cell_type": "code",
   "execution_count": 67,
   "metadata": {},
   "outputs": [],
   "source": [
    "prem_revcost = pd.DataFrame({\n",
    "    'league': ['Premier', 'Premier'],\n",
    "    'rev/cost': ['Revenue','Wage Cost'],\n",
    "    'amt':[prem_teams['Revenue'].sum(),prem_teams['Wage Cost'].sum()]\n",
    "})"
   ]
  },
  {
   "cell_type": "code",
   "execution_count": 69,
   "metadata": {},
   "outputs": [],
   "source": [
    "# Creating revenue and wage cost table for lower leagues based on Chart 11\n",
    "lower_leagues_revcost = pd.DataFrame({\n",
    "    'league': ['Championship', 'Championship' , 'L1', 'L1', 'L2', 'L2'],\n",
    "    'rev/cost': ['Revenue', 'Wage Cost', 'Revenue', 'Wage Cost', 'Revenue', 'Wage Cost'],\n",
    "    'amt': [66, 892, 10, 208, 42, 118]\n",
    "})"
   ]
  },
  {
   "cell_type": "code",
   "execution_count": 70,
   "metadata": {},
   "outputs": [],
   "source": [
    "# Create empty dataframe to hold chart\n",
    "chart_table = pd.DataFrame()\n",
    "# Concat prem and lower league revenue/wcost charts\n",
    "chart_table = pd.concat([prem_revcost, lower_leagues_revcost], axis=0)"
   ]
  },
  {
   "cell_type": "code",
   "execution_count": 91,
   "metadata": {},
   "outputs": [
    {
     "data": {
      "text/html": [
       "\n",
       "<style>\n",
       "  #altair-viz-f3f6dd1f1ace4bc0b4625b4ce8defc4d.vega-embed {\n",
       "    width: 100%;\n",
       "    display: flex;\n",
       "  }\n",
       "\n",
       "  #altair-viz-f3f6dd1f1ace4bc0b4625b4ce8defc4d.vega-embed details,\n",
       "  #altair-viz-f3f6dd1f1ace4bc0b4625b4ce8defc4d.vega-embed details summary {\n",
       "    position: relative;\n",
       "  }\n",
       "</style>\n",
       "<div id=\"altair-viz-f3f6dd1f1ace4bc0b4625b4ce8defc4d\"></div>\n",
       "<script type=\"text/javascript\">\n",
       "  var VEGA_DEBUG = (typeof VEGA_DEBUG == \"undefined\") ? {} : VEGA_DEBUG;\n",
       "  (function(spec, embedOpt){\n",
       "    let outputDiv = document.currentScript.previousElementSibling;\n",
       "    if (outputDiv.id !== \"altair-viz-f3f6dd1f1ace4bc0b4625b4ce8defc4d\") {\n",
       "      outputDiv = document.getElementById(\"altair-viz-f3f6dd1f1ace4bc0b4625b4ce8defc4d\");\n",
       "    }\n",
       "\n",
       "    const paths = {\n",
       "      \"vega\": \"https://cdn.jsdelivr.net/npm/vega@5?noext\",\n",
       "      \"vega-lib\": \"https://cdn.jsdelivr.net/npm/vega-lib?noext\",\n",
       "      \"vega-lite\": \"https://cdn.jsdelivr.net/npm/vega-lite@5.20.1?noext\",\n",
       "      \"vega-embed\": \"https://cdn.jsdelivr.net/npm/vega-embed@6?noext\",\n",
       "    };\n",
       "\n",
       "    function maybeLoadScript(lib, version) {\n",
       "      var key = `${lib.replace(\"-\", \"\")}_version`;\n",
       "      return (VEGA_DEBUG[key] == version) ?\n",
       "        Promise.resolve(paths[lib]) :\n",
       "        new Promise(function(resolve, reject) {\n",
       "          var s = document.createElement('script');\n",
       "          document.getElementsByTagName(\"head\")[0].appendChild(s);\n",
       "          s.async = true;\n",
       "          s.onload = () => {\n",
       "            VEGA_DEBUG[key] = version;\n",
       "            return resolve(paths[lib]);\n",
       "          };\n",
       "          s.onerror = () => reject(`Error loading script: ${paths[lib]}`);\n",
       "          s.src = paths[lib];\n",
       "        });\n",
       "    }\n",
       "\n",
       "    function showError(err) {\n",
       "      outputDiv.innerHTML = `<div class=\"error\" style=\"color:red;\">${err}</div>`;\n",
       "      throw err;\n",
       "    }\n",
       "\n",
       "    function displayChart(vegaEmbed) {\n",
       "      vegaEmbed(outputDiv, spec, embedOpt)\n",
       "        .catch(err => showError(`Javascript Error: ${err.message}<br>This usually means there's a typo in your chart specification. See the javascript console for the full traceback.`));\n",
       "    }\n",
       "\n",
       "    if(typeof define === \"function\" && define.amd) {\n",
       "      requirejs.config({paths});\n",
       "      let deps = [\"vega-embed\"];\n",
       "      require(deps, displayChart, err => showError(`Error loading script: ${err.message}`));\n",
       "    } else {\n",
       "      maybeLoadScript(\"vega\", \"5\")\n",
       "        .then(() => maybeLoadScript(\"vega-lite\", \"5.20.1\"))\n",
       "        .then(() => maybeLoadScript(\"vega-embed\", \"6\"))\n",
       "        .catch(showError)\n",
       "        .then(() => displayChart(vegaEmbed));\n",
       "    }\n",
       "  })({\"config\": {\"font\": \"Circular Std\", \"text\": {\"color\": \"#676A86\", \"align\": \"left\", \"baseline\": \"middle\", \"dx\": 7, \"dy\": 0, \"fontSize\": 11}, \"view\": {\"stroke\": null, \"continuousWidth\": 400, \"continuousHeight\": 300, \"discreteWidth\": 400, \"discreteHeight\": 300}, \"range\": {\"category\": [\"#36B7B4\", \"#E6224B\", \"#F4C245\", \"#0063AF\", \"#00A767\", \"#179FDB\", \"#EB5C2E\"], \"diverging\": [\"#E6224B\", \"#E54753\", \"#C9C9C9\", \"#179FDB\", \"#122B39\"], \"heatmap\": [\"#C9C9C9\", \"#179FDB\", \"#0063AF\", \"#122B39\"], \"ordinal\": [\"#00A767\", \"#36B7B4\", \"#179FDB\", \"#0063AF\", \"#243B5A\"]}, \"bar\": {\"color\": \"#179fdb\"}, \"line\": {\"color\": \"#e6224b\"}, \"rule\": {\"color\": \"#676A86\"}, \"area\": {\"opacity\": 0.3}, \"point\": {\"filled\": true, \"size\": 80, \"color\": \"#e6224b\", \"opacity\": 0.95}, \"geoshape\": {\"stroke\": \"white\", \"strokeWidth\": 0.3}, \"rect\": {\"fill\": \"#d6d4d4\", \"opacity\": 0.3}, \"axis\": {\"labelColor\": \"#676A86\", \"labelFontSize\": 11, \"labelFont\": \"Circular Std\", \"labelOpacity\": 0.7, \"tickColor\": \"#676A86\", \"tickOpacity\": 0.5, \"domainColor\": \"#676A86\", \"domainOpacity\": 0.5, \"gridColor\": \"#676A86\", \"gridDash\": [2, 2], \"gridOpacity\": 0.5, \"title\": null, \"titleColor\": \"#676A86\", \"titleOpacity\": 0.8, \"tickSize\": 4}, \"axisXDiscrete\": {\"grid\": false, \"labelAngle\": 0, \"tickCount\": 10, \"tickOpacity\": 0.5, \"title\": null}, \"axisYDiscrete\": {\"ticks\": false, \"labelPadding\": 5}, \"axisXTemporal\": {\"grid\": false, \"ticks\": true}, \"axisXQuantitative\": {\"grid\": true}, \"axisYQuantitative\": {\"gridColor\": \"#676A86\", \"gridDash\": [1, 5], \"gridOpacity\": 0.5, \"ticks\": false, \"labelPadding\": 5, \"tickCount\": 8, \"titleAngle\": 0, \"titleAlign\": \"left\", \"titleBaseline\": \"bottom\", \"titleX\": 0, \"titleY\": -5}, \"title\": {\"color\": \"#676A86E6\", \"subtitleColor\": \"#676A86\", \"font\": \"Circular Std\", \"subtitleFont\": \"Circular Std\", \"anchor\": \"start\", \"fontSize\": 14, \"subtitleFontSize\": 12, \"subtitlePadding\": 4, \"offset\": 0, \"frame\": \"group\"}, \"legend\": {\"titleColor\": \"#122b39\", \"title\": null, \"labelColor\": \"#122b39\", \"labelFontSize\": 11}}, \"data\": {\"name\": \"data-03bb52eff0fcac908f1eaa44167669c8\"}, \"mark\": {\"type\": \"bar\"}, \"encoding\": {\"color\": {\"field\": \"rev/cost\", \"type\": \"nominal\"}, \"column\": {\"field\": \"league\", \"sort\": [\"Premier\", \"Championship\", \"L1\", \"L2\"], \"title\": null, \"type\": \"ordinal\"}, \"tooltip\": {\"field\": \"amt\", \"format\": \"$,.0f\", \"type\": \"quantitative\"}, \"x\": {\"field\": \"rev/cost\", \"type\": \"nominal\"}, \"y\": {\"axis\": {\"titleX\": -70}, \"field\": \"amt\", \"title\": \"(\\u00a3) in millions\", \"type\": \"quantitative\"}}, \"title\": \"Total revenue and wage cost by league\", \"width\": 100, \"$schema\": \"https://vega.github.io/schema/vega-lite/v5.20.1.json\", \"datasets\": {\"data-03bb52eff0fcac908f1eaa44167669c8\": [{\"league\": \"Premier\", \"rev/cost\": \"Revenue\", \"amt\": 2272}, {\"league\": \"Premier\", \"rev/cost\": \"Wage Cost\", \"amt\": 4051}, {\"league\": \"Championship\", \"rev/cost\": \"Revenue\", \"amt\": 66}, {\"league\": \"Championship\", \"rev/cost\": \"Wage Cost\", \"amt\": 892}, {\"league\": \"L1\", \"rev/cost\": \"Revenue\", \"amt\": 10}, {\"league\": \"L1\", \"rev/cost\": \"Wage Cost\", \"amt\": 208}, {\"league\": \"L2\", \"rev/cost\": \"Revenue\", \"amt\": 42}, {\"league\": \"L2\", \"rev/cost\": \"Wage Cost\", \"amt\": 118}]}}, {\"formatLocale\": {\"decimal\": \".\", \"thousands\": \",\", \"grouping\": [3], \"currency\": [\"\\u00a3\", \"\"]}, \"mode\": \"vega-lite\"});\n",
       "</script>"
      ],
      "text/plain": [
       "alt.Chart(...)"
      ]
     },
     "execution_count": 91,
     "metadata": {},
     "output_type": "execute_result"
    }
   ],
   "source": [
    "# Create grouped bar chart - WITH FACETS\n",
    "chart_table['league'] = pd.Categorical(chart_table['league'], ['Premier','Championship','L1','L2'], ordered=True)\n",
    "\n",
    "alt.Chart(chart_table).mark_bar().encode(\n",
    "    x='rev/cost',\n",
    "    y=alt.Y('amt', title='(£) in millions', axis=alt.Axis(titleX=-70)),\n",
    "    column=alt.Column('league', title=None),\n",
    "    color='rev/cost',\n",
    "    tooltip=alt.Tooltip('amt', format='$,.0f')\n",
    ").properties(title='Total revenue and wage cost by league',width=100)"
   ]
  },
  {
   "cell_type": "code",
   "execution_count": 194,
   "metadata": {},
   "outputs": [],
   "source": [
    "# Create grouped bar chart - WITH OFFSET (allows for text labels)\n",
    "chart_table['league'] = pd.Categorical(chart_table['league'], ['Premier','Championship','L1','L2'], ordered=True)\n",
    "\n",
    "base = alt.Chart(chart_table).encode(\n",
    "    x= alt.X('league:N', sort=['Premier','Championship','L1','L2']),\n",
    "    y= alt.Y('amt:Q', title=None,  axis=alt.Axis(titleX=-70,\n",
    "                                                             labelExpr='\"£\" + datum.value / 1000 + \" bn\"'\n",
    "                                                             )),\n",
    "    xOffset = alt.XOffset('rev/cost:N', scale=alt.Scale(paddingOuter=0)),\n",
    "    color= alt.Color('rev/cost:N', legend= alt.Legend(orient='top'))\n",
    ").properties(\n",
    "    title={'text': 'Football Finances: Revenue and wage cost by league', 'subtitle': 'Source: Deloitte Consulting - Annual review of football finance 2025'}\n",
    "    )\n",
    "\n",
    "layers= alt.layer(\n",
    "    base.mark_bar(),\n",
    "    base.mark_text(align='center', text=alt.expr(\"'£' + format(datum.amt/1000, '.1f') + ' bn'\"), baseline='top', dx= 0, dy = -12).encode(color=alt.value('black'))\n",
    "\n",
    ")"
   ]
  },
  {
   "cell_type": "code",
   "execution_count": 195,
   "metadata": {},
   "outputs": [
    {
     "data": {
      "text/html": [
       "\n",
       "<style>\n",
       "  #altair-viz-6ebf0fd5c78d4cf781729e320a4400a7.vega-embed {\n",
       "    width: 100%;\n",
       "    display: flex;\n",
       "  }\n",
       "\n",
       "  #altair-viz-6ebf0fd5c78d4cf781729e320a4400a7.vega-embed details,\n",
       "  #altair-viz-6ebf0fd5c78d4cf781729e320a4400a7.vega-embed details summary {\n",
       "    position: relative;\n",
       "  }\n",
       "</style>\n",
       "<div id=\"altair-viz-6ebf0fd5c78d4cf781729e320a4400a7\"></div>\n",
       "<script type=\"text/javascript\">\n",
       "  var VEGA_DEBUG = (typeof VEGA_DEBUG == \"undefined\") ? {} : VEGA_DEBUG;\n",
       "  (function(spec, embedOpt){\n",
       "    let outputDiv = document.currentScript.previousElementSibling;\n",
       "    if (outputDiv.id !== \"altair-viz-6ebf0fd5c78d4cf781729e320a4400a7\") {\n",
       "      outputDiv = document.getElementById(\"altair-viz-6ebf0fd5c78d4cf781729e320a4400a7\");\n",
       "    }\n",
       "\n",
       "    const paths = {\n",
       "      \"vega\": \"https://cdn.jsdelivr.net/npm/vega@5?noext\",\n",
       "      \"vega-lib\": \"https://cdn.jsdelivr.net/npm/vega-lib?noext\",\n",
       "      \"vega-lite\": \"https://cdn.jsdelivr.net/npm/vega-lite@5.20.1?noext\",\n",
       "      \"vega-embed\": \"https://cdn.jsdelivr.net/npm/vega-embed@6?noext\",\n",
       "    };\n",
       "\n",
       "    function maybeLoadScript(lib, version) {\n",
       "      var key = `${lib.replace(\"-\", \"\")}_version`;\n",
       "      return (VEGA_DEBUG[key] == version) ?\n",
       "        Promise.resolve(paths[lib]) :\n",
       "        new Promise(function(resolve, reject) {\n",
       "          var s = document.createElement('script');\n",
       "          document.getElementsByTagName(\"head\")[0].appendChild(s);\n",
       "          s.async = true;\n",
       "          s.onload = () => {\n",
       "            VEGA_DEBUG[key] = version;\n",
       "            return resolve(paths[lib]);\n",
       "          };\n",
       "          s.onerror = () => reject(`Error loading script: ${paths[lib]}`);\n",
       "          s.src = paths[lib];\n",
       "        });\n",
       "    }\n",
       "\n",
       "    function showError(err) {\n",
       "      outputDiv.innerHTML = `<div class=\"error\" style=\"color:red;\">${err}</div>`;\n",
       "      throw err;\n",
       "    }\n",
       "\n",
       "    function displayChart(vegaEmbed) {\n",
       "      vegaEmbed(outputDiv, spec, embedOpt)\n",
       "        .catch(err => showError(`Javascript Error: ${err.message}<br>This usually means there's a typo in your chart specification. See the javascript console for the full traceback.`));\n",
       "    }\n",
       "\n",
       "    if(typeof define === \"function\" && define.amd) {\n",
       "      requirejs.config({paths});\n",
       "      let deps = [\"vega-embed\"];\n",
       "      require(deps, displayChart, err => showError(`Error loading script: ${err.message}`));\n",
       "    } else {\n",
       "      maybeLoadScript(\"vega\", \"5\")\n",
       "        .then(() => maybeLoadScript(\"vega-lite\", \"5.20.1\"))\n",
       "        .then(() => maybeLoadScript(\"vega-embed\", \"6\"))\n",
       "        .catch(showError)\n",
       "        .then(() => displayChart(vegaEmbed));\n",
       "    }\n",
       "  })({\"config\": {\"font\": \"Circular Std\", \"text\": {\"color\": \"#676A86\", \"align\": \"left\", \"baseline\": \"middle\", \"dx\": 7, \"dy\": 0, \"fontSize\": 11}, \"view\": {\"stroke\": null, \"continuousWidth\": 400, \"continuousHeight\": 300, \"discreteWidth\": 400, \"discreteHeight\": 300}, \"range\": {\"category\": [\"#36B7B4\", \"#E6224B\", \"#F4C245\", \"#0063AF\", \"#00A767\", \"#179FDB\", \"#EB5C2E\"], \"diverging\": [\"#E6224B\", \"#E54753\", \"#C9C9C9\", \"#179FDB\", \"#122B39\"], \"heatmap\": [\"#C9C9C9\", \"#179FDB\", \"#0063AF\", \"#122B39\"], \"ordinal\": [\"#00A767\", \"#36B7B4\", \"#179FDB\", \"#0063AF\", \"#243B5A\"]}, \"bar\": {\"color\": \"#179fdb\"}, \"line\": {\"color\": \"#e6224b\"}, \"rule\": {\"color\": \"#676A86\"}, \"area\": {\"opacity\": 0.3}, \"point\": {\"filled\": true, \"size\": 80, \"color\": \"#e6224b\", \"opacity\": 0.95}, \"geoshape\": {\"stroke\": \"white\", \"strokeWidth\": 0.3}, \"rect\": {\"fill\": \"#d6d4d4\", \"opacity\": 0.3}, \"axis\": {\"labelColor\": \"#676A86\", \"labelFontSize\": 11, \"labelFont\": \"Circular Std\", \"labelOpacity\": 0.7, \"tickColor\": \"#676A86\", \"tickOpacity\": 0.5, \"domainColor\": \"#676A86\", \"domainOpacity\": 0.5, \"gridColor\": \"#676A86\", \"gridDash\": [2, 2], \"gridOpacity\": 0.5, \"title\": null, \"titleColor\": \"#676A86\", \"titleOpacity\": 0.8, \"tickSize\": 4}, \"axisXDiscrete\": {\"grid\": false, \"labelAngle\": 0, \"tickCount\": 10, \"tickOpacity\": 0.5, \"title\": null}, \"axisYDiscrete\": {\"ticks\": false, \"labelPadding\": 5}, \"axisXTemporal\": {\"grid\": false, \"ticks\": true}, \"axisXQuantitative\": {\"grid\": true}, \"axisYQuantitative\": {\"gridColor\": \"#676A86\", \"gridDash\": [1, 5], \"gridOpacity\": 0.5, \"ticks\": false, \"labelPadding\": 5, \"tickCount\": 8, \"titleAngle\": 0, \"titleAlign\": \"left\", \"titleBaseline\": \"bottom\", \"titleX\": 0, \"titleY\": -5}, \"title\": {\"color\": \"#676A86E6\", \"subtitleColor\": \"#676A86\", \"font\": \"Circular Std\", \"subtitleFont\": \"Circular Std\", \"anchor\": \"start\", \"fontSize\": 14, \"subtitleFontSize\": 12, \"subtitlePadding\": 4, \"offset\": 0, \"frame\": \"group\"}, \"legend\": {\"titleColor\": \"#122b39\", \"title\": null, \"labelColor\": \"#122b39\", \"labelFontSize\": 11}}, \"layer\": [{\"mark\": {\"type\": \"bar\"}, \"encoding\": {\"color\": {\"field\": \"rev/cost\", \"legend\": {\"orient\": \"top\"}, \"type\": \"nominal\"}, \"x\": {\"field\": \"league\", \"sort\": [\"Premier\", \"Championship\", \"L1\", \"L2\"], \"type\": \"nominal\"}, \"xOffset\": {\"field\": \"rev/cost\", \"scale\": {\"paddingOuter\": 0}, \"type\": \"nominal\"}, \"y\": {\"axis\": {\"labelExpr\": \"\\\"\\u00a3\\\" + datum.value / 1000 + \\\" bn\\\"\", \"titleX\": -70}, \"field\": \"amt\", \"title\": null, \"type\": \"quantitative\"}}, \"title\": {\"text\": \"Football Finances: Revenue and wage cost by league\", \"subtitle\": \"Source: Deloitte Consulting - Annual review of football finance 2025\"}}, {\"mark\": {\"type\": \"text\", \"align\": \"center\", \"baseline\": \"top\", \"dx\": 0, \"dy\": -12, \"text\": {\"expr\": \"'\\u00a3' + format(datum.amt/1000, '.1f') + ' bn'\"}}, \"encoding\": {\"color\": {\"value\": \"black\"}, \"x\": {\"field\": \"league\", \"sort\": [\"Premier\", \"Championship\", \"L1\", \"L2\"], \"type\": \"nominal\"}, \"xOffset\": {\"field\": \"rev/cost\", \"scale\": {\"paddingOuter\": 0}, \"type\": \"nominal\"}, \"y\": {\"axis\": {\"labelExpr\": \"\\\"\\u00a3\\\" + datum.value / 1000 + \\\" bn\\\"\", \"titleX\": -70}, \"field\": \"amt\", \"title\": null, \"type\": \"quantitative\"}}, \"title\": {\"text\": \"Football Finances: Revenue and wage cost by league\", \"subtitle\": \"Source: Deloitte Consulting - Annual review of football finance 2025\"}}], \"data\": {\"name\": \"data-03bb52eff0fcac908f1eaa44167669c8\"}, \"$schema\": \"https://vega.github.io/schema/vega-lite/v5.20.1.json\", \"datasets\": {\"data-03bb52eff0fcac908f1eaa44167669c8\": [{\"league\": \"Premier\", \"rev/cost\": \"Revenue\", \"amt\": 2272}, {\"league\": \"Premier\", \"rev/cost\": \"Wage Cost\", \"amt\": 4051}, {\"league\": \"Championship\", \"rev/cost\": \"Revenue\", \"amt\": 66}, {\"league\": \"Championship\", \"rev/cost\": \"Wage Cost\", \"amt\": 892}, {\"league\": \"L1\", \"rev/cost\": \"Revenue\", \"amt\": 10}, {\"league\": \"L1\", \"rev/cost\": \"Wage Cost\", \"amt\": 208}, {\"league\": \"L2\", \"rev/cost\": \"Revenue\", \"amt\": 42}, {\"league\": \"L2\", \"rev/cost\": \"Wage Cost\", \"amt\": 118}]}}, {\"formatLocale\": {\"decimal\": \".\", \"thousands\": \",\", \"grouping\": [3], \"currency\": [\"\\u00a3\", \"\"]}, \"mode\": \"vega-lite\"});\n",
       "</script>"
      ],
      "text/plain": [
       "alt.LayerChart(...)"
      ]
     },
     "metadata": {},
     "output_type": "display_data"
    }
   ],
   "source": [
    "layers.display()"
   ]
  },
  {
   "cell_type": "code",
   "execution_count": 177,
   "metadata": {},
   "outputs": [],
   "source": [
    "from ecostyles import EcoStyles\n",
    "# Create styles instance\n",
    "styles = EcoStyles()\n",
    "# Register and enable a theme\n",
    "styles.register_and_enable_theme(theme_name=\"article\")  # or \"article\"\n"
   ]
  },
  {
   "cell_type": "code",
   "execution_count": 196,
   "metadata": {},
   "outputs": [],
   "source": [
    "# Save to png\n",
    "layers.save('football_finances_1.png', scale_factor=2)"
   ]
  },
  {
   "cell_type": "code",
   "execution_count": 197,
   "metadata": {},
   "outputs": [],
   "source": [
    "# Save to json\n",
    "layers.save('football_finances_1.json', scale_factor=2)"
   ]
  },
  {
   "cell_type": "code",
   "execution_count": 8,
   "metadata": {},
   "outputs": [],
   "source": [
    "# styles.save(layers, 'charts', 'football_finances_1', width=500, height=400, svg=True)"
   ]
  },
  {
   "cell_type": "code",
   "execution_count": 152,
   "metadata": {},
   "outputs": [],
   "source": [
    "# Use helper methods\n",
    "#styles.add_source(layers, 'Deloitte Consulting - Annual review of football finance 2025')\n",
    "# styles.save(layers, '/Users/sambickel-barlow/Desktop/Github/RADataHub/ChartOfTheDay/sports/charts', 'football_finances_1')"
   ]
  }
 ],
 "metadata": {
  "kernelspec": {
   "display_name": "ecocharts",
   "language": "python",
   "name": "python3"
  },
  "language_info": {
   "codemirror_mode": {
    "name": "ipython",
    "version": 3
   },
   "file_extension": ".py",
   "mimetype": "text/x-python",
   "name": "python",
   "nbconvert_exporter": "python",
   "pygments_lexer": "ipython3",
   "version": "3.12.11"
  }
 },
 "nbformat": 4,
 "nbformat_minor": 2
}
