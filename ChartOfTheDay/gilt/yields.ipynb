{
 "cells": [
  {
   "cell_type": "code",
   "execution_count": 1,
   "metadata": {},
   "outputs": [],
   "source": [
    "import pandas as pd"
   ]
  },
  {
   "cell_type": "code",
   "execution_count": 13,
   "metadata": {},
   "outputs": [],
   "source": [
    "df = pd.read_excel('yields.xls', skiprows=3)\n",
    "\n",
    "# trun the month column into a datetime.\n",
    "df['Month'] = pd.to_datetime(df['Month'], errors='coerce')\n",
    "\n",
    "# drop any rows with NaT in the month column\n",
    "df = df.dropna(subset=['Month']) \n",
    "\n",
    "# divide all the columns by 100 to get the yields as a percentage\n",
    "df.iloc[:,1:] = df.iloc[:,1:]/100\n",
    "\n",
    "# make column names lowercase and remove any spaces\n",
    "df.columns = df.columns.str.lower().str.replace(' ', '')\n",
    "\n",
    "df.to_csv('yields.csv', index=False)"
   ]
  },
  {
   "cell_type": "code",
   "execution_count": null,
   "metadata": {},
   "outputs": [],
   "source": []
  }
 ],
 "metadata": {
  "kernelspec": {
   "display_name": "Python 3",
   "language": "python",
   "name": "python3"
  },
  "language_info": {
   "codemirror_mode": {
    "name": "ipython",
    "version": 3
   },
   "file_extension": ".py",
   "mimetype": "text/x-python",
   "name": "python",
   "nbconvert_exporter": "python",
   "pygments_lexer": "ipython3",
   "version": "3.9.6"
  }
 },
 "nbformat": 4,
 "nbformat_minor": 2
}
