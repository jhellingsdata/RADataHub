{
 "cells": [
  {
   "cell_type": "code",
   "execution_count": 1,
   "id": "c32052a6",
   "metadata": {},
   "outputs": [],
   "source": [
    "import pandas as pd\n",
    "import altair as alt"
   ]
  },
  {
   "cell_type": "code",
   "execution_count": 2,
   "id": "f7e95cd4",
   "metadata": {},
   "outputs": [],
   "source": [
    "from ecostyles import EcoStyles\n",
    "# Create styles instance\n",
    "styles = EcoStyles()\n",
    "# Register and enable a theme\n",
    "styles.register_and_enable_theme(theme_name=\"article\")  # or \"article\""
   ]
  },
  {
   "cell_type": "code",
   "execution_count": 65,
   "id": "2c99cfdc",
   "metadata": {},
   "outputs": [],
   "source": [
    "inf = pd.read_csv(\"/Users/sambickel-barlow/RADataHub/RADataHub/ChartOfTheDay/infrastructure/Figure_1__Market_sector_investment_in_infrastructure_increased_by_£2.9_billion_in_2024_compared_with_2023_.csv\",\n",
    "                  skiprows=6)"
   ]
  },
  {
   "cell_type": "code",
   "execution_count": 66,
   "id": "8db117c1",
   "metadata": {},
   "outputs": [],
   "source": [
    "inf = inf.rename(columns={'Industry group [note 1]': 'Year'})\n",
    "inf = inf.melt(id_vars=[\"Year\"], var_name=\"Type\", value_name=\"Amount\")"
   ]
  },
  {
   "cell_type": "code",
   "execution_count": 70,
   "id": "304efb93",
   "metadata": {},
   "outputs": [
    {
     "name": "stderr",
     "output_type": "stream",
     "text": [
      "/var/folders/qz/pj0lh7817m3c9ydwgfrtbtf00000gn/T/ipykernel_49888/3422535982.py:2: FutureWarning: The behavior of Series.replace (and DataFrame.replace) with CategoricalDtype is deprecated. In a future version, replace will only be used for cases that preserve the categories. To change the categories, use ser.cat.rename_categories instead.\n",
      "  inf['Type'] = inf['Type'].replace('Support activities for transportation', 'Transportation')\n"
     ]
    }
   ],
   "source": [
    "# Rename Type values for better display\n",
    "inf['Type'] = inf['Type'].replace('Support activities for transportation', 'Transportation')"
   ]
  },
  {
   "cell_type": "code",
   "execution_count": 71,
   "id": "a15fc9ed",
   "metadata": {},
   "outputs": [
    {
     "name": "stderr",
     "output_type": "stream",
     "text": [
      "/var/folders/qz/pj0lh7817m3c9ydwgfrtbtf00000gn/T/ipykernel_49888/509381879.py:21: FutureWarning: The default of observed=False is deprecated and will be changed to True in a future version of pandas. Pass observed=False to retain current behavior or observed=True to adopt the future default and silence this warning.\n",
      "  .groupby('Type')\n"
     ]
    }
   ],
   "source": [
    "# Convert Type to ordered categorical (reverse alphabetical) and calculate stack positions\n",
    "type_order = sorted(inf['Type'].unique(), reverse=True)\n",
    "inf['Type'] = pd.Categorical(inf['Type'], categories=type_order, ordered=True)\n",
    "\n",
    "# Sort for stacking order\n",
    "inf_sorted = inf.sort_values(['Year', 'Type'], ascending=[True, False]).copy()\n",
    "\n",
    "# Calculate the cumulative sum (top of the stack)\n",
    "inf_sorted['stack_top'] = inf_sorted.groupby('Year')['Amount'].cumsum()\n",
    "\n",
    "# Calculate the bottom of the stack\n",
    "inf_sorted['stack_bottom'] = inf_sorted['stack_top'] - inf_sorted['Amount']\n",
    "\n",
    "# Calculate the midpoint for label placement\n",
    "inf_sorted['stack_mid'] = ((inf_sorted['stack_top'] - inf_sorted['stack_bottom']) / 2) + inf_sorted['stack_bottom']\n",
    "\n",
    "# Get the last year for each type and the corresponding stack_mid value\n",
    "last_points = (\n",
    "    inf_sorted\n",
    "    .sort_values('Year')\n",
    "    .groupby('Type')\n",
    "    .tail(1)\n",
    "    .copy()\n",
    ")"
   ]
  },
  {
   "cell_type": "code",
   "execution_count": 129,
   "id": "620de400",
   "metadata": {},
   "outputs": [
    {
     "name": "stderr",
     "output_type": "stream",
     "text": [
      "/var/folders/qz/pj0lh7817m3c9ydwgfrtbtf00000gn/T/ipykernel_49888/3378124506.py:21: FutureWarning: Setting an item of incompatible dtype is deprecated and will raise an error in a future version of pandas. Value '-2.5' has dtype incompatible with int64, please explicitly cast to a compatible dtype first.\n",
      "  last_points_adj.loc[mask, 'manual_dy'] = adjustments['dy']\n"
     ]
    },
    {
     "data": {
      "text/html": [
       "\n",
       "<style>\n",
       "  #altair-viz-24c01c81cdf34cc88f7f4f08dbd07208.vega-embed {\n",
       "    width: 100%;\n",
       "    display: flex;\n",
       "  }\n",
       "\n",
       "  #altair-viz-24c01c81cdf34cc88f7f4f08dbd07208.vega-embed details,\n",
       "  #altair-viz-24c01c81cdf34cc88f7f4f08dbd07208.vega-embed details summary {\n",
       "    position: relative;\n",
       "  }\n",
       "</style>\n",
       "<div id=\"altair-viz-24c01c81cdf34cc88f7f4f08dbd07208\"></div>\n",
       "<script type=\"text/javascript\">\n",
       "  var VEGA_DEBUG = (typeof VEGA_DEBUG == \"undefined\") ? {} : VEGA_DEBUG;\n",
       "  (function(spec, embedOpt){\n",
       "    let outputDiv = document.currentScript.previousElementSibling;\n",
       "    if (outputDiv.id !== \"altair-viz-24c01c81cdf34cc88f7f4f08dbd07208\") {\n",
       "      outputDiv = document.getElementById(\"altair-viz-24c01c81cdf34cc88f7f4f08dbd07208\");\n",
       "    }\n",
       "\n",
       "    const paths = {\n",
       "      \"vega\": \"https://cdn.jsdelivr.net/npm/vega@5?noext\",\n",
       "      \"vega-lib\": \"https://cdn.jsdelivr.net/npm/vega-lib?noext\",\n",
       "      \"vega-lite\": \"https://cdn.jsdelivr.net/npm/vega-lite@5.20.1?noext\",\n",
       "      \"vega-embed\": \"https://cdn.jsdelivr.net/npm/vega-embed@6?noext\",\n",
       "    };\n",
       "\n",
       "    function maybeLoadScript(lib, version) {\n",
       "      var key = `${lib.replace(\"-\", \"\")}_version`;\n",
       "      return (VEGA_DEBUG[key] == version) ?\n",
       "        Promise.resolve(paths[lib]) :\n",
       "        new Promise(function(resolve, reject) {\n",
       "          var s = document.createElement('script');\n",
       "          document.getElementsByTagName(\"head\")[0].appendChild(s);\n",
       "          s.async = true;\n",
       "          s.onload = () => {\n",
       "            VEGA_DEBUG[key] = version;\n",
       "            return resolve(paths[lib]);\n",
       "          };\n",
       "          s.onerror = () => reject(`Error loading script: ${paths[lib]}`);\n",
       "          s.src = paths[lib];\n",
       "        });\n",
       "    }\n",
       "\n",
       "    function showError(err) {\n",
       "      outputDiv.innerHTML = `<div class=\"error\" style=\"color:red;\">${err}</div>`;\n",
       "      throw err;\n",
       "    }\n",
       "\n",
       "    function displayChart(vegaEmbed) {\n",
       "      vegaEmbed(outputDiv, spec, embedOpt)\n",
       "        .catch(err => showError(`Javascript Error: ${err.message}<br>This usually means there's a typo in your chart specification. See the javascript console for the full traceback.`));\n",
       "    }\n",
       "\n",
       "    if(typeof define === \"function\" && define.amd) {\n",
       "      requirejs.config({paths});\n",
       "      let deps = [\"vega-embed\"];\n",
       "      require(deps, displayChart, err => showError(`Error loading script: ${err.message}`));\n",
       "    } else {\n",
       "      maybeLoadScript(\"vega\", \"5\")\n",
       "        .then(() => maybeLoadScript(\"vega-lite\", \"5.20.1\"))\n",
       "        .then(() => maybeLoadScript(\"vega-embed\", \"6\"))\n",
       "        .catch(showError)\n",
       "        .then(() => displayChart(vegaEmbed));\n",
       "    }\n",
       "  })({\"config\": {\"font\": \"Circular Std\", \"text\": {\"color\": \"#676A86\", \"align\": \"left\", \"baseline\": \"middle\", \"dx\": 7, \"dy\": 0, \"fontSize\": 11}, \"view\": {\"stroke\": null, \"continuousWidth\": 400, \"continuousHeight\": 300, \"discreteWidth\": 400, \"discreteHeight\": 300}, \"range\": {\"category\": [\"#36B7B4\", \"#E6224B\", \"#F4C245\", \"#0063AF\", \"#00A767\", \"#179FDB\", \"#EB5C2E\"], \"diverging\": [\"#E6224B\", \"#E54753\", \"#C9C9C9\", \"#179FDB\", \"#122B39\"], \"heatmap\": [\"#C9C9C9\", \"#179FDB\", \"#0063AF\", \"#122B39\"], \"ordinal\": [\"#00A767\", \"#36B7B4\", \"#179FDB\", \"#0063AF\", \"#243B5A\"]}, \"bar\": {\"color\": \"#179fdb\"}, \"line\": {\"color\": \"#e6224b\"}, \"rule\": {\"color\": \"#676A86\"}, \"area\": {\"opacity\": 0.3}, \"point\": {\"filled\": true, \"size\": 80, \"color\": \"#e6224b\", \"opacity\": 0.95}, \"geoshape\": {\"stroke\": \"white\", \"strokeWidth\": 0.3}, \"rect\": {\"fill\": \"#d6d4d4\", \"opacity\": 0.3}, \"axis\": {\"labelColor\": \"#676A86\", \"labelFontSize\": 11, \"labelFont\": \"Circular Std\", \"labelOpacity\": 0.7, \"tickColor\": \"#676A86\", \"tickOpacity\": 0.5, \"domainColor\": \"#676A86\", \"domainOpacity\": 0.5, \"gridColor\": \"#676A86\", \"gridDash\": [2, 2], \"gridOpacity\": 0.5, \"title\": null, \"titleColor\": \"#676A86\", \"titleOpacity\": 0.8, \"tickSize\": 4}, \"axisXDiscrete\": {\"grid\": false, \"labelAngle\": 0, \"tickCount\": 10, \"tickOpacity\": 0.5, \"title\": null}, \"axisYDiscrete\": {\"ticks\": false, \"labelPadding\": 5}, \"axisXTemporal\": {\"grid\": false, \"ticks\": true}, \"axisXQuantitative\": {\"grid\": true}, \"axisYQuantitative\": {\"gridColor\": \"#676A86\", \"gridDash\": [1, 5], \"gridOpacity\": 0.5, \"ticks\": false, \"labelPadding\": 5, \"tickCount\": 8, \"titleAngle\": 0, \"titleAlign\": \"left\", \"titleBaseline\": \"bottom\", \"titleX\": 0, \"titleY\": -5}, \"title\": {\"color\": \"#676A86E6\", \"subtitleColor\": \"#676A86\", \"font\": \"Circular Std\", \"subtitleFont\": \"Circular Std\", \"anchor\": \"start\", \"fontSize\": 14, \"subtitleFontSize\": 12, \"subtitlePadding\": 4, \"offset\": 0, \"frame\": \"group\"}, \"legend\": {\"titleColor\": \"#122b39\", \"title\": null, \"labelColor\": \"#122b39\", \"labelFontSize\": 11}}, \"layer\": [{\"data\": {\"name\": \"data-2769651cf709111b7a8dacb81788152f\"}, \"mark\": {\"type\": \"bar\"}, \"encoding\": {\"color\": {\"field\": \"Type\", \"legend\": null, \"sort\": [\"Water supply\", \"Transportation\", \"Telecommunications\", \"Sewerage and waste\", \"Other\", \"Mining and quarrying\", \"Energy\"], \"type\": \"nominal\"}, \"order\": {\"field\": \"Type\", \"sort\": \"ascending\", \"type\": \"nominal\"}, \"x\": {\"axis\": {\"labelExpr\": \"datum.value % 2 == 0 ? datum.label : ''\", \"labelFontSize\": 14, \"titleFontSize\": 12, \"titleFontStyle\": \"italic\", \"titleX\": 175, \"titleY\": 30}, \"field\": \"Year\", \"title\": \"Source: ONS - Infrastructure in the UK, investment and net stocks\", \"type\": \"nominal\"}, \"y\": {\"axis\": {\"labelExpr\": \"'\\u00a3' + datum.value / 1000 + ' bn'\", \"labelFontSize\": 14, \"titleFontSize\": 14, \"titleX\": -70}, \"field\": \"Amount\", \"title\": \"Investment\", \"type\": \"quantitative\"}}}, {\"layer\": [{\"data\": {\"name\": \"data-046b7ebb70a8a84da003533d8ac1185f\"}, \"mark\": {\"type\": \"text\", \"align\": \"left\", \"dx\": 20, \"dy\": 0, \"fontSize\": 14, \"fontWeight\": \"bold\"}, \"encoding\": {\"color\": {\"field\": \"Type\", \"legend\": null, \"type\": \"nominal\"}, \"text\": {\"field\": \"Type\", \"type\": \"nominal\"}, \"x\": {\"field\": \"Year\", \"type\": \"nominal\"}, \"y\": {\"field\": \"stack_mid\", \"type\": \"quantitative\"}}}, {\"data\": {\"name\": \"data-0dd6e5504d3fe0e7158a9d91a2107e42\"}, \"mark\": {\"type\": \"text\", \"align\": \"left\", \"dx\": 20, \"dy\": 0, \"fontSize\": 14, \"fontWeight\": \"bold\"}, \"encoding\": {\"color\": {\"field\": \"Type\", \"legend\": null, \"type\": \"nominal\"}, \"text\": {\"field\": \"Type\", \"type\": \"nominal\"}, \"x\": {\"field\": \"Year\", \"type\": \"nominal\"}, \"y\": {\"field\": \"stack_mid\", \"type\": \"quantitative\"}}}, {\"data\": {\"name\": \"data-33c79e80d4e8aba1985c351b6168aba6\"}, \"mark\": {\"type\": \"text\", \"align\": \"left\", \"dx\": 20, \"dy\": 1, \"fontSize\": 14, \"fontWeight\": \"bold\"}, \"encoding\": {\"color\": {\"field\": \"Type\", \"legend\": null, \"type\": \"nominal\"}, \"text\": {\"field\": \"Type\", \"type\": \"nominal\"}, \"x\": {\"field\": \"Year\", \"type\": \"nominal\"}, \"y\": {\"field\": \"stack_mid\", \"type\": \"quantitative\"}}}, {\"data\": {\"name\": \"data-f97803a79efb649b082b06b50ede1f4d\"}, \"mark\": {\"type\": \"text\", \"align\": \"left\", \"dx\": 20, \"dy\": 2, \"fontSize\": 14, \"fontWeight\": \"bold\"}, \"encoding\": {\"color\": {\"field\": \"Type\", \"legend\": null, \"type\": \"nominal\"}, \"text\": {\"field\": \"Type\", \"type\": \"nominal\"}, \"x\": {\"field\": \"Year\", \"type\": \"nominal\"}, \"y\": {\"field\": \"stack_mid\", \"type\": \"quantitative\"}}}, {\"data\": {\"name\": \"data-e2f9f3855d53906b6e3c75649594dbba\"}, \"mark\": {\"type\": \"text\", \"align\": \"left\", \"dx\": 20, \"dy\": 0, \"fontSize\": 14, \"fontWeight\": \"bold\"}, \"encoding\": {\"color\": {\"field\": \"Type\", \"legend\": null, \"type\": \"nominal\"}, \"text\": {\"field\": \"Type\", \"type\": \"nominal\"}, \"x\": {\"field\": \"Year\", \"type\": \"nominal\"}, \"y\": {\"field\": \"stack_mid\", \"type\": \"quantitative\"}}}, {\"data\": {\"name\": \"data-47ce2547f6e85426df5c3f727c2ed763\"}, \"mark\": {\"type\": \"text\", \"align\": \"left\", \"dx\": 20, \"dy\": -2, \"fontSize\": 14, \"fontWeight\": \"bold\"}, \"encoding\": {\"color\": {\"field\": \"Type\", \"legend\": null, \"type\": \"nominal\"}, \"text\": {\"field\": \"Type\", \"type\": \"nominal\"}, \"x\": {\"field\": \"Year\", \"type\": \"nominal\"}, \"y\": {\"field\": \"stack_mid\", \"type\": \"quantitative\"}}}, {\"data\": {\"name\": \"data-1690e37dc20a99e2e63479b9d54df901\"}, \"mark\": {\"type\": \"text\", \"align\": \"left\", \"dx\": 20, \"dy\": 0, \"fontSize\": 14, \"fontWeight\": \"bold\"}, \"encoding\": {\"color\": {\"field\": \"Type\", \"legend\": null, \"type\": \"nominal\"}, \"text\": {\"field\": \"Type\", \"type\": \"nominal\"}, \"x\": {\"field\": \"Year\", \"type\": \"nominal\"}, \"y\": {\"field\": \"stack_mid\", \"type\": \"quantitative\"}}}]}], \"height\": 400, \"title\": {\"text\": \"Market sector investment in infrastructure\", \"fontSize\": 20}, \"width\": 600, \"$schema\": \"https://vega.github.io/schema/vega-lite/v5.20.1.json\", \"datasets\": {\"data-2769651cf709111b7a8dacb81788152f\": [{\"Year\": 1997, \"Type\": \"Energy\", \"Amount\": 729, \"stack_top\": 729, \"stack_bottom\": 0, \"stack_mid\": 364.5}, {\"Year\": 1997, \"Type\": \"Mining and quarrying\", \"Amount\": 8737, \"stack_top\": 9466, \"stack_bottom\": 729, \"stack_mid\": 5097.5}, {\"Year\": 1997, \"Type\": \"Other\", \"Amount\": 1377, \"stack_top\": 10843, \"stack_bottom\": 9466, \"stack_mid\": 10154.5}, {\"Year\": 1997, \"Type\": \"Sewerage and waste\", \"Amount\": 2100, \"stack_top\": 12943, \"stack_bottom\": 10843, \"stack_mid\": 11893.0}, {\"Year\": 1997, \"Type\": \"Telecommunications\", \"Amount\": 2305, \"stack_top\": 15248, \"stack_bottom\": 12943, \"stack_mid\": 14095.5}, {\"Year\": 1997, \"Type\": \"Transportation\", \"Amount\": 564, \"stack_top\": 15812, \"stack_bottom\": 15248, \"stack_mid\": 15530.0}, {\"Year\": 1997, \"Type\": \"Water supply\", \"Amount\": 3169, \"stack_top\": 18981, \"stack_bottom\": 15812, \"stack_mid\": 17396.5}, {\"Year\": 1998, \"Type\": \"Energy\", \"Amount\": 1399, \"stack_top\": 1399, \"stack_bottom\": 0, \"stack_mid\": 699.5}, {\"Year\": 1998, \"Type\": \"Mining and quarrying\", \"Amount\": 11624, \"stack_top\": 13023, \"stack_bottom\": 1399, \"stack_mid\": 7211.0}, {\"Year\": 1998, \"Type\": \"Other\", \"Amount\": 1472, \"stack_top\": 14495, \"stack_bottom\": 13023, \"stack_mid\": 13759.0}, {\"Year\": 1998, \"Type\": \"Sewerage and waste\", \"Amount\": 1505, \"stack_top\": 16000, \"stack_bottom\": 14495, \"stack_mid\": 15247.5}, {\"Year\": 1998, \"Type\": \"Telecommunications\", \"Amount\": 1028, \"stack_top\": 17028, \"stack_bottom\": 16000, \"stack_mid\": 16514.0}, {\"Year\": 1998, \"Type\": \"Transportation\", \"Amount\": 1188, \"stack_top\": 18216, \"stack_bottom\": 17028, \"stack_mid\": 17622.0}, {\"Year\": 1998, \"Type\": \"Water supply\", \"Amount\": 2824, \"stack_top\": 21040, \"stack_bottom\": 18216, \"stack_mid\": 19628.0}, {\"Year\": 1999, \"Type\": \"Energy\", \"Amount\": 1838, \"stack_top\": 1838, \"stack_bottom\": 0, \"stack_mid\": 919.0}, {\"Year\": 1999, \"Type\": \"Mining and quarrying\", \"Amount\": 8224, \"stack_top\": 10062, \"stack_bottom\": 1838, \"stack_mid\": 5950.0}, {\"Year\": 1999, \"Type\": \"Other\", \"Amount\": 1334, \"stack_top\": 11396, \"stack_bottom\": 10062, \"stack_mid\": 10729.0}, {\"Year\": 1999, \"Type\": \"Sewerage and waste\", \"Amount\": 1771, \"stack_top\": 13167, \"stack_bottom\": 11396, \"stack_mid\": 12281.5}, {\"Year\": 1999, \"Type\": \"Telecommunications\", \"Amount\": 2071, \"stack_top\": 15238, \"stack_bottom\": 13167, \"stack_mid\": 14202.5}, {\"Year\": 1999, \"Type\": \"Transportation\", \"Amount\": 1221, \"stack_top\": 16459, \"stack_bottom\": 15238, \"stack_mid\": 15848.5}, {\"Year\": 1999, \"Type\": \"Water supply\", \"Amount\": 3690, \"stack_top\": 20149, \"stack_bottom\": 16459, \"stack_mid\": 18304.0}, {\"Year\": 2000, \"Type\": \"Energy\", \"Amount\": 907, \"stack_top\": 907, \"stack_bottom\": 0, \"stack_mid\": 453.5}, {\"Year\": 2000, \"Type\": \"Mining and quarrying\", \"Amount\": 6266, \"stack_top\": 7173, \"stack_bottom\": 907, \"stack_mid\": 4040.0}, {\"Year\": 2000, \"Type\": \"Other\", \"Amount\": 1313, \"stack_top\": 8486, \"stack_bottom\": 7173, \"stack_mid\": 7829.5}, {\"Year\": 2000, \"Type\": \"Sewerage and waste\", \"Amount\": 1448, \"stack_top\": 9934, \"stack_bottom\": 8486, \"stack_mid\": 9210.0}, {\"Year\": 2000, \"Type\": \"Telecommunications\", \"Amount\": 2760, \"stack_top\": 12694, \"stack_bottom\": 9934, \"stack_mid\": 11314.0}, {\"Year\": 2000, \"Type\": \"Transportation\", \"Amount\": 1460, \"stack_top\": 14154, \"stack_bottom\": 12694, \"stack_mid\": 13424.0}, {\"Year\": 2000, \"Type\": \"Water supply\", \"Amount\": 3946, \"stack_top\": 18100, \"stack_bottom\": 14154, \"stack_mid\": 16127.0}, {\"Year\": 2001, \"Type\": \"Energy\", \"Amount\": 843, \"stack_top\": 843, \"stack_bottom\": 0, \"stack_mid\": 421.5}, {\"Year\": 2001, \"Type\": \"Mining and quarrying\", \"Amount\": 7706, \"stack_top\": 8549, \"stack_bottom\": 843, \"stack_mid\": 4696.0}, {\"Year\": 2001, \"Type\": \"Other\", \"Amount\": 1388, \"stack_top\": 9937, \"stack_bottom\": 8549, \"stack_mid\": 9243.0}, {\"Year\": 2001, \"Type\": \"Sewerage and waste\", \"Amount\": 1608, \"stack_top\": 11545, \"stack_bottom\": 9937, \"stack_mid\": 10741.0}, {\"Year\": 2001, \"Type\": \"Telecommunications\", \"Amount\": 3051, \"stack_top\": 14596, \"stack_bottom\": 11545, \"stack_mid\": 13070.5}, {\"Year\": 2001, \"Type\": \"Transportation\", \"Amount\": 1486, \"stack_top\": 16082, \"stack_bottom\": 14596, \"stack_mid\": 15339.0}, {\"Year\": 2001, \"Type\": \"Water supply\", \"Amount\": 891, \"stack_top\": 16973, \"stack_bottom\": 16082, \"stack_mid\": 16527.5}, {\"Year\": 2002, \"Type\": \"Energy\", \"Amount\": 401, \"stack_top\": 401, \"stack_bottom\": 0, \"stack_mid\": 200.5}, {\"Year\": 2002, \"Type\": \"Mining and quarrying\", \"Amount\": 8035, \"stack_top\": 8436, \"stack_bottom\": 401, \"stack_mid\": 4418.5}, {\"Year\": 2002, \"Type\": \"Other\", \"Amount\": 1212, \"stack_top\": 9648, \"stack_bottom\": 8436, \"stack_mid\": 9042.0}, {\"Year\": 2002, \"Type\": \"Sewerage and waste\", \"Amount\": 1549, \"stack_top\": 11197, \"stack_bottom\": 9648, \"stack_mid\": 10422.5}, {\"Year\": 2002, \"Type\": \"Telecommunications\", \"Amount\": 785, \"stack_top\": 11982, \"stack_bottom\": 11197, \"stack_mid\": 11589.5}, {\"Year\": 2002, \"Type\": \"Transportation\", \"Amount\": 2042, \"stack_top\": 14024, \"stack_bottom\": 11982, \"stack_mid\": 13003.0}, {\"Year\": 2002, \"Type\": \"Water supply\", \"Amount\": 1088, \"stack_top\": 15112, \"stack_bottom\": 14024, \"stack_mid\": 14568.0}, {\"Year\": 2003, \"Type\": \"Energy\", \"Amount\": 272, \"stack_top\": 272, \"stack_bottom\": 0, \"stack_mid\": 136.0}, {\"Year\": 2003, \"Type\": \"Mining and quarrying\", \"Amount\": 6198, \"stack_top\": 6470, \"stack_bottom\": 272, \"stack_mid\": 3371.0}, {\"Year\": 2003, \"Type\": \"Other\", \"Amount\": 1331, \"stack_top\": 7801, \"stack_bottom\": 6470, \"stack_mid\": 7135.5}, {\"Year\": 2003, \"Type\": \"Sewerage and waste\", \"Amount\": 1971, \"stack_top\": 9772, \"stack_bottom\": 7801, \"stack_mid\": 8786.5}, {\"Year\": 2003, \"Type\": \"Telecommunications\", \"Amount\": 691, \"stack_top\": 10463, \"stack_bottom\": 9772, \"stack_mid\": 10117.5}, {\"Year\": 2003, \"Type\": \"Transportation\", \"Amount\": 2865, \"stack_top\": 13328, \"stack_bottom\": 10463, \"stack_mid\": 11895.5}, {\"Year\": 2003, \"Type\": \"Water supply\", \"Amount\": 1160, \"stack_top\": 14488, \"stack_bottom\": 13328, \"stack_mid\": 13908.0}, {\"Year\": 2004, \"Type\": \"Energy\", \"Amount\": 786, \"stack_top\": 786, \"stack_bottom\": 0, \"stack_mid\": 393.0}, {\"Year\": 2004, \"Type\": \"Mining and quarrying\", \"Amount\": 5646, \"stack_top\": 6432, \"stack_bottom\": 786, \"stack_mid\": 3609.0}, {\"Year\": 2004, \"Type\": \"Other\", \"Amount\": 1229, \"stack_top\": 7661, \"stack_bottom\": 6432, \"stack_mid\": 7046.5}, {\"Year\": 2004, \"Type\": \"Sewerage and waste\", \"Amount\": 1918, \"stack_top\": 9579, \"stack_bottom\": 7661, \"stack_mid\": 8620.0}, {\"Year\": 2004, \"Type\": \"Telecommunications\", \"Amount\": 1252, \"stack_top\": 10831, \"stack_bottom\": 9579, \"stack_mid\": 10205.0}, {\"Year\": 2004, \"Type\": \"Transportation\", \"Amount\": 1846, \"stack_top\": 12677, \"stack_bottom\": 10831, \"stack_mid\": 11754.0}, {\"Year\": 2004, \"Type\": \"Water supply\", \"Amount\": 1431, \"stack_top\": 14108, \"stack_bottom\": 12677, \"stack_mid\": 13392.5}, {\"Year\": 2005, \"Type\": \"Energy\", \"Amount\": 2203, \"stack_top\": 2203, \"stack_bottom\": 0, \"stack_mid\": 1101.5}, {\"Year\": 2005, \"Type\": \"Mining and quarrying\", \"Amount\": 4320, \"stack_top\": 6523, \"stack_bottom\": 2203, \"stack_mid\": 4363.0}, {\"Year\": 2005, \"Type\": \"Other\", \"Amount\": 1116, \"stack_top\": 7639, \"stack_bottom\": 6523, \"stack_mid\": 7081.0}, {\"Year\": 2005, \"Type\": \"Sewerage and waste\", \"Amount\": 1811, \"stack_top\": 9450, \"stack_bottom\": 7639, \"stack_mid\": 8544.5}, {\"Year\": 2005, \"Type\": \"Telecommunications\", \"Amount\": 536, \"stack_top\": 9986, \"stack_bottom\": 9450, \"stack_mid\": 9718.0}, {\"Year\": 2005, \"Type\": \"Transportation\", \"Amount\": 1204, \"stack_top\": 11190, \"stack_bottom\": 9986, \"stack_mid\": 10588.0}, {\"Year\": 2005, \"Type\": \"Water supply\", \"Amount\": 1573, \"stack_top\": 12763, \"stack_bottom\": 11190, \"stack_mid\": 11976.5}, {\"Year\": 2006, \"Type\": \"Energy\", \"Amount\": 3133, \"stack_top\": 3133, \"stack_bottom\": 0, \"stack_mid\": 1566.5}, {\"Year\": 2006, \"Type\": \"Mining and quarrying\", \"Amount\": 7511, \"stack_top\": 10644, \"stack_bottom\": 3133, \"stack_mid\": 6888.5}, {\"Year\": 2006, \"Type\": \"Other\", \"Amount\": 1148, \"stack_top\": 11792, \"stack_bottom\": 10644, \"stack_mid\": 11218.0}, {\"Year\": 2006, \"Type\": \"Sewerage and waste\", \"Amount\": 1892, \"stack_top\": 13684, \"stack_bottom\": 11792, \"stack_mid\": 12738.0}, {\"Year\": 2006, \"Type\": \"Telecommunications\", \"Amount\": 454, \"stack_top\": 14138, \"stack_bottom\": 13684, \"stack_mid\": 13911.0}, {\"Year\": 2006, \"Type\": \"Transportation\", \"Amount\": 1015, \"stack_top\": 15153, \"stack_bottom\": 14138, \"stack_mid\": 14645.5}, {\"Year\": 2006, \"Type\": \"Water supply\", \"Amount\": 1971, \"stack_top\": 17124, \"stack_bottom\": 15153, \"stack_mid\": 16138.5}, {\"Year\": 2007, \"Type\": \"Energy\", \"Amount\": 4378, \"stack_top\": 4378, \"stack_bottom\": 0, \"stack_mid\": 2189.0}, {\"Year\": 2007, \"Type\": \"Mining and quarrying\", \"Amount\": 6912, \"stack_top\": 11290, \"stack_bottom\": 4378, \"stack_mid\": 7834.0}, {\"Year\": 2007, \"Type\": \"Other\", \"Amount\": 1156, \"stack_top\": 12446, \"stack_bottom\": 11290, \"stack_mid\": 11868.0}, {\"Year\": 2007, \"Type\": \"Sewerage and waste\", \"Amount\": 1672, \"stack_top\": 14118, \"stack_bottom\": 12446, \"stack_mid\": 13282.0}, {\"Year\": 2007, \"Type\": \"Telecommunications\", \"Amount\": 581, \"stack_top\": 14699, \"stack_bottom\": 14118, \"stack_mid\": 14408.5}, {\"Year\": 2007, \"Type\": \"Transportation\", \"Amount\": 720, \"stack_top\": 15419, \"stack_bottom\": 14699, \"stack_mid\": 15059.0}, {\"Year\": 2007, \"Type\": \"Water supply\", \"Amount\": 1418, \"stack_top\": 16837, \"stack_bottom\": 15419, \"stack_mid\": 16128.0}, {\"Year\": 2008, \"Type\": \"Energy\", \"Amount\": 4547, \"stack_top\": 4547, \"stack_bottom\": 0, \"stack_mid\": 2273.5}, {\"Year\": 2008, \"Type\": \"Mining and quarrying\", \"Amount\": 5122, \"stack_top\": 9669, \"stack_bottom\": 4547, \"stack_mid\": 7108.0}, {\"Year\": 2008, \"Type\": \"Other\", \"Amount\": 1108, \"stack_top\": 10777, \"stack_bottom\": 9669, \"stack_mid\": 10223.0}, {\"Year\": 2008, \"Type\": \"Sewerage and waste\", \"Amount\": 1713, \"stack_top\": 12490, \"stack_bottom\": 10777, \"stack_mid\": 11633.5}, {\"Year\": 2008, \"Type\": \"Telecommunications\", \"Amount\": 488, \"stack_top\": 12978, \"stack_bottom\": 12490, \"stack_mid\": 12734.0}, {\"Year\": 2008, \"Type\": \"Transportation\", \"Amount\": 766, \"stack_top\": 13744, \"stack_bottom\": 12978, \"stack_mid\": 13361.0}, {\"Year\": 2008, \"Type\": \"Water supply\", \"Amount\": 1025, \"stack_top\": 14769, \"stack_bottom\": 13744, \"stack_mid\": 14256.5}, {\"Year\": 2009, \"Type\": \"Energy\", \"Amount\": 3729, \"stack_top\": 3729, \"stack_bottom\": 0, \"stack_mid\": 1864.5}, {\"Year\": 2009, \"Type\": \"Mining and quarrying\", \"Amount\": 5115, \"stack_top\": 8844, \"stack_bottom\": 3729, \"stack_mid\": 6286.5}, {\"Year\": 2009, \"Type\": \"Other\", \"Amount\": 870, \"stack_top\": 9714, \"stack_bottom\": 8844, \"stack_mid\": 9279.0}, {\"Year\": 2009, \"Type\": \"Sewerage and waste\", \"Amount\": 989, \"stack_top\": 10703, \"stack_bottom\": 9714, \"stack_mid\": 10208.5}, {\"Year\": 2009, \"Type\": \"Telecommunications\", \"Amount\": 150, \"stack_top\": 10853, \"stack_bottom\": 10703, \"stack_mid\": 10778.0}, {\"Year\": 2009, \"Type\": \"Transportation\", \"Amount\": 403, \"stack_top\": 11256, \"stack_bottom\": 10853, \"stack_mid\": 11054.5}, {\"Year\": 2009, \"Type\": \"Water supply\", \"Amount\": 1379, \"stack_top\": 12635, \"stack_bottom\": 11256, \"stack_mid\": 11945.5}, {\"Year\": 2010, \"Type\": \"Energy\", \"Amount\": 4010, \"stack_top\": 4010, \"stack_bottom\": 0, \"stack_mid\": 2005.0}, {\"Year\": 2010, \"Type\": \"Mining and quarrying\", \"Amount\": 4050, \"stack_top\": 8060, \"stack_bottom\": 4010, \"stack_mid\": 6035.0}, {\"Year\": 2010, \"Type\": \"Other\", \"Amount\": 942, \"stack_top\": 9002, \"stack_bottom\": 8060, \"stack_mid\": 8531.0}, {\"Year\": 2010, \"Type\": \"Sewerage and waste\", \"Amount\": 810, \"stack_top\": 9812, \"stack_bottom\": 9002, \"stack_mid\": 9407.0}, {\"Year\": 2010, \"Type\": \"Telecommunications\", \"Amount\": 114, \"stack_top\": 9926, \"stack_bottom\": 9812, \"stack_mid\": 9869.0}, {\"Year\": 2010, \"Type\": \"Transportation\", \"Amount\": 408, \"stack_top\": 10334, \"stack_bottom\": 9926, \"stack_mid\": 10130.0}, {\"Year\": 2010, \"Type\": \"Water supply\", \"Amount\": 1160, \"stack_top\": 11494, \"stack_bottom\": 10334, \"stack_mid\": 10914.0}, {\"Year\": 2011, \"Type\": \"Energy\", \"Amount\": 4782, \"stack_top\": 4782, \"stack_bottom\": 0, \"stack_mid\": 2391.0}, {\"Year\": 2011, \"Type\": \"Mining and quarrying\", \"Amount\": 5924, \"stack_top\": 10706, \"stack_bottom\": 4782, \"stack_mid\": 7744.0}, {\"Year\": 2011, \"Type\": \"Other\", \"Amount\": 1253, \"stack_top\": 11959, \"stack_bottom\": 10706, \"stack_mid\": 11332.5}, {\"Year\": 2011, \"Type\": \"Sewerage and waste\", \"Amount\": 569, \"stack_top\": 12528, \"stack_bottom\": 11959, \"stack_mid\": 12243.5}, {\"Year\": 2011, \"Type\": \"Telecommunications\", \"Amount\": 303, \"stack_top\": 12831, \"stack_bottom\": 12528, \"stack_mid\": 12679.5}, {\"Year\": 2011, \"Type\": \"Transportation\", \"Amount\": 440, \"stack_top\": 13271, \"stack_bottom\": 12831, \"stack_mid\": 13051.0}, {\"Year\": 2011, \"Type\": \"Water supply\", \"Amount\": 1306, \"stack_top\": 14577, \"stack_bottom\": 13271, \"stack_mid\": 13924.0}, {\"Year\": 2012, \"Type\": \"Energy\", \"Amount\": 5470, \"stack_top\": 5470, \"stack_bottom\": 0, \"stack_mid\": 2735.0}, {\"Year\": 2012, \"Type\": \"Mining and quarrying\", \"Amount\": 8382, \"stack_top\": 13852, \"stack_bottom\": 5470, \"stack_mid\": 9661.0}, {\"Year\": 2012, \"Type\": \"Other\", \"Amount\": 1380, \"stack_top\": 15232, \"stack_bottom\": 13852, \"stack_mid\": 14542.0}, {\"Year\": 2012, \"Type\": \"Sewerage and waste\", \"Amount\": 534, \"stack_top\": 15766, \"stack_bottom\": 15232, \"stack_mid\": 15499.0}, {\"Year\": 2012, \"Type\": \"Telecommunications\", \"Amount\": 510, \"stack_top\": 16276, \"stack_bottom\": 15766, \"stack_mid\": 16021.0}, {\"Year\": 2012, \"Type\": \"Transportation\", \"Amount\": 384, \"stack_top\": 16660, \"stack_bottom\": 16276, \"stack_mid\": 16468.0}, {\"Year\": 2012, \"Type\": \"Water supply\", \"Amount\": 1448, \"stack_top\": 18108, \"stack_bottom\": 16660, \"stack_mid\": 17384.0}, {\"Year\": 2013, \"Type\": \"Energy\", \"Amount\": 6078, \"stack_top\": 6078, \"stack_bottom\": 0, \"stack_mid\": 3039.0}, {\"Year\": 2013, \"Type\": \"Mining and quarrying\", \"Amount\": 10299, \"stack_top\": 16377, \"stack_bottom\": 6078, \"stack_mid\": 11227.5}, {\"Year\": 2013, \"Type\": \"Other\", \"Amount\": 1294, \"stack_top\": 17671, \"stack_bottom\": 16377, \"stack_mid\": 17024.0}, {\"Year\": 2013, \"Type\": \"Sewerage and waste\", \"Amount\": 648, \"stack_top\": 18319, \"stack_bottom\": 17671, \"stack_mid\": 17995.0}, {\"Year\": 2013, \"Type\": \"Telecommunications\", \"Amount\": 622, \"stack_top\": 18941, \"stack_bottom\": 18319, \"stack_mid\": 18630.0}, {\"Year\": 2013, \"Type\": \"Transportation\", \"Amount\": 508, \"stack_top\": 19449, \"stack_bottom\": 18941, \"stack_mid\": 19195.0}, {\"Year\": 2013, \"Type\": \"Water supply\", \"Amount\": 1678, \"stack_top\": 21127, \"stack_bottom\": 19449, \"stack_mid\": 20288.0}, {\"Year\": 2014, \"Type\": \"Energy\", \"Amount\": 5518, \"stack_top\": 5518, \"stack_bottom\": 0, \"stack_mid\": 2759.0}, {\"Year\": 2014, \"Type\": \"Mining and quarrying\", \"Amount\": 12319, \"stack_top\": 17837, \"stack_bottom\": 5518, \"stack_mid\": 11677.5}, {\"Year\": 2014, \"Type\": \"Other\", \"Amount\": 1157, \"stack_top\": 18994, \"stack_bottom\": 17837, \"stack_mid\": 18415.5}, {\"Year\": 2014, \"Type\": \"Sewerage and waste\", \"Amount\": 650, \"stack_top\": 19644, \"stack_bottom\": 18994, \"stack_mid\": 19319.0}, {\"Year\": 2014, \"Type\": \"Telecommunications\", \"Amount\": 609, \"stack_top\": 20253, \"stack_bottom\": 19644, \"stack_mid\": 19948.5}, {\"Year\": 2014, \"Type\": \"Transportation\", \"Amount\": 369, \"stack_top\": 20622, \"stack_bottom\": 20253, \"stack_mid\": 20437.5}, {\"Year\": 2014, \"Type\": \"Water supply\", \"Amount\": 1196, \"stack_top\": 21818, \"stack_bottom\": 20622, \"stack_mid\": 21220.0}, {\"Year\": 2015, \"Type\": \"Energy\", \"Amount\": 7411, \"stack_top\": 7411, \"stack_bottom\": 0, \"stack_mid\": 3705.5}, {\"Year\": 2015, \"Type\": \"Mining and quarrying\", \"Amount\": 11540, \"stack_top\": 18951, \"stack_bottom\": 7411, \"stack_mid\": 13181.0}, {\"Year\": 2015, \"Type\": \"Other\", \"Amount\": 1385, \"stack_top\": 20336, \"stack_bottom\": 18951, \"stack_mid\": 19643.5}, {\"Year\": 2015, \"Type\": \"Sewerage and waste\", \"Amount\": 955, \"stack_top\": 21291, \"stack_bottom\": 20336, \"stack_mid\": 20813.5}, {\"Year\": 2015, \"Type\": \"Telecommunications\", \"Amount\": 1129, \"stack_top\": 22420, \"stack_bottom\": 21291, \"stack_mid\": 21855.5}, {\"Year\": 2015, \"Type\": \"Transportation\", \"Amount\": 442, \"stack_top\": 22862, \"stack_bottom\": 22420, \"stack_mid\": 22641.0}, {\"Year\": 2015, \"Type\": \"Water supply\", \"Amount\": 1398, \"stack_top\": 24260, \"stack_bottom\": 22862, \"stack_mid\": 23561.0}, {\"Year\": 2016, \"Type\": \"Energy\", \"Amount\": 8029, \"stack_top\": 8029, \"stack_bottom\": 0, \"stack_mid\": 4014.5}, {\"Year\": 2016, \"Type\": \"Mining and quarrying\", \"Amount\": 11164, \"stack_top\": 19193, \"stack_bottom\": 8029, \"stack_mid\": 13611.0}, {\"Year\": 2016, \"Type\": \"Other\", \"Amount\": 1313, \"stack_top\": 20506, \"stack_bottom\": 19193, \"stack_mid\": 19849.5}, {\"Year\": 2016, \"Type\": \"Sewerage and waste\", \"Amount\": 825, \"stack_top\": 21331, \"stack_bottom\": 20506, \"stack_mid\": 20918.5}, {\"Year\": 2016, \"Type\": \"Telecommunications\", \"Amount\": 1736, \"stack_top\": 23067, \"stack_bottom\": 21331, \"stack_mid\": 22199.0}, {\"Year\": 2016, \"Type\": \"Transportation\", \"Amount\": 485, \"stack_top\": 23552, \"stack_bottom\": 23067, \"stack_mid\": 23309.5}, {\"Year\": 2016, \"Type\": \"Water supply\", \"Amount\": 1709, \"stack_top\": 25261, \"stack_bottom\": 23552, \"stack_mid\": 24406.5}, {\"Year\": 2017, \"Type\": \"Energy\", \"Amount\": 7884, \"stack_top\": 7884, \"stack_bottom\": 0, \"stack_mid\": 3942.0}, {\"Year\": 2017, \"Type\": \"Mining and quarrying\", \"Amount\": 5308, \"stack_top\": 13192, \"stack_bottom\": 7884, \"stack_mid\": 10538.0}, {\"Year\": 2017, \"Type\": \"Other\", \"Amount\": 1364, \"stack_top\": 14556, \"stack_bottom\": 13192, \"stack_mid\": 13874.0}, {\"Year\": 2017, \"Type\": \"Sewerage and waste\", \"Amount\": 781, \"stack_top\": 15337, \"stack_bottom\": 14556, \"stack_mid\": 14946.5}, {\"Year\": 2017, \"Type\": \"Telecommunications\", \"Amount\": 1488, \"stack_top\": 16825, \"stack_bottom\": 15337, \"stack_mid\": 16081.0}, {\"Year\": 2017, \"Type\": \"Transportation\", \"Amount\": 460, \"stack_top\": 17285, \"stack_bottom\": 16825, \"stack_mid\": 17055.0}, {\"Year\": 2017, \"Type\": \"Water supply\", \"Amount\": 2082, \"stack_top\": 19367, \"stack_bottom\": 17285, \"stack_mid\": 18326.0}, {\"Year\": 2018, \"Type\": \"Energy\", \"Amount\": 7013, \"stack_top\": 7013, \"stack_bottom\": 0, \"stack_mid\": 3506.5}, {\"Year\": 2018, \"Type\": \"Mining and quarrying\", \"Amount\": 6225, \"stack_top\": 13238, \"stack_bottom\": 7013, \"stack_mid\": 10125.5}, {\"Year\": 2018, \"Type\": \"Other\", \"Amount\": 1608, \"stack_top\": 14846, \"stack_bottom\": 13238, \"stack_mid\": 14042.0}, {\"Year\": 2018, \"Type\": \"Sewerage and waste\", \"Amount\": 832, \"stack_top\": 15678, \"stack_bottom\": 14846, \"stack_mid\": 15262.0}, {\"Year\": 2018, \"Type\": \"Telecommunications\", \"Amount\": 1431, \"stack_top\": 17109, \"stack_bottom\": 15678, \"stack_mid\": 16393.5}, {\"Year\": 2018, \"Type\": \"Transportation\", \"Amount\": 559, \"stack_top\": 17668, \"stack_bottom\": 17109, \"stack_mid\": 17388.5}, {\"Year\": 2018, \"Type\": \"Water supply\", \"Amount\": 2083, \"stack_top\": 19751, \"stack_bottom\": 17668, \"stack_mid\": 18709.5}, {\"Year\": 2019, \"Type\": \"Energy\", \"Amount\": 7097, \"stack_top\": 7097, \"stack_bottom\": 0, \"stack_mid\": 3548.5}, {\"Year\": 2019, \"Type\": \"Mining and quarrying\", \"Amount\": 6055, \"stack_top\": 13152, \"stack_bottom\": 7097, \"stack_mid\": 10124.5}, {\"Year\": 2019, \"Type\": \"Other\", \"Amount\": 2141, \"stack_top\": 15293, \"stack_bottom\": 13152, \"stack_mid\": 14222.5}, {\"Year\": 2019, \"Type\": \"Sewerage and waste\", \"Amount\": 452, \"stack_top\": 15745, \"stack_bottom\": 15293, \"stack_mid\": 15519.0}, {\"Year\": 2019, \"Type\": \"Telecommunications\", \"Amount\": 1226, \"stack_top\": 16971, \"stack_bottom\": 15745, \"stack_mid\": 16358.0}, {\"Year\": 2019, \"Type\": \"Transportation\", \"Amount\": 549, \"stack_top\": 17520, \"stack_bottom\": 16971, \"stack_mid\": 17245.5}, {\"Year\": 2019, \"Type\": \"Water supply\", \"Amount\": 2194, \"stack_top\": 19714, \"stack_bottom\": 17520, \"stack_mid\": 18617.0}, {\"Year\": 2020, \"Type\": \"Energy\", \"Amount\": 5655, \"stack_top\": 5655, \"stack_bottom\": 0, \"stack_mid\": 2827.5}, {\"Year\": 2020, \"Type\": \"Mining and quarrying\", \"Amount\": 4088, \"stack_top\": 9743, \"stack_bottom\": 5655, \"stack_mid\": 7699.0}, {\"Year\": 2020, \"Type\": \"Other\", \"Amount\": 1722, \"stack_top\": 11465, \"stack_bottom\": 9743, \"stack_mid\": 10604.0}, {\"Year\": 2020, \"Type\": \"Sewerage and waste\", \"Amount\": 220, \"stack_top\": 11685, \"stack_bottom\": 11465, \"stack_mid\": 11575.0}, {\"Year\": 2020, \"Type\": \"Telecommunications\", \"Amount\": 971, \"stack_top\": 12656, \"stack_bottom\": 11685, \"stack_mid\": 12170.5}, {\"Year\": 2020, \"Type\": \"Transportation\", \"Amount\": 374, \"stack_top\": 13030, \"stack_bottom\": 12656, \"stack_mid\": 12843.0}, {\"Year\": 2020, \"Type\": \"Water supply\", \"Amount\": 1484, \"stack_top\": 14514, \"stack_bottom\": 13030, \"stack_mid\": 13772.0}, {\"Year\": 2021, \"Type\": \"Energy\", \"Amount\": 6642, \"stack_top\": 6642, \"stack_bottom\": 0, \"stack_mid\": 3321.0}, {\"Year\": 2021, \"Type\": \"Mining and quarrying\", \"Amount\": 3119, \"stack_top\": 9761, \"stack_bottom\": 6642, \"stack_mid\": 8201.5}, {\"Year\": 2021, \"Type\": \"Other\", \"Amount\": 1836, \"stack_top\": 11597, \"stack_bottom\": 9761, \"stack_mid\": 10679.0}, {\"Year\": 2021, \"Type\": \"Sewerage and waste\", \"Amount\": 259, \"stack_top\": 11856, \"stack_bottom\": 11597, \"stack_mid\": 11726.5}, {\"Year\": 2021, \"Type\": \"Telecommunications\", \"Amount\": 1037, \"stack_top\": 12893, \"stack_bottom\": 11856, \"stack_mid\": 12374.5}, {\"Year\": 2021, \"Type\": \"Transportation\", \"Amount\": 303, \"stack_top\": 13196, \"stack_bottom\": 12893, \"stack_mid\": 13044.5}, {\"Year\": 2021, \"Type\": \"Water supply\", \"Amount\": 1277, \"stack_top\": 14473, \"stack_bottom\": 13196, \"stack_mid\": 13834.5}, {\"Year\": 2022, \"Type\": \"Energy\", \"Amount\": 7331, \"stack_top\": 7331, \"stack_bottom\": 0, \"stack_mid\": 3665.5}, {\"Year\": 2022, \"Type\": \"Mining and quarrying\", \"Amount\": 3525, \"stack_top\": 10856, \"stack_bottom\": 7331, \"stack_mid\": 9093.5}, {\"Year\": 2022, \"Type\": \"Other\", \"Amount\": 1840, \"stack_top\": 12696, \"stack_bottom\": 10856, \"stack_mid\": 11776.0}, {\"Year\": 2022, \"Type\": \"Sewerage and waste\", \"Amount\": 191, \"stack_top\": 12887, \"stack_bottom\": 12696, \"stack_mid\": 12791.5}, {\"Year\": 2022, \"Type\": \"Telecommunications\", \"Amount\": 1112, \"stack_top\": 13999, \"stack_bottom\": 12887, \"stack_mid\": 13443.0}, {\"Year\": 2022, \"Type\": \"Transportation\", \"Amount\": 344, \"stack_top\": 14343, \"stack_bottom\": 13999, \"stack_mid\": 14171.0}, {\"Year\": 2022, \"Type\": \"Water supply\", \"Amount\": 1329, \"stack_top\": 15672, \"stack_bottom\": 14343, \"stack_mid\": 15007.5}, {\"Year\": 2023, \"Type\": \"Energy\", \"Amount\": 7754, \"stack_top\": 7754, \"stack_bottom\": 0, \"stack_mid\": 3877.0}, {\"Year\": 2023, \"Type\": \"Mining and quarrying\", \"Amount\": 4211, \"stack_top\": 11965, \"stack_bottom\": 7754, \"stack_mid\": 9859.5}, {\"Year\": 2023, \"Type\": \"Other\", \"Amount\": 2008, \"stack_top\": 13973, \"stack_bottom\": 11965, \"stack_mid\": 12969.0}, {\"Year\": 2023, \"Type\": \"Sewerage and waste\", \"Amount\": 167, \"stack_top\": 14140, \"stack_bottom\": 13973, \"stack_mid\": 14056.5}, {\"Year\": 2023, \"Type\": \"Telecommunications\", \"Amount\": 1312, \"stack_top\": 15452, \"stack_bottom\": 14140, \"stack_mid\": 14796.0}, {\"Year\": 2023, \"Type\": \"Transportation\", \"Amount\": 363, \"stack_top\": 15815, \"stack_bottom\": 15452, \"stack_mid\": 15633.5}, {\"Year\": 2023, \"Type\": \"Water supply\", \"Amount\": 1529, \"stack_top\": 17344, \"stack_bottom\": 15815, \"stack_mid\": 16579.5}, {\"Year\": 2024, \"Type\": \"Energy\", \"Amount\": 9186, \"stack_top\": 9186, \"stack_bottom\": 0, \"stack_mid\": 4593.0}, {\"Year\": 2024, \"Type\": \"Mining and quarrying\", \"Amount\": 5553, \"stack_top\": 14739, \"stack_bottom\": 9186, \"stack_mid\": 11962.5}, {\"Year\": 2024, \"Type\": \"Other\", \"Amount\": 1895, \"stack_top\": 16634, \"stack_bottom\": 14739, \"stack_mid\": 15686.5}, {\"Year\": 2024, \"Type\": \"Sewerage and waste\", \"Amount\": 194, \"stack_top\": 16828, \"stack_bottom\": 16634, \"stack_mid\": 16731.0}, {\"Year\": 2024, \"Type\": \"Telecommunications\", \"Amount\": 1235, \"stack_top\": 18063, \"stack_bottom\": 16828, \"stack_mid\": 17445.5}, {\"Year\": 2024, \"Type\": \"Transportation\", \"Amount\": 424, \"stack_top\": 18487, \"stack_bottom\": 18063, \"stack_mid\": 18275.0}, {\"Year\": 2024, \"Type\": \"Water supply\", \"Amount\": 1787, \"stack_top\": 20274, \"stack_bottom\": 18487, \"stack_mid\": 19380.5}], \"data-046b7ebb70a8a84da003533d8ac1185f\": [{\"Year\": 2024, \"Type\": \"Energy\", \"Amount\": 9186, \"stack_top\": 9186, \"stack_bottom\": 0, \"stack_mid\": 4593.0, \"manual_dx\": 20, \"manual_dy\": 0.0}], \"data-0dd6e5504d3fe0e7158a9d91a2107e42\": [{\"Year\": 2024, \"Type\": \"Mining and quarrying\", \"Amount\": 5553, \"stack_top\": 14739, \"stack_bottom\": 9186, \"stack_mid\": 11962.5, \"manual_dx\": 20, \"manual_dy\": 0.0}], \"data-33c79e80d4e8aba1985c351b6168aba6\": [{\"Year\": 2024, \"Type\": \"Other\", \"Amount\": 1895, \"stack_top\": 16634, \"stack_bottom\": 14739, \"stack_mid\": 15686.5, \"manual_dx\": 20, \"manual_dy\": 1.0}], \"data-f97803a79efb649b082b06b50ede1f4d\": [{\"Year\": 2024, \"Type\": \"Sewerage and waste\", \"Amount\": 194, \"stack_top\": 16828, \"stack_bottom\": 16634, \"stack_mid\": 16731.0, \"manual_dx\": 20, \"manual_dy\": 2.0}], \"data-e2f9f3855d53906b6e3c75649594dbba\": [{\"Year\": 2024, \"Type\": \"Telecommunications\", \"Amount\": 1235, \"stack_top\": 18063, \"stack_bottom\": 16828, \"stack_mid\": 17445.5, \"manual_dx\": 20, \"manual_dy\": 0.0}], \"data-47ce2547f6e85426df5c3f727c2ed763\": [{\"Year\": 2024, \"Type\": \"Transportation\", \"Amount\": 424, \"stack_top\": 18487, \"stack_bottom\": 18063, \"stack_mid\": 18275.0, \"manual_dx\": 20, \"manual_dy\": -2.5}], \"data-1690e37dc20a99e2e63479b9d54df901\": [{\"Year\": 2024, \"Type\": \"Water supply\", \"Amount\": 1787, \"stack_top\": 20274, \"stack_bottom\": 18487, \"stack_mid\": 19380.5, \"manual_dx\": 20, \"manual_dy\": 0.0}]}}, {\"mode\": \"vega-lite\"});\n",
       "</script>"
      ],
      "text/plain": [
       "alt.LayerChart(...)"
      ]
     },
     "execution_count": 129,
     "metadata": {},
     "output_type": "execute_result"
    }
   ],
   "source": [
    "# Manual adjustments for text positioning (modify as needed)\n",
    "manual_adjustments = {\n",
    "    # 'Type_name': {'dx': offset_x, 'dy': offset_y}\n",
    "   'Water supply': {'dx': 20, 'dy': 0},\n",
    "   'Transportation': {'dx': 20, 'dy': -2.5},\n",
    "   'Telecommunications': {'dx': 20, 'dy': 0},\n",
    "   'Sewerage and waste': {'dx': 20, 'dy': 2},\n",
    "   'Other': {'dx': 20, 'dy': 1},\n",
    "}\n",
    "\n",
    "# Apply manual adjustments to the dataframe\n",
    "last_points_adj = last_points.copy()\n",
    "last_points_adj['manual_dx'] = 20  # default dx\n",
    "last_points_adj['manual_dy'] = 0   # default dy\n",
    "\n",
    "for type_name, adjustments in manual_adjustments.items():\n",
    "    mask = last_points_adj['Type'] == type_name\n",
    "    if 'dx' in adjustments:\n",
    "        last_points_adj.loc[mask, 'manual_dx'] = adjustments['dx']\n",
    "    if 'dy' in adjustments:\n",
    "        last_points_adj.loc[mask, 'manual_dy'] = adjustments['dy']\n",
    "\n",
    "bars = alt.Chart(inf_sorted).mark_bar().encode(\n",
    "    x=alt.X('Year:N',\n",
    "            title='Source: ONS - Infrastructure in the UK, investment and net stocks', \n",
    "            axis=alt.Axis(labelExpr=\"datum.value % 2 == 0 ? datum.label : ''\", \n",
    "                          labelFontSize=14,\n",
    "                          titleFontSize=12,\n",
    "                          titleX=175,\n",
    "                          titleY=30,\n",
    "                          titleFontStyle='italic')),\n",
    "    y=alt.Y('Amount:Q', \n",
    "            title='Investment',\n",
    "            axis=alt.Axis(labelExpr=\"'£' + datum.value / 1000 + ' bn'\", \n",
    "                          labelFontSize=14, \n",
    "                          titleFontSize=14,\n",
    "                          titleX=-70)),\n",
    "    color=alt.Color('Type:N', sort=type_order, legend=None),\n",
    "    order=alt.Order('Type:N', sort='ascending')\n",
    ")\n",
    "\n",
    "# Create individual text layers for each unique dx/dy combination\n",
    "text_layers = []\n",
    "for _, row in last_points_adj.iterrows():\n",
    "    single_point = last_points_adj[last_points_adj.index == row.name]\n",
    "    text_layer = alt.Chart(single_point).mark_text(\n",
    "        align='left',\n",
    "        fontWeight='bold',\n",
    "        fontSize=14,\n",
    "        dx=int(row['manual_dx']),\n",
    "        dy=int(row['manual_dy'])\n",
    "    ).encode(\n",
    "        x=alt.X('Year:N'),\n",
    "        y=alt.Y('stack_mid:Q'),\n",
    "        text='Type:N',\n",
    "        color=alt.Color('Type:N', legend=None)\n",
    "    )\n",
    "    text_layers.append(text_layer)\n",
    "\n",
    "# Combine all text layers\n",
    "all_text = alt.layer(*text_layers)\n",
    "\n",
    "chart = (bars + all_text).properties(width=600, height=400).properties(title={\n",
    "    \"text\": \"Market sector investment in infrastructure\",\n",
    "    \"fontSize\": 20, \n",
    "})\n",
    "\n",
    "chart"
   ]
  },
  {
   "cell_type": "code",
   "execution_count": 130,
   "id": "5ab945ec",
   "metadata": {},
   "outputs": [],
   "source": [
    "# Save to png\n",
    "chart.save('Infra_inv.png', scale_factor=2)\n",
    "chart.save('Infra_inv.json', scale_factor=2)"
   ]
  },
  {
   "cell_type": "code",
   "execution_count": null,
   "id": "b74ae6e7",
   "metadata": {},
   "outputs": [],
   "source": [
    "# Social media post\n",
    "# Energy has increased consistently as a proportion of UK market sector investment in infrastructure primarily at the expense of mining and quarrying. This demonstrates the changing economic priorities of the UK economy."
   ]
  }
 ],
 "metadata": {
  "kernelspec": {
   "display_name": "charts",
   "language": "python",
   "name": "python3"
  },
  "language_info": {
   "codemirror_mode": {
    "name": "ipython",
    "version": 3
   },
   "file_extension": ".py",
   "mimetype": "text/x-python",
   "name": "python",
   "nbconvert_exporter": "python",
   "pygments_lexer": "ipython3",
   "version": "3.12.11"
  }
 },
 "nbformat": 4,
 "nbformat_minor": 5
}
