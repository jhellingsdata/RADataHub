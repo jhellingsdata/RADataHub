{
 "cells": [
  {
   "cell_type": "code",
   "execution_count": 2,
   "id": "a851f24f",
   "metadata": {},
   "outputs": [],
   "source": [
    "import warnings\n",
    "warnings.filterwarnings('ignore')\n",
    "\n",
    "import pandas as pd\n",
    "import altair as alt"
   ]
  },
  {
   "cell_type": "code",
   "execution_count": 3,
   "id": "f9bee6a6",
   "metadata": {},
   "outputs": [],
   "source": [
    "from ecostyles import EcoStyles\n",
    "# Create styles instance\n",
    "styles = EcoStyles()\n",
    "# Register and enable a theme\n",
    "styles.register_and_enable_theme(theme_name=\"article\")  # or \"article\""
   ]
  },
  {
   "cell_type": "code",
   "execution_count": 127,
   "id": "d0da5b52",
   "metadata": {},
   "outputs": [],
   "source": [
    "uk = pd.read_csv('/Users/sambickel-barlow/RADataHub/RADataHub/ChartOfTheDay/inflation/series-260825.csv', skiprows=501).rename(columns={'2014 DEC': 'Date',\"0.5\": \"Value\"})\n",
    "eu = pd.read_csv('/Users/sambickel-barlow/RADataHub/RADataHub/ChartOfTheDay/inflation/ECB Data Portal_20250826162819.csv', skiprows=216).rename(columns={'2014-12-31': 'Date',\"2014Dec\": \"drop\",\"-0.2\":\"Value\"})\n",
    "us = pd.read_csv('/Users/sambickel-barlow/RADataHub/RADataHub/ChartOfTheDay/inflation/CPIAUCSL.csv').rename(columns={'observation_date': 'Date',\"CPIAUCSL\":\"raw value\"})    "
   ]
  },
  {
   "cell_type": "code",
   "execution_count": 128,
   "id": "bccb1d59",
   "metadata": {},
   "outputs": [],
   "source": [
    "uk['Date'] = pd.to_datetime(uk['Date'], format='%Y %b')"
   ]
  },
  {
   "cell_type": "code",
   "execution_count": 189,
   "id": "6f3ca9fc",
   "metadata": {},
   "outputs": [
    {
     "data": {
      "application/vnd.microsoft.datawrangler.viewer.v0+json": {
       "columns": [
        {
         "name": "index",
         "rawType": "int64",
         "type": "integer"
        },
        {
         "name": "Date",
         "rawType": "datetime64[ns]",
         "type": "datetime"
        },
        {
         "name": "Value",
         "rawType": "float64",
         "type": "float"
        }
       ],
       "ref": "bd2dae77-d324-4a62-9e1d-cfdc07a78982",
       "rows": [
        [
         "0",
         "2015-01-01 00:00:00",
         "0.3"
        ],
        [
         "1",
         "2015-02-01 00:00:00",
         "0.0"
        ],
        [
         "2",
         "2015-03-01 00:00:00",
         "0.0"
        ],
        [
         "3",
         "2015-04-01 00:00:00",
         "-0.1"
        ],
        [
         "4",
         "2015-05-01 00:00:00",
         "0.1"
        ],
        [
         "5",
         "2015-06-01 00:00:00",
         "0.0"
        ],
        [
         "6",
         "2015-07-01 00:00:00",
         "0.1"
        ],
        [
         "7",
         "2015-08-01 00:00:00",
         "0.0"
        ],
        [
         "8",
         "2015-09-01 00:00:00",
         "-0.1"
        ],
        [
         "9",
         "2015-10-01 00:00:00",
         "-0.1"
        ],
        [
         "10",
         "2015-11-01 00:00:00",
         "0.1"
        ],
        [
         "11",
         "2015-12-01 00:00:00",
         "0.2"
        ],
        [
         "12",
         "2016-01-01 00:00:00",
         "0.3"
        ],
        [
         "13",
         "2016-02-01 00:00:00",
         "0.3"
        ],
        [
         "14",
         "2016-03-01 00:00:00",
         "0.5"
        ],
        [
         "15",
         "2016-04-01 00:00:00",
         "0.3"
        ],
        [
         "16",
         "2016-05-01 00:00:00",
         "0.3"
        ],
        [
         "17",
         "2016-06-01 00:00:00",
         "0.5"
        ],
        [
         "18",
         "2016-07-01 00:00:00",
         "0.6"
        ],
        [
         "19",
         "2016-08-01 00:00:00",
         "0.6"
        ],
        [
         "20",
         "2016-09-01 00:00:00",
         "1.0"
        ],
        [
         "21",
         "2016-10-01 00:00:00",
         "0.9"
        ],
        [
         "22",
         "2016-11-01 00:00:00",
         "1.2"
        ],
        [
         "23",
         "2016-12-01 00:00:00",
         "1.6"
        ],
        [
         "24",
         "2017-01-01 00:00:00",
         "1.8"
        ],
        [
         "25",
         "2017-02-01 00:00:00",
         "2.3"
        ],
        [
         "26",
         "2017-03-01 00:00:00",
         "2.3"
        ],
        [
         "27",
         "2017-04-01 00:00:00",
         "2.7"
        ],
        [
         "28",
         "2017-05-01 00:00:00",
         "2.9"
        ],
        [
         "29",
         "2017-06-01 00:00:00",
         "2.6"
        ],
        [
         "30",
         "2017-07-01 00:00:00",
         "2.6"
        ],
        [
         "31",
         "2017-08-01 00:00:00",
         "2.9"
        ],
        [
         "32",
         "2017-09-01 00:00:00",
         "3.0"
        ],
        [
         "33",
         "2017-10-01 00:00:00",
         "3.0"
        ],
        [
         "34",
         "2017-11-01 00:00:00",
         "3.1"
        ],
        [
         "35",
         "2017-12-01 00:00:00",
         "3.0"
        ],
        [
         "36",
         "2018-01-01 00:00:00",
         "3.0"
        ],
        [
         "37",
         "2018-02-01 00:00:00",
         "2.7"
        ],
        [
         "38",
         "2018-03-01 00:00:00",
         "2.5"
        ],
        [
         "39",
         "2018-04-01 00:00:00",
         "2.4"
        ],
        [
         "40",
         "2018-05-01 00:00:00",
         "2.4"
        ],
        [
         "41",
         "2018-06-01 00:00:00",
         "2.4"
        ],
        [
         "42",
         "2018-07-01 00:00:00",
         "2.5"
        ],
        [
         "43",
         "2018-08-01 00:00:00",
         "2.7"
        ],
        [
         "44",
         "2018-09-01 00:00:00",
         "2.4"
        ],
        [
         "45",
         "2018-10-01 00:00:00",
         "2.4"
        ],
        [
         "46",
         "2018-11-01 00:00:00",
         "2.3"
        ],
        [
         "47",
         "2018-12-01 00:00:00",
         "2.1"
        ],
        [
         "48",
         "2019-01-01 00:00:00",
         "1.8"
        ],
        [
         "49",
         "2019-02-01 00:00:00",
         "1.9"
        ]
       ],
       "shape": {
        "columns": 2,
        "rows": 127
       }
      },
      "text/html": [
       "<div>\n",
       "<style scoped>\n",
       "    .dataframe tbody tr th:only-of-type {\n",
       "        vertical-align: middle;\n",
       "    }\n",
       "\n",
       "    .dataframe tbody tr th {\n",
       "        vertical-align: top;\n",
       "    }\n",
       "\n",
       "    .dataframe thead th {\n",
       "        text-align: right;\n",
       "    }\n",
       "</style>\n",
       "<table border=\"1\" class=\"dataframe\">\n",
       "  <thead>\n",
       "    <tr style=\"text-align: right;\">\n",
       "      <th></th>\n",
       "      <th>Date</th>\n",
       "      <th>Value</th>\n",
       "    </tr>\n",
       "  </thead>\n",
       "  <tbody>\n",
       "    <tr>\n",
       "      <th>0</th>\n",
       "      <td>2015-01-01</td>\n",
       "      <td>0.3</td>\n",
       "    </tr>\n",
       "    <tr>\n",
       "      <th>1</th>\n",
       "      <td>2015-02-01</td>\n",
       "      <td>0.0</td>\n",
       "    </tr>\n",
       "    <tr>\n",
       "      <th>2</th>\n",
       "      <td>2015-03-01</td>\n",
       "      <td>0.0</td>\n",
       "    </tr>\n",
       "    <tr>\n",
       "      <th>3</th>\n",
       "      <td>2015-04-01</td>\n",
       "      <td>-0.1</td>\n",
       "    </tr>\n",
       "    <tr>\n",
       "      <th>4</th>\n",
       "      <td>2015-05-01</td>\n",
       "      <td>0.1</td>\n",
       "    </tr>\n",
       "    <tr>\n",
       "      <th>...</th>\n",
       "      <td>...</td>\n",
       "      <td>...</td>\n",
       "    </tr>\n",
       "    <tr>\n",
       "      <th>122</th>\n",
       "      <td>2025-03-01</td>\n",
       "      <td>2.6</td>\n",
       "    </tr>\n",
       "    <tr>\n",
       "      <th>123</th>\n",
       "      <td>2025-04-01</td>\n",
       "      <td>3.5</td>\n",
       "    </tr>\n",
       "    <tr>\n",
       "      <th>124</th>\n",
       "      <td>2025-05-01</td>\n",
       "      <td>3.4</td>\n",
       "    </tr>\n",
       "    <tr>\n",
       "      <th>125</th>\n",
       "      <td>2025-06-01</td>\n",
       "      <td>3.6</td>\n",
       "    </tr>\n",
       "    <tr>\n",
       "      <th>126</th>\n",
       "      <td>2025-07-01</td>\n",
       "      <td>3.8</td>\n",
       "    </tr>\n",
       "  </tbody>\n",
       "</table>\n",
       "<p>127 rows × 2 columns</p>\n",
       "</div>"
      ],
      "text/plain": [
       "          Date  Value\n",
       "0   2015-01-01    0.3\n",
       "1   2015-02-01    0.0\n",
       "2   2015-03-01    0.0\n",
       "3   2015-04-01   -0.1\n",
       "4   2015-05-01    0.1\n",
       "..         ...    ...\n",
       "122 2025-03-01    2.6\n",
       "123 2025-04-01    3.5\n",
       "124 2025-05-01    3.4\n",
       "125 2025-06-01    3.6\n",
       "126 2025-07-01    3.8\n",
       "\n",
       "[127 rows x 2 columns]"
      ]
     },
     "execution_count": 189,
     "metadata": {},
     "output_type": "execute_result"
    }
   ],
   "source": [
    "uk"
   ]
  },
  {
   "cell_type": "code",
   "execution_count": 129,
   "id": "4d4fe646",
   "metadata": {},
   "outputs": [],
   "source": [
    "eu = eu[['Date','Value']]\n",
    "eu['Date'] = pd.to_datetime(eu['Date']).dt.to_period('M').dt.start_time"
   ]
  },
  {
   "cell_type": "code",
   "execution_count": null,
   "id": "9bea6d8d",
   "metadata": {},
   "outputs": [],
   "source": [
    "us['Date'] = pd.to_datetime(us['Date'], format='%Y-%m-%d')\n",
    "us['Value'] = 0\n",
    "for i in range(0,len(us)):\n",
    "    us['Value'].iloc[i] = ((us['raw value'].iloc[i] - us['raw value'].iloc[i - 12]) / us['raw value'].iloc[i - 12]) * 100\n",
    "us = us[['Date','Value']][12:]\n",
    "us['Value'] = us['Value'].round(1)"
   ]
  },
  {
   "cell_type": "code",
   "execution_count": null,
   "id": "e80266fe",
   "metadata": {},
   "outputs": [],
   "source": [
    "infl = uk.merge(eu, how='outer', on='Date').merge(us, how='outer', on='Date').rename(columns={'Value_x': 'UK', 'Value_y': 'EU', 'Value': 'US'})\n",
    "infl = infl.melt('Date', var_name='Country', value_name='Value')\n",
    "infl['Value'] = infl['Value'] / 100\n",
    "infl = infl[infl['Date'] >= '2024-08-01']\n",
    "infl.so"
   ]
  },
  {
   "cell_type": "code",
   "execution_count": 193,
   "id": "49b46561",
   "metadata": {},
   "outputs": [],
   "source": [
    "# Custom sort so drawing order is US, EU, UK (UK will be drawn last/on top)\n",
    "country_order = {'US': 0, 'EU': 1, 'UK': 2}\n",
    "infl['sort_order'] = infl['Country'].map(country_order)\n",
    "infl = infl.sort_values(['sort_order', 'Date']).drop('sort_order', axis=1)"
   ]
  },
  {
   "cell_type": "code",
   "execution_count": 202,
   "id": "8af361eb",
   "metadata": {},
   "outputs": [
    {
     "data": {
      "text/html": [
       "\n",
       "<style>\n",
       "  #altair-viz-1de5601157a448f596b1d2337498fec2.vega-embed {\n",
       "    width: 100%;\n",
       "    display: flex;\n",
       "  }\n",
       "\n",
       "  #altair-viz-1de5601157a448f596b1d2337498fec2.vega-embed details,\n",
       "  #altair-viz-1de5601157a448f596b1d2337498fec2.vega-embed details summary {\n",
       "    position: relative;\n",
       "  }\n",
       "</style>\n",
       "<div id=\"altair-viz-1de5601157a448f596b1d2337498fec2\"></div>\n",
       "<script type=\"text/javascript\">\n",
       "  var VEGA_DEBUG = (typeof VEGA_DEBUG == \"undefined\") ? {} : VEGA_DEBUG;\n",
       "  (function(spec, embedOpt){\n",
       "    let outputDiv = document.currentScript.previousElementSibling;\n",
       "    if (outputDiv.id !== \"altair-viz-1de5601157a448f596b1d2337498fec2\") {\n",
       "      outputDiv = document.getElementById(\"altair-viz-1de5601157a448f596b1d2337498fec2\");\n",
       "    }\n",
       "\n",
       "    const paths = {\n",
       "      \"vega\": \"https://cdn.jsdelivr.net/npm/vega@5?noext\",\n",
       "      \"vega-lib\": \"https://cdn.jsdelivr.net/npm/vega-lib?noext\",\n",
       "      \"vega-lite\": \"https://cdn.jsdelivr.net/npm/vega-lite@5.20.1?noext\",\n",
       "      \"vega-embed\": \"https://cdn.jsdelivr.net/npm/vega-embed@6?noext\",\n",
       "    };\n",
       "\n",
       "    function maybeLoadScript(lib, version) {\n",
       "      var key = `${lib.replace(\"-\", \"\")}_version`;\n",
       "      return (VEGA_DEBUG[key] == version) ?\n",
       "        Promise.resolve(paths[lib]) :\n",
       "        new Promise(function(resolve, reject) {\n",
       "          var s = document.createElement('script');\n",
       "          document.getElementsByTagName(\"head\")[0].appendChild(s);\n",
       "          s.async = true;\n",
       "          s.onload = () => {\n",
       "            VEGA_DEBUG[key] = version;\n",
       "            return resolve(paths[lib]);\n",
       "          };\n",
       "          s.onerror = () => reject(`Error loading script: ${paths[lib]}`);\n",
       "          s.src = paths[lib];\n",
       "        });\n",
       "    }\n",
       "\n",
       "    function showError(err) {\n",
       "      outputDiv.innerHTML = `<div class=\"error\" style=\"color:red;\">${err}</div>`;\n",
       "      throw err;\n",
       "    }\n",
       "\n",
       "    function displayChart(vegaEmbed) {\n",
       "      vegaEmbed(outputDiv, spec, embedOpt)\n",
       "        .catch(err => showError(`Javascript Error: ${err.message}<br>This usually means there's a typo in your chart specification. See the javascript console for the full traceback.`));\n",
       "    }\n",
       "\n",
       "    if(typeof define === \"function\" && define.amd) {\n",
       "      requirejs.config({paths});\n",
       "      let deps = [\"vega-embed\"];\n",
       "      require(deps, displayChart, err => showError(`Error loading script: ${err.message}`));\n",
       "    } else {\n",
       "      maybeLoadScript(\"vega\", \"5\")\n",
       "        .then(() => maybeLoadScript(\"vega-lite\", \"5.20.1\"))\n",
       "        .then(() => maybeLoadScript(\"vega-embed\", \"6\"))\n",
       "        .catch(showError)\n",
       "        .then(() => displayChart(vegaEmbed));\n",
       "    }\n",
       "  })({\"config\": {\"font\": \"Circular Std\", \"text\": {\"color\": \"#676A86\", \"align\": \"left\", \"baseline\": \"middle\", \"dx\": 7, \"dy\": 0, \"fontSize\": 11}, \"view\": {\"stroke\": null, \"continuousWidth\": 400, \"continuousHeight\": 300, \"discreteWidth\": 400, \"discreteHeight\": 300}, \"range\": {\"category\": [\"#36B7B4\", \"#E6224B\", \"#F4C245\", \"#0063AF\", \"#00A767\", \"#179FDB\", \"#EB5C2E\"], \"diverging\": [\"#E6224B\", \"#E54753\", \"#C9C9C9\", \"#179FDB\", \"#122B39\"], \"heatmap\": [\"#C9C9C9\", \"#179FDB\", \"#0063AF\", \"#122B39\"], \"ordinal\": [\"#00A767\", \"#36B7B4\", \"#179FDB\", \"#0063AF\", \"#243B5A\"]}, \"bar\": {\"color\": \"#179fdb\"}, \"line\": {\"color\": \"#e6224b\"}, \"rule\": {\"color\": \"#676A86\"}, \"area\": {\"opacity\": 0.3}, \"point\": {\"filled\": true, \"size\": 80, \"color\": \"#e6224b\", \"opacity\": 0.95}, \"geoshape\": {\"stroke\": \"white\", \"strokeWidth\": 0.3}, \"rect\": {\"fill\": \"#d6d4d4\", \"opacity\": 0.3}, \"axis\": {\"labelColor\": \"#676A86\", \"labelFontSize\": 11, \"labelFont\": \"Circular Std\", \"labelOpacity\": 0.7, \"tickColor\": \"#676A86\", \"tickOpacity\": 0.5, \"domainColor\": \"#676A86\", \"domainOpacity\": 0.5, \"gridColor\": \"#676A86\", \"gridDash\": [2, 2], \"gridOpacity\": 0.5, \"title\": null, \"titleColor\": \"#676A86\", \"titleOpacity\": 0.8, \"tickSize\": 4}, \"axisXDiscrete\": {\"grid\": false, \"labelAngle\": 0, \"tickCount\": 10, \"tickOpacity\": 0.5, \"title\": null}, \"axisYDiscrete\": {\"ticks\": false, \"labelPadding\": 5}, \"axisXTemporal\": {\"grid\": false, \"ticks\": true}, \"axisXQuantitative\": {\"grid\": true}, \"axisYQuantitative\": {\"gridColor\": \"#676A86\", \"gridDash\": [1, 5], \"gridOpacity\": 0.5, \"ticks\": false, \"labelPadding\": 5, \"tickCount\": 8, \"titleAngle\": 0, \"titleAlign\": \"left\", \"titleBaseline\": \"bottom\", \"titleX\": 0, \"titleY\": -5}, \"title\": {\"color\": \"#676A86E6\", \"subtitleColor\": \"#676A86\", \"font\": \"Circular Std\", \"subtitleFont\": \"Circular Std\", \"anchor\": \"start\", \"fontSize\": 20, \"subtitleFontSize\": 12, \"subtitlePadding\": 4, \"offset\": 0, \"frame\": \"group\"}, \"legend\": {\"titleColor\": \"#122b39\", \"title\": null, \"labelColor\": \"#122b39\", \"labelFontSize\": 11}}, \"layer\": [{\"data\": {\"name\": \"data-96123855fe988022cc7b91bf10063216\"}, \"mark\": {\"type\": \"line\"}, \"encoding\": {\"color\": {\"field\": \"Country\", \"type\": \"nominal\"}, \"x\": {\"axis\": {\"format\": \"%b%y\", \"labelAngle\": 0, \"tickCount\": {\"interval\": \"month\", \"step\": 1}, \"title\": null}, \"field\": \"Date\", \"type\": \"temporal\"}, \"y\": {\"axis\": {\"format\": \",.1%\", \"titleX\": -87, \"titleY\": -10}, \"field\": \"Value\", \"title\": \"Headline Inflation\", \"type\": \"quantitative\"}}}, {\"data\": {\"name\": \"data-81cd44f591c16f6e33a3ecac21e481bf\"}, \"mark\": {\"type\": \"text\", \"align\": \"left\", \"dx\": 5, \"fontSize\": 13, \"fontWeight\": \"bold\"}, \"encoding\": {\"color\": {\"field\": \"Country\", \"legend\": null, \"type\": \"nominal\"}, \"text\": {\"field\": \"Country\", \"type\": \"nominal\"}, \"x\": {\"field\": \"Date\", \"type\": \"temporal\"}, \"y\": {\"field\": \"Value\", \"type\": \"quantitative\"}}}, {\"data\": {\"name\": \"data-6335fd49d7e16657638331fe3882e144\"}, \"mark\": {\"type\": \"text\", \"align\": \"left\", \"baseline\": \"top\", \"dy\": 175, \"fontSize\": 10, \"fontStyle\": \"italic\", \"x\": -15}, \"encoding\": {\"text\": {\"field\": \"text\", \"type\": \"nominal\"}}}], \"title\": \"Headline Inflation - UK, US, and EU\", \"width\": 600, \"$schema\": \"https://vega.github.io/schema/vega-lite/v5.20.1.json\", \"datasets\": {\"data-96123855fe988022cc7b91bf10063216\": [{\"Date\": \"2024-08-01T00:00:00\", \"Country\": \"US\", \"Value\": 0.026000000000000002}, {\"Date\": \"2024-09-01T00:00:00\", \"Country\": \"US\", \"Value\": 0.024}, {\"Date\": \"2024-10-01T00:00:00\", \"Country\": \"US\", \"Value\": 0.026000000000000002}, {\"Date\": \"2024-11-01T00:00:00\", \"Country\": \"US\", \"Value\": 0.027000000000000003}, {\"Date\": \"2024-12-01T00:00:00\", \"Country\": \"US\", \"Value\": 0.028999999999999998}, {\"Date\": \"2025-01-01T00:00:00\", \"Country\": \"US\", \"Value\": 0.03}, {\"Date\": \"2025-02-01T00:00:00\", \"Country\": \"US\", \"Value\": 0.027999999999999997}, {\"Date\": \"2025-03-01T00:00:00\", \"Country\": \"US\", \"Value\": 0.024}, {\"Date\": \"2025-04-01T00:00:00\", \"Country\": \"US\", \"Value\": 0.023}, {\"Date\": \"2025-05-01T00:00:00\", \"Country\": \"US\", \"Value\": 0.024}, {\"Date\": \"2025-06-01T00:00:00\", \"Country\": \"US\", \"Value\": 0.027000000000000003}, {\"Date\": \"2025-07-01T00:00:00\", \"Country\": \"US\", \"Value\": 0.027000000000000003}, {\"Date\": \"2024-08-01T00:00:00\", \"Country\": \"EU\", \"Value\": 0.022000000000000002}, {\"Date\": \"2024-09-01T00:00:00\", \"Country\": \"EU\", \"Value\": 0.017}, {\"Date\": \"2024-10-01T00:00:00\", \"Country\": \"EU\", \"Value\": 0.02}, {\"Date\": \"2024-11-01T00:00:00\", \"Country\": \"EU\", \"Value\": 0.022000000000000002}, {\"Date\": \"2024-12-01T00:00:00\", \"Country\": \"EU\", \"Value\": 0.024}, {\"Date\": \"2025-01-01T00:00:00\", \"Country\": \"EU\", \"Value\": 0.025}, {\"Date\": \"2025-02-01T00:00:00\", \"Country\": \"EU\", \"Value\": 0.023}, {\"Date\": \"2025-03-01T00:00:00\", \"Country\": \"EU\", \"Value\": 0.022000000000000002}, {\"Date\": \"2025-04-01T00:00:00\", \"Country\": \"EU\", \"Value\": 0.022000000000000002}, {\"Date\": \"2025-05-01T00:00:00\", \"Country\": \"EU\", \"Value\": 0.019}, {\"Date\": \"2025-06-01T00:00:00\", \"Country\": \"EU\", \"Value\": 0.02}, {\"Date\": \"2025-07-01T00:00:00\", \"Country\": \"EU\", \"Value\": 0.02}, {\"Date\": \"2024-08-01T00:00:00\", \"Country\": \"UK\", \"Value\": 0.022000000000000002}, {\"Date\": \"2024-09-01T00:00:00\", \"Country\": \"UK\", \"Value\": 0.017}, {\"Date\": \"2024-10-01T00:00:00\", \"Country\": \"UK\", \"Value\": 0.023}, {\"Date\": \"2024-11-01T00:00:00\", \"Country\": \"UK\", \"Value\": 0.026000000000000002}, {\"Date\": \"2024-12-01T00:00:00\", \"Country\": \"UK\", \"Value\": 0.025}, {\"Date\": \"2025-01-01T00:00:00\", \"Country\": \"UK\", \"Value\": 0.03}, {\"Date\": \"2025-02-01T00:00:00\", \"Country\": \"UK\", \"Value\": 0.027999999999999997}, {\"Date\": \"2025-03-01T00:00:00\", \"Country\": \"UK\", \"Value\": 0.026000000000000002}, {\"Date\": \"2025-04-01T00:00:00\", \"Country\": \"UK\", \"Value\": 0.035}, {\"Date\": \"2025-05-01T00:00:00\", \"Country\": \"UK\", \"Value\": 0.034}, {\"Date\": \"2025-06-01T00:00:00\", \"Country\": \"UK\", \"Value\": 0.036000000000000004}, {\"Date\": \"2025-07-01T00:00:00\", \"Country\": \"UK\", \"Value\": 0.038}], \"data-81cd44f591c16f6e33a3ecac21e481bf\": [{\"Date\": \"2025-07-01T00:00:00\", \"Country\": \"EU\", \"Value\": 0.02}, {\"Date\": \"2025-07-01T00:00:00\", \"Country\": \"UK\", \"Value\": 0.038}, {\"Date\": \"2025-07-01T00:00:00\", \"Country\": \"US\", \"Value\": 0.027000000000000003}], \"data-6335fd49d7e16657638331fe3882e144\": [{\"text\": \"Sources: ONS, ECB, FRED\"}]}}, {\"mode\": \"vega-lite\"});\n",
       "</script>"
      ],
      "text/plain": [
       "alt.LayerChart(...)"
      ]
     },
     "execution_count": 202,
     "metadata": {},
     "output_type": "execute_result"
    }
   ],
   "source": [
    "# 2. Find last year for each Type\n",
    "last_points = infl.loc[infl.groupby('Country')['Date'].idxmax()]\n",
    "\n",
    "line = alt.Chart(infl).mark_line().encode(\n",
    "    x=alt.X('Date', axis=alt.Axis(format='%b%y', title=None, labelAngle=0, tickCount={'interval': 'month', 'step': 1})),\n",
    "    y=alt.Y('Value', title='Headline Inflation', axis=alt.Axis(format=',.1%', titleX=-87, titleY=-10)),\n",
    "    color='Country'\n",
    ")\n",
    "\n",
    "# 4. Add text labels at the end\n",
    "text = alt.Chart(last_points).mark_text(\n",
    "    align='left',\n",
    "    dx=5,\n",
    "    fontWeight='bold',\n",
    "    fontSize=13\n",
    ").encode(\n",
    "    x=alt.X('Date'),\n",
    "    y=alt.Y('Value'),\n",
    "    text='Country',\n",
    "    color=alt.Color('Country', legend=None)\n",
    ")\n",
    "\n",
    "footnote = alt.Chart(pd.DataFrame({'text': [\n",
    "    \"Sources: ONS, ECB, FRED\"\n",
    "]})).mark_text(\n",
    "    align='left',\n",
    "    baseline='top',\n",
    "    fontSize=10,\n",
    "    fontStyle='italic',\n",
    "    dy=175,\n",
    "    x=-15\n",
    ").encode(\n",
    "    text='text'\n",
    ")\n",
    "\n",
    "# 5. Combine and display\n",
    "chart = (line + text + footnote).properties(title= 'Headline Inflation - UK, US, and EU', width=600).configure_title(\n",
    "    fontSize=20  # Increase title font size here\n",
    ")\n",
    "chart"
   ]
  }
 ],
 "metadata": {
  "kernelspec": {
   "display_name": "charts",
   "language": "python",
   "name": "python3"
  },
  "language_info": {
   "codemirror_mode": {
    "name": "ipython",
    "version": 3
   },
   "file_extension": ".py",
   "mimetype": "text/x-python",
   "name": "python",
   "nbconvert_exporter": "python",
   "pygments_lexer": "ipython3",
   "version": "3.12.11"
  }
 },
 "nbformat": 4,
 "nbformat_minor": 5
}
