{
 "cells": [
  {
   "cell_type": "code",
   "execution_count": 2,
   "id": "a851f24f",
   "metadata": {},
   "outputs": [],
   "source": [
    "import warnings\n",
    "warnings.filterwarnings('ignore')\n",
    "\n",
    "import pandas as pd\n",
    "import altair as alt"
   ]
  },
  {
   "cell_type": "code",
   "execution_count": 3,
   "id": "f9bee6a6",
   "metadata": {},
   "outputs": [],
   "source": [
    "from ecostyles import EcoStyles\n",
    "# Create styles instance\n",
    "styles = EcoStyles()\n",
    "# Register and enable a theme\n",
    "styles.register_and_enable_theme(theme_name=\"article\")  # or \"article\""
   ]
  },
  {
   "cell_type": "code",
   "execution_count": 16,
   "id": "d0da5b52",
   "metadata": {},
   "outputs": [],
   "source": [
    "uk = pd.read_csv('/Users/sambickel-barlow/RADataHub/RADataHub/ChartOfTheDay/inflation/series-260825.csv', skiprows=501).rename(columns={'2014 DEC': 'Date',\"0.5\": \"Value\"})\n",
    "ez = pd.read_csv('/Users/sambickel-barlow/RADataHub/RADataHub/ChartOfTheDay/inflation/ECB Data Portal_20250826162819.csv', skiprows=216).rename(columns={'2014-12-31': 'Date',\"2014Dec\": \"drop\",\"-0.2\":\"Value\"})\n",
    "us = pd.read_csv('/Users/sambickel-barlow/RADataHub/RADataHub/ChartOfTheDay/inflation/CPIAUCSL.csv').rename(columns={'observation_date': 'Date',\"CPIAUCSL\":\"raw value\"})    "
   ]
  },
  {
   "cell_type": "code",
   "execution_count": 17,
   "id": "bccb1d59",
   "metadata": {},
   "outputs": [],
   "source": [
    "uk['Date'] = pd.to_datetime(uk['Date'], format='%Y %b')"
   ]
  },
  {
   "cell_type": "code",
   "execution_count": 18,
   "id": "4d4fe646",
   "metadata": {},
   "outputs": [],
   "source": [
    "ez = ez[['Date','Value']]\n",
    "ez['Date'] = pd.to_datetime(ez['Date']).dt.to_period('M').dt.start_time"
   ]
  },
  {
   "cell_type": "code",
   "execution_count": 19,
   "id": "9bea6d8d",
   "metadata": {},
   "outputs": [],
   "source": [
    "us['Date'] = pd.to_datetime(us['Date'], format='%Y-%m-%d')\n",
    "us['Value'] = 0\n",
    "for i in range(0,len(us)):\n",
    "    us['Value'].iloc[i] = ((us['raw value'].iloc[i] - us['raw value'].iloc[i - 12]) / us['raw value'].iloc[i - 12]) * 100\n",
    "us = us[['Date','Value']][12:]\n",
    "us['Value'] = us['Value'].round(1)"
   ]
  },
  {
   "cell_type": "code",
   "execution_count": 20,
   "id": "e80266fe",
   "metadata": {},
   "outputs": [],
   "source": [
    "infl = uk.merge(ez, how='outer', on='Date').merge(us, how='outer', on='Date').rename(columns={'Value_x': 'UK', 'Value_y': 'EZ', 'Value': 'US'})\n",
    "infl = infl.melt('Date', var_name='Country', value_name='Value')\n",
    "infl['Value'] = infl['Value'] / 100\n",
    "infl = infl[infl['Date'] >= '2024-08-01']"
   ]
  },
  {
   "cell_type": "code",
   "execution_count": 21,
   "id": "49b46561",
   "metadata": {},
   "outputs": [],
   "source": [
    "# Custom sort so drawing order is US, EU, UK (UK will be drawn last/on top)\n",
    "country_order = {'US': 0, 'EZ': 1, 'UK': 2}\n",
    "infl['sort_order'] = infl['Country'].map(country_order)\n",
    "infl = infl.sort_values(['sort_order', 'Date']).drop('sort_order', axis=1)"
   ]
  },
  {
   "cell_type": "code",
   "execution_count": 23,
   "id": "8af361eb",
   "metadata": {},
   "outputs": [
    {
     "data": {
      "text/html": [
       "\n",
       "<style>\n",
       "  #altair-viz-7ab31c662cd947508b89e21f9ba71378.vega-embed {\n",
       "    width: 100%;\n",
       "    display: flex;\n",
       "  }\n",
       "\n",
       "  #altair-viz-7ab31c662cd947508b89e21f9ba71378.vega-embed details,\n",
       "  #altair-viz-7ab31c662cd947508b89e21f9ba71378.vega-embed details summary {\n",
       "    position: relative;\n",
       "  }\n",
       "</style>\n",
       "<div id=\"altair-viz-7ab31c662cd947508b89e21f9ba71378\"></div>\n",
       "<script type=\"text/javascript\">\n",
       "  var VEGA_DEBUG = (typeof VEGA_DEBUG == \"undefined\") ? {} : VEGA_DEBUG;\n",
       "  (function(spec, embedOpt){\n",
       "    let outputDiv = document.currentScript.previousElementSibling;\n",
       "    if (outputDiv.id !== \"altair-viz-7ab31c662cd947508b89e21f9ba71378\") {\n",
       "      outputDiv = document.getElementById(\"altair-viz-7ab31c662cd947508b89e21f9ba71378\");\n",
       "    }\n",
       "\n",
       "    const paths = {\n",
       "      \"vega\": \"https://cdn.jsdelivr.net/npm/vega@5?noext\",\n",
       "      \"vega-lib\": \"https://cdn.jsdelivr.net/npm/vega-lib?noext\",\n",
       "      \"vega-lite\": \"https://cdn.jsdelivr.net/npm/vega-lite@5.20.1?noext\",\n",
       "      \"vega-embed\": \"https://cdn.jsdelivr.net/npm/vega-embed@6?noext\",\n",
       "    };\n",
       "\n",
       "    function maybeLoadScript(lib, version) {\n",
       "      var key = `${lib.replace(\"-\", \"\")}_version`;\n",
       "      return (VEGA_DEBUG[key] == version) ?\n",
       "        Promise.resolve(paths[lib]) :\n",
       "        new Promise(function(resolve, reject) {\n",
       "          var s = document.createElement('script');\n",
       "          document.getElementsByTagName(\"head\")[0].appendChild(s);\n",
       "          s.async = true;\n",
       "          s.onload = () => {\n",
       "            VEGA_DEBUG[key] = version;\n",
       "            return resolve(paths[lib]);\n",
       "          };\n",
       "          s.onerror = () => reject(`Error loading script: ${paths[lib]}`);\n",
       "          s.src = paths[lib];\n",
       "        });\n",
       "    }\n",
       "\n",
       "    function showError(err) {\n",
       "      outputDiv.innerHTML = `<div class=\"error\" style=\"color:red;\">${err}</div>`;\n",
       "      throw err;\n",
       "    }\n",
       "\n",
       "    function displayChart(vegaEmbed) {\n",
       "      vegaEmbed(outputDiv, spec, embedOpt)\n",
       "        .catch(err => showError(`Javascript Error: ${err.message}<br>This usually means there's a typo in your chart specification. See the javascript console for the full traceback.`));\n",
       "    }\n",
       "\n",
       "    if(typeof define === \"function\" && define.amd) {\n",
       "      requirejs.config({paths});\n",
       "      let deps = [\"vega-embed\"];\n",
       "      require(deps, displayChart, err => showError(`Error loading script: ${err.message}`));\n",
       "    } else {\n",
       "      maybeLoadScript(\"vega\", \"5\")\n",
       "        .then(() => maybeLoadScript(\"vega-lite\", \"5.20.1\"))\n",
       "        .then(() => maybeLoadScript(\"vega-embed\", \"6\"))\n",
       "        .catch(showError)\n",
       "        .then(() => displayChart(vegaEmbed));\n",
       "    }\n",
       "  })({\"config\": {\"font\": \"Circular Std\", \"text\": {\"color\": \"#676A86\", \"align\": \"left\", \"baseline\": \"middle\", \"dx\": 7, \"dy\": 0, \"fontSize\": 11}, \"view\": {\"stroke\": null, \"continuousWidth\": 400, \"continuousHeight\": 300, \"discreteWidth\": 400, \"discreteHeight\": 300}, \"range\": {\"category\": [\"#36B7B4\", \"#E6224B\", \"#F4C245\", \"#0063AF\", \"#00A767\", \"#179FDB\", \"#EB5C2E\"], \"diverging\": [\"#E6224B\", \"#E54753\", \"#C9C9C9\", \"#179FDB\", \"#122B39\"], \"heatmap\": [\"#C9C9C9\", \"#179FDB\", \"#0063AF\", \"#122B39\"], \"ordinal\": [\"#00A767\", \"#36B7B4\", \"#179FDB\", \"#0063AF\", \"#243B5A\"]}, \"bar\": {\"color\": \"#179fdb\"}, \"line\": {\"color\": \"#e6224b\"}, \"rule\": {\"color\": \"#676A86\"}, \"area\": {\"opacity\": 0.3}, \"point\": {\"filled\": true, \"size\": 80, \"color\": \"#e6224b\", \"opacity\": 0.95}, \"geoshape\": {\"stroke\": \"white\", \"strokeWidth\": 0.3}, \"rect\": {\"fill\": \"#d6d4d4\", \"opacity\": 0.3}, \"axis\": {\"labelColor\": \"#676A86\", \"labelFontSize\": 11, \"labelFont\": \"Circular Std\", \"labelOpacity\": 0.7, \"tickColor\": \"#676A86\", \"tickOpacity\": 0.5, \"domainColor\": \"#676A86\", \"domainOpacity\": 0.5, \"gridColor\": \"#676A86\", \"gridDash\": [2, 2], \"gridOpacity\": 0.5, \"title\": null, \"titleColor\": \"#676A86\", \"titleOpacity\": 0.8, \"tickSize\": 4}, \"axisXDiscrete\": {\"grid\": false, \"labelAngle\": 0, \"tickCount\": 10, \"tickOpacity\": 0.5, \"title\": null}, \"axisYDiscrete\": {\"ticks\": false, \"labelPadding\": 5}, \"axisXTemporal\": {\"grid\": false, \"ticks\": true}, \"axisXQuantitative\": {\"grid\": true}, \"axisYQuantitative\": {\"gridColor\": \"#676A86\", \"gridDash\": [1, 5], \"gridOpacity\": 0.5, \"ticks\": false, \"labelPadding\": 5, \"tickCount\": 8, \"titleAngle\": 0, \"titleAlign\": \"left\", \"titleBaseline\": \"bottom\", \"titleX\": 0, \"titleY\": -5}, \"title\": {\"color\": \"#676A86E6\", \"subtitleColor\": \"#676A86\", \"font\": \"Circular Std\", \"subtitleFont\": \"Circular Std\", \"anchor\": \"start\", \"fontSize\": 20, \"subtitleFontSize\": 12, \"subtitlePadding\": 4, \"offset\": 0, \"frame\": \"group\"}, \"legend\": {\"titleColor\": \"#122b39\", \"title\": null, \"labelColor\": \"#122b39\", \"labelFontSize\": 11}}, \"layer\": [{\"data\": {\"name\": \"data-295b1cae3d31e075448a98ea0e979dda\"}, \"mark\": {\"type\": \"line\"}, \"encoding\": {\"color\": {\"field\": \"Country\", \"type\": \"nominal\"}, \"tooltip\": [{\"field\": \"Country\", \"title\": \"Economy\", \"type\": \"nominal\"}, {\"field\": \"Date\", \"format\": \"%B %Y\", \"title\": \"Date\", \"type\": \"temporal\"}, {\"field\": \"Value\", \"format\": \".1%\", \"title\": \"Inflation Rate\", \"type\": \"quantitative\"}], \"x\": {\"axis\": {\"format\": \"%b%y\", \"labelAngle\": 0, \"tickCount\": {\"interval\": \"month\", \"step\": 1}, \"title\": null}, \"field\": \"Date\", \"type\": \"temporal\"}, \"y\": {\"axis\": {\"format\": \",.1%\", \"titleFontSize\": 13, \"titleX\": -87, \"titleY\": -10}, \"field\": \"Value\", \"title\": \"Inflation Rate\", \"type\": \"quantitative\"}}}, {\"data\": {\"name\": \"data-068e96ed08f18949fb566dc6e3f0d134\"}, \"mark\": {\"type\": \"text\", \"align\": \"left\", \"dx\": 5, \"fontSize\": 15, \"fontWeight\": \"bold\"}, \"encoding\": {\"color\": {\"field\": \"Country\", \"legend\": null, \"type\": \"nominal\"}, \"text\": {\"field\": \"Country\", \"type\": \"nominal\"}, \"x\": {\"field\": \"Date\", \"type\": \"temporal\"}, \"y\": {\"field\": \"Value\", \"type\": \"quantitative\"}}}, {\"data\": {\"name\": \"data-6335fd49d7e16657638331fe3882e144\"}, \"mark\": {\"type\": \"text\", \"align\": \"left\", \"baseline\": \"top\", \"dy\": 175, \"fontSize\": 14, \"fontStyle\": \"italic\", \"x\": -15}, \"encoding\": {\"text\": {\"field\": \"text\", \"type\": \"nominal\"}}}], \"title\": \"Headline Inflation Rate - UK, US, and Eurozone\", \"width\": 600, \"$schema\": \"https://vega.github.io/schema/vega-lite/v5.20.1.json\", \"datasets\": {\"data-295b1cae3d31e075448a98ea0e979dda\": [{\"Date\": \"2024-08-01T00:00:00\", \"Country\": \"US\", \"Value\": 0.026000000000000002}, {\"Date\": \"2024-09-01T00:00:00\", \"Country\": \"US\", \"Value\": 0.024}, {\"Date\": \"2024-10-01T00:00:00\", \"Country\": \"US\", \"Value\": 0.026000000000000002}, {\"Date\": \"2024-11-01T00:00:00\", \"Country\": \"US\", \"Value\": 0.027000000000000003}, {\"Date\": \"2024-12-01T00:00:00\", \"Country\": \"US\", \"Value\": 0.028999999999999998}, {\"Date\": \"2025-01-01T00:00:00\", \"Country\": \"US\", \"Value\": 0.03}, {\"Date\": \"2025-02-01T00:00:00\", \"Country\": \"US\", \"Value\": 0.027999999999999997}, {\"Date\": \"2025-03-01T00:00:00\", \"Country\": \"US\", \"Value\": 0.024}, {\"Date\": \"2025-04-01T00:00:00\", \"Country\": \"US\", \"Value\": 0.023}, {\"Date\": \"2025-05-01T00:00:00\", \"Country\": \"US\", \"Value\": 0.024}, {\"Date\": \"2025-06-01T00:00:00\", \"Country\": \"US\", \"Value\": 0.027000000000000003}, {\"Date\": \"2025-07-01T00:00:00\", \"Country\": \"US\", \"Value\": 0.027000000000000003}, {\"Date\": \"2024-08-01T00:00:00\", \"Country\": \"EZ\", \"Value\": 0.022000000000000002}, {\"Date\": \"2024-09-01T00:00:00\", \"Country\": \"EZ\", \"Value\": 0.017}, {\"Date\": \"2024-10-01T00:00:00\", \"Country\": \"EZ\", \"Value\": 0.02}, {\"Date\": \"2024-11-01T00:00:00\", \"Country\": \"EZ\", \"Value\": 0.022000000000000002}, {\"Date\": \"2024-12-01T00:00:00\", \"Country\": \"EZ\", \"Value\": 0.024}, {\"Date\": \"2025-01-01T00:00:00\", \"Country\": \"EZ\", \"Value\": 0.025}, {\"Date\": \"2025-02-01T00:00:00\", \"Country\": \"EZ\", \"Value\": 0.023}, {\"Date\": \"2025-03-01T00:00:00\", \"Country\": \"EZ\", \"Value\": 0.022000000000000002}, {\"Date\": \"2025-04-01T00:00:00\", \"Country\": \"EZ\", \"Value\": 0.022000000000000002}, {\"Date\": \"2025-05-01T00:00:00\", \"Country\": \"EZ\", \"Value\": 0.019}, {\"Date\": \"2025-06-01T00:00:00\", \"Country\": \"EZ\", \"Value\": 0.02}, {\"Date\": \"2025-07-01T00:00:00\", \"Country\": \"EZ\", \"Value\": 0.02}, {\"Date\": \"2024-08-01T00:00:00\", \"Country\": \"UK\", \"Value\": 0.022000000000000002}, {\"Date\": \"2024-09-01T00:00:00\", \"Country\": \"UK\", \"Value\": 0.017}, {\"Date\": \"2024-10-01T00:00:00\", \"Country\": \"UK\", \"Value\": 0.023}, {\"Date\": \"2024-11-01T00:00:00\", \"Country\": \"UK\", \"Value\": 0.026000000000000002}, {\"Date\": \"2024-12-01T00:00:00\", \"Country\": \"UK\", \"Value\": 0.025}, {\"Date\": \"2025-01-01T00:00:00\", \"Country\": \"UK\", \"Value\": 0.03}, {\"Date\": \"2025-02-01T00:00:00\", \"Country\": \"UK\", \"Value\": 0.027999999999999997}, {\"Date\": \"2025-03-01T00:00:00\", \"Country\": \"UK\", \"Value\": 0.026000000000000002}, {\"Date\": \"2025-04-01T00:00:00\", \"Country\": \"UK\", \"Value\": 0.035}, {\"Date\": \"2025-05-01T00:00:00\", \"Country\": \"UK\", \"Value\": 0.034}, {\"Date\": \"2025-06-01T00:00:00\", \"Country\": \"UK\", \"Value\": 0.036000000000000004}, {\"Date\": \"2025-07-01T00:00:00\", \"Country\": \"UK\", \"Value\": 0.038}], \"data-068e96ed08f18949fb566dc6e3f0d134\": [{\"Date\": \"2025-07-01T00:00:00\", \"Country\": \"EZ\", \"Value\": 0.02}, {\"Date\": \"2025-07-01T00:00:00\", \"Country\": \"UK\", \"Value\": 0.038}, {\"Date\": \"2025-07-01T00:00:00\", \"Country\": \"US\", \"Value\": 0.027000000000000003}], \"data-6335fd49d7e16657638331fe3882e144\": [{\"text\": \"Sources: ONS, ECB, FRED\"}]}}, {\"mode\": \"vega-lite\"});\n",
       "</script>"
      ],
      "text/plain": [
       "alt.LayerChart(...)"
      ]
     },
     "execution_count": 23,
     "metadata": {},
     "output_type": "execute_result"
    }
   ],
   "source": [
    "# 2. Find last year for each Type\n",
    "last_points = infl.loc[infl.groupby('Country')['Date'].idxmax()]\n",
    "\n",
    "line = alt.Chart(infl).mark_line().encode(\n",
    "    x=alt.X('Date', axis=alt.Axis(format='%b%y', title=None, labelAngle=0, tickCount={'interval': 'month', 'step': 1})),\n",
    "    y=alt.Y('Value', title='Inflation Rate', axis=alt.Axis(format=',.1%', titleX=-87, titleY=-10, titleFontSize=13)),\n",
    "    color='Country',\n",
    "    tooltip=[\n",
    "        alt.Tooltip('Country:N', title='Economy'),\n",
    "        alt.Tooltip('Date:T', format='%B %Y', title='Date'),\n",
    "        alt.Tooltip('Value:Q', format='.1%', title='Inflation Rate')\n",
    "    ]\n",
    ")\n",
    "\n",
    "# 4. Add text labels at the end\n",
    "text = alt.Chart(last_points).mark_text(\n",
    "    align='left',\n",
    "    dx=5,\n",
    "    fontWeight='bold',\n",
    "    fontSize=15\n",
    ").encode(\n",
    "    x=alt.X('Date'),\n",
    "    y=alt.Y('Value'),\n",
    "    text='Country',\n",
    "    color=alt.Color('Country', legend=None)\n",
    ")\n",
    "\n",
    "footnote = alt.Chart(pd.DataFrame({'text': [\n",
    "    \"Sources: ONS, ECB, FRED\"\n",
    "]})).mark_text(\n",
    "    align='left',\n",
    "    baseline='top',\n",
    "    fontSize=14,\n",
    "    fontStyle='italic',\n",
    "    dy=175,\n",
    "    x=-15\n",
    ").encode(\n",
    "    text='text'\n",
    ")\n",
    "\n",
    "# 5. Combine and display\n",
    "chart = (line + text + footnote).properties(title= 'Headline Inflation Rate - UK, US, and Eurozone', width=600).configure_title(\n",
    "    fontSize=20  # Increase title font size here\n",
    ")\n",
    "chart"
   ]
  },
  {
   "cell_type": "code",
   "execution_count": 24,
   "id": "52dd7e92",
   "metadata": {},
   "outputs": [],
   "source": [
    "# Save to png\n",
    "chart.save('Infl_comp.png', scale_factor=2)\n",
    "chart.save('Infl_comp.json', scale_factor=2)"
   ]
  }
 ],
 "metadata": {
  "kernelspec": {
   "display_name": "charts",
   "language": "python",
   "name": "python3"
  },
  "language_info": {
   "codemirror_mode": {
    "name": "ipython",
    "version": 3
   },
   "file_extension": ".py",
   "mimetype": "text/x-python",
   "name": "python",
   "nbconvert_exporter": "python",
   "pygments_lexer": "ipython3",
   "version": "3.12.11"
  }
 },
 "nbformat": 4,
 "nbformat_minor": 5
}
