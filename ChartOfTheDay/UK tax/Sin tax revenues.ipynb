{
 "cells": [
  {
   "cell_type": "code",
   "execution_count": 1,
   "id": "2245f020",
   "metadata": {},
   "outputs": [],
   "source": [
    "import warnings\n",
    "warnings.filterwarnings('ignore')"
   ]
  },
  {
   "cell_type": "code",
   "execution_count": 2,
   "id": "b44d9025",
   "metadata": {},
   "outputs": [],
   "source": [
    "import pandas as pd\n",
    "import altair as alt"
   ]
  },
  {
   "cell_type": "code",
   "execution_count": 3,
   "id": "6d04b874",
   "metadata": {},
   "outputs": [],
   "source": [
    "from ecostyles import EcoStyles\n",
    "# Create styles instance\n",
    "styles = EcoStyles()\n",
    "# Register and enable a theme\n",
    "styles.register_and_enable_theme(theme_name=\"article\")  # or \"article\""
   ]
  },
  {
   "cell_type": "code",
   "execution_count": 4,
   "id": "cdbff7f3",
   "metadata": {},
   "outputs": [],
   "source": [
    "hmrc = pd.read_csv('/Users/sambickel-barlow/RADataHub/RADataHub/ChartOfTheDay/UK tax/HM Revenue and Customs Receipts.csv')"
   ]
  },
  {
   "cell_type": "code",
   "execution_count": 5,
   "id": "25d02ba8",
   "metadata": {},
   "outputs": [
    {
     "data": {
      "text/plain": [
       "Index(['Table 2 HMRC Receipts by financial year', 'Total Paid Over',\n",
       "       'Total HMRC Receipts', 'Income Tax',\n",
       "       'Pay As You Earn Income Tax (included within Income Tax)',\n",
       "       'Self-Assessment Income Tax (included within Income Tax)',\n",
       "       'Capital Gains Tax', 'Apprenticeship Levy',\n",
       "       'National Insurance Contributions', 'PAYE NIC1 (EMP'er)',\n",
       "       'PAYE NIC1 (EMP'ee)', 'SA NIC2&4', 'Value Added Tax', 'Corporation Tax',\n",
       "       'Offshore (included within Corporation Tax)', 'Bank Levy',\n",
       "       'Bank Surcharge', 'Diverted Profits Tax', 'Digital Services Tax',\n",
       "       'Residential Property Developer Tax', 'Energy Profits Levy',\n",
       "       'Electricity Generators Levy', 'Economic Crime Levy',\n",
       "       'Bank payroll tax', 'Petroleum Revenue Tax',\n",
       "       'Hydrocarbon Oil (Fuel duties)', 'Inheritance Tax', 'Stamp Duty Shares',\n",
       "       'Stamp Duty Land Tax', 'Annual Tax on Enveloped Dwellings',\n",
       "       'Tobacco Duties', 'Spirits Duties', 'Beer Duties', 'Wines Duties',\n",
       "       'Cider Duties', 'Betting & Gaming', 'Air Passenger Duty',\n",
       "       'Insurance Premium Tax', 'Landfill Tax', 'Climate Change Levy',\n",
       "       'Aggregates Levy', 'Soft Drinks Industry Levy', 'Plastic Packaging Tax',\n",
       "       'Swiss Capital Tax', 'Misc', 'Customs Duties', 'Penalties'],\n",
       "      dtype='object')"
      ]
     },
     "execution_count": 5,
     "metadata": {},
     "output_type": "execute_result"
    }
   ],
   "source": [
    "hmrc.columns"
   ]
  },
  {
   "cell_type": "code",
   "execution_count": 6,
   "id": "7c206e66",
   "metadata": {},
   "outputs": [],
   "source": [
    "sins = hmrc[['Table 2 HMRC Receipts by financial year', 'Total HMRC Receipts', 'Tobacco Duties', 'Spirits Duties', 'Beer Duties', 'Wines Duties',\n",
    "       'Cider Duties', 'Betting & Gaming']]"
   ]
  },
  {
   "cell_type": "code",
   "execution_count": 7,
   "id": "1a2c2d07",
   "metadata": {},
   "outputs": [],
   "source": [
    "sins['Total HMRC Receipts'] = sins['Total HMRC Receipts'].replace(',', '', regex=True).astype(float)\n",
    "sins['Tobacco Duties'] = sins['Tobacco Duties'].replace(',', '', regex=True).astype(float)\n",
    "sins['Spirits Duties'] = sins['Spirits Duties'].replace(',', '', regex=True).astype(float)\n",
    "sins['Beer Duties'] = sins['Beer Duties'].replace(',', '', regex=True).astype(float)\n",
    "sins['Wines Duties'] = sins['Wines Duties'].replace(',', '', regex=True).astype(float)\n",
    "sins['Cider Duties'] = sins['Cider Duties'].replace(',', '', regex=True).astype(float)\n",
    "sins['Betting & Gaming'] = sins['Betting & Gaming'].replace(',', '', regex=True).astype(float)"
   ]
  },
  {
   "cell_type": "code",
   "execution_count": 8,
   "id": "83594743",
   "metadata": {},
   "outputs": [],
   "source": [
    "sins['Alcohol Duties'] = sins['Spirits Duties'] + sins['Beer Duties'] + sins['Wines Duties'] + sins['Cider Duties']"
   ]
  },
  {
   "cell_type": "code",
   "execution_count": 27,
   "id": "5fe4ea9f",
   "metadata": {},
   "outputs": [],
   "source": [
    "sins['Tobacco Duties Share'] = sins['Tobacco Duties'] / sins['Total HMRC Receipts']\n",
    "sins['Alcohol Duties Share'] = sins['Alcohol Duties'] / sins['Total HMRC Receipts']\n",
    "sins['Spirits Duties Share'] = sins['Spirits Duties'] / sins['Total HMRC Receipts']\n",
    "sins['Beer Duties Share'] = sins['Beer Duties'] / sins['Total HMRC Receipts']\n",
    "sins['Wines Duties Share'] = sins['Wines Duties'] / sins['Total HMRC Receipts']\n",
    "sins['Cider Duties Share'] = sins['Cider Duties'] / sins['Total HMRC Receipts']\n",
    "sins['Betting & Gaming Share'] = sins['Betting & Gaming'] / sins['Total HMRC Receipts']"
   ]
  },
  {
   "cell_type": "code",
   "execution_count": 28,
   "id": "748211b7",
   "metadata": {},
   "outputs": [],
   "source": [
    "sins_cum = sins[['Table 2 HMRC Receipts by financial year', 'Tobacco Duties', 'Spirits Duties', 'Beer Duties', 'Wines Duties',\n",
    "       'Cider Duties', 'Betting & Gaming']]\n",
    "sins_share = sins[['Table 2 HMRC Receipts by financial year', 'Tobacco Duties Share', 'Spirits Duties Share', 'Beer Duties Share', 'Wines Duties Share', 'Betting & Gaming Share']] \n",
    "sins_cum_s = sins[['Table 2 HMRC Receipts by financial year', 'Tobacco Duties', 'Alcohol Duties', 'Betting & Gaming']]\n",
    "sins_share_s = sins[['Table 2 HMRC Receipts by financial year', 'Tobacco Duties Share', 'Alcohol Duties Share', 'Betting & Gaming Share']]"
   ]
  },
  {
   "cell_type": "code",
   "execution_count": 43,
   "id": "a679e5a8",
   "metadata": {},
   "outputs": [],
   "source": [
    "sins_cum_melt =sins_cum.melt(id_vars='Table 2 HMRC Receipts by financial year').rename(columns={'Table 2 HMRC Receipts by financial year':'Year', 'variable':'Tax', 'value':'Revenue (£m)'})\n",
    "sins_share_melt =sins_share.melt(id_vars='Table 2 HMRC Receipts by financial year').rename(columns={'Table 2 HMRC Receipts by financial year':'Year', 'variable':'Tax', 'value':'Revenue (£m)'})\n",
    "sins_cum_s_melt =sins_cum_s.melt(id_vars='Table 2 HMRC Receipts by financial year').rename(columns={'Table 2 HMRC Receipts by financial year':'Year', 'variable':'Tax', 'value':'Revenue (£m)'})\n",
    "sins_share_s_melt =sins_share_s.melt(id_vars='Table 2 HMRC Receipts by financial year').rename(columns={'Table 2 HMRC Receipts by financial year':'Year', 'variable':'Tax', 'value':'Revenue (£m)'})"
   ]
  },
  {
   "cell_type": "code",
   "execution_count": null,
   "id": "86cdc443",
   "metadata": {},
   "outputs": [],
   "source": [
    "sins_cum_s_melt['Year'] = 'FY' + sins_cum_s_melt['Year'].str.split('to 20').str[1]"
   ]
  },
  {
   "cell_type": "code",
   "execution_count": 71,
   "id": "7b57adf9",
   "metadata": {},
   "outputs": [],
   "source": [
    "sins_cum_s_melt['Tax'] = sins_cum_s_melt['Tax'].replace({'Tobacco Duties': 'Tobacco', 'Alcohol Duties': 'Alcohol'})"
   ]
  },
  {
   "cell_type": "code",
   "execution_count": 79,
   "id": "5a93b17d",
   "metadata": {},
   "outputs": [
    {
     "data": {
      "text/html": [
       "\n",
       "<style>\n",
       "  #altair-viz-90641f1fcd5d412494e6b96f2676fcee.vega-embed {\n",
       "    width: 100%;\n",
       "    display: flex;\n",
       "  }\n",
       "\n",
       "  #altair-viz-90641f1fcd5d412494e6b96f2676fcee.vega-embed details,\n",
       "  #altair-viz-90641f1fcd5d412494e6b96f2676fcee.vega-embed details summary {\n",
       "    position: relative;\n",
       "  }\n",
       "</style>\n",
       "<div id=\"altair-viz-90641f1fcd5d412494e6b96f2676fcee\"></div>\n",
       "<script type=\"text/javascript\">\n",
       "  var VEGA_DEBUG = (typeof VEGA_DEBUG == \"undefined\") ? {} : VEGA_DEBUG;\n",
       "  (function(spec, embedOpt){\n",
       "    let outputDiv = document.currentScript.previousElementSibling;\n",
       "    if (outputDiv.id !== \"altair-viz-90641f1fcd5d412494e6b96f2676fcee\") {\n",
       "      outputDiv = document.getElementById(\"altair-viz-90641f1fcd5d412494e6b96f2676fcee\");\n",
       "    }\n",
       "\n",
       "    const paths = {\n",
       "      \"vega\": \"https://cdn.jsdelivr.net/npm/vega@5?noext\",\n",
       "      \"vega-lib\": \"https://cdn.jsdelivr.net/npm/vega-lib?noext\",\n",
       "      \"vega-lite\": \"https://cdn.jsdelivr.net/npm/vega-lite@5.20.1?noext\",\n",
       "      \"vega-embed\": \"https://cdn.jsdelivr.net/npm/vega-embed@6?noext\",\n",
       "    };\n",
       "\n",
       "    function maybeLoadScript(lib, version) {\n",
       "      var key = `${lib.replace(\"-\", \"\")}_version`;\n",
       "      return (VEGA_DEBUG[key] == version) ?\n",
       "        Promise.resolve(paths[lib]) :\n",
       "        new Promise(function(resolve, reject) {\n",
       "          var s = document.createElement('script');\n",
       "          document.getElementsByTagName(\"head\")[0].appendChild(s);\n",
       "          s.async = true;\n",
       "          s.onload = () => {\n",
       "            VEGA_DEBUG[key] = version;\n",
       "            return resolve(paths[lib]);\n",
       "          };\n",
       "          s.onerror = () => reject(`Error loading script: ${paths[lib]}`);\n",
       "          s.src = paths[lib];\n",
       "        });\n",
       "    }\n",
       "\n",
       "    function showError(err) {\n",
       "      outputDiv.innerHTML = `<div class=\"error\" style=\"color:red;\">${err}</div>`;\n",
       "      throw err;\n",
       "    }\n",
       "\n",
       "    function displayChart(vegaEmbed) {\n",
       "      vegaEmbed(outputDiv, spec, embedOpt)\n",
       "        .catch(err => showError(`Javascript Error: ${err.message}<br>This usually means there's a typo in your chart specification. See the javascript console for the full traceback.`));\n",
       "    }\n",
       "\n",
       "    if(typeof define === \"function\" && define.amd) {\n",
       "      requirejs.config({paths});\n",
       "      let deps = [\"vega-embed\"];\n",
       "      require(deps, displayChart, err => showError(`Error loading script: ${err.message}`));\n",
       "    } else {\n",
       "      maybeLoadScript(\"vega\", \"5\")\n",
       "        .then(() => maybeLoadScript(\"vega-lite\", \"5.20.1\"))\n",
       "        .then(() => maybeLoadScript(\"vega-embed\", \"6\"))\n",
       "        .catch(showError)\n",
       "        .then(() => displayChart(vegaEmbed));\n",
       "    }\n",
       "  })({\"config\": {\"font\": \"Circular Std\", \"text\": {\"color\": \"#676A86\", \"align\": \"left\", \"baseline\": \"middle\", \"dx\": 7, \"dy\": 0, \"fontSize\": 11}, \"view\": {\"stroke\": null, \"continuousWidth\": 400, \"continuousHeight\": 300, \"discreteWidth\": 400, \"discreteHeight\": 300}, \"range\": {\"category\": [\"#36B7B4\", \"#E6224B\", \"#F4C245\", \"#0063AF\", \"#00A767\", \"#179FDB\", \"#EB5C2E\"], \"diverging\": [\"#E6224B\", \"#E54753\", \"#C9C9C9\", \"#179FDB\", \"#122B39\"], \"heatmap\": [\"#C9C9C9\", \"#179FDB\", \"#0063AF\", \"#122B39\"], \"ordinal\": [\"#00A767\", \"#36B7B4\", \"#179FDB\", \"#0063AF\", \"#243B5A\"]}, \"bar\": {\"color\": \"#179fdb\"}, \"line\": {\"color\": \"#e6224b\"}, \"rule\": {\"color\": \"#676A86\"}, \"area\": {\"opacity\": 0.3}, \"point\": {\"filled\": true, \"size\": 80, \"color\": \"#e6224b\", \"opacity\": 0.95}, \"geoshape\": {\"stroke\": \"white\", \"strokeWidth\": 0.3}, \"rect\": {\"fill\": \"#d6d4d4\", \"opacity\": 0.3}, \"axis\": {\"labelColor\": \"#676A86\", \"labelFontSize\": 11, \"labelFont\": \"Circular Std\", \"labelOpacity\": 0.7, \"tickColor\": \"#676A86\", \"tickOpacity\": 0.5, \"domainColor\": \"#676A86\", \"domainOpacity\": 0.5, \"gridColor\": \"#676A86\", \"gridDash\": [2, 2], \"gridOpacity\": 0.5, \"title\": null, \"titleColor\": \"#676A86\", \"titleOpacity\": 0.8, \"tickSize\": 4}, \"axisXDiscrete\": {\"grid\": false, \"labelAngle\": 0, \"tickCount\": 10, \"tickOpacity\": 0.5, \"title\": null}, \"axisYDiscrete\": {\"ticks\": false, \"labelPadding\": 5}, \"axisXTemporal\": {\"grid\": false, \"ticks\": true}, \"axisXQuantitative\": {\"grid\": true}, \"axisYQuantitative\": {\"gridColor\": \"#676A86\", \"gridDash\": [1, 5], \"gridOpacity\": 0.5, \"ticks\": false, \"labelPadding\": 5, \"tickCount\": 8, \"titleAngle\": 0, \"titleAlign\": \"left\", \"titleBaseline\": \"bottom\", \"titleX\": 0, \"titleY\": -5}, \"title\": {\"color\": \"#676A86E6\", \"subtitleColor\": \"#676A86\", \"font\": \"Circular Std\", \"subtitleFont\": \"Circular Std\", \"anchor\": \"start\", \"fontSize\": 20, \"subtitleFontSize\": 12, \"subtitlePadding\": 4, \"offset\": 0, \"frame\": \"group\"}, \"legend\": {\"titleColor\": \"#122b39\", \"title\": null, \"labelColor\": \"#122b39\", \"labelFontSize\": 11}}, \"layer\": [{\"data\": {\"name\": \"data-60d92a08a6ba88f705acbec554f9159e\"}, \"mark\": {\"type\": \"line\"}, \"encoding\": {\"color\": {\"field\": \"Tax\", \"legend\": null, \"type\": \"nominal\"}, \"tooltip\": [{\"field\": \"Year\", \"type\": \"nominal\"}, {\"field\": \"Tax\", \"type\": \"nominal\"}, {\"field\": \"Revenue (\\u00a3m)\", \"type\": \"quantitative\"}], \"x\": {\"axis\": {\"labelAngle\": 0, \"labelFontSize\": 14, \"values\": [\"FY07\", \"FY09\", \"FY11\", \"FY13\", \"FY15\", \"FY17\", \"FY19\", \"FY21\", \"FY23\", \"FY25\"]}, \"field\": \"Year\", \"type\": \"ordinal\"}, \"y\": {\"axis\": {\"format\": \",.0f\", \"labelExpr\": \"\\\"\\u00a3\\\" + datum.value / 1000 + \\\" bn\\\"\", \"labelFontSize\": 14}, \"field\": \"Revenue (\\u00a3m)\", \"type\": \"quantitative\"}}}, {\"data\": {\"name\": \"data-cc17b349d979e30852335d930a978c08\"}, \"mark\": {\"type\": \"text\", \"align\": \"left\", \"dx\": 5, \"fontSize\": 15, \"fontWeight\": \"bold\"}, \"encoding\": {\"color\": {\"field\": \"Tax\", \"legend\": null, \"type\": \"nominal\"}, \"text\": {\"field\": \"Tax\", \"type\": \"nominal\"}, \"x\": {\"field\": \"Year\", \"type\": \"nominal\"}, \"y\": {\"field\": \"Revenue (\\u00a3m)\", \"type\": \"quantitative\"}}}, {\"data\": {\"name\": \"data-bca75aae0b43a6a7d29b33b5ffbffc2e\"}, \"mark\": {\"type\": \"text\", \"align\": \"left\", \"baseline\": \"top\", \"dy\": 225, \"fontSize\": 13, \"fontStyle\": \"italic\", \"x\": -12.5}, \"encoding\": {\"text\": {\"field\": \"text\", \"type\": \"nominal\"}}}], \"height\": 400, \"title\": \"Revenue Generated from \\\"Sin\\\" Taxes\", \"width\": 500, \"$schema\": \"https://vega.github.io/schema/vega-lite/v5.20.1.json\", \"datasets\": {\"data-60d92a08a6ba88f705acbec554f9159e\": [{\"Year\": \"FY06\", \"Tax\": \"Tobacco\", \"Revenue (\\u00a3m)\": 7959.0}, {\"Year\": \"FY07\", \"Tax\": \"Tobacco\", \"Revenue (\\u00a3m)\": 8149.0}, {\"Year\": \"FY08\", \"Tax\": \"Tobacco\", \"Revenue (\\u00a3m)\": 8094.0}, {\"Year\": \"FY09\", \"Tax\": \"Tobacco\", \"Revenue (\\u00a3m)\": 8219.0}, {\"Year\": \"FY10\", \"Tax\": \"Tobacco\", \"Revenue (\\u00a3m)\": 8813.0}, {\"Year\": \"FY11\", \"Tax\": \"Tobacco\", \"Revenue (\\u00a3m)\": 9144.0}, {\"Year\": \"FY12\", \"Tax\": \"Tobacco\", \"Revenue (\\u00a3m)\": 9551.0}, {\"Year\": \"FY13\", \"Tax\": \"Tobacco\", \"Revenue (\\u00a3m)\": 9681.0}, {\"Year\": \"FY14\", \"Tax\": \"Tobacco\", \"Revenue (\\u00a3m)\": 9531.0}, {\"Year\": \"FY15\", \"Tax\": \"Tobacco\", \"Revenue (\\u00a3m)\": 9548.0}, {\"Year\": \"FY16\", \"Tax\": \"Tobacco\", \"Revenue (\\u00a3m)\": 9485.0}, {\"Year\": \"FY17\", \"Tax\": \"Tobacco\", \"Revenue (\\u00a3m)\": 8909.0}, {\"Year\": \"FY18\", \"Tax\": \"Tobacco\", \"Revenue (\\u00a3m)\": 8827.0}, {\"Year\": \"FY19\", \"Tax\": \"Tobacco\", \"Revenue (\\u00a3m)\": 9290.0}, {\"Year\": \"FY20\", \"Tax\": \"Tobacco\", \"Revenue (\\u00a3m)\": 8804.0}, {\"Year\": \"FY21\", \"Tax\": \"Tobacco\", \"Revenue (\\u00a3m)\": 9964.0}, {\"Year\": \"FY22\", \"Tax\": \"Tobacco\", \"Revenue (\\u00a3m)\": 10278.0}, {\"Year\": \"FY23\", \"Tax\": \"Tobacco\", \"Revenue (\\u00a3m)\": 10004.0}, {\"Year\": \"FY24\", \"Tax\": \"Tobacco\", \"Revenue (\\u00a3m)\": 8804.0}, {\"Year\": \"FY25\", \"Tax\": \"Tobacco\", \"Revenue (\\u00a3m)\": 7927.0}, {\"Year\": \"FY06\", \"Tax\": \"Alcohol\", \"Revenue (\\u00a3m)\": 7861.0}, {\"Year\": \"FY07\", \"Tax\": \"Alcohol\", \"Revenue (\\u00a3m)\": 7913.0}, {\"Year\": \"FY08\", \"Tax\": \"Alcohol\", \"Revenue (\\u00a3m)\": 8302.0}, {\"Year\": \"FY09\", \"Tax\": \"Alcohol\", \"Revenue (\\u00a3m)\": 8470.0}, {\"Year\": \"FY10\", \"Tax\": \"Alcohol\", \"Revenue (\\u00a3m)\": 9012.0}, {\"Year\": \"FY11\", \"Tax\": \"Alcohol\", \"Revenue (\\u00a3m)\": 9396.0}, {\"Year\": \"FY12\", \"Tax\": \"Alcohol\", \"Revenue (\\u00a3m)\": 10037.0}, {\"Year\": \"FY13\", \"Tax\": \"Alcohol\", \"Revenue (\\u00a3m)\": 10220.0}, {\"Year\": \"FY14\", \"Tax\": \"Alcohol\", \"Revenue (\\u00a3m)\": 10455.0}, {\"Year\": \"FY15\", \"Tax\": \"Alcohol\", \"Revenue (\\u00a3m)\": 10490.0}, {\"Year\": \"FY16\", \"Tax\": \"Alcohol\", \"Revenue (\\u00a3m)\": 10687.0}, {\"Year\": \"FY17\", \"Tax\": \"Alcohol\", \"Revenue (\\u00a3m)\": 11155.0}, {\"Year\": \"FY18\", \"Tax\": \"Alcohol\", \"Revenue (\\u00a3m)\": 11440.0}, {\"Year\": \"FY19\", \"Tax\": \"Alcohol\", \"Revenue (\\u00a3m)\": 12111.0}, {\"Year\": \"FY20\", \"Tax\": \"Alcohol\", \"Revenue (\\u00a3m)\": 11837.0}, {\"Year\": \"FY21\", \"Tax\": \"Alcohol\", \"Revenue (\\u00a3m)\": 12106.0}, {\"Year\": \"FY22\", \"Tax\": \"Alcohol\", \"Revenue (\\u00a3m)\": 13116.0}, {\"Year\": \"FY23\", \"Tax\": \"Alcohol\", \"Revenue (\\u00a3m)\": 12443.0}, {\"Year\": \"FY24\", \"Tax\": \"Alcohol\", \"Revenue (\\u00a3m)\": 12589.0}, {\"Year\": \"FY25\", \"Tax\": \"Alcohol\", \"Revenue (\\u00a3m)\": 12616.0}, {\"Year\": \"FY06\", \"Tax\": \"Betting & Gaming\", \"Revenue (\\u00a3m)\": 1421.0}, {\"Year\": \"FY07\", \"Tax\": \"Betting & Gaming\", \"Revenue (\\u00a3m)\": 1391.0}, {\"Year\": \"FY08\", \"Tax\": \"Betting & Gaming\", \"Revenue (\\u00a3m)\": 1481.0}, {\"Year\": \"FY09\", \"Tax\": \"Betting & Gaming\", \"Revenue (\\u00a3m)\": 1474.0}, {\"Year\": \"FY10\", \"Tax\": \"Betting & Gaming\", \"Revenue (\\u00a3m)\": 1439.0}, {\"Year\": \"FY11\", \"Tax\": \"Betting & Gaming\", \"Revenue (\\u00a3m)\": 1533.0}, {\"Year\": \"FY12\", \"Tax\": \"Betting & Gaming\", \"Revenue (\\u00a3m)\": 1633.0}, {\"Year\": \"FY13\", \"Tax\": \"Betting & Gaming\", \"Revenue (\\u00a3m)\": 1680.0}, {\"Year\": \"FY14\", \"Tax\": \"Betting & Gaming\", \"Revenue (\\u00a3m)\": 2098.0}, {\"Year\": \"FY15\", \"Tax\": \"Betting & Gaming\", \"Revenue (\\u00a3m)\": 2116.0}, {\"Year\": \"FY16\", \"Tax\": \"Betting & Gaming\", \"Revenue (\\u00a3m)\": 2666.0}, {\"Year\": \"FY17\", \"Tax\": \"Betting & Gaming\", \"Revenue (\\u00a3m)\": 2742.0}, {\"Year\": \"FY18\", \"Tax\": \"Betting & Gaming\", \"Revenue (\\u00a3m)\": 2860.0}, {\"Year\": \"FY19\", \"Tax\": \"Betting & Gaming\", \"Revenue (\\u00a3m)\": 2985.0}, {\"Year\": \"FY20\", \"Tax\": \"Betting & Gaming\", \"Revenue (\\u00a3m)\": 3019.0}, {\"Year\": \"FY21\", \"Tax\": \"Betting & Gaming\", \"Revenue (\\u00a3m)\": 2837.0}, {\"Year\": \"FY22\", \"Tax\": \"Betting & Gaming\", \"Revenue (\\u00a3m)\": 3074.0}, {\"Year\": \"FY23\", \"Tax\": \"Betting & Gaming\", \"Revenue (\\u00a3m)\": 3303.0}, {\"Year\": \"FY24\", \"Tax\": \"Betting & Gaming\", \"Revenue (\\u00a3m)\": 3389.0}, {\"Year\": \"FY25\", \"Tax\": \"Betting & Gaming\", \"Revenue (\\u00a3m)\": 3616.0}], \"data-cc17b349d979e30852335d930a978c08\": [{\"Year\": \"FY25\", \"Tax\": \"Alcohol\", \"Revenue (\\u00a3m)\": 12616.0}, {\"Year\": \"FY25\", \"Tax\": \"Betting & Gaming\", \"Revenue (\\u00a3m)\": 3616.0}, {\"Year\": \"FY25\", \"Tax\": \"Tobacco\", \"Revenue (\\u00a3m)\": 7927.0}], \"data-bca75aae0b43a6a7d29b33b5ffbffc2e\": [{\"text\": \"Sources: HMRC tax receipts\"}]}}, {\"mode\": \"vega-lite\"});\n",
       "</script>"
      ],
      "text/plain": [
       "alt.LayerChart(...)"
      ]
     },
     "execution_count": 79,
     "metadata": {},
     "output_type": "execute_result"
    }
   ],
   "source": [
    "# 2. Find last year for each Type\n",
    "last_points = sins_cum_s_melt.loc[sins_cum_s_melt.groupby('Tax')['Year'].idxmax()]\n",
    "\n",
    "lines = alt.Chart(sins_cum_s_melt).mark_line().encode(\n",
    "    x=alt.X('Year:O', axis=alt.Axis(\n",
    "        labelAngle=0,\n",
    "        labelFontSize=14,\n",
    "        values=['FY07', 'FY09', 'FY11', 'FY13', 'FY15', 'FY17', 'FY19', 'FY21', 'FY23', 'FY25']  # Specify exact years\n",
    "    )),\n",
    "    y=alt.Y('Revenue (£m):Q',axis=alt.Axis(format=',.0f', labelFontSize=14, labelExpr='\"£\" + datum.value / 1000 + \" bn\"')),\n",
    "    color=alt.Color('Tax:N', legend=None),\n",
    "    tooltip=['Year', 'Tax', 'Revenue (£m)']\n",
    ").properties(\n",
    "    height=400,\n",
    "    width=600,\n",
    ")\n",
    "\n",
    "# 4. Add text labels at the end\n",
    "text = alt.Chart(last_points).mark_text(\n",
    "    align='left',\n",
    "    dx=5,\n",
    "    fontWeight='bold',\n",
    "    fontSize=15\n",
    ").encode(\n",
    "    x=alt.X('Year:N'),\n",
    "    y=alt.Y('Revenue (£m):Q'),\n",
    "    text='Tax',\n",
    "    color=alt.Color('Tax:N', legend=None)\n",
    ")\n",
    "\n",
    "footnote = alt.Chart(pd.DataFrame({'text': [\n",
    "    \"Sources: HMRC tax receipts\"\n",
    "]})).mark_text(\n",
    "    align='left',\n",
    "    baseline='top',\n",
    "    fontSize=13,\n",
    "    fontStyle='italic',\n",
    "    dy=225,\n",
    "    x=-12.5\n",
    ").encode(\n",
    "    text='text'\n",
    ")\n",
    "\n",
    "# 5. Combine and display\n",
    "chart = (lines + text + footnote).properties(title= 'Revenue Generated from \"Sin\" Taxes', width=500).configure_title(\n",
    "    fontSize=20  # Increase title font size here\n",
    ")\n",
    "chart"
   ]
  },
  {
   "cell_type": "code",
   "execution_count": 80,
   "id": "e5703a7b",
   "metadata": {},
   "outputs": [],
   "source": [
    "# Save to png\n",
    "chart.save('Sin_taxes.png', scale_factor=2)\n",
    "chart.save('Sin_taxes.json', scale_factor=2)"
   ]
  },
  {
   "cell_type": "markdown",
   "id": "b5b96714",
   "metadata": {},
   "source": [
    "Tax revenue from Tobacco has dropped sharply, while Alcohol & Betting continue to grow. Likely drivers: falling smoking rates + rise of yet untaxed vaping, alongside growing demand for gambling."
   ]
  }
 ],
 "metadata": {
  "kernelspec": {
   "display_name": "charts",
   "language": "python",
   "name": "python3"
  },
  "language_info": {
   "codemirror_mode": {
    "name": "ipython",
    "version": 3
   },
   "file_extension": ".py",
   "mimetype": "text/x-python",
   "name": "python",
   "nbconvert_exporter": "python",
   "pygments_lexer": "ipython3",
   "version": "3.12.11"
  }
 },
 "nbformat": 4,
 "nbformat_minor": 5
}
