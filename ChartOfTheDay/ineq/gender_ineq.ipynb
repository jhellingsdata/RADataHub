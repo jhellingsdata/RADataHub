{
 "cells": [
  {
   "cell_type": "code",
   "execution_count": 25,
   "metadata": {},
   "outputs": [
    {
     "data": {
      "text/plain": [
       "ThemeRegistry.enable('light')"
      ]
     },
     "execution_count": 25,
     "metadata": {},
     "output_type": "execute_result"
    }
   ],
   "source": [
    "import pandas as pd\n",
    "import pycountry \n",
    "import altair as alt\n",
    "import eco_style\n",
    "alt.themes.enable('light')"
   ]
  },
  {
   "cell_type": "code",
   "execution_count": 26,
   "metadata": {},
   "outputs": [
    {
     "data": {
      "text/html": [
       "\n",
       "<style>\n",
       "  #altair-viz-6e0baeaa108b44a98d81444384d108eb.vega-embed {\n",
       "    width: 100%;\n",
       "    display: flex;\n",
       "  }\n",
       "\n",
       "  #altair-viz-6e0baeaa108b44a98d81444384d108eb.vega-embed details,\n",
       "  #altair-viz-6e0baeaa108b44a98d81444384d108eb.vega-embed details summary {\n",
       "    position: relative;\n",
       "  }\n",
       "</style>\n",
       "<div id=\"altair-viz-6e0baeaa108b44a98d81444384d108eb\"></div>\n",
       "<script type=\"text/javascript\">\n",
       "  var VEGA_DEBUG = (typeof VEGA_DEBUG == \"undefined\") ? {} : VEGA_DEBUG;\n",
       "  (function(spec, embedOpt){\n",
       "    let outputDiv = document.currentScript.previousElementSibling;\n",
       "    if (outputDiv.id !== \"altair-viz-6e0baeaa108b44a98d81444384d108eb\") {\n",
       "      outputDiv = document.getElementById(\"altair-viz-6e0baeaa108b44a98d81444384d108eb\");\n",
       "    }\n",
       "\n",
       "    const paths = {\n",
       "      \"vega\": \"https://cdn.jsdelivr.net/npm/vega@5?noext\",\n",
       "      \"vega-lib\": \"https://cdn.jsdelivr.net/npm/vega-lib?noext\",\n",
       "      \"vega-lite\": \"https://cdn.jsdelivr.net/npm/vega-lite@5.20.1?noext\",\n",
       "      \"vega-embed\": \"https://cdn.jsdelivr.net/npm/vega-embed@6?noext\",\n",
       "    };\n",
       "\n",
       "    function maybeLoadScript(lib, version) {\n",
       "      var key = `${lib.replace(\"-\", \"\")}_version`;\n",
       "      return (VEGA_DEBUG[key] == version) ?\n",
       "        Promise.resolve(paths[lib]) :\n",
       "        new Promise(function(resolve, reject) {\n",
       "          var s = document.createElement('script');\n",
       "          document.getElementsByTagName(\"head\")[0].appendChild(s);\n",
       "          s.async = true;\n",
       "          s.onload = () => {\n",
       "            VEGA_DEBUG[key] = version;\n",
       "            return resolve(paths[lib]);\n",
       "          };\n",
       "          s.onerror = () => reject(`Error loading script: ${paths[lib]}`);\n",
       "          s.src = paths[lib];\n",
       "        });\n",
       "    }\n",
       "\n",
       "    function showError(err) {\n",
       "      outputDiv.innerHTML = `<div class=\"error\" style=\"color:red;\">${err}</div>`;\n",
       "      throw err;\n",
       "    }\n",
       "\n",
       "    function displayChart(vegaEmbed) {\n",
       "      vegaEmbed(outputDiv, spec, embedOpt)\n",
       "        .catch(err => showError(`Javascript Error: ${err.message}<br>This usually means there's a typo in your chart specification. See the javascript console for the full traceback.`));\n",
       "    }\n",
       "\n",
       "    if(typeof define === \"function\" && define.amd) {\n",
       "      requirejs.config({paths});\n",
       "      let deps = [\"vega-embed\"];\n",
       "      require(deps, displayChart, err => showError(`Error loading script: ${err.message}`));\n",
       "    } else {\n",
       "      maybeLoadScript(\"vega\", \"5\")\n",
       "        .then(() => maybeLoadScript(\"vega-lite\", \"5.20.1\"))\n",
       "        .then(() => maybeLoadScript(\"vega-embed\", \"6\"))\n",
       "        .catch(showError)\n",
       "        .then(() => displayChart(vegaEmbed));\n",
       "    }\n",
       "  })({\"config\": {\"font\": \"Circular Std\", \"mark\": {\"line\": {\"interpolate\": \"monotone\"}}, \"view\": {\"stroke\": \"transparent\", \"width\": 400, \"height\": 300}, \"range\": {\"category\": [\"hsl(179, 54%, 46%)\", \"hsl(347, 80%, 52%)\", \"hsl(43, 89%, 61%)\", \"hsl(206, 100%, 34%)\", \"#00A767\", \"#179FDB\", \"#EB5C2E\"], \"diverging\": [\"#E6224B\", \"#E54753\", \"#C9C9C9\", \"#179FDB\", \"#122B39\"], \"heatmap\": [\"#C9C9C9\", \"#179FDB\", \"#0063AF\", \"#122B39\"], \"ordinal\": [\"#00A767\", \"#36B7B4\", \"#179FDB\", \"#0063AF\", \"#243B5A\"]}, \"axisX\": {\"domainColor\": \"#676A86\", \"domainOpacity\": 0.5, \"grid\": false, \"labelAngle\": 0, \"labelColor\": \"#676A86\", \"labelOpacity\": 0.7, \"orient\": \"bottom\", \"tickColor\": \"#676A86\", \"tickCount\": 10, \"tickOpacity\": 0.5, \"title\": false, \"titleAlign\": \"center\", \"titleAnchor\": \"middle\", \"titleColor\": \"#676A86\", \"titleFontSize\": 12, \"titleOpacity\": 0.8, \"titleY\": -15}, \"axisY\": {\"domainColor\": \"#676A86\", \"domainOpacity\": 0.5, \"gridColor\": \"#676A86\", \"gridDash\": [1, 5], \"gridOpacity\": 0.5, \"labelColor\": \"#676A86\", \"labelOpacity\": 0.7, \"labelPadding\": 5, \"tickColor\": \"#676A86\", \"tickCount\": 8, \"tickOpacity\": 0.5, \"ticks\": false, \"titleAlign\": \"left\", \"titleAngle\": 0, \"titleBaseline\": \"bottom\", \"titleColor\": \"#676A86\", \"titleFontSize\": 12, \"titleOpacity\": 0.8, \"titleX\": 0, \"titleY\": -7}}, \"data\": {\"name\": \"data-96d296021de5361cc3d510f77b02c8d7\"}, \"mark\": {\"type\": \"bar\"}, \"encoding\": {\"color\": {\"field\": \"value\", \"scale\": {\"scheme\": \"viridis\"}, \"type\": \"quantitative\"}, \"tooltip\": [{\"field\": \"country\", \"type\": \"nominal\"}, {\"field\": \"value\", \"type\": \"quantitative\"}], \"x\": {\"field\": \"iso3\", \"sort\": \"-y\", \"type\": \"nominal\"}, \"y\": {\"axis\": {\"format\": \"%\"}, \"field\": \"value\", \"type\": \"quantitative\"}}, \"$schema\": \"https://vega.github.io/schema/vega-lite/v5.20.1.json\", \"datasets\": {\"data-96d296021de5361cc3d510f77b02c8d7\": [{\"country\": \"Korea\", \"value\": 0.29300864100999996, \"iso3\": \"KOR\"}, {\"country\": \"Japan\", \"value\": 0.22042139383999998, \"iso3\": \"JPN\"}, {\"country\": \"Estonia\", \"value\": 0.2142459655, \"iso3\": \"EST\"}, {\"country\": \"Israel\", \"value\": 0.20846153846, \"iso3\": \"ISR\"}, {\"country\": \"Latvia\", \"value\": 0.18412028289, \"iso3\": \"LVA\"}, {\"country\": \"United States\", \"value\": 0.16389351082, \"iso3\": \"USA\"}, {\"country\": \"Canada\", \"value\": 0.16136363635999998, \"iso3\": \"CAN\"}, {\"country\": \"Finland\", \"value\": 0.16131884931999999, \"iso3\": \"FIN\"}, {\"country\": \"Mexico\", \"value\": 0.15, \"iso3\": \"MEX\"}, {\"country\": \"Germany\", \"value\": 0.14245334436, \"iso3\": \"DEU\"}, {\"country\": \"Hungary\", \"value\": 0.14241161051, \"iso3\": \"HUN\"}, {\"country\": \"Chile\", \"value\": 0.13593248303, \"iso3\": \"CHL\"}, {\"country\": \"United Kingdom\", \"value\": 0.13255172414, \"iso3\": \"GBR\"}, {\"country\": \"Czechia\", \"value\": 0.13170419834, \"iso3\": \"CZE\"}, {\"country\": \"Switzerland\", \"value\": 0.12067099567, \"iso3\": \"CHE\"}, {\"country\": \"Austria\", \"value\": 0.11955710284, \"iso3\": \"AUT\"}, {\"country\": \"Ireland\", \"value\": 0.11808680897, \"iso3\": \"IRL\"}, {\"country\": \"Slovak Republic\", \"value\": 0.11760408325, \"iso3\": \"SVK\"}, {\"country\": \"Australia\", \"value\": 0.1134751773, \"iso3\": \"AUS\"}, {\"country\": \"OECD\", \"value\": 0.110947331600974, \"iso3\": \"OECD\"}, {\"country\": \"Poland\", \"value\": 0.10857191217, \"iso3\": \"POL\"}, {\"country\": \"Iceland\", \"value\": 0.10192417603000001, \"iso3\": \"ISL\"}, {\"country\": \"Portugal\", \"value\": 0.10056101514, \"iso3\": \"PRT\"}, {\"country\": \"T\\u00fcrkiye\", \"value\": 0.09980806142000001, \"iso3\": \"TUR\"}, {\"country\": \"Greece\", \"value\": 0.09694999862699999, \"iso3\": \"GRC\"}, {\"country\": \"OECD-EU\", \"value\": 0.0951988567052105, \"iso3\": null}, {\"country\": \"Slovenia\", \"value\": 0.09178213831300001, \"iso3\": \"SVN\"}, {\"country\": \"European Union\", \"value\": 0.0913152859122963, \"iso3\": \"EUO\"}, {\"country\": \"Sweden\", \"value\": 0.072972972973, \"iso3\": \"SWE\"}, {\"country\": \"Spain\", \"value\": 0.062009459509, \"iso3\": \"ESP\"}, {\"country\": \"Netherlands\", \"value\": 0.060700110012, \"iso3\": \"NLD\"}, {\"country\": \"Denmark\", \"value\": 0.058370885926999995, \"iso3\": \"DNK\"}, {\"country\": \"France\", \"value\": 0.053461538462, \"iso3\": \"FRA\"}, {\"country\": \"Norway\", \"value\": 0.045200892857, \"iso3\": \"NOR\"}, {\"country\": \"Lithuania\", \"value\": 0.04402102496700001, \"iso3\": \"LTU\"}, {\"country\": \"New Zealand\", \"value\": 0.042303172738, \"iso3\": \"NZL\"}, {\"country\": \"Costa Rica\", \"value\": 0.04210524667, \"iso3\": \"CRI\"}, {\"country\": \"Italy\", \"value\": 0.041421142547, \"iso3\": \"ITA\"}, {\"country\": \"Colombia\", \"value\": 0.019455252917999998, \"iso3\": \"COL\"}, {\"country\": \"Belgium\", \"value\": 0.009069085089, \"iso3\": \"BEL\"}, {\"country\": \"Luxembourg\", \"value\": 0.00441118842603704, \"iso3\": \"LUX\"}]}}, {\"mode\": \"vega-lite\"});\n",
       "</script>"
      ],
      "text/plain": [
       "alt.Chart(...)"
      ]
     },
     "execution_count": 26,
     "metadata": {},
     "output_type": "execute_result"
    }
   ],
   "source": [
    "df = pd.read_csv('export-2025-03-07T14_42_09.944Z.csv', skiprows=2)\n",
    "df.columns = ['country', 'value']\n",
    "df['value'] = df['value'].astype(float)/100\n",
    "\n",
    "iso3_rebinds = {  \"Korea\": \"KOR\",  \"Japan\": \"JPN\",  \"Estonia\": \"EST\",  \"Israel\": \"ISR\",  \"Latvia\": \"LVA\",  \"United States\": \"USA\",  \"Canada\": \"CAN\",  \"Finland\": \"FIN\",  \"Mexico\": \"MEX\",  \"Germany\": \"DEU\",  \"Hungary\": \"HUN\",  \"Chile\": \"CHL\",  \"United Kingdom\": \"GBR\",  \"Czechia\": \"CZE\",  \"Switzerland\": \"CHE\",  \"Austria\": \"AUT\",  \"Ireland\": \"IRL\",  \"Slovak Republic\": \"SVK\",  \"Australia\": \"AUS\",  \"OECD\": \"OECD\",  \"Poland\": \"POL\",  \"Iceland\": \"ISL\",  \"Portugal\": \"PRT\",  \"Türkiye\": \"TUR\",  \"Greece\": \"GRC\",   \"Slovenia\": \"SVN\",  \"European Union\": \"EUO\",  \"Sweden\": \"SWE\",  \"Spain\": \"ESP\",  \"Netherlands\": \"NLD\",  \"Denmark\": \"DNK\",  \"France\": \"FRA\",  \"Norway\": \"NOR\",  \"Lithuania\": \"LTU\",  \"New Zealand\": \"NZL\",  \"Costa Rica\": \"CRI\",  \"Italy\": \"ITA\",  \"Colombia\": \"COL\",  \"Belgium\": \"BEL\",  \"Luxembourg\": \"LUX\"}\n",
    "\n",
    "df['iso3'] = df['country'].map(iso3_rebinds)\n",
    "\n",
    "base = alt.Chart(df).encode(\n",
    "    x=alt.X('iso3:N', sort='-y'),\n",
    "    y=alt.Y('value:Q', axis=alt.Axis(format='%')),\n",
    ")\n",
    "\n",
    "bars = base.mark_bar().encode(\n",
    "    color=alt.Color('value:Q', scale=alt.Scale(scheme='viridis')),\n",
    "    tooltip=['country', 'value']\n",
    ")\n",
    "\n",
    "bars"
   ]
  },
  {
   "cell_type": "code",
   "execution_count": null,
   "metadata": {},
   "outputs": [],
   "source": []
  },
  {
   "cell_type": "code",
   "execution_count": null,
   "metadata": {},
   "outputs": [],
   "source": []
  },
  {
   "cell_type": "code",
   "execution_count": 22,
   "metadata": {},
   "outputs": [
    {
     "data": {
      "text/plain": [
       "array(['Korea', 'Japan', 'Estonia', 'Israel', 'Latvia', 'United States',\n",
       "       'Canada', 'Finland', 'Mexico', 'Germany', 'Hungary', 'Chile',\n",
       "       'United Kingdom', 'Czechia', 'Switzerland', 'Austria', 'Ireland',\n",
       "       'Slovak Republic', 'Australia', 'OECD', 'Poland', 'Iceland',\n",
       "       'Portugal', 'Türkiye', 'Greece', 'OECD-EU', 'Slovenia',\n",
       "       'European Union', 'Sweden', 'Spain', 'Netherlands', 'Denmark',\n",
       "       'France', 'Norway', 'Lithuania', 'New Zealand', 'Costa Rica',\n",
       "       'Italy', 'Colombia', 'Belgium', 'Luxembourg'], dtype=object)"
      ]
     },
     "execution_count": 22,
     "metadata": {},
     "output_type": "execute_result"
    }
   ],
   "source": [
    "df.country.unique()"
   ]
  },
  {
   "cell_type": "code",
   "execution_count": null,
   "metadata": {},
   "outputs": [],
   "source": []
  }
 ],
 "metadata": {
  "kernelspec": {
   "display_name": "base",
   "language": "python",
   "name": "python3"
  },
  "language_info": {
   "codemirror_mode": {
    "name": "ipython",
    "version": 3
   },
   "file_extension": ".py",
   "mimetype": "text/x-python",
   "name": "python",
   "nbconvert_exporter": "python",
   "pygments_lexer": "ipython3",
   "version": "3.11.4"
  }
 },
 "nbformat": 4,
 "nbformat_minor": 2
}
