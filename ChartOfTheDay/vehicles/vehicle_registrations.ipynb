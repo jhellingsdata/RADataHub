{
 "cells": [
  {
   "cell_type": "code",
   "execution_count": 1,
   "id": "096ddac0",
   "metadata": {},
   "outputs": [],
   "source": [
    "import pandas as pd\n",
    "import altair as alt"
   ]
  },
  {
   "cell_type": "code",
   "execution_count": 2,
   "id": "292e9de4",
   "metadata": {},
   "outputs": [],
   "source": [
    "from ecostyles import EcoStyles\n",
    "# Create styles instance\n",
    "styles = EcoStyles()\n",
    "# Register and enable a theme\n",
    "styles.register_and_enable_theme(theme_name=\"article\")  # or \"article\""
   ]
  },
  {
   "cell_type": "code",
   "execution_count": 3,
   "id": "5faa8319",
   "metadata": {},
   "outputs": [],
   "source": [
    "vr = pd.read_csv('/Users/sambickel-barlow/RADataHub/RADataHub/ChartOfTheDay/vehicles/veh1153a.csv')"
   ]
  },
  {
   "cell_type": "code",
   "execution_count": 4,
   "id": "910aeb7f",
   "metadata": {},
   "outputs": [],
   "source": [
    "chart_df = vr[vr['Geography'] == 'United Kingdom']\n",
    "chart_df = chart_df[chart_df['Date Interval'] == 'Annual']\n",
    "chart_df = chart_df[chart_df['BodyType'] == 'Cars']\n",
    "chart_df = chart_df[chart_df['Units'] == 'Thousands']\n",
    "chart_df = chart_df[chart_df['Keepership'] == 'Total']"
   ]
  },
  {
   "cell_type": "code",
   "execution_count": 5,
   "id": "34fba9ea",
   "metadata": {},
   "outputs": [],
   "source": [
    "chart_df = chart_df.drop(['Geography', 'Date Interval', 'Units', 'BodyType', 'Keepership'], axis=1)"
   ]
  },
  {
   "cell_type": "code",
   "execution_count": 6,
   "id": "165302a0",
   "metadata": {},
   "outputs": [],
   "source": [
    "chart_df['Hybrid electric'] = chart_df['Hybrid electric (petrol)'] + chart_df['Hybrid electric (diesel)']\n",
    "chart_df['Plug-in'] = chart_df['Plug-in hybrid electric (petrol)'] + chart_df['Plug-in hybrid electric (diesel)']"
   ]
  },
  {
   "cell_type": "code",
   "execution_count": 7,
   "id": "2690d224",
   "metadata": {},
   "outputs": [],
   "source": [
    "chart_df = chart_df.melt(id_vars=['Date'], value_vars=['Petrol', 'Diesel', 'Hybrid electric (petrol)', 'Hybrid electric (diesel)', 'Plug-in hybrid electric (petrol)','Plug-in hybrid electric (diesel)', 'Battery electric', 'Range extended electric', 'Fuel cell electric', 'Gas', 'Others', 'Total', 'Plugin', 'ZEV' ,'Hybrid electric', 'Plug-in'], value_name='Registrations', var_name='Type')"
   ]
  },
  {
   "cell_type": "code",
   "execution_count": 8,
   "id": "9c0ed574",
   "metadata": {},
   "outputs": [],
   "source": [
    "chart_df = chart_df[chart_df['Type'].isin(['Petrol', 'Diesel', 'Hybrid electric', 'ZEV', 'Plug-in'])]"
   ]
  },
  {
   "cell_type": "code",
   "execution_count": 9,
   "id": "69119506",
   "metadata": {},
   "outputs": [
    {
     "data": {
      "text/html": [
       "\n",
       "<style>\n",
       "  #altair-viz-f384abd14c7e4cefb4462cf8cc991478.vega-embed {\n",
       "    width: 100%;\n",
       "    display: flex;\n",
       "  }\n",
       "\n",
       "  #altair-viz-f384abd14c7e4cefb4462cf8cc991478.vega-embed details,\n",
       "  #altair-viz-f384abd14c7e4cefb4462cf8cc991478.vega-embed details summary {\n",
       "    position: relative;\n",
       "  }\n",
       "</style>\n",
       "<div id=\"altair-viz-f384abd14c7e4cefb4462cf8cc991478\"></div>\n",
       "<script type=\"text/javascript\">\n",
       "  var VEGA_DEBUG = (typeof VEGA_DEBUG == \"undefined\") ? {} : VEGA_DEBUG;\n",
       "  (function(spec, embedOpt){\n",
       "    let outputDiv = document.currentScript.previousElementSibling;\n",
       "    if (outputDiv.id !== \"altair-viz-f384abd14c7e4cefb4462cf8cc991478\") {\n",
       "      outputDiv = document.getElementById(\"altair-viz-f384abd14c7e4cefb4462cf8cc991478\");\n",
       "    }\n",
       "\n",
       "    const paths = {\n",
       "      \"vega\": \"https://cdn.jsdelivr.net/npm/vega@5?noext\",\n",
       "      \"vega-lib\": \"https://cdn.jsdelivr.net/npm/vega-lib?noext\",\n",
       "      \"vega-lite\": \"https://cdn.jsdelivr.net/npm/vega-lite@5.20.1?noext\",\n",
       "      \"vega-embed\": \"https://cdn.jsdelivr.net/npm/vega-embed@6?noext\",\n",
       "    };\n",
       "\n",
       "    function maybeLoadScript(lib, version) {\n",
       "      var key = `${lib.replace(\"-\", \"\")}_version`;\n",
       "      return (VEGA_DEBUG[key] == version) ?\n",
       "        Promise.resolve(paths[lib]) :\n",
       "        new Promise(function(resolve, reject) {\n",
       "          var s = document.createElement('script');\n",
       "          document.getElementsByTagName(\"head\")[0].appendChild(s);\n",
       "          s.async = true;\n",
       "          s.onload = () => {\n",
       "            VEGA_DEBUG[key] = version;\n",
       "            return resolve(paths[lib]);\n",
       "          };\n",
       "          s.onerror = () => reject(`Error loading script: ${paths[lib]}`);\n",
       "          s.src = paths[lib];\n",
       "        });\n",
       "    }\n",
       "\n",
       "    function showError(err) {\n",
       "      outputDiv.innerHTML = `<div class=\"error\" style=\"color:red;\">${err}</div>`;\n",
       "      throw err;\n",
       "    }\n",
       "\n",
       "    function displayChart(vegaEmbed) {\n",
       "      vegaEmbed(outputDiv, spec, embedOpt)\n",
       "        .catch(err => showError(`Javascript Error: ${err.message}<br>This usually means there's a typo in your chart specification. See the javascript console for the full traceback.`));\n",
       "    }\n",
       "\n",
       "    if(typeof define === \"function\" && define.amd) {\n",
       "      requirejs.config({paths});\n",
       "      let deps = [\"vega-embed\"];\n",
       "      require(deps, displayChart, err => showError(`Error loading script: ${err.message}`));\n",
       "    } else {\n",
       "      maybeLoadScript(\"vega\", \"5\")\n",
       "        .then(() => maybeLoadScript(\"vega-lite\", \"5.20.1\"))\n",
       "        .then(() => maybeLoadScript(\"vega-embed\", \"6\"))\n",
       "        .catch(showError)\n",
       "        .then(() => displayChart(vegaEmbed));\n",
       "    }\n",
       "  })({\"config\": {\"font\": \"Circular Std\", \"text\": {\"color\": \"#676A86\", \"align\": \"left\", \"baseline\": \"middle\", \"dx\": 7, \"dy\": 0, \"fontSize\": 11}, \"view\": {\"stroke\": null, \"continuousWidth\": 400, \"continuousHeight\": 300, \"discreteWidth\": 400, \"discreteHeight\": 300}, \"range\": {\"category\": [\"#36B7B4\", \"#E6224B\", \"#F4C245\", \"#0063AF\", \"#00A767\", \"#179FDB\", \"#EB5C2E\"], \"diverging\": [\"#E6224B\", \"#E54753\", \"#C9C9C9\", \"#179FDB\", \"#122B39\"], \"heatmap\": [\"#C9C9C9\", \"#179FDB\", \"#0063AF\", \"#122B39\"], \"ordinal\": [\"#00A767\", \"#36B7B4\", \"#179FDB\", \"#0063AF\", \"#243B5A\"]}, \"bar\": {\"color\": \"#179fdb\"}, \"line\": {\"color\": \"#e6224b\"}, \"rule\": {\"color\": \"#676A86\"}, \"area\": {\"opacity\": 0.3}, \"point\": {\"filled\": true, \"size\": 80, \"color\": \"#e6224b\", \"opacity\": 0.95}, \"geoshape\": {\"stroke\": \"white\", \"strokeWidth\": 0.3}, \"rect\": {\"fill\": \"#d6d4d4\", \"opacity\": 0.3}, \"axis\": {\"labelColor\": \"#676A86\", \"labelFontSize\": 11, \"labelFont\": \"Circular Std\", \"labelOpacity\": 0.7, \"tickColor\": \"#676A86\", \"tickOpacity\": 0.5, \"domainColor\": \"#676A86\", \"domainOpacity\": 0.5, \"gridColor\": \"#676A86\", \"gridDash\": [2, 2], \"gridOpacity\": 0.5, \"title\": null, \"titleColor\": \"#676A86\", \"titleOpacity\": 0.8, \"tickSize\": 4}, \"axisXDiscrete\": {\"grid\": false, \"labelAngle\": 0, \"tickCount\": 10, \"tickOpacity\": 0.5, \"title\": null}, \"axisYDiscrete\": {\"ticks\": false, \"labelPadding\": 5}, \"axisXTemporal\": {\"grid\": false, \"ticks\": true}, \"axisXQuantitative\": {\"grid\": true}, \"axisYQuantitative\": {\"gridColor\": \"#676A86\", \"gridDash\": [1, 5], \"gridOpacity\": 0.5, \"ticks\": false, \"labelPadding\": 5, \"tickCount\": 8, \"titleAngle\": 0, \"titleAlign\": \"left\", \"titleBaseline\": \"bottom\", \"titleX\": 0, \"titleY\": -5}, \"title\": {\"color\": \"#676A86E6\", \"subtitleColor\": \"#676A86\", \"font\": \"Circular Std\", \"subtitleFont\": \"Circular Std\", \"anchor\": \"start\", \"fontSize\": 20, \"subtitleFontSize\": 12, \"subtitlePadding\": 4, \"offset\": 0, \"frame\": \"group\"}, \"legend\": {\"titleColor\": \"#122b39\", \"title\": null, \"labelColor\": \"#122b39\", \"labelFontSize\": 11}}, \"layer\": [{\"data\": {\"name\": \"data-036b6874c2085e12b3cbb56811db419b\"}, \"mark\": {\"type\": \"line\"}, \"encoding\": {\"color\": {\"field\": \"Type\", \"legend\": null, \"type\": \"nominal\"}, \"x\": {\"axis\": {\"title\": \"\"}, \"field\": \"Date\", \"scale\": {\"padding\": 0}, \"type\": \"nominal\"}, \"y\": {\"axis\": {\"format\": \",.0f\", \"labelExpr\": \"datum.label + \\\"K\\\"\", \"title\": \"Registrations\", \"titleFontSize\": 14, \"titleX\": -80}, \"field\": \"Registrations\", \"type\": \"quantitative\"}}}, {\"data\": {\"name\": \"data-3378824fe95d7fa539074b9d9df63ad5\"}, \"mark\": {\"type\": \"text\", \"align\": \"left\", \"dx\": 5, \"fontSize\": 13, \"fontWeight\": \"bold\"}, \"encoding\": {\"color\": {\"field\": \"Type\", \"legend\": null, \"type\": \"nominal\"}, \"text\": {\"field\": \"Type\", \"type\": \"nominal\"}, \"x\": {\"field\": \"Date\", \"type\": \"nominal\"}, \"y\": {\"field\": \"Registrations\", \"type\": \"quantitative\"}}}, {\"data\": {\"name\": \"data-6db8fb4f45848cc53744ed4bb6a2bb1a\"}, \"mark\": {\"type\": \"text\", \"align\": \"left\", \"baseline\": \"top\", \"dy\": 175, \"fontSize\": 10, \"fontStyle\": \"italic\", \"x\": -15}, \"encoding\": {\"text\": {\"field\": \"text\", \"type\": \"nominal\"}}}], \"title\": \"First-time Car Registrations by Fuel Type\", \"width\": 450, \"$schema\": \"https://vega.github.io/schema/vega-lite/v5.20.1.json\", \"datasets\": {\"data-036b6874c2085e12b3cbb56811db419b\": [{\"Date\": \"2015\", \"Type\": \"Petrol\", \"Registrations\": 1303.011}, {\"Date\": \"2016\", \"Type\": \"Petrol\", \"Registrations\": 1339.374}, {\"Date\": \"2017\", \"Type\": \"Petrol\", \"Registrations\": 1369.349}, {\"Date\": \"2018\", \"Type\": \"Petrol\", \"Registrations\": 1489.915}, {\"Date\": \"2019\", \"Type\": \"Petrol\", \"Registrations\": 1540.122}, {\"Date\": \"2020\", \"Type\": \"Petrol\", \"Registrations\": 1007.863}, {\"Date\": \"2021\", \"Type\": \"Petrol\", \"Registrations\": 911.684}, {\"Date\": \"2022\", \"Type\": \"Petrol\", \"Registrations\": 821.258}, {\"Date\": \"2023\", \"Type\": \"Petrol\", \"Registrations\": 898.808}, {\"Date\": \"2024\", \"Type\": \"Petrol\", \"Registrations\": 749.208}, {\"Date\": \"2015\", \"Type\": \"Diesel\", \"Registrations\": 1284.01}, {\"Date\": \"2016\", \"Type\": \"Diesel\", \"Registrations\": 1293.69}, {\"Date\": \"2017\", \"Type\": \"Diesel\", \"Registrations\": 1073.535}, {\"Date\": \"2018\", \"Type\": \"Diesel\", \"Registrations\": 755.625}, {\"Date\": \"2019\", \"Type\": \"Diesel\", \"Registrations\": 622.089}, {\"Date\": \"2020\", \"Type\": \"Diesel\", \"Registrations\": 304.443}, {\"Date\": \"2021\", \"Type\": \"Diesel\", \"Registrations\": 194.692}, {\"Date\": \"2022\", \"Type\": \"Diesel\", \"Registrations\": 127.902}, {\"Date\": \"2023\", \"Type\": \"Diesel\", \"Registrations\": 126.17}, {\"Date\": \"2024\", \"Type\": \"Diesel\", \"Registrations\": 110.55}, {\"Date\": \"2015\", \"Type\": \"ZEV\", \"Registrations\": 10.104}, {\"Date\": \"2016\", \"Type\": \"ZEV\", \"Registrations\": 10.446}, {\"Date\": \"2017\", \"Type\": \"ZEV\", \"Registrations\": 13.948}, {\"Date\": \"2018\", \"Type\": \"ZEV\", \"Registrations\": 15.793}, {\"Date\": \"2019\", \"Type\": \"ZEV\", \"Registrations\": 38.087}, {\"Date\": \"2020\", \"Type\": \"ZEV\", \"Registrations\": 107.972}, {\"Date\": \"2021\", \"Type\": \"ZEV\", \"Registrations\": 190.432}, {\"Date\": \"2022\", \"Type\": \"ZEV\", \"Registrations\": 266.883}, {\"Date\": \"2023\", \"Type\": \"ZEV\", \"Registrations\": 314.248}, {\"Date\": \"2024\", \"Type\": \"ZEV\", \"Registrations\": 381.869}, {\"Date\": \"2015\", \"Type\": \"Hybrid electric\", \"Registrations\": 44.682}, {\"Date\": \"2016\", \"Type\": \"Hybrid electric\", \"Registrations\": 51.697}, {\"Date\": \"2017\", \"Type\": \"Hybrid electric\", \"Registrations\": 72.256}, {\"Date\": \"2018\", \"Type\": \"Hybrid electric\", \"Registrations\": 88.24600000000001}, {\"Date\": \"2019\", \"Type\": \"Hybrid electric\", \"Registrations\": 110.962}, {\"Date\": \"2020\", \"Type\": \"Hybrid electric\", \"Registrations\": 168.2}, {\"Date\": \"2021\", \"Type\": \"Hybrid electric\", \"Registrations\": 263.804}, {\"Date\": \"2022\", \"Type\": \"Hybrid electric\", \"Registrations\": 331.43899999999996}, {\"Date\": \"2023\", \"Type\": \"Hybrid electric\", \"Registrations\": 462.80100000000004}, {\"Date\": \"2024\", \"Type\": \"Hybrid electric\", \"Registrations\": 589.119}, {\"Date\": \"2015\", \"Type\": \"Plug-in\", \"Registrations\": 17.449}, {\"Date\": \"2016\", \"Type\": \"Plug-in\", \"Registrations\": 26.605}, {\"Date\": \"2017\", \"Type\": \"Plug-in\", \"Registrations\": 32.72}, {\"Date\": \"2018\", \"Type\": \"Plug-in\", \"Registrations\": 42.190999999999995}, {\"Date\": \"2019\", \"Type\": \"Plug-in\", \"Registrations\": 35.026}, {\"Date\": \"2020\", \"Type\": \"Plug-in\", \"Registrations\": 67.059}, {\"Date\": \"2021\", \"Type\": \"Plug-in\", \"Registrations\": 114.202}, {\"Date\": \"2022\", \"Type\": \"Plug-in\", \"Registrations\": 100.794}, {\"Date\": \"2023\", \"Type\": \"Plug-in\", \"Registrations\": 141.03699999999998}, {\"Date\": \"2024\", \"Type\": \"Plug-in\", \"Registrations\": 168.036}], \"data-3378824fe95d7fa539074b9d9df63ad5\": [{\"Date\": \"2024\", \"Type\": \"Diesel\", \"Registrations\": 110.55}, {\"Date\": \"2024\", \"Type\": \"Hybrid electric\", \"Registrations\": 589.119}, {\"Date\": \"2024\", \"Type\": \"Petrol\", \"Registrations\": 749.208}, {\"Date\": \"2024\", \"Type\": \"Plug-in\", \"Registrations\": 168.036}, {\"Date\": \"2024\", \"Type\": \"ZEV\", \"Registrations\": 381.869}], \"data-6db8fb4f45848cc53744ed4bb6a2bb1a\": [{\"text\": \"Sources: Vehicle licensing statistics data tables - DoT and DVLA\"}]}}, {\"mode\": \"vega-lite\"});\n",
       "</script>"
      ],
      "text/plain": [
       "alt.LayerChart(...)"
      ]
     },
     "execution_count": 9,
     "metadata": {},
     "output_type": "execute_result"
    }
   ],
   "source": [
    "# 2. Find last year for each Type\n",
    "last_points = chart_df.loc[chart_df.groupby('Type')['Date'].idxmax()]\n",
    "\n",
    "# 3. Build the line chart\n",
    "line = alt.Chart(chart_df).mark_line().encode(\n",
    "    x=alt.X('Date:N', axis=alt.Axis(title=''), scale=alt.Scale(padding=0)),\n",
    "    y=alt.Y('Registrations', axis=alt.Axis(format=',.0f', \n",
    "                                           title='Registrations', \n",
    "                                           titleX=-80, \n",
    "                                           titleFontSize=14, \n",
    "                                           labelExpr='datum.label + \"K\"')),\n",
    "    color=alt.Color('Type', legend=None)\n",
    ")\n",
    "\n",
    "# 4. Add text labels at the end\n",
    "text = alt.Chart(last_points).mark_text(\n",
    "    align='left',\n",
    "    dx=5,\n",
    "    fontWeight='bold',\n",
    "    fontSize=13\n",
    ").encode(\n",
    "    x=alt.X('Date:N'),\n",
    "    y=alt.Y('Registrations'),\n",
    "    text='Type',\n",
    "    color=alt.Color('Type', legend=None)\n",
    ")\n",
    "\n",
    "footnote = alt.Chart(pd.DataFrame({'text': [\n",
    "    \"Sources: Vehicle licensing statistics data tables - DoT and DVLA\"\n",
    "]})).mark_text(\n",
    "    align='left',\n",
    "    baseline='top',\n",
    "    fontSize=10,\n",
    "    fontStyle='italic',\n",
    "    dy=175,\n",
    "    x=-15\n",
    ").encode(\n",
    "    text='text'\n",
    ")\n",
    "\n",
    "# 5. Combine and display\n",
    "chart = (line + text + footnote).properties(title= 'First-time Car Registrations by Fuel Type', width=450).configure_title(\n",
    "    fontSize=20  # Increase title font size here\n",
    ")\n",
    "chart"
   ]
  },
  {
   "cell_type": "code",
   "execution_count": 10,
   "id": "e2cd477f",
   "metadata": {},
   "outputs": [],
   "source": [
    "# Save to png\n",
    "chart.save('vehicle_registrations.png', scale_factor=2)\n",
    "# Save to json\n",
    "chart.save('vehicle_registrations.json', scale_factor=2)"
   ]
  }
 ],
 "metadata": {
  "kernelspec": {
   "display_name": "charts",
   "language": "python",
   "name": "python3"
  },
  "language_info": {
   "codemirror_mode": {
    "name": "ipython",
    "version": 3
   },
   "file_extension": ".py",
   "mimetype": "text/x-python",
   "name": "python",
   "nbconvert_exporter": "python",
   "pygments_lexer": "ipython3",
   "version": "3.12.11"
  }
 },
 "nbformat": 4,
 "nbformat_minor": 5
}
