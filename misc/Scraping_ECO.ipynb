{
  "cells": [
    {
      "cell_type": "markdown",
      "metadata": {
        "id": "2KNrEFkpxE3M"
      },
      "source": [
        "[![Binder](http://mybinder.org/badge_logo.svg)](https://mybinder.org/v2/gh/EconomicsObservatory/courses/HEAD?labpath=5%2Fs5_Scraping.ipynb)\n",
        "\n",
        "<a href=\"https://colab.research.google.com/github/EconomicsObservatory/courses/blob/main/5/s5_Scraping.ipynb\" target=\"_blank\"><img src=\"https://colab.research.google.com/assets/colab-badge.svg\" alt=\"Open In Colab\"/></a>"
      ]
    },
    {
      "cell_type": "markdown",
      "metadata": {},
      "source": [
        "</br>\n",
        "</br>\n",
        "\n",
        "# Scraping HTML source (advanced)\n",
        "\n",
        "Sometimes we want to access data that isn't as nicely formatted. For example:\n",
        "\n",
        "- **Prices**: you might want data on a type of product or from a shop\n",
        "- **Weather**: maybe you want to automate the collection of weather data from the Met office or weather.com\n",
        "- **News and Media**: Scraping headlines and summaries can tell you about current affairs\n"
      ]
    },
    {
      "cell_type": "markdown",
      "metadata": {},
      "source": [
        "\n",
        "\n",
        "In this example, we will scrape the Economics Observatory website to collect the latest article names and taglines to tell us about what is being reported.\n",
        "\n",
        "\n",
        "\n",
        " However, first, let's go through some basics for three tools:\n",
        " \n",
        " - `BeautifulSoup` which lets us search through and analyse HTML from the internet\n",
        " - `Pandas` which provides table-like objects we can use for analysis\n",
        " - `Counter` which let us count the occurence of items in a list\n",
        " \n",
        "\n",
        "\n",
        "<br>\n",
        "<br>\n",
        "<br>\n",
        "<br>\n",
        "<br>\n",
        "\n",
        "First, we'll need to import them."
      ]
    },
    {
      "cell_type": "code",
      "execution_count": 1,
      "metadata": {},
      "outputs": [],
      "source": [
        "import pandas as pd # for dataframes and data analysis\n",
        "import requests # to download the web pages\n",
        "from bs4 import BeautifulSoup # to parse the web pages\n",
        "from collections import Counter # to count the words"
      ]
    },
    {
      "cell_type": "markdown",
      "metadata": {},
      "source": [
        "# Using `BeautifulSoup` with our own Websites\n",
        "\n",
        "<img src=\"https://raw.githubusercontent.com/FM-ds/ScrapingWorkshop/main/notebook_images/portfolio.png\" width=\"600\">\n",
        "\n",
        "`BeautifulSoup` is a Python library for parsing `HTML` documents. We can use it to extract data from HTML we fetch from the web.\n",
        "Today, we've written and modified `HTML` of our own.\n",
        "\n",
        "</br>\n",
        "</br>\n",
        "\n",
        "## Inspect Element\n",
        "Before we write any code, let's use `inspect element` to look at the structure of our pages. In Chrome, this is as simple as a right click (alternatively `ctrl-click` on mac) and `Inspect`.\n",
        "\n",
        "<div style=\"display: flex; width: 60%\">\n",
        "  <img src=\"https://raw.githubusercontent.com/jhellingsdata/RADataHub/main/misc/Masterclass/section%205/images/inspect_element_portfolio.png\" alt=\"First Image\" style=\"width: 50%; height: auto; margin-right: 10px;\">\n",
        "  <img src=\"https://raw.githubusercontent.com/jhellingsdata/RADataHub/main/misc/Masterclass/section%205/images/inspect_element_full_portfolio.png\" alt=\"Second Image\" style=\"width: 50%; height: auto;\">\n",
        "</div>\n",
        "\n",
        "<div>\n",
        "\n",
        "<div>\n",
        "\n",
        "</br>\n",
        "</br>\n",
        "\n",
        "Let's try investigating our own websites with `BeautifulSoup`.\n"
      ]
    },
    {
      "cell_type": "code",
      "execution_count": 2,
      "metadata": {},
      "outputs": [],
      "source": [
        "website_url = \"http://mclass-user.github.io\" # TODO: Replace this with your URL\n",
        "req = requests.get(website_url) # download the webpage\n",
        "soup = BeautifulSoup(req.content, \"lxml\") # parse the webpage into an object that let's us navigate the HTML"
      ]
    },
    {
      "cell_type": "markdown",
      "metadata": {},
      "source": [
        "</br>\n",
        "<br>\n",
        "<br>\n",
        "<br>\n",
        "<br>\n",
        "\n",
        "### Investigating the Webpage\n",
        "`soup` now contains a structured and interactive version of our website. We can take a look at it with `soup.prettify()`\n",
        "<br>\n",
        "<br>"
      ]
    },
    {
      "cell_type": "code",
      "execution_count": 3,
      "metadata": {},
      "outputs": [
        {
          "name": "stdout",
          "output_type": "stream",
          "text": [
            "<!-- This HTML file provides a simple example of a portfolio page. It contains a header, a few sections, and a few charts. -->\n",
            "<!-- It works with the three css files in this folder: example1.css, example2.css and example3.css. -->\n",
            "<!-- The HTML file defines the structure of the page, and the CSS files define how it looks. -->\n",
            "<!-- The CSS examples are all designed to work with this page. Try swapping them out on line 29 and see what happens. -->\n",
            "<!-- Take a look around and make your own copy to adapt for your own use. -->\n",
            "<!-- This is a comment -->\n",
            "<!-- Comments are not displayed in the browser -->\n",
            "<!-- They can be used to leave notes in the code -->\n",
            "<!DOCTYPE html>\n",
            "<html>\n",
            " <!-- HTML is heirarchial: tags like this define elements on the page. \n",
            "    Each tag does something different. For example:\n",
            "        - The <html> tag defines the whole document.\n",
            "        - The <h1> tag defines a large heading\n",
            "        - The <p> tag defines a paragraph\n",
            "        - Tags appear as an opening <div> and closing </div> pair\n",
            "    -->\n",
            " <head>\n",
            "  <!-- The head tag links to resources our page needs and defines information about it. Tags in the <head> aren't displayed on the page. -->\n",
            "  <!-- This is a link to a stylesheet which contains rules about how each element on the page should be defined-->\n",
            "  <!-- Try swapping example1.css to another, and take a look at example1.css to see if you understand it-->\n",
            "  <link href=\"portfolio_styles.css\" rel=\"stylesheet\" type=\"text/css\"/>\n",
            "  <title>\n",
            "   My Portfolio\n",
            "  </title>\n",
            "  <!-- The title displayed in the browser tab, not on the page itself -->\n",
            "  <!-- This is a link to the vega-lite which we're using to make graphs -->\n",
            "  <script src=\"https://cdn.jsdelivr.net/npm/vega@5\">\n",
            "  </script>\n",
            "  <script src=\"https://cdn.jsdelivr.net/npm/vega-lite@5\">\n",
            "  </script>\n",
            "  <script src=\"https://cdn.jsdelivr.net/npm/vega-embed@6\">\n",
            "  </script>\n",
            "  <style>\n",
            "   #chartGrid {\n",
            "            display: flex;\n",
            "        }\n",
            "  </style>\n",
            " </head>\n",
            " <body>\n",
            "  <!-- The body tag contains the elements that visitors to our page will see. -->\n",
            "  <h1 class=\"big\" style=\"margin-bottom: 0px;\">\n",
            "   <!-- We have added a class to the header called \"big\" which we can use to style it in the CSS -->\n",
            "   <!-- This is a header, it is the largest text on the page -->\n",
            "   Finn McEvoy\n",
            "  </h1>\n",
            "  <p style=\"margin-top: 0px; color: darkblue\">\n",
            "   <!-- we're setting the margin to 0px so the header and authour name are close together -->\n",
            "   Your Name |\n",
            "   <a href=\"https://www.linkedin.com/in/YOUR_LINKEDIN/\">\n",
            "    LinkedIn\n",
            "   </a>\n",
            "   |\n",
            "   <a href=\"https://www.github.com/YOUR_GITHUB\">\n",
            "    GitHub\n",
            "   </a>\n",
            "  </p>\n",
            "  <h3 class=\"small\">\n",
            "   <!-- We have added a class to the header called \"small\" which we can use to style it in the CSS -->\n",
            "   This page acts as your portfolio of charts. You can use it as a good starting point to display your work but make sure to customise it to make it your own, or even start from scratch.\n",
            "  </h3>\n",
            "  <!-- We're organising the page into sections, with each section containing a chart, title and a description -->\n",
            "  <section>\n",
            "   <div class=\"chart-description\">\n",
            "    <h2>\n",
            "     Section 1: A basic chart\n",
            "    </h2>\n",
            "    <p>\n",
            "     <!-- This is a paragraph, it's the main way to display text on a web page -->\n",
            "     We've organised the page into sections, with each section containing a chart, title and a description. Here, we can describe the chart and give some context.\n",
            "                As a first example, we're using a basic chart from our repo.\n",
            "    </p>\n",
            "   </div>\n",
            "   <figure id=\"Location1\">\n",
            "   </figure>\n",
            "   <!-- we give it an id so we can put a vega-lite graph here with VegaEmbed -->\n",
            "  </section>\n",
            "  <section>\n",
            "   <div class=\"chart-description\">\n",
            "    <h2>\n",
            "     Section 2\n",
            "    </h2>\n",
            "    <p>\n",
            "     <!-- This is a paragraph, it's the main way to display text on a web page -->\n",
            "     We've organised the page into sections, with each section containing a chart, title and a description. Here, we can describe the chart and give some context.\n",
            "                As a first example, we're using a basic chart from our repo.\n",
            "    </p>\n",
            "   </div>\n",
            "   <figure id=\"china_energy\">\n",
            "   </figure>\n",
            "   <!-- we give it an id so we can put a vega-lite graph here with VegaEmbed -->\n",
            "  </section>\n",
            "  <section>\n",
            "   <div class=\"chart-description\">\n",
            "    <h2>\n",
            "     Section 2: An imported chart\n",
            "    </h2>\n",
            "    <p>\n",
            "     <!-- This is a paragraph, it's the main way to display text on a web page -->\n",
            "     We've organised the page into sections, with each section containing a chart, title and a description. Here, we can describe the chart and give some context.\n",
            "                As a first example, we're using a basic chart from our repo.\n",
            "    </p>\n",
            "   </div>\n",
            "   <figure id=\"Location2\">\n",
            "   </figure>\n",
            "   <!-- we give it an id so we can put a vega-lite graph here with VegaEmbed -->\n",
            "   <figure id=\"Location3\">\n",
            "   </figure>\n",
            "   <!-- we give it an id so we can put a vega-lite graph here with VegaEmbed -->\n",
            "  </section>\n",
            "  <section>\n",
            "   <div class=\"chart-description\">\n",
            "    <h2>\n",
            "     Vice spending\n",
            "    </h2>\n",
            "    <p>\n",
            "     <!-- This is a paragraph, it's the main way to display text on a web page -->\n",
            "     We've organised the page into sections, with each section containing a chart, title and a description. Here, we can describe the chart and give some context.\n",
            "                As a first example, we're using a basic chart from our repo.\n",
            "    </p>\n",
            "   </div>\n",
            "   <figure id=\"vice_spending\">\n",
            "   </figure>\n",
            "   <!-- we give it an id so we can put a vega-lite graph here with VegaEmbed -->\n",
            "  </section>\n",
            "  <!-- Do you want to add more sections? -->\n",
            "  <!-- Try copying pasting the section above -->\n",
            "  <!-- You'll need to change the id of the figure \"<figure id=\"Location3\"... -->\n",
            "  <!-- ... and add a new variable for the graph spec in the script at the bottom of the page -->\n",
            "  <!-- This is a script, it's a way to run JavaScript code on the page -->\n",
            "  <script>\n",
            "   // This is a comment in JavaScript - it's a different language to HTML and CSS\n",
            "\n",
            "        let figure_1_spec = \"https://raw.githubusercontent.com/EconomicsObservatory/courses/main/2/s2_chart2.json\"; // We're storing the URL of the graph we want to display in a variable\n",
            "        let figure_2_spec = \"wk1_declining_pop.json\"                                                                                                   // You should have a spec for a graph in this same folder. Just specify its name here, e.g. let figure_1_spec = \"chart1.json\"\n",
            "\n",
            "        vegaEmbed('#Location1', figure_1_spec) // We're using the vegaEmbed function to put a graph in the element with id figure_1\n",
            "\n",
            "        vegaEmbed('#china_energy', 'portfolio2_china_energy.json')\n",
            "\n",
            "        // Do you want to add more graphs?\n",
            "        // try defining a new variable for figure_3_spec, adding VegaEmbed for Location3, and adding a new section in the HTML\n",
            "        // e.g. \n",
            "        // let figure_3_spec = ...\n",
            "        // vegaEmbed('#Location3', figure_3_spec)\n",
            "\n",
            "        vegaEmbed(\"#Location2\", \"wk1_declining_pop.json\")\n",
            "\n",
            "        vegaEmbed(\"#vice_spending\", \"vice_spending.json\")\n",
            "  </script>\n",
            " </body>\n",
            "</html>\n",
            "\n"
          ]
        }
      ],
      "source": [
        "print(soup.prettify())"
      ]
    },
    {
      "cell_type": "markdown",
      "metadata": {},
      "source": [
        "</br>\n",
        "</br>\n",
        "\n",
        "and search for elements. For example, we can search for every section title by searching for every `<h2>`\n",
        "\n",
        "<br>\n",
        "<br>"
      ]
    },
    {
      "cell_type": "code",
      "execution_count": 4,
      "metadata": {},
      "outputs": [
        {
          "name": "stdout",
          "output_type": "stream",
          "text": [
            "Section 1: A basic chart\n",
            "Section 2\n",
            "Section 2: An imported chart\n",
            "Vice spending\n"
          ]
        }
      ],
      "source": [
        "section_titles = soup.find_all(\"h2\")\n",
        "for title in section_titles:\n",
        "    print(title.text)"
      ]
    },
    {
      "cell_type": "markdown",
      "metadata": {},
      "source": [
        "<br>\n",
        "<br>\n",
        "\n",
        "or look elements with the class `big` - our main title, and `small` - our summary heading.\n",
        "\n",
        "<br>\n",
        "<br>"
      ]
    },
    {
      "cell_type": "code",
      "execution_count": 5,
      "metadata": {},
      "outputs": [
        {
          "data": {
            "text/plain": [
              "' \\n\\n        Finn McEvoy\\n    '"
            ]
          },
          "execution_count": 5,
          "metadata": {},
          "output_type": "execute_result"
        }
      ],
      "source": [
        "# find element with class=\"big\"\n",
        "soup.find(class_=\"big\").text"
      ]
    },
    {
      "cell_type": "code",
      "execution_count": 6,
      "metadata": {},
      "outputs": [
        {
          "data": {
            "text/plain": [
              "' \\n        This page acts as your portfolio of charts. You can use it as a good starting point to display your work but make sure to customise it to make it your own, or even start from scratch.  \\n    '"
            ]
          },
          "execution_count": 6,
          "metadata": {},
          "output_type": "execute_result"
        }
      ],
      "source": [
        "soup.find(class_=\"small\").text"
      ]
    },
    {
      "cell_type": "markdown",
      "metadata": {},
      "source": [
        "</br>\n",
        "</br>\n",
        "</br>\n",
        "\n",
        "# Using `Pandas`\n",
        "\n",
        "The second tool we'll use today is `Pandas`, a Python library used to work with datasets. It provides access to dataframes - tables we analyse with code.\n",
        "\n",
        "Python already has a few built in data structures, for example lists and dictionaries:"
      ]
    },
    {
      "cell_type": "code",
      "execution_count": 7,
      "metadata": {},
      "outputs": [],
      "source": [
        "london = {\n",
        "    \"name\": \"London\",\n",
        "    \"population\": 8308369,\n",
        "    \"area\": 1572\n",
        "} # This is an example of a dictionary\n",
        "\n",
        "locations = [\n",
        "    {\n",
        "        \"name\": \"London\",\n",
        "        \"population\": 8_982_000,\n",
        "        \"area\": 606\n",
        "    },\n",
        "    {\n",
        "        \"name\": \"Newport\",\n",
        "        \"population\": 128_060,\n",
        "        \"area\": 32.52\n",
        "    },\n",
        "    {\n",
        "        \"name\": \"Darlington\",\n",
        "        \"population\": 93_015,\n",
        "        \"area\": 7.62\n",
        "    },\n",
        "\n",
        "]"
      ]
    },
    {
      "cell_type": "markdown",
      "metadata": {},
      "source": [
        "\n",
        "<br>\n",
        "<br>\n",
        "<br>\n",
        "<br>\n",
        "Which we can turn into Pandas `dataframes`"
      ]
    },
    {
      "cell_type": "code",
      "execution_count": 8,
      "metadata": {},
      "outputs": [
        {
          "data": {
            "text/html": [
              "<div>\n",
              "<style scoped>\n",
              "    .dataframe tbody tr th:only-of-type {\n",
              "        vertical-align: middle;\n",
              "    }\n",
              "\n",
              "    .dataframe tbody tr th {\n",
              "        vertical-align: top;\n",
              "    }\n",
              "\n",
              "    .dataframe thead th {\n",
              "        text-align: right;\n",
              "    }\n",
              "</style>\n",
              "<table border=\"1\" class=\"dataframe\">\n",
              "  <thead>\n",
              "    <tr style=\"text-align: right;\">\n",
              "      <th></th>\n",
              "      <th>name</th>\n",
              "      <th>population</th>\n",
              "      <th>area</th>\n",
              "    </tr>\n",
              "  </thead>\n",
              "  <tbody>\n",
              "    <tr>\n",
              "      <th>0</th>\n",
              "      <td>London</td>\n",
              "      <td>8982000</td>\n",
              "      <td>606.00</td>\n",
              "    </tr>\n",
              "    <tr>\n",
              "      <th>1</th>\n",
              "      <td>Newport</td>\n",
              "      <td>128060</td>\n",
              "      <td>32.52</td>\n",
              "    </tr>\n",
              "    <tr>\n",
              "      <th>2</th>\n",
              "      <td>Darlington</td>\n",
              "      <td>93015</td>\n",
              "      <td>7.62</td>\n",
              "    </tr>\n",
              "  </tbody>\n",
              "</table>\n",
              "</div>"
            ],
            "text/plain": [
              "         name  population    area\n",
              "0      London     8982000  606.00\n",
              "1     Newport      128060   32.52\n",
              "2  Darlington       93015    7.62"
            ]
          },
          "execution_count": 8,
          "metadata": {},
          "output_type": "execute_result"
        }
      ],
      "source": [
        "df = pd.DataFrame(locations)\n",
        "df"
      ]
    },
    {
      "cell_type": "markdown",
      "metadata": {},
      "source": [
        "<br>\n",
        "<br>\n",
        "<br>\n",
        "<br>\n",
        "\n",
        "and manipulate in different ways.\n",
        "\n",
        "For example, we can add a density column:"
      ]
    },
    {
      "cell_type": "code",
      "execution_count": 9,
      "metadata": {},
      "outputs": [
        {
          "data": {
            "text/html": [
              "<div>\n",
              "<style scoped>\n",
              "    .dataframe tbody tr th:only-of-type {\n",
              "        vertical-align: middle;\n",
              "    }\n",
              "\n",
              "    .dataframe tbody tr th {\n",
              "        vertical-align: top;\n",
              "    }\n",
              "\n",
              "    .dataframe thead th {\n",
              "        text-align: right;\n",
              "    }\n",
              "</style>\n",
              "<table border=\"1\" class=\"dataframe\">\n",
              "  <thead>\n",
              "    <tr style=\"text-align: right;\">\n",
              "      <th></th>\n",
              "      <th>name</th>\n",
              "      <th>population</th>\n",
              "      <th>area</th>\n",
              "      <th>density</th>\n",
              "    </tr>\n",
              "  </thead>\n",
              "  <tbody>\n",
              "    <tr>\n",
              "      <th>0</th>\n",
              "      <td>London</td>\n",
              "      <td>8982000</td>\n",
              "      <td>606.00</td>\n",
              "      <td>14821.782178</td>\n",
              "    </tr>\n",
              "    <tr>\n",
              "      <th>1</th>\n",
              "      <td>Newport</td>\n",
              "      <td>128060</td>\n",
              "      <td>32.52</td>\n",
              "      <td>3937.884379</td>\n",
              "    </tr>\n",
              "    <tr>\n",
              "      <th>2</th>\n",
              "      <td>Darlington</td>\n",
              "      <td>93015</td>\n",
              "      <td>7.62</td>\n",
              "      <td>12206.692913</td>\n",
              "    </tr>\n",
              "  </tbody>\n",
              "</table>\n",
              "</div>"
            ],
            "text/plain": [
              "         name  population    area       density\n",
              "0      London     8982000  606.00  14821.782178\n",
              "1     Newport      128060   32.52   3937.884379\n",
              "2  Darlington       93015    7.62  12206.692913"
            ]
          },
          "execution_count": 9,
          "metadata": {},
          "output_type": "execute_result"
        }
      ],
      "source": [
        "df['density'] = df['population'] / df['area']\n",
        "df"
      ]
    },
    {
      "cell_type": "markdown",
      "metadata": {},
      "source": [
        "or sort our dataframe"
      ]
    },
    {
      "cell_type": "code",
      "execution_count": 10,
      "metadata": {},
      "outputs": [
        {
          "data": {
            "text/html": [
              "<div>\n",
              "<style scoped>\n",
              "    .dataframe tbody tr th:only-of-type {\n",
              "        vertical-align: middle;\n",
              "    }\n",
              "\n",
              "    .dataframe tbody tr th {\n",
              "        vertical-align: top;\n",
              "    }\n",
              "\n",
              "    .dataframe thead th {\n",
              "        text-align: right;\n",
              "    }\n",
              "</style>\n",
              "<table border=\"1\" class=\"dataframe\">\n",
              "  <thead>\n",
              "    <tr style=\"text-align: right;\">\n",
              "      <th></th>\n",
              "      <th>name</th>\n",
              "      <th>population</th>\n",
              "      <th>area</th>\n",
              "      <th>density</th>\n",
              "    </tr>\n",
              "  </thead>\n",
              "  <tbody>\n",
              "    <tr>\n",
              "      <th>0</th>\n",
              "      <td>London</td>\n",
              "      <td>8982000</td>\n",
              "      <td>606.00</td>\n",
              "      <td>14821.782178</td>\n",
              "    </tr>\n",
              "    <tr>\n",
              "      <th>2</th>\n",
              "      <td>Darlington</td>\n",
              "      <td>93015</td>\n",
              "      <td>7.62</td>\n",
              "      <td>12206.692913</td>\n",
              "    </tr>\n",
              "    <tr>\n",
              "      <th>1</th>\n",
              "      <td>Newport</td>\n",
              "      <td>128060</td>\n",
              "      <td>32.52</td>\n",
              "      <td>3937.884379</td>\n",
              "    </tr>\n",
              "  </tbody>\n",
              "</table>\n",
              "</div>"
            ],
            "text/plain": [
              "         name  population    area       density\n",
              "0      London     8982000  606.00  14821.782178\n",
              "2  Darlington       93015    7.62  12206.692913\n",
              "1     Newport      128060   32.52   3937.884379"
            ]
          },
          "execution_count": 10,
          "metadata": {},
          "output_type": "execute_result"
        }
      ],
      "source": [
        "sorted_df = df.sort_values(by=\"density\", ascending=False)\n",
        "sorted_df"
      ]
    },
    {
      "cell_type": "markdown",
      "metadata": {},
      "source": [
        "</br>\n",
        "</br>\n",
        "</br>\n",
        "\n",
        "</br>\n",
        "\n",
        "# Using `Counter`\n",
        "\n",
        "`Counter` is a module that's built in to python. It takes a list (or list-like object) and returns how many times each item occurs.\n",
        "\n",
        "For example, if we have a list of fruit:"
      ]
    },
    {
      "cell_type": "code",
      "execution_count": 11,
      "metadata": {},
      "outputs": [],
      "source": [
        "fruit = [\"apple\", \"banana\", \"cherry\", \"apple\", \"cherry\"]"
      ]
    },
    {
      "cell_type": "markdown",
      "metadata": {},
      "source": [
        "we can use `Counter` to count how many times each occurs:"
      ]
    },
    {
      "cell_type": "code",
      "execution_count": 12,
      "metadata": {},
      "outputs": [
        {
          "data": {
            "text/plain": [
              "Counter({'apple': 2, 'banana': 1, 'cherry': 2})"
            ]
          },
          "execution_count": 12,
          "metadata": {},
          "output_type": "execute_result"
        }
      ],
      "source": [
        "fruit_counts = Counter(fruit)\n",
        "fruit_counts"
      ]
    },
    {
      "cell_type": "markdown",
      "metadata": {},
      "source": [
        "and we can combine this with `Pandas` by making a Dataframe from the counter:"
      ]
    },
    {
      "cell_type": "code",
      "execution_count": 13,
      "metadata": {},
      "outputs": [
        {
          "data": {
            "text/html": [
              "<div>\n",
              "<style scoped>\n",
              "    .dataframe tbody tr th:only-of-type {\n",
              "        vertical-align: middle;\n",
              "    }\n",
              "\n",
              "    .dataframe tbody tr th {\n",
              "        vertical-align: top;\n",
              "    }\n",
              "\n",
              "    .dataframe thead th {\n",
              "        text-align: right;\n",
              "    }\n",
              "</style>\n",
              "<table border=\"1\" class=\"dataframe\">\n",
              "  <thead>\n",
              "    <tr style=\"text-align: right;\">\n",
              "      <th></th>\n",
              "      <th>fruit</th>\n",
              "      <th>count</th>\n",
              "    </tr>\n",
              "  </thead>\n",
              "  <tbody>\n",
              "    <tr>\n",
              "      <th>0</th>\n",
              "      <td>apple</td>\n",
              "      <td>2</td>\n",
              "    </tr>\n",
              "    <tr>\n",
              "      <th>1</th>\n",
              "      <td>banana</td>\n",
              "      <td>1</td>\n",
              "    </tr>\n",
              "    <tr>\n",
              "      <th>2</th>\n",
              "      <td>cherry</td>\n",
              "      <td>2</td>\n",
              "    </tr>\n",
              "  </tbody>\n",
              "</table>\n",
              "</div>"
            ],
            "text/plain": [
              "    fruit  count\n",
              "0   apple      2\n",
              "1  banana      1\n",
              "2  cherry      2"
            ]
          },
          "execution_count": 13,
          "metadata": {},
          "output_type": "execute_result"
        }
      ],
      "source": [
        "pd.DataFrame(fruit_counts.items(), columns=[\"fruit\", \"count\"])"
      ]
    },
    {
      "cell_type": "markdown",
      "metadata": {},
      "source": [
        "</br>\n",
        "</br>\n",
        "</br>\n",
        "\n",
        "## Investigating the webpage\n",
        "\n",
        "Before writing any code, let's take a look at the webpage.\n",
        "\n",
        "<img\n",
        "style=\"max-height: 250px;\n",
        "    width: auto;\" src=\"https://raw.githubusercontent.com/jhellingsdata/RADataHub/main/misc/Masterclass/section%205/images/eco_website.png\"> </img>\n",
        "\n",
        "We want to extract a list of article titles, such as \"What do we know about labour market power in the UK?\". To do this, we need to know where they appear in the HTML and how they are defined. By using inspect-element (right/ctrl click), we can see the HTML code that creates the titles.\n",
        "\n",
        "<img\n",
        "style=\"max-height: 250px;\n",
        "    width: auto;\" src=\"https://raw.githubusercontent.com/jhellingsdata/RADataHub/main/misc/Masterclass/section%205/images/inspect_element.png\"> </img>\n",
        "\n",
        "Here we can see that article titles have the class \"home__blocks-item-title\". We'll use this information to extract just the article titles.\n",
        "\n",
        "Before we start writing code to scrape, we need to install and load the packages we need."
      ]
    },
    {
      "cell_type": "markdown",
      "metadata": {
        "id": "VuCxs4izFLQD"
      },
      "source": [
        "</br>\n",
        "</br>\n",
        "</br>\n",
        "</br>\n",
        "\n",
        "\n",
        "## Scraping the page\n",
        "\n",
        "First, we'll download the HTML which defines the page, using the requests module."
      ]
    },
    {
      "cell_type": "code",
      "execution_count": 24,
      "metadata": {
        "id": "bgwjVswX9hJe"
      },
      "outputs": [],
      "source": [
        "req = requests.get(\"https://www.economicsobservatory.com\") # Make a request to the ECO home-page\n",
        "page_html = req.text # store the HTML in page_html"
      ]
    },
    {
      "cell_type": "markdown",
      "metadata": {
        "id": "l_nGUpFyDYcj"
      },
      "source": [
        "Now we have the page's source stored in {{page_html}}. Next we're going to use a module called BeautifulSoup to turn this text into a representation of the page we can interact with. We'll store this in a variable called {{soup}}."
      ]
    },
    {
      "cell_type": "code",
      "execution_count": 25,
      "metadata": {
        "id": "4kTtbNFfDzXS"
      },
      "outputs": [],
      "source": [
        "soup = BeautifulSoup(page_html, 'html.parser') # Create a BeautifulSoup object to interact with the page's HTML"
      ]
    },
    {
      "cell_type": "markdown",
      "metadata": {
        "id": "9vGCAMSqGiS2"
      },
      "source": [
        "Now we'll look for article titles by searching for elements with the class \"home__blocks-item-title\" which we identified above.\n"
      ]
    },
    {
      "cell_type": "code",
      "execution_count": 26,
      "metadata": {
        "colab": {
          "base_uri": "https://localhost:8080/"
        },
        "id": "QJHYgoQSGiCM",
        "outputId": "c2326659-1c10-46a8-fdad-b3be0407e65c"
      },
      "outputs": [
        {
          "data": {
            "text/plain": [
              "[<h3 class=\"home__blocks-item-title\">What is the future of commuting to work?</h3>,\n",
              " <h3 class=\"home__blocks-item-title\">Financing UK rail infrastructure: how does today compare with the past?</h3>,\n",
              " <h3 class=\"home__blocks-item-title\">How has infrastructure been financed in the past?</h3>,\n",
              " <h3 class=\"home__blocks-item-title\">Why have insurance premiums gone up so much?</h3>,\n",
              " <h3 class=\"home__blocks-item-title\">Insurtech: what is it and what does it mean for insurance?</h3>,\n",
              " <h3 class=\"home__blocks-item-title\">Read the latest edition of our magazine here</h3>,\n",
              " <h3 class=\"home__blocks-item-title\">What is crowdfunding and how is it helping small businesses in the UK?</h3>,\n",
              " <h3 class=\"home__blocks-item-title\">How are geopolitical risks affecting the world economy?</h3>,\n",
              " <h3 class=\"home__blocks-item-title\" style=\"text-align: left;\">Global support for abortion legalisation</h3>,\n",
              " <h3 class=\"home__blocks-item-title\">Ukraine’s accession to the European Union: what difference would it make?</h3>,\n",
              " <h3 class=\"home__blocks-item-title\">How does the government’s furlough scheme work?</h3>,\n",
              " <h3 class=\"home__blocks-item-title\">Will coronavirus accelerate the move towards a cashless economy?</h3>,\n",
              " <h3 class=\"home__blocks-item-title\">Twenty years of Facebook: how has it shaped economies around the world?</h3>,\n",
              " <h3 class=\"home__blocks-item-title\">Can digital innovation, including AI, improve productivity growth?</h3>]"
            ]
          },
          "execution_count": 26,
          "metadata": {},
          "output_type": "execute_result"
        }
      ],
      "source": [
        "article_title_elements = soup.find_all(class_=\"home__blocks-item-title\") # Find all elements with the class \"home__blocks-item-title\"\n",
        "article_title_elements"
      ]
    },
    {
      "cell_type": "markdown",
      "metadata": {},
      "source": [
        "We now have a list of HTML tags containing titles but all we care about is the text within them."
      ]
    },
    {
      "cell_type": "code",
      "execution_count": 27,
      "metadata": {},
      "outputs": [
        {
          "data": {
            "text/plain": [
              "['What is the future of commuting to work?',\n",
              " 'Financing UK rail infrastructure: how does today compare with the past?',\n",
              " 'How has infrastructure been financed in the past?',\n",
              " 'Why have insurance premiums gone up so much?',\n",
              " 'Insurtech: what is it and what does it mean for insurance?',\n",
              " 'Read the latest edition of our magazine here',\n",
              " 'What is crowdfunding and how is it helping small businesses in the UK?',\n",
              " 'How are geopolitical risks affecting the world economy?',\n",
              " 'Global support for abortion legalisation',\n",
              " 'Ukraine’s accession to the European Union: what difference would it make?',\n",
              " 'How does the government’s furlough scheme work?',\n",
              " 'Will coronavirus accelerate the move towards a cashless economy?',\n",
              " 'Twenty years of Facebook: how has it shaped economies around the world?',\n",
              " 'Can digital innovation, including AI, improve productivity growth?']"
            ]
          },
          "execution_count": 27,
          "metadata": {},
          "output_type": "execute_result"
        }
      ],
      "source": [
        "\n",
        "article_titles = [element.text for element in article_title_elements] # Extract the text from each element\n",
        "article_titles"
      ]
    },
    {
      "cell_type": "markdown",
      "metadata": {
        "id": "dRohuhP0xE3U"
      },
      "source": [
        "We also care about the taglines/'teasers' of each article.\n",
        "\n",
        "These are contained in \\<spans\\> and \\<p\\> tags contained in divs with the class \"home__blocks-item-teaser display\""
      ]
    },
    {
      "cell_type": "code",
      "execution_count": 28,
      "metadata": {
        "colab": {
          "base_uri": "https://localhost:8080/"
        },
        "id": "2eyl2tnixE3U",
        "outputId": "aadf9c23-eaa3-4467-a533-9b05c9c4a34e"
      },
      "outputs": [
        {
          "data": {
            "text/plain": [
              "['Around half the UK labour force is currently working from home. Surveys of employees conducted in March and April 2021 suggest that spending two to three days a week at home is the most common expected working pattern after the pandemic.',\n",
              " 'Higher insurance premiums for cars and homes are being driven by a mix of factors, including changing regulations, changing human behaviour and a changing climate. Insurers have to balance the need for adequate reserves for claims, maintained profitability and affordable coverage for consumers.',\n",
              " 'The emergence of insurtech in recent years has helped insurance companies to improve their customers’ experience, develop new products, lower costs and enhance underwriting and actuarial processes. But challenges around data privacy and equality of access need to be addressed.',\n",
              " 'Crowdfunding unlocks alternative financing for start-ups and small businesses by mobilising pools of small-scale investors via online platforms. The funding model spreads risk, enables innovative projects and democratises investment, allowing individuals to support causes that they care about.',\n",
              " 'Geopolitical risks posed by elections, polarisation and conflicts within and between states have inevitable knock-on effects on the economy, both globally and for individual countries. This year more than ever, managing these risks and shoring up institutions that promote stability are essential.',\n",
              " 'Existing agreements between Ukraine and the EU have already promoted substantial trade flows. Accession would have bigger implications for freedom of movement of capital and workers – investment inflows and migration outflows. These areas are where negotiations are likely to focus.',\n",
              " 'The Coronavirus Job Retention Scheme was set up to encourage employers to keep their staff on during lockdown and make it easier for everyone to return to work when restrictions lift. How does the furlough scheme work and what will happen to jobs as it’s wound down?',\n",
              " 'Much has changed since the early days of Facebook in Mark Zuckerberg’s room at Harvard University two decades ago. Today, working out how best to regulate the company is a vital issue for policy-makers around the world. Protecting consumers without dampening innovation is critical.',\n",
              " 'For new digital technologies like artificial intelligence, the rate at which productivity growth will be boosted depends not just on the innovations themselves. How business processes are adapted to take advantage of them is also crucial – as are complementary investments by firms and governments.']"
            ]
          },
          "execution_count": 28,
          "metadata": {},
          "output_type": "execute_result"
        }
      ],
      "source": [
        "# find all divs with the class \"home__blocks-item-teaser display\"\n",
        "tagline_divs = soup.find_all(class_=\"home__blocks-item-teaser display\")\n",
        "# get all the <p> tags from the tagline_divs\n",
        "taglines = [div.find(\"p\") for div in tagline_divs]\n",
        "# extract the text from each tag\n",
        "tagline_texts = [tagline.text for tagline in taglines]\n",
        "tagline_texts"
      ]
    },
    {
      "cell_type": "markdown",
      "metadata": {
        "id": "_Dvhz5-NG5O0"
      },
      "source": [
        "</br>\n",
        "</br>\n",
        "\n",
        "\n",
        "And where from here?\n",
        "We now have a list of articles, how could this be useful?\n",
        "\n",
        "- **Automated News Roundups**: you could write code to collect news titles each day to produce a daily roundup\n",
        "- **Sentiment Analysis**: If you scale up the data collection, you could perform [sentiment analysis](https://en.wikipedia.org/wiki/Sentiment_analysis) to learn about the emotional valience of news stories.\n",
        "</br>\n",
        "</br>\n",
        "</br>\n",
        "</br>\n",
        "\n",
        "\n",
        "### Making a Chart: Term Frequencies\n",
        "\n",
        "Today, we can make a chart of term frequencies from the headlines. This will tell us about the topics covered by the website.\n",
        "\n",
        "To do this, we will:\n",
        "\n",
        "1. Define a list of common words to avoid (e.g. \"the\", \"how\", \"should\")\n",
        "2. Work out how many times each word appears, excluding the common words\n",
        "3. Save our data"
      ]
    },
    {
      "cell_type": "markdown",
      "metadata": {
        "id": "IqhgvmfTUkbg"
      },
      "source": [
        "</br>\n",
        "</br>\n",
        "\n",
        "#### 1: Make a long list of every word"
      ]
    },
    {
      "cell_type": "code",
      "execution_count": 29,
      "metadata": {
        "id": "Nfdvh-CEzti3"
      },
      "outputs": [],
      "source": [
        "word_list = [] # Create an empty list to store the words\n",
        "\n",
        "article_titles_and_taglines = article_titles+tagline_texts # Combine the article titles and taglines into one list\n",
        "\n",
        "for text in article_titles_and_taglines: # Loop through each article title and tagline\n",
        "  words_in_text = text.split() # Split the text into words so we can loop through each word\n",
        "  for word in words_in_text: # Loop through each word\n",
        "    lowercase_word = word.lower() # Convert the word to lowercase\n",
        "    word_excl_punc = lowercase_word.replace(\".\", \"\").replace(\",\", \"\").replace(\"?\",\"\") # Remove punctuation\n",
        "    word_list.append(word_excl_punc) # Add the word to the word_list\n",
        "\n"
      ]
    },
    {
      "cell_type": "markdown",
      "metadata": {
        "id": "OQ2bV7Z-0wmW"
      },
      "source": [
        "</br>\n",
        "</br>\n",
        "\n",
        "#### 2: Count how many times each word appears\n",
        "For this we'll use Counters, which take a list and return an object showing how many times each item appears"
      ]
    },
    {
      "cell_type": "code",
      "execution_count": 30,
      "metadata": {
        "colab": {
          "base_uri": "https://localhost:8080/"
        },
        "id": "F9ilrpNN0vtr",
        "outputId": "6d24163b-d091-46e1-c51c-437520015ffd"
      },
      "outputs": [
        {
          "data": {
            "text/plain": [
              "Counter({'what': 6,\n",
              "         'is': 9,\n",
              "         'the': 25,\n",
              "         'future': 1,\n",
              "         'of': 12,\n",
              "         'commuting': 1,\n",
              "         'to': 15,\n",
              "         'work': 4,\n",
              "         'financing': 2,\n",
              "         'uk': 3,\n",
              "         'rail': 1,\n",
              "         'infrastructure:': 1,\n",
              "         'how': 9,\n",
              "         'does': 4,\n",
              "         'today': 2,\n",
              "         'compare': 1,\n",
              "         'with': 1,\n",
              "         'past': 2,\n",
              "         'has': 4,\n",
              "         'infrastructure': 1,\n",
              "         'been': 1,\n",
              "         'financed': 1,\n",
              "         'in': 5,\n",
              "         'why': 1,\n",
              "         'have': 5,\n",
              "         'insurance': 4,\n",
              "         'premiums': 2,\n",
              "         'gone': 1,\n",
              "         'up': 3,\n",
              "         'so': 1,\n",
              "         'much': 2,\n",
              "         'insurtech:': 1,\n",
              "         'it': 6,\n",
              "         'and': 21,\n",
              "         'mean': 1,\n",
              "         'for': 12,\n",
              "         'read': 1,\n",
              "         'latest': 1,\n",
              "         'edition': 1,\n",
              "         'our': 1,\n",
              "         'magazine': 1,\n",
              "         'here': 1,\n",
              "         'crowdfunding': 2,\n",
              "         'helping': 1,\n",
              "         'small': 2,\n",
              "         'businesses': 2,\n",
              "         'are': 7,\n",
              "         'geopolitical': 2,\n",
              "         'risks': 3,\n",
              "         'affecting': 1,\n",
              "         'world': 3,\n",
              "         'economy': 3,\n",
              "         'global': 1,\n",
              "         'support': 2,\n",
              "         'abortion': 1,\n",
              "         'legalisation': 1,\n",
              "         'ukraine’s': 1,\n",
              "         'accession': 2,\n",
              "         'european': 1,\n",
              "         'union:': 1,\n",
              "         'difference': 1,\n",
              "         'would': 2,\n",
              "         'make': 2,\n",
              "         'government’s': 1,\n",
              "         'furlough': 2,\n",
              "         'scheme': 3,\n",
              "         'will': 3,\n",
              "         'coronavirus': 2,\n",
              "         'accelerate': 1,\n",
              "         'move': 1,\n",
              "         'towards': 1,\n",
              "         'a': 5,\n",
              "         'cashless': 1,\n",
              "         'twenty': 1,\n",
              "         'years': 2,\n",
              "         'facebook:': 1,\n",
              "         'shaped': 1,\n",
              "         'economies': 1,\n",
              "         'around': 4,\n",
              "         'can': 1,\n",
              "         'digital': 2,\n",
              "         'innovation': 2,\n",
              "         'including': 2,\n",
              "         'ai': 1,\n",
              "         'improve': 2,\n",
              "         'productivity': 2,\n",
              "         'growth': 2,\n",
              "         'half': 1,\n",
              "         'labour': 1,\n",
              "         'force': 1,\n",
              "         'currently': 1,\n",
              "         'working': 3,\n",
              "         'from': 1,\n",
              "         'home': 2,\n",
              "         'surveys': 1,\n",
              "         'employees': 1,\n",
              "         'conducted': 1,\n",
              "         'march': 1,\n",
              "         'april': 1,\n",
              "         '2021': 1,\n",
              "         'suggest': 1,\n",
              "         'that': 3,\n",
              "         'spending': 1,\n",
              "         'two': 2,\n",
              "         'three': 1,\n",
              "         'days': 2,\n",
              "         'week': 1,\n",
              "         'at': 3,\n",
              "         'most': 1,\n",
              "         'common': 1,\n",
              "         'expected': 1,\n",
              "         'pattern': 1,\n",
              "         'after': 1,\n",
              "         'pandemic': 1,\n",
              "         'higher': 1,\n",
              "         'cars': 1,\n",
              "         'homes': 1,\n",
              "         'being': 1,\n",
              "         'driven': 1,\n",
              "         'by': 4,\n",
              "         'mix': 1,\n",
              "         'factors': 1,\n",
              "         'changing': 3,\n",
              "         'regulations': 1,\n",
              "         'human': 1,\n",
              "         'behaviour': 1,\n",
              "         'climate': 1,\n",
              "         'insurers': 1,\n",
              "         'balance': 1,\n",
              "         'need': 2,\n",
              "         'adequate': 1,\n",
              "         'reserves': 1,\n",
              "         'claims': 1,\n",
              "         'maintained': 1,\n",
              "         'profitability': 1,\n",
              "         'affordable': 1,\n",
              "         'coverage': 1,\n",
              "         'consumers': 2,\n",
              "         'emergence': 1,\n",
              "         'insurtech': 1,\n",
              "         'recent': 1,\n",
              "         'helped': 1,\n",
              "         'companies': 1,\n",
              "         'their': 2,\n",
              "         'customers’': 1,\n",
              "         'experience': 1,\n",
              "         'develop': 1,\n",
              "         'new': 2,\n",
              "         'products': 1,\n",
              "         'lower': 1,\n",
              "         'costs': 1,\n",
              "         'enhance': 1,\n",
              "         'underwriting': 1,\n",
              "         'actuarial': 1,\n",
              "         'processes': 2,\n",
              "         'but': 1,\n",
              "         'challenges': 1,\n",
              "         'data': 1,\n",
              "         'privacy': 1,\n",
              "         'equality': 1,\n",
              "         'access': 1,\n",
              "         'be': 2,\n",
              "         'addressed': 1,\n",
              "         'unlocks': 1,\n",
              "         'alternative': 1,\n",
              "         'start-ups': 1,\n",
              "         'mobilising': 1,\n",
              "         'pools': 1,\n",
              "         'small-scale': 1,\n",
              "         'investors': 1,\n",
              "         'via': 1,\n",
              "         'online': 1,\n",
              "         'platforms': 1,\n",
              "         'funding': 1,\n",
              "         'model': 1,\n",
              "         'spreads': 1,\n",
              "         'risk': 1,\n",
              "         'enables': 1,\n",
              "         'innovative': 1,\n",
              "         'projects': 1,\n",
              "         'democratises': 1,\n",
              "         'investment': 2,\n",
              "         'allowing': 1,\n",
              "         'individuals': 1,\n",
              "         'causes': 1,\n",
              "         'they': 1,\n",
              "         'care': 1,\n",
              "         'about': 1,\n",
              "         'posed': 1,\n",
              "         'elections': 1,\n",
              "         'polarisation': 1,\n",
              "         'conflicts': 1,\n",
              "         'within': 1,\n",
              "         'between': 2,\n",
              "         'states': 1,\n",
              "         'inevitable': 1,\n",
              "         'knock-on': 1,\n",
              "         'effects': 1,\n",
              "         'on': 3,\n",
              "         'both': 1,\n",
              "         'globally': 1,\n",
              "         'individual': 1,\n",
              "         'countries': 1,\n",
              "         'this': 1,\n",
              "         'year': 1,\n",
              "         'more': 1,\n",
              "         'than': 1,\n",
              "         'ever': 1,\n",
              "         'managing': 1,\n",
              "         'these': 2,\n",
              "         'shoring': 1,\n",
              "         'institutions': 1,\n",
              "         'promote': 1,\n",
              "         'stability': 1,\n",
              "         'essential': 1,\n",
              "         'existing': 1,\n",
              "         'agreements': 1,\n",
              "         'ukraine': 1,\n",
              "         'eu': 1,\n",
              "         'already': 1,\n",
              "         'promoted': 1,\n",
              "         'substantial': 1,\n",
              "         'trade': 1,\n",
              "         'flows': 1,\n",
              "         'bigger': 1,\n",
              "         'implications': 1,\n",
              "         'freedom': 1,\n",
              "         'movement': 1,\n",
              "         'capital': 1,\n",
              "         'workers': 1,\n",
              "         '–': 2,\n",
              "         'inflows': 1,\n",
              "         'migration': 1,\n",
              "         'outflows': 1,\n",
              "         'areas': 1,\n",
              "         'where': 1,\n",
              "         'negotiations': 1,\n",
              "         'likely': 1,\n",
              "         'focus': 1,\n",
              "         'job': 1,\n",
              "         'retention': 1,\n",
              "         'was': 1,\n",
              "         'set': 1,\n",
              "         'encourage': 1,\n",
              "         'employers': 1,\n",
              "         'keep': 1,\n",
              "         'staff': 1,\n",
              "         'during': 1,\n",
              "         'lockdown': 1,\n",
              "         'easier': 1,\n",
              "         'everyone': 1,\n",
              "         'return': 1,\n",
              "         'when': 1,\n",
              "         'restrictions': 1,\n",
              "         'lift': 1,\n",
              "         'happen': 1,\n",
              "         'jobs': 1,\n",
              "         'as': 2,\n",
              "         'it’s': 1,\n",
              "         'wound': 1,\n",
              "         'down': 1,\n",
              "         'changed': 1,\n",
              "         'since': 1,\n",
              "         'early': 1,\n",
              "         'facebook': 1,\n",
              "         'mark': 1,\n",
              "         'zuckerberg’s': 1,\n",
              "         'room': 1,\n",
              "         'harvard': 1,\n",
              "         'university': 1,\n",
              "         'decades': 1,\n",
              "         'ago': 1,\n",
              "         'out': 1,\n",
              "         'best': 1,\n",
              "         'regulate': 1,\n",
              "         'company': 1,\n",
              "         'vital': 1,\n",
              "         'issue': 1,\n",
              "         'policy-makers': 1,\n",
              "         'protecting': 1,\n",
              "         'without': 1,\n",
              "         'dampening': 1,\n",
              "         'critical': 1,\n",
              "         'technologies': 1,\n",
              "         'like': 1,\n",
              "         'artificial': 1,\n",
              "         'intelligence': 1,\n",
              "         'rate': 1,\n",
              "         'which': 1,\n",
              "         'boosted': 1,\n",
              "         'depends': 1,\n",
              "         'not': 1,\n",
              "         'just': 1,\n",
              "         'innovations': 1,\n",
              "         'themselves': 1,\n",
              "         'business': 1,\n",
              "         'adapted': 1,\n",
              "         'take': 1,\n",
              "         'advantage': 1,\n",
              "         'them': 1,\n",
              "         'also': 1,\n",
              "         'crucial': 1,\n",
              "         'complementary': 1,\n",
              "         'investments': 1,\n",
              "         'firms': 1,\n",
              "         'governments': 1})"
            ]
          },
          "execution_count": 30,
          "metadata": {},
          "output_type": "execute_result"
        }
      ],
      "source": [
        "word_counter = Counter(word_list)\n",
        "\n",
        "word_counter"
      ]
    },
    {
      "cell_type": "markdown",
      "metadata": {
        "id": "sDzEnkQR2NvH"
      },
      "source": [
        "</br>\n",
        "</br>\n",
        "\n",
        "\n",
        "#### 3: Making a table\n",
        "\n",
        "We now have a counter showing word frequencies. Using **Pandas**, we can turn this into a more useful table."
      ]
    },
    {
      "cell_type": "code",
      "execution_count": 31,
      "metadata": {
        "id": "0m3JOUy_2a-A"
      },
      "outputs": [
        {
          "data": {
            "text/html": [
              "<div>\n",
              "<style scoped>\n",
              "    .dataframe tbody tr th:only-of-type {\n",
              "        vertical-align: middle;\n",
              "    }\n",
              "\n",
              "    .dataframe tbody tr th {\n",
              "        vertical-align: top;\n",
              "    }\n",
              "\n",
              "    .dataframe thead th {\n",
              "        text-align: right;\n",
              "    }\n",
              "</style>\n",
              "<table border=\"1\" class=\"dataframe\">\n",
              "  <thead>\n",
              "    <tr style=\"text-align: right;\">\n",
              "      <th></th>\n",
              "      <th>word</th>\n",
              "      <th>count</th>\n",
              "    </tr>\n",
              "  </thead>\n",
              "  <tbody>\n",
              "    <tr>\n",
              "      <th>2</th>\n",
              "      <td>the</td>\n",
              "      <td>25</td>\n",
              "    </tr>\n",
              "    <tr>\n",
              "      <th>33</th>\n",
              "      <td>and</td>\n",
              "      <td>21</td>\n",
              "    </tr>\n",
              "    <tr>\n",
              "      <th>6</th>\n",
              "      <td>to</td>\n",
              "      <td>15</td>\n",
              "    </tr>\n",
              "    <tr>\n",
              "      <th>35</th>\n",
              "      <td>for</td>\n",
              "      <td>12</td>\n",
              "    </tr>\n",
              "    <tr>\n",
              "      <th>4</th>\n",
              "      <td>of</td>\n",
              "      <td>12</td>\n",
              "    </tr>\n",
              "    <tr>\n",
              "      <th>...</th>\n",
              "      <td>...</td>\n",
              "      <td>...</td>\n",
              "    </tr>\n",
              "    <tr>\n",
              "      <th>141</th>\n",
              "      <td>helped</td>\n",
              "      <td>1</td>\n",
              "    </tr>\n",
              "    <tr>\n",
              "      <th>142</th>\n",
              "      <td>companies</td>\n",
              "      <td>1</td>\n",
              "    </tr>\n",
              "    <tr>\n",
              "      <th>144</th>\n",
              "      <td>customers’</td>\n",
              "      <td>1</td>\n",
              "    </tr>\n",
              "    <tr>\n",
              "      <th>145</th>\n",
              "      <td>experience</td>\n",
              "      <td>1</td>\n",
              "    </tr>\n",
              "    <tr>\n",
              "      <th>305</th>\n",
              "      <td>governments</td>\n",
              "      <td>1</td>\n",
              "    </tr>\n",
              "  </tbody>\n",
              "</table>\n",
              "<p>306 rows × 2 columns</p>\n",
              "</div>"
            ],
            "text/plain": [
              "            word  count\n",
              "2            the     25\n",
              "33           and     21\n",
              "6             to     15\n",
              "35           for     12\n",
              "4             of     12\n",
              "..           ...    ...\n",
              "141       helped      1\n",
              "142    companies      1\n",
              "144   customers’      1\n",
              "145   experience      1\n",
              "305  governments      1\n",
              "\n",
              "[306 rows x 2 columns]"
            ]
          },
          "execution_count": 31,
          "metadata": {},
          "output_type": "execute_result"
        }
      ],
      "source": [
        "df = pd.DataFrame(word_counter.items(), columns=[\"word\", \"count\"])\n",
        "\n",
        "sorted_df = df.sort_values(by=\"count\", ascending=False)\n",
        "\n",
        "sorted_df"
      ]
    },
    {
      "cell_type": "markdown",
      "metadata": {
        "id": "hS5i_rR_1iiL"
      },
      "source": [
        "</br>\n",
        "</br>\n",
        "\n",
        "\n",
        "#### 4: Filter out Common words\n",
        "\n",
        "The most common words in our word_counter are common words: \"the\", \"to\", \"a\", etc.\n",
        "\n",
        "We should filter these out so we can learn more about the articles.\n",
        "\n",
        "Thankfully, lots of lists of common words exist already. We'll download a common word list and only keep the word that do not appear in it."
      ]
    },
    {
      "cell_type": "code",
      "execution_count": 32,
      "metadata": {},
      "outputs": [
        {
          "data": {
            "text/html": [
              "<div>\n",
              "<style scoped>\n",
              "    .dataframe tbody tr th:only-of-type {\n",
              "        vertical-align: middle;\n",
              "    }\n",
              "\n",
              "    .dataframe tbody tr th {\n",
              "        vertical-align: top;\n",
              "    }\n",
              "\n",
              "    .dataframe thead th {\n",
              "        text-align: right;\n",
              "    }\n",
              "</style>\n",
              "<table border=\"1\" class=\"dataframe\">\n",
              "  <thead>\n",
              "    <tr style=\"text-align: right;\">\n",
              "      <th></th>\n",
              "      <th>word</th>\n",
              "      <th>count</th>\n",
              "    </tr>\n",
              "  </thead>\n",
              "  <tbody>\n",
              "    <tr>\n",
              "      <th>25</th>\n",
              "      <td>insurance</td>\n",
              "      <td>4</td>\n",
              "    </tr>\n",
              "    <tr>\n",
              "      <th>7</th>\n",
              "      <td>work</td>\n",
              "      <td>4</td>\n",
              "    </tr>\n",
              "    <tr>\n",
              "      <th>48</th>\n",
              "      <td>risks</td>\n",
              "      <td>3</td>\n",
              "    </tr>\n",
              "    <tr>\n",
              "      <th>50</th>\n",
              "      <td>world</td>\n",
              "      <td>3</td>\n",
              "    </tr>\n",
              "    <tr>\n",
              "      <th>65</th>\n",
              "      <td>scheme</td>\n",
              "      <td>3</td>\n",
              "    </tr>\n",
              "    <tr>\n",
              "      <th>...</th>\n",
              "      <td>...</td>\n",
              "      <td>...</td>\n",
              "    </tr>\n",
              "    <tr>\n",
              "      <th>141</th>\n",
              "      <td>helped</td>\n",
              "      <td>1</td>\n",
              "    </tr>\n",
              "    <tr>\n",
              "      <th>142</th>\n",
              "      <td>companies</td>\n",
              "      <td>1</td>\n",
              "    </tr>\n",
              "    <tr>\n",
              "      <th>144</th>\n",
              "      <td>customers’</td>\n",
              "      <td>1</td>\n",
              "    </tr>\n",
              "    <tr>\n",
              "      <th>145</th>\n",
              "      <td>experience</td>\n",
              "      <td>1</td>\n",
              "    </tr>\n",
              "    <tr>\n",
              "      <th>305</th>\n",
              "      <td>governments</td>\n",
              "      <td>1</td>\n",
              "    </tr>\n",
              "  </tbody>\n",
              "</table>\n",
              "<p>226 rows × 2 columns</p>\n",
              "</div>"
            ],
            "text/plain": [
              "            word  count\n",
              "25     insurance      4\n",
              "7           work      4\n",
              "48         risks      3\n",
              "50         world      3\n",
              "65        scheme      3\n",
              "..           ...    ...\n",
              "141       helped      1\n",
              "142    companies      1\n",
              "144   customers’      1\n",
              "145   experience      1\n",
              "305  governments      1\n",
              "\n",
              "[226 rows x 2 columns]"
            ]
          },
          "execution_count": 32,
          "metadata": {},
          "output_type": "execute_result"
        }
      ],
      "source": [
        "common_words = requests.get(\"https://raw.githubusercontent.com/6/stopwords-json/master/dist/en.json\").json()\n",
        "\n",
        "df_excl_common = sorted_df.query(\"word not in @common_words\")\n",
        "\n",
        "df_excl_common"
      ]
    },
    {
      "cell_type": "markdown",
      "metadata": {},
      "source": [
        "</br>\n",
        "</br>\n",
        "\n",
        "\n",
        "#### Saving Our Data\n",
        "\n",
        "We now have a table of how often words appear in Economics Observatory headlines and taglines.\n",
        "Let's keep the words that appear more than twice and save the table."
      ]
    },
    {
      "cell_type": "code",
      "execution_count": 33,
      "metadata": {},
      "outputs": [
        {
          "data": {
            "text/html": [
              "<div>\n",
              "<style scoped>\n",
              "    .dataframe tbody tr th:only-of-type {\n",
              "        vertical-align: middle;\n",
              "    }\n",
              "\n",
              "    .dataframe tbody tr th {\n",
              "        vertical-align: top;\n",
              "    }\n",
              "\n",
              "    .dataframe thead th {\n",
              "        text-align: right;\n",
              "    }\n",
              "</style>\n",
              "<table border=\"1\" class=\"dataframe\">\n",
              "  <thead>\n",
              "    <tr style=\"text-align: right;\">\n",
              "      <th></th>\n",
              "      <th>word</th>\n",
              "      <th>count</th>\n",
              "    </tr>\n",
              "  </thead>\n",
              "  <tbody>\n",
              "    <tr>\n",
              "      <th>25</th>\n",
              "      <td>insurance</td>\n",
              "      <td>4</td>\n",
              "    </tr>\n",
              "    <tr>\n",
              "      <th>7</th>\n",
              "      <td>work</td>\n",
              "      <td>4</td>\n",
              "    </tr>\n",
              "    <tr>\n",
              "      <th>48</th>\n",
              "      <td>risks</td>\n",
              "      <td>3</td>\n",
              "    </tr>\n",
              "    <tr>\n",
              "      <th>50</th>\n",
              "      <td>world</td>\n",
              "      <td>3</td>\n",
              "    </tr>\n",
              "    <tr>\n",
              "      <th>65</th>\n",
              "      <td>scheme</td>\n",
              "      <td>3</td>\n",
              "    </tr>\n",
              "    <tr>\n",
              "      <th>122</th>\n",
              "      <td>changing</td>\n",
              "      <td>3</td>\n",
              "    </tr>\n",
              "    <tr>\n",
              "      <th>51</th>\n",
              "      <td>economy</td>\n",
              "      <td>3</td>\n",
              "    </tr>\n",
              "    <tr>\n",
              "      <th>91</th>\n",
              "      <td>working</td>\n",
              "      <td>3</td>\n",
              "    </tr>\n",
              "    <tr>\n",
              "      <th>9</th>\n",
              "      <td>uk</td>\n",
              "      <td>3</td>\n",
              "    </tr>\n",
              "  </tbody>\n",
              "</table>\n",
              "</div>"
            ],
            "text/plain": [
              "          word  count\n",
              "25   insurance      4\n",
              "7         work      4\n",
              "48       risks      3\n",
              "50       world      3\n",
              "65      scheme      3\n",
              "122   changing      3\n",
              "51     economy      3\n",
              "91     working      3\n",
              "9           uk      3"
            ]
          },
          "execution_count": 33,
          "metadata": {},
          "output_type": "execute_result"
        }
      ],
      "source": [
        "more_than_twice_df = df_excl_common.query(\"count >2\")\n",
        "more_than_twice_df.to_csv(\"s5_eco_words.csv\", index=False)\n",
        "\n",
        "more_than_twice_df"
      ]
    },
    {
      "cell_type": "code",
      "execution_count": null,
      "metadata": {},
      "outputs": [],
      "source": []
    }
  ],
  "metadata": {
    "colab": {
      "provenance": [],
      "toc_visible": true
    },
    "kernelspec": {
      "display_name": "base",
      "language": "python",
      "name": "python3"
    },
    "language_info": {
      "codemirror_mode": {
        "name": "ipython",
        "version": 3
      },
      "file_extension": ".py",
      "mimetype": "text/x-python",
      "name": "python",
      "nbconvert_exporter": "python",
      "pygments_lexer": "ipython3",
      "version": "3.11.4"
    }
  },
  "nbformat": 4,
  "nbformat_minor": 0
}
