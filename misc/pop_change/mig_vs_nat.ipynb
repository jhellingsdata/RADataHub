{
 "cells": [
  {
   "cell_type": "code",
   "execution_count": 1,
   "metadata": {},
   "outputs": [
    {
     "data": {
      "text/plain": [
       "ThemeRegistry.enable('light')"
      ]
     },
     "execution_count": 1,
     "metadata": {},
     "output_type": "execute_result"
    }
   ],
   "source": [
    "import pandas as pd\n",
    "import eco_style\n",
    "import altair as alt\n",
    "alt.themes.enable('light')"
   ]
  },
  {
   "cell_type": "code",
   "execution_count": 31,
   "metadata": {},
   "outputs": [],
   "source": [
    "df = pd.read_csv('F1.csv', encoding='latin')\n",
    "df.columns = [\"series\"] + list(df.columns[1:])\n",
    "df = df.melt(id_vars=[\"series\"], var_name=\"date\", value_name=\"value\")\n",
    "df['value'] = df['value'].str.replace(',', '').astype(float)\n",
    "df['date'] = pd.to_datetime(df['date'], format='%Y')\n",
    "df = df.query(\"series == 'Net migration' or series == 'Natural change'\")\n",
    "\n",
    "proj_df = pd.read_csv(\"proj.csv\")\n",
    "proj_df.columns = ['date', 'Natural change', 'Net migration']\n",
    "proj_df = proj_df.melt(id_vars=[\"date\"], var_name=\"series\", value_name=\"value\")\n",
    "proj_df['date'] = pd.to_datetime(proj_df['date'], format='%Y')\n",
    "proj_df['value'] = proj_df['value'].astype(float)*1000\n",
    "proj_df['forecast'] = True\n",
    "\n",
    "df = pd.concat([df, proj_df]).query(\"date <= '2050-01-01'\")\n",
    "\n"
   ]
  },
  {
   "cell_type": "code",
   "execution_count": 44,
   "metadata": {},
   "outputs": [
    {
     "name": "stderr",
     "output_type": "stream",
     "text": [
      "/Users/finn/anaconda3/lib/python3.11/site-packages/altair/utils/core.py:395: FutureWarning: the convert_dtype parameter is deprecated and will be removed in a future version.  Do ``ser.astype(object).apply()`` instead if you want ``convert_dtype=False``.\n",
      "  col = df[col_name].apply(to_list_if_array, convert_dtype=False)\n",
      "/Users/finn/anaconda3/lib/python3.11/site-packages/altair/utils/core.py:395: FutureWarning: the convert_dtype parameter is deprecated and will be removed in a future version.  Do ``ser.astype(object).apply()`` instead if you want ``convert_dtype=False``.\n",
      "  col = df[col_name].apply(to_list_if_array, convert_dtype=False)\n",
      "/Users/finn/anaconda3/lib/python3.11/site-packages/altair/utils/core.py:395: FutureWarning: the convert_dtype parameter is deprecated and will be removed in a future version.  Do ``ser.astype(object).apply()`` instead if you want ``convert_dtype=False``.\n",
      "  col = df[col_name].apply(to_list_if_array, convert_dtype=False)\n",
      "/Users/finn/anaconda3/lib/python3.11/site-packages/altair/utils/core.py:395: FutureWarning: the convert_dtype parameter is deprecated and will be removed in a future version.  Do ``ser.astype(object).apply()`` instead if you want ``convert_dtype=False``.\n",
      "  col = df[col_name].apply(to_list_if_array, convert_dtype=False)\n",
      "/Users/finn/anaconda3/lib/python3.11/site-packages/altair/utils/core.py:395: FutureWarning: the convert_dtype parameter is deprecated and will be removed in a future version.  Do ``ser.astype(object).apply()`` instead if you want ``convert_dtype=False``.\n",
      "  col = df[col_name].apply(to_list_if_array, convert_dtype=False)\n",
      "/Users/finn/anaconda3/lib/python3.11/site-packages/altair/utils/core.py:395: FutureWarning: the convert_dtype parameter is deprecated and will be removed in a future version.  Do ``ser.astype(object).apply()`` instead if you want ``convert_dtype=False``.\n",
      "  col = df[col_name].apply(to_list_if_array, convert_dtype=False)\n",
      "/Users/finn/anaconda3/lib/python3.11/site-packages/altair/utils/core.py:395: FutureWarning: the convert_dtype parameter is deprecated and will be removed in a future version.  Do ``ser.astype(object).apply()`` instead if you want ``convert_dtype=False``.\n",
      "  col = df[col_name].apply(to_list_if_array, convert_dtype=False)\n",
      "/Users/finn/anaconda3/lib/python3.11/site-packages/altair/utils/core.py:395: FutureWarning: the convert_dtype parameter is deprecated and will be removed in a future version.  Do ``ser.astype(object).apply()`` instead if you want ``convert_dtype=False``.\n",
      "  col = df[col_name].apply(to_list_if_array, convert_dtype=False)\n",
      "/Users/finn/anaconda3/lib/python3.11/site-packages/altair/utils/core.py:395: FutureWarning: the convert_dtype parameter is deprecated and will be removed in a future version.  Do ``ser.astype(object).apply()`` instead if you want ``convert_dtype=False``.\n",
      "  col = df[col_name].apply(to_list_if_array, convert_dtype=False)\n"
     ]
    },
    {
     "data": {
      "text/html": [
       "\n",
       "<style>\n",
       "  #altair-viz-d8c20f549d9a44caabe01b65a5dad547.vega-embed {\n",
       "    width: 100%;\n",
       "    display: flex;\n",
       "  }\n",
       "\n",
       "  #altair-viz-d8c20f549d9a44caabe01b65a5dad547.vega-embed details,\n",
       "  #altair-viz-d8c20f549d9a44caabe01b65a5dad547.vega-embed details summary {\n",
       "    position: relative;\n",
       "  }\n",
       "</style>\n",
       "<div id=\"altair-viz-d8c20f549d9a44caabe01b65a5dad547\"></div>\n",
       "<script type=\"text/javascript\">\n",
       "  var VEGA_DEBUG = (typeof VEGA_DEBUG == \"undefined\") ? {} : VEGA_DEBUG;\n",
       "  (function(spec, embedOpt){\n",
       "    let outputDiv = document.currentScript.previousElementSibling;\n",
       "    if (outputDiv.id !== \"altair-viz-d8c20f549d9a44caabe01b65a5dad547\") {\n",
       "      outputDiv = document.getElementById(\"altair-viz-d8c20f549d9a44caabe01b65a5dad547\");\n",
       "    }\n",
       "    const paths = {\n",
       "      \"vega\": \"https://cdn.jsdelivr.net/npm/vega@5?noext\",\n",
       "      \"vega-lib\": \"https://cdn.jsdelivr.net/npm/vega-lib?noext\",\n",
       "      \"vega-lite\": \"https://cdn.jsdelivr.net/npm/vega-lite@5.8.0?noext\",\n",
       "      \"vega-embed\": \"https://cdn.jsdelivr.net/npm/vega-embed@6?noext\",\n",
       "    };\n",
       "\n",
       "    function maybeLoadScript(lib, version) {\n",
       "      var key = `${lib.replace(\"-\", \"\")}_version`;\n",
       "      return (VEGA_DEBUG[key] == version) ?\n",
       "        Promise.resolve(paths[lib]) :\n",
       "        new Promise(function(resolve, reject) {\n",
       "          var s = document.createElement('script');\n",
       "          document.getElementsByTagName(\"head\")[0].appendChild(s);\n",
       "          s.async = true;\n",
       "          s.onload = () => {\n",
       "            VEGA_DEBUG[key] = version;\n",
       "            return resolve(paths[lib]);\n",
       "          };\n",
       "          s.onerror = () => reject(`Error loading script: ${paths[lib]}`);\n",
       "          s.src = paths[lib];\n",
       "        });\n",
       "    }\n",
       "\n",
       "    function showError(err) {\n",
       "      outputDiv.innerHTML = `<div class=\"error\" style=\"color:red;\">${err}</div>`;\n",
       "      throw err;\n",
       "    }\n",
       "\n",
       "    function displayChart(vegaEmbed) {\n",
       "      vegaEmbed(outputDiv, spec, embedOpt)\n",
       "        .catch(err => showError(`Javascript Error: ${err.message}<br>This usually means there's a typo in your chart specification. See the javascript console for the full traceback.`));\n",
       "    }\n",
       "\n",
       "    if(typeof define === \"function\" && define.amd) {\n",
       "      requirejs.config({paths});\n",
       "      require([\"vega-embed\"], displayChart, err => showError(`Error loading script: ${err.message}`));\n",
       "    } else {\n",
       "      maybeLoadScript(\"vega\", \"5\")\n",
       "        .then(() => maybeLoadScript(\"vega-lite\", \"5.8.0\"))\n",
       "        .then(() => maybeLoadScript(\"vega-embed\", \"6\"))\n",
       "        .catch(showError)\n",
       "        .then(() => displayChart(vegaEmbed));\n",
       "    }\n",
       "  })({\"config\": {\"font\": \"Circular Std\", \"mark\": {\"line\": {\"interpolate\": \"monotone\"}}, \"view\": {\"stroke\": \"transparent\", \"width\": 400, \"height\": 300}, \"range\": {\"category\": [\"#36B7B4\", \"#E6224B\", \"#F4C245\", \"#0063AF\", \"#00A767\", \"#179FDB\", \"#EB5C2E\"], \"diverging\": [\"#E6224B\", \"#E54753\", \"#C9C9C9\", \"#179FDB\", \"#122B39\"], \"heatmap\": [\"#C9C9C9\", \"#179FDB\", \"#0063AF\", \"#122B39\"], \"ordinal\": [\"#00A767\", \"#36B7B4\", \"#179FDB\", \"#0063AF\", \"#243B5A\"]}, \"axisX\": {\"domainColor\": \"#676A86\", \"domainOpacity\": 0.5, \"grid\": false, \"labelAngle\": 0, \"labelColor\": \"#676A86\", \"labelOpacity\": 0.7, \"orient\": \"bottom\", \"tickColor\": \"#676A86\", \"tickCount\": 10, \"tickOpacity\": 0.5, \"title\": false, \"titleAlign\": \"center\", \"titleAnchor\": \"middle\", \"titleColor\": \"#676A86\", \"titleFontSize\": 12, \"titleOpacity\": 0.8, \"titleY\": -15}, \"axisY\": {\"domainColor\": \"#676A86\", \"domainOpacity\": 0.5, \"gridColor\": \"#676A86\", \"gridDash\": [1, 5], \"gridOpacity\": 0.5, \"labelColor\": \"#676A86\", \"labelOpacity\": 0.7, \"labelPadding\": 5, \"tickColor\": \"#676A86\", \"tickCount\": 8, \"tickOpacity\": 0.5, \"ticks\": false, \"titleAlign\": \"left\", \"titleAngle\": 0, \"titleBaseline\": \"bottom\", \"titleColor\": \"#676A86\", \"titleFontSize\": 12, \"titleOpacity\": 0.8, \"titleX\": 0, \"titleY\": -7}}, \"layer\": [{\"data\": {\"name\": \"data-9f879e2666b55368eaf711749e414ce3\"}, \"mark\": {\"type\": \"rect\", \"opacity\": 0.2}, \"encoding\": {\"color\": {\"value\": \"grey\"}, \"x\": {\"field\": \"start\", \"type\": \"temporal\"}, \"x2\": {\"field\": \"end\"}}}, {\"data\": {\"name\": \"data-d13ad6afcd8bf56e97379a572c096916\"}, \"mark\": {\"type\": \"bar\"}, \"encoding\": {\"color\": {\"field\": \"series\", \"legend\": {\"orient\": \"top\"}, \"title\": \"\", \"type\": \"nominal\"}, \"tooltip\": [{\"field\": \"date\", \"type\": \"temporal\"}, {\"field\": \"value\", \"type\": \"quantitative\"}, {\"field\": \"series\", \"type\": \"nominal\"}], \"x\": {\"field\": \"date\", \"timeUnit\": \"year\", \"title\": \"\", \"type\": \"temporal\"}, \"y\": {\"field\": \"value\", \"title\": \"\", \"type\": \"quantitative\"}}, \"title\": \"\"}], \"height\": 400, \"width\": 800, \"$schema\": \"https://vega.github.io/schema/vega-lite/v5.8.0.json\", \"datasets\": {\"data-9f879e2666b55368eaf711749e414ce3\": [{\"start\": \"2023-01-01\", \"end\": \"2051-01-01\"}], \"data-d13ad6afcd8bf56e97379a572c096916\": [{\"series\": \"Natural change\", \"date\": \"1992-01-01T00:00:00\", \"value\": 140200.0, \"forecast\": null}, {\"series\": \"Net migration\", \"date\": \"1992-01-01T00:00:00\", \"value\": -12600.0, \"forecast\": null}, {\"series\": \"Natural change\", \"date\": \"1993-01-01T00:00:00\", \"value\": 116800.0, \"forecast\": null}, {\"series\": \"Net migration\", \"date\": \"1993-01-01T00:00:00\", \"value\": -6500.0, \"forecast\": null}, {\"series\": \"Natural change\", \"date\": \"1994-01-01T00:00:00\", \"value\": 102900.0, \"forecast\": null}, {\"series\": \"Net migration\", \"date\": \"1994-01-01T00:00:00\", \"value\": 27400.0, \"forecast\": null}, {\"series\": \"Natural change\", \"date\": \"1995-01-01T00:00:00\", \"value\": 97200.0, \"forecast\": null}, {\"series\": \"Net migration\", \"date\": \"1995-01-01T00:00:00\", \"value\": 58500.0, \"forecast\": null}, {\"series\": \"Natural change\", \"date\": \"1996-01-01T00:00:00\", \"value\": 71300.0, \"forecast\": null}, {\"series\": \"Net migration\", \"date\": \"1996-01-01T00:00:00\", \"value\": 67200.0, \"forecast\": null}, {\"series\": \"Natural change\", \"date\": \"1997-01-01T00:00:00\", \"value\": 93200.0, \"forecast\": null}, {\"series\": \"Net migration\", \"date\": \"1997-01-01T00:00:00\", \"value\": 56000.0, \"forecast\": null}, {\"series\": \"Natural change\", \"date\": \"1998-01-01T00:00:00\", \"value\": 92200.0, \"forecast\": null}, {\"series\": \"Net migration\", \"date\": \"1998-01-01T00:00:00\", \"value\": 68300.0, \"forecast\": null}, {\"series\": \"Natural change\", \"date\": \"1999-01-01T00:00:00\", \"value\": 72400.0, \"forecast\": null}, {\"series\": \"Net migration\", \"date\": \"1999-01-01T00:00:00\", \"value\": 140900.0, \"forecast\": null}, {\"series\": \"Natural change\", \"date\": \"2000-01-01T00:00:00\", \"value\": 61200.0, \"forecast\": null}, {\"series\": \"Net migration\", \"date\": \"2000-01-01T00:00:00\", \"value\": 145500.0, \"forecast\": null}, {\"series\": \"Natural change\", \"date\": \"2001-01-01T00:00:00\", \"value\": 71000.0, \"forecast\": null}, {\"series\": \"Net migration\", \"date\": \"2001-01-01T00:00:00\", \"value\": 148800.0, \"forecast\": null}, {\"series\": \"Natural change\", \"date\": \"2002-01-01T00:00:00\", \"value\": 60800.0, \"forecast\": null}, {\"series\": \"Net migration\", \"date\": \"2002-01-01T00:00:00\", \"value\": 181400.0, \"forecast\": null}, {\"series\": \"Natural change\", \"date\": \"2003-01-01T00:00:00\", \"value\": 76500.0, \"forecast\": null}, {\"series\": \"Net migration\", \"date\": \"2003-01-01T00:00:00\", \"value\": 184600.0, \"forecast\": null}, {\"series\": \"Natural change\", \"date\": \"2004-01-01T00:00:00\", \"value\": 100600.0, \"forecast\": null}, {\"series\": \"Net migration\", \"date\": \"2004-01-01T00:00:00\", \"value\": 188200.0, \"forecast\": null}, {\"series\": \"Natural change\", \"date\": \"2005-01-01T00:00:00\", \"value\": 121100.0, \"forecast\": null}, {\"series\": \"Net migration\", \"date\": \"2005-01-01T00:00:00\", \"value\": 302300.0, \"forecast\": null}, {\"series\": \"Natural change\", \"date\": \"2006-01-01T00:00:00\", \"value\": 150800.0, \"forecast\": null}, {\"series\": \"Net migration\", \"date\": \"2006-01-01T00:00:00\", \"value\": 224800.0, \"forecast\": null}, {\"series\": \"Natural change\", \"date\": \"2007-01-01T00:00:00\", \"value\": 176700.0, \"forecast\": null}, {\"series\": \"Net migration\", \"date\": \"2007-01-01T00:00:00\", \"value\": 259800.0, \"forecast\": null}, {\"series\": \"Natural change\", \"date\": \"2008-01-01T00:00:00\", \"value\": 205900.0, \"forecast\": null}, {\"series\": \"Net migration\", \"date\": \"2008-01-01T00:00:00\", \"value\": 248400.0, \"forecast\": null}, {\"series\": \"Natural change\", \"date\": \"2009-01-01T00:00:00\", \"value\": 201400.0, \"forecast\": null}, {\"series\": \"Net migration\", \"date\": \"2009-01-01T00:00:00\", \"value\": 192200.0, \"forecast\": null}, {\"series\": \"Natural change\", \"date\": \"2010-01-01T00:00:00\", \"value\": 227200.0, \"forecast\": null}, {\"series\": \"Net migration\", \"date\": \"2010-01-01T00:00:00\", \"value\": 230000.0, \"forecast\": null}, {\"series\": \"Natural change\", \"date\": \"2011-01-01T00:00:00\", \"value\": 239100.0, \"forecast\": null}, {\"series\": \"Net migration\", \"date\": \"2011-01-01T00:00:00\", \"value\": 239400.0, \"forecast\": null}, {\"series\": \"Natural change\", \"date\": \"2012-01-01T00:00:00\", \"value\": 235800.0, \"forecast\": null}, {\"series\": \"Net migration\", \"date\": \"2012-01-01T00:00:00\", \"value\": 171000.0, \"forecast\": null}, {\"series\": \"Natural change\", \"date\": \"2013-01-01T00:00:00\", \"value\": 197300.0, \"forecast\": null}, {\"series\": \"Net migration\", \"date\": \"2013-01-01T00:00:00\", \"value\": 214800.0, \"forecast\": null}, {\"series\": \"Natural change\", \"date\": \"2014-01-01T00:00:00\", \"value\": 211700.0, \"forecast\": null}, {\"series\": \"Net migration\", \"date\": \"2014-01-01T00:00:00\", \"value\": 242700.0, \"forecast\": null}, {\"series\": \"Natural change\", \"date\": \"2015-01-01T00:00:00\", \"value\": 162200.0, \"forecast\": null}, {\"series\": \"Net migration\", \"date\": \"2015-01-01T00:00:00\", \"value\": 275200.0, \"forecast\": null}, {\"series\": \"Natural change\", \"date\": \"2016-01-01T00:00:00\", \"value\": 181700.0, \"forecast\": null}, {\"series\": \"Net migration\", \"date\": \"2016-01-01T00:00:00\", \"value\": 303100.0, \"forecast\": null}, {\"series\": \"Natural change\", \"date\": \"2017-01-01T00:00:00\", \"value\": 152000.0, \"forecast\": null}, {\"series\": \"Net migration\", \"date\": \"2017-01-01T00:00:00\", \"value\": 182700.0, \"forecast\": null}, {\"series\": \"Natural change\", \"date\": \"2018-01-01T00:00:00\", \"value\": 118500.0, \"forecast\": null}, {\"series\": \"Net migration\", \"date\": \"2018-01-01T00:00:00\", \"value\": 189000.0, \"forecast\": null}, {\"series\": \"Natural change\", \"date\": \"2019-01-01T00:00:00\", \"value\": 127800.0, \"forecast\": null}, {\"series\": \"Net migration\", \"date\": \"2019-01-01T00:00:00\", \"value\": 181600.0, \"forecast\": null}, {\"series\": \"Natural change\", \"date\": \"2020-01-01T00:00:00\", \"value\": 37400.0, \"forecast\": null}, {\"series\": \"Net migration\", \"date\": \"2020-01-01T00:00:00\", \"value\": 75300.0, \"forecast\": null}, {\"series\": \"Natural change\", \"date\": \"2021-01-01T00:00:00\", \"value\": 32500.0, \"forecast\": null}, {\"series\": \"Net migration\", \"date\": \"2021-01-01T00:00:00\", \"value\": 197600.0, \"forecast\": null}, {\"series\": \"Natural change\", \"date\": \"2022-01-01T00:00:00\", \"value\": 46300.0, \"forecast\": null}, {\"series\": \"Net migration\", \"date\": \"2022-01-01T00:00:00\", \"value\": 531200.0, \"forecast\": null}, {\"series\": \"Natural change\", \"date\": \"2023-01-01T00:00:00\", \"value\": 1000.0, \"forecast\": true}, {\"series\": \"Natural change\", \"date\": \"2024-01-01T00:00:00\", \"value\": 76000.0, \"forecast\": true}, {\"series\": \"Natural change\", \"date\": \"2025-01-01T00:00:00\", \"value\": 77000.0, \"forecast\": true}, {\"series\": \"Natural change\", \"date\": \"2026-01-01T00:00:00\", \"value\": 72000.0, \"forecast\": true}, {\"series\": \"Natural change\", \"date\": \"2027-01-01T00:00:00\", \"value\": 66000.0, \"forecast\": true}, {\"series\": \"Natural change\", \"date\": \"2028-01-01T00:00:00\", \"value\": 58000.0, \"forecast\": true}, {\"series\": \"Natural change\", \"date\": \"2029-01-01T00:00:00\", \"value\": 49000.0, \"forecast\": true}, {\"series\": \"Natural change\", \"date\": \"2030-01-01T00:00:00\", \"value\": 40000.0, \"forecast\": true}, {\"series\": \"Natural change\", \"date\": \"2031-01-01T00:00:00\", \"value\": 31000.0, \"forecast\": true}, {\"series\": \"Natural change\", \"date\": \"2032-01-01T00:00:00\", \"value\": 23000.0, \"forecast\": true}, {\"series\": \"Natural change\", \"date\": \"2033-01-01T00:00:00\", \"value\": 14000.0, \"forecast\": true}, {\"series\": \"Natural change\", \"date\": \"2034-01-01T00:00:00\", \"value\": 6000.0, \"forecast\": true}, {\"series\": \"Natural change\", \"date\": \"2035-01-01T00:00:00\", \"value\": -2000.0, \"forecast\": true}, {\"series\": \"Natural change\", \"date\": \"2036-01-01T00:00:00\", \"value\": -8000.0, \"forecast\": true}, {\"series\": \"Natural change\", \"date\": \"2037-01-01T00:00:00\", \"value\": -12000.0, \"forecast\": true}, {\"series\": \"Natural change\", \"date\": \"2038-01-01T00:00:00\", \"value\": -15000.0, \"forecast\": true}, {\"series\": \"Natural change\", \"date\": \"2039-01-01T00:00:00\", \"value\": -17000.0, \"forecast\": true}, {\"series\": \"Natural change\", \"date\": \"2040-01-01T00:00:00\", \"value\": -19000.0, \"forecast\": true}, {\"series\": \"Natural change\", \"date\": \"2041-01-01T00:00:00\", \"value\": -22000.0, \"forecast\": true}, {\"series\": \"Natural change\", \"date\": \"2042-01-01T00:00:00\", \"value\": -25000.0, \"forecast\": true}, {\"series\": \"Natural change\", \"date\": \"2043-01-01T00:00:00\", \"value\": -28000.0, \"forecast\": true}, {\"series\": \"Natural change\", \"date\": \"2044-01-01T00:00:00\", \"value\": -31000.0, \"forecast\": true}, {\"series\": \"Natural change\", \"date\": \"2045-01-01T00:00:00\", \"value\": -36000.0, \"forecast\": true}, {\"series\": \"Natural change\", \"date\": \"2046-01-01T00:00:00\", \"value\": -43000.0, \"forecast\": true}, {\"series\": \"Natural change\", \"date\": \"2047-01-01T00:00:00\", \"value\": -49000.0, \"forecast\": true}, {\"series\": \"Natural change\", \"date\": \"2048-01-01T00:00:00\", \"value\": -57000.0, \"forecast\": true}, {\"series\": \"Natural change\", \"date\": \"2049-01-01T00:00:00\", \"value\": -65000.0, \"forecast\": true}, {\"series\": \"Natural change\", \"date\": \"2050-01-01T00:00:00\", \"value\": -72000.0, \"forecast\": true}, {\"series\": \"Net migration\", \"date\": \"2023-01-01T00:00:00\", \"value\": 670000.0, \"forecast\": true}, {\"series\": \"Net migration\", \"date\": \"2024-01-01T00:00:00\", \"value\": 599000.0, \"forecast\": true}, {\"series\": \"Net migration\", \"date\": \"2025-01-01T00:00:00\", \"value\": 528000.0, \"forecast\": true}, {\"series\": \"Net migration\", \"date\": \"2026-01-01T00:00:00\", \"value\": 457000.0, \"forecast\": true}, {\"series\": \"Net migration\", \"date\": \"2027-01-01T00:00:00\", \"value\": 386000.0, \"forecast\": true}, {\"series\": \"Net migration\", \"date\": \"2028-01-01T00:00:00\", \"value\": 315000.0, \"forecast\": true}, {\"series\": \"Net migration\", \"date\": \"2029-01-01T00:00:00\", \"value\": 315000.0, \"forecast\": true}, {\"series\": \"Net migration\", \"date\": \"2030-01-01T00:00:00\", \"value\": 315000.0, \"forecast\": true}, {\"series\": \"Net migration\", \"date\": \"2031-01-01T00:00:00\", \"value\": 315000.0, \"forecast\": true}, {\"series\": \"Net migration\", \"date\": \"2032-01-01T00:00:00\", \"value\": 315000.0, \"forecast\": true}, {\"series\": \"Net migration\", \"date\": \"2033-01-01T00:00:00\", \"value\": 315000.0, \"forecast\": true}, {\"series\": \"Net migration\", \"date\": \"2034-01-01T00:00:00\", \"value\": 315000.0, \"forecast\": true}, {\"series\": \"Net migration\", \"date\": \"2035-01-01T00:00:00\", \"value\": 315000.0, \"forecast\": true}, {\"series\": \"Net migration\", \"date\": \"2036-01-01T00:00:00\", \"value\": 315000.0, \"forecast\": true}, {\"series\": \"Net migration\", \"date\": \"2037-01-01T00:00:00\", \"value\": 315000.0, \"forecast\": true}, {\"series\": \"Net migration\", \"date\": \"2038-01-01T00:00:00\", \"value\": 315000.0, \"forecast\": true}, {\"series\": \"Net migration\", \"date\": \"2039-01-01T00:00:00\", \"value\": 315000.0, \"forecast\": true}, {\"series\": \"Net migration\", \"date\": \"2040-01-01T00:00:00\", \"value\": 315000.0, \"forecast\": true}, {\"series\": \"Net migration\", \"date\": \"2041-01-01T00:00:00\", \"value\": 315000.0, \"forecast\": true}, {\"series\": \"Net migration\", \"date\": \"2042-01-01T00:00:00\", \"value\": 315000.0, \"forecast\": true}, {\"series\": \"Net migration\", \"date\": \"2043-01-01T00:00:00\", \"value\": 315000.0, \"forecast\": true}, {\"series\": \"Net migration\", \"date\": \"2044-01-01T00:00:00\", \"value\": 315000.0, \"forecast\": true}, {\"series\": \"Net migration\", \"date\": \"2045-01-01T00:00:00\", \"value\": 315000.0, \"forecast\": true}, {\"series\": \"Net migration\", \"date\": \"2046-01-01T00:00:00\", \"value\": 315000.0, \"forecast\": true}, {\"series\": \"Net migration\", \"date\": \"2047-01-01T00:00:00\", \"value\": 315000.0, \"forecast\": true}, {\"series\": \"Net migration\", \"date\": \"2048-01-01T00:00:00\", \"value\": 315000.0, \"forecast\": true}, {\"series\": \"Net migration\", \"date\": \"2049-01-01T00:00:00\", \"value\": 315000.0, \"forecast\": true}, {\"series\": \"Net migration\", \"date\": \"2050-01-01T00:00:00\", \"value\": 315000.0, \"forecast\": true}]}}, {\"mode\": \"vega-lite\"});\n",
       "</script>"
      ],
      "text/plain": [
       "alt.LayerChart(...)"
      ]
     },
     "execution_count": 44,
     "metadata": {},
     "output_type": "execute_result"
    }
   ],
   "source": [
    "\n",
    "\n",
    "chart = alt.Chart(df).mark_bar().encode(\n",
    "    x=alt.X('year(date):T', title=''),\n",
    "    y=alt.Y('value:Q', title=''),\n",
    "    color=alt.Color('series:N', title='', legend=alt.Legend(orient='top')),\n",
    "    tooltip=['date:T', 'value:Q', 'series:N']\n",
    ").properties(\n",
    "    title='',\n",
    "    width=800,\n",
    "    height=400\n",
    ")\n",
    "\n",
    "# Shade 2023 onwards\n",
    "shade = alt.Chart(pd.DataFrame([{\n",
    "    \"start\": \"2023-01-01\",\n",
    "    \"end\": \"2051-01-01\"\n",
    "}])).mark_rect(opacity=0.2).encode(\n",
    "    x='start:T',\n",
    "    x2='end:T',\n",
    "    color=alt.value('grey')\n",
    ")\n",
    "\n",
    "chart = shade + chart\n",
    "\n",
    "chart.save('nat_change_net_migration.png', scale_factor=2.0)\n",
    "chart.save('nat_change_net_migration.json')\n",
    "\n",
    "chart\n"
   ]
  },
  {
   "cell_type": "code",
   "execution_count": 36,
   "metadata": {},
   "outputs": [
    {
     "data": {
      "text/html": [
       "\n",
       "<style>\n",
       "  #altair-viz-96cc4c6a87a3405c9c017af9d6793a2d.vega-embed {\n",
       "    width: 100%;\n",
       "    display: flex;\n",
       "  }\n",
       "\n",
       "  #altair-viz-96cc4c6a87a3405c9c017af9d6793a2d.vega-embed details,\n",
       "  #altair-viz-96cc4c6a87a3405c9c017af9d6793a2d.vega-embed details summary {\n",
       "    position: relative;\n",
       "  }\n",
       "</style>\n",
       "<div id=\"altair-viz-96cc4c6a87a3405c9c017af9d6793a2d\"></div>\n",
       "<script type=\"text/javascript\">\n",
       "  var VEGA_DEBUG = (typeof VEGA_DEBUG == \"undefined\") ? {} : VEGA_DEBUG;\n",
       "  (function(spec, embedOpt){\n",
       "    let outputDiv = document.currentScript.previousElementSibling;\n",
       "    if (outputDiv.id !== \"altair-viz-96cc4c6a87a3405c9c017af9d6793a2d\") {\n",
       "      outputDiv = document.getElementById(\"altair-viz-96cc4c6a87a3405c9c017af9d6793a2d\");\n",
       "    }\n",
       "    const paths = {\n",
       "      \"vega\": \"https://cdn.jsdelivr.net/npm/vega@5?noext\",\n",
       "      \"vega-lib\": \"https://cdn.jsdelivr.net/npm/vega-lib?noext\",\n",
       "      \"vega-lite\": \"https://cdn.jsdelivr.net/npm/vega-lite@5.8.0?noext\",\n",
       "      \"vega-embed\": \"https://cdn.jsdelivr.net/npm/vega-embed@6?noext\",\n",
       "    };\n",
       "\n",
       "    function maybeLoadScript(lib, version) {\n",
       "      var key = `${lib.replace(\"-\", \"\")}_version`;\n",
       "      return (VEGA_DEBUG[key] == version) ?\n",
       "        Promise.resolve(paths[lib]) :\n",
       "        new Promise(function(resolve, reject) {\n",
       "          var s = document.createElement('script');\n",
       "          document.getElementsByTagName(\"head\")[0].appendChild(s);\n",
       "          s.async = true;\n",
       "          s.onload = () => {\n",
       "            VEGA_DEBUG[key] = version;\n",
       "            return resolve(paths[lib]);\n",
       "          };\n",
       "          s.onerror = () => reject(`Error loading script: ${paths[lib]}`);\n",
       "          s.src = paths[lib];\n",
       "        });\n",
       "    }\n",
       "\n",
       "    function showError(err) {\n",
       "      outputDiv.innerHTML = `<div class=\"error\" style=\"color:red;\">${err}</div>`;\n",
       "      throw err;\n",
       "    }\n",
       "\n",
       "    function displayChart(vegaEmbed) {\n",
       "      vegaEmbed(outputDiv, spec, embedOpt)\n",
       "        .catch(err => showError(`Javascript Error: ${err.message}<br>This usually means there's a typo in your chart specification. See the javascript console for the full traceback.`));\n",
       "    }\n",
       "\n",
       "    if(typeof define === \"function\" && define.amd) {\n",
       "      requirejs.config({paths});\n",
       "      require([\"vega-embed\"], displayChart, err => showError(`Error loading script: ${err.message}`));\n",
       "    } else {\n",
       "      maybeLoadScript(\"vega\", \"5\")\n",
       "        .then(() => maybeLoadScript(\"vega-lite\", \"5.8.0\"))\n",
       "        .then(() => maybeLoadScript(\"vega-embed\", \"6\"))\n",
       "        .catch(showError)\n",
       "        .then(() => displayChart(vegaEmbed));\n",
       "    }\n",
       "  })({\"config\": {\"font\": \"Circular Std\", \"mark\": {\"line\": {\"interpolate\": \"monotone\"}}, \"view\": {\"stroke\": \"transparent\", \"width\": 400, \"height\": 300}, \"range\": {\"category\": [\"#36B7B4\", \"#E6224B\", \"#F4C245\", \"#0063AF\", \"#00A767\", \"#179FDB\", \"#EB5C2E\"], \"diverging\": [\"#E6224B\", \"#E54753\", \"#C9C9C9\", \"#179FDB\", \"#122B39\"], \"heatmap\": [\"#C9C9C9\", \"#179FDB\", \"#0063AF\", \"#122B39\"], \"ordinal\": [\"#00A767\", \"#36B7B4\", \"#179FDB\", \"#0063AF\", \"#243B5A\"]}, \"axisX\": {\"domainColor\": \"#676A86\", \"domainOpacity\": 0.5, \"grid\": false, \"labelAngle\": 0, \"labelColor\": \"#676A86\", \"labelOpacity\": 0.7, \"orient\": \"bottom\", \"tickColor\": \"#676A86\", \"tickCount\": 10, \"tickOpacity\": 0.5, \"title\": false, \"titleAlign\": \"center\", \"titleAnchor\": \"middle\", \"titleColor\": \"#676A86\", \"titleFontSize\": 12, \"titleOpacity\": 0.8, \"titleY\": -15}, \"axisY\": {\"domainColor\": \"#676A86\", \"domainOpacity\": 0.5, \"gridColor\": \"#676A86\", \"gridDash\": [1, 5], \"gridOpacity\": 0.5, \"labelColor\": \"#676A86\", \"labelOpacity\": 0.7, \"labelPadding\": 5, \"tickColor\": \"#676A86\", \"tickCount\": 8, \"tickOpacity\": 0.5, \"ticks\": false, \"titleAlign\": \"left\", \"titleAngle\": 0, \"titleBaseline\": \"bottom\", \"titleColor\": \"#676A86\", \"titleFontSize\": 12, \"titleOpacity\": 0.8, \"titleX\": 0, \"titleY\": -7}}, \"data\": {\"name\": \"data-c88733641235a204598a847107572e50\"}, \"mark\": {\"type\": \"rect\", \"opacity\": 0.2}, \"encoding\": {\"color\": {\"value\": \"grey\"}, \"x\": {\"field\": \"date\", \"type\": \"temporal\"}, \"x2\": {\"field\": \"date\"}, \"y\": {\"value\": 500}}, \"$schema\": \"https://vega.github.io/schema/vega-lite/v5.8.0.json\", \"datasets\": {\"data-c88733641235a204598a847107572e50\": [{\"date\": \"2023-12-31T00:00:00\"}, {\"date\": \"2024-12-31T00:00:00\"}, {\"date\": \"2025-12-31T00:00:00\"}, {\"date\": \"2026-12-31T00:00:00\"}, {\"date\": \"2027-12-31T00:00:00\"}, {\"date\": \"2028-12-31T00:00:00\"}, {\"date\": \"2029-12-31T00:00:00\"}, {\"date\": \"2030-12-31T00:00:00\"}, {\"date\": \"2031-12-31T00:00:00\"}, {\"date\": \"2032-12-31T00:00:00\"}, {\"date\": \"2033-12-31T00:00:00\"}, {\"date\": \"2034-12-31T00:00:00\"}, {\"date\": \"2035-12-31T00:00:00\"}, {\"date\": \"2036-12-31T00:00:00\"}, {\"date\": \"2037-12-31T00:00:00\"}, {\"date\": \"2038-12-31T00:00:00\"}, {\"date\": \"2039-12-31T00:00:00\"}, {\"date\": \"2040-12-31T00:00:00\"}, {\"date\": \"2041-12-31T00:00:00\"}, {\"date\": \"2042-12-31T00:00:00\"}, {\"date\": \"2043-12-31T00:00:00\"}, {\"date\": \"2044-12-31T00:00:00\"}, {\"date\": \"2045-12-31T00:00:00\"}, {\"date\": \"2046-12-31T00:00:00\"}, {\"date\": \"2047-12-31T00:00:00\"}, {\"date\": \"2048-12-31T00:00:00\"}, {\"date\": \"2049-12-31T00:00:00\"}]}}, {\"mode\": \"vega-lite\"});\n",
       "</script>"
      ],
      "text/plain": [
       "alt.Chart(...)"
      ]
     },
     "execution_count": 36,
     "metadata": {},
     "output_type": "execute_result"
    }
   ],
   "source": [
    "shade"
   ]
  }
 ],
 "metadata": {
  "kernelspec": {
   "display_name": "base",
   "language": "python",
   "name": "python3"
  },
  "language_info": {
   "codemirror_mode": {
    "name": "ipython",
    "version": 3
   },
   "file_extension": ".py",
   "mimetype": "text/x-python",
   "name": "python",
   "nbconvert_exporter": "python",
   "pygments_lexer": "ipython3",
   "version": "3.11.4"
  }
 },
 "nbformat": 4,
 "nbformat_minor": 2
}
