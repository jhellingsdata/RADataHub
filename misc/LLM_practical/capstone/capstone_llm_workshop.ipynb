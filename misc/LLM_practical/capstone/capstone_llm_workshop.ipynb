{
 "cells": [
  {
   "cell_type": "code",
   "execution_count": 100,
   "metadata": {},
   "outputs": [
    {
     "name": "stdout",
     "output_type": "stream",
     "text": [
      "Requirement already satisfied: openai in /Users/finn/anaconda3/lib/python3.11/site-packages (1.43.0)\n",
      "Requirement already satisfied: anyio<5,>=3.5.0 in /Users/finn/anaconda3/lib/python3.11/site-packages (from openai) (3.5.0)\n",
      "Requirement already satisfied: distro<2,>=1.7.0 in /Users/finn/anaconda3/lib/python3.11/site-packages (from openai) (1.8.0)\n",
      "Requirement already satisfied: httpx<1,>=0.23.0 in /Users/finn/anaconda3/lib/python3.11/site-packages (from openai) (0.26.0)\n",
      "Requirement already satisfied: jiter<1,>=0.4.0 in /Users/finn/anaconda3/lib/python3.11/site-packages (from openai) (0.5.0)\n",
      "Requirement already satisfied: pydantic<3,>=1.9.0 in /Users/finn/anaconda3/lib/python3.11/site-packages (from openai) (2.4.2)\n",
      "Requirement already satisfied: sniffio in /Users/finn/anaconda3/lib/python3.11/site-packages (from openai) (1.2.0)\n",
      "Requirement already satisfied: tqdm>4 in /Users/finn/anaconda3/lib/python3.11/site-packages (from openai) (4.66.5)\n",
      "Requirement already satisfied: typing-extensions<5,>=4.11 in /Users/finn/anaconda3/lib/python3.11/site-packages (from openai) (4.12.0)\n",
      "Requirement already satisfied: idna>=2.8 in /Users/finn/anaconda3/lib/python3.11/site-packages (from anyio<5,>=3.5.0->openai) (3.4)\n",
      "Requirement already satisfied: certifi in /Users/finn/anaconda3/lib/python3.11/site-packages (from httpx<1,>=0.23.0->openai) (2023.7.22)\n",
      "Requirement already satisfied: httpcore==1.* in /Users/finn/anaconda3/lib/python3.11/site-packages (from httpx<1,>=0.23.0->openai) (1.0.2)\n",
      "Requirement already satisfied: h11<0.15,>=0.13 in /Users/finn/anaconda3/lib/python3.11/site-packages (from httpcore==1.*->httpx<1,>=0.23.0->openai) (0.14.0)\n",
      "Requirement already satisfied: annotated-types>=0.4.0 in /Users/finn/anaconda3/lib/python3.11/site-packages (from pydantic<3,>=1.9.0->openai) (0.6.0)\n",
      "Requirement already satisfied: pydantic-core==2.10.1 in /Users/finn/anaconda3/lib/python3.11/site-packages (from pydantic<3,>=1.9.0->openai) (2.10.1)\n",
      "Requirement already satisfied: markitdown in /Users/finn/anaconda3/lib/python3.11/site-packages (0.0.1a3)\n",
      "Requirement already satisfied: beautifulsoup4 in /Users/finn/anaconda3/lib/python3.11/site-packages (from markitdown) (4.12.3)\n",
      "Requirement already satisfied: charset-normalizer in /Users/finn/anaconda3/lib/python3.11/site-packages (from markitdown) (3.3.2)\n",
      "Requirement already satisfied: mammoth in /Users/finn/anaconda3/lib/python3.11/site-packages (from markitdown) (1.9.0)\n",
      "Requirement already satisfied: markdownify in /Users/finn/anaconda3/lib/python3.11/site-packages (from markitdown) (0.14.1)\n",
      "Requirement already satisfied: numpy in /Users/finn/anaconda3/lib/python3.11/site-packages (from markitdown) (1.26.4)\n",
      "Requirement already satisfied: openai in /Users/finn/anaconda3/lib/python3.11/site-packages (from markitdown) (1.43.0)\n",
      "Requirement already satisfied: openpyxl in /Users/finn/anaconda3/lib/python3.11/site-packages (from markitdown) (3.0.10)\n",
      "Requirement already satisfied: pandas in /Users/finn/anaconda3/lib/python3.11/site-packages (from markitdown) (2.1.2)\n",
      "Requirement already satisfied: pathvalidate in /Users/finn/anaconda3/lib/python3.11/site-packages (from markitdown) (3.2.3)\n",
      "Requirement already satisfied: pdfminer-six in /Users/finn/anaconda3/lib/python3.11/site-packages (from markitdown) (20240706)\n",
      "Requirement already satisfied: puremagic in /Users/finn/anaconda3/lib/python3.11/site-packages (from markitdown) (1.28)\n",
      "Requirement already satisfied: pydub in /Users/finn/anaconda3/lib/python3.11/site-packages (from markitdown) (0.25.1)\n",
      "Requirement already satisfied: python-pptx in /Users/finn/anaconda3/lib/python3.11/site-packages (from markitdown) (1.0.2)\n",
      "Requirement already satisfied: requests in /Users/finn/anaconda3/lib/python3.11/site-packages (from markitdown) (2.31.0)\n",
      "Requirement already satisfied: speechrecognition in /Users/finn/anaconda3/lib/python3.11/site-packages (from markitdown) (3.14.0)\n",
      "Requirement already satisfied: youtube-transcript-api in /Users/finn/anaconda3/lib/python3.11/site-packages (from markitdown) (0.6.3)\n",
      "Requirement already satisfied: soupsieve>1.2 in /Users/finn/anaconda3/lib/python3.11/site-packages (from beautifulsoup4->markitdown) (2.4)\n",
      "Requirement already satisfied: cobble<0.2,>=0.1.3 in /Users/finn/anaconda3/lib/python3.11/site-packages (from mammoth->markitdown) (0.1.4)\n",
      "Requirement already satisfied: six<2,>=1.15 in /Users/finn/anaconda3/lib/python3.11/site-packages (from markdownify->markitdown) (1.16.0)\n",
      "Requirement already satisfied: anyio<5,>=3.5.0 in /Users/finn/anaconda3/lib/python3.11/site-packages (from openai->markitdown) (3.5.0)\n",
      "Requirement already satisfied: distro<2,>=1.7.0 in /Users/finn/anaconda3/lib/python3.11/site-packages (from openai->markitdown) (1.8.0)\n",
      "Requirement already satisfied: httpx<1,>=0.23.0 in /Users/finn/anaconda3/lib/python3.11/site-packages (from openai->markitdown) (0.26.0)\n",
      "Requirement already satisfied: jiter<1,>=0.4.0 in /Users/finn/anaconda3/lib/python3.11/site-packages (from openai->markitdown) (0.5.0)\n",
      "Requirement already satisfied: pydantic<3,>=1.9.0 in /Users/finn/anaconda3/lib/python3.11/site-packages (from openai->markitdown) (2.4.2)\n",
      "Requirement already satisfied: sniffio in /Users/finn/anaconda3/lib/python3.11/site-packages (from openai->markitdown) (1.2.0)\n",
      "Requirement already satisfied: tqdm>4 in /Users/finn/anaconda3/lib/python3.11/site-packages (from openai->markitdown) (4.66.5)\n",
      "Requirement already satisfied: typing-extensions<5,>=4.11 in /Users/finn/anaconda3/lib/python3.11/site-packages (from openai->markitdown) (4.12.0)\n",
      "Requirement already satisfied: et_xmlfile in /Users/finn/anaconda3/lib/python3.11/site-packages (from openpyxl->markitdown) (1.1.0)\n",
      "Requirement already satisfied: python-dateutil>=2.8.2 in /Users/finn/anaconda3/lib/python3.11/site-packages (from pandas->markitdown) (2.8.2)\n",
      "Requirement already satisfied: pytz>=2020.1 in /Users/finn/anaconda3/lib/python3.11/site-packages (from pandas->markitdown) (2022.7)\n",
      "Requirement already satisfied: tzdata>=2022.1 in /Users/finn/anaconda3/lib/python3.11/site-packages (from pandas->markitdown) (2023.3)\n",
      "Requirement already satisfied: cryptography>=36.0.0 in /Users/finn/anaconda3/lib/python3.11/site-packages (from pdfminer-six->markitdown) (41.0.2)\n",
      "Requirement already satisfied: Pillow>=3.3.2 in /Users/finn/anaconda3/lib/python3.11/site-packages (from python-pptx->markitdown) (10.4.0)\n",
      "Requirement already satisfied: XlsxWriter>=0.5.7 in /Users/finn/anaconda3/lib/python3.11/site-packages (from python-pptx->markitdown) (3.2.0)\n",
      "Requirement already satisfied: lxml>=3.1.0 in /Users/finn/anaconda3/lib/python3.11/site-packages (from python-pptx->markitdown) (5.3.0)\n",
      "Requirement already satisfied: idna<4,>=2.5 in /Users/finn/anaconda3/lib/python3.11/site-packages (from requests->markitdown) (3.4)\n",
      "Requirement already satisfied: urllib3<3,>=1.21.1 in /Users/finn/anaconda3/lib/python3.11/site-packages (from requests->markitdown) (2.2.2)\n",
      "Requirement already satisfied: certifi>=2017.4.17 in /Users/finn/anaconda3/lib/python3.11/site-packages (from requests->markitdown) (2023.7.22)\n",
      "Requirement already satisfied: defusedxml<0.8.0,>=0.7.1 in /Users/finn/anaconda3/lib/python3.11/site-packages (from youtube-transcript-api->markitdown) (0.7.1)\n",
      "Requirement already satisfied: cffi>=1.12 in /Users/finn/anaconda3/lib/python3.11/site-packages (from cryptography>=36.0.0->pdfminer-six->markitdown) (1.15.1)\n",
      "Requirement already satisfied: httpcore==1.* in /Users/finn/anaconda3/lib/python3.11/site-packages (from httpx<1,>=0.23.0->openai->markitdown) (1.0.2)\n",
      "Requirement already satisfied: h11<0.15,>=0.13 in /Users/finn/anaconda3/lib/python3.11/site-packages (from httpcore==1.*->httpx<1,>=0.23.0->openai->markitdown) (0.14.0)\n",
      "Requirement already satisfied: annotated-types>=0.4.0 in /Users/finn/anaconda3/lib/python3.11/site-packages (from pydantic<3,>=1.9.0->openai->markitdown) (0.6.0)\n",
      "Requirement already satisfied: pydantic-core==2.10.1 in /Users/finn/anaconda3/lib/python3.11/site-packages (from pydantic<3,>=1.9.0->openai->markitdown) (2.10.1)\n",
      "Requirement already satisfied: pycparser in /Users/finn/anaconda3/lib/python3.11/site-packages (from cffi>=1.12->cryptography>=36.0.0->pdfminer-six->markitdown) (2.21)\n",
      "Requirement already satisfied: annoy in /Users/finn/anaconda3/lib/python3.11/site-packages (1.17.3)\n"
     ]
    }
   ],
   "source": [
    "!pip install openai\n",
    "!pip install markitdown\n",
    "!pip install annoy"
   ]
  },
  {
   "cell_type": "code",
   "execution_count": 101,
   "metadata": {},
   "outputs": [],
   "source": [
    "from openai import OpenAI # OpenAI API\n",
    "import json\n",
    "import requests # to download some resources\n",
    "import os # file operations\n",
    "import numpy as np # linear algebra\n",
    "import pandas  as pd # data processing\n",
    "from markdown import markdown # to render markdown\n",
    "from IPython.display import Markdown \n",
    "from markitdown import MarkItDown\n",
    "import annoy # Approximate Nearest Neighbors Oh Yeah for fast searching \n",
    "import pickle\n",
    "from annoy import AnnoyIndex\n",
    "import requests"
   ]
  },
  {
   "cell_type": "code",
   "execution_count": 106,
   "metadata": {},
   "outputs": [
    {
     "name": "stdout",
     "output_type": "stream",
     "text": [
      "....."
     ]
    }
   ],
   "source": [
    "# There are some files we'll use today - this just downloads them\n",
    "\n",
    "urls_to_download = [\n",
    "    \"https://raw.githubusercontent.com/jhellingsdata/RADataHub/main/misc/LLM_practical/capstone/documents/consultations/consultation_1.pdf\",\n",
    "    \"https://raw.githubusercontent.com/jhellingsdata/RADataHub/main/misc/LLM_practical/capstone/documents/consultations/consultation_2.pdf\",\n",
    "    \"https://raw.githubusercontent.com/jhellingsdata/RADataHub/main/misc/LLM_practical/capstone/documents/consultations/consultation_3.pdf\",\n",
    "    \"https://raw.githubusercontent.com/jhellingsdata/RADataHub/main/misc/LLM_practical/capstone/documents/consultations/consultation_4.pdf\",\n",
    "    \"https://raw.githubusercontent.com/jhellingsdata/RADataHub/main/misc/LLM_practical/capstone/documents/consultations/council_report.pdf\",\n",
    "]\n",
    "\n",
    "# Download the files\n",
    "for url in urls_to_download:\n",
    "    response = requests.get(url)\n",
    "    filename = url.split(\"/\")[-1].split(\"?\")[0]\n",
    "    with open(filename, \"wb\") as f:\n",
    "        f.write(response.content)\n",
    "        print(f\".\", end=\"\")\n"
   ]
  },
  {
   "cell_type": "markdown",
   "metadata": {},
   "source": [
    "# Interacting with LLMs\n",
    "\n",
    "In this workshop we'll introduce programatic use of LLMs using the OpenAI API. We'll look at prompts, their structure, and how to parse documents.\n",
    "\n",
    "First, we'll need to setup our openai client."
   ]
  },
  {
   "cell_type": "code",
   "execution_count": null,
   "metadata": {},
   "outputs": [
    {
     "name": "stderr",
     "output_type": "stream",
     "text": [
      "/var/folders/07/g_yq2xsn0mvb4xnyvr18jjmw0000gn/T/ipykernel_5245/2201541513.py:2: ResourceWarning: unclosed file <_io.TextIOWrapper name='/Users/finn/Documents/keys/openai' mode='r' encoding='UTF-8'>\n",
      "  api_key=open(\"/Users/finn/Documents/keys/openai\").read()                                     # ... and use an api_key direct from OpenAI\n",
      "ResourceWarning: Enable tracemalloc to get the object allocation traceback\n"
     ]
    }
   ],
   "source": [
    "\n",
    "client = OpenAI(\n",
    "    api_key=                                    # use your API key here\n",
    ")"
   ]
  },
  {
   "cell_type": "markdown",
   "metadata": {},
   "source": [
    "</br></br>\n",
    "\n",
    "We can now interact with the LLM with just a few lines of code."
   ]
  },
  {
   "cell_type": "code",
   "execution_count": null,
   "metadata": {},
   "outputs": [
    {
     "name": "stdout",
     "output_type": "stream",
     "text": [
      "Glass and steel unite,  \n",
      "Ideas spark in bright halls' glow—  \n",
      "Knowledge weaves its thread.\n"
     ]
    }
   ],
   "source": [
    "prompt = \"Write a haiku about the LSE centre building.\"\n",
    "\n",
    "response = client.chat.completions.create(\n",
    "    model=\"gpt-4o-mini\",\n",
    "    messages=[\n",
    "        {\"role\": \"system\", \"content\": \"You are a critically acclaimed poet.\"},\n",
    "        {\"role\": \"user\", \"content\": prompt},\n",
    "    ],\n",
    ")\n",
    "\n",
    "print(response.choices[0].message.content)"
   ]
  },
  {
   "cell_type": "markdown",
   "metadata": {},
   "source": [
    "</br></br>\n",
    "\n",
    "## Structuring prompts\n",
    "\n",
    "Let's take a closer look at the structure of the `messages` object that we're be using to interact with the LLM.\n",
    "\n",
    "It's a list representing the conversation history. Each message is either:\n",
    "\n",
    "</br>\n",
    "\n",
    "- `system`: A structural message that defines the conversation context. It guides AI assistants' behavior, tone, and format. Optional.\n",
    "-  `user`: A message from the user. The last message in the list must always be a user message but the conversation can inlcude multiple.\n",
    "-  `assistant`: A message from the AI assistant. \n",
    "\n",
    "</br>\n",
    "\n",
    "\n",
    "There's no need for the `assistant` messages to be authentic. You can write example messages yourself to guide the conversation or to provide a well completed example."
   ]
  },
  {
   "cell_type": "code",
   "execution_count": 94,
   "metadata": {},
   "outputs": [
    {
     "name": "stdout",
     "output_type": "stream",
     "text": [
      "Great choice! Here’s a simple and delicious recipe for **Vegetarian Pasta Primavera** that serves 4 people. \n",
      "\n",
      "### Vegetarian Pasta Primavera\n",
      "\n",
      "#### Ingredients:\n",
      "\n",
      "- **12 oz (340 g) pasta:** (penne, fettuccine, or your favorite type)\n",
      "- **2 tablespoons olive oil**\n",
      "- **1 medium onion, thinly sliced**\n",
      "- **2 cloves garlic, minced**\n",
      "- **1 bell pepper (red or yellow), sliced**\n",
      "- **1 zucchini, sliced**\n",
      "- **1 cup cherry tomatoes, halved**\n",
      "- **1 cup broccoli florets**\n",
      "- **1 cup spinach leaves**\n",
      "- **1 teaspoon dried oregano**\n",
      "- **1 teaspoon dried basil**\n",
      "- **Salt and pepper to taste**\n",
      "- **1/2 cup grated Parmesan cheese (or vegan cheese for a vegan option)**\n",
      "- **Fresh basil leaves for garnish (optional)**\n",
      "\n",
      "#### Instructions:\n",
      "\n",
      "1. **Cook the Pasta:**\n",
      "   - In a large pot, bring salted water to a boil. Add the pasta and cook according to package instructions until al dente. Reserve about 1 cup of pasta water, then drain the pasta and set aside.\n",
      "\n",
      "2. **Sauté the Vegetables:**\n",
      "   - In a large skillet over medium heat, add the olive oil. Once hot, add the onions and garlic, and sauté for about 2-3 minutes until softened.\n",
      "   - Add the bell pepper, zucchini, and broccoli. Cook for another 5-7 minutes until the vegetables are tender but still crisp.\n",
      "   - Stir in the cherry tomatoes, spinach, dried oregano, and dried basil. Season with salt and pepper, and cook for an additional 2-3 minutes, or until the spinach has wilted.\n",
      "\n",
      "3. **Combine Pasta and Vegetables:**\n",
      "   - Add the drained pasta to the skillet with the veggies. Toss everything together, adding reserved pasta water a little at a time until you reach the desired sauce consistency.\n",
      "\n",
      "4. **Cheese It Up:**\n",
      "   - Sprinkle the grated Parmesan cheese over the pasta and toss to combine. Adjust seasoning if needed.\n",
      "\n",
      "5. **Serve:**\n",
      "   - Divide the pasta primavera into bowls and garnish with fresh basil leaves if desired. Serve immediately and enjoy!\n",
      "\n",
      "### Tips:\n",
      "- Feel free to swap in your favorite seasonal vegetables or add in some chickpeas for extra protein.\n",
      "- You can also add a splash of lemon juice for a bit of brightness.\n",
      "\n",
      "Enjoy your meal!\n"
     ]
    }
   ],
   "source": [
    "\n",
    "response = client.chat.completions.create(\n",
    "    model=\"gpt-4o-mini\",\n",
    "    messages=[\n",
    "        {\"role\": \"system\", \"content\": \"You are a top chef.\"},\n",
    "        {\"role\": \"user\", \"content\": \"Provide me with an easy recipe to feed 4 people.\"},\n",
    "        {\"role\": \"assistant\", \"content\": \"Sure! Do you have any dietary restrictions or a preference for a type of cuisine?\"},\n",
    "        {\"role\": \"user\", \"content\": \"I'm a vegetarian and interested in Italian cuisine.\"},\n",
    "    ],\n",
    ")\n",
    "\n",
    "print(response.choices[0].message.content)"
   ]
  },
  {
   "cell_type": "markdown",
   "metadata": {},
   "source": [
    "### Exercise: Try customising the system instructions\n",
    "Can you enforce a specific tone or style in the conversation by changing the system messages?\n",
    "What happens if you add a system message that contradicts the user message, or specify a tone?"
   ]
  },
  {
   "cell_type": "code",
   "execution_count": 9,
   "metadata": {},
   "outputs": [],
   "source": [
    "\n",
    "response = client.chat.completions.create(\n",
    "    model=\"gpt-4o-mini\",\n",
    "    messages=[\n",
    "        {\"role\": \"system\", \"content\": \"\"\"\n",
    "         \n",
    "\n",
    "\n",
    "\n",
    "\n",
    "         \"\"\"},\n",
    "        {\"role\": \"user\", \"content\": \"Provide me with an easy recipe to feed 4 people.\"},\n",
    "        {\"role\": \"assistant\", \"content\": \"Sure! Do you have any dietary restrictions or a preference for a type of cuisine?\"},\n",
    "        {\"role\": \"user\", \"content\": \"I'm a vegetarian and interested in Italian cuisine.\"},\n",
    "    ],\n",
    ")\n",
    "\n",
    "print(response.choices[0].message.content)"
   ]
  },
  {
   "cell_type": "markdown",
   "metadata": {},
   "source": [
    "</br></br>\n",
    "</br></br>\n",
    "\n",
    "## Parsing sources: Identifying ingredients in a recipe\n",
    "\n",
    "In this example, we'll use an LLM to parse a natural language recipe. We'll extract the ingredients, kitchen appliances required, cooking method and a suggestion for how to make it healthier.\n",
    "\n",
    "</br></br>"
   ]
  },
  {
   "cell_type": "code",
   "execution_count": 95,
   "metadata": {},
   "outputs": [],
   "source": [
    "recipe = \"\"\"\n",
    "# Miso-Butter Roast Chicken With Acorn Squash Panzanella\n",
    "\n",
    "Pat chicken dry with paper towels, season all over with 2 tsp. salt, and tie legs together with kitchen twine. Let sit at room temperature 1 hour.\n",
    "Meanwhile, halve squash and scoop out seeds. Run a vegetable peeler along ridges of squash halves to remove skin. Cut each half into \\u00bd\\\"-thick wedges; arrange on a rimmed baking sheet.\n",
    "Combine sage, rosemary, and 6 Tbsp. melted butter in a large bowl; pour half of mixture over squash on baking sheet. Sprinkle squash with allspice, red pepper flakes, and \\u00bd tsp. salt and season with black pepper; toss to coat.\n",
    "Add bread, apples, oil, and \\u00bc tsp. salt to remaining herb butter in bowl; season with black pepper and toss to combine. Set aside.\n",
    "Place onion and vinegar in a small bowl; season with salt and toss to coat. Let sit, tossing occasionally, until ready to serve.\n",
    "Place a rack in middle and lower third of oven; preheat to 425\\u00b0F. Mix miso and 3 Tbsp. room-temperature butter in a small bowl until smooth. Pat chicken dry with paper towels, then rub or brush all over with miso butter. Place chicken in a large cast-iron skillet and roast on middle rack until an instant-read thermometer inserted into the thickest part of breast registers 155\\u00b0F, 50\\u201360 minutes. (Temperature will climb to 165\\u00b0F while chicken rests.) Let chicken rest in skillet at least 5 minutes, then transfer to a plate; reserve skillet.\n",
    "Meanwhile, roast squash on lower rack until mostly tender, about 25 minutes. Remove from oven and scatter reserved bread mixture over, spreading into as even a layer as you can manage. Return to oven and roast until bread is golden brown and crisp and apples are tender, about 15 minutes. Remove from oven, drain pickled onions, and toss to combine. Transfer to a serving dish.\n",
    "Using your fingers, mash flour and butter in a small bowl to combine.\n",
    "Set reserved skillet with chicken drippings over medium heat. You should have about \\u00bc cup, but a little over or under is all good. (If you have significantly more, drain off and set excess aside.) Add wine and cook, stirring often and scraping up any browned bits with a wooden spoon, until bits are loosened and wine is reduced by about half (you should be able to smell the wine), about 2 minutes. Add butter mixture; cook, stirring often, until a smooth paste forms, about 2 minutes. Add broth and any reserved drippings and cook, stirring constantly, until combined and thickened, 6\\u20138 minutes. Remove from heat and stir in miso. Taste and season with salt and black pepper.\n",
    "Serve chicken with gravy and squash panzanella alongside.\"\"\""
   ]
  },
  {
   "cell_type": "code",
   "execution_count": 96,
   "metadata": {},
   "outputs": [
    {
     "data": {
      "text/markdown": [
       "### Ingredients:\n",
       "- Chicken \n",
       "- Salt (2 tsp + ½ tsp + for pickling onions)\n",
       "- Kitchen twine\n",
       "- Acorn squash\n",
       "- Vegetable peeler\n",
       "- Sage\n",
       "- Rosemary\n",
       "- Butter (6 Tbsp + 3 Tbsp)\n",
       "- Allspice\n",
       "- Red pepper flakes\n",
       "- Black pepper\n",
       "- Bread\n",
       "- Apples\n",
       "- Oil\n",
       "- Onion\n",
       "- Vinegar\n",
       "- Miso\n",
       "- Wine\n",
       "- Broth\n",
       "\n",
       "### Kitchen Appliances Needed:\n",
       "- Oven\n",
       "- Rimmed baking sheet\n",
       "- Large bowl\n",
       "- Small bowl\n",
       "- Cast-iron skillet\n",
       "- Instant-read thermometer\n",
       "- Wooden spoon \n",
       "\n",
       "### Healthier Suggestion:\n",
       "- Substitute butter with olive oil or a lower-fat spread for roasting the chicken and vegetables to reduce saturated fat."
      ],
      "text/plain": [
       "<IPython.core.display.Markdown object>"
      ]
     },
     "execution_count": 96,
     "metadata": {},
     "output_type": "execute_result"
    }
   ],
   "source": [
    "prompt = \"From this recipe, tell me what are the ingredients and kitchen appliances needed? Give me a suggestion of how to make it healthier. Recipe:\"\n",
    "\n",
    "response = client.chat.completions.create(\n",
    "    model=\"gpt-4o-mini\",\n",
    "    messages=[\n",
    "        {\"role\": \"system\", \"content\": \"You are an assistant that summarises recipes. Return brief bullet points for responses.\"},\n",
    "        {\"role\": \"user\", \"content\": prompt + recipe},\n",
    "    ]\n",
    ")\n",
    "\n",
    "Markdown(response.choices[0].message.content)"
   ]
  },
  {
   "cell_type": "markdown",
   "metadata": {},
   "source": [
    "</br></br>\n",
    "\n",
    "## Structuring the prompt and response\n",
    "\n",
    "This is great, but we've given the LLM normal unstructured text and got back only marginally more structured text. We can do better by giving the LLM instructions to return data in a structured format - JSON. This will allow us to easily extract the information we want from the response."
   ]
  },
  {
   "cell_type": "code",
   "execution_count": null,
   "metadata": {},
   "outputs": [
    {
     "name": "stdout",
     "output_type": "stream",
     "text": [
      "{\n",
      "    \"ingredients\": [\n",
      "        \"1 whole chicken\",\n",
      "        \"2 tsp salt\",\n",
      "        \"Kitchen twine\",\n",
      "        \"1 acorn squash\",\n",
      "        \"6 Tbsp melted butter\",\n",
      "        \"Sage\",\n",
      "        \"Rosemary\",\n",
      "        \"Allspice\",\n",
      "        \"Red pepper flakes\",\n",
      "        \"Black pepper\",\n",
      "        \"Bread\",\n",
      "        \"Apples\",\n",
      "        \"Oil\",\n",
      "        \"¼ tsp salt\",\n",
      "        \"Onion\",\n",
      "        \"Vinegar\",\n",
      "        \"Miso\",\n",
      "        \"3 Tbsp room-temperature butter\",\n",
      "        \"¼ cup wine\",\n",
      "        \"Broth\"\n",
      "    ],\n",
      "    \"kitchen_appliances\": [\n",
      "        \"Oven\",\n",
      "        \"Rimmed baking sheet\",\n",
      "        \"Large bowl\",\n",
      "        \"Small bowl\",\n",
      "        \"Large cast-iron skillet\",\n",
      "        \"Instant-read thermometer\",\n",
      "        \"Wooden spoon\"\n",
      "    ],\n",
      "    \"health_suggestion\": \"Substitute butter with olive oil to reduce saturated fat.\"\n",
      "}\n"
     ]
    }
   ],
   "source": [
    "prompt = \"\"\"From this recipe, extract the following details and return them in a structured JSON format:\n",
    "1. A list of ingredients.\n",
    "2. A list of kitchen appliances required.\n",
    "3. A suggestion on how to make the recipe healthier.\n",
    "\n",
    "The response **must** follow this exact JSON structure:\n",
    "{\n",
    "    \"ingredients\": [\"List of ingredients as strings\"],\n",
    "    \"kitchen_appliances\": [\"List of kitchen appliances as strings\"],\n",
    "    \"health_suggestion\": \"A single string suggestion to make the recipe healthier\"\n",
    "}\n",
    "\n",
    "Recipe:\"\"\"\n",
    "\n",
    "response = client.chat.completions.create(\n",
    "    model=\"gpt-4o-mini\",\n",
    "    response_format={\"type\":\"json_object\"},\n",
    "    messages=[\n",
    "        {\"role\": \"system\", \"content\": \"You help structure recipes. Always return JSON responses following the specified format.\"},\n",
    "        {\"role\": \"user\", \"content\": prompt + recipe},\n",
    "    ]\n",
    ")\n",
    "\n",
    "# Print the JSON response\n",
    "print(response.choices[0].message.content)"
   ]
  },
  {
   "cell_type": "markdown",
   "metadata": {},
   "source": [
    "The response we get back is still just text, but we can turn it into a JSON object with a few lines of code."
   ]
  },
  {
   "cell_type": "code",
   "execution_count": 98,
   "metadata": {},
   "outputs": [
    {
     "data": {
      "text/plain": [
       "{'ingredients': ['1 whole chicken',\n",
       "  '2 tsp salt',\n",
       "  'Kitchen twine',\n",
       "  '1 acorn squash',\n",
       "  '6 Tbsp melted butter',\n",
       "  'Sage',\n",
       "  'Rosemary',\n",
       "  'Allspice',\n",
       "  'Red pepper flakes',\n",
       "  'Black pepper',\n",
       "  'Bread',\n",
       "  'Apples',\n",
       "  'Oil',\n",
       "  '¼ tsp salt',\n",
       "  'Onion',\n",
       "  'Vinegar',\n",
       "  'Miso',\n",
       "  '3 Tbsp room-temperature butter',\n",
       "  '¼ cup wine',\n",
       "  'Broth'],\n",
       " 'kitchen_appliances': ['Oven',\n",
       "  'Rimmed baking sheet',\n",
       "  'Large bowl',\n",
       "  'Small bowl',\n",
       "  'Large cast-iron skillet',\n",
       "  'Instant-read thermometer',\n",
       "  'Wooden spoon'],\n",
       " 'health_suggestion': 'Substitute butter with olive oil to reduce saturated fat.'}"
      ]
     },
     "execution_count": 98,
     "metadata": {},
     "output_type": "execute_result"
    }
   ],
   "source": [
    "parsed_recipe = json.loads(response.choices[0].message.content)\n",
    "parsed_recipe"
   ]
  },
  {
   "cell_type": "markdown",
   "metadata": {},
   "source": [
    "### Exercise: Customise the prompt\n",
    "\n",
    "What else can we learn about the recipe? Add more questions to the prompt to extract more information."
   ]
  },
  {
   "cell_type": "code",
   "execution_count": null,
   "metadata": {},
   "outputs": [],
   "source": [
    "\n",
    "\n",
    "\n",
    "\n",
    "\n",
    "\n",
    "\n",
    "\n",
    "\n",
    "\n"
   ]
  },
  {
   "cell_type": "markdown",
   "metadata": {},
   "source": [
    "# Learning from documents\n",
    "In the last example, we used the LLM to extract information from some text we supplied it with. \n",
    "\n",
    "We got it to reply with a structured response, which means we could run this code over and over again to extract information from many recipes.\n",
    "\n",
    "What if we want to learn from a PDF, word doc or a webpage instead?\n",
    "\n",
    "First, we have to get the text from the document. There are various options for this:\n",
    "-  MarkItDown. An open-source tool from Microsoft that can handle a variety of formats.\n",
    "- Format specific parsers, like 'docx' for Word documents\n",
    "- 'PDFMiner' is a Python package that can extract text from PDFs\n",
    "- Web scraping libraries like 'BeautifulSoup' for webpages\n",
    "\n",
    "Today we'll use **MarkItDown**. It's a good all-rounder.\n",
    "\n",
    "## Example: Planning application documents\n",
    "\n",
    "I have a collection of documents about a planning application. There are some consultation responses and a council summary. \n",
    "\n",
    "I want to learn about consultees' opinions on the application and the project details.\n",
    "\n",
    "</br></br>\n",
    "\n",
    "We need to convert our documents into raw text that the LLM can understand. We'll use MarkItDown to get mark down from the PDF.\n",
    "\n",
    "### Loading the documents\n",
    "\n"
   ]
  },
  {
   "cell_type": "code",
   "execution_count": 108,
   "metadata": {},
   "outputs": [
    {
     "data": {
      "text/plain": [
       "'Safety and Airspace Regulation Group\\nFuture Safety\\n\\nStewart Heald\\nSenior Consultant\\nOsprey Consulting Services\\nSuite 10, The Hub,\\nFowler Ave,\\nFarnborough\\nGU14 7JP\\n\\n23 December 2020\\nRef Windfarms/Clashindarroch II\\n\\nDear Stewart,\\n\\nProposed Clashindarroch II, Aberdeenshire, Wind Farm Obstacle Lighting Scheme\\n\\nYour Reference: 71434 002 dated 5 October 2020\\n\\nThank you for the above report in which you discuss proposed lighting schemes for\\n\\n1.\\nthe Clashindarroch II wind farm.\\n\\nThe proposed development is a fourteen-turbine wind farm, near Huntly in\\n\\n2.\\nAberdeenshire. The turbines are proposed have ground to tip heights of 180m, which brings\\nthem into scope of the Air Navigation Order (ANO) Article 222 for aeronautical obstacle\\nlighting.\\n\\nThe Air Navigation Order article 222 requires that all obstructions at a height of 150\\n\\n3.\\nm or more above ground are fitted with medium intensity steady red lights positioned as\\nclose as possible to the top of the obstacle. Taking into account the CAA Polic'"
      ]
     },
     "execution_count": 108,
     "metadata": {},
     "output_type": "execute_result"
    }
   ],
   "source": [
    "consulations_md = []\n",
    "\n",
    "consulation_paths = [\n",
    "    \"consultation_1.pdf\",\n",
    "    \"consultation_2.pdf\",\n",
    "    \"consultation_3.pdf\",\n",
    "    \"consultation_4.pdf\",\n",
    "]\n",
    "\n",
    "for path in consulation_paths:\n",
    "    md = MarkItDown() \n",
    "    converted_doc = md.convert(path) # Convert the PDF to markdown\n",
    "    consulations_md.append(converted_doc.text_content) # Append the markdown text to the list\n",
    "\n",
    "\n",
    "consulations_md[0][:1000] # Let's take a peek at the first 1000 characters of the first consultation"
   ]
  },
  {
   "cell_type": "markdown",
   "metadata": {},
   "source": [
    "</br></br>\n",
    "\n",
    "## Parsing documents: whole document processing\n",
    "\n",
    "We can pass the LLM the entire document and ask it a few questions. This is the simplest approach but we'll run into problems if the document is too long.\n",
    "\n",
    "Thankfully, the docuemnts are short."
   ]
  },
  {
   "cell_type": "code",
   "execution_count": 109,
   "metadata": {},
   "outputs": [
    {
     "name": "stdout",
     "output_type": "stream",
     "text": [
      "{\n",
      "    \"party\": \"Safety and Airspace Regulation Group\",\n",
      "    \"objects\": true,\n",
      "    \"reasons_for_objection\": [\n",
      "        \"Require medium intensity lighting for visible lighting\",\n",
      "        \"Concerns regarding compliance with CAA obstacle lighting requirements\",\n",
      "        \"Need for uniformity with ICAO standards\"\n",
      "    ],\n",
      "    \"suggestions\": [\n",
      "        \"Fit medium intensity steady red lights on nacelles of specific turbines\",\n",
      "        \"Use a second light on the nacelles to act as an alternate in case of failure\",\n",
      "        \"Allow dimming of lights to 10% intensity in good visibility\",\n",
      "        \"Install infra-red lights to MoD specification on perimeter turbines\"\n",
      "    ]\n",
      "}\n"
     ]
    }
   ],
   "source": [
    "\n",
    "document_text = consulations_md[0]\n",
    "\n",
    "response = client.chat.completions.create(\n",
    "    model=\"gpt-4o-mini\",\n",
    "    response_format={\"type\":\"json_object\"},\n",
    "    messages=[\n",
    "        {\"role\": \"system\", \"content\": \"\"\"\n",
    "         \n",
    "         You are an assistant that summarises planning consultations. Be concise and rely only on the text content.\n",
    "\n",
    "         Your task is to identify the party consulted, whether they object to the proposal, their reasons for objection, and any suggestions they made.\n",
    "\n",
    "         You must follow this exact JSON structure:\n",
    "\n",
    "            {\n",
    "                \"party\": the name of the organisation or individual consulted,\n",
    "                \"objects\" : bool, whether the consultee objects to the proposal,\n",
    "                \"reasons_for_objection\": a list of reasons for the objection,\n",
    "                \"suggestions\": a list of suggestions made by the consultee\n",
    "            }\n",
    "\n",
    "         \n",
    "         \"\"\"},\n",
    "        {\"role\": \"user\", \"content\": document_text},\n",
    "    ]\n",
    ")\n",
    "\n",
    "# Print the JSON response\n",
    "print(response.choices[0].message.content)"
   ]
  },
  {
   "cell_type": "markdown",
   "metadata": {},
   "source": [
    "</br></br>\n",
    "\n",
    "Wrapping this in a function, we can easily process multiple documents."
   ]
  },
  {
   "cell_type": "code",
   "execution_count": 110,
   "metadata": {},
   "outputs": [],
   "source": [
    "def parse_consultation(document_path):\n",
    "    \"\"\"\n",
    "    (str) -> str, dict\n",
    "\n",
    "    Extracts useful information about a planning consultation by converting it to markdown and requesting a \n",
    "    summary from the openAI API. Returns the markdown text and a JSON object with the summary.\n",
    "    \"\"\"\n",
    "\n",
    "    # Convert the PDF to markdown\n",
    "    md = MarkItDown()\n",
    "    converted_doc = md.convert(document_path).text_content\n",
    "\n",
    "    # Request a summary from the OpenAI API\n",
    "    response = client.chat.completions.create(\n",
    "        model=\"gpt-4o-mini\",\n",
    "        response_format={\"type\":\"json_object\"},\n",
    "        messages=[\n",
    "            {\"role\": \"system\", \"content\": \"\"\"\n",
    "            \n",
    "            You are an assistant that summarises planning consultations. Be concise and rely only on the text content.\n",
    "\n",
    "            Your task is to identify the party consulted, whether they object to the proposal, their reasons for objection, and any suggestions they made.\n",
    "\n",
    "            You must follow this exact JSON structure:\n",
    "\n",
    "                {\n",
    "                    \"party\": the name of the organisation or individual consulted,\n",
    "                    \"objects\" : bool, whether the consultee objects to the proposal,\n",
    "                    \"reasons_for_objection\": a list of reasons for the objection,\n",
    "                    \"suggestions\": a list of suggestions made by the consultee\n",
    "                }\n",
    "\n",
    "            \n",
    "            \"\"\"},\n",
    "            {\"role\": \"user\", \"content\": converted_doc},\n",
    "        ]\n",
    "    )\n",
    "\n",
    "    return converted_doc, json.loads(response.choices[0].message.content) "
   ]
  },
  {
   "cell_type": "markdown",
   "metadata": {},
   "source": [
    "Let's try our function out:"
   ]
  },
  {
   "cell_type": "code",
   "execution_count": 111,
   "metadata": {},
   "outputs": [
    {
     "name": "stdout",
     "output_type": "stream",
     "text": [
      "Processing consultation 1\n",
      "Processing consultation 2\n",
      "Processing consultation 3\n",
      "Processing consultation 4\n"
     ]
    }
   ],
   "source": [
    "os.makedirs(\"pased_consultations\", exist_ok=True) # You should always save received data to avoid re-running the same code\n",
    "                                                  # LLM requests cost money - so avoid redundancy\n",
    "\n",
    "parsed_consultations = []\n",
    "\n",
    "for i, path in enumerate(consulation_paths):\n",
    "    print(f\"Processing consultation {i+1}\")\n",
    "    md, summary = parse_consultation(path)\n",
    "    with open(f\"pased_consultations/consultation_{i+1}.md\", \"w\") as f:\n",
    "        json.dump(summary, f)\n",
    "    parsed_consultations.append(summary)"
   ]
  },
  {
   "cell_type": "markdown",
   "metadata": {},
   "source": [
    "## Parsing documents: chunking\n",
    "\n",
    "Our consultations are short - just a couple of pages each - so we can process them in one go. \n",
    "\n",
    "</br></br>\n",
    "\n",
    "Longer documents are more difficult:\n",
    "- Cost. We are charged per token of input and output. Giving the LLM a long document can be expensive.\n",
    "- Complexity. The LLM can struggle with long documents. It can lose track of the context and give irrelevant answers.\n",
    "- Context windows. Models have a limited context window. These are typically quite long (e.g. GPT 4o's is 128K tokens/~100K words)\n",
    "\n",
    "A solution is *chunking*. We can split the document into smaller sections then choose the most relevant ones to process.\n",
    "\n",
    "First, let's load the document as before:"
   ]
  },
  {
   "cell_type": "code",
   "execution_count": 113,
   "metadata": {},
   "outputs": [
    {
     "data": {
      "text/plain": [
       "'SCOTTISH BORDERS COUNCIL\\n\\nPLANNING AND BUILDING STANDARDS COMMITTEE\\n\\n6 MARCH 2017\\n\\nAPPLICATION FOR CONSENT UNDER SECTION 36 OF THE ELECTRICITY ACT\\n1989\\n\\nITEM:\\n\\nREFERENCE NUMBER: 14/00530/S36\\n\\nOFFICER:\\nWARD:\\nPROPOSAL:\\n\\nSITE:\\n\\nAPPLICANT:\\nAGENT:\\n\\nJulie Hayward\\nHawick and Denholm\\nErection  of  15  turbines  132  high  to  tip,  access  track,\\ncompound,  permanent anemometer mast and 2 no borrow\\npits\\nLand North, South,  East  and West of Birneyknowe Cottage\\nHawick\\nBanks Renewables\\nNone\\n\\n1.0\\n\\n1.1\\n\\nPURPOSE OF REPORT\\n\\nTo  advise  the  Scottish  Government  of  the  response  from  Scottish  Borders\\nCouncil  on  the  application  by  Banks  Renewables  to  construct  a  15  turbine\\nwind  farm  on  land  north,  south,    east    and  west  of  Birneyknowe  Cottage\\nHawick.\\n\\n2.0\\n\\nPROCEDURE\\n\\n2.1\\n\\n2.2\\n\\n2.3\\n\\n3.0\\n\\n3.1\\n\\nScottish  Borders  Council  (SBC)  is  a  consultee  as  a  ‘relevant  planning\\nauthority’.\\n\\nThe  views  of  SBC  will  be  provided  to  the  Energy  Consents  Unit  at  the\\nScottish  Government  (ECU),  the  body  responsible  for  processing  onshore\\nSection 36 planning applications. In this instance, the application is required\\nto be determined via Section 36 of the Electricity Act 1989 because the wind\\nfarm  would  have  an  output  of  more  than  50MW.    The  ECU  advertises  the\\napplication  and  carries  out  consultation  with  other  interested  bodies.    There\\nis,  therefore,  no  need  for  SBC  to  undertake  a  tandem  process,  although\\nconsultation has taken place with relevant specialists within the Council.\\n\\nIt should be noted that if permission is granted, the local authority (rather than\\nthe  ECU)  would  become  the  relevant  enforcement  authority  responsible  for\\nmonitoring  compliance  with  the  terms  of  an  approval  and  any  conditions\\nimposed thereon.\\n\\nSITE DESCRIPTION\\n\\nThe site is situated 4km to the south east of Hawick and 2km to the west of\\nBonchester Bridge and is 659 hectares in size.\\n\\nPlanning and Building Standards Committee\\n\\n1\\n\\n\\x0c3.2\\n\\n3.3\\n\\n3.4\\n\\nThe  site  is  bounded  to  the  north  east  by  the  A6088  Hawick  to  Bonchester\\nBridge  road  and  to  the  south  east  by  the  minor  public  road  between  the\\nA6088  and  the  B6399  Hawick  to  Newcastleton  road.    The  site  comprises  of\\nland  predominantly  used  for  rough  grazing  and  there  are  small  conifer\\nplantations.    There  are  several  watercourses  within  the  site.    Topography\\nwithin  the  site  varies  from  a  high  point  of  293m  AOD  at  Hoggfield  Hill  and\\n220m AOD in the northern section of the site.  Gradients are gentle with the\\nexception of the north western side of Hoggfield Hill.\\n\\nThere  are  two  residential  properties  at  Birneyknowe,  within  the  site.\\nHawthornside is situated to the east of the site and comprises of a number of\\nhouses,  a  falcon  breeding  business  and  a  farm.    Earlside  is  situated  to  the\\nsouth west and comprises of a farmhouse and four houses.  The surrounding\\narea  is  characterised  by  scattered  houses,  farm  steadings  and  small\\nsettlements.  Hawick is situated 3.5km to the north west of the site boundary,\\nBonchester  Bridge  is  1.7km  to  the  east  and  Jedburgh  is  12km  to  the  north\\neast.\\n\\nThe Borders Abbeys Way, a long distance footpath, is 5km north west of the\\nsite.    There  are  no  claimed  Rights  of Way  or  Core  Paths  within  the  site  but\\nthere is one permissive/customary path from Birneyknowe north to the A6088.\\nThere are a number of rights of way and promoted paths surrounding the site,\\nin  particular  the  Hawick  Circular  Riding  Route  (right  of  way  BR120)\\napproximately  1km  away.      The  Borders  Loop  local  cycle  route  follows  the\\nminor road along the southern boundary of the site.  Several Hawick Common\\nRiding ride-outs cross the site.\\n\\n3.5\\n\\nThe  site  is  situated  adjacent  to  the  south  western  boundary  of  the  Teviot\\nValleys  Special  Landscape  Area,  designated  within  policy  EP5  of  the  Local\\nDevelopment  Plan  2016  and  shown  within  the  Council’s  Supplementary\\nPlanning Guidance on Local Landscape Designations 2012.\\n\\n3.6\\n\\nIn  terms  of  landscape  character,  the  site  lies  at  the  intersection  of  three\\nLandscape Character Areas (LCA):\\n\\n•  10M: Grassland with Rock Outcrops: Midgard, an Upland Fringe type;\\n•  11RL: Grassland with Hills: Rubers Law, an Upland Fringe type;\\n•  4CHG:  Southern  Uplands  Type  with  Scattered  Forest:  Caldcleuch  Head\\n\\nGroup, an Upland type.\\n\\nThe majority of the turbines are proposed within 11 RL.\\n\\n3.7\\n\\nThe  site  is  some  distance  from  the  River  Teviot,  which  is  a  tributary  of  the\\nRiver Tweed Special Area of Conservation (SAC).  Buckstruther Moss Site of\\nSpecial  Scientific  Interest  (SSSI)  is  located  within  the  site,  adjacent  to  the\\nnorth west boundary.   Adderstonlee Moss SSSI is located outwith the site, to\\nthe west.\\n\\n4.0\\n\\nPROPOSED DEVELOPMENT\\n\\n4.1\\n\\nThe development would comprise of:\\n\\n•  15  turbines  and  foundations,  with  a  maximum  tip  height  of  132m  and  a\\nmaximum  installed  capacity  of  4  MW  (with  a  total  installed  capacity  of\\n60MW);\\n\\nPlanning and Building Standards Committee\\n\\n2\\n\\n\\x0c•  Crane hardstanding areas;\\n\\n•  A new vehicular access from the A6088 and 9km of access tracks within\\n\\nthe site;\\n\\n•  Underground electrical cabling;\\n\\n•  A wind monitoring (anemometer) mast 80m in height;\\n\\n•  A site control building (14m by 7.6m and 3.5m in height to house the wind\\nfarm  switch  gear,  protection  equipment,  metering  and  control  equipment\\nand an electricity sub-station within a compound (5,600 square metres in\\nsize);\\n\\n•  A  temporary  construction  compound  (50m  by  100m)  for  the  construction\\nperiod.  This  would  include  portacabin-type  structures  to  be  used  for\\noffices  and  welfare  facilities,  toilet  facilities  with  a  packaged  treatment\\nsystem,  containerised  storage  areas,  parking  for  cars  and  construction\\nvehicles and a bunded area for the storage of fuels;\\n\\n•  Nine water course crossings;\\n\\n•  Two borrow pits to provide stone for the development, to be reinstated\\n\\npost-construction.\\n\\n4.2\\n\\n4.3\\n\\n4.4\\n\\n5.0\\n\\nThe  development  would  have  an  18  month  construction  period.    The  wind\\nfarm would have a 25 year operational life and a 12 month decommissioning\\nperiod.\\n\\nThe turbines would be three bladed, 80m to hub, with a 104m rotor diameter\\nand  52m  long  blades.    The  precise  model  would  be  selected  upon  consent\\nbeing granted.   They  would  have  a  semi-matt  light grey finish  and  would  be\\ncomputer  controlled  to  face  the  optimum  wind  direction.    The  proposal\\nincludes  a  micro-siting  allowance  of  50m  for  the  turbines  and  associated\\ninfrastructure  post  consent  following  detailed  ground  investigation  and\\nclearance.    The  wind  farm  would  be  connected  to  the  grid  at  the  Hawick\\nsubstation via overhead and/or underground cabling.\\n\\nThere is one 80m meteorological mast on the site but this would be replaced\\nwith a permanent 80m high slim-line lattice mast to monitor the turbines.\\n\\nNEIGHBOURING  SITES/SCHEMES  RELEVANT  TO  CONSIDERATION  OF\\nTHE CURRANT PROPOSAL:\\n\\n5.1\\n\\nOperational:\\n\\nLanghope Rig is situated 15km to the north west of the site and consists of\\n10 turbines 121.2m in height.\\n\\n5.2\\n\\nConsented\\n\\nWindy Edge is approximately 11.6km to the south west of the proposal and\\nwould consist of 9 turbines, 3 at 110m in height and 6 at 125m.\\n\\nPlanning and Building Standards Committee\\n\\n3\\n\\n\\x0c5.3\\n\\nIn the Planning System\\n\\nHighlee  Hill  is  a  planning  application  for  13  turbines,  11  at  176m  in  height\\nand 2 at 150m situated 7.5km to the south east of the Birneyknowe site.  This\\nwas lodged in October 2016 and remains under consideration.\\n\\nPines  Burn  is  a  planning  application  for  13  turbines,  7  at  158.5m  in  height\\nand 5 at 130m situated 3.4km to the south of the site.  This was submitted in\\nJanuary 2017 and is under consideration.\\n\\n5.4\\n\\nOther Schemes\\n\\nThe  only  other  relevant  wind  energy  developments  within  35km  of  this  site\\nare:\\n\\nLong Park: The original scheme for 19 turbines at height of 100 and 110m is\\noperational  and  is  situated  approximately  30km  to  the  north  of  the\\nBirneyknowe  site.    A  Section  36  application  to  extend  the  wind  farm  with  a\\nfurther  7  turbines  of  100m  to  110m  is  with  the  ECU  following  the  Council’s\\ndecision to object to the proposal in March 2016.\\n\\nWauchope and Newcastleton Forest: A scoping opinion was issued by the\\nECU in  March 2016 based on 90 turbines with a tip height of 132m at three\\nseparate sites (Wauchope East, Wauchope West and Newcastleton Forest).\\n\\n6.0\\n\\n6.1\\n\\n6.2\\n\\n7.0\\n\\n7.1\\n\\nPLANNING HISTORY\\n\\nThere  is  no  direct  planning  history  for  the  site  apart  from  a  three  year\\ntemporary  planning  permission  for  the  erection  of  an  80m  high  wind\\nmonitoring mast granted in 2012 (12/00338/FUL) and renewed  in April 2015\\n(15/00475/FUL).\\n\\nThe  Council  was  consulted  by  the  ECU  on  a  request for  a  Scoping Opinion\\nsubmitted by the applicant in April 2012.  This was for a 20 turbine wind farm\\nof  between  123m  to  130m  in  height.    The  Council  responded  in  May  2012.\\nThe design has evolved to the 15 turbines now proposed following feedback\\nfrom consultees and a full technical appraisal.\\n\\nAPPLICANTS SUPPORTING INFORMATION\\n\\nThe Section 36 planning application is an EIA Development and is supported\\nby  a  full  Environmental  Statement  (ES)  resulting  from  an  Environmental\\nImpact  Assessment,  which  comprises  the  following  documents,  dated  April\\n2014:\\n\\n•  Volume 1:\\n\\nNon-Technical Summary\\nPlanning Statement\\nDesign Statement\\nPre-application Consultation Report\\nEnvironmental Statement\\n\\nPlanning and Building Standards Committee\\n\\n4\\n\\n\\x0c•  Volume 2:\\n\\nVisualisations\\nViewpoints\\nCumulative Wireframes\\n\\n7.2\\n\\nThe  applicant  submitted  a  response  to  SEPA’s  consultation  on  22nd\\nSeptember  2014  and  a  document  entitled  “Connect2Renewables  Scottish\\nBorders Charter” in August 2015.\\n\\n7.3\\n\\nFurther Environmental Information (FEI) dated August 2016 was submitted by\\nthe applicant in October 2016 and comprises of:\\n\\n•  Volume 1: Planning Statement and Further Environmental Information\\n•  Volume 2: Visualisations\\n•  Volume 3: Technical Appendices\\n\\n7.4\\n\\ninformation  has  been  available\\n\\nThis\\nfor  viewing  both  within  Council\\nHeadquarters  and  Hawick  Library  and  on  the  Council’s  Public  Access\\nSystem.  Re-advertisement and consultations were carried out upon receipt of\\nthis additional information.\\n\\n7.5\\n\\nFurther information was submitted on 7th February 2017:\\n\\n•  Market Research: Final Report 11 January 2017\\n\\n7.6\\n\\nThe  applicant  has  recently  submitted  comments  on\\nthe  consultation\\nresponses in relation to landscape and visual impacts, policy, natural heritage\\nand  socio-economic  considerations  (15th  February  2017)  and  the  peat\\nassessment (13th February 2017).  These documents are available to view on\\nPublic Access.\\n\\n8.0\\n\\nREPRESENTATION SUMMARY\\n\\n8.1\\n\\n8.2\\n\\nThird  party  representations  are  submitted  to  the  ECU  and  it  is  for  that\\nauthority  to  take  the  representations  into  consideration  when  assessing  the\\nproposed development on behalf of the Scottish Ministers.\\n\\nAt the time of writing this report the ECU has advised that a total of 417 third\\npart  representations  in  objection  and  200  in  support  have  been  received  by\\nthe ECU.  This does not include submission by Community Councils.\\n\\n9.0\\n\\nDEVELOPMENT PLAN POLICIES\\n\\n9.1\\n\\nLocal Development Plan 2016 (LDP):\\n\\nPMD1: Sustainability\\nPMD2: Quality Standards\\nED9: Renewable Energy Development\\nHD3: Protection of Residential Amenity\\nEP1: International Nature Conservation Sites and Protected Species\\nEP2: National Nature Conservation Sites and Protected Species\\nEP3: Local Biodiversity\\nEP5: Special Landscape Areas\\n\\nPlanning and Building Standards Committee\\n\\n5\\n\\n\\x0cEP7: Listed Buildings\\nEP8: Archaeology\\nEP9: Conservation Areas\\nEP10: Gardens and Designed Landscapes\\nEP13: Trees Woodlands and Hedgerows\\nEP15: Development Affecting the Water Environment\\nIS2: Developer Contributions\\nIS5: Protection of Access Routes\\nIS8: Flooding\\nIS9: Waste Water Treatment Standards and Sustainable Urban Drainage\\n\\n9.2\\n\\nSESplan Strategic Development Plan June 2013:\\n\\nPolicy 1B: The Spatial Strategy: Development Principles\\nPolicy 10: Sustainable Energy Technologies\\n\\n10.0  OTHER PLANNING CONSIDERATIONS:\\n\\n10.1  Adopted  SBC  Supplementary  Planning  Guidance  (SPG)  and  other\\n\\ndocuments:\\n\\n•  Renewable Energy 2007\\n•  Wind Energy 2011\\n•  Biodiversity 2005\\n•  Local Landscape Designations 2012\\n•  Developer Contributions 2011\\n•  Visibility Mapping for Windfarm Development 2003\\n•\\n\\nIronside  Farrar  Study  on  Wind  Energy  Consultancy  Landscape  Capacity\\nand Cumulative Impact 2013\\n\\n•  Borders Landscape Assessment 1998 Ash Consulting Group\\n\\n10.2  Scottish Government Policy and Guidance:\\n\\n•  National Planning Framework for Scotland (3) June 2014\\n•  Scottish Planning Policy (SPP) June 2014\\n\\n10.3  Scottish Government On-line Advice:\\n\\n•  Circular  3/2011  Environmental\\n\\nImpact  Assessment\\n\\n(Scotland)\\n\\nRegulations\\n\\n•  PAN 60 Planning for Natural Heritage\\n•  PAN 51 Planning, Environmental Protection and Regulation\\n•  PAN 1/2011 Planning and Noise\\n•  PAN 2/2011 Planning and Archaeology\\n•  PAN 1/2013 Environmental Impact Assessment\\n•  Onshore Wind Turbines 2014\\n•  Scottish  Government  Good  Practice  Principles  for  Shared  Ownership  of\\n\\nOnshore Renewable Energy Development 2016\\n\\n10.4  Historic Environment Scotland Publications:\\n\\n•  Historic Environment Scotland Policy Statement June 2016\\n\\nPlanning and Building Standards Committee\\n\\n6\\n\\n\\x0c10.5  SNH Publications:\\n\\n•  Siting and Designing Windfarms in the Landscape 2014\\n•  Visual Representation of Wind Farms 2014\\n•  Assessing the Cumulative Impact of Onshore Wind Energy Developments\\n\\n2012\\n\\n•  Spatial  Planning\\n\\nfor  Onshore  Wind  Turbines  –  Natural  Heritage\\n\\nConsiderations 2015\\n\\n 10.6  Other Publications:\\n\\nETSU-R-97: The Assessment and Rating of Noise from Wind Farms\\n\\n11.0  CONSULTATION RESPONSES\\n\\n11.1  The  following  consultation  responses  have  been  received  from  specialist\\nofficers  at  SBC  in  respect  of  the  application  as  originally  submitted  and  the\\nFEI, where responses differ from that originally received.  The responses are\\navailable to view in full on the Council’s Public Access System.\\n\\n11.2  Landscape  Architect:  Carried  out  a  detailed  assessment  of  the  application\\nin  relation  to  policy  D4  of  the  Scottish  Borders  Consolidated  Local  Plan\\nAdopted  2011,  the  adopted  policy  at  that  time,  and  cannot  support  the\\napplication, observing that:\\n\\n•  The  landscape  does  not  provide  the  expansive,  unenclosed  landscape\\n\\nscale preferred by policy D4.\\n\\n•  The pattern of visibility is complex, reflecting the landform but the level of\\n\\ncontainment can be summarised as ‘partial’.\\n\\n•  The  proximity  of  Rubers  Law  and  the  Teviot  Valleys  Special  Landscape\\nArea  means  that  this  application  would  be  likely  to  intrude  on  views  and\\naffect the character of those areas.\\n\\n•  The  proposed  development  would  affect\\nparticularly on approach from the north.\\n\\nthe  setting  of  Hawick,\\n\\n•  There  are  a  variety  of  sensitive  receptors  within  this  ‘upland  fringe’\\nlandscape  where  settlement  patterns  are  denser  than  would  be  found  in\\nthe  large  scale  upland  locations.    A  large  number  of  sensitive  receptors\\nwould be affected in varying degree.\\n\\n•  The  significance  of  Rubers  Law  as  a  landmark  feature  would  be\\ndiminished.  When viewed from the north, the backdrop to Hawick would\\nbecome wind farm dominated and this constitutes an effect on landscape\\ncharacter.\\n\\n•  Coincident  cumulative  impact  is  not  a  determining  issue  but  sequential\\ncumulative  impact  is.    This  has  a  wider  implication  and  considers  the\\ndegree  to  which  wind  farms  may  be  encountered  on  journeys  across  an\\narea.    By  starting  to  fill  in  an  area  that  is  currently  undeveloped,\\nBirneyknowe  would  make  a  more  significant  contribution  to  sequential\\nimpact.\\n\\nPlanning and Building Standards Committee\\n\\n7\\n\\n\\x0c Re-consultation  on  FEI:  The  Further  Environmental  Information  (FEI)\\nincludes further landscape analysis including additional viewpoint information\\n(Viewpoint  33:  A7  and  Viewpoint  34:  Appletreehall)  and  assessment  of\\nadditional  wind  farm  proposals  which  may  affect  the  cumulative  impacts\\nassociated with Birneyknowe.  I have the following observations:\\n\\n•  Viewpoint  33:  is  taken  from  a  point  where  the  development  would  first\\nbecome visible as a backdrop to Hawick.  Whilst it is acknowledged that\\nvarious  effects  from  individual  locations  vary  in  terms  of  backdrop  and\\nscreening, the overall appearance of the proposal when seen from the A7\\non  the  southbound  approach  to  Hawick  is  that  it  would  compete  with\\nRubers  Law  in  appreciating  the  setting  of  the  town.    The  view  would\\nchange  as  an  observer  moved  between  Viewpoint  33  and  Viewpoint  13\\nfurther down the hill.\\n\\n•  Viewpoint  34  indicates  that  there  would  be  no  significant  impacts  on\\nAppletreehall  due  to  the  screening  effects  of  intervening  landform  and\\nvegetation.    However,  I  note  that  selected  viewpoint  position  is  at  the\\ncross roads at the foot of the village.  It lies in a dip and so screening can\\nbe expected at this location and this does not mean that other parts of the\\nvillage  higher  up  are  similarly  screened.    There  may  be  some  greater\\neffects, although still fairly limited, higher up in the village.\\n\\n•  The FEI contains an additional description of effects on viewpoints north\\nof  Hawick.    This  does  not  change  my  assessment  of  the  application,\\nwhich  was  largely  related  to  the  apparent  misfit  between  the  size  and\\nheight of the proposed development and the scale and prominence of the\\nreceiving  landscape  and,  in  particular,  the  potential  competition  with  the\\nsensitive skyline feature of Rubers Law,  which stands close by the site.\\n\\n•  The  FEI  includes  a  fresh  assessment  to  address  changes  in  the\\ncumulative  baseline  with  cumulative  ZTVs  of  the  applications  at  Windy\\nEdge (Figure 2.7), Highlee Hill (Figure 2.8), Wauchope and Newcastleton\\n(Figure 2.9) and Pines Burn (Figure 2.10).   I am satisfied that there would\\nbe  very  little  coincident  cumulative  impact  with  Windy  Edge.    However,\\nfigures  2.8,  2.9  and  2.10  indicate  much  larger  areas  of  overlap  of  ZTV\\nsuggesting  that  cumulative  effects  will  occur  with  these  sites.    This  is\\nborne  out  by  Viewpoints  13a  and  22a,  which  show  considerable\\noverlapping  of  the  different  schemes.    A  variety  of sequential  cumulative\\neffects  can  also  be  anticipated  with  all  of  these  schemes  for  people\\ntravelling through the area.  Should they all be approved the character of\\nthe  landscape  would  be  radically  altered  all  the  way  down  to  the  Border\\nridge.\\n\\n•  A  further  change  since  my  previous  consultation  reply  has  been  the\\ninclusion of the Landscape Capacity and Cumulative Impact Study (2013),\\nby Ironside Farrar, as a material consideration in the assessment of wind\\nenergy  applications.    The  two  affected  areas  appear  to  be  Landscape\\nCharacter  Areas  10:  Grassland  with  Rock  Outcrops:  ii)  Midgard  and  11:\\nGrassland with Hills: ii) Rubers Law.  The study offers no capacity for wind\\nturbines of ‘Very Large’ (100m+) category, such as Birneyknowe, in either\\nof these areas.\\n\\nPlanning and Building Standards Committee\\n\\n8\\n\\n\\x0c•\\n\\nI  conclude  that  the  FEI  does  not  provide  any  reason  to  change  my\\nprevious consultation response.  Indeed, the additional cumulative effects\\nidentified and reference to the landscape capacity study only reinforce my\\nprevious  conclusion  that  this  is  not  a  suitable  site  for  turbines  of  132m\\nheight.    I  am  content  to  remain  with  my  original  consultation  reply  and\\nrecommend that the application is refused.\\n\\n11.3  Archaeology  Officer:  Has  advised  on  the  direct  and  indirect  impacts  and\\n\\nobjects to the proposal:\\n\\n•  The proposal has the potential to directly impact unknown archaeological\\nresources  within  the  wind  farm  boundary  and  indirect  impacts  to  the\\nsettings  of  regionally  significant  assets  within  the  scheme  and  nationally\\nsignificant Scheduled Monuments outside the wind farm boundary.  There\\nare also impacts to historic landscapes in the area.\\n\\n•  Whilst  the  wind  farm  design  has  helpfully  sought  to  mitigate  direct\\nimpacts,  the  introduction  of  a  wind  farm  in  this  highly  complex  historic\\nlandscape will significantly affect the ability to experience, appreciate and\\nunderstand\\nthe  setting  of  several  designated  and  undesignated\\nmonuments that add to the sense of deep time and place in the area.\\n\\n•  Most  important  and  significantly  impacted  is  the  setting  of  the  ancient\\ncitadel  on  the  summit  of  Rubers  Law,  though  there  are  other  major\\nsignificant  impacts  within  10km  of  the  development.   While  some  limited\\nmitigation  is  possible,  as  proposed  by  Historic  Scotland,  this  will  not\\novercome  the  major  significant  impacts  of  the  scheme  on  the  historic\\nenvironment.\\n\\n•  This scheme would result in a number of highly  complex and interlinking\\nimpacts  to  the  historic  landscape  around  Rubers  Law  which  cannot  be\\nmitigated through design.  This is due to the presence of a large number\\nof prehistoric and early  medieval archaeological sites in an upland fringe\\narea where destruction through land-use has been limited and interlinking\\nsettings are maintained.\\n\\n•  The major significant impacts of the scheme on the historic landscape and\\nsettings of designated and non-designated sites and monuments within it\\nare not clearly outweighed by the development.\\n\\nRe-consultation  on  FEI:  I  have  reviewed  the  FEI,  in  particular  the\\nassessment of potential impacts to the settings of Penchrise Pen and Rubers\\nLaw  (shown  in  FEI  Viewpoint  19)  and  Historic  Environment  Scotland’s\\ncomments.    I  can  confirm  that  my  comments  on  the  original  submission\\nremain valid.  The FEI has not altered my position with respect to significant\\nimpacts to the settings of forts on Penchrise Pen and Rubers Law.  I maintain\\nmy objection to this scheme.\\n\\n11.4  Forward  Planning:    This  consultee  identifies  a  range  of  relevant  policy\\n\\nguidance, constraints and material considerations and concludes:\\n\\n•  There would be a significant adverse impact on the landscape as a result\\nof  this  proposed  development.  The  supporting  information  shows  that\\nthere  would  also  be  an  adverse  visual  impact  from  the  local  iconic\\n\\nPlanning and Building Standards Committee\\n\\n9\\n\\n\\x0cviewpoints, such as Rubers Law, as well as other hills and archaeological\\nsites in the locality.\\n\\n•  The site is located within a landscape that is characterised by hill forts and\\nScheduled  Monuments.    These  hill  forts  are  appreciated  when  there  is\\nconnecting visibility with other hill forts.  These views will be interrupted by\\nthe proposed wind farm to the detriment of the landscape and the setting\\nof these monuments.\\n\\n•  There  is  the  potential  for  adverse  cumulative  impact  issues  on  the\\nlandscape.    The  south  west  corner  of  the  Scottish  Borders  is  largely\\nuntouched by wind farm development and the proliferation of these sites\\nwill have an adverse impact on the landscape character.\\n\\n•  There is no capacity for large scale turbines in this Landscape Character\\n\\nArea.\\n\\n•  The  applicant  has  not  demonstrated  how  the  proposed  wind  farm  could\\nbe  accommodated  in  the  landscape  without  an  unacceptable  adverse\\nimpact on the landscape, iconic viewpoints and archaeological sites.\\n\\nRe-consultation on FEI:\\n\\n•  An updated policy position is provided following the adoption of the Local\\n\\nDevelopment Plan.\\n\\n•  An  updated  Ironside  Farrar  Landscape  Capacity  and  Cumulative  Impact\\nstudy  2016  has  been  produced  as  part  of  the  Council’s  new  draft\\nRenewable  Energy  Supplementary  Guidance.    This  updated  study  does\\nnot  alter  the  position  regarding  the  proposal  and  re-enforces  the\\nconclusions  of  the  2013  study,  although  the  Supplementary  Guidance  is\\ncurrently out for public consultation and carries little weight.\\n\\n•  The  Council  continues  to  support  wind  energy  proposals  in  appropriate\\nlocations but this proposal raises considerable policy issues in terms of its\\nprominence within the landscape and from surrounding iconic viewpoints\\nand scheduled monuments.\\n\\n11.5  Environmental  Health:    In  terms  of  contaminated  land,  the  proposal  is  for\\nthe redevelopment of land which previously housed a tile works and apparent\\nagricultural  buildings  and  a  condition  is  required  that  development  is  not\\npermitted  to  start  until  a  site  investigation  and  risk  assessment  has  been\\ncarried  out  and  any  requirement  arising  from  this  assessment  for  a\\nremediation strategy and verification plan agreed with the Planning Authority\\nprior to development commencing.\\n\\nIn  terms  of  noise,  a  background  noise  survey  was  carried  out  but  further\\ninformation  was  requested  on  the  issue  of  tone  and  on  whether  the  3\\nfinancially\\nthe\\ninvolved  properties  will  receive  a  direct  benefit\\ndevelopment.    This  information  has  been  satisfactorily  submitted.    The\\napplicant  has  outlined  noise  mitigation  measures  for  construction  noise  and\\nthese  methods  should  be  adopted  as  part  of  the  Construction  Method\\nStatement.  Conditions should control construction and operational noise.\\n\\nfrom\\n\\nPlanning and Building Standards Committee\\n\\n10\\n\\n\\x0c11.6  Ecology Officer: A summary of the most pertinent matters are as follows:\\n\\n•\\n\\nIt is likely that any potential significant effect on the qualifying interests of\\nthe  River  Tweed  SAC  can  be  avoided  provided  best  practice  is  adopted\\nand appropriate mitigation implemented.\\n\\n•  The proposal is not likely to impact on the important features of interest of\\nBuckstruther  Moss  SSSI  or  any  adverse  impact  on  Adderstonlee  Moss\\nSSSI.\\n\\n•  Micro-siting of some of the turbines and one of the borrow pits is required\\nto  reduce  impacts  on  wet  heath  habitat  and  on  calcareous  grassland\\nhabitat.\\n\\n•  A  variety  of  protected  species  have  been  identified  and  a  condition  is\\nrecommended  for  pre-construction  checking  surveys,  where  the  findings\\nshould  inform  further  mitigation  through  a  Species  Mitigation  and\\nManagement Plan.\\n\\n•  A Habitat Management and Enhancement Plan is required that deals with\\na  variety  of  habitats  within  and  outwith  the  site,  including  replacement\\nplanting,  measures  for  waders,  buffer  zones  to  enhance  Buckstruther\\nMoss  SSSI  and  Adderstonlee  Moss  SSSI,  habitat  restoration  at  Fluther\\nrestoration,  wetland\\nMoss,  peatland  management,  wet  heathland\\nretention,  creation  of  habitat  corridors  including  riparian  trees  and\\nwoodland scrub, stock control and predator control.\\n\\n•  The  appointment  of  an  Ecological  Clerk  of  Works  is  recommended  to\\nensure compliance with pre-construction obligations, habitat management\\nand decommissioning ecological requirements.\\n\\n•  A post construction species monitoring programme is required.\\n\\n11.7  Roads Planning Service: No objections.  The delivery route of the turbines\\nneeds to be agreed as considerable works will be required to existing roads,\\nstructures and third party land.  Suitable access into the site can be achieved\\nfrom the A6088, although the exact location and detail has to be agreed.  A\\nTraffic Management Plan (TMP) will be required to ensure the construction is\\ncarried  out  in  a  controlled  manner  which  mitigates  impacts  upon  the  public\\nroad and provides mitigation for abnormal loads.\\n\\n11.8  Access  Officer: There are  no  claimed  Rights  of Way  or  Core  Paths  on  this\\narea  of  land.    There  are  a  number  of  rights  of  way  and  promoted  paths\\nsurrounding the site from which the wind farm will be visible, in particular the\\nHawick  Circular  Riding  Route  (right  of  way  BR120)  is  approximately  1km\\naway.      There  is  one  permissive/customary  path  from  Birneyknowe  north  to\\nthe A6088 within the site.  Wind turbines should be set back at a reasonable\\ndistance from the rights of way and other potential recreational routes, at least\\nthe  height  of  the  turbine.    The  Land  Reform  Act  provides  for  a  right  of\\nresponsible  access  through  the  site  and  so  tracks  to  accommodate\\nconstruction  or  service  vehicles  should  be  available  for  all  types  of  non-\\nmotorised  recreational  users  (pedestrians,  equestrians  and  cyclists)  once\\nconstruction is complete.\\n\\nPlanning and Building Standards Committee\\n\\n11\\n\\n\\x0c12.0   OTHER  IMPORTANT  CONSULTATION  RESPONSES  (SUBMITTED  TO\\n\\nSCOTTISH GOVERNMENT):\\n\\n12.1  As  Members  are  aware,  the  Council  is  a  consultee  in  the  Section  36\\napplication  process  and  does  not  undertake  any  outside  consultation  itself.\\nNevertheless, some of the responses received by the ECU have been made\\nknown  to  the  Department  and  Members  may  be  interested  in  the  more\\nsignificant  responses  on  key  environmental  and  technical  issues,  which  are\\ndetailed below.  Other responses are available to view on the Public Access\\nSystem.\\n\\n12.2  Scottish Natural Heritage: Advise that the proposal is not likely to impact on\\nthe  internationally  important  features  of  interest  of  the  River  Tweed  Special\\nArea  of  Conservation  (SAC),  the  nationally  important  features  of  interest  of\\nBuckstruther  Moss  SSSI  or  Adderstonlee  Moss  SSSI  but  raise  the  following\\nissues:\\n\\n•  The  widespread  and  adverse  landscape  and  visual  effects,  particularly\\nexperienced  within  10km,  resulting  from  the  often  dominant  scale  and\\nrelatively poor design of the development within a settled area of diverse\\nand transitional landscape character.\\n\\n•  The  adverse,  visually  competing  nature  of  the  proposed  turbines  with\\nregards the landscape setting of Rubers Law, a primary landscape feature\\nand landmark hill of the southern Borders.\\n\\n•  The  adverse  impacts  of  the  development  on  the  landscape  setting  of\\nHawick,  with  such  effects  experienced  from  recreational  and  publically\\naccessible areas within and around the town.\\n\\n•  The adverse landscape and visual effects of the development when seen\\nin  certain  long  to  middle  distance  views  and  where  the  development  will\\n‘break’ the skyline formed by the Southern Upland Hills.\\n\\n•  Micro-siting  of  one  turbine  is  required  to  avoid  species-rich  grassland\\n\\nareas.\\n\\n•  A Habitat Management Plan is required.\\n\\nRe-consultation  on  FEI:  Their  advice  remains  largely  unchanged  but  with\\namendments  to  some  of  the  detailed  advice  relating  to  likely  landscape  and\\nvisual impacts around and from within Hawick and updated advice regarding\\npotential cumulative impacts that could arise depending on different planning\\nscenarios.\\n\\n12.3  SEPA:  Object  due  to  the  lack  of  information  relating  to  wetlands  and\\npeatland.  A detailed map is required of peat depths for the whole site with all\\nthe built elements overlain so it can clearly be seen how the development has\\nbeen designed to avoid areas of deep peat.  Some of the turbines are located\\nnear or on areas containing Groundwater Dependant Terrestrial Ecosystems\\n(GWDTEs); micro-siting and mitigation is required.\\n\\nConditions are required to secure:\\n\\n•  A Construction Environmental Management Plan (CEMP)\\n\\nPlanning and Building Standards Committee\\n\\n12\\n\\n\\x0c•  An Environmental Management Plan (EMP)\\n•  A Construction Method Statement (CMS)\\n•  Decommissioning and Restoration Plan.\\n\\nRe-consultation on FEI: A detailed peat depth survey confirmed that no peat\\nis  present  within  the  proposed  layout  and  so  a  carbon  assessment  is  not\\nrequired.    Remove  their  objection,  subject  to  micro-siting  or  appropriate\\nmitigation and subject to the above conditions.\\n\\n12.4  Ministry  of  Defence:  Holding  objection  to  the  proposal  due  to  the  potential\\nunacceptable impact upon the Eskdalemuir Seismological Recording Station.\\n\\nThe proposed turbines will be 15.3km – 16.5km from, detectable by, and will\\ncause  unacceptable  interference  to  the  ATC  radar  at  RAF  Spadeadam\\nDeadwater  Fell.    However,  the  applicant  has  submitted  mitigation  measures\\nand following an assessment of this the Ministry of Defence has agreed to a\\nsuspensive condition.  Omni-directional red lighting or infra-red aviation safety\\nlighting is required.\\n\\nRe-consultation  on  FEI:    There  is  capacity  within  the  seismic  ground\\nvibration threshold for this development and the holding objection is removed,\\nsubject to a condition requiring confirmation of the position and height of each\\nturbine upon completion.\\n\\n12.5  Transport  Scotland:  The  route  to  the  site  for  abnormal  loads  will  use  the\\nA68 trunk road and so the final route will need to be agreed before deliveries\\ncommence.\\n\\n12.6  Historic Environment Scotland: Whilst the development is likely to have a\\nrange  of  adverse  impacts  to  varying  degrees  to  the  setting  of  a  number  of\\nscheduled  monuments  in  its  vicinity  the  effect  is  not  so  adverse  as  to  raise\\nsuch  issues  of  national  significance  that  would  warrant  an  objection.\\nHowever,  the  design  layout  should  be  re-evaluated  to  mitigate  impact.    The\\ncomments of the Council on the wider historic impacts of the development on\\nthe historic landscape should be taken into account.\\n\\n12.9  Community Councils:\\n\\n•  Denholm Community Council: Object, due to the lack of information on\\ntransport routes for the turbines, the visual and cumulative impact, impact\\non  tourism,  construction  traffic  and  question  whether  there  is  a  need  for\\nthis development in terms of green energy targets.  Following consultation\\non  the  FEI  they  advise  that  their  previous  comments  remain  extant  and\\nare disappointed that the applicant has failed to address their concerns.\\n\\n•  Southdean  Community  Council:  Object  due  to  the  adverse  impact  on\\nthe local landscape, cultural and historical settings, the local environment,\\ntourism, residential amenities and traffic and the cumulative impact.  Any\\nbenefits  are  outweighed  by  the  impact.    In  respect  of  the  FEI,  the\\nCommunity Council reiterates the above concerns and raises the issue of\\ncumulative  impact  and  questions  the  weight  given  to  the  economic\\nbenefits of the proposal as there is no route to market.\\n\\nPlanning and Building Standards Committee\\n\\n13\\n\\n\\x0c•  Hobkirk  Community  Council:  Object  due  to  the  number  and  height  of\\nthe  turbines  and  the  resulting  impact  on  the  landscape,  cultural  and\\nhistoric sites, residential amenities due to noise and shadow flicker, local\\nbusinesses  and  wildlife  and  the  cumulative  impact  of  the  development\\nand  the  impact  of  construction  traffic.    They  maintain  their  objection  and\\nhave  updated  and  expanded  upon\\nthe\\nconsultation on the FEI.\\n\\ntheir  concerns\\n\\nfollowing\\n\\n•  Upper  Teviotdale  and  Borthwick  Water  Community  Council:  Object\\ndue  to the  visual  impact,  traffic generation,  the  impact  on  recreation  and\\nthe  Hawick  Common  riding  ride-outs,  the  lack  of  justification  for  the\\nproposal  in  terms  of  renewable  energy  targets  and  the  lack  of  local\\neconomic benefits.  Maintain their objection following consultation on the\\nFEI.\\n\\n•  Hawick  Community  Council:  Object  due  to  adverse  landscape  and\\nvisual impact, impact on birds, construction traffic, impact on businesses\\nand tourism and cumulative impact\\n\\n13.0  KEY PLANNING ISSUES:\\n\\n13.1  Bearing  in  mind  that  the  Council  is  a  consultee  rather  than  the  determining\\nauthority,  the  following  are  the  key  issues  are  addressed  in  the  following\\nAssessment:\\n\\n•  Land use planning policy;\\n•  Landscape  and  visual  impacts,  including  landscape  character  and  visual\\n\\nimpacts, arising from turbines and infrastructure;\\n\\n•  Cumulative  landscape  and  visual  impacts  with  other  wind  energy\\n\\ndevelopments;\\n\\n•  Physical and setting impacts on cultural heritage assets;\\n•  Residential amenity including noise impacts;\\n•  Ecological, ornithological and habitat effects;\\n•\\nImpact on road safety and the road network;\\n•\\nImpacts on the public path network and public access on accessible land;\\n•  Economic benefits attributable to the scheme;\\n•  Benefits arising from renewable energy provision.\\n\\n14.0  ASSESSMENT OF APPLICATION:\\n\\nPlanning Policy\\n\\n14.1  Scottish Government policy, regional strategic policy and local planning policy\\n\\nand guidance all support renewable energy, including wind farms, provided\\nthat there are no unacceptable environmental impacts.\\n\\n14.2  SPP sets out a Spatial Framework for determining appropriate sites for wind\\nfarms (Table 1). The site falls outwith Group 1: Areas where  wind farms will\\nnot be acceptable, which includes National Parks and National Scenic Areas.\\nPart of the site falls within Group 2: Areas of significant protection, as there is\\nan  SSSI  within  the  site.    The  remainder  falls  within  Group  3:  Areas  with\\npotential  for  wind  farm  development  where  wind  farms  are  likely  to  be\\nacceptable, subject to detailed consideration against identified policy criteria.\\n\\nPlanning and Building Standards Committee\\n\\n14\\n\\n\\x0c14.3  SESplan policy 10 requires Local Development Plans to set a framework for\\nthe  encouragement  of  renewable  energy  proposals  that  aims  to  contribute\\ntowards achieving national electricity and heat targets and taking into account\\neconomic, environmental and transport considerations.\\n\\n14.4  The  proposal  has  to  be  assessed  against  a  number  of  Local  Development\\nPlan 2016 policies. Policy ED9 deals with renewable energy development and\\nsupports  commercial  wind  farms  where  they  can  be  accommodated  without\\nunacceptable  significant  adverse  impacts  or  effects,  giving  due  regard  to\\nrelevant  environmental,  community  and  cumulative  impact  considerations.\\nProposals will be approved provided that there are no significant effects that\\ncannot  be  satisfactorily  mitigated.    Where  mitigation  is  not  possible,  the\\ndevelopment  will  only  be  approved  if  the  Council  is  satisfied  that  the  wider\\neconomic,  environmental  and  other  benefits  outweigh  the  potential  damage\\narising from  it.   The  policy  contains  a  number  of  criteria  by  which  to  assess\\nthe proposal.\\n\\n14.5\\n\\nIt  is  therefore  the  detail  of  the  proposal,  and  its  impacts  versus  its  benefits,\\nwhich  must  be  balanced  in  any  decision.    The  primary  topics  requiring\\nconsideration by the Council are as follows:\\n\\nDesign Methodology:\\n\\n14.6  The  siting  and  design  of  the  development  has  evolved  since  its  initial  32\\nturbine layout at 152m in height, which is illustrated Chapter 4 of Volume 1 of\\nthe ES.  The following changes have been made:\\n\\n•  The  removal  of  turbines  from  the  north  eastern  side  of  the  A6088  and\\n\\nsouth eastern side of the minor road.\\n\\n•  A  reduction  in  the  number  and  height  of  turbines  and  repositioning  to\\n\\nreduce the negative visual impacts from key viewpoints.\\n\\nLandscape and Visual Impacts\\n\\nTheoretical Visibility\\n\\n14.7  The  Zone  of  Theoretical  Visibility  (ZTV)  Maps  (Figures  2.1b  and  2.2b  of the\\nES) illustrate the potential visibility of the turbines to hub height and blade tip\\nheight  within  5km,  10km  and  20km  zones  and  the  extent  of  landform\\ncontainment.    Within the key 5km range there is in excess of 65% potential\\nvisibility,  with  a  broad  swathe  of  visibility  around  the  site  and  immediate\\nsurroundings but hill ridges provide a degree of screening to the north west,\\nso  that  most  of  Hawick  itself  is  screened  from  view.    However,  there  is  a\\nfurther  belt  of  visibility  beyond  the  5km  range  on  higher  ground  to  the  north\\nand  west  of  Hawick.    There  is  also  a  degree  of  screening  to  the  south  and\\neast of the site provided by hills shielding much of Bonchester Bridge and to\\nthe  north  east  by  Rubers  Law  so  that  areas  around  Bedrule  are  largely\\nscreened.    However,  there  is  further  visibility  to  the  east  at  Bonchester  Hill\\nand Wolfelee Hill.  There is more limited visibility beyond the 5km range to the\\nsouth  east,  with  the  exception  of  Carter  Bar  and  the  A6088  down  to\\nSouthdean.\\n\\n14.8  The  pattern  of  visibility  is  complex  reflecting  the  landform  but  the  level  of\\ncontainment  is  only  partial.    The  site  lacks  the  containment  provided  by  the\\n\\nPlanning and Building Standards Committee\\n\\n15\\n\\n\\x0clandform  that  provides  an  acceptable  degree  of  screening.    The  visual\\nimpacts, as a result of this, are discussed below.\\n\\nLandscape Character\\n\\n14.9\\n\\nIn  terms  of  the  Borders  Landscape  Assessment  (1998)  the  site  lies  to  the\\nsouth east of Hawick at the intersection of 3 landscape character areas.\\n\\n14.10  The  majority  of  the  application  site  is  located  within  Landscape  Character\\nType (LCT) 11RL: Grassland with Hills (Rubers Law) described as a diverse\\nupland fringe landscape characterised by prominent discrete hills rising above\\nsurrounding  grasslands.  The  key  characteristics  are  steep,  cone  or  dome-\\nshaped  hills,  diverse  surrounding  landform  types,  land  cover  dominated  by\\npermanent  pasture  with  locally  frequent  woodland  cover,  low  to  medium\\nsettlement  density  and  individual  hills  as  dominant  focal  points  of  views.\\nInternal  intervisibility  is  deemed  to  be  varied  in  degree;  visual  diversity  is  a\\nkey  characteristic  of  this  landscape  type.    Externally  intervisibility  is\\nintermediate to high, varying between higher open areas with important views\\nto  and  from  the  adjoining  uplands,  upland  fringes  and  valleys.    Despite  the\\nrelatively  low  settlement  density,  this  landscape  is  one  of  high  visual\\nsensitivity, due to important views of the areas from the A7.\\n\\n14.11  Turbines  1  and  5  would  be  located  within  LCT  10:  Grassland  with  Rock\\nOutcrops (Migard) described as a strongly undulating upland fringe landscape\\ncharacterised  by  angular  pasture  covered  hills  with  rugged  knolls  and  rock\\noutcrops.    Internal  intervisibility  is  relative  low,  due  to  the  strong small  scale\\nrelief and the abundance of vertical screening features.  External intervisibility\\nis categorised as intermediate in degree, varying from the open aspect of the\\nhigher  ground  and  the  enclosed,  intimate  hollows.    Visual  sensitivity  is  high\\ndue to its proximity to the large population centre of Hawick and the frequent\\nviews which are also available from the A7.\\n\\n14.12  Turbines  3  and  4  would  be  located  within  LCT  4:    Southern  Uplands  with\\nScattered Forest (Cauldcleuch Head), an upland landscape characterised by\\nlarge-scale, rolling, heather and grassland covered hills.  Internal intervisibility\\nis considered to be intermediate in degree.  There are numerous contiguous\\nlandscape types, ranging from the related forest covered type, to the upland\\nvalleys  and  the  upland  fringe  grasslands  and  farmlands,  all  of  which  have\\nsignificant views to and from the Southern Uplands.  External intervisibility is\\nhigh.  Visual sensitivity is also high, due to the numerous important roads, in\\nthis case on the A7.\\n\\n14.13  The site is not one of the nationally designated areas of Wild Land.\\n\\nLandscape Capacity\\n\\n14.14  The  Ironside  Farrar  Landscape  Capacity  and  Cumulative  Impact  Study  July\\n2013  is  referred  to  within  Policy  ED9  and  is  therefore  is  a  material\\nconsideration in respect of this application.  This uses the Borders Landscape\\nAssessment to assess the suitability of each landscape character type (LCT)\\nfor differing turbine typologies.  The application site straddles three character\\nareas, upon which the report findings are as follows:\\n\\nPlanning and Building Standards Committee\\n\\n16\\n\\n\\x0c•  LCT 11: Rubers Law - There is no capacity for turbine development in this\\nLandscape  Character  Area  due  to  the  prominence,  intervisibility,  scenic\\nvalues,  designation  as  part  of\\nthe  Special  Landscape  Area  and\\nrecreational  value  of  this  area.    The  landscape  character,  visual\\nsensitivities and landscape value are considered to be high.\\n\\n•  LCT  10:  Midgard  -  There  is  no  capacity  for  very\\n\\nlarge  turbine\\n\\ndevelopments (over 100m) within this area.\\n\\n•  LCT  4:  Cauldcleuch  Head  -  there  is  capacity  for  large  and  very  large\\nturbines in more elevated upland areas where topographical containment\\nreduces  intervisibility.    However,  the  two  turbines  proposed  within  this\\nLCA  are  not  within  an  elevated  area  where  topographical  containment\\nexists to accommodate very large turbines.\\n\\n14.15  The  conclusion  from  this  study  is  that  there  is  no  capacity  for  very  large\\nturbines  in  these  Landscape  Character  Areas.    If  applications  are  submitted\\nfor  turbines  that  exceed  the  suggested  maximum  turbine  height  within  a\\nparticular  area  the  onus  is  on  the  applicant,  via  the  submission  of  more\\ndetailed  information,  to  demonstrate  how  impacts  on  key  constraints  and\\nsignificant  adverse  impacts  can  be  mitigated.  It  is  considered  that  the\\napplicant  has  failed  to  demonstrate  how  the  proposed  wind  farm  can  be\\naccommodated within the landscape without an unacceptable adverse impact\\non  the  landscape  and  so  it  is  considered  that  this  is  not  a  suitable  site  for\\nturbines 132m high and the proposal is contrary to policy ED9.\\n\\nLandscape Impact\\n\\n14.16  An  analysis  of  landscape  character  reveals  that  the  site  is  largely  within  an\\n‘Upland  Fringe’  landscape  character  type,  meaning  that  it  is  intermediate  in\\nterms of landscape scale (between large scale open upland and small scale\\nthe  expansive,  unenclosed\\nenclosed\\nlandscape  scale  in  which  a  wind  farm  can  be  satisfactorily  accommodated.\\nTopographical containment and therefore screening is partial.\\n\\nlowland)  and  does  not  provide\\n\\n14.17  The  wind  farm  would  be  prominent  from  many  viewpoints,  by  virtue  of  its\\nscale  and  extent,  and  the  vertical  nature  of  the  turbines  would  contrast\\nsignificantly  with  other  features  in  this  landscape,  such  as  trees,  woodlands\\nand  buildings.  There  is  a  clear  misfit  between  the  size  and  height  of  the\\ndevelopment  and  the  scale  of  the  receiving  landscape.    As  a  result,  the\\ndevelopment would appear as a dominant feature in the landscape.\\n\\n14.18  Rubers Law is defined as an iconic viewpoint in the Councils’ Supplementary\\nPlanning Guidance on Wind Farms and is a significant landscape feature.  It\\nis located to the north east of the site and benefits from a 360 degree view of\\nthe  surrounding  landscape.    The  nearest  turbine  is  4.5km  from  the  summit\\nand  half  that  distance  from  the  foot  of  the  slope.    It  is  considered  that  the\\nsignificance of Rubers Law, as an important landmark feature in the Borders,\\nwould be diminished by the development due to the scale of the turbines and\\ntheir  proximity.    The  development  would  compete  with  the  sensitive  skyline\\nfeature of Rubers Law and would adversely affect its setting.\\n\\nPlanning and Building Standards Committee\\n\\n17\\n\\n\\x0c14.19  This  is  highlighted  in  certain  viewpoints  in  the  ES.    Viewpoint  7  from  the\\nB6399  junction  with  the  Hawthornside  road  shows  that  the  turbines  would\\ndominate  the  view  of  Rubers  Law;  this  is  also  the  case  with  Viewpoint  17\\ntaken  from  Swinnie  looking  south  west  towards  the  wind  farm  where  the\\nturbines  would  compete  in  the  view  of  this  important  landmark,  detracting\\nfrom its setting.  Viewpoint 19 from Pencrise Pen and 20 from Maiden Paps\\nshow how the turbines would challenge the scale of the hill due to their height\\nand topographical position, and Rubers Law’s importance in the landscape.\\n\\n14.20  Another  consideration  is  the  impact  of  the  proposal  on  the  landscape  of\\nHawick.    The  FEI  includes  a  detailed  assessment  of  the  effects  on  the\\nlandscape  setting  of  Hawick.    However,  it  is  considered  that  when  viewed\\nfrom the north, the backdrop to Hawick would become dominated by turbines\\nand  this  also  constitutes  an  effect  on  landscape  character.    Viewpoint  13  in\\nthe  ES  from  the  roundabout  on  the  A7  north  of  Hawick  shows  that  the\\nturbines  would  break  the  skyline  and  have  a  detrimental  effect  on  the\\nlandscape setting of the town.\\n\\n14.21  The  site  is  situated  within  1km  of  the  south  western  boundary  of  the  Teviot\\nValleys  Special  Landscape  Area.    Policy  ED5  seeks  to  protect  such  areas\\nfrom  inappropriate  development.    This  area  covers  a  series  of  distinctive\\nBorders  valleys.  Visually  prominent  hills  include  Minto  Crags,  Peniel  Heugh,\\nDunion  Hill,  Minto  Hills  and  Rubers  Law,  each  of  which  has  a  strong\\nrelationship  with  the  adjacent  valleys  and  the  wider  landscape.    The\\ndevelopment of wind farms and the potential for visual impact of development\\non hills outside the Special Landscape Area is identified within the Forces for\\nChange.    One  of  the  Management  Recommendations  is  to  consider  the\\neffects of development on hilltops, such as wind farms, which may be visible\\nwithin the valleys.\\n\\n14.22  The  Zone  of  Theoretical  Visibility  (Figure  2.2b  of  the  ES)  indicates  that  the\\nturbines would be visible from large areas of the Special Landscape Area at\\nclose  range,  negatively  impacting  on  views  into  and  out  of  the  Special\\nLandscape Area.\\n\\n14.23  Scottish  Natural  Heritage  has  expressed  concerns  regarding  the  location,\\nsiting  and  design  of  the  wind  farm  and  the  widespread  landscape  effects\\nparticularly  with  regard  to  the  landscape  setting of  Rubers  Law  and  Hawick,\\nthe long to middle distance views and where the development with break the\\nskyline formed by the Southern Upland Hills.\\n\\n14.24  The  Council’s  Landscape  Architect  cannot  support  the  proposal  as  the\\nproximity  of  Rubers  Law  and  the  Teviot  Valleys  Special  Landscape  Area\\nmeans that the wind farm would intrude on views and affect the character of\\nthose areas.  In addition, the development would affect the setting of Hawick,\\nparticularly  on  approach\\nthe  north.    The  further  environmental\\ninformation has not changed this opinion.\\n\\nfrom\\n\\n14.25  It is considered that the development, by virtue of its siting, extent and scale\\nwould result in adverse effects on the landscape character of the area.  It has\\nnot  been  demonstrated\\nfarm  can  be  satisfactorily\\naccommodated in the landscape, contrary to policy ED9.\\n\\nthe  wind\\n\\nthat\\n\\nPlanning and Building Standards Committee\\n\\n18\\n\\n\\x0cVisual Impacts\\n\\n14.26  The  ZTV  confirms  the  extent  of  theoretical  visibility  of  the  wind  farm  and\\nviewpoints have been selected based on this to illustrate the visual impact of\\nthe development from various high sensitivity receptors.\\n\\nVisual Impacts – Roads and Paths\\n\\n14.27  The A7 is a major tourist route through the Borders.  The ZTV demonstrates\\nthat  the  wind  farm  would  potentially  be  visible  from  long  sections  of  the  A7\\nnorth of Hawick within the 10km range.  This is demonstrated by Viewpoint 18\\nin the ES, where the wind farm extends across the landscape breaching the\\nskyline.  Viewpoint 13 from the Homebase roundabout on the northern edge\\nof  Hawick  shows  that  the  wind  farm  would  be  seen  from  views  towards  and\\nover the town from the north.  The varying height of the turbines, due to the\\ntopography of the site, the moving elements and the extent of the wind farm\\nwould  result  in  a  dominant  development  out  of  scale  with  the  receiving\\nlandscape that would impact negatively on views.  The FEI provides a further\\nanalysis  of  the  visibility  from  Hawick  and  Viewpoint  33  is  an  additional\\nvisualisation at a point where the development would first become visible as a\\nbackdrop to Hawick.  Whilst it is accepted that the effects from various points\\non the A7 approaching Hawick will vary in terms of backdrop and screening,\\nthe overall appearance of the proposal would compete with Rubers Law and\\nadversely affect the setting of the town.\\n\\n14.28  The A6088 runs from the A68 to the south of Carter Bar to the south east of\\nHawick.  A number of photomontages have been provided for this stretch of\\nroad.   Carter  Bar  itself  is  has  been  identified  in the  Supplementary  Planning\\nGuidance on Wind Energy as being of significant strategic importance and is\\nsafeguarded with a 7km buffer; it is a major route into the Borders.  Viewpoint\\n27 in the ES shows that Carter Bar is 15km from the nearest turbine but the\\nwind farm would be clearly visible, though not breaking the skyline and from a\\ndistance.\\n\\n14.29  The  wind  farm  would  be  visible  to  varying  degrees  for  long  sections  of  the\\nA6088, most notable from Chesters (Viewpoint 16), 6.8km from the turbines.\\nViewpoint 1 is from the layby on the A6088 to the north west of Hawthornside\\nadjacent  to  the  footpath  to  Rubers  Law  and  shows  the  turbines  at  close\\nproximity (0.9km), dominant in the landscape, with Turbines 1 and 5 distinctly\\nseparate,  and  with  Penchrise  Pen  behind  in  the  distance.    The  wind  farm\\nwould have a significant visual impact when viewed from this section of road.\\nViewpoint  6  is  from  Kirkton,  where  there  would  be  no  visibility  of  the  wind\\nfarm.\\n\\n14.30  There  is  a  minor  public  road  that runs  along  the  south  east  boundary  of  the\\nsite from Hawthornside to the B6399 Hawick to Newcastleton road.  Viewpoint\\n7  is  from  the  junction  of  the  two  roads,  with  the  turbines  2km  away.    The\\nturbines would be very prominent in the landscape, with little tree screening or\\ncontainment, breaking the skyline and interrupting views of Rubers Law.  The\\nonly other viewpoint (Viewpoint 2) from this road is from Hawthornside where\\nonly  5  turbines  would  be  partially  visible  due  to  topographical  and  forest\\nscreening.    However,  the  minor  road  runs  in  close  proximity  to  the  turbines\\nand provides panoramic views over the Borders.  Although no photomontages\\nhave  been  provided  along  this  route  it  is  envisaged  that  the  turbines  would\\ndominate views from this road, having an adverse impact.\\n\\nPlanning and Building Standards Committee\\n\\n19\\n\\n\\x0c14.31  There are a number of core paths, public rights of way, promoted paths and\\npermissive paths within the 5km zone and Common Riding routes.  These are\\nlinked to several significant hills within the area.\\n\\n14.32  The  Borders  Abbeys  Way  is  a  strategic  long  distance  footpath  and  links\\nHawick and Selkirk by a path to the north west of Hawick passing Drinkstone\\nHill,  an  iconic  viewpoint  in  the  Supplementary  Planning  Guidance  on  Wind\\nEnergy.  Viewpoint 14 is situated on the Borders Abbey Way north of Hawick\\n6.4km  from  the  nearest  turbine.    A  number  of  turbines  would  be  partially\\nvisible where the blades break the skyline and would appear as dominant and\\nmoving features above the ridgeline.\\n\\n14.33  The  Borders  Cycle  Loop  follows  the  minor  road  along  the  south  eastern\\nboundary  of  the  site,  140m  from  Turbine  4.    Cyclists  would  experience\\nprominent visual effects.\\n\\n14.34  There  are  a  number  of  Common  Riding  ride-outs  that  pass  through  the  site\\n(Bonchester,  Denholm  and  Cogsmill)  and  there  would  be  a  significantly\\nadverse  impact  on  riders  where  the  routes  pass  through  the  site  due  to  the\\nscale of the development and the proximity to these routes.\\n\\n14.35  The  impact  on  the  landscape  setting  of  Rubers  Law  has  been  assessed\\nabove  and  its  cultural  heritage  and  relationship  with  other  hill  forts  is\\ndiscussed  below.    The  summit  of  Rubers  Law  is  accessed  by  a  number  of\\npaths,  one  of  which  starts from  the  A6088  opposite  the  site  and  the  summit\\noffers  open,  panoramic  views  popular  with  walkers.    The  nearest  turbine\\nwould be 4.5km south west from the summit.  It is accepted that the turbines\\nwould  not  break  the  skyline  but  due  to  the  scale  and  proximity  of  the  wind\\nfarm,  the  development  would  be  a  highly  visible,  dominant  and  distracting\\nfeature in the landscape and so would have a significantly adverse impact.\\n\\n14.36  Bonchester Hill is part of a circular promoted path within 3.8km of the nearest\\nturbine is within the Special Landscape Area.  This is therefore considered a\\nhigh  sensitivity  pedestrian  receptor.    The  wind  farm,  due  to  its  extent  and\\nturbine height would be prominent in the landscape when viewed from the top\\nof  Bonchester  Hill  looking  west  (Viewpoint  9).    There  would  be  clear,  open\\nviews and the turbines would break the skyline and draw the eye away from\\nRubers  Law,  currently  the  most  distinctive  feature  in  the  landscape  when\\nviewed from the summit looking north and west.\\n\\n14.37  Minto  Hill  is  8.7km  from  the  nearest  turbine  and  another  iconic  viewpoint\\naccessible  to  the  public.    Viewpoint  23  indicates  that  the  whole  wind  farm\\nwould  be  prominent  when  viewed  from  the  summit  facing  south,  with  some\\nblades  breaking  the  skyline.    Currently  Rubers  Law  is  the  most  dominant\\nfeature in that view and, as with Bonchester Hill, the turbines would compete\\nwith Rubers Law for the viewer’s attention, diminishing the hill’s importance.\\n\\n14.38  Although  the  Eildon  Hills  are  over  20km  from  the  site  they  are  of  significant\\nstrategic  importance  in  terms  of  the  wind  energy  Supplementary  Planning\\nGuidance  and  are  within  the  National  Scenic  Area  and  so  the  impact  of  the\\ndevelopment  on  the  visitor’s  appreciation  of  these  hills  must  be  considered.\\nThe  cultural  heritage  impacts,  in  terms  of  the  relationship  of  the  hill  fort  and\\nother hill forts within the Borders are discussed below.  Viewpoints 30 and 31\\n\\nPlanning and Building Standards Committee\\n\\n20\\n\\n\\x0cindicate  that  there  would  be  long  distance  views  of  the  wind  farm  but  the\\nturbines would be seen as being clustered at the base of Rubers Law.\\n\\n14.39  Scottish Natural Heritage has raised concerns regarding the visual effects of\\nthe  development  from  long  to  middle  distance  views  and  where  the\\ndevelopment  would  break  the  skyline  formed  by  the  Southern  Upland  Hills.\\nThe  skyline  formed  by  the  Southern  Uplands  is  free  from  large  scale  built\\ndevelopment and is a strong, natural feature within more distant views.  They\\nconsider  that  the  proposal  would  compete  with  or  break  the  profile  of  the\\nskyline  in  certain  important  views,  which  is  consistent  with  other  concerns\\nover  landscape  and  visual  impact.    When  viewed  from  the  north  the\\ndevelopment  would  be  seen  as  a  large  scale  feature  in  the  foreground\\nbreaking the skyline focussing the viewer’s attention on the wind farm.  This\\ncan be experienced in a number of viewpoints, but in particular they highlight\\nViewpoint 25 to the west of Roberton, Viewpoint 18 to the north of Hawick and\\nViewpoint 23 from Minto Hill.\\n\\n14.40  In  summary,  it  is  considered  that  the  visual  impacts  caused  by  the\\ndevelopment  on  major  and  minor  roads,  footpaths  and  other  walking  routes\\nand iconic hills in the surrounding area would be significantly adverse and so\\ncontrary to policy ED9 of the Local Development Plan.\\n\\nVisual Impacts – Residential Receptors\\n\\n14.41  Scottish  Planning  Policy  advocates  the  identification  in  Local  Development\\nPlans  of  an  area  not  exceeding  2km  around  settlements  as  a  community\\nseparation for consideration of visual impacts.\\n\\n14.42  There are no settlements within 2km of the nearest turbine, though there are\\n\\na number of settlements within 5km.\\n\\n14.43  The ZTV indicates that the development would be visible from the north, north\\nwest and south east of Hawick.  Viewpoints 13 and 14 (and Viewpoint 33 in\\nthe FEI) show that the development would be highly visible from the north of\\nHawick  on  the  A7,  breaking  the  skyline  with  no  intervening  land  form  or\\nvegetation.  Viewpoint 12 is from Hawick Racecourse to the south of Hawick\\nand  indicates  a  high  level  of  visibility,  again  with  no  screening.    Scottish\\nNatural Heritage has expressed concern regarding the adverse effects of the\\ndevelopment on views from Hawick.  They accept that the wind farm would be\\nmost  visible  from  elevated  areas  to  the  north,  west  and  south  west  and  the\\neffects  would  be  varied  in  nature,  but  there  would  be  varying  degrees  of\\nadverse effects on visual amenity.  These effects are outlined in detail in their\\nresponse. Whilst these views have been expressed separately to the Energy\\nConsents Unit, they are consistent with concerns hele by Council officers over\\nlandscape and visual impact.\\n\\n14.44  Kirkton would be 2.2km from the nearest turbine and the ZTV and Viewpoint 6\\n\\nindicate that there is no visibility due to intervening woodland.\\n\\n14.45  Bonchester  Bridge  would  be  2.9km  from  the  nearest  turbine  and  the  ZTV\\nindicates  that  there  is  very  limited  visibility,  restricted  by  vegetation,  from  all\\nbut three properties on the A6088 to the south, which would have direct views\\nof all the turbines.\\n\\nPlanning and Building Standards Committee\\n\\n21\\n\\n\\x0c14.46  Denholm would be 6.3km from the turbines (Viewpoint 15) and buildings, land\\nform  and  vegetation  would  screen  the  development  from  the  village  and  so\\nthe impact would not be significant.\\n\\n14.47  Chesters would be 6.7km from the nearest turbine and the turbines would be\\nvisible  from  properties  on  the  western  side  of  the  village  (Viewpoint  16),\\nthough there is partial screening from vegetation.\\n\\n14.48  There  is  no  photomontage  from  Hobkirk  (3km)  but  Viewpoint  10  is  from  the\\nB6357 to the east and indicates that all the turbines would be visible breaking\\nthe  skyline.    From  the  settlement  itself,  the  ZTV  indicates  that  blade  tips  of\\nthree turbines would be visible.\\n\\n14.49  There are a number of residential properties within 2km of the site, including\\nthose  at  Hawthornside  (1.1km  to  the  east  of  the  nearest  turbine),  Earlside\\n(710m to the south west), 2 properties at Birneyknowe within the site (640m\\nand  760m),  Stonedge  (1.3km  to  the  south  east)  and  three  properties  at\\nHowahill  (1.8km  to  the  south  east).  There  are  also  residential  properties  at\\nPhantasy  (1.6km),  Weensmuir  (1.9km),  Midburn  (1.3km),  Adderston  Shiels\\n(1.6km) and Upper Tofts (1.9km).\\n\\n14.50  The  ES  has  assessed  the  impact  of  the  development  on  23  properties  and\\nconcludes that the development would have significant visual effects on four\\nresidential  properties  within  2km  of the turbines;  of these,  3  have  a financial\\ninterest  in  the  scheme.    One  house  at  Earlside  would  be  810km  from  the\\nnearest turbine and the impact is assessed as being moderate to substantial\\nadverse,  which  would  be  significant  but  would  not  result  in  the  property\\nbecoming an unsatisfactory place to live.  For the remainder the overall effect\\nis classed as moderate adverse, which are not concluded within the report as\\nnot being significant.\\n\\n14.51  It is accepted that some of these properties are screened by topography and\\nvegetation or orientated so that the principal views would face away from the\\nwind  farm,  however,  in  the  absence  of  wirelines  or  montages  it  is  difficult  to\\nsee  how  such  an  assessment  could  conclude  that  the  impacts  would  be\\nacceptable and not be overbearing.\\n\\n14.52  The  property  at  Earlside  would  be  810m  from  the  nearest  turbine.    The  ES\\nstates  that the  approach  to the  house  and garden  ground  would  be  affected\\nand that the impact would be moderate to substantial (significant) due to the\\nclose proximity of the development.  It concludes that significant visual effects\\nwould not result in the property becoming an unsatisfactory place to live.  The\\nnearest viewpoint is no.7 from the B6399 junction with the Hawthornside road\\n2km from the nearest turbine and to the south west of Earlside.  This shows\\nthat 13 of the turbines would be highly prominent in the landscape due to their\\nheight  and  proximity.    This  indicates  that  significant  impacts  would  occur  on\\nresidential outlook and it is considered that the development would affect day-\\nto-day living and enjoyment of the landscape.\\n\\n14.53  The  properties  at  Hawthornside  are  between  1.1km  and  1.3km  from  the\\nnearest  turbine  and  the  ES  concludes  that  the  impact  on  these  properties\\nwould be moderate adverse with some screening from vegetation.  Viewpoint\\n2  from  Hawthornside  indicates  that  5  turbines  would  be  visible  or  partially\\nvisible.    Again,  the  height  and  proximity  of  the  turbines  would  result  in  a\\n\\nPlanning and Building Standards Committee\\n\\n22\\n\\n\\x0csignificant  level  of  change  and  it  is  felt  that the  development  would  have  an\\noverbearing impact on these properties.\\n\\n14.54  It is concluded that the ES has failed to demonstrate that there would not be\\noverbearing  impacts  on  these  residential  properties  or  that  the  visual\\namenities of these properties would not be significantly affected.\\n\\nVisual Impacts - Associated Infrastructure\\n\\n14.55  The  associated  works  would  include  crane  hardstandings,  a  new  vehicular\\naccess  from  the  A6088  and  9km  of  access  tracks,  an  80m  high  wind\\nmonitoring mast, a site control building and compound and two borrow pits.\\n\\n14.56  These  ancillary  developments  are  not  shown  in  any  of  the  viewpoints.\\nAppropriate siting and design with mitigation measures would be required to\\nprotect the landscape character and visual amenities of the area.\\n\\n14.57  It  is  the  intention  that  the  majority  of  the  associated  infrastructure  is  to  be\\nremoved either at the end of the construction period or the operational life of\\nthe  wind  farm.    To  avoid  unnecessary  lasting  impacts  suitably  worded\\nconditions can agree the eventual removal of these structures.\\n\\nTurbine Micro-siting\\n\\n14.58  The  ES  states  that  a  micro-siting  allowance  of  50m  is  appropriate  for  the\\nturbines  and  10m  for  all  other  infrastructure.    The  issue  of  micro-siting  is\\nimportant  to  consider.    Consultees  have  requested  that  turbines  are\\nrepositioned for ecological and archaeological reasons and the ES states that\\nfollowing  ground  investigations  and  clearance,  some  modification  may  be\\nrequired.    A  degree  of  flexibility  is  therefore  needed  but  this  has  to  be\\nbalanced against the visual impact of the change.\\n\\n14.59  A  micro-siting  planning  condition  would  require  the  applicant  to  undertake\\nwireframe  analysis  of  any  micro-siting  requirements  to  illustrate  that  the\\nturbine’s  revised  position  can  be  tolerated  in  the  landscape  without  adverse\\nvisual impacts.\\n\\nCumulative Landscape and Visual Impact\\n\\n14.60  Policy  ED9  requires  all  cumulative  landscape  and  visual  impacts  to  be\\nconsidered  and  recognises  that  in  some  areas  the  cumulative  impact  of\\nexisting  and  consented  development  may  limit  the  capacity  for  further\\ndevelopment.\\n\\n14.61  The southern Borders is relatively undeveloped in terms of wind farms.  The\\noriginal  ES  includes  a  ZTV  for  Langhope  Rig  (Figure  2.47).    There  are  few\\nlocations  where  there  would  be  visual  interactions  and  most  of  these  would\\ninvolve  considerable  distances;  coincidental  cumulative  impact  is  therefore\\nminimal.\\n\\n14.62  The  FEI  includes  a  revised  cumulative  assessment  as  the  baseline  has\\nchanged significantly in this area since the application was submitted in 2014.\\n\\n14.63  Figure  2.6  of  the  FEI  shows  the  locations  of  operational  wind  farms,  those\\napproved and those with a current planning application and in scoping within\\n\\nPlanning and Building Standards Committee\\n\\n23\\n\\n\\x0ca 60km range.  Table 8.1 shows the cumulative baseline as of July 2016 and\\nthe  cumulative  assessment  focuses  on  Langhope  Rig  (operational),  Windy\\nEdge  (approved)  and  Highlee  Hill  (in  planning).    It  lists  Pines  Burn  as  in\\nscoping  but  an  application  was  submitted  in  January  2017.    Wauchope  and\\nNewcastleton  Forest  is  in  scoping.    The  FEI  assesses  the  “almost  certain\\nscenario”  incorporating  Langhope  Rig  and  Windy  Edge  and  the  “possible\\nscenario”,  which  includes  Highlee  Hill,  Pines  Burn  and  Wauchope  and\\nNewcastleton Forest.  ZTVs have been provided of these wind farms (Figures\\n2.7  to  2.10  of  the  FEI).    A  number  of  cumulative  wireframes  have  been\\nprovided.\\n\\n14.64  The  Council’s  Landscape  Architect  has  assessed  the  coincident  cumulative\\nimpact,  which  is  the  impact  on  a  receptor  viewing  more  than  one  wind  farm\\ndevelopment  from  a  single  location.    He  considers  that  there  would  be  little\\ncoincident  cumulative  impact  with  Windy  Edge  but  the  ZTVs  indicate  large\\nareas of overlap suggesting that cumulative effects would occur from Highlee\\nHill  (Figure  2.8),  Wauchope  and  Newcastle  Forest  (Figure  2.9)  and  Pines\\nBurn  (Figure  2.10).    This  is  borne  out  by  Viewpoints  3  (Kirkton  Fort)  and\\nViewpoint  22  (Halleywell  Hill,  north  of  Hawick),  which  show  considerable\\noverlapping  of  the  Birneyknowe,  Wauchope,  Highly  Hill  and  Pines  Burn\\nschemes.\\n\\n14.65  Viewpoint  9  shows  the  potential  views  from  Bonchester  Hill,  where  Pines\\nBurn,  Birneyknowe  and  Wauchope  East  and  West  are  clearly  visible,  with\\nWindy  Edge  and  Langhope  Rig  visible  in  the  far  distance.    Turbines  would\\nbecome  a  dominant  feature  in  these  views  resulting  in  significant  adverse\\nimpacts.  4.66  A  similar  scenario  would  be  apparent  from  Rubers  Law\\n(Viewpoint 11) where the wind farms, if built, would have significant adverse\\neffects that would alter the character of the landscape.\\n\\n14.66  Scottish Natural Heritage advises that these schemes, if built, would result in\\na change to the landscape character of the Hawick and Liddesdale area, and\\npromote a wider sense of an uncoordinated pattern of large scale wind farm\\ndevelopments.    The  different  locational  and  siting  principles  and  the  lack  of\\ncoordination  between  developments  would  have  a  range  of  adverse\\nlandscape and visual impacts across a wide area, contrary to their guidance\\nSiting  and  Designing  Wind  Farms  in  the  Landscape.    In  particular,  Scottish\\nNatural  Heritage  highlight  Birneyknowe  and  Highlee  Hill  and  the  differing\\nscale  and  turbine  layout  of  each  development  in  relation  to  landscape\\ncharacter and the skyline of the Southern Uplands; due to the proximity of the\\ntwo  developments  (7.5km  apart)  there  will  be  some  areas  where  adverse\\ncombined impacts between the two developments will be experienced.  They\\nrefer  to  Viewpoint  22  (Halleywell  Hill)  which  demonstrates  the  awkward\\njuxtaposition of the two proposals.\\n\\n14.67  The  FEI  includes  a  sequential  assessment  for  A  class  roads,  the  Borders\\nCycle Loop and Borders Abbey Way.  The Council’s Landscape Architect has\\nalso assessed the sequential cumulative impact, which is the impact resulting\\nfrom a receptor viewing more than one wind farm development whilst moving\\nthrough  the  landscape.    The  introduction  of  a  wind  farm  into  an  area  where\\nthere  were  previously  no  wind  farms  is  also  considered,  as  an  observer  will\\nencounter  wind  farms  more  frequently  when  travelling  through  an  area\\npreviously free of turbines.\\n\\nPlanning and Building Standards Committee\\n\\n24\\n\\n\\x0c14.68  A variety of sequential cumulative effects can be anticipated with all of these\\ndevelopments for people travelling through the area.  Should all the schemes\\nbe  approved  and  built  the  character  of  the  landscape  would  be  significantly\\naltered  all  the  way  down  to  the  Border  ridge.    The  combination  of  all  four\\npotential schemes would result in significant sequential cumulative impacts on\\nthe  A6088,  with  turbines  becoming  a  dominant  feature  of  the  journey  from\\nCarter  Bar  through  to  Hawick.    Adverse  effects  would  be  experienced  by\\nsouthbound traffic on the A7 approaching Hawick (Viewpoints 13 and 22).\\n\\n14.69  Scottish Natural Heritage as also advised that there would be some degree of\\nsequential impact experienced when travelling along minor roads in respect of\\nBirneyknowe  and  Windy  Edge  and  from  certain  locations  on  the  local  road\\nnetwork with regards the combination of Birneyknowe and Highlee Hill.\\n\\n14.70  For  the  reasons  outlined  above,  it  is  considered  that  if  all  four  proposed\\nschemes are built (Birneyknowe, Highlee Hill, Pines Burn and Wauchope and\\nNewcastleton  Forest)  there  would  be  adverse  coincident  and  sequential\\ncumulative  impacts  resulting  in  a  significant  change  in  the  landscape  to  a\\nwind farm landscape.\\n\\n14.71  The FEI contains an assessment of the cumulative impact on settlements and\\non  residential  receptors  within  2km  of  the  Birneyknowe  site.    The  ZTV\\n(Figures  2.7  –  2.10)  shows  that  Highlee  Hill,  Wauchope  and  Newcastleton\\nForest  and  Pines  Burn  would  be  visible  on  the  northern  edge  of  Hawick.\\nWindy Edge and Highlee Hill would be visible from Bonchester Bridge but no\\nviewpoint or wireframe have been provided to show the extent of this visibility\\nfrom the village.  Highlee Hill, Wauchope and Newcastleton Forest and Pines\\nBurn  would  be  visible  from  Chesters  but  no  updated  viewpoint  or  wireframe\\nhas been provided to assess the impact on this settlement.  Wauchope West\\nand  Pines  Burn  would  be  potentially  visible  from  Hobkirk;  this  is  shown  in\\nViewpoint  10,  though  these  are  from  the  B6357  to  the  east  and  not  from\\nHobkirk itself.\\n\\n14.72  The  impact  on residential  properties  within  2km  are  assessed to  be  slight  to\\nmoderate  adverse  and  so  not  significant  due  to  intervening  landform,\\nforestry/woodlands,  buildings  and  the  distance  between  schemes.    In  the\\nabsence of wireframes and viewpoints from these properties it is not possible\\nto fully assess the cumulative  impact of the one approved and four potential\\nschemes on these properties.\\n\\nCultural Heritage Impacts\\n\\n14.73  One  of  the  criteria  within  policy  ED9  of  the  Local  Development  Plan  for  the\\nassessment of wind farm proposals is the impact on the historic environment,\\nincluding ancient monuments and Listed Buildings and their settings.  Policy\\nEP8 seeks to protect national, regional and local archaeological assets from\\ndevelopment.\\n\\n14.74  The  ES  has  identified  all  designated  cultural  heritage  assets  within  20km  of\\nthe site and a 10km area was examined for non-designated sites and historic\\nstructures.  This concludes that there are 6 significant effects to the setting of\\nthe  Iron  Age  hillforts  at  Rubers  Law,  Bonchester  Hill,  Mid  Hill,  Denholm  Hill\\nand Kirkton Hill and to the setting of the signal station at Rubers Law.  Four\\ncumulative  significant  effects  have  been  identified.    The  FEI  includes  an\\nupdated assessment which concludes that there is one significant effect to the\\n\\nPlanning and Building Standards Committee\\n\\n25\\n\\n\\x0csetting  of  Penchrise  Pen  hillfort  and  a  programme  of  archaeological\\ninvestigation  is  required  in  order  to  mitigate  potential  impacts  to  non-\\ndesignated heritage assets within the site.\\n\\nfarm  has\\n\\nto  directly\\n\\nthe  potential\\n\\n14.75  The  Council’s  Archaeology  Officer  has  objected  to  the  proposal  as  the\\nproposed  wind\\nimpact  unknown\\narchaeological  resources  within  the  wind  farm  boundary  and  pose  indirect\\nimpacts to the settings of regionally significant assets within the scheme and\\nnationally significant Scheduled Monuments outside the wind farm boundary.\\nThere  are  also  impacts  to  historic  landscapes  in  the  area.    Whilst  the  wind\\nfarm design has sought to mitigate direct impacts, the introduction of a wind\\nfarm  in  this  highly  complex  historic  landscape  would  significantly  affect  the\\nability  to  experience,  appreciate  and  understand  the  setting  of  several\\ndesignated and undesignated monuments that add to the sense of time and\\nplace in the area.  Most important and significantly impacted is the setting of\\nthe  ancient  citadel  on  the  summit  of  Rubers  Law,  though  there  are  other\\nmajor significant impacts within 10km of the development.  While some limited\\nmitigation  is  possible,  this  would  not  overcome  the  major  significant  impacts\\nof the scheme on the historic environment.\\n\\n14.76  The  Council’s  Archaeologist has  provided  a  comprehensive  response  that  is\\navailable for Members to view in full on Public Access and this will be sent to\\nthe  ECU  with  the  Council’s  consultation  response.    The  following  is  a\\nsummary of the points raised:\\n\\n  Direct Impacts:\\n\\n14.77  The ES has not comprehensively identified all cultural heritage assets within\\nthe site.  A more comprehensive study is required.  Impacts to known assets\\nshould be mitigated through a programme of either micro-siting infrastructure\\nor  pre-development  evaluation  and  recording  through  an  agreed  Written\\nScheme of Investigation.\\n\\n14.78  Given the potential for the site to contain unknown later prehistoric, medieval\\nand post-medieval archaeology an archaeologist supervised watching brief on\\nall  excavations  where  archaeology  may  be  impacted  is  appropriate  per  an\\nagreed Written Scheme of Investigation.  Pre-development investigation may\\nbe  required  in  some  cases.    These  requirements  should  be  secured  by\\ncondition.\\n\\n14.79  The ES suggests that there will only be one impact to a known feature at the\\nsite, a bucht (URS 6) of low value.  It will be necessary to record this feature\\nbefore development damages it.\\n\\n14.80  Of  more  significant  concern  are  the  potential  for  impacts  to  the  identified\\nWWII era or post-war fixer station located in the north-eastern part of the site.\\nThe  fixer  station  is  of  regional  significance  and  a  clear  indication  of  the\\nwartime  activity  in  the  area; few  survive  in  Scotland  and  the  site  contributes\\nsignificantly  to  the  military  heritage  of  the  area.    The fixer  station,  and  other\\nbuilt  assets  such  as  dykes,  should  be  avoided  and  clearly  marked  on  the\\nground to avoid accidental damage.  Conditions should address these issues.\\n\\n14.81  The  setting  of  the  station  is  also  important.    This  is  linked  to  its  wide  open\\nviews primarily to the north, west and south which played a role in monitoring\\naircraft  and  also  providing  clear  lines  of  sight  for  radio  signal  transmission.\\n\\nPlanning and Building Standards Committee\\n\\n26\\n\\n\\x0cTurbines 12 and 14 would have the effect of overpowering this setting through\\nscale,  dominance  and\\nturbines  and  associated\\ninfrastructure should be removed or relocated.\\n\\nincongruity;\\n\\ntwo\\n\\nthe\\n\\nIndirect Impacts:\\n\\n14.82  Policy  EP8  states  that  proposals  that  affect  a  Scheduled  Monument  or  their\\nsetting must offer substantial benefits that clearly outweigh the national value\\nof  the  site,  show  that  there  are  no  alternative  means  of  meeting  the\\ndevelopment  need  and  include  a  mitigation  strategy  acceptable  to  the\\nCouncil.  Setting is the way in which the surroundings of a structure or place\\ncontribute\\nis  understood,  appreciated  and  experienced.\\nAssessments of setting must account for past and present relationships with\\nnatural  and  man-made  elements  in  the  surroundings  and  how  the  current\\nlandscape  context  contributes  to  the  three  aspects  of  the  setting  definition.\\nThis  must  then  be  balanced  against  the  potential  impacts  of  any  new\\nproposals within a setting.\\n\\nto  how\\n\\nit\\n\\n14.83  The Council’s Archaeology Officer and Historic Environment Scotland identify\\n\\nsignificant adverse impacts to the settings of a number of assets in the area:\\n\\nRubers Law\\n\\n14.84  Historic Environment Scotland advises that the introduction of the turbines will\\ncreate  a  significant  visual  effect  in  most  views  of  the  asset.    In  some  key\\nviews,  such  as  the  junction  of  the  B6399  looking  north  along  Peat  Law  and\\nthe Maiden Paps, the wind farm will completely obscure the distinctive profile\\nof  the  hill.    There  would  be  an  impact  in  the  visual  relationship  between  the\\nasset  and  Penchrise  Hill  where  the  closest  turbines  will  degrade  that  visual\\nrelationship.  Historic Environment Scotland recommends the relocation of the\\nthree  closest  turbines  (1,  5  and  6)  to  mitigate  the  effect  on  the  key  visual\\nrelationship  with  Penchrise  Hill  fort.  As  with  SNH,  the  views  of  Historic\\nScotland have been relayed directly to the Energy Consents Unit.\\n\\n14.85  The  Council’s  Archaeologist  advises  that  Rubers  Law  is  the  most significant\\nand  iconic  of  the  monuments  in  the  vicinity  of  the  proposal  and  home  to  a\\ncomplex  arrangement  of  cultural  heritage  including  a  prehistoric  fort  and  a\\nRoman signal station.   It is the second most visible cultural heritage asset in\\nthe Borders behind Eildon North Hill.  These are two of the largest Iron Age\\nforts  in  Southern  Scotland  and  their  shared  visibility  is  crucial  to  both  sites’\\nsettings,  as  is  the  wide  visibility  of  the  hills  from  long  distance.    This  high\\nvisibility is a key aspect of both Rubers Law’s landscape and cultural heritage.\\nIt  is  understood  and  appreciated  from  within  the  wider  landscape  as  a\\ndominant  landmark.    The  high  visibility  of  the  hill  and  the  wide  panoramic\\nviews  were  a  primary  reason  for  prehistoric  settlement  of  the  hill  and  it\\nremains a significant local landmark.\\n\\nframe\\n\\nthe  visitor’s  experience  of\\n\\n14.86  Of particular relevance are the natural and man-made alignments on this hill,\\nthe  surrounding\\nwhich  significantly\\nlandscape.  There is an intentional, clearly visible south-western entrance to\\nRubers  Law  which  naturally  aims  the  sight  lines  from  within  the  fort  directly\\ntowards the proposed wind farm.  Viewpoint 11 indicates how the wind farm\\nwould impact on this view.    In addition the eye  is drawn towards Penchrise\\nPen  to  the  south  west.    The  visitor  experience  of  the  hill  is  framed  both  by\\nnatural topography and archaeology with a tendency to focus on views to the\\n\\nPlanning and Building Standards Committee\\n\\n27\\n\\n\\x0csouth-west, towards the wind farm.  Wide panoramic views link Rubers  Law\\nto  other  prominent  cultural  heritage  sites  such  as  Eildon  North  Hill,  Peniel\\nHeugh,  Woden  Law  and  Penchrise  Pen.    At  132  metres  tall  (411  metres\\nAOD) the wind farm would be the largest human structure in the landscape,\\nas Viewpoint 1 from the A6088 looking towards Rubers Law shows.\\n\\n14.87  The  view  to  Penchrise  Pen  and  its  surrounding  rich  historic  landscape  is  of\\nprime  importance  to  Rubers  Law’s  setting  and  vice  versa.    It  is the  site of  a\\nsignificant  contemporary  fort  and  the  only  one  in  the  immediate  area  that\\nchallenges Rubers Law for height and dominance.   Viewpoint 11 and Figure\\n2.11b  show  the  summit  and  fort  of  Penchrise  Pen  will  remain  visible  from\\nRubers  Law  but  this  view  would  be  dominated  by  the  wind  farm  in  the\\nforeground,  which  will  significantly  detract  from  the  appreciation  and\\nexperience of both forts’ settings.\\n\\n14.88  While  the  removal  of  turbines  1,  5  and  6  would  improve  the  ability  to\\nunderstand the intervisibility of the sites, the scale of the remaining wind farm\\nelements  would  significantly  impair  the  appreciation  and  experience  of  the\\nforts’ shared dominance of the intervening landscape.\\n\\n14.89  This  development  would  challenge  the  dominance  of  the  hill  and  its\\narchaeology  from  wider  views.    The  historic  setting  of  the  hill  is  intimately\\nbound with its landscape setting and is not merely a function of intervisibility\\nbetween  broadly  contemporary  assets.    The  wide  ranging  views  toward  the\\nhillfort  are  essential  to  its  setting.    The  view  from  Eildon  North  would  be\\nsignificantly  impacted  by  the  development  as,  even  at  a  distance  of  21km\\nfrom  the  nearest  turbine,  the  scale  of  the  development  would  challenge  the\\ndominance of Rubers Law and diminish its scale relative to its surroundings.\\n\\n14.90  The scale and apparent proximity of the development in views to and from the\\nhillfort  on  Rubers  Law,\\ntowards  major\\nthrough  key  sight\\ncontemporary monuments would have a major significant adverse impact on\\nits setting.  While ‘legibility’ of other assets may not be lost, how Rubers Law\\nis  experienced  as  the  primary  cultural  heritage  asset  within  the  wider\\nlandscape  would  change  substantially  with  the  introduction  of  a  competing\\nindustrial element.\\n\\nlines  and\\n\\nPenchrise Pen\\n\\n14.91  There is a clear historic and current relationship between Penchrise Pen and\\nRubers Law.  Both forts were intended to dominate and control a wide swath\\nof  their  shared  landscape.    Penchrise  Pen  is  the  most  dominant  site  in  a\\nlocally rich historic environment and is prominent in the landscape from more\\ndistant  views  and  is  easily  recognisable  from  Rubers  Law.    There  is  mutual\\nunderstandability  of  the  forts  as  citadels  which  links  the  sites  and  the\\nlandscape  in  between,  including  the  wind  farm  site,  and  the  many  broadly\\ncontemporary  settlements  that  are  found  in  it.    Visitors  to  the  Pen  will  look\\nover the northern and eastern views taking in Rubers Law as the key cultural\\nheritage site in the area, but also other prominent sites on the Eildons, Peniel\\nHeugh and Bonchester Hill.  This intervisibility is not incidental.  Turbines 1, 5\\nand 6 in this view would significantly detract from the ability to appreciate and\\nexperience  this  key  element  of  Penchrise  Pen’s  setting  and  this  is\\ndemonstrated by Viewpoint 19.\\n\\nPlanning and Building Standards Committee\\n\\n28\\n\\n\\x0c14.92  The  presence  of  a  large  scale  industrial  wind  farm  below  the  summit  of  the\\nPen would directly compete with its dominance over the local landscape and\\nthe  distant  views  to  the  north  and  east.    This  would  significantly  impair  the\\nappreciation  and  experience  of  the  fort’s  setting  and  the  key  view  towards\\nRubers  Law.    The  presence  of  the  wind  farm  would  result  in  a  significant\\nadverse  impact  that  affects  the  experience  and  appreciation  of  the  forts  in\\ntheir shared setting.\\n\\nKirkton Hill\\n\\n14.93  Historic  Environment  Scotland  consider  that  the  introduction  of  the  turbines\\nwill  create  a  significant  visual  effect  on  the  whole  south  part  of  the  site,\\nincluding degrading views to Bonchester and Southdean hill forts. Turbines 1,\\n5 and 6 are particularly dominant and they recommend that these are re-sited\\nor  removed.    Direct  lines  of  sight  to  Bonchester  and  Southdean  scheduled\\nmonuments should be avoided.\\n\\n14.94  The  Council’s  Archaeologist  advises  that  Kirkton  Hill  retains  a  far  more\\nintimate setting focussed on the Buckstruther Moss, which is within the wind\\nfarm site boundary, and Adderston Lee Moss to the south and east of the fort.\\nViews  to  Rubers  Law,  Bonchester  Hill  and  Southdean  Hill  are  prominent\\nfeatures of the setting of Kirkton Hill and these are dominant in views to the\\neast  across  the  wind  farm  site  (Viewpoint  3).    While  the  setting  relationship\\nwith  Rubers  Law  is  largely  obscured  by  modern  forestry  (which  could  be\\nfelled  within the  life of the  wind farm thus opening up this view), the view to\\nBonchester and Southdean is still integral to the understanding of Kirkton Hill\\nas an Iron Age fort linked to a wider Iron Age historic landscape.  The setting\\nof the fort is therefore tied into the other historic environment features as well\\nas the land within the wind farm site.\\n\\n14.95  Turbines 1, 5, 6, 14 and 15 would dominate this setting and the visual links to\\nBonchester  Hill  and  Southdean  Hill  should  be  removed.    The  dominating\\neffect over these forts from the large scale wind farm as a whole is seen as\\nhaving a major adverse impact.\\n\\nBonchester Hill\\n\\n14.96  The setting of the two Scheduled forts on Bonchester Hill is characterised by\\nclose  associations  with  each  other,  Rubers  Law,  undesignated  sites  on  the\\nhill,  the  Rule  Water  and  Fodderlee  Burn  valleys.    These  settlements  on\\nBonchester Hill were constructed to control this more localised landscape, but\\nmore  distant  views  to  other  hillforts  and  enclosed  prehistoric/early  medieval\\nsettlements is also important to the broader understanding of Bonchester Hill.\\n\\n14.97  The  proposed  wind  farm  would  significantly  detract  from  the  ability  to\\nappreciate and experience the setting to the west of the hill.  The large scale\\nof the development would dominate views of the valleys below the forts and\\nwould challenge the dominance of Rubers Law as the largest feature of this\\nshared  setting  between  the  forts  (Figure  2.11c).    The  appreciation  and\\nexperience  of  the  setting  from  Bonchester  Hill  would  be  heavily  impacted.\\nTurbines  13,  14  and  15  dominate  the  view  of  Kirkton  Hill  to  the  degree  that\\nthe  relationship  with  this  ridge  and  its  historic  landscape  is  significantly\\ndegraded to the extent that the interrelationship between the two areas would\\nbe  barely  legible  (Viewpoint  9).    Bonchester  Hill  is  also  visible  in  the  wider\\nlandscape  as  standing  alongside  Rubers  Law  and  the  two  are  understood\\n\\nPlanning and Building Standards Committee\\n\\n29\\n\\n\\x0cand  appreciated  together  as  prehistoric  forts.    Because  Bonchester  Hill  is\\nlower than, and dominated by, Rubers Law it is easier for large structures to\\ndominate the views of it and its interrelationships.  The impacts to the setting\\nwithin  the forts  when  viewing  the  hill from  other heritage  assets  in  the  wider\\nlandscape  would  be  of  major  significance.    The  scale  of  the  wind  farm  will\\nsignificantly detract from the setting of Bonchester Hill’s forts.\\n\\nMid Hill\\n\\n14.98  Historic  Environment  Scotland  advises  that  while  introduction  of  the  most  of\\nthe turbines would have a significant visual effect, two turbines (1 and 5) will\\nbe very dominant and they recommend deletion or relocation of the turbines\\nto mitigate the effect.\\n\\n14.99  The  Council’s  Archaeologist  advises  that  Mid  Hill  fort  is  associated  with  the\\nSlitrig Valley with Penchrise Pen at its head.  The landscape to the east and\\nalso  the  relationship  with  the  valley  of  the  Adderstonshiels  Burn  are  also\\nimportant.  Mid Hill’s setting is intimately connected with this wider landscape,\\ndominated by Rubers Law in the views to the north and east, and Kirkton and\\nBonchester Hills are visible as historic landscape elements.\\n\\n14.100 Views  to  the  wind  farm  and  the  setting  associated  with  the  burn  valley  and\\nhills  that  constrain  it  would  be  dominated  by  the  large  scale  turbines\\n(Viewpoint 4).  The close proximity of the wind farm from Mid Hill will greatly\\ndiminish Rubers Law and the fort’s shared setting with it by appearing as the\\nlargest structures in the landscape.  Bonchester Hill will be almost completely\\nobscured  by  Turbine  8  and  diminished  by  the  remainder  of  the  wind  farm.\\nTurbines  1,  5  and  8  could  be  removed  but  the  only  means  by  which  the\\ndiminishing effect of Rubers Law and Bonchester Hill can be mitigated in this\\nview  is  through  lowering  the  heights  of  all  turbines  and  greatly  reducing  the\\nscheme’s footprint.\\n\\nDenholm Hill Fort\\n\\n14.101 Historic Environment Scotland advises that the introduction of the turbines will\\nhave a significant visual effect when viewing the proposed development from\\nthe  site  (Viewpoint  5).   They  recommend  deletion  or relocation  of turbines  1\\nand 5 to mitigate the effect.\\n\\nThe Historic Landscape\\n\\n14.102 In  policy  terms,  historic  landscapes  are  material  consideration  per  SPP\\nhowever,  the  Council’s  Archaeologist  considers  that  the  ES  has  not  fully\\nidentified  the  full  extent  of  the  historic  landscape.    The  character  of  this\\nlandscape is linked to a hierarchy of settlements and land management over\\ntime,  with  Rubers  Law  at  the  head  and  subsidiary  settlements  extending  to\\nsouth  and  west  as  far  as  the  Slitrig  and  Teviot  valleys.    All  elements\\ncontribute  to  the  sense  of  connection  fostered  by  interlinking  settings  and\\nvisible connections towards sites across to Rubers Law.\\n\\n14.103 There is a great deal of complexity and interconnected setting in the historic\\nlandscape.    This  means  that  any  large  scale  industrial  development  of  the\\ntype  proposed  which  is  inserted  into  the  landscape  would  be  out  of keeping\\nwith  the  historic  landscape  and  would  add  a  significantly  incongruous  and\\nanachronistic  element  that  dominates  the  experience,  appreciation  and  the\\n\\nPlanning and Building Standards Committee\\n\\n30\\n\\n\\x0cunderstanding of the overall cultural heritage of the area.  The area remains a\\nlegible prehistoric landscape dominated by Rubers Law and its fort and to a\\nlesser degree by the forts on Penchrise Pen and Bonchester Hill.\\n\\n14.104 The  Council’s  Archaeologist  concludes  that  this  scheme  poses  a  number  of\\nhighly  complex  and  interlinking  impacts  to  the  historic  landscape  around\\nRubers Law which cannot be mitigated through design.  This is largely due to\\nthe  presence  of  a\\nlarge  number  of  prehistoric  and  early  medieval\\narchaeological sites in an upland fringe area where destruction through land-\\nuse  has  been  limited  and  interlinking  settings  are  maintained.    The  major\\nsignificant  impacts  of  the  scheme  on  the  historic  landscape  and  settings  of\\ndesignated and non-designated sites and monuments within it are not clearly\\noutweighed by the development.\\n\\nCumulative Impact\\n\\n14.105 The  FEI\\n\\nincludes  an  updated  assessment  of  the  cumulative\\n\\nimpact\\nassessment and includes viewpoints from various hills.  Viewpoint 11 is from\\nthe  summit  of  Rubers  Law  where  the  turbines  proposed  at  Birneyknowe\\nwould  be  potentially  viewed  in  conjunction  with  Wauchope,  Pines  Burn  and\\nwith  Langhope  Rig,  to  a  lesser  extent.    It  is  considered  that  the  cumulative\\nimpacts would be significantly adverse.\\n\\n14.106 The cumulative impacts of the wind farm developments for Kirkton Hill can be\\nseen  in  Viewpoint  3.    Pines  Burn,  Wauchope  and  Highlee  Hill  proposals\\nwould extend across the view with Birneyknowe prominent in the foreground.\\nThe cumulative impacts would greatly dominate and diminish heritage sites in\\nthe landscape through scale, numbers of turbines and kinetic movement.  The\\ncumulative  impact  from  Bonchester  Hill  (Viewpoint  9)  would  be  similar  to\\nthose from Rubers Law and the extent, height and number of turbines would\\npose a major significant impact to the setting of Bonchester Hill.\\n\\n14.107 For the above reasons it is considered that the proposal does not comply with\\nLocal Development Plan policies ED9 and EP8 in relation to the impact of the\\nwind farm on cultural heritage assets.\\n\\n14.108 It  is  accepted  that  the  proposal  would  not  affect  any  Listed  Buildings,\\n\\nConservation Areas or Gardens and Designed Landscapes.\\n\\nResidential Amenity\\n\\n14.109 An assessment of potential noise effects was carried out for the construction,\\noperational  and  decommissioning  stages  of  the  proposed  development  and\\nsubmitted  as  part  of  the  ES.    Environmental  Health  officers  have  assessed\\nnoise issues.  After seeking clarification on certain issues they have raised no\\nobjection to the proposal.\\n\\n14.110 A  condition  is  required  to  secure  the  submission  of  a  Construction  Method\\nStatement  that  includes  predicted  noise  levels  at  sensitive  receptors,  noise\\ncontrol  measures,  procedures  for  communicating  noisy  works  and  dealing\\nwith  noise  complaints  and  mitigation  measures  for  temporary  lighting,\\nvibration  and  dust  suppression.    Further  conditions  can  control  noise  levels\\nduring the operational phase of the development.\\n\\nPlanning and Building Standards Committee\\n\\n31\\n\\n\\x0c14.111 The  ES  has  carried  out  an  assessment  of  the  potential  for  shadow  flicker\\neffects  and  this  has  concluded  that  two  properties,  Birneyknowe  Farmhouse\\nand Birneyknowe Cottage, may be affected.  Both properties are occupied by\\nparties with a financial interest in the proposed development.\\n\\nEcology and Habitat Impacts:\\n\\n14.112 Buckstruther  Moss  SSSI  is  within  the  site  and  Adderstonlee  Moss  SSSI  is\\n\\nadjacent to the north west boundary of the site.\\n\\n14.113 Scottish  Natural  Heritage  has  advised  that  the  development  is  not  likely  to\\nimpact on the internationally important features of interest of the River Tweed\\nSAC  or  the  nationally  important  features  of  interest  of  Buckstruther  Moss\\nSSSI  or  the  Adderstonlee  Moss  SSSI.  They  support  the  preparation  and\\nimplementation  of  an  Engineering  Design  and  Construction  Method\\nStatement (EDCMS).  A Habitat Management Plan (HMP) is required and this\\nwould  include  management  of  the  SSSI  catchments  and  the  management\\nand  enhancement  of  habitats  within  the  site to  increase  nature conservation\\nvalue,  particularly  for  birds  such  as  breeding  waders,  and  mitigation  for  the\\nlikely  losses  to  Curlew  as  a  result  of  the  development.    Conditions  would\\nsecure  mitigation  measures,  the  HMP  and  the  micro-siting  of  turbine  7  to\\nprotect species rich grassland.\\n\\n14.114 The Council’s Ecology Officer has requested the micro-siting of turbines and\\ninfrastructure  to  protective  sensitive  habitats  and  has  identified  that  the\\ndevelopment has the potential to impact on a range of species and habitats.\\nPre-commencement  surveys  are  required  with  the  results  informing  Species\\nMitigation and Management Plans. A Habitat Management and Enhancement\\nPlan,  compensatory  planting  and  post  construction  monitoring  are  also\\nrequired.    In  addition,  an  Ecological  Clerk  of  Works  should  be  appointed  to\\nensure  that  ecological  and  habitat  requirements  are  met  during  construction\\nand decommissioning.\\n\\n14.115 SEPA  originally  objected  to  the  proposal  due  to  the  lack  of  information\\nrelating  to  wetlands  and  peatland.    A  detailed  peat  depth  survey  was\\nsubmitted  with  the  FEI  and  this  confirmed  that  no  peat  is  present  within  the\\nproposed  layout.    SEPA  has  now  withdrawn  their  objection  subject  to\\nappropriate mitigation and conditions securing a Construction Environmental\\nManagement  Plan,  an  Environmental  Management  Plan,  a  Construction\\nMethod Statement and a Decommissioning and Restoration Plan.\\n\\n14.116 Taking into account these consultation responses the proposal does not give\\nrise to any significant biodiversity impacts that cannot be resolved by planning\\nconditions covering the aforementioned matters.\\n\\nTraffic and Road Safety\\n\\n14.117 The  main  traffic  effects  of  the  development  would  be  during  the  8  month\\nconstruction phase with vehicles transporting staff, construction materials and\\nthe turbine components to the site.  Access to the site would be via the A68,\\nA698  and  A6088.    A  new  access  would  be  formed  from  the  A6088  into  the\\nsite with 4.5m by 215m visibility splays.\\n\\nPlanning and Building Standards Committee\\n\\n32\\n\\n\\x0c14.118 Transport  Scotland requires  the route to the  site for  abnormal  loads,  via  the\\nA68  trunk  road,  to  be  agreed  before  deliveries  commence.    This  can  be\\ncontrolled by a condition.\\n\\n14.119 The  Roads  Planning  Service  has  no  objections  to  the  principle  of  this\\nproposal and is satisfied that a suitable access into the site can be achieved\\nfrom the A6088, although the exact location and detail of this must be agreed.\\nThey  do  have  concerns  regarding  the  delivery  of  the  turbine  components,\\nespecially  through  Denholm.    Considerable  works  would  be  required  to  the\\nexisting  road  network,  including  third  party  land.    Exact  details  of  what  is\\nproposed,  reinstatement  and  a  timetable  for  these  works  would  need  to  be\\nagreed.\\n\\n14.120 A Traffic Management Plan would be required, including details for staff travel\\nto  and  from  the  site,  delivery  of  normal  construction  materials  and  the\\nabnormal  loads,  all  accommodation  works  required  to  the  adjoining  road\\nnetwork to facilitate delivery vehicles and the inspection/repair of any damage\\nto the existing road network associated with the construction traffic.\\n\\nPublic Access/Path Network\\n\\n14.121 In  terms  of  public  footpaths,  there  are  no  claimed  Rights  of  Way  or  Core\\nPaths  within  the  site,  though  there  is  one  permissive/customary  path  from\\nBirneyknowe north to the A6088.  Outwith the site there are number of rights\\nof  way  and  promoted  paths  from  which  the  wind  farm  will  be  visible,  in\\nparticular  the  Hawick  Circular  Riding  Route  (right  of  way  BR120)  is\\napproximately 1km away.\\n\\n14.122 The Council’s Access Officer advises that the land Reform Act seeks a right\\nof  responsible  access  through  the  site  once  the  development  is  completed\\nand the tracks should be available for public use.\\n\\n14.123 It is accepted that the proposal would not affect rights of way within or outwith\\nthe site, except during the construction phase, though there would be  visual\\nimpacts upon completion.\\n\\nEconomic Benefit:\\n\\n14.124 Wind  energy  developments  can  make  an  important  contribution  to  the  UK\\neconomy.  Net economic impact is a material planning consideration and local\\nand  community  socio-economic  benefits  include  employment,  associated\\nbusiness and supply chain opportunities.\\n\\n14.125 SPP  states  that  where  a  proposal  is  acceptable  in  land  use  terms,  and\\nconsent is being granted, local authorities may wish to engage in negotiations\\nto  secure  community  benefit.    The  Scottish  Government’s  Good  Practice\\nPrinciples\\nfor  Shared  Ownership  of  Onshore  Renewable  Energy\\nDevelopments  advises  that  where  local  benefits  are  proposed  through  a\\nshared  ownership  opportunity  and  there  is  an  intention  to  secure  a  partner\\norganisation,  this  may  be  taken  into  account  in  determining  a  planning\\napplication.\\n\\n14.126 The  FEI  outlines  the  socio-economic  benefits  of  the  development  and  these\\n\\ninclude:\\n\\nPlanning and Building Standards Committee\\n\\n33\\n\\n\\x0c•  Up to 10% community ownership offer;\\n\\n•  Connect2Renewables  commitments targeting a minimum  local  economic\\nbenefit over the life of the wind farm, which includes funding and support\\nfor  jobs,  training  and  apprenticeships,  improved  facilities,  environmental\\nimprovements, regeneration and sustainable economic growth;\\n\\n•  Funding for a Community Energy Contribution Scheme;\\n\\n•  Business rates;\\n\\n•  Direct  and  indirect  job  creation  during  the  construction  and  operational\\n\\nphase of the wind farm.\\n\\n14.127 The socio-economic benefits of the proposed wind farm development can be\\ntaken  into  account  as  a  material  consideration  in  assessing  this  application.\\nHowever, the potential for such benefits and thereby economic growth in the\\nconsideration  of  energy  proposals  must  be  balanced  with  the  likelihood  that\\nwind  energy  developments  can  and,  in  this  case,  will  result  in  adverse\\nenvironmental  impacts, which  are  potentially  of greater  significance than  the\\neconomic benefits.\\n\\nRenewable Energy Benefits:\\n\\n14.128 NPF3 is clear that the planning system must facilitate the transition to a low\\ncarbon economy and facilitate the development of technologies that will help\\nto  reduce  greenhouse  gas  emissions  from  the  energy  sector.    The  efficient\\nsupply of low carbon and low cost heat and electricity from renewable energy\\nsources  are  vital  to  reducing  greenhouse  gas  emissions  and  can  create\\nsignificant opportunities for communities.  SPP contains the following targets:\\n\\n•  30% of overall energy demand from renewable sources by 2020;\\n•\\n\\nthe equivalent of 100% of electricity demand from renewable sources by\\n2020.\\n\\n14.129 SPP  supports  the  development  of  a  diverse  range  of  electricity  generation\\n\\nfrom renewable energy technologies.\\n\\n14.130 This proposed development would have a total installed capacity of 60MW,\\nwhich would make a reasonable contribution to the provision of sustainable\\nrenewable energy.\\n\\n15.0  CONCLUSION\\n\\n15.1  Scottish  Borders  Council  is  supportive  of  the  principle  of  large  scale  wind\\nenergy development, as reflected in its policies and guidance, which includes\\nstrategic  SESplan  policies.    As  required  by  all  policy  considerations,  the\\nbenefits  of  energy  production  and  the  dis-benefits  of  environmental  impacts\\nmust  be  weighed  carefully  against  one  another.    This  is  made  clear  in  SPP\\nand  reflected  within  the  primary  Local  Development  Plan  2016  policy\\nconsideration for this development, policy ED9.\\n\\n15.2  Several key issues stand out in this report.  There are clear benefits from the\\npotential  production  of  60MW  of  electricity.    This  would  make  a  reasonable\\n\\nPlanning and Building Standards Committee\\n\\n34\\n\\n\\x0ccontribution to the delivery of sustainable renewable energy development and\\nalign with the objective of the Scottish Government to deliver the equivalent of\\n100% of electricity demand from renewable sources by 2020.  The applicant\\nhas also outlined socio-economic benefits.\\n\\n15.3  However,  in  planning  terms,  it  is  considered  that  these  benefits  are\\noutweighed by the environmental impacts, as outlined in this report.  The site\\nlocation and the development proposed for it give rise to a number of issues\\nthat would be difficult to successfully mitigate:\\n\\n•  There  is  limited  containment  within  the  5km  range  and  consequently,\\nsignificant visual impacts from a number of sensitive receptors, including\\npublic  roads  (such  as  the  main  tourist  route  of  the  A7  and  the  A6088),\\nrights  of  way,  iconic  hills  (especially  Rubers  Law  and  Bonchester  Hill)\\nCommon Riding routes and dwellinghouses.\\n\\n•  The  Ironside  Farrar  Landscape  Capacity  and  Cumulative  Impact  Study\\nJuly  2013,  referred  to  within  policy  ED9,  concludes  that  there  is  no\\ncapacity  for  very  large  turbine  development  within  these  Landscape\\nCharacter  Areas  and  the  applicant  has  failed  to  demonstrate  how  the\\nproposed  wind  farm  can  be  accommodated  within  the  site  without\\nunacceptable adverse impacts on the landscape.\\n\\n•  By virtue of the location, scale and extent of the wind farm, the proposal\\nwould  be  out  of  scale  with  the  receiving  landscape  and  would  contrast\\nsignificantly  with  other  landscape  features,  appearing  as  a  dominant\\nfeature in the landscape.\\n\\n•  The  proposal  would  intrude  on  views  into  and  out  of  the  Teviot  Valleys\\n\\nSpecial Landscape Area.\\n\\n•  The  proposal  would  diminish  the  significance  of  Rubers  Law  as  an\\nimportant  landscape  feature  in  the  Borders,  due  to  the  scale  of  the\\nturbines and their proximity, competing with this sensitive skyline feature\\nand adversely affecting its setting.\\n\\n•  The  proposal  would  adversely  affect  the  landscape  setting  of  Hawick  on\\napproach  from  the  north,  dominating  views  and  adversely  affecting\\nHawick’s landscape character.\\n\\n•  The proposal would be highly visible from the iconic panoramic viewpoint\\n\\nat the national border at Carter Bar.\\n\\n•  Significant  cumulative  effects  would  occur,  with  overlapping  with  other\\nproposed  wind  farm  schemes  in  the  surrounding  area  and  turbines\\nbecoming  a  dominant  feature  in  some  views  resulting  in  significant\\nadverse  impacts  and  in  some  cases,  such  as  views  from  Rubers  Law,\\naltering the character of the landscape.  A variety of sequential cumulative\\neffects  can  be  anticipated  for  people  travelling  through  the  area\\nsignificantly  altering  the  character  of  the  landscape,  with  turbines\\nbecoming a dominant feature of some journeys.\\n\\n•  The proposal would result in a number of highly complex and interlinking\\nimpacts  on  the  historic  landscape  around  Rubers  Law  which  cannot  be\\n\\nPlanning and Building Standards Committee\\n\\n35\\n\\n\\x0cmitigated through design.  This is due to the presence of a large number\\nof prehistoric and early medieval archaeological sites in an upland fringe\\narea  where  destruction  has  been  limited  and  where  interlinking  settings\\nare  maintained.    The  major  significant  impacts  of  the  scheme  to  the\\nhistoric  landscape  and  settings  of  designated  and  non-designated  sites\\nand monuments within it are not clearly outweighed by the benefits of the\\nproposed development.\\n\\n15.4  A  proposal  with  this  many  overriding  planning  issues  cannot  be  supported,\\ndespite  the  potential  level  of  renewable  energy  and  economic  benefits  it\\nwould  provide.    The  level  of  environmental  impacts  is  considered  to  be\\nunacceptable and outweighs the benefits that the scheme may bring.\\n\\n16.0  RECOMMENDATION BY CHIEF PLANNING OFFICER\\n\\n16.1  That  the  Council  indicates  to  the  Scottish  Government  that  it  objects  to  the\\napplication for a 15 turbine wind farm on the Birneyknowe site.  The reasons\\nfor the objections are as follows:\\n\\n16.2  Reason for Objection 1: Impact on Landscape Character:\\n\\nThe  proposed  development  would  be  contrary  to  policies  PMD2,  EP5,  and\\nED9  of the  Scottish  Borders  Local  Development  Plan  2016  and  policy  10  of\\nthe  Strategic  Development  Plan  2013  in  that,  taking  into  consideration  the\\nfollowing factors, it would unacceptably harm the Borders landscape:\\n\\n•  There  is  no  capacity  for  very  large  turbine  development  within  these\\nLandscape  Character  Areas  and  the  applicant  has  failed  to  demonstrate\\nhow the proposed wind farm can be accommodated within the site without\\nunacceptable adverse impacts on the landscape.\\n\\n•  By virtue of the location, scale and extent of the wind farm, the proposal\\nwould  be  out  of  scale  with  the  receiving  landscape  and  would  contrast\\nsignificantly  with  other  landscape  features,  appearing  as  a  dominant\\nfeature in the landscape.\\n\\n•  The  proposal  would  intrude  on  views  into  and  out  of  the  Teviot  Valleys\\n\\nSpecial Landscape Area.\\n\\n•  The  proposal  would  diminish  the  significance  of  Rubers  Law  as  an\\nimportant  landscape  feature,  due  to  the  scale  of  the  turbines  and  their\\nproximity,  competing  with  this  sensitive  skyline  feature  and  adversely\\naffecting its setting.\\n\\n•  The  proposal  would  adversely  affect  the  landscape  setting  of  Hawick  on\\napproach  from  the  north,  dominating  views  and  adversely  affecting\\nHawick’s landscape character.\\n\\n•  The proposal would be highly visible from the iconic panoramic viewpoint\\n\\nat the national border at Carter Bar.\\n\\n16.3  Reason for Objection 2: Adverse Visual, Amenity and Cultural Heritage\\n\\nImpacts\\n\\nPlanning and Building Standards Committee\\n\\n36\\n\\n\\x0cThe  proposed  development  would  be  contrary  to  policies  PMD2,  ED9,  EP8\\nand HD3 of the Scottish Borders Local Development Plan 2016 and policy 10\\nof the Strategic Development Plan 2013 in that, taking into consideration the\\nfollowing  factors,  it  would  give  rise  to  unacceptable  visual,  amenity  and\\ncultural heritage impacts:\\n\\n•  Limited  containment  within  the  5km  range  and  consequent  significant\\nvisual  impacts  from  sensitive  receptors,  including  public  roads,  rights  of\\nway, hill summits, Common Riding routes and dwellinghouses.\\n\\n•  Significant  cumulative  impacts  on  sensitive  receptors  and  on  landscape\\ncharacter, with an overlapping of schemes and with turbines becoming a\\ndominant feature in the area.\\n\\n•  Significant  impacts  to  the  historic  landscape  and  settings  of  designated\\nit  has  not  been\\nand  non-designated  sites  and  monuments  and\\ndemonstrated  that  the  benefits  of  the  proposal  will  clearly  outweigh  the\\nheritage value of the asset or its setting.\\n\\n16.4  Advisory Note:\\n\\nShould  the  application  be  considered  for  approval,  conditions  would  be\\nrequired  covering  a  number  of  different  issues,  including  noise  limits,  roads\\nmatters, ecology, archaeology, micro-siting and environmental management\\n\\nApproved by\\nName\\nIan Aikman\\n\\nDesignation\\nChief Planning Officer\\n\\nSignature\\n\\nThe original version of this report has been signed by the Chief Planning Officer and\\nthe signed copy has been retained by the Council.\\n\\nAuthor(s)\\nName\\nJulie Hayward\\n\\nDesignation\\nLead Planning Officer\\n\\nPlanning and Building Standards Committee\\n\\n37\\n\\n\\x0cPlanning and Building Standards Committee\\n\\n38\\n\\n'"
      ]
     },
     "execution_count": 113,
     "metadata": {},
     "output_type": "execute_result"
    }
   ],
   "source": [
    "md = MarkItDown()\n",
    "converted_doc = md.convert(\"council_report.pdf\").text_content\n",
    "converted_doc"
   ]
  },
  {
   "cell_type": "markdown",
   "metadata": {},
   "source": [
    "</br></br>\n",
    "\n",
    "Next we should split it into short chunks. These should be long enough to contain a coherent section of text but short enough to avoid the problems we discussed earlier. There should also be some overlap between the chunks to ensure that the LLM has enough context to understand the text.\n",
    "\n",
    "There are lots of ways to do this: we could split the text by paragraph, by sentence, or by a fixed number of words.\n",
    "\n",
    "For simplicity, we'll just keep adding lines until we reach a certain length.\n",
    "\n",
    "</br></br>"
   ]
  },
  {
   "cell_type": "code",
   "execution_count": 114,
   "metadata": {},
   "outputs": [],
   "source": [
    "def chunk_markdown(md_text, max_chars=3000):\n",
    "    \"\"\"Chunks some markdown by adding new lines until exceeding max_chars.\n",
    "       Each chunk includes the last line of the previous chunk.\"\"\"\n",
    "    \n",
    "    lines = md_text.split(\"\\n\")  # Split into lines\n",
    "    chunks = []\n",
    "    current_chunk = []\n",
    "    current_length = 0\n",
    "\n",
    "    for i, line in enumerate(lines):\n",
    "        # Always include the previous line for context\n",
    "        if i > 0 and current_length + len(line) > max_chars:\n",
    "            chunks.append(\"\\n\".join(current_chunk))  # Save the current chunk\n",
    "            current_chunk = [lines[i-1]]  # Start new chunk with the preceding line\n",
    "            current_length = len(lines[i-1])  # Reset length tracker\n",
    "\n",
    "        current_chunk.append(line)\n",
    "        current_length += len(line) + 1  # +1 for the newline character\n",
    "\n",
    "    # Add the last chunk\n",
    "    if current_chunk:\n",
    "        chunks.append(\"\\n\".join(current_chunk))\n",
    "\n",
    "    return chunks\n"
   ]
  },
  {
   "cell_type": "markdown",
   "metadata": {},
   "source": [
    "Let's get the chunks for the document:"
   ]
  },
  {
   "cell_type": "code",
   "execution_count": 115,
   "metadata": {},
   "outputs": [],
   "source": [
    "chunks = chunk_markdown(converted_doc, max_chars=3000)"
   ]
  },
  {
   "cell_type": "markdown",
   "metadata": {},
   "source": [
    "and get embeddings for every chunk:"
   ]
  },
  {
   "cell_type": "code",
   "execution_count": 116,
   "metadata": {},
   "outputs": [],
   "source": [
    "def get_embedding(text, model=\"text-embedding-3-small\"):\n",
    "    text = text.replace(\"\\n\", \" \")\n",
    "    return client.embeddings.create(input = [text], model=model).data[0].embedding"
   ]
  },
  {
   "cell_type": "code",
   "execution_count": 117,
   "metadata": {},
   "outputs": [
    {
     "name": "stdout",
     "output_type": "stream",
     "text": [
      "........................................"
     ]
    }
   ],
   "source": [
    "chunks_with_embeddings = []\n",
    "\n",
    "for i, chunk in enumerate(chunks):\n",
    "    print(f\".\", end=\"\")\n",
    "    embedding = get_embedding(chunk)\n",
    "    chunks_with_embeddings.append({\"chunk\": i, \"text\": chunk, \"embedding\": embedding})\n",
    "\n",
    "with open(\"chunks_with_embeddings.pkl\", \"wb\") as f: # it's always good to save the data you've received\n",
    "    pickle.dump(chunks_with_embeddings, f)"
   ]
  },
  {
   "cell_type": "markdown",
   "metadata": {},
   "source": [
    "Next, we can get the embedding for our question, and find the most similar chunk to it.\n",
    "\n",
    "We'll `annoy` to find the most relevant chunks to process for a given question."
   ]
  },
  {
   "cell_type": "code",
   "execution_count": 118,
   "metadata": {},
   "outputs": [
    {
     "data": {
      "text/plain": [
       "[2, 37, 3]"
      ]
     },
     "execution_count": 118,
     "metadata": {},
     "output_type": "execute_result"
    }
   ],
   "source": [
    "question = \"How many wind turbines are proposed?\"\n",
    "question_embedding = get_embedding(question)\n",
    "\n",
    "# Define the Annoy index - the index is the data structure that will store the embeddings\n",
    "embedding_dim = len(chunks_with_embeddings[0][\"embedding\"])  # Get vector size\n",
    "annoy_index = AnnoyIndex(embedding_dim, \"angular\")  # Angular distance for similarity\n",
    "\n",
    "# Add chunks to Annoy index\n",
    "for item in chunks_with_embeddings:\n",
    "    annoy_index.add_item(item[\"chunk\"], item[\"embedding\"])\n",
    "\n",
    "# Build the index (the argument is the number of 'trees' - more trees = more accurate but slower)\n",
    "annoy_index.build(10)\n",
    "\n",
    "# Find the most similar chunk to the question\n",
    "n_nearest = 3\n",
    "nearest_chunks = annoy_index.get_nns_by_vector(question_embedding, n_nearest, search_k=-1, include_distances=False)\n",
    "\n",
    "nearest_chunks"
   ]
  },
  {
   "cell_type": "markdown",
   "metadata": {},
   "source": [
    "Let's take a look at the most relevant chunk it found:"
   ]
  },
  {
   "cell_type": "code",
   "execution_count": 119,
   "metadata": {},
   "outputs": [
    {
     "data": {
      "text/plain": [
       "'offices  and  welfare  facilities,  toilet  facilities  with  a  packaged  treatment\\nsystem,  containerised  storage  areas,  parking  for  cars  and  construction\\nvehicles and a bunded area for the storage of fuels;\\n\\n•  Nine water course crossings;\\n\\n•  Two borrow pits to provide stone for the development, to be reinstated\\n\\npost-construction.\\n\\n4.2\\n\\n4.3\\n\\n4.4\\n\\n5.0\\n\\nThe  development  would  have  an  18  month  construction  period.    The  wind\\nfarm would have a 25 year operational life and a 12 month decommissioning\\nperiod.\\n\\nThe turbines would be three bladed, 80m to hub, with a 104m rotor diameter\\nand  52m  long  blades.    The  precise  model  would  be  selected  upon  consent\\nbeing granted.   They  would  have  a  semi-matt  light grey finish  and  would  be\\ncomputer  controlled  to  face  the  optimum  wind  direction.    The  proposal\\nincludes  a  micro-siting  allowance  of  50m  for  the  turbines  and  associated\\ninfrastructure  post  consent  following  detailed  ground  investigation  and\\nclearance.    The  wind  farm  would  be  connected  to  the  grid  at  the  Hawick\\nsubstation via overhead and/or underground cabling.\\n\\nThere is one 80m meteorological mast on the site but this would be replaced\\nwith a permanent 80m high slim-line lattice mast to monitor the turbines.\\n\\nNEIGHBOURING  SITES/SCHEMES  RELEVANT  TO  CONSIDERATION  OF\\nTHE CURRANT PROPOSAL:\\n\\n5.1\\n\\nOperational:\\n\\nLanghope Rig is situated 15km to the north west of the site and consists of\\n10 turbines 121.2m in height.\\n\\n5.2\\n\\nConsented\\n\\nWindy Edge is approximately 11.6km to the south west of the proposal and\\nwould consist of 9 turbines, 3 at 110m in height and 6 at 125m.\\n\\nPlanning and Building Standards Committee\\n\\n3\\n\\n\\x0c5.3\\n\\nIn the Planning System\\n\\nHighlee  Hill  is  a  planning  application  for  13  turbines,  11  at  176m  in  height\\nand 2 at 150m situated 7.5km to the south east of the Birneyknowe site.  This\\nwas lodged in October 2016 and remains under consideration.\\n\\nPines  Burn  is  a  planning  application  for  13  turbines,  7  at  158.5m  in  height\\nand 5 at 130m situated 3.4km to the south of the site.  This was submitted in\\nJanuary 2017 and is under consideration.\\n\\n5.4\\n\\nOther Schemes\\n\\nThe  only  other  relevant  wind  energy  developments  within  35km  of  this  site\\nare:\\n\\nLong Park: The original scheme for 19 turbines at height of 100 and 110m is\\noperational  and  is  situated  approximately  30km  to  the  north  of  the\\nBirneyknowe  site.    A  Section  36  application  to  extend  the  wind  farm  with  a\\nfurther  7  turbines  of  100m  to  110m  is  with  the  ECU  following  the  Council’s\\ndecision to object to the proposal in March 2016.\\n\\nWauchope and Newcastleton Forest: A scoping opinion was issued by the\\nECU in  March 2016 based on 90 turbines with a tip height of 132m at three\\nseparate sites (Wauchope East, Wauchope West and Newcastleton Forest).\\n\\n6.0\\n\\n6.1\\n\\n6.2\\n\\n7.0\\n\\n7.1\\n\\nPLANNING HISTORY\\n'"
      ]
     },
     "execution_count": 119,
     "metadata": {},
     "output_type": "execute_result"
    }
   ],
   "source": [
    "chunks[nearest_chunks[0]]"
   ]
  },
  {
   "cell_type": "markdown",
   "metadata": {},
   "source": [
    "It looks like a good match! Let's pass it to the LLM to get some information. \n",
    "\n",
    "Not every chunk will be relevant, so we should check the response to make sure it's useful."
   ]
  },
  {
   "cell_type": "code",
   "execution_count": 120,
   "metadata": {},
   "outputs": [],
   "source": [
    "messages = [\n",
    "    {\"role\": \"system\", \"content\": \"You are an assistant that answers questions about council reports.  Not every question will be answerable. Follow the specified JSON structure exactly.\"},\n",
    "    {\"role\": \"user\", \"content\": '''How many turbines are proposed for Birneyknowe? \n",
    "        Answer with the format {\n",
    "        \"answer_contained\": bool, whether the text contains enough information to confidently answer the question\n",
    "          \"explanation\": str, explanation of how you arrived at the answer \n",
    "     \"evidence\": str, a direct quote from the report that supports your answer\n",
    "     \"value\": int, number of turbines proposed\n",
    "        }\n",
    "        '''},\n",
    "]\n",
    "\n",
    "responses = []\n",
    "\n",
    "for i, chunk in enumerate(nearest_chunks):\n",
    "    response = client.chat.completions.create(\n",
    "        model=\"gpt-4o-mini\",\n",
    "        messages=messages + [{\"role\": \"assistant\", \"content\": chunks[chunk]}]\n",
    "    )\n",
    "    responses.append(response.choices[0].message.content)"
   ]
  },
  {
   "cell_type": "markdown",
   "metadata": {},
   "source": [
    "Do any of the chunks provide the answer?"
   ]
  },
  {
   "cell_type": "code",
   "execution_count": 121,
   "metadata": {},
   "outputs": [
    {
     "data": {
      "text/plain": [
       "[{'answer_contained': False,\n",
       "  'explanation': 'The text does not provide a specific number of turbines proposed for Birneyknowe. While it discusses details about the turbines, it lacks a quantitative figure.',\n",
       "  'evidence': 'There is no direct quote from the report that specifies the number of turbines proposed for Birneyknowe.',\n",
       "  'value': None},\n",
       " {'answer_contained': False,\n",
       "  'explanation': 'The provided text discusses various environmental impacts and considerations regarding a proposed wind farm at Birneyknowe, but it does not specify the number of turbines proposed.',\n",
       "  'evidence': '',\n",
       "  'value': 0},\n",
       " {'answer_contained': True,\n",
       "  'explanation': 'The report discusses the evolution of the design from an initial proposal of 20 turbines to the current proposal of 15 turbines. This indicates a definitive number for the current proposal.',\n",
       "  'evidence': 'The design has evolved to the 15 turbines now proposed following feedback from consultees and a full technical appraisal.',\n",
       "  'value': 15}]"
      ]
     },
     "execution_count": 121,
     "metadata": {},
     "output_type": "execute_result"
    }
   ],
   "source": [
    "responses = [json.loads(response) for response in responses]\n",
    "responses"
   ]
  }
 ],
 "metadata": {
  "kernelspec": {
   "display_name": "base",
   "language": "python",
   "name": "python3"
  },
  "language_info": {
   "codemirror_mode": {
    "name": "ipython",
    "version": 3
   },
   "file_extension": ".py",
   "mimetype": "text/x-python",
   "name": "python",
   "nbconvert_exporter": "python",
   "pygments_lexer": "ipython3",
   "version": "3.11.4"
  }
 },
 "nbformat": 4,
 "nbformat_minor": 2
}
