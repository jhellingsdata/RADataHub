{
  "cells": [
    {
      "cell_type": "markdown",
      "metadata": {},
      "source": [
        "**Finn McEvoy** - Practical Data Science for Economists 2024"
      ]
    },
    {
      "cell_type": "markdown",
      "metadata": {
        "id": "7VRnyJaPt_9d"
      },
      "source": [
        "<a href=\"https://colab.research.google.com/drive/1RXWtKSScwXJL3QZrk_WHzkPa6RXaDHN8?usp=sharing\" target=\"_blank\"><img src=\"https://colab.research.google.com/assets/colab-badge.svg\" alt=\"Open In Colab\"/></a>"
      ]
    },
    {
      "cell_type": "markdown",
      "metadata": {
        "id": "cCSguzCst_9d"
      },
      "source": [
        "# Transforming Data\n",
        "\n",
        "The bread and butter of a data workflow is cleaning and preparation, taking raw datasets and transforming them into a useful form.\n",
        "\n",
        "Today we're going to produce a chart using two series from the Economics Observatory API that we'll transform with `Pandas` and present with `Vega-lite`. We will produce a chart showing Indian Exports and Imports as a percentage of GDP using data sourced from the API.\n",
        "\n",
        "</br></br></br></br>"
      ]
    },
    {
      "cell_type": "markdown",
      "metadata": {
        "id": "eckIPtjLt_9g"
      },
      "source": [
        "## Introducing Tools: `Requests`\n",
        "\n",
        "The `Requests` module allows us to fetch resources from the internet, whether these are `CSVs`, `JSONs`, images, `HTML` or anything else. This is particuarly important for requesting data from APIs.\n",
        "\n",
        "</br>\n",
        "\n",
        "It is simple to use. Usually allow we need to do is:\n",
        "\n",
        "1. Make a request with `requests.get` and our target URL. For example we can request something from our GitHub repos:\n",
        "\n",
        "    `req = requests.get(\"https://raw.githubusercontent.com/mclass-user/mclass-user.github.io/main/s2_chart1.json\")`\n",
        "</br>\n",
        "</br>\n",
        "2. Access the fetched data. Using `req.json()` for JSON data or `req.text` for most other data. For example, we can see the returned JSON for the chart we just fetched:\n",
        "    </br>\n",
        "    </br>\n",
        "    `data = req.json()`"
      ]
    },
    {
      "cell_type": "markdown",
      "metadata": {},
      "source": [
        "First, let's import the modules we'll be using."
      ]
    },
    {
      "cell_type": "code",
      "execution_count": 5,
      "metadata": {},
      "outputs": [],
      "source": [
        "import requests\n",
        "import pandas as pd"
      ]
    },
    {
      "cell_type": "code",
      "execution_count": 3,
      "metadata": {
        "id": "A0BhyaYIt_9g",
        "outputId": "4c6dc342-2bb2-4d3c-8a3b-d580e8b30aa9"
      },
      "outputs": [
        {
          "name": "stdout",
          "output_type": "stream",
          "text": [
            "{'$schema': 'https://vega.github.io/schema/vega-lite/v5.json', 'title': {'text': 'Human Development Index ', 'subtitle': [\"P21 Countries' HDI, most recent year\", 'Source: UN']}, 'description': 'A simple bar chart with embedded data.', 'data': {'values': [{'Country': 'Bangladesh', 'HDI': 0.661}, {'Country': 'Brazil', 'HDI': 0.754}, {'Country': 'China', 'HDI': 0.768}, {'Country': 'DR Congo', 'HDI': 0.479}, {'Country': 'Egypt', 'HDI': 0.731}, {'Country': 'Ethiopia', 'HDI': 0.498}, {'Country': 'Germany', 'HDI': 0.942}, {'Country': 'India', 'HDI': 0.633}, {'Country': 'Indonesia', 'HDI': 0.705}, {'Country': 'Iran', 'HDI': 0.774}, {'Country': 'Japan', 'HDI': 0.925}, {'Country': 'Mexico', 'HDI': 0.758}, {'Country': 'Nigeria', 'HDI': 0.535}, {'Country': 'Pakistan', 'HDI': 0.544}, {'Country': 'Philippines', 'HDI': 0.699}, {'Country': 'Russia', 'HDI': 0.829}, {'Country': 'Thailand', 'HDI': 0.8}, {'Country': 'Turkey', 'HDI': 0.838}, {'Country': 'United Kingdom', 'HDI': 0.929}, {'Country': 'United States', 'HDI': 0.921}, {'Country': 'Vietnam', 'HDI': 0.703}]}, 'mark': 'bar', 'encoding': {'y': {'field': 'Country', 'type': 'nominal', 'sort': '-x', 'title': None}, 'x': {'field': 'HDI', 'type': 'quantitative'}}, 'width': 300, 'height': 400}\n"
          ]
        }
      ],
      "source": [
        "response = requests.get(\"https://raw.githubusercontent.com/mclass-user/mclass-user.github.io/main/s2_chart1.json\")\n",
        "\n",
        "# Let's try and view the data\n",
        "print(response.json())\n"
      ]
    },
    {
      "cell_type": "markdown",
      "metadata": {},
      "source": [
        "So we've managed to bring JSON data from online into our Python Notebook using the `requests` module."
      ]
    },
    {
      "cell_type": "markdown",
      "metadata": {
        "id": "Ron1r8hRt_9g"
      },
      "source": [
        "</br></br>\n",
        "</br></br>\n",
        "</br>\n",
        "</br>\n",
        "</br>\n",
        "\n",
        "# Transforming Data: Indian Exports and Imports\n",
        "\n",
        "We want to produce a chart showing Indian exports and Imports as a percentage of GDP. To do this, we can use three series from the [Economics Observatory API](https://www.economicsobservatory.com/data-hub):\n",
        "1. Indian Exports\n",
        "2. Indian Imports\n",
        "3. Indian GDP\n",
        "\n",
        "</br>\n",
        "</br>\n",
        "\n",
        "We can find the API urls for these from the [Data-Hub](https://www.economicsobservatory.com/data-hub)\n",
        "\n",
        "<img\n",
        "style=\"max-height: 350px;\n",
        "    width: auto;\" src=\"https://raw.githubusercontent.com/jhellingsdata/RADataHub/main/misc/Masterclass/section%205/images/data-hub.png\">\n",
        "</img>\n",
        "\n",
        "</br>\n",
        "</br>\n",
        "\n",
        "We find:\n",
        "\n",
        "1. **Exports**: https://api.economicsobservatory.com/ind/expo\n",
        "2. **Imports**: https://api.economicsobservatory.com/ind/impo\n",
        "3. **GDP**: https://api.economicsobservatory.com/ind/gdpa\n",
        "\n",
        "</br>\n",
        "</br>\n",
        "\n",
        "\n",
        "Let's try requesting the first of these, `Exports` and see how it's formatted."
      ]
    },
    {
      "cell_type": "code",
      "execution_count": 4,
      "metadata": {
        "id": "sKeQ7Tq1t_9g",
        "outputId": "1954f6e8-edc9-4c95-c01b-234b2defcd0e"
      },
      "outputs": [
        {
          "data": {
            "text/plain": [
              "{'author': 'Economics Observatory',\n",
              " 'source': 'CSO',\n",
              " 'url': 'https://eco-temp-cache.s3.eu-west-2.amazonaws.com/ind/expo.json',\n",
              " 'data': [{'date': '2011-04-01', 'value': 493074.88},\n",
              "  {'date': '2011-07-01', 'value': 503937.31},\n",
              "  {'date': '2011-10-01', 'value': 557993.27},\n",
              "  {'date': '2012-01-01', 'value': 588925.54},\n",
              "  {'date': '2012-04-01', 'value': 555655.03},\n",
              "  {'date': '2012-07-01', 'value': 694342.2},\n",
              "  {'date': '2012-10-01', 'value': 566043.39},\n",
              "  {'date': '2013-01-01', 'value': 623666.38},\n",
              "  {'date': '2013-04-01', 'value': 616226.48},\n",
              "  {'date': '2013-07-01', 'value': 747412.79},\n",
              "  {'date': '2013-10-01', 'value': 726997.88},\n",
              "  {'date': '2014-01-01', 'value': 766144.14},\n",
              "  {'date': '2014-04-01', 'value': 706895.73},\n",
              "  {'date': '2014-07-01', 'value': 727107.86},\n",
              "  {'date': '2014-10-01', 'value': 732620.04},\n",
              "  {'date': '2015-01-01', 'value': 697012.65},\n",
              "  {'date': '2015-04-01', 'value': 671293.85},\n",
              "  {'date': '2015-07-01', 'value': 687100.61},\n",
              "  {'date': '2015-10-01', 'value': 677377.36},\n",
              "  {'date': '2016-01-01', 'value': 692875.61},\n",
              "  {'date': '2016-04-01', 'value': 704794.9},\n",
              "  {'date': '2016-07-01', 'value': 720886.17},\n",
              "  {'date': '2016-10-01', 'value': 743329.32},\n",
              "  {'date': '2017-01-01', 'value': 779761.72},\n",
              "  {'date': '2017-04-01', 'value': 758515.48},\n",
              "  {'date': '2017-07-01', 'value': 784764.95},\n",
              "  {'date': '2017-10-01', 'value': 817204.81},\n",
              "  {'date': '2018-01-01', 'value': 851035.33},\n",
              "  {'date': '2018-04-01', 'value': 870373.84},\n",
              "  {'date': '2018-07-01', 'value': 924644.95},\n",
              "  {'date': '2018-10-01', 'value': 983151.75},\n",
              "  {'date': '2019-01-01', 'value': 988122.99},\n",
              "  {'date': '2019-04-01', 'value': 930664.81},\n",
              "  {'date': '2019-07-01', 'value': 927287.42},\n",
              "  {'date': '2019-10-01', 'value': 963769.84},\n",
              "  {'date': '2020-01-01', 'value': 930465.76},\n",
              "  {'date': '2020-04-01', 'value': 748963.05},\n",
              "  {'date': '2020-07-01', 'value': 928387.21},\n",
              "  {'date': '2020-10-01', 'value': 958567.45},\n",
              "  {'date': '2021-01-01', 'value': 1068615.21},\n",
              "  {'date': '2021-04-01', 'value': 1128349.43},\n",
              "  {'date': '2021-07-01', 'value': 1225739.2},\n",
              "  {'date': '2021-10-01', 'value': 1312634.89},\n",
              "  {'date': '2022-01-01', 'value': 1397161.93},\n",
              "  {'date': '2022-04-01', 'value': 1463323.34}],\n",
              " 'title': 'Exports',\n",
              " 'subtitle': 'Current Rs. in crore | ODI through ECO API',\n",
              " 'description': 'Current Rs. in crore',\n",
              " 'units': None,\n",
              " 'raw': [{'date': '2011-04-01', 'value': 493074.88},\n",
              "  {'date': '2011-07-01', 'value': 503937.31},\n",
              "  {'date': '2011-10-01', 'value': 557993.27},\n",
              "  {'date': '2012-01-01', 'value': 588925.54},\n",
              "  {'date': '2012-04-01', 'value': 555655.03},\n",
              "  {'date': '2012-07-01', 'value': 694342.2},\n",
              "  {'date': '2012-10-01', 'value': 566043.39},\n",
              "  {'date': '2013-01-01', 'value': 623666.38},\n",
              "  {'date': '2013-04-01', 'value': 616226.48},\n",
              "  {'date': '2013-07-01', 'value': 747412.79},\n",
              "  {'date': '2013-10-01', 'value': 726997.88},\n",
              "  {'date': '2014-01-01', 'value': 766144.14},\n",
              "  {'date': '2014-04-01', 'value': 706895.73},\n",
              "  {'date': '2014-07-01', 'value': 727107.86},\n",
              "  {'date': '2014-10-01', 'value': 732620.04},\n",
              "  {'date': '2015-01-01', 'value': 697012.65},\n",
              "  {'date': '2015-04-01', 'value': 671293.85},\n",
              "  {'date': '2015-07-01', 'value': 687100.61},\n",
              "  {'date': '2015-10-01', 'value': 677377.36},\n",
              "  {'date': '2016-01-01', 'value': 692875.61},\n",
              "  {'date': '2016-04-01', 'value': 704794.9},\n",
              "  {'date': '2016-07-01', 'value': 720886.17},\n",
              "  {'date': '2016-10-01', 'value': 743329.32},\n",
              "  {'date': '2017-01-01', 'value': 779761.72},\n",
              "  {'date': '2017-04-01', 'value': 758515.48},\n",
              "  {'date': '2017-07-01', 'value': 784764.95},\n",
              "  {'date': '2017-10-01', 'value': 817204.81},\n",
              "  {'date': '2018-01-01', 'value': 851035.33},\n",
              "  {'date': '2018-04-01', 'value': 870373.84},\n",
              "  {'date': '2018-07-01', 'value': 924644.95},\n",
              "  {'date': '2018-10-01', 'value': 983151.75},\n",
              "  {'date': '2019-01-01', 'value': 988122.99},\n",
              "  {'date': '2019-04-01', 'value': 930664.81},\n",
              "  {'date': '2019-07-01', 'value': 927287.42},\n",
              "  {'date': '2019-10-01', 'value': 963769.84},\n",
              "  {'date': '2020-01-01', 'value': 930465.76},\n",
              "  {'date': '2020-04-01', 'value': 748963.05},\n",
              "  {'date': '2020-07-01', 'value': 928387.21},\n",
              "  {'date': '2020-10-01', 'value': 958567.45},\n",
              "  {'date': '2021-01-01', 'value': 1068615.21},\n",
              "  {'date': '2021-04-01', 'value': 1128349.43},\n",
              "  {'date': '2021-07-01', 'value': 1225739.2},\n",
              "  {'date': '2021-10-01', 'value': 1312634.89},\n",
              "  {'date': '2022-01-01', 'value': 1397161.93},\n",
              "  {'date': '2022-04-01', 'value': 1463323.34}]}"
            ]
          },
          "execution_count": 4,
          "metadata": {},
          "output_type": "execute_result"
        }
      ],
      "source": [
        "exports_req = requests.get(\"https://api.economicsobservatory.com/ind/expo\")\n",
        "exports_req.json()"
      ]
    },
    {
      "cell_type": "markdown",
      "metadata": {
        "id": "VIizFDg0t_9h"
      },
      "source": [
        "</br>\n",
        "</br>\n",
        "\n",
        "This response contains some metadata, then the actual data is nested in the `data` key. (Recall we looked at accessing nested dictionaries in the PythonBasics workbook.)\n",
        "\n",
        "Since we just care about the data itself, let's select just what's inside this `data` key and then make a dataframe out of it."
      ]
    },
    {
      "cell_type": "code",
      "execution_count": 7,
      "metadata": {},
      "outputs": [
        {
          "data": {
            "text/html": [
              "<div>\n",
              "<style scoped>\n",
              "    .dataframe tbody tr th:only-of-type {\n",
              "        vertical-align: middle;\n",
              "    }\n",
              "\n",
              "    .dataframe tbody tr th {\n",
              "        vertical-align: top;\n",
              "    }\n",
              "\n",
              "    .dataframe thead th {\n",
              "        text-align: right;\n",
              "    }\n",
              "</style>\n",
              "<table border=\"1\" class=\"dataframe\">\n",
              "  <thead>\n",
              "    <tr style=\"text-align: right;\">\n",
              "      <th></th>\n",
              "      <th>date</th>\n",
              "      <th>value</th>\n",
              "    </tr>\n",
              "  </thead>\n",
              "  <tbody>\n",
              "    <tr>\n",
              "      <th>0</th>\n",
              "      <td>2011-04-01</td>\n",
              "      <td>493074.88</td>\n",
              "    </tr>\n",
              "    <tr>\n",
              "      <th>1</th>\n",
              "      <td>2011-07-01</td>\n",
              "      <td>503937.31</td>\n",
              "    </tr>\n",
              "    <tr>\n",
              "      <th>2</th>\n",
              "      <td>2011-10-01</td>\n",
              "      <td>557993.27</td>\n",
              "    </tr>\n",
              "    <tr>\n",
              "      <th>3</th>\n",
              "      <td>2012-01-01</td>\n",
              "      <td>588925.54</td>\n",
              "    </tr>\n",
              "    <tr>\n",
              "      <th>4</th>\n",
              "      <td>2012-04-01</td>\n",
              "      <td>555655.03</td>\n",
              "    </tr>\n",
              "  </tbody>\n",
              "</table>\n",
              "</div>"
            ],
            "text/plain": [
              "         date      value\n",
              "0  2011-04-01  493074.88\n",
              "1  2011-07-01  503937.31\n",
              "2  2011-10-01  557993.27\n",
              "3  2012-01-01  588925.54\n",
              "4  2012-04-01  555655.03"
            ]
          },
          "execution_count": 7,
          "metadata": {},
          "output_type": "execute_result"
        }
      ],
      "source": [
        "exports_response = exports_req.json()\n",
        "exports_data = exports_response['data']\n",
        "exports_df = pd.DataFrame(exports_data)\n",
        "\n",
        "exports_df.head(5)"
      ]
    },
    {
      "cell_type": "markdown",
      "metadata": {},
      "source": [
        "We'll rename the `value` column to `export` so we can keep track of what this data is when we merge it."
      ]
    },
    {
      "cell_type": "code",
      "execution_count": 8,
      "metadata": {},
      "outputs": [
        {
          "data": {
            "text/html": [
              "<div>\n",
              "<style scoped>\n",
              "    .dataframe tbody tr th:only-of-type {\n",
              "        vertical-align: middle;\n",
              "    }\n",
              "\n",
              "    .dataframe tbody tr th {\n",
              "        vertical-align: top;\n",
              "    }\n",
              "\n",
              "    .dataframe thead th {\n",
              "        text-align: right;\n",
              "    }\n",
              "</style>\n",
              "<table border=\"1\" class=\"dataframe\">\n",
              "  <thead>\n",
              "    <tr style=\"text-align: right;\">\n",
              "      <th></th>\n",
              "      <th>date</th>\n",
              "      <th>exports</th>\n",
              "    </tr>\n",
              "  </thead>\n",
              "  <tbody>\n",
              "    <tr>\n",
              "      <th>0</th>\n",
              "      <td>2011-04-01</td>\n",
              "      <td>493074.88</td>\n",
              "    </tr>\n",
              "    <tr>\n",
              "      <th>1</th>\n",
              "      <td>2011-07-01</td>\n",
              "      <td>503937.31</td>\n",
              "    </tr>\n",
              "    <tr>\n",
              "      <th>2</th>\n",
              "      <td>2011-10-01</td>\n",
              "      <td>557993.27</td>\n",
              "    </tr>\n",
              "    <tr>\n",
              "      <th>3</th>\n",
              "      <td>2012-01-01</td>\n",
              "      <td>588925.54</td>\n",
              "    </tr>\n",
              "    <tr>\n",
              "      <th>4</th>\n",
              "      <td>2012-04-01</td>\n",
              "      <td>555655.03</td>\n",
              "    </tr>\n",
              "  </tbody>\n",
              "</table>\n",
              "</div>"
            ],
            "text/plain": [
              "         date    exports\n",
              "0  2011-04-01  493074.88\n",
              "1  2011-07-01  503937.31\n",
              "2  2011-10-01  557993.27\n",
              "3  2012-01-01  588925.54\n",
              "4  2012-04-01  555655.03"
            ]
          },
          "execution_count": 8,
          "metadata": {},
          "output_type": "execute_result"
        }
      ],
      "source": [
        "exports_df = exports_df.rename(columns={\"value\": \"exports\"})\n",
        "exports_df.head(5)"
      ]
    },
    {
      "cell_type": "markdown",
      "metadata": {
        "id": "BoM5DFlRt_9h"
      },
      "source": [
        "</br>\n",
        "</br>\n",
        "</br>\n",
        "\n",
        "We now have a Pandas `DataFrame` containing the exports data. Let's do the same for imports and GDP."
      ]
    },
    {
      "cell_type": "code",
      "execution_count": 9,
      "metadata": {
        "id": "mU59jAJQt_9h"
      },
      "outputs": [],
      "source": [
        "imports_url = \"https://api.economicsobservatory.com/ind/impo\"\n",
        "imports_req = requests.get(imports_url) # This is the request\n",
        "imports_response = imports_req.json() # This is the response in JSON format\n",
        "imports_data = imports_response['data'] # We only want the data part of the response, not the metadata\n",
        "imports_df = pd.DataFrame(imports_data) # We convert the data to a DataFrame\n",
        "imports_df = imports_df.rename(columns={\"value\": \"imports\"}) # We rename the value column to imports\n",
        "\n",
        "gdp_url = \"https://api.economicsobservatory.com/ind/gdpa\"\n",
        "gdp_req = requests.get(gdp_url)\n",
        "gdp_response = gdp_req.json()\n",
        "gdp_data = gdp_response['data']\n",
        "gdp_df = pd.DataFrame(gdp_data)\n",
        "gdp_df = gdp_df.rename(columns={\"value\": \"gdp\"})"
      ]
    },
    {
      "cell_type": "code",
      "execution_count": 11,
      "metadata": {},
      "outputs": [
        {
          "data": {
            "text/html": [
              "<div>\n",
              "<style scoped>\n",
              "    .dataframe tbody tr th:only-of-type {\n",
              "        vertical-align: middle;\n",
              "    }\n",
              "\n",
              "    .dataframe tbody tr th {\n",
              "        vertical-align: top;\n",
              "    }\n",
              "\n",
              "    .dataframe thead th {\n",
              "        text-align: right;\n",
              "    }\n",
              "</style>\n",
              "<table border=\"1\" class=\"dataframe\">\n",
              "  <thead>\n",
              "    <tr style=\"text-align: right;\">\n",
              "      <th></th>\n",
              "      <th>date</th>\n",
              "      <th>imports</th>\n",
              "    </tr>\n",
              "  </thead>\n",
              "  <tbody>\n",
              "    <tr>\n",
              "      <th>0</th>\n",
              "      <td>2011-04-01</td>\n",
              "      <td>626234.56</td>\n",
              "    </tr>\n",
              "    <tr>\n",
              "      <th>1</th>\n",
              "      <td>2011-07-01</td>\n",
              "      <td>636896.39</td>\n",
              "    </tr>\n",
              "  </tbody>\n",
              "</table>\n",
              "</div>"
            ],
            "text/plain": [
              "         date    imports\n",
              "0  2011-04-01  626234.56\n",
              "1  2011-07-01  636896.39"
            ]
          },
          "execution_count": 11,
          "metadata": {},
          "output_type": "execute_result"
        }
      ],
      "source": [
        "imports_df.head(2)"
      ]
    },
    {
      "cell_type": "code",
      "execution_count": 12,
      "metadata": {},
      "outputs": [
        {
          "data": {
            "text/html": [
              "<div>\n",
              "<style scoped>\n",
              "    .dataframe tbody tr th:only-of-type {\n",
              "        vertical-align: middle;\n",
              "    }\n",
              "\n",
              "    .dataframe tbody tr th {\n",
              "        vertical-align: top;\n",
              "    }\n",
              "\n",
              "    .dataframe thead th {\n",
              "        text-align: right;\n",
              "    }\n",
              "</style>\n",
              "<table border=\"1\" class=\"dataframe\">\n",
              "  <thead>\n",
              "    <tr style=\"text-align: right;\">\n",
              "      <th></th>\n",
              "      <th>date</th>\n",
              "      <th>gdp</th>\n",
              "    </tr>\n",
              "  </thead>\n",
              "  <tbody>\n",
              "    <tr>\n",
              "      <th>0</th>\n",
              "      <td>2011-01-01</td>\n",
              "      <td>2.043496e+06</td>\n",
              "    </tr>\n",
              "    <tr>\n",
              "      <th>1</th>\n",
              "      <td>2011-04-01</td>\n",
              "      <td>2.029469e+06</td>\n",
              "    </tr>\n",
              "  </tbody>\n",
              "</table>\n",
              "</div>"
            ],
            "text/plain": [
              "         date           gdp\n",
              "0  2011-01-01  2.043496e+06\n",
              "1  2011-04-01  2.029469e+06"
            ]
          },
          "execution_count": 12,
          "metadata": {},
          "output_type": "execute_result"
        }
      ],
      "source": [
        "gdp_df.head(2)"
      ]
    },
    {
      "cell_type": "markdown",
      "metadata": {
        "id": "YyoiwibZt_9h"
      },
      "source": [
        "</br>\n",
        "</br>\n",
        "\n",
        "Now that we have all three series downloaded, we can start merging and transforming the data.\n",
        "\n",
        "Let's merge our `gdp_df` with the `exports_df` and `imports_df` so we can express them as a ratio."
      ]
    },
    {
      "cell_type": "code",
      "execution_count": 13,
      "metadata": {
        "id": "rJ9Q_rvPt_9h",
        "outputId": "0808e644-ef25-4553-db40-ed4f59cf15f1"
      },
      "outputs": [
        {
          "data": {
            "text/html": [
              "<div>\n",
              "<style scoped>\n",
              "    .dataframe tbody tr th:only-of-type {\n",
              "        vertical-align: middle;\n",
              "    }\n",
              "\n",
              "    .dataframe tbody tr th {\n",
              "        vertical-align: top;\n",
              "    }\n",
              "\n",
              "    .dataframe thead th {\n",
              "        text-align: right;\n",
              "    }\n",
              "</style>\n",
              "<table border=\"1\" class=\"dataframe\">\n",
              "  <thead>\n",
              "    <tr style=\"text-align: right;\">\n",
              "      <th></th>\n",
              "      <th>date</th>\n",
              "      <th>exports</th>\n",
              "      <th>gdp</th>\n",
              "    </tr>\n",
              "  </thead>\n",
              "  <tbody>\n",
              "    <tr>\n",
              "      <th>40</th>\n",
              "      <td>2021-04-01</td>\n",
              "      <td>1128349.43</td>\n",
              "      <td>5.627315e+06</td>\n",
              "    </tr>\n",
              "    <tr>\n",
              "      <th>41</th>\n",
              "      <td>2021-07-01</td>\n",
              "      <td>1225739.20</td>\n",
              "      <td>6.268323e+06</td>\n",
              "    </tr>\n",
              "    <tr>\n",
              "      <th>42</th>\n",
              "      <td>2021-10-01</td>\n",
              "      <td>1312634.89</td>\n",
              "      <td>6.523591e+06</td>\n",
              "    </tr>\n",
              "    <tr>\n",
              "      <th>43</th>\n",
              "      <td>2022-01-01</td>\n",
              "      <td>1397161.93</td>\n",
              "      <td>6.499562e+06</td>\n",
              "    </tr>\n",
              "    <tr>\n",
              "      <th>44</th>\n",
              "      <td>2022-04-01</td>\n",
              "      <td>1463323.34</td>\n",
              "      <td>6.468804e+06</td>\n",
              "    </tr>\n",
              "  </tbody>\n",
              "</table>\n",
              "</div>"
            ],
            "text/plain": [
              "          date     exports           gdp\n",
              "40  2021-04-01  1128349.43  5.627315e+06\n",
              "41  2021-07-01  1225739.20  6.268323e+06\n",
              "42  2021-10-01  1312634.89  6.523591e+06\n",
              "43  2022-01-01  1397161.93  6.499562e+06\n",
              "44  2022-04-01  1463323.34  6.468804e+06"
            ]
          },
          "execution_count": 13,
          "metadata": {},
          "output_type": "execute_result"
        }
      ],
      "source": [
        "exports_ratio_df = exports_df.merge(gdp_df, on=\"date\")\n",
        "exports_ratio_df.tail(5)"
      ]
    },
    {
      "cell_type": "markdown",
      "metadata": {
        "id": "XBzuGVgSt_9h"
      },
      "source": [
        "</br>\n",
        "</br>\n",
        "\n",
        "Let's now divide the `exports` column by the `gdp` column to get the Ratio and keep only the result and the `date`."
      ]
    },
    {
      "cell_type": "code",
      "execution_count": 14,
      "metadata": {
        "id": "5K8FoYdxt_9h",
        "outputId": "6b35d5fe-9daf-4a01-c917-d3a37b278780"
      },
      "outputs": [
        {
          "data": {
            "text/html": [
              "<div>\n",
              "<style scoped>\n",
              "    .dataframe tbody tr th:only-of-type {\n",
              "        vertical-align: middle;\n",
              "    }\n",
              "\n",
              "    .dataframe tbody tr th {\n",
              "        vertical-align: top;\n",
              "    }\n",
              "\n",
              "    .dataframe thead th {\n",
              "        text-align: right;\n",
              "    }\n",
              "</style>\n",
              "<table border=\"1\" class=\"dataframe\">\n",
              "  <thead>\n",
              "    <tr style=\"text-align: right;\">\n",
              "      <th></th>\n",
              "      <th>date</th>\n",
              "      <th>Exports Ratio</th>\n",
              "    </tr>\n",
              "  </thead>\n",
              "  <tbody>\n",
              "    <tr>\n",
              "      <th>0</th>\n",
              "      <td>2011-04-01</td>\n",
              "      <td>0.242958</td>\n",
              "    </tr>\n",
              "    <tr>\n",
              "      <th>1</th>\n",
              "      <td>2011-07-01</td>\n",
              "      <td>0.224486</td>\n",
              "    </tr>\n",
              "    <tr>\n",
              "      <th>2</th>\n",
              "      <td>2011-10-01</td>\n",
              "      <td>0.230718</td>\n",
              "    </tr>\n",
              "    <tr>\n",
              "      <th>3</th>\n",
              "      <td>2012-01-01</td>\n",
              "      <td>0.254593</td>\n",
              "    </tr>\n",
              "    <tr>\n",
              "      <th>4</th>\n",
              "      <td>2012-04-01</td>\n",
              "      <td>0.235751</td>\n",
              "    </tr>\n",
              "  </tbody>\n",
              "</table>\n",
              "</div>"
            ],
            "text/plain": [
              "         date  Exports Ratio\n",
              "0  2011-04-01       0.242958\n",
              "1  2011-07-01       0.224486\n",
              "2  2011-10-01       0.230718\n",
              "3  2012-01-01       0.254593\n",
              "4  2012-04-01       0.235751"
            ]
          },
          "execution_count": 14,
          "metadata": {},
          "output_type": "execute_result"
        }
      ],
      "source": [
        "exports_ratio_df['Exports Ratio'] = exports_ratio_df['exports'] / exports_ratio_df['gdp'] # Divide exports by GDP to get the ratio\n",
        "exports_ratio_df = exports_ratio_df[['date', 'Exports Ratio']] # Select only the date and Exports Ratio columns\n",
        "exports_ratio_df.head(5)"
      ]
    },
    {
      "cell_type": "markdown",
      "metadata": {
        "id": "1vWzAgUwt_9h"
      },
      "source": [
        "</br>\n",
        "</br>\n",
        "</br>\n",
        "\n",
        "We'll also do the same to the `imports_df`:"
      ]
    },
    {
      "cell_type": "code",
      "execution_count": 15,
      "metadata": {
        "id": "6cFth0_Lt_9h",
        "outputId": "aeef6d29-c164-4bfb-92ec-7256ac72cfc9"
      },
      "outputs": [
        {
          "data": {
            "text/html": [
              "<div>\n",
              "<style scoped>\n",
              "    .dataframe tbody tr th:only-of-type {\n",
              "        vertical-align: middle;\n",
              "    }\n",
              "\n",
              "    .dataframe tbody tr th {\n",
              "        vertical-align: top;\n",
              "    }\n",
              "\n",
              "    .dataframe thead th {\n",
              "        text-align: right;\n",
              "    }\n",
              "</style>\n",
              "<table border=\"1\" class=\"dataframe\">\n",
              "  <thead>\n",
              "    <tr style=\"text-align: right;\">\n",
              "      <th></th>\n",
              "      <th>date</th>\n",
              "      <th>Imports Ratio</th>\n",
              "    </tr>\n",
              "  </thead>\n",
              "  <tbody>\n",
              "    <tr>\n",
              "      <th>0</th>\n",
              "      <td>2011-04-01</td>\n",
              "      <td>0.308571</td>\n",
              "    </tr>\n",
              "    <tr>\n",
              "      <th>1</th>\n",
              "      <td>2011-07-01</td>\n",
              "      <td>0.283714</td>\n",
              "    </tr>\n",
              "    <tr>\n",
              "      <th>2</th>\n",
              "      <td>2011-10-01</td>\n",
              "      <td>0.297630</td>\n",
              "    </tr>\n",
              "    <tr>\n",
              "      <th>3</th>\n",
              "      <td>2012-01-01</td>\n",
              "      <td>0.316704</td>\n",
              "    </tr>\n",
              "    <tr>\n",
              "      <th>4</th>\n",
              "      <td>2012-04-01</td>\n",
              "      <td>0.303726</td>\n",
              "    </tr>\n",
              "  </tbody>\n",
              "</table>\n",
              "</div>"
            ],
            "text/plain": [
              "         date  Imports Ratio\n",
              "0  2011-04-01       0.308571\n",
              "1  2011-07-01       0.283714\n",
              "2  2011-10-01       0.297630\n",
              "3  2012-01-01       0.316704\n",
              "4  2012-04-01       0.303726"
            ]
          },
          "execution_count": 15,
          "metadata": {},
          "output_type": "execute_result"
        }
      ],
      "source": [
        "imports_ratio_df = imports_df.merge(gdp_df, on=\"date\") # Merge imports and GDP DataFrames on the date column\n",
        "imports_ratio_df['Imports Ratio'] = imports_ratio_df['imports'] / imports_ratio_df['gdp'] # Divide imports by GDP to get the ratio\n",
        "imports_ratio_df = imports_ratio_df[['date', 'Imports Ratio']] # Select only the date and Imports Ratio columns\n",
        "imports_ratio_df.head(5)"
      ]
    },
    {
      "cell_type": "markdown",
      "metadata": {
        "id": "h4ZHyZPwt_9h"
      },
      "source": [
        "<br/><br/>\n",
        "\n",
        "We now have all the data we need in two dataframes: `exports_ratio_df` and `imports_ratio_df`.\n",
        "\n",
        "To use these in a graph, we'll need them in one dataframe."
      ]
    },
    {
      "cell_type": "code",
      "execution_count": 16,
      "metadata": {
        "id": "BS98GJpyt_9h",
        "outputId": "79d40385-8af0-4dde-cb95-a7b716cb52c6"
      },
      "outputs": [
        {
          "data": {
            "text/html": [
              "<div>\n",
              "<style scoped>\n",
              "    .dataframe tbody tr th:only-of-type {\n",
              "        vertical-align: middle;\n",
              "    }\n",
              "\n",
              "    .dataframe tbody tr th {\n",
              "        vertical-align: top;\n",
              "    }\n",
              "\n",
              "    .dataframe thead th {\n",
              "        text-align: right;\n",
              "    }\n",
              "</style>\n",
              "<table border=\"1\" class=\"dataframe\">\n",
              "  <thead>\n",
              "    <tr style=\"text-align: right;\">\n",
              "      <th></th>\n",
              "      <th>date</th>\n",
              "      <th>Exports Ratio</th>\n",
              "      <th>Imports Ratio</th>\n",
              "    </tr>\n",
              "  </thead>\n",
              "  <tbody>\n",
              "    <tr>\n",
              "      <th>0</th>\n",
              "      <td>2011-04-01</td>\n",
              "      <td>0.242958</td>\n",
              "      <td>0.308571</td>\n",
              "    </tr>\n",
              "    <tr>\n",
              "      <th>1</th>\n",
              "      <td>2011-07-01</td>\n",
              "      <td>0.224486</td>\n",
              "      <td>0.283714</td>\n",
              "    </tr>\n",
              "    <tr>\n",
              "      <th>2</th>\n",
              "      <td>2011-10-01</td>\n",
              "      <td>0.230718</td>\n",
              "      <td>0.297630</td>\n",
              "    </tr>\n",
              "    <tr>\n",
              "      <th>3</th>\n",
              "      <td>2012-01-01</td>\n",
              "      <td>0.254593</td>\n",
              "      <td>0.316704</td>\n",
              "    </tr>\n",
              "    <tr>\n",
              "      <th>4</th>\n",
              "      <td>2012-04-01</td>\n",
              "      <td>0.235751</td>\n",
              "      <td>0.303726</td>\n",
              "    </tr>\n",
              "  </tbody>\n",
              "</table>\n",
              "</div>"
            ],
            "text/plain": [
              "         date  Exports Ratio  Imports Ratio\n",
              "0  2011-04-01       0.242958       0.308571\n",
              "1  2011-07-01       0.224486       0.283714\n",
              "2  2011-10-01       0.230718       0.297630\n",
              "3  2012-01-01       0.254593       0.316704\n",
              "4  2012-04-01       0.235751       0.303726"
            ]
          },
          "execution_count": 16,
          "metadata": {},
          "output_type": "execute_result"
        }
      ],
      "source": [
        "trade_df = pd.merge(exports_ratio_df, imports_ratio_df, on=\"date\") # Merge the exports and imports DataFrames on the date column\n",
        "trade_df.head(5)"
      ]
    },
    {
      "cell_type": "markdown",
      "metadata": {
        "id": "s3bUyN1qt_9h"
      },
      "source": [
        "</br></br>\n",
        "\n",
        "It's best practice for `Vega-lite` to keep data in a TIDY format where there are columns that specify the series and a column for the data. To tranform our data, we'll use the pandad function `melt`."
      ]
    },
    {
      "cell_type": "code",
      "execution_count": 17,
      "metadata": {
        "id": "4ni2bnvkt_9h",
        "outputId": "ab047f71-5ba6-404f-be42-8891c1a3871c"
      },
      "outputs": [
        {
          "data": {
            "text/html": [
              "<div>\n",
              "<style scoped>\n",
              "    .dataframe tbody tr th:only-of-type {\n",
              "        vertical-align: middle;\n",
              "    }\n",
              "\n",
              "    .dataframe tbody tr th {\n",
              "        vertical-align: top;\n",
              "    }\n",
              "\n",
              "    .dataframe thead th {\n",
              "        text-align: right;\n",
              "    }\n",
              "</style>\n",
              "<table border=\"1\" class=\"dataframe\">\n",
              "  <thead>\n",
              "    <tr style=\"text-align: right;\">\n",
              "      <th></th>\n",
              "      <th>date</th>\n",
              "      <th>series</th>\n",
              "      <th>value</th>\n",
              "    </tr>\n",
              "  </thead>\n",
              "  <tbody>\n",
              "    <tr>\n",
              "      <th>0</th>\n",
              "      <td>2011-04-01</td>\n",
              "      <td>Exports Ratio</td>\n",
              "      <td>0.242958</td>\n",
              "    </tr>\n",
              "    <tr>\n",
              "      <th>1</th>\n",
              "      <td>2011-07-01</td>\n",
              "      <td>Exports Ratio</td>\n",
              "      <td>0.224486</td>\n",
              "    </tr>\n",
              "    <tr>\n",
              "      <th>2</th>\n",
              "      <td>2011-10-01</td>\n",
              "      <td>Exports Ratio</td>\n",
              "      <td>0.230718</td>\n",
              "    </tr>\n",
              "    <tr>\n",
              "      <th>3</th>\n",
              "      <td>2012-01-01</td>\n",
              "      <td>Exports Ratio</td>\n",
              "      <td>0.254593</td>\n",
              "    </tr>\n",
              "    <tr>\n",
              "      <th>4</th>\n",
              "      <td>2012-04-01</td>\n",
              "      <td>Exports Ratio</td>\n",
              "      <td>0.235751</td>\n",
              "    </tr>\n",
              "    <tr>\n",
              "      <th>...</th>\n",
              "      <td>...</td>\n",
              "      <td>...</td>\n",
              "      <td>...</td>\n",
              "    </tr>\n",
              "    <tr>\n",
              "      <th>85</th>\n",
              "      <td>2021-04-01</td>\n",
              "      <td>Imports Ratio</td>\n",
              "      <td>0.205880</td>\n",
              "    </tr>\n",
              "    <tr>\n",
              "      <th>86</th>\n",
              "      <td>2021-07-01</td>\n",
              "      <td>Imports Ratio</td>\n",
              "      <td>0.216721</td>\n",
              "    </tr>\n",
              "    <tr>\n",
              "      <th>87</th>\n",
              "      <td>2021-10-01</td>\n",
              "      <td>Imports Ratio</td>\n",
              "      <td>0.237311</td>\n",
              "    </tr>\n",
              "    <tr>\n",
              "      <th>88</th>\n",
              "      <td>2022-01-01</td>\n",
              "      <td>Imports Ratio</td>\n",
              "      <td>0.244439</td>\n",
              "    </tr>\n",
              "    <tr>\n",
              "      <th>89</th>\n",
              "      <td>2022-04-01</td>\n",
              "      <td>Imports Ratio</td>\n",
              "      <td>0.279356</td>\n",
              "    </tr>\n",
              "  </tbody>\n",
              "</table>\n",
              "<p>90 rows × 3 columns</p>\n",
              "</div>"
            ],
            "text/plain": [
              "          date         series     value\n",
              "0   2011-04-01  Exports Ratio  0.242958\n",
              "1   2011-07-01  Exports Ratio  0.224486\n",
              "2   2011-10-01  Exports Ratio  0.230718\n",
              "3   2012-01-01  Exports Ratio  0.254593\n",
              "4   2012-04-01  Exports Ratio  0.235751\n",
              "..         ...            ...       ...\n",
              "85  2021-04-01  Imports Ratio  0.205880\n",
              "86  2021-07-01  Imports Ratio  0.216721\n",
              "87  2021-10-01  Imports Ratio  0.237311\n",
              "88  2022-01-01  Imports Ratio  0.244439\n",
              "89  2022-04-01  Imports Ratio  0.279356\n",
              "\n",
              "[90 rows x 3 columns]"
            ]
          },
          "execution_count": 17,
          "metadata": {},
          "output_type": "execute_result"
        }
      ],
      "source": [
        "trade_df = trade_df.melt(id_vars=\"date\", var_name=\"series\", value_name=\"value\") # Melt the DataFrame so that the exports and imports ratios are in the same column,\n",
        "                                                                                # Specifying we want columns of date and series\n",
        "trade_df"
      ]
    },
    {
      "cell_type": "markdown",
      "metadata": {
        "id": "Mg_WXUiwt_9h"
      },
      "source": [
        "</br>\n",
        "</br>\n",
        "\n",
        "We can now export this data to use in `Vega-lite`."
      ]
    },
    {
      "cell_type": "code",
      "execution_count": 18,
      "metadata": {
        "id": "8c0F0xx4t_9i"
      },
      "outputs": [],
      "source": [
        "trade_df.to_csv(\"indian_trade_data.csv\", index=False)"
      ]
    },
    {
      "cell_type": "markdown",
      "metadata": {
        "id": "25M-35Uat_9i"
      },
      "source": [
        "</br></br>\n",
        "\n",
        "Finally, to get the CSV onto GitHub from Colab. We just have to go to the Files tab in the sidebar, and find our file:\n",
        "\n",
        "<img\n",
        "style=\"max-height: 350px;\n",
        "    width: auto;\" src=\"https://raw.githubusercontent.com/jhellingsdata/RADataHub/main/misc/Masterclass/section%205/images/colab_download.png\">\n",
        "</img>"
      ]
    },
    {
      "cell_type": "markdown",
      "metadata": {
        "id": "OR0Kus-8t_9i"
      },
      "source": [
        "Hit download, then you can add this to your VSCode and upload to GitHub."
      ]
    },
    {
      "cell_type": "markdown",
      "metadata": {},
      "source": []
    }
  ],
  "metadata": {
    "colab": {
      "provenance": []
    },
    "kernelspec": {
      "display_name": "base",
      "language": "python",
      "name": "python3"
    },
    "language_info": {
      "codemirror_mode": {
        "name": "ipython",
        "version": 3
      },
      "file_extension": ".py",
      "mimetype": "text/x-python",
      "name": "python",
      "nbconvert_exporter": "python",
      "pygments_lexer": "ipython3",
      "version": "3.11.9"
    }
  },
  "nbformat": 4,
  "nbformat_minor": 0
}
