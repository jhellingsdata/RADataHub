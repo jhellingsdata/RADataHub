{
  "cells": [
    {
      "attachments": {},
      "cell_type": "markdown",
      "metadata": {},
      "source": [
        "[![Binder](http://mybinder.org/badge_logo.svg)](https://mybinder.org/v2/gh/EconomicsObservatory/courses/HEAD?labpath=5%2Fs5_Scraping_Bonus.ipynb)\n",
        "\n",
        "<a href=\"https://colab.research.google.com/github/EconomicsObservatory/courses/blob/main/5/s5_Scraping_Bonus.ipynb\" target=\"_blank\"><img src=\"https://colab.research.google.com/assets/colab-badge.svg\" alt=\"Open In Colab\"/></a>"
      ]
    },
    {
      "attachments": {},
      "cell_type": "markdown",
      "metadata": {
        "id": "J4ET3g7l5voG"
      },
      "source": [
        "# Scraping\n",
        "Scraping is the automated extraction of data from websites.\n",
        "\n",
        "This bonus notebook Demonstrates scraping HTML tables using a Wikipedia table of G7 meetings as an example"
      ]
    },
    {
      "attachments": {},
      "cell_type": "markdown",
      "metadata": {
        "id": "Pv1Ivynp5voH"
      },
      "source": [
        "# Data Scraping"
      ]
    },
    {
      "attachments": {},
      "cell_type": "markdown",
      "metadata": {
        "id": "pBAAAzhS5voH"
      },
      "source": [
        "\n",
        "For this example, we will scrape the list of G7 summits from Wikipedia, <a href=\"https://en.wikipedia.org/wiki/G7#List_of_summits\">here</a>. It's a good target because it is:\n",
        "\n",
        "- Available Online\n",
        "- Not available as a clean download (Excel, CSV)\n",
        "\n",
        "<img\n",
        "height=500 src=\"https://raw.githubusercontent.com/jhellingsdata/RADataHub/main/misc/Masterclass/section%205/images/g7_wiki.png\"> </img>\n",
        "\n"
      ]
    },
    {
      "cell_type": "markdown",
      "metadata": {},
      "source": [
        "Before starting, we have to install and import the tool Pandas, which we'll use for scraping and data manipulation"
      ]
    },
    {
      "cell_type": "code",
      "execution_count": null,
      "metadata": {},
      "outputs": [],
      "source": [
        "%pip install pandas"
      ]
    },
    {
      "cell_type": "code",
      "execution_count": 2,
      "metadata": {},
      "outputs": [],
      "source": [
        "import pandas as pd # used for data scraping, and manipulation"
      ]
    },
    {
      "cell_type": "markdown",
      "metadata": {},
      "source": [
        "First we define the URL of web-page we want to scrape from.\n"
      ]
    },
    {
      "cell_type": "code",
      "execution_count": 3,
      "metadata": {
        "id": "7W0cdn535voH"
      },
      "outputs": [],
      "source": [
        "url = \"https://en.wikipedia.org/wiki/G7\" # The URL of the webpage\n",
        "tables_from_webpage = pd.read_html(url) # Read the tables from the webpage into a list of DataFrames"
      ]
    },
    {
      "attachments": {},
      "cell_type": "markdown",
      "metadata": {
        "id": "etB7rOfU5voH"
      },
      "source": [
        "pd.read_html returns a list of dataframes, one for each table on the webpage.\n",
        "We can look through this list one by one by trying tables_from_webpage[0], tables_from_webpage[1], ..."
      ]
    },
    {
      "cell_type": "code",
      "execution_count": 4,
      "metadata": {
        "id": "SeOAla895voH",
        "outputId": "e6b1c032-e7b6-4084-89a1-31b170c5b278"
      },
      "outputs": [
        {
          "data": {
            "text/html": [
              "<div>\n",
              "<style scoped>\n",
              "    .dataframe tbody tr th:only-of-type {\n",
              "        vertical-align: middle;\n",
              "    }\n",
              "\n",
              "    .dataframe tbody tr th {\n",
              "        vertical-align: top;\n",
              "    }\n",
              "\n",
              "    .dataframe thead th {\n",
              "        text-align: right;\n",
              "    }\n",
              "</style>\n",
              "<table border=\"1\" class=\"dataframe\">\n",
              "  <thead>\n",
              "    <tr style=\"text-align: right;\">\n",
              "      <th></th>\n",
              "      <th>#</th>\n",
              "      <th>Date</th>\n",
              "      <th>Host</th>\n",
              "      <th>Host leader</th>\n",
              "      <th>Location held</th>\n",
              "      <th>Notes</th>\n",
              "    </tr>\n",
              "  </thead>\n",
              "  <tbody>\n",
              "    <tr>\n",
              "      <th>0</th>\n",
              "      <td>1st</td>\n",
              "      <td>15–17 November 1975</td>\n",
              "      <td>France</td>\n",
              "      <td>Valéry Giscard d'Estaing</td>\n",
              "      <td>Château de Rambouillet, Yvelines</td>\n",
              "      <td>The first and last G6 summit.</td>\n",
              "    </tr>\n",
              "    <tr>\n",
              "      <th>1</th>\n",
              "      <td>2nd</td>\n",
              "      <td>27–28 June 1976</td>\n",
              "      <td>United States</td>\n",
              "      <td>Gerald R. Ford</td>\n",
              "      <td>Dorado, Puerto Rico[74]</td>\n",
              "      <td>Also called \"Rambouillet II\". Canada joined th...</td>\n",
              "    </tr>\n",
              "    <tr>\n",
              "      <th>2</th>\n",
              "      <td>3rd</td>\n",
              "      <td>7–8 May 1977</td>\n",
              "      <td>United Kingdom</td>\n",
              "      <td>James Callaghan</td>\n",
              "      <td>London, England</td>\n",
              "      <td>The President of the European Commission was i...</td>\n",
              "    </tr>\n",
              "    <tr>\n",
              "      <th>3</th>\n",
              "      <td>4th</td>\n",
              "      <td>16–17 July 1978</td>\n",
              "      <td>West Germany</td>\n",
              "      <td>Helmut Schmidt</td>\n",
              "      <td>Bonn, North Rhine-Westphalia</td>\n",
              "      <td>NaN</td>\n",
              "    </tr>\n",
              "    <tr>\n",
              "      <th>4</th>\n",
              "      <td>5th</td>\n",
              "      <td>28–29 June 1979</td>\n",
              "      <td>Japan</td>\n",
              "      <td>Masayoshi Ōhira</td>\n",
              "      <td>Tokyo</td>\n",
              "      <td>NaN</td>\n",
              "    </tr>\n",
              "    <tr>\n",
              "      <th>5</th>\n",
              "      <td>6th</td>\n",
              "      <td>22–23 June 1980</td>\n",
              "      <td>Italy</td>\n",
              "      <td>Francesco Cossiga</td>\n",
              "      <td>Venice, Veneto</td>\n",
              "      <td>Prime Minister Ōhira died in office on 12 June...</td>\n",
              "    </tr>\n",
              "    <tr>\n",
              "      <th>6</th>\n",
              "      <td>7th</td>\n",
              "      <td>20–21 July 1981</td>\n",
              "      <td>Canada</td>\n",
              "      <td>Pierre E. Trudeau</td>\n",
              "      <td>Montebello, Québec</td>\n",
              "      <td>NaN</td>\n",
              "    </tr>\n",
              "    <tr>\n",
              "      <th>7</th>\n",
              "      <td>8th</td>\n",
              "      <td>4–6 June 1982</td>\n",
              "      <td>France</td>\n",
              "      <td>François Mitterrand</td>\n",
              "      <td>Versailles, Yvelines</td>\n",
              "      <td>NaN</td>\n",
              "    </tr>\n",
              "    <tr>\n",
              "      <th>8</th>\n",
              "      <td>9th</td>\n",
              "      <td>28–30 May 1983</td>\n",
              "      <td>United States</td>\n",
              "      <td>Ronald Reagan</td>\n",
              "      <td>Williamsburg, Virginia</td>\n",
              "      <td>NaN</td>\n",
              "    </tr>\n",
              "    <tr>\n",
              "      <th>9</th>\n",
              "      <td>10th</td>\n",
              "      <td>7–9 June 1984</td>\n",
              "      <td>United Kingdom</td>\n",
              "      <td>Margaret Thatcher</td>\n",
              "      <td>London, England</td>\n",
              "      <td>NaN</td>\n",
              "    </tr>\n",
              "  </tbody>\n",
              "</table>\n",
              "</div>"
            ],
            "text/plain": [
              "      #                 Date            Host               Host leader  \\\n",
              "0   1st  15–17 November 1975          France  Valéry Giscard d'Estaing   \n",
              "1   2nd      27–28 June 1976   United States            Gerald R. Ford   \n",
              "2   3rd         7–8 May 1977  United Kingdom           James Callaghan   \n",
              "3   4th      16–17 July 1978    West Germany            Helmut Schmidt   \n",
              "4   5th      28–29 June 1979           Japan           Masayoshi Ōhira   \n",
              "5   6th      22–23 June 1980           Italy         Francesco Cossiga   \n",
              "6   7th      20–21 July 1981          Canada         Pierre E. Trudeau   \n",
              "7   8th        4–6 June 1982          France       François Mitterrand   \n",
              "8   9th       28–30 May 1983   United States             Ronald Reagan   \n",
              "9  10th        7–9 June 1984  United Kingdom         Margaret Thatcher   \n",
              "\n",
              "                      Location held  \\\n",
              "0  Château de Rambouillet, Yvelines   \n",
              "1           Dorado, Puerto Rico[74]   \n",
              "2                   London, England   \n",
              "3      Bonn, North Rhine-Westphalia   \n",
              "4                             Tokyo   \n",
              "5                    Venice, Veneto   \n",
              "6                Montebello, Québec   \n",
              "7              Versailles, Yvelines   \n",
              "8            Williamsburg, Virginia   \n",
              "9                   London, England   \n",
              "\n",
              "                                               Notes  \n",
              "0                      The first and last G6 summit.  \n",
              "1  Also called \"Rambouillet II\". Canada joined th...  \n",
              "2  The President of the European Commission was i...  \n",
              "3                                                NaN  \n",
              "4                                                NaN  \n",
              "5  Prime Minister Ōhira died in office on 12 June...  \n",
              "6                                                NaN  \n",
              "7                                                NaN  \n",
              "8                                                NaN  \n",
              "9                                                NaN  "
            ]
          },
          "execution_count": 4,
          "metadata": {},
          "output_type": "execute_result"
        }
      ],
      "source": [
        "tables_from_webpage[2].head(10)"
      ]
    },
    {
      "attachments": {},
      "cell_type": "markdown",
      "metadata": {
        "id": "MP9qF9O45voI"
      },
      "source": [
        "Trying tables_from_webpage[0], tables_from_webpage[1] and tables_from_webpage[2], we can see that tables_from_webpage[2] is the table we need.\n",
        "\n",
        "Let's set the variable df equal to this table, for ease of use and take a look at the first few rows with df.head()"
      ]
    },
    {
      "cell_type": "code",
      "execution_count": 5,
      "metadata": {
        "id": "fneQFD1p5voI",
        "outputId": "2756dd7b-07ff-48c1-a515-828e6cf704bd"
      },
      "outputs": [
        {
          "data": {
            "text/html": [
              "<div>\n",
              "<style scoped>\n",
              "    .dataframe tbody tr th:only-of-type {\n",
              "        vertical-align: middle;\n",
              "    }\n",
              "\n",
              "    .dataframe tbody tr th {\n",
              "        vertical-align: top;\n",
              "    }\n",
              "\n",
              "    .dataframe thead th {\n",
              "        text-align: right;\n",
              "    }\n",
              "</style>\n",
              "<table border=\"1\" class=\"dataframe\">\n",
              "  <thead>\n",
              "    <tr style=\"text-align: right;\">\n",
              "      <th></th>\n",
              "      <th>#</th>\n",
              "      <th>Date</th>\n",
              "      <th>Host</th>\n",
              "      <th>Host leader</th>\n",
              "      <th>Location held</th>\n",
              "      <th>Notes</th>\n",
              "    </tr>\n",
              "  </thead>\n",
              "  <tbody>\n",
              "    <tr>\n",
              "      <th>0</th>\n",
              "      <td>1st</td>\n",
              "      <td>15–17 November 1975</td>\n",
              "      <td>France</td>\n",
              "      <td>Valéry Giscard d'Estaing</td>\n",
              "      <td>Château de Rambouillet, Yvelines</td>\n",
              "      <td>The first and last G6 summit.</td>\n",
              "    </tr>\n",
              "    <tr>\n",
              "      <th>1</th>\n",
              "      <td>2nd</td>\n",
              "      <td>27–28 June 1976</td>\n",
              "      <td>United States</td>\n",
              "      <td>Gerald R. Ford</td>\n",
              "      <td>Dorado, Puerto Rico[74]</td>\n",
              "      <td>Also called \"Rambouillet II\". Canada joined th...</td>\n",
              "    </tr>\n",
              "    <tr>\n",
              "      <th>2</th>\n",
              "      <td>3rd</td>\n",
              "      <td>7–8 May 1977</td>\n",
              "      <td>United Kingdom</td>\n",
              "      <td>James Callaghan</td>\n",
              "      <td>London, England</td>\n",
              "      <td>The President of the European Commission was i...</td>\n",
              "    </tr>\n",
              "    <tr>\n",
              "      <th>3</th>\n",
              "      <td>4th</td>\n",
              "      <td>16–17 July 1978</td>\n",
              "      <td>West Germany</td>\n",
              "      <td>Helmut Schmidt</td>\n",
              "      <td>Bonn, North Rhine-Westphalia</td>\n",
              "      <td>NaN</td>\n",
              "    </tr>\n",
              "    <tr>\n",
              "      <th>4</th>\n",
              "      <td>5th</td>\n",
              "      <td>28–29 June 1979</td>\n",
              "      <td>Japan</td>\n",
              "      <td>Masayoshi Ōhira</td>\n",
              "      <td>Tokyo</td>\n",
              "      <td>NaN</td>\n",
              "    </tr>\n",
              "  </tbody>\n",
              "</table>\n",
              "</div>"
            ],
            "text/plain": [
              "     #                 Date            Host               Host leader  \\\n",
              "0  1st  15–17 November 1975          France  Valéry Giscard d'Estaing   \n",
              "1  2nd      27–28 June 1976   United States            Gerald R. Ford   \n",
              "2  3rd         7–8 May 1977  United Kingdom           James Callaghan   \n",
              "3  4th      16–17 July 1978    West Germany            Helmut Schmidt   \n",
              "4  5th      28–29 June 1979           Japan           Masayoshi Ōhira   \n",
              "\n",
              "                      Location held  \\\n",
              "0  Château de Rambouillet, Yvelines   \n",
              "1           Dorado, Puerto Rico[74]   \n",
              "2                   London, England   \n",
              "3      Bonn, North Rhine-Westphalia   \n",
              "4                             Tokyo   \n",
              "\n",
              "                                               Notes  \n",
              "0                      The first and last G6 summit.  \n",
              "1  Also called \"Rambouillet II\". Canada joined th...  \n",
              "2  The President of the European Commission was i...  \n",
              "3                                                NaN  \n",
              "4                                                NaN  "
            ]
          },
          "execution_count": 5,
          "metadata": {},
          "output_type": "execute_result"
        }
      ],
      "source": [
        "df = tables_from_webpage[2]\n",
        "df.head()"
      ]
    },
    {
      "attachments": {},
      "cell_type": "markdown",
      "metadata": {
        "id": "OvLHC8iU5voI"
      },
      "source": [
        "## Manipulating the Data\n",
        "\n",
        "We can now manipulate the data. Let's try and make a chart of number of G7 meetings location.\n",
        "\n",
        "First, let's group by the column 'Location held' and sort for just the most common places."
      ]
    },
    {
      "cell_type": "code",
      "execution_count": 6,
      "metadata": {
        "id": "hGAL3R9y5voI",
        "outputId": "49f3367d-c5b2-4804-ad43-ea7d1c3128b7"
      },
      "outputs": [
        {
          "data": {
            "text/html": [
              "<div>\n",
              "<style scoped>\n",
              "    .dataframe tbody tr th:only-of-type {\n",
              "        vertical-align: middle;\n",
              "    }\n",
              "\n",
              "    .dataframe tbody tr th {\n",
              "        vertical-align: top;\n",
              "    }\n",
              "\n",
              "    .dataframe thead th {\n",
              "        text-align: right;\n",
              "    }\n",
              "</style>\n",
              "<table border=\"1\" class=\"dataframe\">\n",
              "  <thead>\n",
              "    <tr style=\"text-align: right;\">\n",
              "      <th></th>\n",
              "      <th>Count</th>\n",
              "    </tr>\n",
              "    <tr>\n",
              "      <th>Location held</th>\n",
              "      <th></th>\n",
              "    </tr>\n",
              "  </thead>\n",
              "  <tbody>\n",
              "    <tr>\n",
              "      <th>Tokyo</th>\n",
              "      <td>3</td>\n",
              "    </tr>\n",
              "    <tr>\n",
              "      <th>London, England</th>\n",
              "      <td>3</td>\n",
              "    </tr>\n",
              "    <tr>\n",
              "      <th>Bonn, North Rhine-Westphalia</th>\n",
              "      <td>2</td>\n",
              "    </tr>\n",
              "    <tr>\n",
              "      <th>Venice, Veneto</th>\n",
              "      <td>2</td>\n",
              "    </tr>\n",
              "  </tbody>\n",
              "</table>\n",
              "</div>"
            ],
            "text/plain": [
              "                              Count\n",
              "Location held                      \n",
              "Tokyo                             3\n",
              "London, England                   3\n",
              "Bonn, North Rhine-Westphalia      2\n",
              "Venice, Veneto                    2"
            ]
          },
          "execution_count": 6,
          "metadata": {},
          "output_type": "execute_result"
        }
      ],
      "source": [
        "df = tables_from_webpage[2]\n",
        "df = df.groupby('Location held').aggregate({'Host': 'count'}) # Group the data by the 'Location held' column and count the number of occurrences\n",
        "df = df.sort_values(by='Host', ascending=False) # Sort the data by the number of occurrences in descending order\n",
        "df = df[df['Host'] > 1] # Keep only the rows where the number of occurrences is greater than 1\n",
        "df = df.rename(columns={'Host': 'Count'}) # Rename the 'Host' column to 'Count'\n",
        "\n",
        "df"
      ]
    },
    {
      "attachments": {},
      "cell_type": "markdown",
      "metadata": {
        "id": "hcY9LlJh5voI"
      },
      "source": [
        "## Uploading the Data\n",
        "\n",
        "Now let's save our table to upload to GitHub and use in Vega-lite"
      ]
    },
    {
      "cell_type": "code",
      "execution_count": 7,
      "metadata": {
        "id": "259IWde15voI"
      },
      "outputs": [],
      "source": [
        "df.to_csv('g7_summits.csv') # Save the data to a CSV file"
      ]
    },
    {
      "attachments": {},
      "cell_type": "markdown",
      "metadata": {
        "id": "V0s8oEPI7ZbU"
      },
      "source": [
        "Next we have to upload our output (e.g. \"g7_summits.csv\") to GitHub. Got to your own repository and click 'Add file':\n",
        "\n",
        "<img\n",
        "style=\"max-height: 250px;\n",
        "    width: auto;\" src=\"https://raw.githubusercontent.com/jhellingsdata/RADataHub/main/misc/Masterclass/section%205/images/uploading_to_github.png\"> </img>\n",
        "\n",
        "Then find the file and click 'raw'\n",
        "\n",
        "<img\n",
        "style=\"max-height: 250px;\n",
        "    width: auto;\" src=\"https://raw.githubusercontent.com/jhellingsdata/RADataHub/main/misc/Masterclass/section%205/images/getting_raw.png\"> </img>\n",
        "\n",
        "and finally copy the url to use in Vega-lite:\n",
        "\n",
        "<img\n",
        "style=\"max-height: 250px;\n",
        "    width: auto;\" src=\"https://raw.githubusercontent.com/jhellingsdata/RADataHub/main/misc/Masterclass/section%205/images/getting_url.png\"> </img>\n",
        "\n",
        "\n",
        "\n"
      ]
    }
  ],
  "metadata": {
    "colab": {
      "provenance": [],
      "toc_visible": true
    },
    "kernelspec": {
      "display_name": "base",
      "language": "python",
      "name": "python3"
    },
    "language_info": {
      "codemirror_mode": {
        "name": "ipython",
        "version": 3
      },
      "file_extension": ".py",
      "mimetype": "text/x-python",
      "name": "python",
      "nbconvert_exporter": "python",
      "pygments_lexer": "ipython3",
      "version": "3.11.4"
    }
  },
  "nbformat": 4,
  "nbformat_minor": 0
}
