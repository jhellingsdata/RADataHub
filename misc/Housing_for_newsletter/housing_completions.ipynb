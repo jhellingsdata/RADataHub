{
 "cells": [
  {
   "cell_type": "code",
   "execution_count": 23,
   "id": "de00e01e",
   "metadata": {},
   "outputs": [
    {
     "data": {
      "text/plain": [
       "ThemeRegistry.enable('light')"
      ]
     },
     "execution_count": 23,
     "metadata": {},
     "output_type": "execute_result"
    }
   ],
   "source": [
    "import pandas as pd\n",
    "import altair as alt\n",
    "import numpy as np\n",
    "import eco_style\n",
    "alt.themes.enable(\"light\")"
   ]
  },
  {
   "cell_type": "code",
   "execution_count": 30,
   "id": "e07bf32b",
   "metadata": {},
   "outputs": [],
   "source": [
    "df = pd.read_excel(\"ukhousebuilding.xlsx\", sheet_name=\"2a\", skiprows=5)\n",
    "df['date'] = pd.to_datetime(df['Period'].str[:4], format='%Y')\n",
    "\n",
    "df = df[['date', 'Completed - All Dwellings']].rename(columns={'Completed - All Dwellings': 'value'})\n",
    "df = df[['date', 'value']].dropna()\n",
    "df['label'] = ''\n",
    "df.iloc[-1, -1] = 'Housing completions'\n",
    "\n"
   ]
  },
  {
   "cell_type": "code",
   "execution_count": 35,
   "id": "d287d7dd",
   "metadata": {},
   "outputs": [
    {
     "data": {
      "text/html": [
       "\n",
       "<style>\n",
       "  #altair-viz-a2f6cfa18b4e43e68b4d4cc2948e553c.vega-embed {\n",
       "    width: 100%;\n",
       "    display: flex;\n",
       "  }\n",
       "\n",
       "  #altair-viz-a2f6cfa18b4e43e68b4d4cc2948e553c.vega-embed details,\n",
       "  #altair-viz-a2f6cfa18b4e43e68b4d4cc2948e553c.vega-embed details summary {\n",
       "    position: relative;\n",
       "  }\n",
       "</style>\n",
       "<div id=\"altair-viz-a2f6cfa18b4e43e68b4d4cc2948e553c\"></div>\n",
       "<script type=\"text/javascript\">\n",
       "  var VEGA_DEBUG = (typeof VEGA_DEBUG == \"undefined\") ? {} : VEGA_DEBUG;\n",
       "  (function(spec, embedOpt){\n",
       "    let outputDiv = document.currentScript.previousElementSibling;\n",
       "    if (outputDiv.id !== \"altair-viz-a2f6cfa18b4e43e68b4d4cc2948e553c\") {\n",
       "      outputDiv = document.getElementById(\"altair-viz-a2f6cfa18b4e43e68b4d4cc2948e553c\");\n",
       "    }\n",
       "\n",
       "    const paths = {\n",
       "      \"vega\": \"https://cdn.jsdelivr.net/npm/vega@5?noext\",\n",
       "      \"vega-lib\": \"https://cdn.jsdelivr.net/npm/vega-lib?noext\",\n",
       "      \"vega-lite\": \"https://cdn.jsdelivr.net/npm/vega-lite@5.20.1?noext\",\n",
       "      \"vega-embed\": \"https://cdn.jsdelivr.net/npm/vega-embed@6?noext\",\n",
       "    };\n",
       "\n",
       "    function maybeLoadScript(lib, version) {\n",
       "      var key = `${lib.replace(\"-\", \"\")}_version`;\n",
       "      return (VEGA_DEBUG[key] == version) ?\n",
       "        Promise.resolve(paths[lib]) :\n",
       "        new Promise(function(resolve, reject) {\n",
       "          var s = document.createElement('script');\n",
       "          document.getElementsByTagName(\"head\")[0].appendChild(s);\n",
       "          s.async = true;\n",
       "          s.onload = () => {\n",
       "            VEGA_DEBUG[key] = version;\n",
       "            return resolve(paths[lib]);\n",
       "          };\n",
       "          s.onerror = () => reject(`Error loading script: ${paths[lib]}`);\n",
       "          s.src = paths[lib];\n",
       "        });\n",
       "    }\n",
       "\n",
       "    function showError(err) {\n",
       "      outputDiv.innerHTML = `<div class=\"error\" style=\"color:red;\">${err}</div>`;\n",
       "      throw err;\n",
       "    }\n",
       "\n",
       "    function displayChart(vegaEmbed) {\n",
       "      vegaEmbed(outputDiv, spec, embedOpt)\n",
       "        .catch(err => showError(`Javascript Error: ${err.message}<br>This usually means there's a typo in your chart specification. See the javascript console for the full traceback.`));\n",
       "    }\n",
       "\n",
       "    if(typeof define === \"function\" && define.amd) {\n",
       "      requirejs.config({paths});\n",
       "      let deps = [\"vega-embed\"];\n",
       "      require(deps, displayChart, err => showError(`Error loading script: ${err.message}`));\n",
       "    } else {\n",
       "      maybeLoadScript(\"vega\", \"5\")\n",
       "        .then(() => maybeLoadScript(\"vega-lite\", \"5.20.1\"))\n",
       "        .then(() => maybeLoadScript(\"vega-embed\", \"6\"))\n",
       "        .catch(showError)\n",
       "        .then(() => displayChart(vegaEmbed));\n",
       "    }\n",
       "  })({\"config\": {\"font\": \"Circular Std\", \"mark\": {\"line\": {\"interpolate\": \"monotone\"}}, \"view\": {\"stroke\": \"transparent\", \"width\": 400, \"height\": 300}, \"range\": {\"category\": [\"#36B7B4\", \"#E6224B\", \"#F4C245\", \"#0063AF\", \"#00A767\", \"#179FDB\", \"#EB5C2E\"], \"diverging\": [\"#E6224B\", \"#E54753\", \"#C9C9C9\", \"#179FDB\", \"#122B39\"], \"heatmap\": [\"#C9C9C9\", \"#179FDB\", \"#0063AF\", \"#122B39\"], \"ordinal\": [\"#00A767\", \"#36B7B4\", \"#179FDB\", \"#0063AF\", \"#243B5A\"]}, \"axisX\": {\"domainColor\": \"#676A86\", \"domainOpacity\": 0.5, \"grid\": false, \"labelAngle\": 0, \"labelColor\": \"#676A86\", \"labelOpacity\": 0.7, \"orient\": \"bottom\", \"tickColor\": \"#676A86\", \"tickCount\": 10, \"tickOpacity\": 0.5, \"title\": false, \"titleAlign\": \"center\", \"titleAnchor\": \"middle\", \"titleColor\": \"#676A86\", \"titleFontSize\": 12, \"titleOpacity\": 0.8, \"titleY\": -15}, \"axisY\": {\"domainColor\": \"#676A86\", \"domainOpacity\": 0.5, \"gridColor\": \"#676A86\", \"gridDash\": [1, 5], \"gridOpacity\": 0.5, \"labelColor\": \"#676A86\", \"labelOpacity\": 0.7, \"labelPadding\": 5, \"tickColor\": \"#676A86\", \"tickCount\": 8, \"tickOpacity\": 0.5, \"ticks\": false, \"titleAlign\": \"left\", \"titleAngle\": 0, \"titleBaseline\": \"bottom\", \"titleColor\": \"#676A86\", \"titleFontSize\": 12, \"titleOpacity\": 0.8, \"titleX\": 0, \"titleY\": -7}}, \"layer\": [{\"mark\": {\"type\": \"line\", \"color\": \"#36B7B4\"}, \"encoding\": {\"tooltip\": [{\"field\": \"date\", \"type\": \"temporal\"}, {\"field\": \"value\", \"type\": \"quantitative\"}], \"x\": {\"field\": \"date\", \"title\": \"\", \"type\": \"temporal\"}, \"y\": {\"axis\": {\"labelExpr\": \"datum.label + (datum.value == 400000 ? ' dwellings' : '')\"}, \"field\": \"value\", \"title\": \"\", \"type\": \"quantitative\"}}}, {\"mark\": {\"type\": \"text\", \"align\": \"left\", \"baseline\": \"middle\", \"color\": \"#36B7B4\", \"dx\": 5, \"fontSize\": 12}, \"encoding\": {\"text\": {\"field\": \"label\", \"type\": \"nominal\"}, \"tooltip\": [{\"field\": \"date\", \"type\": \"temporal\"}, {\"field\": \"value\", \"type\": \"quantitative\"}], \"x\": {\"field\": \"date\", \"title\": \"\", \"type\": \"temporal\"}, \"y\": {\"axis\": {\"labelExpr\": \"datum.label + (datum.value == 400000 ? ' dwellings' : '')\"}, \"field\": \"value\", \"title\": \"\", \"type\": \"quantitative\"}}}], \"data\": {\"name\": \"data-18952e10032121a659a5530b6cd318d5\"}, \"height\": 350, \"width\": 500, \"$schema\": \"https://vega.github.io/schema/vega-lite/v5.20.1.json\", \"datasets\": {\"data-18952e10032121a659a5530b6cd318d5\": [{\"date\": \"1969-01-01T00:00:00\", \"value\": 378320, \"label\": \"\"}, {\"date\": \"1970-01-01T00:00:00\", \"value\": 362220, \"label\": \"\"}, {\"date\": \"1971-01-01T00:00:00\", \"value\": 364480, \"label\": \"\"}, {\"date\": \"1972-01-01T00:00:00\", \"value\": 330930, \"label\": \"\"}, {\"date\": \"1973-01-01T00:00:00\", \"value\": 304630, \"label\": \"\"}, {\"date\": \"1974-01-01T00:00:00\", \"value\": 280200, \"label\": \"\"}, {\"date\": \"1975-01-01T00:00:00\", \"value\": 321350, \"label\": \"\"}, {\"date\": \"1976-01-01T00:00:00\", \"value\": 324380, \"label\": \"\"}, {\"date\": \"1977-01-01T00:00:00\", \"value\": 314310, \"label\": \"\"}, {\"date\": \"1978-01-01T00:00:00\", \"value\": 287850, \"label\": \"\"}, {\"date\": \"1979-01-01T00:00:00\", \"value\": 251930, \"label\": \"\"}, {\"date\": \"1980-01-01T00:00:00\", \"value\": 241820, \"label\": \"\"}, {\"date\": \"1981-01-01T00:00:00\", \"value\": 204860, \"label\": \"\"}, {\"date\": \"1982-01-01T00:00:00\", \"value\": 182960, \"label\": \"\"}, {\"date\": \"1983-01-01T00:00:00\", \"value\": 209690, \"label\": \"\"}, {\"date\": \"1984-01-01T00:00:00\", \"value\": 219910, \"label\": \"\"}, {\"date\": \"1985-01-01T00:00:00\", \"value\": 207030, \"label\": \"\"}, {\"date\": \"1986-01-01T00:00:00\", \"value\": 215100, \"label\": \"\"}, {\"date\": \"1987-01-01T00:00:00\", \"value\": 226880, \"label\": \"\"}, {\"date\": \"1988-01-01T00:00:00\", \"value\": 242920, \"label\": \"\"}, {\"date\": \"1989-01-01T00:00:00\", \"value\": 220850, \"label\": \"\"}, {\"date\": \"1990-01-01T00:00:00\", \"value\": 197210, \"label\": \"\"}, {\"date\": \"1991-01-01T00:00:00\", \"value\": 191240, \"label\": \"\"}, {\"date\": \"1992-01-01T00:00:00\", \"value\": 178410, \"label\": \"\"}, {\"date\": \"1993-01-01T00:00:00\", \"value\": 186850, \"label\": \"\"}, {\"date\": \"1994-01-01T00:00:00\", \"value\": 195590, \"label\": \"\"}, {\"date\": \"1995-01-01T00:00:00\", \"value\": 197710, \"label\": \"\"}, {\"date\": \"1996-01-01T00:00:00\", \"value\": 185940, \"label\": \"\"}, {\"date\": \"1997-01-01T00:00:00\", \"value\": 190760, \"label\": \"\"}, {\"date\": \"1998-01-01T00:00:00\", \"value\": 178290, \"label\": \"\"}, {\"date\": \"1999-01-01T00:00:00\", \"value\": 184010, \"label\": \"\"}, {\"date\": \"2000-01-01T00:00:00\", \"value\": 175380, \"label\": \"\"}, {\"date\": \"2001-01-01T00:00:00\", \"value\": 174200, \"label\": \"\"}, {\"date\": \"2002-01-01T00:00:00\", \"value\": 183220, \"label\": \"\"}, {\"date\": \"2003-01-01T00:00:00\", \"value\": 190590, \"label\": \"\"}, {\"date\": \"2004-01-01T00:00:00\", \"value\": 205400, \"label\": \"\"}, {\"date\": \"2005-01-01T00:00:00\", \"value\": 210320, \"label\": \"\"}, {\"date\": \"2006-01-01T00:00:00\", \"value\": 215220, \"label\": \"\"}, {\"date\": \"2007-01-01T00:00:00\", \"value\": 215860, \"label\": \"\"}, {\"date\": \"2008-01-01T00:00:00\", \"value\": 178570, \"label\": \"\"}, {\"date\": \"2009-01-01T00:00:00\", \"value\": 151230, \"label\": \"\"}, {\"date\": \"2010-01-01T00:00:00\", \"value\": 136020, \"label\": \"\"}, {\"date\": \"2011-01-01T00:00:00\", \"value\": 145930, \"label\": \"\"}, {\"date\": \"2012-01-01T00:00:00\", \"value\": 133160, \"label\": \"\"}, {\"date\": \"2013-01-01T00:00:00\", \"value\": 138650, \"label\": \"\"}, {\"date\": \"2014-01-01T00:00:00\", \"value\": 153020, \"label\": \"\"}, {\"date\": \"2015-01-01T00:00:00\", \"value\": 169380, \"label\": \"\"}, {\"date\": \"2016-01-01T00:00:00\", \"value\": 178030, \"label\": \"\"}, {\"date\": \"2017-01-01T00:00:00\", \"value\": 192230, \"label\": \"\"}, {\"date\": \"2018-01-01T00:00:00\", \"value\": 203870, \"label\": \"\"}, {\"date\": \"2019-01-01T00:00:00\", \"value\": 210900, \"label\": \"\"}, {\"date\": \"2020-01-01T00:00:00\", \"value\": 181600, \"label\": \"\"}, {\"date\": \"2021-01-01T00:00:00\", \"value\": 205150, \"label\": \"\"}, {\"date\": \"2022-01-01T00:00:00\", \"value\": 210810, \"label\": \"\"}, {\"date\": \"2023-01-01T00:00:00\", \"value\": 190520, \"label\": \"Housing completions\"}]}}, {\"mode\": \"vega-lite\"});\n",
       "</script>"
      ],
      "text/plain": [
       "alt.LayerChart(...)"
      ]
     },
     "execution_count": 35,
     "metadata": {},
     "output_type": "execute_result"
    }
   ],
   "source": [
    "\n",
    "\n",
    "base = alt.Chart(df).mark_line().encode(\n",
    "    x=alt.X('date:T', title=''),\n",
    "    y=alt.Y('value:Q', title='', axis=alt.Axis(\n",
    "        labelExpr=\"datum.label + (datum.value == 400000 ? ' dwellings' : '')\",\n",
    "    )),\n",
    "    tooltip=['date:T', 'value:Q']\n",
    ")\n",
    "\n",
    "line = base.mark_line(\n",
    "    color=\"#36B7B4\"\n",
    ")\n",
    "\n",
    "end_label = base.mark_text(\n",
    "    color=\"#36B7B4\",\n",
    "    align='left',\n",
    "    baseline='middle',\n",
    "    dx=5,\n",
    "    fontSize=12\n",
    ").encode(\n",
    "    text='label:N',\n",
    ")\n",
    "\n",
    "chart = line+end_label\n",
    "chart = chart.properties(\n",
    "    width=500,\n",
    "    height=350\n",
    ")\n",
    "\n",
    "chart.save('ukhousebuilding.json', format='json')\n",
    "chart.save('ukhousebuilding.png', format='png', scale_factor=3)\n",
    "chart"
   ]
  }
 ],
 "metadata": {
  "kernelspec": {
   "display_name": "base",
   "language": "python",
   "name": "python3"
  },
  "language_info": {
   "codemirror_mode": {
    "name": "ipython",
    "version": 3
   },
   "file_extension": ".py",
   "mimetype": "text/x-python",
   "name": "python",
   "nbconvert_exporter": "python",
   "pygments_lexer": "ipython3",
   "version": "3.11.4"
  }
 },
 "nbformat": 4,
 "nbformat_minor": 5
}
